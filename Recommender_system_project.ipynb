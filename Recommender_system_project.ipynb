{
  "nbformat": 4,
  "nbformat_minor": 0,
  "metadata": {
    "colab": {
      "name": "Recommender_system_project.ipynb",
      "provenance": [],
      "collapsed_sections": [],
      "machine_shape": "hm"
    },
    "kernelspec": {
      "name": "python3",
      "display_name": "Python 3"
    },
    "language_info": {
      "name": "python"
    },
    "widgets": {
      "application/vnd.jupyter.widget-state+json": {
        "81b3a178ebca41fb85adef6ebed6e81d": {
          "model_module": "@jupyter-widgets/controls",
          "model_name": "HBoxModel",
          "state": {
            "_view_name": "HBoxView",
            "_dom_classes": [],
            "_model_name": "HBoxModel",
            "_view_module": "@jupyter-widgets/controls",
            "_model_module_version": "1.5.0",
            "_view_count": null,
            "_view_module_version": "1.5.0",
            "box_style": "",
            "layout": "IPY_MODEL_935fe6b3c81844288545eece4440e63b",
            "_model_module": "@jupyter-widgets/controls",
            "children": [
              "IPY_MODEL_014251f8c44442f8bb2bd5012a6001bb",
              "IPY_MODEL_0ff90f0284a24da0b64e3ae7ebf84777"
            ]
          }
        },
        "935fe6b3c81844288545eece4440e63b": {
          "model_module": "@jupyter-widgets/base",
          "model_name": "LayoutModel",
          "state": {
            "_view_name": "LayoutView",
            "grid_template_rows": null,
            "right": null,
            "justify_content": null,
            "_view_module": "@jupyter-widgets/base",
            "overflow": null,
            "_model_module_version": "1.2.0",
            "_view_count": null,
            "flex_flow": null,
            "width": null,
            "min_width": null,
            "border": null,
            "align_items": null,
            "bottom": null,
            "_model_module": "@jupyter-widgets/base",
            "top": null,
            "grid_column": null,
            "overflow_y": null,
            "overflow_x": null,
            "grid_auto_flow": null,
            "grid_area": null,
            "grid_template_columns": null,
            "flex": null,
            "_model_name": "LayoutModel",
            "justify_items": null,
            "grid_row": null,
            "max_height": null,
            "align_content": null,
            "visibility": null,
            "align_self": null,
            "height": null,
            "min_height": null,
            "padding": null,
            "grid_auto_rows": null,
            "grid_gap": null,
            "max_width": null,
            "order": null,
            "_view_module_version": "1.2.0",
            "grid_template_areas": null,
            "object_position": null,
            "object_fit": null,
            "grid_auto_columns": null,
            "margin": null,
            "display": null,
            "left": null
          }
        },
        "014251f8c44442f8bb2bd5012a6001bb": {
          "model_module": "@jupyter-widgets/controls",
          "model_name": "FloatProgressModel",
          "state": {
            "_view_name": "ProgressView",
            "style": "IPY_MODEL_5d82d26db58f4dd8a37c15211788899d",
            "_dom_classes": [],
            "description": "100%",
            "_model_name": "FloatProgressModel",
            "bar_style": "success",
            "max": 17238,
            "_view_module": "@jupyter-widgets/controls",
            "_model_module_version": "1.5.0",
            "value": 17238,
            "_view_count": null,
            "_view_module_version": "1.5.0",
            "orientation": "horizontal",
            "min": 0,
            "description_tooltip": null,
            "_model_module": "@jupyter-widgets/controls",
            "layout": "IPY_MODEL_46598457d0f24f9e8ff4499351b0af06"
          }
        },
        "0ff90f0284a24da0b64e3ae7ebf84777": {
          "model_module": "@jupyter-widgets/controls",
          "model_name": "HTMLModel",
          "state": {
            "_view_name": "HTMLView",
            "style": "IPY_MODEL_85e2eaa0b906498fb19b1de7896fcf3e",
            "_dom_classes": [],
            "description": "",
            "_model_name": "HTMLModel",
            "placeholder": "​",
            "_view_module": "@jupyter-widgets/controls",
            "_model_module_version": "1.5.0",
            "value": " 17238/17238 [1:30:58&lt;00:00,  3.16it/s]",
            "_view_count": null,
            "_view_module_version": "1.5.0",
            "description_tooltip": null,
            "_model_module": "@jupyter-widgets/controls",
            "layout": "IPY_MODEL_667daca46c3b4e8c9697eb64f770e5e8"
          }
        },
        "5d82d26db58f4dd8a37c15211788899d": {
          "model_module": "@jupyter-widgets/controls",
          "model_name": "ProgressStyleModel",
          "state": {
            "_view_name": "StyleView",
            "_model_name": "ProgressStyleModel",
            "description_width": "initial",
            "_view_module": "@jupyter-widgets/base",
            "_model_module_version": "1.5.0",
            "_view_count": null,
            "_view_module_version": "1.2.0",
            "bar_color": null,
            "_model_module": "@jupyter-widgets/controls"
          }
        },
        "46598457d0f24f9e8ff4499351b0af06": {
          "model_module": "@jupyter-widgets/base",
          "model_name": "LayoutModel",
          "state": {
            "_view_name": "LayoutView",
            "grid_template_rows": null,
            "right": null,
            "justify_content": null,
            "_view_module": "@jupyter-widgets/base",
            "overflow": null,
            "_model_module_version": "1.2.0",
            "_view_count": null,
            "flex_flow": null,
            "width": null,
            "min_width": null,
            "border": null,
            "align_items": null,
            "bottom": null,
            "_model_module": "@jupyter-widgets/base",
            "top": null,
            "grid_column": null,
            "overflow_y": null,
            "overflow_x": null,
            "grid_auto_flow": null,
            "grid_area": null,
            "grid_template_columns": null,
            "flex": null,
            "_model_name": "LayoutModel",
            "justify_items": null,
            "grid_row": null,
            "max_height": null,
            "align_content": null,
            "visibility": null,
            "align_self": null,
            "height": null,
            "min_height": null,
            "padding": null,
            "grid_auto_rows": null,
            "grid_gap": null,
            "max_width": null,
            "order": null,
            "_view_module_version": "1.2.0",
            "grid_template_areas": null,
            "object_position": null,
            "object_fit": null,
            "grid_auto_columns": null,
            "margin": null,
            "display": null,
            "left": null
          }
        },
        "85e2eaa0b906498fb19b1de7896fcf3e": {
          "model_module": "@jupyter-widgets/controls",
          "model_name": "DescriptionStyleModel",
          "state": {
            "_view_name": "StyleView",
            "_model_name": "DescriptionStyleModel",
            "description_width": "",
            "_view_module": "@jupyter-widgets/base",
            "_model_module_version": "1.5.0",
            "_view_count": null,
            "_view_module_version": "1.2.0",
            "_model_module": "@jupyter-widgets/controls"
          }
        },
        "667daca46c3b4e8c9697eb64f770e5e8": {
          "model_module": "@jupyter-widgets/base",
          "model_name": "LayoutModel",
          "state": {
            "_view_name": "LayoutView",
            "grid_template_rows": null,
            "right": null,
            "justify_content": null,
            "_view_module": "@jupyter-widgets/base",
            "overflow": null,
            "_model_module_version": "1.2.0",
            "_view_count": null,
            "flex_flow": null,
            "width": null,
            "min_width": null,
            "border": null,
            "align_items": null,
            "bottom": null,
            "_model_module": "@jupyter-widgets/base",
            "top": null,
            "grid_column": null,
            "overflow_y": null,
            "overflow_x": null,
            "grid_auto_flow": null,
            "grid_area": null,
            "grid_template_columns": null,
            "flex": null,
            "_model_name": "LayoutModel",
            "justify_items": null,
            "grid_row": null,
            "max_height": null,
            "align_content": null,
            "visibility": null,
            "align_self": null,
            "height": null,
            "min_height": null,
            "padding": null,
            "grid_auto_rows": null,
            "grid_gap": null,
            "max_width": null,
            "order": null,
            "_view_module_version": "1.2.0",
            "grid_template_areas": null,
            "object_position": null,
            "object_fit": null,
            "grid_auto_columns": null,
            "margin": null,
            "display": null,
            "left": null
          }
        },
        "832547b92e5b4809b44e17f4277e9b24": {
          "model_module": "@jupyter-widgets/controls",
          "model_name": "HBoxModel",
          "state": {
            "_view_name": "HBoxView",
            "_dom_classes": [],
            "_model_name": "HBoxModel",
            "_view_module": "@jupyter-widgets/controls",
            "_model_module_version": "1.5.0",
            "_view_count": null,
            "_view_module_version": "1.5.0",
            "box_style": "",
            "layout": "IPY_MODEL_5c4096b1d9e647e3be9c1c6fe49e3834",
            "_model_module": "@jupyter-widgets/controls",
            "children": [
              "IPY_MODEL_aa762567545d415b892331f21ece1d20",
              "IPY_MODEL_3f24a696cb90431a9c949f81797fbc6b"
            ]
          }
        },
        "5c4096b1d9e647e3be9c1c6fe49e3834": {
          "model_module": "@jupyter-widgets/base",
          "model_name": "LayoutModel",
          "state": {
            "_view_name": "LayoutView",
            "grid_template_rows": null,
            "right": null,
            "justify_content": null,
            "_view_module": "@jupyter-widgets/base",
            "overflow": null,
            "_model_module_version": "1.2.0",
            "_view_count": null,
            "flex_flow": null,
            "width": null,
            "min_width": null,
            "border": null,
            "align_items": null,
            "bottom": null,
            "_model_module": "@jupyter-widgets/base",
            "top": null,
            "grid_column": null,
            "overflow_y": null,
            "overflow_x": null,
            "grid_auto_flow": null,
            "grid_area": null,
            "grid_template_columns": null,
            "flex": null,
            "_model_name": "LayoutModel",
            "justify_items": null,
            "grid_row": null,
            "max_height": null,
            "align_content": null,
            "visibility": null,
            "align_self": null,
            "height": null,
            "min_height": null,
            "padding": null,
            "grid_auto_rows": null,
            "grid_gap": null,
            "max_width": null,
            "order": null,
            "_view_module_version": "1.2.0",
            "grid_template_areas": null,
            "object_position": null,
            "object_fit": null,
            "grid_auto_columns": null,
            "margin": null,
            "display": null,
            "left": null
          }
        },
        "aa762567545d415b892331f21ece1d20": {
          "model_module": "@jupyter-widgets/controls",
          "model_name": "FloatProgressModel",
          "state": {
            "_view_name": "ProgressView",
            "style": "IPY_MODEL_08940ff417d24075a71c9c66d90fa8b8",
            "_dom_classes": [],
            "description": "100%",
            "_model_name": "FloatProgressModel",
            "bar_style": "success",
            "max": 17238,
            "_view_module": "@jupyter-widgets/controls",
            "_model_module_version": "1.5.0",
            "value": 17238,
            "_view_count": null,
            "_view_module_version": "1.5.0",
            "orientation": "horizontal",
            "min": 0,
            "description_tooltip": null,
            "_model_module": "@jupyter-widgets/controls",
            "layout": "IPY_MODEL_6ed0eb22c7ff4a5e8571379ef0b89d31"
          }
        },
        "3f24a696cb90431a9c949f81797fbc6b": {
          "model_module": "@jupyter-widgets/controls",
          "model_name": "HTMLModel",
          "state": {
            "_view_name": "HTMLView",
            "style": "IPY_MODEL_7fff60e76f854e098cbb982bd493c635",
            "_dom_classes": [],
            "description": "",
            "_model_name": "HTMLModel",
            "placeholder": "​",
            "_view_module": "@jupyter-widgets/controls",
            "_model_module_version": "1.5.0",
            "value": " 17238/17238 [09:55&lt;00:00, 28.97it/s]",
            "_view_count": null,
            "_view_module_version": "1.5.0",
            "description_tooltip": null,
            "_model_module": "@jupyter-widgets/controls",
            "layout": "IPY_MODEL_cefb11a6dab34ba8bde99f2d47d3a226"
          }
        },
        "08940ff417d24075a71c9c66d90fa8b8": {
          "model_module": "@jupyter-widgets/controls",
          "model_name": "ProgressStyleModel",
          "state": {
            "_view_name": "StyleView",
            "_model_name": "ProgressStyleModel",
            "description_width": "initial",
            "_view_module": "@jupyter-widgets/base",
            "_model_module_version": "1.5.0",
            "_view_count": null,
            "_view_module_version": "1.2.0",
            "bar_color": null,
            "_model_module": "@jupyter-widgets/controls"
          }
        },
        "6ed0eb22c7ff4a5e8571379ef0b89d31": {
          "model_module": "@jupyter-widgets/base",
          "model_name": "LayoutModel",
          "state": {
            "_view_name": "LayoutView",
            "grid_template_rows": null,
            "right": null,
            "justify_content": null,
            "_view_module": "@jupyter-widgets/base",
            "overflow": null,
            "_model_module_version": "1.2.0",
            "_view_count": null,
            "flex_flow": null,
            "width": null,
            "min_width": null,
            "border": null,
            "align_items": null,
            "bottom": null,
            "_model_module": "@jupyter-widgets/base",
            "top": null,
            "grid_column": null,
            "overflow_y": null,
            "overflow_x": null,
            "grid_auto_flow": null,
            "grid_area": null,
            "grid_template_columns": null,
            "flex": null,
            "_model_name": "LayoutModel",
            "justify_items": null,
            "grid_row": null,
            "max_height": null,
            "align_content": null,
            "visibility": null,
            "align_self": null,
            "height": null,
            "min_height": null,
            "padding": null,
            "grid_auto_rows": null,
            "grid_gap": null,
            "max_width": null,
            "order": null,
            "_view_module_version": "1.2.0",
            "grid_template_areas": null,
            "object_position": null,
            "object_fit": null,
            "grid_auto_columns": null,
            "margin": null,
            "display": null,
            "left": null
          }
        },
        "7fff60e76f854e098cbb982bd493c635": {
          "model_module": "@jupyter-widgets/controls",
          "model_name": "DescriptionStyleModel",
          "state": {
            "_view_name": "StyleView",
            "_model_name": "DescriptionStyleModel",
            "description_width": "",
            "_view_module": "@jupyter-widgets/base",
            "_model_module_version": "1.5.0",
            "_view_count": null,
            "_view_module_version": "1.2.0",
            "_model_module": "@jupyter-widgets/controls"
          }
        },
        "cefb11a6dab34ba8bde99f2d47d3a226": {
          "model_module": "@jupyter-widgets/base",
          "model_name": "LayoutModel",
          "state": {
            "_view_name": "LayoutView",
            "grid_template_rows": null,
            "right": null,
            "justify_content": null,
            "_view_module": "@jupyter-widgets/base",
            "overflow": null,
            "_model_module_version": "1.2.0",
            "_view_count": null,
            "flex_flow": null,
            "width": null,
            "min_width": null,
            "border": null,
            "align_items": null,
            "bottom": null,
            "_model_module": "@jupyter-widgets/base",
            "top": null,
            "grid_column": null,
            "overflow_y": null,
            "overflow_x": null,
            "grid_auto_flow": null,
            "grid_area": null,
            "grid_template_columns": null,
            "flex": null,
            "_model_name": "LayoutModel",
            "justify_items": null,
            "grid_row": null,
            "max_height": null,
            "align_content": null,
            "visibility": null,
            "align_self": null,
            "height": null,
            "min_height": null,
            "padding": null,
            "grid_auto_rows": null,
            "grid_gap": null,
            "max_width": null,
            "order": null,
            "_view_module_version": "1.2.0",
            "grid_template_areas": null,
            "object_position": null,
            "object_fit": null,
            "grid_auto_columns": null,
            "margin": null,
            "display": null,
            "left": null
          }
        },
        "c5aaed8b9118436c9d86e76684784d56": {
          "model_module": "@jupyter-widgets/controls",
          "model_name": "HBoxModel",
          "state": {
            "_view_name": "HBoxView",
            "_dom_classes": [],
            "_model_name": "HBoxModel",
            "_view_module": "@jupyter-widgets/controls",
            "_model_module_version": "1.5.0",
            "_view_count": null,
            "_view_module_version": "1.5.0",
            "box_style": "",
            "layout": "IPY_MODEL_0036672c91084305b2a41f2d9e1391d5",
            "_model_module": "@jupyter-widgets/controls",
            "children": [
              "IPY_MODEL_800f7f920e44444cae8b67430e46d423",
              "IPY_MODEL_b2cd5164087d431f94bbb6bbc7594dd3"
            ]
          }
        },
        "0036672c91084305b2a41f2d9e1391d5": {
          "model_module": "@jupyter-widgets/base",
          "model_name": "LayoutModel",
          "state": {
            "_view_name": "LayoutView",
            "grid_template_rows": null,
            "right": null,
            "justify_content": null,
            "_view_module": "@jupyter-widgets/base",
            "overflow": null,
            "_model_module_version": "1.2.0",
            "_view_count": null,
            "flex_flow": null,
            "width": null,
            "min_width": null,
            "border": null,
            "align_items": null,
            "bottom": null,
            "_model_module": "@jupyter-widgets/base",
            "top": null,
            "grid_column": null,
            "overflow_y": null,
            "overflow_x": null,
            "grid_auto_flow": null,
            "grid_area": null,
            "grid_template_columns": null,
            "flex": null,
            "_model_name": "LayoutModel",
            "justify_items": null,
            "grid_row": null,
            "max_height": null,
            "align_content": null,
            "visibility": null,
            "align_self": null,
            "height": null,
            "min_height": null,
            "padding": null,
            "grid_auto_rows": null,
            "grid_gap": null,
            "max_width": null,
            "order": null,
            "_view_module_version": "1.2.0",
            "grid_template_areas": null,
            "object_position": null,
            "object_fit": null,
            "grid_auto_columns": null,
            "margin": null,
            "display": null,
            "left": null
          }
        },
        "800f7f920e44444cae8b67430e46d423": {
          "model_module": "@jupyter-widgets/controls",
          "model_name": "FloatProgressModel",
          "state": {
            "_view_name": "ProgressView",
            "style": "IPY_MODEL_e426b2334ba84b25b17b76736ec26be1",
            "_dom_classes": [],
            "description": "100%",
            "_model_name": "FloatProgressModel",
            "bar_style": "success",
            "max": 251042,
            "_view_module": "@jupyter-widgets/controls",
            "_model_module_version": "1.5.0",
            "value": 251042,
            "_view_count": null,
            "_view_module_version": "1.5.0",
            "orientation": "horizontal",
            "min": 0,
            "description_tooltip": null,
            "_model_module": "@jupyter-widgets/controls",
            "layout": "IPY_MODEL_e2a03c8479a744e99b71d657325e6e61"
          }
        },
        "b2cd5164087d431f94bbb6bbc7594dd3": {
          "model_module": "@jupyter-widgets/controls",
          "model_name": "HTMLModel",
          "state": {
            "_view_name": "HTMLView",
            "style": "IPY_MODEL_8f0a33e78cc04dc7b71234f6a44d553e",
            "_dom_classes": [],
            "description": "",
            "_model_name": "HTMLModel",
            "placeholder": "​",
            "_view_module": "@jupyter-widgets/controls",
            "_model_module_version": "1.5.0",
            "value": " 251042/251042 [06:06&lt;00:00, 684.13it/s]",
            "_view_count": null,
            "_view_module_version": "1.5.0",
            "description_tooltip": null,
            "_model_module": "@jupyter-widgets/controls",
            "layout": "IPY_MODEL_660271abc7cd4717a91a03a5505fd793"
          }
        },
        "e426b2334ba84b25b17b76736ec26be1": {
          "model_module": "@jupyter-widgets/controls",
          "model_name": "ProgressStyleModel",
          "state": {
            "_view_name": "StyleView",
            "_model_name": "ProgressStyleModel",
            "description_width": "initial",
            "_view_module": "@jupyter-widgets/base",
            "_model_module_version": "1.5.0",
            "_view_count": null,
            "_view_module_version": "1.2.0",
            "bar_color": null,
            "_model_module": "@jupyter-widgets/controls"
          }
        },
        "e2a03c8479a744e99b71d657325e6e61": {
          "model_module": "@jupyter-widgets/base",
          "model_name": "LayoutModel",
          "state": {
            "_view_name": "LayoutView",
            "grid_template_rows": null,
            "right": null,
            "justify_content": null,
            "_view_module": "@jupyter-widgets/base",
            "overflow": null,
            "_model_module_version": "1.2.0",
            "_view_count": null,
            "flex_flow": null,
            "width": null,
            "min_width": null,
            "border": null,
            "align_items": null,
            "bottom": null,
            "_model_module": "@jupyter-widgets/base",
            "top": null,
            "grid_column": null,
            "overflow_y": null,
            "overflow_x": null,
            "grid_auto_flow": null,
            "grid_area": null,
            "grid_template_columns": null,
            "flex": null,
            "_model_name": "LayoutModel",
            "justify_items": null,
            "grid_row": null,
            "max_height": null,
            "align_content": null,
            "visibility": null,
            "align_self": null,
            "height": null,
            "min_height": null,
            "padding": null,
            "grid_auto_rows": null,
            "grid_gap": null,
            "max_width": null,
            "order": null,
            "_view_module_version": "1.2.0",
            "grid_template_areas": null,
            "object_position": null,
            "object_fit": null,
            "grid_auto_columns": null,
            "margin": null,
            "display": null,
            "left": null
          }
        },
        "8f0a33e78cc04dc7b71234f6a44d553e": {
          "model_module": "@jupyter-widgets/controls",
          "model_name": "DescriptionStyleModel",
          "state": {
            "_view_name": "StyleView",
            "_model_name": "DescriptionStyleModel",
            "description_width": "",
            "_view_module": "@jupyter-widgets/base",
            "_model_module_version": "1.5.0",
            "_view_count": null,
            "_view_module_version": "1.2.0",
            "_model_module": "@jupyter-widgets/controls"
          }
        },
        "660271abc7cd4717a91a03a5505fd793": {
          "model_module": "@jupyter-widgets/base",
          "model_name": "LayoutModel",
          "state": {
            "_view_name": "LayoutView",
            "grid_template_rows": null,
            "right": null,
            "justify_content": null,
            "_view_module": "@jupyter-widgets/base",
            "overflow": null,
            "_model_module_version": "1.2.0",
            "_view_count": null,
            "flex_flow": null,
            "width": null,
            "min_width": null,
            "border": null,
            "align_items": null,
            "bottom": null,
            "_model_module": "@jupyter-widgets/base",
            "top": null,
            "grid_column": null,
            "overflow_y": null,
            "overflow_x": null,
            "grid_auto_flow": null,
            "grid_area": null,
            "grid_template_columns": null,
            "flex": null,
            "_model_name": "LayoutModel",
            "justify_items": null,
            "grid_row": null,
            "max_height": null,
            "align_content": null,
            "visibility": null,
            "align_self": null,
            "height": null,
            "min_height": null,
            "padding": null,
            "grid_auto_rows": null,
            "grid_gap": null,
            "max_width": null,
            "order": null,
            "_view_module_version": "1.2.0",
            "grid_template_areas": null,
            "object_position": null,
            "object_fit": null,
            "grid_auto_columns": null,
            "margin": null,
            "display": null,
            "left": null
          }
        },
        "7546f51735bb4251af6fd46edbe3d823": {
          "model_module": "@jupyter-widgets/controls",
          "model_name": "HBoxModel",
          "state": {
            "_view_name": "HBoxView",
            "_dom_classes": [],
            "_model_name": "HBoxModel",
            "_view_module": "@jupyter-widgets/controls",
            "_model_module_version": "1.5.0",
            "_view_count": null,
            "_view_module_version": "1.5.0",
            "box_style": "",
            "layout": "IPY_MODEL_d877ae2fbbd44375932ba158df4ff834",
            "_model_module": "@jupyter-widgets/controls",
            "children": [
              "IPY_MODEL_af9e6f5bd0194842b5f591d53e94db49",
              "IPY_MODEL_cd7658adfde7466fa3f75aafb1330c5c"
            ]
          }
        },
        "d877ae2fbbd44375932ba158df4ff834": {
          "model_module": "@jupyter-widgets/base",
          "model_name": "LayoutModel",
          "state": {
            "_view_name": "LayoutView",
            "grid_template_rows": null,
            "right": null,
            "justify_content": null,
            "_view_module": "@jupyter-widgets/base",
            "overflow": null,
            "_model_module_version": "1.2.0",
            "_view_count": null,
            "flex_flow": null,
            "width": null,
            "min_width": null,
            "border": null,
            "align_items": null,
            "bottom": null,
            "_model_module": "@jupyter-widgets/base",
            "top": null,
            "grid_column": null,
            "overflow_y": null,
            "overflow_x": null,
            "grid_auto_flow": null,
            "grid_area": null,
            "grid_template_columns": null,
            "flex": null,
            "_model_name": "LayoutModel",
            "justify_items": null,
            "grid_row": null,
            "max_height": null,
            "align_content": null,
            "visibility": null,
            "align_self": null,
            "height": null,
            "min_height": null,
            "padding": null,
            "grid_auto_rows": null,
            "grid_gap": null,
            "max_width": null,
            "order": null,
            "_view_module_version": "1.2.0",
            "grid_template_areas": null,
            "object_position": null,
            "object_fit": null,
            "grid_auto_columns": null,
            "margin": null,
            "display": null,
            "left": null
          }
        },
        "af9e6f5bd0194842b5f591d53e94db49": {
          "model_module": "@jupyter-widgets/controls",
          "model_name": "FloatProgressModel",
          "state": {
            "_view_name": "ProgressView",
            "style": "IPY_MODEL_ba8a9d6994834907919950a438f30ecc",
            "_dom_classes": [],
            "description": "100%",
            "_model_name": "FloatProgressModel",
            "bar_style": "success",
            "max": 83683,
            "_view_module": "@jupyter-widgets/controls",
            "_model_module_version": "1.5.0",
            "value": 83683,
            "_view_count": null,
            "_view_module_version": "1.5.0",
            "orientation": "horizontal",
            "min": 0,
            "description_tooltip": null,
            "_model_module": "@jupyter-widgets/controls",
            "layout": "IPY_MODEL_3fcc6ab5e9134e0883990af3585fc603"
          }
        },
        "cd7658adfde7466fa3f75aafb1330c5c": {
          "model_module": "@jupyter-widgets/controls",
          "model_name": "HTMLModel",
          "state": {
            "_view_name": "HTMLView",
            "style": "IPY_MODEL_3a8f685de3274ac0808fe69553285440",
            "_dom_classes": [],
            "description": "",
            "_model_name": "HTMLModel",
            "placeholder": "​",
            "_view_module": "@jupyter-widgets/controls",
            "_model_module_version": "1.5.0",
            "value": " 83683/83683 [01:06&lt;00:00, 1261.00it/s]",
            "_view_count": null,
            "_view_module_version": "1.5.0",
            "description_tooltip": null,
            "_model_module": "@jupyter-widgets/controls",
            "layout": "IPY_MODEL_b3078a34cda443cfa4910455e073ff1b"
          }
        },
        "ba8a9d6994834907919950a438f30ecc": {
          "model_module": "@jupyter-widgets/controls",
          "model_name": "ProgressStyleModel",
          "state": {
            "_view_name": "StyleView",
            "_model_name": "ProgressStyleModel",
            "description_width": "initial",
            "_view_module": "@jupyter-widgets/base",
            "_model_module_version": "1.5.0",
            "_view_count": null,
            "_view_module_version": "1.2.0",
            "bar_color": null,
            "_model_module": "@jupyter-widgets/controls"
          }
        },
        "3fcc6ab5e9134e0883990af3585fc603": {
          "model_module": "@jupyter-widgets/base",
          "model_name": "LayoutModel",
          "state": {
            "_view_name": "LayoutView",
            "grid_template_rows": null,
            "right": null,
            "justify_content": null,
            "_view_module": "@jupyter-widgets/base",
            "overflow": null,
            "_model_module_version": "1.2.0",
            "_view_count": null,
            "flex_flow": null,
            "width": null,
            "min_width": null,
            "border": null,
            "align_items": null,
            "bottom": null,
            "_model_module": "@jupyter-widgets/base",
            "top": null,
            "grid_column": null,
            "overflow_y": null,
            "overflow_x": null,
            "grid_auto_flow": null,
            "grid_area": null,
            "grid_template_columns": null,
            "flex": null,
            "_model_name": "LayoutModel",
            "justify_items": null,
            "grid_row": null,
            "max_height": null,
            "align_content": null,
            "visibility": null,
            "align_self": null,
            "height": null,
            "min_height": null,
            "padding": null,
            "grid_auto_rows": null,
            "grid_gap": null,
            "max_width": null,
            "order": null,
            "_view_module_version": "1.2.0",
            "grid_template_areas": null,
            "object_position": null,
            "object_fit": null,
            "grid_auto_columns": null,
            "margin": null,
            "display": null,
            "left": null
          }
        },
        "3a8f685de3274ac0808fe69553285440": {
          "model_module": "@jupyter-widgets/controls",
          "model_name": "DescriptionStyleModel",
          "state": {
            "_view_name": "StyleView",
            "_model_name": "DescriptionStyleModel",
            "description_width": "",
            "_view_module": "@jupyter-widgets/base",
            "_model_module_version": "1.5.0",
            "_view_count": null,
            "_view_module_version": "1.2.0",
            "_model_module": "@jupyter-widgets/controls"
          }
        },
        "b3078a34cda443cfa4910455e073ff1b": {
          "model_module": "@jupyter-widgets/base",
          "model_name": "LayoutModel",
          "state": {
            "_view_name": "LayoutView",
            "grid_template_rows": null,
            "right": null,
            "justify_content": null,
            "_view_module": "@jupyter-widgets/base",
            "overflow": null,
            "_model_module_version": "1.2.0",
            "_view_count": null,
            "flex_flow": null,
            "width": null,
            "min_width": null,
            "border": null,
            "align_items": null,
            "bottom": null,
            "_model_module": "@jupyter-widgets/base",
            "top": null,
            "grid_column": null,
            "overflow_y": null,
            "overflow_x": null,
            "grid_auto_flow": null,
            "grid_area": null,
            "grid_template_columns": null,
            "flex": null,
            "_model_name": "LayoutModel",
            "justify_items": null,
            "grid_row": null,
            "max_height": null,
            "align_content": null,
            "visibility": null,
            "align_self": null,
            "height": null,
            "min_height": null,
            "padding": null,
            "grid_auto_rows": null,
            "grid_gap": null,
            "max_width": null,
            "order": null,
            "_view_module_version": "1.2.0",
            "grid_template_areas": null,
            "object_position": null,
            "object_fit": null,
            "grid_auto_columns": null,
            "margin": null,
            "display": null,
            "left": null
          }
        },
        "ed64d9e033794f3dabc74c7062c7de9f": {
          "model_module": "@jupyter-widgets/controls",
          "model_name": "HBoxModel",
          "state": {
            "_view_name": "HBoxView",
            "_dom_classes": [],
            "_model_name": "HBoxModel",
            "_view_module": "@jupyter-widgets/controls",
            "_model_module_version": "1.5.0",
            "_view_count": null,
            "_view_module_version": "1.5.0",
            "box_style": "",
            "layout": "IPY_MODEL_8ff4d9d6aa5b48868206e9cead5e77e8",
            "_model_module": "@jupyter-widgets/controls",
            "children": [
              "IPY_MODEL_8b6e3969881447109c1df8449c5abe0b",
              "IPY_MODEL_e1fdd85fabdb4fb8ab5c234544d6d444"
            ]
          }
        },
        "8ff4d9d6aa5b48868206e9cead5e77e8": {
          "model_module": "@jupyter-widgets/base",
          "model_name": "LayoutModel",
          "state": {
            "_view_name": "LayoutView",
            "grid_template_rows": null,
            "right": null,
            "justify_content": null,
            "_view_module": "@jupyter-widgets/base",
            "overflow": null,
            "_model_module_version": "1.2.0",
            "_view_count": null,
            "flex_flow": null,
            "width": null,
            "min_width": null,
            "border": null,
            "align_items": null,
            "bottom": null,
            "_model_module": "@jupyter-widgets/base",
            "top": null,
            "grid_column": null,
            "overflow_y": null,
            "overflow_x": null,
            "grid_auto_flow": null,
            "grid_area": null,
            "grid_template_columns": null,
            "flex": null,
            "_model_name": "LayoutModel",
            "justify_items": null,
            "grid_row": null,
            "max_height": null,
            "align_content": null,
            "visibility": null,
            "align_self": null,
            "height": null,
            "min_height": null,
            "padding": null,
            "grid_auto_rows": null,
            "grid_gap": null,
            "max_width": null,
            "order": null,
            "_view_module_version": "1.2.0",
            "grid_template_areas": null,
            "object_position": null,
            "object_fit": null,
            "grid_auto_columns": null,
            "margin": null,
            "display": null,
            "left": null
          }
        },
        "8b6e3969881447109c1df8449c5abe0b": {
          "model_module": "@jupyter-widgets/controls",
          "model_name": "FloatProgressModel",
          "state": {
            "_view_name": "ProgressView",
            "style": "IPY_MODEL_a8fd08f54d3f480db320909b1f89d6aa",
            "_dom_classes": [],
            "description": "100%",
            "_model_name": "FloatProgressModel",
            "bar_style": "success",
            "max": 17238,
            "_view_module": "@jupyter-widgets/controls",
            "_model_module_version": "1.5.0",
            "value": 17238,
            "_view_count": null,
            "_view_module_version": "1.5.0",
            "orientation": "horizontal",
            "min": 0,
            "description_tooltip": null,
            "_model_module": "@jupyter-widgets/controls",
            "layout": "IPY_MODEL_323580be6f0041ef856c1594e490b98d"
          }
        },
        "e1fdd85fabdb4fb8ab5c234544d6d444": {
          "model_module": "@jupyter-widgets/controls",
          "model_name": "HTMLModel",
          "state": {
            "_view_name": "HTMLView",
            "style": "IPY_MODEL_67adb330128848519b97cc3e222c3130",
            "_dom_classes": [],
            "description": "",
            "_model_name": "HTMLModel",
            "placeholder": "​",
            "_view_module": "@jupyter-widgets/controls",
            "_model_module_version": "1.5.0",
            "value": " 17238/17238 [1:02:16&lt;00:00,  4.61it/s]",
            "_view_count": null,
            "_view_module_version": "1.5.0",
            "description_tooltip": null,
            "_model_module": "@jupyter-widgets/controls",
            "layout": "IPY_MODEL_0faac95aa8f5466480abe9e8cd612048"
          }
        },
        "a8fd08f54d3f480db320909b1f89d6aa": {
          "model_module": "@jupyter-widgets/controls",
          "model_name": "ProgressStyleModel",
          "state": {
            "_view_name": "StyleView",
            "_model_name": "ProgressStyleModel",
            "description_width": "initial",
            "_view_module": "@jupyter-widgets/base",
            "_model_module_version": "1.5.0",
            "_view_count": null,
            "_view_module_version": "1.2.0",
            "bar_color": null,
            "_model_module": "@jupyter-widgets/controls"
          }
        },
        "323580be6f0041ef856c1594e490b98d": {
          "model_module": "@jupyter-widgets/base",
          "model_name": "LayoutModel",
          "state": {
            "_view_name": "LayoutView",
            "grid_template_rows": null,
            "right": null,
            "justify_content": null,
            "_view_module": "@jupyter-widgets/base",
            "overflow": null,
            "_model_module_version": "1.2.0",
            "_view_count": null,
            "flex_flow": null,
            "width": null,
            "min_width": null,
            "border": null,
            "align_items": null,
            "bottom": null,
            "_model_module": "@jupyter-widgets/base",
            "top": null,
            "grid_column": null,
            "overflow_y": null,
            "overflow_x": null,
            "grid_auto_flow": null,
            "grid_area": null,
            "grid_template_columns": null,
            "flex": null,
            "_model_name": "LayoutModel",
            "justify_items": null,
            "grid_row": null,
            "max_height": null,
            "align_content": null,
            "visibility": null,
            "align_self": null,
            "height": null,
            "min_height": null,
            "padding": null,
            "grid_auto_rows": null,
            "grid_gap": null,
            "max_width": null,
            "order": null,
            "_view_module_version": "1.2.0",
            "grid_template_areas": null,
            "object_position": null,
            "object_fit": null,
            "grid_auto_columns": null,
            "margin": null,
            "display": null,
            "left": null
          }
        },
        "67adb330128848519b97cc3e222c3130": {
          "model_module": "@jupyter-widgets/controls",
          "model_name": "DescriptionStyleModel",
          "state": {
            "_view_name": "StyleView",
            "_model_name": "DescriptionStyleModel",
            "description_width": "",
            "_view_module": "@jupyter-widgets/base",
            "_model_module_version": "1.5.0",
            "_view_count": null,
            "_view_module_version": "1.2.0",
            "_model_module": "@jupyter-widgets/controls"
          }
        },
        "0faac95aa8f5466480abe9e8cd612048": {
          "model_module": "@jupyter-widgets/base",
          "model_name": "LayoutModel",
          "state": {
            "_view_name": "LayoutView",
            "grid_template_rows": null,
            "right": null,
            "justify_content": null,
            "_view_module": "@jupyter-widgets/base",
            "overflow": null,
            "_model_module_version": "1.2.0",
            "_view_count": null,
            "flex_flow": null,
            "width": null,
            "min_width": null,
            "border": null,
            "align_items": null,
            "bottom": null,
            "_model_module": "@jupyter-widgets/base",
            "top": null,
            "grid_column": null,
            "overflow_y": null,
            "overflow_x": null,
            "grid_auto_flow": null,
            "grid_area": null,
            "grid_template_columns": null,
            "flex": null,
            "_model_name": "LayoutModel",
            "justify_items": null,
            "grid_row": null,
            "max_height": null,
            "align_content": null,
            "visibility": null,
            "align_self": null,
            "height": null,
            "min_height": null,
            "padding": null,
            "grid_auto_rows": null,
            "grid_gap": null,
            "max_width": null,
            "order": null,
            "_view_module_version": "1.2.0",
            "grid_template_areas": null,
            "object_position": null,
            "object_fit": null,
            "grid_auto_columns": null,
            "margin": null,
            "display": null,
            "left": null
          }
        },
        "37d65b11ff3543cfb8270adc76a79bd9": {
          "model_module": "@jupyter-widgets/controls",
          "model_name": "HBoxModel",
          "state": {
            "_view_name": "HBoxView",
            "_dom_classes": [],
            "_model_name": "HBoxModel",
            "_view_module": "@jupyter-widgets/controls",
            "_model_module_version": "1.5.0",
            "_view_count": null,
            "_view_module_version": "1.5.0",
            "box_style": "",
            "layout": "IPY_MODEL_e9206df3327f406b8faa29f2f738a234",
            "_model_module": "@jupyter-widgets/controls",
            "children": [
              "IPY_MODEL_ba556a079a344d109f555c8f581a87e5",
              "IPY_MODEL_1b191c904c544c09a9f33d88f5a42f2a"
            ]
          }
        },
        "e9206df3327f406b8faa29f2f738a234": {
          "model_module": "@jupyter-widgets/base",
          "model_name": "LayoutModel",
          "state": {
            "_view_name": "LayoutView",
            "grid_template_rows": null,
            "right": null,
            "justify_content": null,
            "_view_module": "@jupyter-widgets/base",
            "overflow": null,
            "_model_module_version": "1.2.0",
            "_view_count": null,
            "flex_flow": null,
            "width": null,
            "min_width": null,
            "border": null,
            "align_items": null,
            "bottom": null,
            "_model_module": "@jupyter-widgets/base",
            "top": null,
            "grid_column": null,
            "overflow_y": null,
            "overflow_x": null,
            "grid_auto_flow": null,
            "grid_area": null,
            "grid_template_columns": null,
            "flex": null,
            "_model_name": "LayoutModel",
            "justify_items": null,
            "grid_row": null,
            "max_height": null,
            "align_content": null,
            "visibility": null,
            "align_self": null,
            "height": null,
            "min_height": null,
            "padding": null,
            "grid_auto_rows": null,
            "grid_gap": null,
            "max_width": null,
            "order": null,
            "_view_module_version": "1.2.0",
            "grid_template_areas": null,
            "object_position": null,
            "object_fit": null,
            "grid_auto_columns": null,
            "margin": null,
            "display": null,
            "left": null
          }
        },
        "ba556a079a344d109f555c8f581a87e5": {
          "model_module": "@jupyter-widgets/controls",
          "model_name": "FloatProgressModel",
          "state": {
            "_view_name": "ProgressView",
            "style": "IPY_MODEL_9ef4dc82a8f842aeb0033482fd564397",
            "_dom_classes": [],
            "description": "100%",
            "_model_name": "FloatProgressModel",
            "bar_style": "success",
            "max": 17704,
            "_view_module": "@jupyter-widgets/controls",
            "_model_module_version": "1.5.0",
            "value": 17704,
            "_view_count": null,
            "_view_module_version": "1.5.0",
            "orientation": "horizontal",
            "min": 0,
            "description_tooltip": null,
            "_model_module": "@jupyter-widgets/controls",
            "layout": "IPY_MODEL_489fe0920cd94085af38c94ece8a6b83"
          }
        },
        "1b191c904c544c09a9f33d88f5a42f2a": {
          "model_module": "@jupyter-widgets/controls",
          "model_name": "HTMLModel",
          "state": {
            "_view_name": "HTMLView",
            "style": "IPY_MODEL_84366ee68b0b4b9296395ab6a47a3154",
            "_dom_classes": [],
            "description": "",
            "_model_name": "HTMLModel",
            "placeholder": "​",
            "_view_module": "@jupyter-widgets/controls",
            "_model_module_version": "1.5.0",
            "value": " 17704/17704 [01:23&lt;00:00, 211.78it/s]",
            "_view_count": null,
            "_view_module_version": "1.5.0",
            "description_tooltip": null,
            "_model_module": "@jupyter-widgets/controls",
            "layout": "IPY_MODEL_81366a7ee6814b5db90086c38350fa68"
          }
        },
        "9ef4dc82a8f842aeb0033482fd564397": {
          "model_module": "@jupyter-widgets/controls",
          "model_name": "ProgressStyleModel",
          "state": {
            "_view_name": "StyleView",
            "_model_name": "ProgressStyleModel",
            "description_width": "initial",
            "_view_module": "@jupyter-widgets/base",
            "_model_module_version": "1.5.0",
            "_view_count": null,
            "_view_module_version": "1.2.0",
            "bar_color": null,
            "_model_module": "@jupyter-widgets/controls"
          }
        },
        "489fe0920cd94085af38c94ece8a6b83": {
          "model_module": "@jupyter-widgets/base",
          "model_name": "LayoutModel",
          "state": {
            "_view_name": "LayoutView",
            "grid_template_rows": null,
            "right": null,
            "justify_content": null,
            "_view_module": "@jupyter-widgets/base",
            "overflow": null,
            "_model_module_version": "1.2.0",
            "_view_count": null,
            "flex_flow": null,
            "width": null,
            "min_width": null,
            "border": null,
            "align_items": null,
            "bottom": null,
            "_model_module": "@jupyter-widgets/base",
            "top": null,
            "grid_column": null,
            "overflow_y": null,
            "overflow_x": null,
            "grid_auto_flow": null,
            "grid_area": null,
            "grid_template_columns": null,
            "flex": null,
            "_model_name": "LayoutModel",
            "justify_items": null,
            "grid_row": null,
            "max_height": null,
            "align_content": null,
            "visibility": null,
            "align_self": null,
            "height": null,
            "min_height": null,
            "padding": null,
            "grid_auto_rows": null,
            "grid_gap": null,
            "max_width": null,
            "order": null,
            "_view_module_version": "1.2.0",
            "grid_template_areas": null,
            "object_position": null,
            "object_fit": null,
            "grid_auto_columns": null,
            "margin": null,
            "display": null,
            "left": null
          }
        },
        "84366ee68b0b4b9296395ab6a47a3154": {
          "model_module": "@jupyter-widgets/controls",
          "model_name": "DescriptionStyleModel",
          "state": {
            "_view_name": "StyleView",
            "_model_name": "DescriptionStyleModel",
            "description_width": "",
            "_view_module": "@jupyter-widgets/base",
            "_model_module_version": "1.5.0",
            "_view_count": null,
            "_view_module_version": "1.2.0",
            "_model_module": "@jupyter-widgets/controls"
          }
        },
        "81366a7ee6814b5db90086c38350fa68": {
          "model_module": "@jupyter-widgets/base",
          "model_name": "LayoutModel",
          "state": {
            "_view_name": "LayoutView",
            "grid_template_rows": null,
            "right": null,
            "justify_content": null,
            "_view_module": "@jupyter-widgets/base",
            "overflow": null,
            "_model_module_version": "1.2.0",
            "_view_count": null,
            "flex_flow": null,
            "width": null,
            "min_width": null,
            "border": null,
            "align_items": null,
            "bottom": null,
            "_model_module": "@jupyter-widgets/base",
            "top": null,
            "grid_column": null,
            "overflow_y": null,
            "overflow_x": null,
            "grid_auto_flow": null,
            "grid_area": null,
            "grid_template_columns": null,
            "flex": null,
            "_model_name": "LayoutModel",
            "justify_items": null,
            "grid_row": null,
            "max_height": null,
            "align_content": null,
            "visibility": null,
            "align_self": null,
            "height": null,
            "min_height": null,
            "padding": null,
            "grid_auto_rows": null,
            "grid_gap": null,
            "max_width": null,
            "order": null,
            "_view_module_version": "1.2.0",
            "grid_template_areas": null,
            "object_position": null,
            "object_fit": null,
            "grid_auto_columns": null,
            "margin": null,
            "display": null,
            "left": null
          }
        },
        "4fd338bd4eb44ab9a2c07d7b25206fc1": {
          "model_module": "@jupyter-widgets/controls",
          "model_name": "HBoxModel",
          "state": {
            "_view_name": "HBoxView",
            "_dom_classes": [],
            "_model_name": "HBoxModel",
            "_view_module": "@jupyter-widgets/controls",
            "_model_module_version": "1.5.0",
            "_view_count": null,
            "_view_module_version": "1.5.0",
            "box_style": "",
            "layout": "IPY_MODEL_29b26918a8fb472fb4313f4d0046bc4f",
            "_model_module": "@jupyter-widgets/controls",
            "children": [
              "IPY_MODEL_e0ad2b5e20124eb293f3642e5c255bfb",
              "IPY_MODEL_43c06292d4814dcab7173af285e7d0e0"
            ]
          }
        },
        "29b26918a8fb472fb4313f4d0046bc4f": {
          "model_module": "@jupyter-widgets/base",
          "model_name": "LayoutModel",
          "state": {
            "_view_name": "LayoutView",
            "grid_template_rows": null,
            "right": null,
            "justify_content": null,
            "_view_module": "@jupyter-widgets/base",
            "overflow": null,
            "_model_module_version": "1.2.0",
            "_view_count": null,
            "flex_flow": null,
            "width": null,
            "min_width": null,
            "border": null,
            "align_items": null,
            "bottom": null,
            "_model_module": "@jupyter-widgets/base",
            "top": null,
            "grid_column": null,
            "overflow_y": null,
            "overflow_x": null,
            "grid_auto_flow": null,
            "grid_area": null,
            "grid_template_columns": null,
            "flex": null,
            "_model_name": "LayoutModel",
            "justify_items": null,
            "grid_row": null,
            "max_height": null,
            "align_content": null,
            "visibility": null,
            "align_self": null,
            "height": null,
            "min_height": null,
            "padding": null,
            "grid_auto_rows": null,
            "grid_gap": null,
            "max_width": null,
            "order": null,
            "_view_module_version": "1.2.0",
            "grid_template_areas": null,
            "object_position": null,
            "object_fit": null,
            "grid_auto_columns": null,
            "margin": null,
            "display": null,
            "left": null
          }
        },
        "e0ad2b5e20124eb293f3642e5c255bfb": {
          "model_module": "@jupyter-widgets/controls",
          "model_name": "FloatProgressModel",
          "state": {
            "_view_name": "ProgressView",
            "style": "IPY_MODEL_5ecee4deee584484937d075528adf3f8",
            "_dom_classes": [],
            "description": "100%",
            "_model_name": "FloatProgressModel",
            "bar_style": "success",
            "max": 17238,
            "_view_module": "@jupyter-widgets/controls",
            "_model_module_version": "1.5.0",
            "value": 17238,
            "_view_count": null,
            "_view_module_version": "1.5.0",
            "orientation": "horizontal",
            "min": 0,
            "description_tooltip": null,
            "_model_module": "@jupyter-widgets/controls",
            "layout": "IPY_MODEL_4da6d6c489204a78a44d040b0cb4823c"
          }
        },
        "43c06292d4814dcab7173af285e7d0e0": {
          "model_module": "@jupyter-widgets/controls",
          "model_name": "HTMLModel",
          "state": {
            "_view_name": "HTMLView",
            "style": "IPY_MODEL_9bbdd021791d4e3186947f1a13dd4758",
            "_dom_classes": [],
            "description": "",
            "_model_name": "HTMLModel",
            "placeholder": "​",
            "_view_module": "@jupyter-widgets/controls",
            "_model_module_version": "1.5.0",
            "value": " 17238/17238 [1:41:56&lt;00:00,  2.82it/s]",
            "_view_count": null,
            "_view_module_version": "1.5.0",
            "description_tooltip": null,
            "_model_module": "@jupyter-widgets/controls",
            "layout": "IPY_MODEL_f1f2364b06154950b654a355577014b0"
          }
        },
        "5ecee4deee584484937d075528adf3f8": {
          "model_module": "@jupyter-widgets/controls",
          "model_name": "ProgressStyleModel",
          "state": {
            "_view_name": "StyleView",
            "_model_name": "ProgressStyleModel",
            "description_width": "initial",
            "_view_module": "@jupyter-widgets/base",
            "_model_module_version": "1.5.0",
            "_view_count": null,
            "_view_module_version": "1.2.0",
            "bar_color": null,
            "_model_module": "@jupyter-widgets/controls"
          }
        },
        "4da6d6c489204a78a44d040b0cb4823c": {
          "model_module": "@jupyter-widgets/base",
          "model_name": "LayoutModel",
          "state": {
            "_view_name": "LayoutView",
            "grid_template_rows": null,
            "right": null,
            "justify_content": null,
            "_view_module": "@jupyter-widgets/base",
            "overflow": null,
            "_model_module_version": "1.2.0",
            "_view_count": null,
            "flex_flow": null,
            "width": null,
            "min_width": null,
            "border": null,
            "align_items": null,
            "bottom": null,
            "_model_module": "@jupyter-widgets/base",
            "top": null,
            "grid_column": null,
            "overflow_y": null,
            "overflow_x": null,
            "grid_auto_flow": null,
            "grid_area": null,
            "grid_template_columns": null,
            "flex": null,
            "_model_name": "LayoutModel",
            "justify_items": null,
            "grid_row": null,
            "max_height": null,
            "align_content": null,
            "visibility": null,
            "align_self": null,
            "height": null,
            "min_height": null,
            "padding": null,
            "grid_auto_rows": null,
            "grid_gap": null,
            "max_width": null,
            "order": null,
            "_view_module_version": "1.2.0",
            "grid_template_areas": null,
            "object_position": null,
            "object_fit": null,
            "grid_auto_columns": null,
            "margin": null,
            "display": null,
            "left": null
          }
        },
        "9bbdd021791d4e3186947f1a13dd4758": {
          "model_module": "@jupyter-widgets/controls",
          "model_name": "DescriptionStyleModel",
          "state": {
            "_view_name": "StyleView",
            "_model_name": "DescriptionStyleModel",
            "description_width": "",
            "_view_module": "@jupyter-widgets/base",
            "_model_module_version": "1.5.0",
            "_view_count": null,
            "_view_module_version": "1.2.0",
            "_model_module": "@jupyter-widgets/controls"
          }
        },
        "f1f2364b06154950b654a355577014b0": {
          "model_module": "@jupyter-widgets/base",
          "model_name": "LayoutModel",
          "state": {
            "_view_name": "LayoutView",
            "grid_template_rows": null,
            "right": null,
            "justify_content": null,
            "_view_module": "@jupyter-widgets/base",
            "overflow": null,
            "_model_module_version": "1.2.0",
            "_view_count": null,
            "flex_flow": null,
            "width": null,
            "min_width": null,
            "border": null,
            "align_items": null,
            "bottom": null,
            "_model_module": "@jupyter-widgets/base",
            "top": null,
            "grid_column": null,
            "overflow_y": null,
            "overflow_x": null,
            "grid_auto_flow": null,
            "grid_area": null,
            "grid_template_columns": null,
            "flex": null,
            "_model_name": "LayoutModel",
            "justify_items": null,
            "grid_row": null,
            "max_height": null,
            "align_content": null,
            "visibility": null,
            "align_self": null,
            "height": null,
            "min_height": null,
            "padding": null,
            "grid_auto_rows": null,
            "grid_gap": null,
            "max_width": null,
            "order": null,
            "_view_module_version": "1.2.0",
            "grid_template_areas": null,
            "object_position": null,
            "object_fit": null,
            "grid_auto_columns": null,
            "margin": null,
            "display": null,
            "left": null
          }
        },
        "bcfed3fe1d7d4385afc50faefc1556c3": {
          "model_module": "@jupyter-widgets/controls",
          "model_name": "HBoxModel",
          "state": {
            "_view_name": "HBoxView",
            "_dom_classes": [],
            "_model_name": "HBoxModel",
            "_view_module": "@jupyter-widgets/controls",
            "_model_module_version": "1.5.0",
            "_view_count": null,
            "_view_module_version": "1.5.0",
            "box_style": "",
            "layout": "IPY_MODEL_f1cfb46348bf4b5380c773ad97c09122",
            "_model_module": "@jupyter-widgets/controls",
            "children": [
              "IPY_MODEL_99fe5a2096974d41ab6eef17a69601f9",
              "IPY_MODEL_6978c69d9634486696374759f1e0e14c"
            ]
          }
        },
        "f1cfb46348bf4b5380c773ad97c09122": {
          "model_module": "@jupyter-widgets/base",
          "model_name": "LayoutModel",
          "state": {
            "_view_name": "LayoutView",
            "grid_template_rows": null,
            "right": null,
            "justify_content": null,
            "_view_module": "@jupyter-widgets/base",
            "overflow": null,
            "_model_module_version": "1.2.0",
            "_view_count": null,
            "flex_flow": null,
            "width": null,
            "min_width": null,
            "border": null,
            "align_items": null,
            "bottom": null,
            "_model_module": "@jupyter-widgets/base",
            "top": null,
            "grid_column": null,
            "overflow_y": null,
            "overflow_x": null,
            "grid_auto_flow": null,
            "grid_area": null,
            "grid_template_columns": null,
            "flex": null,
            "_model_name": "LayoutModel",
            "justify_items": null,
            "grid_row": null,
            "max_height": null,
            "align_content": null,
            "visibility": null,
            "align_self": null,
            "height": null,
            "min_height": null,
            "padding": null,
            "grid_auto_rows": null,
            "grid_gap": null,
            "max_width": null,
            "order": null,
            "_view_module_version": "1.2.0",
            "grid_template_areas": null,
            "object_position": null,
            "object_fit": null,
            "grid_auto_columns": null,
            "margin": null,
            "display": null,
            "left": null
          }
        },
        "99fe5a2096974d41ab6eef17a69601f9": {
          "model_module": "@jupyter-widgets/controls",
          "model_name": "FloatProgressModel",
          "state": {
            "_view_name": "ProgressView",
            "style": "IPY_MODEL_5bc6b135774d4a02bea15130deecded7",
            "_dom_classes": [],
            "description": "100%",
            "_model_name": "FloatProgressModel",
            "bar_style": "success",
            "max": 17238,
            "_view_module": "@jupyter-widgets/controls",
            "_model_module_version": "1.5.0",
            "value": 17238,
            "_view_count": null,
            "_view_module_version": "1.5.0",
            "orientation": "horizontal",
            "min": 0,
            "description_tooltip": null,
            "_model_module": "@jupyter-widgets/controls",
            "layout": "IPY_MODEL_206084eb1d7942478fd52bc950623d0d"
          }
        },
        "6978c69d9634486696374759f1e0e14c": {
          "model_module": "@jupyter-widgets/controls",
          "model_name": "HTMLModel",
          "state": {
            "_view_name": "HTMLView",
            "style": "IPY_MODEL_dc2979a7009c486eb7681fb6aa98a00d",
            "_dom_classes": [],
            "description": "",
            "_model_name": "HTMLModel",
            "placeholder": "​",
            "_view_module": "@jupyter-widgets/controls",
            "_model_module_version": "1.5.0",
            "value": " 17238/17238 [01:09&lt;00:00, 248.47it/s]",
            "_view_count": null,
            "_view_module_version": "1.5.0",
            "description_tooltip": null,
            "_model_module": "@jupyter-widgets/controls",
            "layout": "IPY_MODEL_2f1ac21548d0485aa255d84aadf57357"
          }
        },
        "5bc6b135774d4a02bea15130deecded7": {
          "model_module": "@jupyter-widgets/controls",
          "model_name": "ProgressStyleModel",
          "state": {
            "_view_name": "StyleView",
            "_model_name": "ProgressStyleModel",
            "description_width": "initial",
            "_view_module": "@jupyter-widgets/base",
            "_model_module_version": "1.5.0",
            "_view_count": null,
            "_view_module_version": "1.2.0",
            "bar_color": null,
            "_model_module": "@jupyter-widgets/controls"
          }
        },
        "206084eb1d7942478fd52bc950623d0d": {
          "model_module": "@jupyter-widgets/base",
          "model_name": "LayoutModel",
          "state": {
            "_view_name": "LayoutView",
            "grid_template_rows": null,
            "right": null,
            "justify_content": null,
            "_view_module": "@jupyter-widgets/base",
            "overflow": null,
            "_model_module_version": "1.2.0",
            "_view_count": null,
            "flex_flow": null,
            "width": null,
            "min_width": null,
            "border": null,
            "align_items": null,
            "bottom": null,
            "_model_module": "@jupyter-widgets/base",
            "top": null,
            "grid_column": null,
            "overflow_y": null,
            "overflow_x": null,
            "grid_auto_flow": null,
            "grid_area": null,
            "grid_template_columns": null,
            "flex": null,
            "_model_name": "LayoutModel",
            "justify_items": null,
            "grid_row": null,
            "max_height": null,
            "align_content": null,
            "visibility": null,
            "align_self": null,
            "height": null,
            "min_height": null,
            "padding": null,
            "grid_auto_rows": null,
            "grid_gap": null,
            "max_width": null,
            "order": null,
            "_view_module_version": "1.2.0",
            "grid_template_areas": null,
            "object_position": null,
            "object_fit": null,
            "grid_auto_columns": null,
            "margin": null,
            "display": null,
            "left": null
          }
        },
        "dc2979a7009c486eb7681fb6aa98a00d": {
          "model_module": "@jupyter-widgets/controls",
          "model_name": "DescriptionStyleModel",
          "state": {
            "_view_name": "StyleView",
            "_model_name": "DescriptionStyleModel",
            "description_width": "",
            "_view_module": "@jupyter-widgets/base",
            "_model_module_version": "1.5.0",
            "_view_count": null,
            "_view_module_version": "1.2.0",
            "_model_module": "@jupyter-widgets/controls"
          }
        },
        "2f1ac21548d0485aa255d84aadf57357": {
          "model_module": "@jupyter-widgets/base",
          "model_name": "LayoutModel",
          "state": {
            "_view_name": "LayoutView",
            "grid_template_rows": null,
            "right": null,
            "justify_content": null,
            "_view_module": "@jupyter-widgets/base",
            "overflow": null,
            "_model_module_version": "1.2.0",
            "_view_count": null,
            "flex_flow": null,
            "width": null,
            "min_width": null,
            "border": null,
            "align_items": null,
            "bottom": null,
            "_model_module": "@jupyter-widgets/base",
            "top": null,
            "grid_column": null,
            "overflow_y": null,
            "overflow_x": null,
            "grid_auto_flow": null,
            "grid_area": null,
            "grid_template_columns": null,
            "flex": null,
            "_model_name": "LayoutModel",
            "justify_items": null,
            "grid_row": null,
            "max_height": null,
            "align_content": null,
            "visibility": null,
            "align_self": null,
            "height": null,
            "min_height": null,
            "padding": null,
            "grid_auto_rows": null,
            "grid_gap": null,
            "max_width": null,
            "order": null,
            "_view_module_version": "1.2.0",
            "grid_template_areas": null,
            "object_position": null,
            "object_fit": null,
            "grid_auto_columns": null,
            "margin": null,
            "display": null,
            "left": null
          }
        },
        "28279388983f428fa69264057f4d2959": {
          "model_module": "@jupyter-widgets/controls",
          "model_name": "HBoxModel",
          "state": {
            "_view_name": "HBoxView",
            "_dom_classes": [],
            "_model_name": "HBoxModel",
            "_view_module": "@jupyter-widgets/controls",
            "_model_module_version": "1.5.0",
            "_view_count": null,
            "_view_module_version": "1.5.0",
            "box_style": "",
            "layout": "IPY_MODEL_749671cafad84a8ebec3e7aeb9a53561",
            "_model_module": "@jupyter-widgets/controls",
            "children": [
              "IPY_MODEL_38c66dfb3b774a04ae63c9641132f627",
              "IPY_MODEL_c3dbce6e1b7345709b4795ee80f544ee"
            ]
          }
        },
        "749671cafad84a8ebec3e7aeb9a53561": {
          "model_module": "@jupyter-widgets/base",
          "model_name": "LayoutModel",
          "state": {
            "_view_name": "LayoutView",
            "grid_template_rows": null,
            "right": null,
            "justify_content": null,
            "_view_module": "@jupyter-widgets/base",
            "overflow": null,
            "_model_module_version": "1.2.0",
            "_view_count": null,
            "flex_flow": null,
            "width": null,
            "min_width": null,
            "border": null,
            "align_items": null,
            "bottom": null,
            "_model_module": "@jupyter-widgets/base",
            "top": null,
            "grid_column": null,
            "overflow_y": null,
            "overflow_x": null,
            "grid_auto_flow": null,
            "grid_area": null,
            "grid_template_columns": null,
            "flex": null,
            "_model_name": "LayoutModel",
            "justify_items": null,
            "grid_row": null,
            "max_height": null,
            "align_content": null,
            "visibility": null,
            "align_self": null,
            "height": null,
            "min_height": null,
            "padding": null,
            "grid_auto_rows": null,
            "grid_gap": null,
            "max_width": null,
            "order": null,
            "_view_module_version": "1.2.0",
            "grid_template_areas": null,
            "object_position": null,
            "object_fit": null,
            "grid_auto_columns": null,
            "margin": null,
            "display": null,
            "left": null
          }
        },
        "38c66dfb3b774a04ae63c9641132f627": {
          "model_module": "@jupyter-widgets/controls",
          "model_name": "FloatProgressModel",
          "state": {
            "_view_name": "ProgressView",
            "style": "IPY_MODEL_5ea396590ac344018b9eb2ae2c8c0a6d",
            "_dom_classes": [],
            "description": "100%",
            "_model_name": "FloatProgressModel",
            "bar_style": "success",
            "max": 17238,
            "_view_module": "@jupyter-widgets/controls",
            "_model_module_version": "1.5.0",
            "value": 17238,
            "_view_count": null,
            "_view_module_version": "1.5.0",
            "orientation": "horizontal",
            "min": 0,
            "description_tooltip": null,
            "_model_module": "@jupyter-widgets/controls",
            "layout": "IPY_MODEL_3f83f4107aca4d169029af182c8b7a4c"
          }
        },
        "c3dbce6e1b7345709b4795ee80f544ee": {
          "model_module": "@jupyter-widgets/controls",
          "model_name": "HTMLModel",
          "state": {
            "_view_name": "HTMLView",
            "style": "IPY_MODEL_dffa1cd7ade34fd7bb22fa078c2ba756",
            "_dom_classes": [],
            "description": "",
            "_model_name": "HTMLModel",
            "placeholder": "​",
            "_view_module": "@jupyter-widgets/controls",
            "_model_module_version": "1.5.0",
            "value": " 17238/17238 [49:34&lt;00:00,  5.80it/s]",
            "_view_count": null,
            "_view_module_version": "1.5.0",
            "description_tooltip": null,
            "_model_module": "@jupyter-widgets/controls",
            "layout": "IPY_MODEL_cbfcca3d856d4e988de24075a6d61271"
          }
        },
        "5ea396590ac344018b9eb2ae2c8c0a6d": {
          "model_module": "@jupyter-widgets/controls",
          "model_name": "ProgressStyleModel",
          "state": {
            "_view_name": "StyleView",
            "_model_name": "ProgressStyleModel",
            "description_width": "initial",
            "_view_module": "@jupyter-widgets/base",
            "_model_module_version": "1.5.0",
            "_view_count": null,
            "_view_module_version": "1.2.0",
            "bar_color": null,
            "_model_module": "@jupyter-widgets/controls"
          }
        },
        "3f83f4107aca4d169029af182c8b7a4c": {
          "model_module": "@jupyter-widgets/base",
          "model_name": "LayoutModel",
          "state": {
            "_view_name": "LayoutView",
            "grid_template_rows": null,
            "right": null,
            "justify_content": null,
            "_view_module": "@jupyter-widgets/base",
            "overflow": null,
            "_model_module_version": "1.2.0",
            "_view_count": null,
            "flex_flow": null,
            "width": null,
            "min_width": null,
            "border": null,
            "align_items": null,
            "bottom": null,
            "_model_module": "@jupyter-widgets/base",
            "top": null,
            "grid_column": null,
            "overflow_y": null,
            "overflow_x": null,
            "grid_auto_flow": null,
            "grid_area": null,
            "grid_template_columns": null,
            "flex": null,
            "_model_name": "LayoutModel",
            "justify_items": null,
            "grid_row": null,
            "max_height": null,
            "align_content": null,
            "visibility": null,
            "align_self": null,
            "height": null,
            "min_height": null,
            "padding": null,
            "grid_auto_rows": null,
            "grid_gap": null,
            "max_width": null,
            "order": null,
            "_view_module_version": "1.2.0",
            "grid_template_areas": null,
            "object_position": null,
            "object_fit": null,
            "grid_auto_columns": null,
            "margin": null,
            "display": null,
            "left": null
          }
        },
        "dffa1cd7ade34fd7bb22fa078c2ba756": {
          "model_module": "@jupyter-widgets/controls",
          "model_name": "DescriptionStyleModel",
          "state": {
            "_view_name": "StyleView",
            "_model_name": "DescriptionStyleModel",
            "description_width": "",
            "_view_module": "@jupyter-widgets/base",
            "_model_module_version": "1.5.0",
            "_view_count": null,
            "_view_module_version": "1.2.0",
            "_model_module": "@jupyter-widgets/controls"
          }
        },
        "cbfcca3d856d4e988de24075a6d61271": {
          "model_module": "@jupyter-widgets/base",
          "model_name": "LayoutModel",
          "state": {
            "_view_name": "LayoutView",
            "grid_template_rows": null,
            "right": null,
            "justify_content": null,
            "_view_module": "@jupyter-widgets/base",
            "overflow": null,
            "_model_module_version": "1.2.0",
            "_view_count": null,
            "flex_flow": null,
            "width": null,
            "min_width": null,
            "border": null,
            "align_items": null,
            "bottom": null,
            "_model_module": "@jupyter-widgets/base",
            "top": null,
            "grid_column": null,
            "overflow_y": null,
            "overflow_x": null,
            "grid_auto_flow": null,
            "grid_area": null,
            "grid_template_columns": null,
            "flex": null,
            "_model_name": "LayoutModel",
            "justify_items": null,
            "grid_row": null,
            "max_height": null,
            "align_content": null,
            "visibility": null,
            "align_self": null,
            "height": null,
            "min_height": null,
            "padding": null,
            "grid_auto_rows": null,
            "grid_gap": null,
            "max_width": null,
            "order": null,
            "_view_module_version": "1.2.0",
            "grid_template_areas": null,
            "object_position": null,
            "object_fit": null,
            "grid_auto_columns": null,
            "margin": null,
            "display": null,
            "left": null
          }
        },
        "59fe69d2a30841469fb65ac62f245ddd": {
          "model_module": "@jupyter-widgets/controls",
          "model_name": "HBoxModel",
          "state": {
            "_view_name": "HBoxView",
            "_dom_classes": [],
            "_model_name": "HBoxModel",
            "_view_module": "@jupyter-widgets/controls",
            "_model_module_version": "1.5.0",
            "_view_count": null,
            "_view_module_version": "1.5.0",
            "box_style": "",
            "layout": "IPY_MODEL_88b65587b62d4f94b01793dd939aa94b",
            "_model_module": "@jupyter-widgets/controls",
            "children": [
              "IPY_MODEL_52b1e75b39f74bbfb6b6ad15f6dc06aa",
              "IPY_MODEL_be9fdb2a1912473a86d445b67b7ec8bc"
            ]
          }
        },
        "88b65587b62d4f94b01793dd939aa94b": {
          "model_module": "@jupyter-widgets/base",
          "model_name": "LayoutModel",
          "state": {
            "_view_name": "LayoutView",
            "grid_template_rows": null,
            "right": null,
            "justify_content": null,
            "_view_module": "@jupyter-widgets/base",
            "overflow": null,
            "_model_module_version": "1.2.0",
            "_view_count": null,
            "flex_flow": null,
            "width": null,
            "min_width": null,
            "border": null,
            "align_items": null,
            "bottom": null,
            "_model_module": "@jupyter-widgets/base",
            "top": null,
            "grid_column": null,
            "overflow_y": null,
            "overflow_x": null,
            "grid_auto_flow": null,
            "grid_area": null,
            "grid_template_columns": null,
            "flex": null,
            "_model_name": "LayoutModel",
            "justify_items": null,
            "grid_row": null,
            "max_height": null,
            "align_content": null,
            "visibility": null,
            "align_self": null,
            "height": null,
            "min_height": null,
            "padding": null,
            "grid_auto_rows": null,
            "grid_gap": null,
            "max_width": null,
            "order": null,
            "_view_module_version": "1.2.0",
            "grid_template_areas": null,
            "object_position": null,
            "object_fit": null,
            "grid_auto_columns": null,
            "margin": null,
            "display": null,
            "left": null
          }
        },
        "52b1e75b39f74bbfb6b6ad15f6dc06aa": {
          "model_module": "@jupyter-widgets/controls",
          "model_name": "FloatProgressModel",
          "state": {
            "_view_name": "ProgressView",
            "style": "IPY_MODEL_e62b43e9de014d17bae5d7c38237f7f8",
            "_dom_classes": [],
            "description": "100%",
            "_model_name": "FloatProgressModel",
            "bar_style": "success",
            "max": 17704,
            "_view_module": "@jupyter-widgets/controls",
            "_model_module_version": "1.5.0",
            "value": 17704,
            "_view_count": null,
            "_view_module_version": "1.5.0",
            "orientation": "horizontal",
            "min": 0,
            "description_tooltip": null,
            "_model_module": "@jupyter-widgets/controls",
            "layout": "IPY_MODEL_de17dc35a36a4710974f30a0ff092690"
          }
        },
        "be9fdb2a1912473a86d445b67b7ec8bc": {
          "model_module": "@jupyter-widgets/controls",
          "model_name": "HTMLModel",
          "state": {
            "_view_name": "HTMLView",
            "style": "IPY_MODEL_bb6a0dca0bf849c58a35fac9d4abef8a",
            "_dom_classes": [],
            "description": "",
            "_model_name": "HTMLModel",
            "placeholder": "​",
            "_view_module": "@jupyter-widgets/controls",
            "_model_module_version": "1.5.0",
            "value": " 17704/17704 [01:11&lt;00:00, 248.36it/s]",
            "_view_count": null,
            "_view_module_version": "1.5.0",
            "description_tooltip": null,
            "_model_module": "@jupyter-widgets/controls",
            "layout": "IPY_MODEL_ca5394e8e14b453295ae643ea2c484da"
          }
        },
        "e62b43e9de014d17bae5d7c38237f7f8": {
          "model_module": "@jupyter-widgets/controls",
          "model_name": "ProgressStyleModel",
          "state": {
            "_view_name": "StyleView",
            "_model_name": "ProgressStyleModel",
            "description_width": "initial",
            "_view_module": "@jupyter-widgets/base",
            "_model_module_version": "1.5.0",
            "_view_count": null,
            "_view_module_version": "1.2.0",
            "bar_color": null,
            "_model_module": "@jupyter-widgets/controls"
          }
        },
        "de17dc35a36a4710974f30a0ff092690": {
          "model_module": "@jupyter-widgets/base",
          "model_name": "LayoutModel",
          "state": {
            "_view_name": "LayoutView",
            "grid_template_rows": null,
            "right": null,
            "justify_content": null,
            "_view_module": "@jupyter-widgets/base",
            "overflow": null,
            "_model_module_version": "1.2.0",
            "_view_count": null,
            "flex_flow": null,
            "width": null,
            "min_width": null,
            "border": null,
            "align_items": null,
            "bottom": null,
            "_model_module": "@jupyter-widgets/base",
            "top": null,
            "grid_column": null,
            "overflow_y": null,
            "overflow_x": null,
            "grid_auto_flow": null,
            "grid_area": null,
            "grid_template_columns": null,
            "flex": null,
            "_model_name": "LayoutModel",
            "justify_items": null,
            "grid_row": null,
            "max_height": null,
            "align_content": null,
            "visibility": null,
            "align_self": null,
            "height": null,
            "min_height": null,
            "padding": null,
            "grid_auto_rows": null,
            "grid_gap": null,
            "max_width": null,
            "order": null,
            "_view_module_version": "1.2.0",
            "grid_template_areas": null,
            "object_position": null,
            "object_fit": null,
            "grid_auto_columns": null,
            "margin": null,
            "display": null,
            "left": null
          }
        },
        "bb6a0dca0bf849c58a35fac9d4abef8a": {
          "model_module": "@jupyter-widgets/controls",
          "model_name": "DescriptionStyleModel",
          "state": {
            "_view_name": "StyleView",
            "_model_name": "DescriptionStyleModel",
            "description_width": "",
            "_view_module": "@jupyter-widgets/base",
            "_model_module_version": "1.5.0",
            "_view_count": null,
            "_view_module_version": "1.2.0",
            "_model_module": "@jupyter-widgets/controls"
          }
        },
        "ca5394e8e14b453295ae643ea2c484da": {
          "model_module": "@jupyter-widgets/base",
          "model_name": "LayoutModel",
          "state": {
            "_view_name": "LayoutView",
            "grid_template_rows": null,
            "right": null,
            "justify_content": null,
            "_view_module": "@jupyter-widgets/base",
            "overflow": null,
            "_model_module_version": "1.2.0",
            "_view_count": null,
            "flex_flow": null,
            "width": null,
            "min_width": null,
            "border": null,
            "align_items": null,
            "bottom": null,
            "_model_module": "@jupyter-widgets/base",
            "top": null,
            "grid_column": null,
            "overflow_y": null,
            "overflow_x": null,
            "grid_auto_flow": null,
            "grid_area": null,
            "grid_template_columns": null,
            "flex": null,
            "_model_name": "LayoutModel",
            "justify_items": null,
            "grid_row": null,
            "max_height": null,
            "align_content": null,
            "visibility": null,
            "align_self": null,
            "height": null,
            "min_height": null,
            "padding": null,
            "grid_auto_rows": null,
            "grid_gap": null,
            "max_width": null,
            "order": null,
            "_view_module_version": "1.2.0",
            "grid_template_areas": null,
            "object_position": null,
            "object_fit": null,
            "grid_auto_columns": null,
            "margin": null,
            "display": null,
            "left": null
          }
        },
        "67a12875fee84701a125e201b46ec23e": {
          "model_module": "@jupyter-widgets/controls",
          "model_name": "HBoxModel",
          "state": {
            "_view_name": "HBoxView",
            "_dom_classes": [],
            "_model_name": "HBoxModel",
            "_view_module": "@jupyter-widgets/controls",
            "_model_module_version": "1.5.0",
            "_view_count": null,
            "_view_module_version": "1.5.0",
            "box_style": "",
            "layout": "IPY_MODEL_2867f056b2a34ee69067a581b20ce2c6",
            "_model_module": "@jupyter-widgets/controls",
            "children": [
              "IPY_MODEL_d9ea9e1c5c75438987cd6d14c024298e",
              "IPY_MODEL_2f7a9e152a1d4e08a4ce67e6233325b9"
            ]
          }
        },
        "2867f056b2a34ee69067a581b20ce2c6": {
          "model_module": "@jupyter-widgets/base",
          "model_name": "LayoutModel",
          "state": {
            "_view_name": "LayoutView",
            "grid_template_rows": null,
            "right": null,
            "justify_content": null,
            "_view_module": "@jupyter-widgets/base",
            "overflow": null,
            "_model_module_version": "1.2.0",
            "_view_count": null,
            "flex_flow": null,
            "width": null,
            "min_width": null,
            "border": null,
            "align_items": null,
            "bottom": null,
            "_model_module": "@jupyter-widgets/base",
            "top": null,
            "grid_column": null,
            "overflow_y": null,
            "overflow_x": null,
            "grid_auto_flow": null,
            "grid_area": null,
            "grid_template_columns": null,
            "flex": null,
            "_model_name": "LayoutModel",
            "justify_items": null,
            "grid_row": null,
            "max_height": null,
            "align_content": null,
            "visibility": null,
            "align_self": null,
            "height": null,
            "min_height": null,
            "padding": null,
            "grid_auto_rows": null,
            "grid_gap": null,
            "max_width": null,
            "order": null,
            "_view_module_version": "1.2.0",
            "grid_template_areas": null,
            "object_position": null,
            "object_fit": null,
            "grid_auto_columns": null,
            "margin": null,
            "display": null,
            "left": null
          }
        },
        "d9ea9e1c5c75438987cd6d14c024298e": {
          "model_module": "@jupyter-widgets/controls",
          "model_name": "FloatProgressModel",
          "state": {
            "_view_name": "ProgressView",
            "style": "IPY_MODEL_0ed9310cc1a04719b1fd9c5f0b73165d",
            "_dom_classes": [],
            "description": "100%",
            "_model_name": "FloatProgressModel",
            "bar_style": "success",
            "max": 17238,
            "_view_module": "@jupyter-widgets/controls",
            "_model_module_version": "1.5.0",
            "value": 17238,
            "_view_count": null,
            "_view_module_version": "1.5.0",
            "orientation": "horizontal",
            "min": 0,
            "description_tooltip": null,
            "_model_module": "@jupyter-widgets/controls",
            "layout": "IPY_MODEL_9d67498f48ab4a33878f01e91e034d24"
          }
        },
        "2f7a9e152a1d4e08a4ce67e6233325b9": {
          "model_module": "@jupyter-widgets/controls",
          "model_name": "HTMLModel",
          "state": {
            "_view_name": "HTMLView",
            "style": "IPY_MODEL_9700e5229bd34c8490d64f33b45f1380",
            "_dom_classes": [],
            "description": "",
            "_model_name": "HTMLModel",
            "placeholder": "​",
            "_view_module": "@jupyter-widgets/controls",
            "_model_module_version": "1.5.0",
            "value": " 17238/17238 [33:08&lt;00:00,  8.67it/s]",
            "_view_count": null,
            "_view_module_version": "1.5.0",
            "description_tooltip": null,
            "_model_module": "@jupyter-widgets/controls",
            "layout": "IPY_MODEL_7d5ea7b9702d47c8892e1f9a504b5c1a"
          }
        },
        "0ed9310cc1a04719b1fd9c5f0b73165d": {
          "model_module": "@jupyter-widgets/controls",
          "model_name": "ProgressStyleModel",
          "state": {
            "_view_name": "StyleView",
            "_model_name": "ProgressStyleModel",
            "description_width": "initial",
            "_view_module": "@jupyter-widgets/base",
            "_model_module_version": "1.5.0",
            "_view_count": null,
            "_view_module_version": "1.2.0",
            "bar_color": null,
            "_model_module": "@jupyter-widgets/controls"
          }
        },
        "9d67498f48ab4a33878f01e91e034d24": {
          "model_module": "@jupyter-widgets/base",
          "model_name": "LayoutModel",
          "state": {
            "_view_name": "LayoutView",
            "grid_template_rows": null,
            "right": null,
            "justify_content": null,
            "_view_module": "@jupyter-widgets/base",
            "overflow": null,
            "_model_module_version": "1.2.0",
            "_view_count": null,
            "flex_flow": null,
            "width": null,
            "min_width": null,
            "border": null,
            "align_items": null,
            "bottom": null,
            "_model_module": "@jupyter-widgets/base",
            "top": null,
            "grid_column": null,
            "overflow_y": null,
            "overflow_x": null,
            "grid_auto_flow": null,
            "grid_area": null,
            "grid_template_columns": null,
            "flex": null,
            "_model_name": "LayoutModel",
            "justify_items": null,
            "grid_row": null,
            "max_height": null,
            "align_content": null,
            "visibility": null,
            "align_self": null,
            "height": null,
            "min_height": null,
            "padding": null,
            "grid_auto_rows": null,
            "grid_gap": null,
            "max_width": null,
            "order": null,
            "_view_module_version": "1.2.0",
            "grid_template_areas": null,
            "object_position": null,
            "object_fit": null,
            "grid_auto_columns": null,
            "margin": null,
            "display": null,
            "left": null
          }
        },
        "9700e5229bd34c8490d64f33b45f1380": {
          "model_module": "@jupyter-widgets/controls",
          "model_name": "DescriptionStyleModel",
          "state": {
            "_view_name": "StyleView",
            "_model_name": "DescriptionStyleModel",
            "description_width": "",
            "_view_module": "@jupyter-widgets/base",
            "_model_module_version": "1.5.0",
            "_view_count": null,
            "_view_module_version": "1.2.0",
            "_model_module": "@jupyter-widgets/controls"
          }
        },
        "7d5ea7b9702d47c8892e1f9a504b5c1a": {
          "model_module": "@jupyter-widgets/base",
          "model_name": "LayoutModel",
          "state": {
            "_view_name": "LayoutView",
            "grid_template_rows": null,
            "right": null,
            "justify_content": null,
            "_view_module": "@jupyter-widgets/base",
            "overflow": null,
            "_model_module_version": "1.2.0",
            "_view_count": null,
            "flex_flow": null,
            "width": null,
            "min_width": null,
            "border": null,
            "align_items": null,
            "bottom": null,
            "_model_module": "@jupyter-widgets/base",
            "top": null,
            "grid_column": null,
            "overflow_y": null,
            "overflow_x": null,
            "grid_auto_flow": null,
            "grid_area": null,
            "grid_template_columns": null,
            "flex": null,
            "_model_name": "LayoutModel",
            "justify_items": null,
            "grid_row": null,
            "max_height": null,
            "align_content": null,
            "visibility": null,
            "align_self": null,
            "height": null,
            "min_height": null,
            "padding": null,
            "grid_auto_rows": null,
            "grid_gap": null,
            "max_width": null,
            "order": null,
            "_view_module_version": "1.2.0",
            "grid_template_areas": null,
            "object_position": null,
            "object_fit": null,
            "grid_auto_columns": null,
            "margin": null,
            "display": null,
            "left": null
          }
        },
        "01a149f1d4684da8be71aa2d4260c22a": {
          "model_module": "@jupyter-widgets/controls",
          "model_name": "HBoxModel",
          "state": {
            "_view_name": "HBoxView",
            "_dom_classes": [],
            "_model_name": "HBoxModel",
            "_view_module": "@jupyter-widgets/controls",
            "_model_module_version": "1.5.0",
            "_view_count": null,
            "_view_module_version": "1.5.0",
            "box_style": "",
            "layout": "IPY_MODEL_db0174ca50f6471e9b9aaddcc1398021",
            "_model_module": "@jupyter-widgets/controls",
            "children": [
              "IPY_MODEL_edc7b75de33548828da69111180a21b9",
              "IPY_MODEL_7f1a6d9ff19547b1a4ef2ce34a19290c"
            ]
          }
        },
        "db0174ca50f6471e9b9aaddcc1398021": {
          "model_module": "@jupyter-widgets/base",
          "model_name": "LayoutModel",
          "state": {
            "_view_name": "LayoutView",
            "grid_template_rows": null,
            "right": null,
            "justify_content": null,
            "_view_module": "@jupyter-widgets/base",
            "overflow": null,
            "_model_module_version": "1.2.0",
            "_view_count": null,
            "flex_flow": null,
            "width": null,
            "min_width": null,
            "border": null,
            "align_items": null,
            "bottom": null,
            "_model_module": "@jupyter-widgets/base",
            "top": null,
            "grid_column": null,
            "overflow_y": null,
            "overflow_x": null,
            "grid_auto_flow": null,
            "grid_area": null,
            "grid_template_columns": null,
            "flex": null,
            "_model_name": "LayoutModel",
            "justify_items": null,
            "grid_row": null,
            "max_height": null,
            "align_content": null,
            "visibility": null,
            "align_self": null,
            "height": null,
            "min_height": null,
            "padding": null,
            "grid_auto_rows": null,
            "grid_gap": null,
            "max_width": null,
            "order": null,
            "_view_module_version": "1.2.0",
            "grid_template_areas": null,
            "object_position": null,
            "object_fit": null,
            "grid_auto_columns": null,
            "margin": null,
            "display": null,
            "left": null
          }
        },
        "edc7b75de33548828da69111180a21b9": {
          "model_module": "@jupyter-widgets/controls",
          "model_name": "FloatProgressModel",
          "state": {
            "_view_name": "ProgressView",
            "style": "IPY_MODEL_d441f58cdd804e899544233b029330e3",
            "_dom_classes": [],
            "description": "100%",
            "_model_name": "FloatProgressModel",
            "bar_style": "success",
            "max": 17238,
            "_view_module": "@jupyter-widgets/controls",
            "_model_module_version": "1.5.0",
            "value": 17238,
            "_view_count": null,
            "_view_module_version": "1.5.0",
            "orientation": "horizontal",
            "min": 0,
            "description_tooltip": null,
            "_model_module": "@jupyter-widgets/controls",
            "layout": "IPY_MODEL_e0e7e4b32a564703b4a5754430c69b44"
          }
        },
        "7f1a6d9ff19547b1a4ef2ce34a19290c": {
          "model_module": "@jupyter-widgets/controls",
          "model_name": "HTMLModel",
          "state": {
            "_view_name": "HTMLView",
            "style": "IPY_MODEL_a124ba572e294725905c22ad7e2b2285",
            "_dom_classes": [],
            "description": "",
            "_model_name": "HTMLModel",
            "placeholder": "​",
            "_view_module": "@jupyter-widgets/controls",
            "_model_module_version": "1.5.0",
            "value": " 17238/17238 [01:16&lt;00:00, 224.44it/s]",
            "_view_count": null,
            "_view_module_version": "1.5.0",
            "description_tooltip": null,
            "_model_module": "@jupyter-widgets/controls",
            "layout": "IPY_MODEL_91a9c9c45c2c42a8be98b51aced6f63c"
          }
        },
        "d441f58cdd804e899544233b029330e3": {
          "model_module": "@jupyter-widgets/controls",
          "model_name": "ProgressStyleModel",
          "state": {
            "_view_name": "StyleView",
            "_model_name": "ProgressStyleModel",
            "description_width": "initial",
            "_view_module": "@jupyter-widgets/base",
            "_model_module_version": "1.5.0",
            "_view_count": null,
            "_view_module_version": "1.2.0",
            "bar_color": null,
            "_model_module": "@jupyter-widgets/controls"
          }
        },
        "e0e7e4b32a564703b4a5754430c69b44": {
          "model_module": "@jupyter-widgets/base",
          "model_name": "LayoutModel",
          "state": {
            "_view_name": "LayoutView",
            "grid_template_rows": null,
            "right": null,
            "justify_content": null,
            "_view_module": "@jupyter-widgets/base",
            "overflow": null,
            "_model_module_version": "1.2.0",
            "_view_count": null,
            "flex_flow": null,
            "width": null,
            "min_width": null,
            "border": null,
            "align_items": null,
            "bottom": null,
            "_model_module": "@jupyter-widgets/base",
            "top": null,
            "grid_column": null,
            "overflow_y": null,
            "overflow_x": null,
            "grid_auto_flow": null,
            "grid_area": null,
            "grid_template_columns": null,
            "flex": null,
            "_model_name": "LayoutModel",
            "justify_items": null,
            "grid_row": null,
            "max_height": null,
            "align_content": null,
            "visibility": null,
            "align_self": null,
            "height": null,
            "min_height": null,
            "padding": null,
            "grid_auto_rows": null,
            "grid_gap": null,
            "max_width": null,
            "order": null,
            "_view_module_version": "1.2.0",
            "grid_template_areas": null,
            "object_position": null,
            "object_fit": null,
            "grid_auto_columns": null,
            "margin": null,
            "display": null,
            "left": null
          }
        },
        "a124ba572e294725905c22ad7e2b2285": {
          "model_module": "@jupyter-widgets/controls",
          "model_name": "DescriptionStyleModel",
          "state": {
            "_view_name": "StyleView",
            "_model_name": "DescriptionStyleModel",
            "description_width": "",
            "_view_module": "@jupyter-widgets/base",
            "_model_module_version": "1.5.0",
            "_view_count": null,
            "_view_module_version": "1.2.0",
            "_model_module": "@jupyter-widgets/controls"
          }
        },
        "91a9c9c45c2c42a8be98b51aced6f63c": {
          "model_module": "@jupyter-widgets/base",
          "model_name": "LayoutModel",
          "state": {
            "_view_name": "LayoutView",
            "grid_template_rows": null,
            "right": null,
            "justify_content": null,
            "_view_module": "@jupyter-widgets/base",
            "overflow": null,
            "_model_module_version": "1.2.0",
            "_view_count": null,
            "flex_flow": null,
            "width": null,
            "min_width": null,
            "border": null,
            "align_items": null,
            "bottom": null,
            "_model_module": "@jupyter-widgets/base",
            "top": null,
            "grid_column": null,
            "overflow_y": null,
            "overflow_x": null,
            "grid_auto_flow": null,
            "grid_area": null,
            "grid_template_columns": null,
            "flex": null,
            "_model_name": "LayoutModel",
            "justify_items": null,
            "grid_row": null,
            "max_height": null,
            "align_content": null,
            "visibility": null,
            "align_self": null,
            "height": null,
            "min_height": null,
            "padding": null,
            "grid_auto_rows": null,
            "grid_gap": null,
            "max_width": null,
            "order": null,
            "_view_module_version": "1.2.0",
            "grid_template_areas": null,
            "object_position": null,
            "object_fit": null,
            "grid_auto_columns": null,
            "margin": null,
            "display": null,
            "left": null
          }
        },
        "3bc99aa100174b29826735e8753a9b9b": {
          "model_module": "@jupyter-widgets/controls",
          "model_name": "HBoxModel",
          "state": {
            "_view_name": "HBoxView",
            "_dom_classes": [],
            "_model_name": "HBoxModel",
            "_view_module": "@jupyter-widgets/controls",
            "_model_module_version": "1.5.0",
            "_view_count": null,
            "_view_module_version": "1.5.0",
            "box_style": "",
            "layout": "IPY_MODEL_d9bb3d4f74344d3baf16d257f61789dd",
            "_model_module": "@jupyter-widgets/controls",
            "children": [
              "IPY_MODEL_81439b7f0901487eae926c9db0ff3f0b",
              "IPY_MODEL_180016c9ab324b1c918f09f68fa746b4"
            ]
          }
        },
        "d9bb3d4f74344d3baf16d257f61789dd": {
          "model_module": "@jupyter-widgets/base",
          "model_name": "LayoutModel",
          "state": {
            "_view_name": "LayoutView",
            "grid_template_rows": null,
            "right": null,
            "justify_content": null,
            "_view_module": "@jupyter-widgets/base",
            "overflow": null,
            "_model_module_version": "1.2.0",
            "_view_count": null,
            "flex_flow": null,
            "width": null,
            "min_width": null,
            "border": null,
            "align_items": null,
            "bottom": null,
            "_model_module": "@jupyter-widgets/base",
            "top": null,
            "grid_column": null,
            "overflow_y": null,
            "overflow_x": null,
            "grid_auto_flow": null,
            "grid_area": null,
            "grid_template_columns": null,
            "flex": null,
            "_model_name": "LayoutModel",
            "justify_items": null,
            "grid_row": null,
            "max_height": null,
            "align_content": null,
            "visibility": null,
            "align_self": null,
            "height": null,
            "min_height": null,
            "padding": null,
            "grid_auto_rows": null,
            "grid_gap": null,
            "max_width": null,
            "order": null,
            "_view_module_version": "1.2.0",
            "grid_template_areas": null,
            "object_position": null,
            "object_fit": null,
            "grid_auto_columns": null,
            "margin": null,
            "display": null,
            "left": null
          }
        },
        "81439b7f0901487eae926c9db0ff3f0b": {
          "model_module": "@jupyter-widgets/controls",
          "model_name": "FloatProgressModel",
          "state": {
            "_view_name": "ProgressView",
            "style": "IPY_MODEL_1cfbc3c9ef044fcaa51833ac7450d2bc",
            "_dom_classes": [],
            "description": "100%",
            "_model_name": "FloatProgressModel",
            "bar_style": "success",
            "max": 17238,
            "_view_module": "@jupyter-widgets/controls",
            "_model_module_version": "1.5.0",
            "value": 17238,
            "_view_count": null,
            "_view_module_version": "1.5.0",
            "orientation": "horizontal",
            "min": 0,
            "description_tooltip": null,
            "_model_module": "@jupyter-widgets/controls",
            "layout": "IPY_MODEL_cce77942666743f7bcf079005c0b9e25"
          }
        },
        "180016c9ab324b1c918f09f68fa746b4": {
          "model_module": "@jupyter-widgets/controls",
          "model_name": "HTMLModel",
          "state": {
            "_view_name": "HTMLView",
            "style": "IPY_MODEL_aeb16d030b7c43178af37db473391d96",
            "_dom_classes": [],
            "description": "",
            "_model_name": "HTMLModel",
            "placeholder": "​",
            "_view_module": "@jupyter-widgets/controls",
            "_model_module_version": "1.5.0",
            "value": " 17238/17238 [49:43&lt;00:00,  5.78it/s]",
            "_view_count": null,
            "_view_module_version": "1.5.0",
            "description_tooltip": null,
            "_model_module": "@jupyter-widgets/controls",
            "layout": "IPY_MODEL_a1cd50e549b74afaa8406745ad685b25"
          }
        },
        "1cfbc3c9ef044fcaa51833ac7450d2bc": {
          "model_module": "@jupyter-widgets/controls",
          "model_name": "ProgressStyleModel",
          "state": {
            "_view_name": "StyleView",
            "_model_name": "ProgressStyleModel",
            "description_width": "initial",
            "_view_module": "@jupyter-widgets/base",
            "_model_module_version": "1.5.0",
            "_view_count": null,
            "_view_module_version": "1.2.0",
            "bar_color": null,
            "_model_module": "@jupyter-widgets/controls"
          }
        },
        "cce77942666743f7bcf079005c0b9e25": {
          "model_module": "@jupyter-widgets/base",
          "model_name": "LayoutModel",
          "state": {
            "_view_name": "LayoutView",
            "grid_template_rows": null,
            "right": null,
            "justify_content": null,
            "_view_module": "@jupyter-widgets/base",
            "overflow": null,
            "_model_module_version": "1.2.0",
            "_view_count": null,
            "flex_flow": null,
            "width": null,
            "min_width": null,
            "border": null,
            "align_items": null,
            "bottom": null,
            "_model_module": "@jupyter-widgets/base",
            "top": null,
            "grid_column": null,
            "overflow_y": null,
            "overflow_x": null,
            "grid_auto_flow": null,
            "grid_area": null,
            "grid_template_columns": null,
            "flex": null,
            "_model_name": "LayoutModel",
            "justify_items": null,
            "grid_row": null,
            "max_height": null,
            "align_content": null,
            "visibility": null,
            "align_self": null,
            "height": null,
            "min_height": null,
            "padding": null,
            "grid_auto_rows": null,
            "grid_gap": null,
            "max_width": null,
            "order": null,
            "_view_module_version": "1.2.0",
            "grid_template_areas": null,
            "object_position": null,
            "object_fit": null,
            "grid_auto_columns": null,
            "margin": null,
            "display": null,
            "left": null
          }
        },
        "aeb16d030b7c43178af37db473391d96": {
          "model_module": "@jupyter-widgets/controls",
          "model_name": "DescriptionStyleModel",
          "state": {
            "_view_name": "StyleView",
            "_model_name": "DescriptionStyleModel",
            "description_width": "",
            "_view_module": "@jupyter-widgets/base",
            "_model_module_version": "1.5.0",
            "_view_count": null,
            "_view_module_version": "1.2.0",
            "_model_module": "@jupyter-widgets/controls"
          }
        },
        "a1cd50e549b74afaa8406745ad685b25": {
          "model_module": "@jupyter-widgets/base",
          "model_name": "LayoutModel",
          "state": {
            "_view_name": "LayoutView",
            "grid_template_rows": null,
            "right": null,
            "justify_content": null,
            "_view_module": "@jupyter-widgets/base",
            "overflow": null,
            "_model_module_version": "1.2.0",
            "_view_count": null,
            "flex_flow": null,
            "width": null,
            "min_width": null,
            "border": null,
            "align_items": null,
            "bottom": null,
            "_model_module": "@jupyter-widgets/base",
            "top": null,
            "grid_column": null,
            "overflow_y": null,
            "overflow_x": null,
            "grid_auto_flow": null,
            "grid_area": null,
            "grid_template_columns": null,
            "flex": null,
            "_model_name": "LayoutModel",
            "justify_items": null,
            "grid_row": null,
            "max_height": null,
            "align_content": null,
            "visibility": null,
            "align_self": null,
            "height": null,
            "min_height": null,
            "padding": null,
            "grid_auto_rows": null,
            "grid_gap": null,
            "max_width": null,
            "order": null,
            "_view_module_version": "1.2.0",
            "grid_template_areas": null,
            "object_position": null,
            "object_fit": null,
            "grid_auto_columns": null,
            "margin": null,
            "display": null,
            "left": null
          }
        },
        "bbc343fd9b314239a750199b2c3b18bc": {
          "model_module": "@jupyter-widgets/controls",
          "model_name": "HBoxModel",
          "state": {
            "_view_name": "HBoxView",
            "_dom_classes": [],
            "_model_name": "HBoxModel",
            "_view_module": "@jupyter-widgets/controls",
            "_model_module_version": "1.5.0",
            "_view_count": null,
            "_view_module_version": "1.5.0",
            "box_style": "",
            "layout": "IPY_MODEL_670ca9783e0140daba595d998db33d6d",
            "_model_module": "@jupyter-widgets/controls",
            "children": [
              "IPY_MODEL_58717f14afb64cd8bcbc5ef2bbfc9799",
              "IPY_MODEL_ab85b27ebd0a4b8088cc5b97ceb7d33d"
            ]
          }
        },
        "670ca9783e0140daba595d998db33d6d": {
          "model_module": "@jupyter-widgets/base",
          "model_name": "LayoutModel",
          "state": {
            "_view_name": "LayoutView",
            "grid_template_rows": null,
            "right": null,
            "justify_content": null,
            "_view_module": "@jupyter-widgets/base",
            "overflow": null,
            "_model_module_version": "1.2.0",
            "_view_count": null,
            "flex_flow": null,
            "width": null,
            "min_width": null,
            "border": null,
            "align_items": null,
            "bottom": null,
            "_model_module": "@jupyter-widgets/base",
            "top": null,
            "grid_column": null,
            "overflow_y": null,
            "overflow_x": null,
            "grid_auto_flow": null,
            "grid_area": null,
            "grid_template_columns": null,
            "flex": null,
            "_model_name": "LayoutModel",
            "justify_items": null,
            "grid_row": null,
            "max_height": null,
            "align_content": null,
            "visibility": null,
            "align_self": null,
            "height": null,
            "min_height": null,
            "padding": null,
            "grid_auto_rows": null,
            "grid_gap": null,
            "max_width": null,
            "order": null,
            "_view_module_version": "1.2.0",
            "grid_template_areas": null,
            "object_position": null,
            "object_fit": null,
            "grid_auto_columns": null,
            "margin": null,
            "display": null,
            "left": null
          }
        },
        "58717f14afb64cd8bcbc5ef2bbfc9799": {
          "model_module": "@jupyter-widgets/controls",
          "model_name": "FloatProgressModel",
          "state": {
            "_view_name": "ProgressView",
            "style": "IPY_MODEL_bbe0950ca5ed462797133d1607bec72a",
            "_dom_classes": [],
            "description": "100%",
            "_model_name": "FloatProgressModel",
            "bar_style": "success",
            "max": 17704,
            "_view_module": "@jupyter-widgets/controls",
            "_model_module_version": "1.5.0",
            "value": 17704,
            "_view_count": null,
            "_view_module_version": "1.5.0",
            "orientation": "horizontal",
            "min": 0,
            "description_tooltip": null,
            "_model_module": "@jupyter-widgets/controls",
            "layout": "IPY_MODEL_74b3ac23e14b40d492eda000aa7c5bb8"
          }
        },
        "ab85b27ebd0a4b8088cc5b97ceb7d33d": {
          "model_module": "@jupyter-widgets/controls",
          "model_name": "HTMLModel",
          "state": {
            "_view_name": "HTMLView",
            "style": "IPY_MODEL_b7679e4b4265420889aa8b2509332721",
            "_dom_classes": [],
            "description": "",
            "_model_name": "HTMLModel",
            "placeholder": "​",
            "_view_module": "@jupyter-widgets/controls",
            "_model_module_version": "1.5.0",
            "value": " 17704/17704 [01:08&lt;00:00, 257.52it/s]",
            "_view_count": null,
            "_view_module_version": "1.5.0",
            "description_tooltip": null,
            "_model_module": "@jupyter-widgets/controls",
            "layout": "IPY_MODEL_b511ae7b3e044170a4aafddc37e560fa"
          }
        },
        "bbe0950ca5ed462797133d1607bec72a": {
          "model_module": "@jupyter-widgets/controls",
          "model_name": "ProgressStyleModel",
          "state": {
            "_view_name": "StyleView",
            "_model_name": "ProgressStyleModel",
            "description_width": "initial",
            "_view_module": "@jupyter-widgets/base",
            "_model_module_version": "1.5.0",
            "_view_count": null,
            "_view_module_version": "1.2.0",
            "bar_color": null,
            "_model_module": "@jupyter-widgets/controls"
          }
        },
        "74b3ac23e14b40d492eda000aa7c5bb8": {
          "model_module": "@jupyter-widgets/base",
          "model_name": "LayoutModel",
          "state": {
            "_view_name": "LayoutView",
            "grid_template_rows": null,
            "right": null,
            "justify_content": null,
            "_view_module": "@jupyter-widgets/base",
            "overflow": null,
            "_model_module_version": "1.2.0",
            "_view_count": null,
            "flex_flow": null,
            "width": null,
            "min_width": null,
            "border": null,
            "align_items": null,
            "bottom": null,
            "_model_module": "@jupyter-widgets/base",
            "top": null,
            "grid_column": null,
            "overflow_y": null,
            "overflow_x": null,
            "grid_auto_flow": null,
            "grid_area": null,
            "grid_template_columns": null,
            "flex": null,
            "_model_name": "LayoutModel",
            "justify_items": null,
            "grid_row": null,
            "max_height": null,
            "align_content": null,
            "visibility": null,
            "align_self": null,
            "height": null,
            "min_height": null,
            "padding": null,
            "grid_auto_rows": null,
            "grid_gap": null,
            "max_width": null,
            "order": null,
            "_view_module_version": "1.2.0",
            "grid_template_areas": null,
            "object_position": null,
            "object_fit": null,
            "grid_auto_columns": null,
            "margin": null,
            "display": null,
            "left": null
          }
        },
        "b7679e4b4265420889aa8b2509332721": {
          "model_module": "@jupyter-widgets/controls",
          "model_name": "DescriptionStyleModel",
          "state": {
            "_view_name": "StyleView",
            "_model_name": "DescriptionStyleModel",
            "description_width": "",
            "_view_module": "@jupyter-widgets/base",
            "_model_module_version": "1.5.0",
            "_view_count": null,
            "_view_module_version": "1.2.0",
            "_model_module": "@jupyter-widgets/controls"
          }
        },
        "b511ae7b3e044170a4aafddc37e560fa": {
          "model_module": "@jupyter-widgets/base",
          "model_name": "LayoutModel",
          "state": {
            "_view_name": "LayoutView",
            "grid_template_rows": null,
            "right": null,
            "justify_content": null,
            "_view_module": "@jupyter-widgets/base",
            "overflow": null,
            "_model_module_version": "1.2.0",
            "_view_count": null,
            "flex_flow": null,
            "width": null,
            "min_width": null,
            "border": null,
            "align_items": null,
            "bottom": null,
            "_model_module": "@jupyter-widgets/base",
            "top": null,
            "grid_column": null,
            "overflow_y": null,
            "overflow_x": null,
            "grid_auto_flow": null,
            "grid_area": null,
            "grid_template_columns": null,
            "flex": null,
            "_model_name": "LayoutModel",
            "justify_items": null,
            "grid_row": null,
            "max_height": null,
            "align_content": null,
            "visibility": null,
            "align_self": null,
            "height": null,
            "min_height": null,
            "padding": null,
            "grid_auto_rows": null,
            "grid_gap": null,
            "max_width": null,
            "order": null,
            "_view_module_version": "1.2.0",
            "grid_template_areas": null,
            "object_position": null,
            "object_fit": null,
            "grid_auto_columns": null,
            "margin": null,
            "display": null,
            "left": null
          }
        },
        "39efdacb55424a8baf98cbb326d7fbb8": {
          "model_module": "@jupyter-widgets/controls",
          "model_name": "HBoxModel",
          "state": {
            "_view_name": "HBoxView",
            "_dom_classes": [],
            "_model_name": "HBoxModel",
            "_view_module": "@jupyter-widgets/controls",
            "_model_module_version": "1.5.0",
            "_view_count": null,
            "_view_module_version": "1.5.0",
            "box_style": "",
            "layout": "IPY_MODEL_e4d50e53290b4cc986843e5357832ced",
            "_model_module": "@jupyter-widgets/controls",
            "children": [
              "IPY_MODEL_bf76cca304db4a1e91ae4de197af70b3",
              "IPY_MODEL_7d4bfa1708994a64a914667929158d88"
            ]
          }
        },
        "e4d50e53290b4cc986843e5357832ced": {
          "model_module": "@jupyter-widgets/base",
          "model_name": "LayoutModel",
          "state": {
            "_view_name": "LayoutView",
            "grid_template_rows": null,
            "right": null,
            "justify_content": null,
            "_view_module": "@jupyter-widgets/base",
            "overflow": null,
            "_model_module_version": "1.2.0",
            "_view_count": null,
            "flex_flow": null,
            "width": null,
            "min_width": null,
            "border": null,
            "align_items": null,
            "bottom": null,
            "_model_module": "@jupyter-widgets/base",
            "top": null,
            "grid_column": null,
            "overflow_y": null,
            "overflow_x": null,
            "grid_auto_flow": null,
            "grid_area": null,
            "grid_template_columns": null,
            "flex": null,
            "_model_name": "LayoutModel",
            "justify_items": null,
            "grid_row": null,
            "max_height": null,
            "align_content": null,
            "visibility": null,
            "align_self": null,
            "height": null,
            "min_height": null,
            "padding": null,
            "grid_auto_rows": null,
            "grid_gap": null,
            "max_width": null,
            "order": null,
            "_view_module_version": "1.2.0",
            "grid_template_areas": null,
            "object_position": null,
            "object_fit": null,
            "grid_auto_columns": null,
            "margin": null,
            "display": null,
            "left": null
          }
        },
        "bf76cca304db4a1e91ae4de197af70b3": {
          "model_module": "@jupyter-widgets/controls",
          "model_name": "FloatProgressModel",
          "state": {
            "_view_name": "ProgressView",
            "style": "IPY_MODEL_cdd502b62bb94230acf381745d64b8e9",
            "_dom_classes": [],
            "description": "100%",
            "_model_name": "FloatProgressModel",
            "bar_style": "success",
            "max": 17238,
            "_view_module": "@jupyter-widgets/controls",
            "_model_module_version": "1.5.0",
            "value": 17238,
            "_view_count": null,
            "_view_module_version": "1.5.0",
            "orientation": "horizontal",
            "min": 0,
            "description_tooltip": null,
            "_model_module": "@jupyter-widgets/controls",
            "layout": "IPY_MODEL_74aed06317d0473eb7d33808e5ad1f2a"
          }
        },
        "7d4bfa1708994a64a914667929158d88": {
          "model_module": "@jupyter-widgets/controls",
          "model_name": "HTMLModel",
          "state": {
            "_view_name": "HTMLView",
            "style": "IPY_MODEL_830e23b79d2f415087cb0c647496e7c3",
            "_dom_classes": [],
            "description": "",
            "_model_name": "HTMLModel",
            "placeholder": "​",
            "_view_module": "@jupyter-widgets/controls",
            "_model_module_version": "1.5.0",
            "value": " 17238/17238 [38:37&lt;00:00,  7.44it/s]",
            "_view_count": null,
            "_view_module_version": "1.5.0",
            "description_tooltip": null,
            "_model_module": "@jupyter-widgets/controls",
            "layout": "IPY_MODEL_97d5264961404c98ae7922c6cbafa044"
          }
        },
        "cdd502b62bb94230acf381745d64b8e9": {
          "model_module": "@jupyter-widgets/controls",
          "model_name": "ProgressStyleModel",
          "state": {
            "_view_name": "StyleView",
            "_model_name": "ProgressStyleModel",
            "description_width": "initial",
            "_view_module": "@jupyter-widgets/base",
            "_model_module_version": "1.5.0",
            "_view_count": null,
            "_view_module_version": "1.2.0",
            "bar_color": null,
            "_model_module": "@jupyter-widgets/controls"
          }
        },
        "74aed06317d0473eb7d33808e5ad1f2a": {
          "model_module": "@jupyter-widgets/base",
          "model_name": "LayoutModel",
          "state": {
            "_view_name": "LayoutView",
            "grid_template_rows": null,
            "right": null,
            "justify_content": null,
            "_view_module": "@jupyter-widgets/base",
            "overflow": null,
            "_model_module_version": "1.2.0",
            "_view_count": null,
            "flex_flow": null,
            "width": null,
            "min_width": null,
            "border": null,
            "align_items": null,
            "bottom": null,
            "_model_module": "@jupyter-widgets/base",
            "top": null,
            "grid_column": null,
            "overflow_y": null,
            "overflow_x": null,
            "grid_auto_flow": null,
            "grid_area": null,
            "grid_template_columns": null,
            "flex": null,
            "_model_name": "LayoutModel",
            "justify_items": null,
            "grid_row": null,
            "max_height": null,
            "align_content": null,
            "visibility": null,
            "align_self": null,
            "height": null,
            "min_height": null,
            "padding": null,
            "grid_auto_rows": null,
            "grid_gap": null,
            "max_width": null,
            "order": null,
            "_view_module_version": "1.2.0",
            "grid_template_areas": null,
            "object_position": null,
            "object_fit": null,
            "grid_auto_columns": null,
            "margin": null,
            "display": null,
            "left": null
          }
        },
        "830e23b79d2f415087cb0c647496e7c3": {
          "model_module": "@jupyter-widgets/controls",
          "model_name": "DescriptionStyleModel",
          "state": {
            "_view_name": "StyleView",
            "_model_name": "DescriptionStyleModel",
            "description_width": "",
            "_view_module": "@jupyter-widgets/base",
            "_model_module_version": "1.5.0",
            "_view_count": null,
            "_view_module_version": "1.2.0",
            "_model_module": "@jupyter-widgets/controls"
          }
        },
        "97d5264961404c98ae7922c6cbafa044": {
          "model_module": "@jupyter-widgets/base",
          "model_name": "LayoutModel",
          "state": {
            "_view_name": "LayoutView",
            "grid_template_rows": null,
            "right": null,
            "justify_content": null,
            "_view_module": "@jupyter-widgets/base",
            "overflow": null,
            "_model_module_version": "1.2.0",
            "_view_count": null,
            "flex_flow": null,
            "width": null,
            "min_width": null,
            "border": null,
            "align_items": null,
            "bottom": null,
            "_model_module": "@jupyter-widgets/base",
            "top": null,
            "grid_column": null,
            "overflow_y": null,
            "overflow_x": null,
            "grid_auto_flow": null,
            "grid_area": null,
            "grid_template_columns": null,
            "flex": null,
            "_model_name": "LayoutModel",
            "justify_items": null,
            "grid_row": null,
            "max_height": null,
            "align_content": null,
            "visibility": null,
            "align_self": null,
            "height": null,
            "min_height": null,
            "padding": null,
            "grid_auto_rows": null,
            "grid_gap": null,
            "max_width": null,
            "order": null,
            "_view_module_version": "1.2.0",
            "grid_template_areas": null,
            "object_position": null,
            "object_fit": null,
            "grid_auto_columns": null,
            "margin": null,
            "display": null,
            "left": null
          }
        },
        "f91aad0b96734cfd8e97528a7c35d949": {
          "model_module": "@jupyter-widgets/controls",
          "model_name": "HBoxModel",
          "state": {
            "_view_name": "HBoxView",
            "_dom_classes": [],
            "_model_name": "HBoxModel",
            "_view_module": "@jupyter-widgets/controls",
            "_model_module_version": "1.5.0",
            "_view_count": null,
            "_view_module_version": "1.5.0",
            "box_style": "",
            "layout": "IPY_MODEL_616a1a0fbf964801bc32404cb1b4d48d",
            "_model_module": "@jupyter-widgets/controls",
            "children": [
              "IPY_MODEL_b17d90ec36ef4732ae7850f79201dfb8",
              "IPY_MODEL_e9848bcf9ed64274adb7800baf2cb4d3"
            ]
          }
        },
        "616a1a0fbf964801bc32404cb1b4d48d": {
          "model_module": "@jupyter-widgets/base",
          "model_name": "LayoutModel",
          "state": {
            "_view_name": "LayoutView",
            "grid_template_rows": null,
            "right": null,
            "justify_content": null,
            "_view_module": "@jupyter-widgets/base",
            "overflow": null,
            "_model_module_version": "1.2.0",
            "_view_count": null,
            "flex_flow": null,
            "width": null,
            "min_width": null,
            "border": null,
            "align_items": null,
            "bottom": null,
            "_model_module": "@jupyter-widgets/base",
            "top": null,
            "grid_column": null,
            "overflow_y": null,
            "overflow_x": null,
            "grid_auto_flow": null,
            "grid_area": null,
            "grid_template_columns": null,
            "flex": null,
            "_model_name": "LayoutModel",
            "justify_items": null,
            "grid_row": null,
            "max_height": null,
            "align_content": null,
            "visibility": null,
            "align_self": null,
            "height": null,
            "min_height": null,
            "padding": null,
            "grid_auto_rows": null,
            "grid_gap": null,
            "max_width": null,
            "order": null,
            "_view_module_version": "1.2.0",
            "grid_template_areas": null,
            "object_position": null,
            "object_fit": null,
            "grid_auto_columns": null,
            "margin": null,
            "display": null,
            "left": null
          }
        },
        "b17d90ec36ef4732ae7850f79201dfb8": {
          "model_module": "@jupyter-widgets/controls",
          "model_name": "FloatProgressModel",
          "state": {
            "_view_name": "ProgressView",
            "style": "IPY_MODEL_75ae0cc0947e47fa9283ebf18ad0508d",
            "_dom_classes": [],
            "description": "100%",
            "_model_name": "FloatProgressModel",
            "bar_style": "success",
            "max": 17238,
            "_view_module": "@jupyter-widgets/controls",
            "_model_module_version": "1.5.0",
            "value": 17238,
            "_view_count": null,
            "_view_module_version": "1.5.0",
            "orientation": "horizontal",
            "min": 0,
            "description_tooltip": null,
            "_model_module": "@jupyter-widgets/controls",
            "layout": "IPY_MODEL_05a24973f5984ba188ef3e9f4cc39eb4"
          }
        },
        "e9848bcf9ed64274adb7800baf2cb4d3": {
          "model_module": "@jupyter-widgets/controls",
          "model_name": "HTMLModel",
          "state": {
            "_view_name": "HTMLView",
            "style": "IPY_MODEL_938dd21d3cc347c1bc3fd90aec66aa11",
            "_dom_classes": [],
            "description": "",
            "_model_name": "HTMLModel",
            "placeholder": "​",
            "_view_module": "@jupyter-widgets/controls",
            "_model_module_version": "1.5.0",
            "value": " 17238/17238 [01:14&lt;00:00, 232.94it/s]",
            "_view_count": null,
            "_view_module_version": "1.5.0",
            "description_tooltip": null,
            "_model_module": "@jupyter-widgets/controls",
            "layout": "IPY_MODEL_e1ccd2d34f77409eb31507261335b9b9"
          }
        },
        "75ae0cc0947e47fa9283ebf18ad0508d": {
          "model_module": "@jupyter-widgets/controls",
          "model_name": "ProgressStyleModel",
          "state": {
            "_view_name": "StyleView",
            "_model_name": "ProgressStyleModel",
            "description_width": "initial",
            "_view_module": "@jupyter-widgets/base",
            "_model_module_version": "1.5.0",
            "_view_count": null,
            "_view_module_version": "1.2.0",
            "bar_color": null,
            "_model_module": "@jupyter-widgets/controls"
          }
        },
        "05a24973f5984ba188ef3e9f4cc39eb4": {
          "model_module": "@jupyter-widgets/base",
          "model_name": "LayoutModel",
          "state": {
            "_view_name": "LayoutView",
            "grid_template_rows": null,
            "right": null,
            "justify_content": null,
            "_view_module": "@jupyter-widgets/base",
            "overflow": null,
            "_model_module_version": "1.2.0",
            "_view_count": null,
            "flex_flow": null,
            "width": null,
            "min_width": null,
            "border": null,
            "align_items": null,
            "bottom": null,
            "_model_module": "@jupyter-widgets/base",
            "top": null,
            "grid_column": null,
            "overflow_y": null,
            "overflow_x": null,
            "grid_auto_flow": null,
            "grid_area": null,
            "grid_template_columns": null,
            "flex": null,
            "_model_name": "LayoutModel",
            "justify_items": null,
            "grid_row": null,
            "max_height": null,
            "align_content": null,
            "visibility": null,
            "align_self": null,
            "height": null,
            "min_height": null,
            "padding": null,
            "grid_auto_rows": null,
            "grid_gap": null,
            "max_width": null,
            "order": null,
            "_view_module_version": "1.2.0",
            "grid_template_areas": null,
            "object_position": null,
            "object_fit": null,
            "grid_auto_columns": null,
            "margin": null,
            "display": null,
            "left": null
          }
        },
        "938dd21d3cc347c1bc3fd90aec66aa11": {
          "model_module": "@jupyter-widgets/controls",
          "model_name": "DescriptionStyleModel",
          "state": {
            "_view_name": "StyleView",
            "_model_name": "DescriptionStyleModel",
            "description_width": "",
            "_view_module": "@jupyter-widgets/base",
            "_model_module_version": "1.5.0",
            "_view_count": null,
            "_view_module_version": "1.2.0",
            "_model_module": "@jupyter-widgets/controls"
          }
        },
        "e1ccd2d34f77409eb31507261335b9b9": {
          "model_module": "@jupyter-widgets/base",
          "model_name": "LayoutModel",
          "state": {
            "_view_name": "LayoutView",
            "grid_template_rows": null,
            "right": null,
            "justify_content": null,
            "_view_module": "@jupyter-widgets/base",
            "overflow": null,
            "_model_module_version": "1.2.0",
            "_view_count": null,
            "flex_flow": null,
            "width": null,
            "min_width": null,
            "border": null,
            "align_items": null,
            "bottom": null,
            "_model_module": "@jupyter-widgets/base",
            "top": null,
            "grid_column": null,
            "overflow_y": null,
            "overflow_x": null,
            "grid_auto_flow": null,
            "grid_area": null,
            "grid_template_columns": null,
            "flex": null,
            "_model_name": "LayoutModel",
            "justify_items": null,
            "grid_row": null,
            "max_height": null,
            "align_content": null,
            "visibility": null,
            "align_self": null,
            "height": null,
            "min_height": null,
            "padding": null,
            "grid_auto_rows": null,
            "grid_gap": null,
            "max_width": null,
            "order": null,
            "_view_module_version": "1.2.0",
            "grid_template_areas": null,
            "object_position": null,
            "object_fit": null,
            "grid_auto_columns": null,
            "margin": null,
            "display": null,
            "left": null
          }
        },
        "732e0e9102c549e198aa8d2a1b6a6115": {
          "model_module": "@jupyter-widgets/controls",
          "model_name": "HBoxModel",
          "state": {
            "_view_name": "HBoxView",
            "_dom_classes": [],
            "_model_name": "HBoxModel",
            "_view_module": "@jupyter-widgets/controls",
            "_model_module_version": "1.5.0",
            "_view_count": null,
            "_view_module_version": "1.5.0",
            "box_style": "",
            "layout": "IPY_MODEL_1b8b48b4bfbc404987039b1182727363",
            "_model_module": "@jupyter-widgets/controls",
            "children": [
              "IPY_MODEL_a0bf7e10a87a41889e67bb23ec93f8fb",
              "IPY_MODEL_34a65f36fb044532a7f4ab35e2081250"
            ]
          }
        },
        "1b8b48b4bfbc404987039b1182727363": {
          "model_module": "@jupyter-widgets/base",
          "model_name": "LayoutModel",
          "state": {
            "_view_name": "LayoutView",
            "grid_template_rows": null,
            "right": null,
            "justify_content": null,
            "_view_module": "@jupyter-widgets/base",
            "overflow": null,
            "_model_module_version": "1.2.0",
            "_view_count": null,
            "flex_flow": null,
            "width": null,
            "min_width": null,
            "border": null,
            "align_items": null,
            "bottom": null,
            "_model_module": "@jupyter-widgets/base",
            "top": null,
            "grid_column": null,
            "overflow_y": null,
            "overflow_x": null,
            "grid_auto_flow": null,
            "grid_area": null,
            "grid_template_columns": null,
            "flex": null,
            "_model_name": "LayoutModel",
            "justify_items": null,
            "grid_row": null,
            "max_height": null,
            "align_content": null,
            "visibility": null,
            "align_self": null,
            "height": null,
            "min_height": null,
            "padding": null,
            "grid_auto_rows": null,
            "grid_gap": null,
            "max_width": null,
            "order": null,
            "_view_module_version": "1.2.0",
            "grid_template_areas": null,
            "object_position": null,
            "object_fit": null,
            "grid_auto_columns": null,
            "margin": null,
            "display": null,
            "left": null
          }
        },
        "a0bf7e10a87a41889e67bb23ec93f8fb": {
          "model_module": "@jupyter-widgets/controls",
          "model_name": "FloatProgressModel",
          "state": {
            "_view_name": "ProgressView",
            "style": "IPY_MODEL_de3a16289ec8405d8ba46033845e33d4",
            "_dom_classes": [],
            "description": "100%",
            "_model_name": "FloatProgressModel",
            "bar_style": "success",
            "max": 17238,
            "_view_module": "@jupyter-widgets/controls",
            "_model_module_version": "1.5.0",
            "value": 17238,
            "_view_count": null,
            "_view_module_version": "1.5.0",
            "orientation": "horizontal",
            "min": 0,
            "description_tooltip": null,
            "_model_module": "@jupyter-widgets/controls",
            "layout": "IPY_MODEL_6205ed3eefa94cc0bdfe42e7b9fb9f34"
          }
        },
        "34a65f36fb044532a7f4ab35e2081250": {
          "model_module": "@jupyter-widgets/controls",
          "model_name": "HTMLModel",
          "state": {
            "_view_name": "HTMLView",
            "style": "IPY_MODEL_2d05a394056a4d8589e459b0a0f9b94c",
            "_dom_classes": [],
            "description": "",
            "_model_name": "HTMLModel",
            "placeholder": "​",
            "_view_module": "@jupyter-widgets/controls",
            "_model_module_version": "1.5.0",
            "value": " 17238/17238 [48:19&lt;00:00,  5.95it/s]",
            "_view_count": null,
            "_view_module_version": "1.5.0",
            "description_tooltip": null,
            "_model_module": "@jupyter-widgets/controls",
            "layout": "IPY_MODEL_5ab1b847b89b46879666504ae2c660a5"
          }
        },
        "de3a16289ec8405d8ba46033845e33d4": {
          "model_module": "@jupyter-widgets/controls",
          "model_name": "ProgressStyleModel",
          "state": {
            "_view_name": "StyleView",
            "_model_name": "ProgressStyleModel",
            "description_width": "initial",
            "_view_module": "@jupyter-widgets/base",
            "_model_module_version": "1.5.0",
            "_view_count": null,
            "_view_module_version": "1.2.0",
            "bar_color": null,
            "_model_module": "@jupyter-widgets/controls"
          }
        },
        "6205ed3eefa94cc0bdfe42e7b9fb9f34": {
          "model_module": "@jupyter-widgets/base",
          "model_name": "LayoutModel",
          "state": {
            "_view_name": "LayoutView",
            "grid_template_rows": null,
            "right": null,
            "justify_content": null,
            "_view_module": "@jupyter-widgets/base",
            "overflow": null,
            "_model_module_version": "1.2.0",
            "_view_count": null,
            "flex_flow": null,
            "width": null,
            "min_width": null,
            "border": null,
            "align_items": null,
            "bottom": null,
            "_model_module": "@jupyter-widgets/base",
            "top": null,
            "grid_column": null,
            "overflow_y": null,
            "overflow_x": null,
            "grid_auto_flow": null,
            "grid_area": null,
            "grid_template_columns": null,
            "flex": null,
            "_model_name": "LayoutModel",
            "justify_items": null,
            "grid_row": null,
            "max_height": null,
            "align_content": null,
            "visibility": null,
            "align_self": null,
            "height": null,
            "min_height": null,
            "padding": null,
            "grid_auto_rows": null,
            "grid_gap": null,
            "max_width": null,
            "order": null,
            "_view_module_version": "1.2.0",
            "grid_template_areas": null,
            "object_position": null,
            "object_fit": null,
            "grid_auto_columns": null,
            "margin": null,
            "display": null,
            "left": null
          }
        },
        "2d05a394056a4d8589e459b0a0f9b94c": {
          "model_module": "@jupyter-widgets/controls",
          "model_name": "DescriptionStyleModel",
          "state": {
            "_view_name": "StyleView",
            "_model_name": "DescriptionStyleModel",
            "description_width": "",
            "_view_module": "@jupyter-widgets/base",
            "_model_module_version": "1.5.0",
            "_view_count": null,
            "_view_module_version": "1.2.0",
            "_model_module": "@jupyter-widgets/controls"
          }
        },
        "5ab1b847b89b46879666504ae2c660a5": {
          "model_module": "@jupyter-widgets/base",
          "model_name": "LayoutModel",
          "state": {
            "_view_name": "LayoutView",
            "grid_template_rows": null,
            "right": null,
            "justify_content": null,
            "_view_module": "@jupyter-widgets/base",
            "overflow": null,
            "_model_module_version": "1.2.0",
            "_view_count": null,
            "flex_flow": null,
            "width": null,
            "min_width": null,
            "border": null,
            "align_items": null,
            "bottom": null,
            "_model_module": "@jupyter-widgets/base",
            "top": null,
            "grid_column": null,
            "overflow_y": null,
            "overflow_x": null,
            "grid_auto_flow": null,
            "grid_area": null,
            "grid_template_columns": null,
            "flex": null,
            "_model_name": "LayoutModel",
            "justify_items": null,
            "grid_row": null,
            "max_height": null,
            "align_content": null,
            "visibility": null,
            "align_self": null,
            "height": null,
            "min_height": null,
            "padding": null,
            "grid_auto_rows": null,
            "grid_gap": null,
            "max_width": null,
            "order": null,
            "_view_module_version": "1.2.0",
            "grid_template_areas": null,
            "object_position": null,
            "object_fit": null,
            "grid_auto_columns": null,
            "margin": null,
            "display": null,
            "left": null
          }
        },
        "d155f2f97e2d449cb6826aca20fb811c": {
          "model_module": "@jupyter-widgets/controls",
          "model_name": "HBoxModel",
          "state": {
            "_view_name": "HBoxView",
            "_dom_classes": [],
            "_model_name": "HBoxModel",
            "_view_module": "@jupyter-widgets/controls",
            "_model_module_version": "1.5.0",
            "_view_count": null,
            "_view_module_version": "1.5.0",
            "box_style": "",
            "layout": "IPY_MODEL_c78be393282c4008aec3540e6e5e1d32",
            "_model_module": "@jupyter-widgets/controls",
            "children": [
              "IPY_MODEL_cfccc3bacabe4eb696a93b7b3b95958e",
              "IPY_MODEL_6a755b2a309d4fcaa7ec757d3b18b48a"
            ]
          }
        },
        "c78be393282c4008aec3540e6e5e1d32": {
          "model_module": "@jupyter-widgets/base",
          "model_name": "LayoutModel",
          "state": {
            "_view_name": "LayoutView",
            "grid_template_rows": null,
            "right": null,
            "justify_content": null,
            "_view_module": "@jupyter-widgets/base",
            "overflow": null,
            "_model_module_version": "1.2.0",
            "_view_count": null,
            "flex_flow": null,
            "width": null,
            "min_width": null,
            "border": null,
            "align_items": null,
            "bottom": null,
            "_model_module": "@jupyter-widgets/base",
            "top": null,
            "grid_column": null,
            "overflow_y": null,
            "overflow_x": null,
            "grid_auto_flow": null,
            "grid_area": null,
            "grid_template_columns": null,
            "flex": null,
            "_model_name": "LayoutModel",
            "justify_items": null,
            "grid_row": null,
            "max_height": null,
            "align_content": null,
            "visibility": null,
            "align_self": null,
            "height": null,
            "min_height": null,
            "padding": null,
            "grid_auto_rows": null,
            "grid_gap": null,
            "max_width": null,
            "order": null,
            "_view_module_version": "1.2.0",
            "grid_template_areas": null,
            "object_position": null,
            "object_fit": null,
            "grid_auto_columns": null,
            "margin": null,
            "display": null,
            "left": null
          }
        },
        "cfccc3bacabe4eb696a93b7b3b95958e": {
          "model_module": "@jupyter-widgets/controls",
          "model_name": "FloatProgressModel",
          "state": {
            "_view_name": "ProgressView",
            "style": "IPY_MODEL_c64c7abc89fa4e6c98f31c6127b1a6ae",
            "_dom_classes": [],
            "description": "100%",
            "_model_name": "FloatProgressModel",
            "bar_style": "success",
            "max": 17704,
            "_view_module": "@jupyter-widgets/controls",
            "_model_module_version": "1.5.0",
            "value": 17704,
            "_view_count": null,
            "_view_module_version": "1.5.0",
            "orientation": "horizontal",
            "min": 0,
            "description_tooltip": null,
            "_model_module": "@jupyter-widgets/controls",
            "layout": "IPY_MODEL_380f59da9297415f9d99abb2f568a1c0"
          }
        },
        "6a755b2a309d4fcaa7ec757d3b18b48a": {
          "model_module": "@jupyter-widgets/controls",
          "model_name": "HTMLModel",
          "state": {
            "_view_name": "HTMLView",
            "style": "IPY_MODEL_c80a307d167046188b88f003eca0cf51",
            "_dom_classes": [],
            "description": "",
            "_model_name": "HTMLModel",
            "placeholder": "​",
            "_view_module": "@jupyter-widgets/controls",
            "_model_module_version": "1.5.0",
            "value": " 17704/17704 [00:02&lt;00:00, 8501.70it/s]",
            "_view_count": null,
            "_view_module_version": "1.5.0",
            "description_tooltip": null,
            "_model_module": "@jupyter-widgets/controls",
            "layout": "IPY_MODEL_e36898e6674d4f95a28b2bf3db242e57"
          }
        },
        "c64c7abc89fa4e6c98f31c6127b1a6ae": {
          "model_module": "@jupyter-widgets/controls",
          "model_name": "ProgressStyleModel",
          "state": {
            "_view_name": "StyleView",
            "_model_name": "ProgressStyleModel",
            "description_width": "initial",
            "_view_module": "@jupyter-widgets/base",
            "_model_module_version": "1.5.0",
            "_view_count": null,
            "_view_module_version": "1.2.0",
            "bar_color": null,
            "_model_module": "@jupyter-widgets/controls"
          }
        },
        "380f59da9297415f9d99abb2f568a1c0": {
          "model_module": "@jupyter-widgets/base",
          "model_name": "LayoutModel",
          "state": {
            "_view_name": "LayoutView",
            "grid_template_rows": null,
            "right": null,
            "justify_content": null,
            "_view_module": "@jupyter-widgets/base",
            "overflow": null,
            "_model_module_version": "1.2.0",
            "_view_count": null,
            "flex_flow": null,
            "width": null,
            "min_width": null,
            "border": null,
            "align_items": null,
            "bottom": null,
            "_model_module": "@jupyter-widgets/base",
            "top": null,
            "grid_column": null,
            "overflow_y": null,
            "overflow_x": null,
            "grid_auto_flow": null,
            "grid_area": null,
            "grid_template_columns": null,
            "flex": null,
            "_model_name": "LayoutModel",
            "justify_items": null,
            "grid_row": null,
            "max_height": null,
            "align_content": null,
            "visibility": null,
            "align_self": null,
            "height": null,
            "min_height": null,
            "padding": null,
            "grid_auto_rows": null,
            "grid_gap": null,
            "max_width": null,
            "order": null,
            "_view_module_version": "1.2.0",
            "grid_template_areas": null,
            "object_position": null,
            "object_fit": null,
            "grid_auto_columns": null,
            "margin": null,
            "display": null,
            "left": null
          }
        },
        "c80a307d167046188b88f003eca0cf51": {
          "model_module": "@jupyter-widgets/controls",
          "model_name": "DescriptionStyleModel",
          "state": {
            "_view_name": "StyleView",
            "_model_name": "DescriptionStyleModel",
            "description_width": "",
            "_view_module": "@jupyter-widgets/base",
            "_model_module_version": "1.5.0",
            "_view_count": null,
            "_view_module_version": "1.2.0",
            "_model_module": "@jupyter-widgets/controls"
          }
        },
        "e36898e6674d4f95a28b2bf3db242e57": {
          "model_module": "@jupyter-widgets/base",
          "model_name": "LayoutModel",
          "state": {
            "_view_name": "LayoutView",
            "grid_template_rows": null,
            "right": null,
            "justify_content": null,
            "_view_module": "@jupyter-widgets/base",
            "overflow": null,
            "_model_module_version": "1.2.0",
            "_view_count": null,
            "flex_flow": null,
            "width": null,
            "min_width": null,
            "border": null,
            "align_items": null,
            "bottom": null,
            "_model_module": "@jupyter-widgets/base",
            "top": null,
            "grid_column": null,
            "overflow_y": null,
            "overflow_x": null,
            "grid_auto_flow": null,
            "grid_area": null,
            "grid_template_columns": null,
            "flex": null,
            "_model_name": "LayoutModel",
            "justify_items": null,
            "grid_row": null,
            "max_height": null,
            "align_content": null,
            "visibility": null,
            "align_self": null,
            "height": null,
            "min_height": null,
            "padding": null,
            "grid_auto_rows": null,
            "grid_gap": null,
            "max_width": null,
            "order": null,
            "_view_module_version": "1.2.0",
            "grid_template_areas": null,
            "object_position": null,
            "object_fit": null,
            "grid_auto_columns": null,
            "margin": null,
            "display": null,
            "left": null
          }
        }
      }
    }
  },
  "cells": [
    {
      "cell_type": "code",
      "metadata": {
        "id": "cnTSLqd-xOfK",
        "colab": {
          "base_uri": "https://localhost:8080/"
        },
        "outputId": "38bf1eb9-7974-43c3-f3e9-fadfaa6a47f6"
      },
      "source": [
        "# download data\n",
        "! wget https://www.dropbox.com/s/seshsi92ui05crb/kz.csv.zip?dl=0 -O kz.csv.zip\n",
        "! unzip kz.csv.zip"
      ],
      "execution_count": 6,
      "outputs": [
        {
          "output_type": "stream",
          "text": [
            "--2021-05-28 11:38:52--  https://www.dropbox.com/s/seshsi92ui05crb/kz.csv.zip?dl=0\n",
            "Resolving www.dropbox.com (www.dropbox.com)... 162.125.65.18, 2620:100:6021:18::a27d:4112\n",
            "Connecting to www.dropbox.com (www.dropbox.com)|162.125.65.18|:443... connected.\n",
            "HTTP request sent, awaiting response... 301 Moved Permanently\n",
            "Location: /s/raw/seshsi92ui05crb/kz.csv.zip [following]\n",
            "--2021-05-28 11:38:52--  https://www.dropbox.com/s/raw/seshsi92ui05crb/kz.csv.zip\n",
            "Reusing existing connection to www.dropbox.com:443.\n",
            "HTTP request sent, awaiting response... 302 Found\n",
            "Location: https://uc9ac9382c99b9540c1eb5840d0d.dl.dropboxusercontent.com/cd/0/inline/BPV6jOPcv0hV6_3EpCIBhtckMtD6n3qgHd2-ODKanpvO4roqQGwBFBML5j8q-ODLwNOOEB1Xa_VIEk13iEisvk0DFKD_ONkRCWTC4J5v2FJPOAetzJuKVyi2maaDrcAfa5Z5rDJe1O_yLZGFVIYLscBo/file# [following]\n",
            "--2021-05-28 11:38:53--  https://uc9ac9382c99b9540c1eb5840d0d.dl.dropboxusercontent.com/cd/0/inline/BPV6jOPcv0hV6_3EpCIBhtckMtD6n3qgHd2-ODKanpvO4roqQGwBFBML5j8q-ODLwNOOEB1Xa_VIEk13iEisvk0DFKD_ONkRCWTC4J5v2FJPOAetzJuKVyi2maaDrcAfa5Z5rDJe1O_yLZGFVIYLscBo/file\n",
            "Resolving uc9ac9382c99b9540c1eb5840d0d.dl.dropboxusercontent.com (uc9ac9382c99b9540c1eb5840d0d.dl.dropboxusercontent.com)... 162.125.65.15, 2620:100:6027:15::a27d:480f\n",
            "Connecting to uc9ac9382c99b9540c1eb5840d0d.dl.dropboxusercontent.com (uc9ac9382c99b9540c1eb5840d0d.dl.dropboxusercontent.com)|162.125.65.15|:443... connected.\n",
            "HTTP request sent, awaiting response... 302 Found\n",
            "Location: /cd/0/inline2/BPWkwyVlF5MbAGl9b3lcfRHVYo4y6wOY8MNMI11rY_DGlCsjyaxPNiHuitigsilnlzJwRv_6a1CTUdY7kh14_K7rsPvAScHTMGMH4F1DqmaC-eETyqHNp91CTLnqDECukgUG23Xv0uWsIpVVw30m9eEjS4KgpUNYG_qOpPoUNfG7W-NxAIWKyHtz09iWujwsL52joVIs5IvIbcXxGOOvUI92LZ1So6ARZ7JD_EQFDLAMpvVoR1ZasuXKuKClOwrF2LGHK-GwCbYJQDmmaFU5iNampxwpDJ1ITGuuH9fz57HUj2fk4xeT8cT02EimpKoQhpfzue5B1YuxiRenzE2BgevldayJi1FmchB1YXwgDOoY9vMFcTMYP1D8Si08-04eg00/file [following]\n",
            "--2021-05-28 11:38:53--  https://uc9ac9382c99b9540c1eb5840d0d.dl.dropboxusercontent.com/cd/0/inline2/BPWkwyVlF5MbAGl9b3lcfRHVYo4y6wOY8MNMI11rY_DGlCsjyaxPNiHuitigsilnlzJwRv_6a1CTUdY7kh14_K7rsPvAScHTMGMH4F1DqmaC-eETyqHNp91CTLnqDECukgUG23Xv0uWsIpVVw30m9eEjS4KgpUNYG_qOpPoUNfG7W-NxAIWKyHtz09iWujwsL52joVIs5IvIbcXxGOOvUI92LZ1So6ARZ7JD_EQFDLAMpvVoR1ZasuXKuKClOwrF2LGHK-GwCbYJQDmmaFU5iNampxwpDJ1ITGuuH9fz57HUj2fk4xeT8cT02EimpKoQhpfzue5B1YuxiRenzE2BgevldayJi1FmchB1YXwgDOoY9vMFcTMYP1D8Si08-04eg00/file\n",
            "Reusing existing connection to uc9ac9382c99b9540c1eb5840d0d.dl.dropboxusercontent.com:443.\n",
            "HTTP request sent, awaiting response... 200 OK\n",
            "Length: 52914925 (50M) [application/zip]\n",
            "Saving to: ‘kz.csv.zip’\n",
            "\n",
            "kz.csv.zip          100%[===================>]  50.46M  23.5MB/s    in 2.1s    \n",
            "\n",
            "2021-05-28 11:38:56 (23.5 MB/s) - ‘kz.csv.zip’ saved [52914925/52914925]\n",
            "\n",
            "Archive:  kz.csv.zip\n",
            "replace kz.csv? [y]es, [n]o, [A]ll, [N]one, [r]ename: "
          ],
          "name": "stdout"
        }
      ]
    },
    {
      "cell_type": "code",
      "metadata": {
        "id": "V33phwFfvxtq"
      },
      "source": [
        "import numpy as np\n",
        "import pandas as pd\n",
        "import sklearn\n",
        "import matplotlib.pyplot as plt\n",
        "import seaborn as sns\n",
        "import math\n",
        "from datetime import datetime, date\n",
        "from sklearn.model_selection import train_test_split\n",
        "from tqdm.notebook import tqdm\n",
        "from scipy.linalg import svd\n",
        "import plotly.express as px\n",
        "import plotly.graph_objs as go\n",
        "\n",
        "%matplotlib inline"
      ],
      "execution_count": 7,
      "outputs": []
    },
    {
      "cell_type": "code",
      "metadata": {
        "id": "-ELN5VyPOCj-"
      },
      "source": [
        "df = pd.read_csv('kz.csv')"
      ],
      "execution_count": 8,
      "outputs": []
    },
    {
      "cell_type": "code",
      "metadata": {
        "colab": {
          "base_uri": "https://localhost:8080/",
          "height": 195
        },
        "id": "B8RD1VPmOOhQ",
        "outputId": "5949f34d-e56b-479a-a5f9-cea2c31dd417"
      },
      "source": [
        "df.head()"
      ],
      "execution_count": 9,
      "outputs": [
        {
          "output_type": "execute_result",
          "data": {
            "text/html": [
              "<div>\n",
              "<style scoped>\n",
              "    .dataframe tbody tr th:only-of-type {\n",
              "        vertical-align: middle;\n",
              "    }\n",
              "\n",
              "    .dataframe tbody tr th {\n",
              "        vertical-align: top;\n",
              "    }\n",
              "\n",
              "    .dataframe thead th {\n",
              "        text-align: right;\n",
              "    }\n",
              "</style>\n",
              "<table border=\"1\" class=\"dataframe\">\n",
              "  <thead>\n",
              "    <tr style=\"text-align: right;\">\n",
              "      <th></th>\n",
              "      <th>event_time</th>\n",
              "      <th>order_id</th>\n",
              "      <th>product_id</th>\n",
              "      <th>category_id</th>\n",
              "      <th>category_code</th>\n",
              "      <th>brand</th>\n",
              "      <th>price</th>\n",
              "      <th>user_id</th>\n",
              "    </tr>\n",
              "  </thead>\n",
              "  <tbody>\n",
              "    <tr>\n",
              "      <th>0</th>\n",
              "      <td>2020-04-24 11:50:39 UTC</td>\n",
              "      <td>2294359932054536986</td>\n",
              "      <td>1515966223509089906</td>\n",
              "      <td>2.268105e+18</td>\n",
              "      <td>electronics.tablet</td>\n",
              "      <td>samsung</td>\n",
              "      <td>162.01</td>\n",
              "      <td>1.515916e+18</td>\n",
              "    </tr>\n",
              "    <tr>\n",
              "      <th>1</th>\n",
              "      <td>2020-04-24 11:50:39 UTC</td>\n",
              "      <td>2294359932054536986</td>\n",
              "      <td>1515966223509089906</td>\n",
              "      <td>2.268105e+18</td>\n",
              "      <td>electronics.tablet</td>\n",
              "      <td>samsung</td>\n",
              "      <td>162.01</td>\n",
              "      <td>1.515916e+18</td>\n",
              "    </tr>\n",
              "    <tr>\n",
              "      <th>2</th>\n",
              "      <td>2020-04-24 14:37:43 UTC</td>\n",
              "      <td>2294444024058086220</td>\n",
              "      <td>2273948319057183658</td>\n",
              "      <td>2.268105e+18</td>\n",
              "      <td>electronics.audio.headphone</td>\n",
              "      <td>huawei</td>\n",
              "      <td>77.52</td>\n",
              "      <td>1.515916e+18</td>\n",
              "    </tr>\n",
              "    <tr>\n",
              "      <th>3</th>\n",
              "      <td>2020-04-24 14:37:43 UTC</td>\n",
              "      <td>2294444024058086220</td>\n",
              "      <td>2273948319057183658</td>\n",
              "      <td>2.268105e+18</td>\n",
              "      <td>electronics.audio.headphone</td>\n",
              "      <td>huawei</td>\n",
              "      <td>77.52</td>\n",
              "      <td>1.515916e+18</td>\n",
              "    </tr>\n",
              "    <tr>\n",
              "      <th>4</th>\n",
              "      <td>2020-04-24 19:16:21 UTC</td>\n",
              "      <td>2294584263154074236</td>\n",
              "      <td>2273948316817424439</td>\n",
              "      <td>2.268105e+18</td>\n",
              "      <td>NaN</td>\n",
              "      <td>karcher</td>\n",
              "      <td>217.57</td>\n",
              "      <td>1.515916e+18</td>\n",
              "    </tr>\n",
              "  </tbody>\n",
              "</table>\n",
              "</div>"
            ],
            "text/plain": [
              "                event_time             order_id  ...   price       user_id\n",
              "0  2020-04-24 11:50:39 UTC  2294359932054536986  ...  162.01  1.515916e+18\n",
              "1  2020-04-24 11:50:39 UTC  2294359932054536986  ...  162.01  1.515916e+18\n",
              "2  2020-04-24 14:37:43 UTC  2294444024058086220  ...   77.52  1.515916e+18\n",
              "3  2020-04-24 14:37:43 UTC  2294444024058086220  ...   77.52  1.515916e+18\n",
              "4  2020-04-24 19:16:21 UTC  2294584263154074236  ...  217.57  1.515916e+18\n",
              "\n",
              "[5 rows x 8 columns]"
            ]
          },
          "metadata": {
            "tags": []
          },
          "execution_count": 9
        }
      ]
    },
    {
      "cell_type": "code",
      "metadata": {
        "colab": {
          "base_uri": "https://localhost:8080/"
        },
        "id": "eJ31P_eO0mKR",
        "outputId": "a5b9cb7e-60c5-4734-b0b5-64f12270cc8c"
      },
      "source": [
        "df.shape"
      ],
      "execution_count": 10,
      "outputs": [
        {
          "output_type": "execute_result",
          "data": {
            "text/plain": [
              "(2633521, 8)"
            ]
          },
          "metadata": {
            "tags": []
          },
          "execution_count": 10
        }
      ]
    },
    {
      "cell_type": "markdown",
      "metadata": {
        "id": "_E1a8NthzGuM"
      },
      "source": [
        "# Data Analisys"
      ]
    },
    {
      "cell_type": "code",
      "metadata": {
        "id": "e0s_th7NqMgH",
        "colab": {
          "base_uri": "https://localhost:8080/",
          "height": 35
        },
        "outputId": "9182acb8-c9b0-4145-81ed-7d0d6f44f5ff"
      },
      "source": [
        "counter = 0\n",
        "for i in range(0, df.shape[0]):\n",
        "  if np.sum(df.iloc[i].isnull().sum()) == 0:\n",
        "    counter+=1"
      ],
      "execution_count": 13,
      "outputs": [
        {
          "output_type": "execute_result",
          "data": {
            "application/vnd.google.colaboratory.intrinsic+json": {
              "type": "string"
            },
            "text/plain": [
              "'counter = 0\\nfor i in range(0, df.shape[0]):\\n  if np.sum(df.iloc[i].isnull().sum()) == 0:\\n    counter+=1'"
            ]
          },
          "metadata": {
            "tags": []
          },
          "execution_count": 13
        }
      ]
    },
    {
      "cell_type": "code",
      "metadata": {
        "id": "2jzZNSHYqirY"
      },
      "source": [
        "counter #количество полных записей"
      ],
      "execution_count": null,
      "outputs": []
    },
    {
      "cell_type": "code",
      "metadata": {
        "id": "F6OKkY4nxDrC"
      },
      "source": [
        "df['category'] = df['category_code'].str.rsplit('.', n=1, expand=True)[1]\n",
        "df.drop(columns=['category_code'], inplace=True)"
      ],
      "execution_count": null,
      "outputs": []
    },
    {
      "cell_type": "code",
      "metadata": {
        "id": "6aAULeS1w02a"
      },
      "source": [
        "pop_cat = df.groupby('category')['price'].agg('count').reset_index().sort_values('price', ascending=False).head(15)\n",
        "pop_cat.rename(columns={\"category\": \"category\", \"price\": \"times_sold\"}, inplace=True)"
      ],
      "execution_count": null,
      "outputs": []
    },
    {
      "cell_type": "code",
      "metadata": {
        "id": "v5C6oUhew0b4"
      },
      "source": [
        "fig = px.bar(\n",
        "    pop_cat, \n",
        "    x='category', \n",
        "    y='times_sold', \n",
        "    width=1200, \n",
        "    height=800\n",
        ")\n",
        "\n",
        "fig.show()"
      ],
      "execution_count": null,
      "outputs": []
    },
    {
      "cell_type": "code",
      "metadata": {
        "id": "ytZpXKJQngJM"
      },
      "source": [
        "value_brands = df.groupby('brand')['price'].sum().reset_index().sort_values('price', ascending=False).head(15)"
      ],
      "execution_count": null,
      "outputs": []
    },
    {
      "cell_type": "code",
      "metadata": {
        "colab": {
          "base_uri": "https://localhost:8080/",
          "height": 817
        },
        "id": "Tpy5BL4Juvay",
        "outputId": "e846e30f-cc32-420a-8d9f-fbd1dd6348ff"
      },
      "source": [
        "fig = px.bar(\n",
        "    value_brands, \n",
        "    x='brand', \n",
        "    y='price', \n",
        "    width=1200, \n",
        "    height=800\n",
        ")\n",
        "\n",
        "fig.show()"
      ],
      "execution_count": null,
      "outputs": [
        {
          "output_type": "display_data",
          "data": {
            "text/html": [
              "<html>\n",
              "<head><meta charset=\"utf-8\" /></head>\n",
              "<body>\n",
              "    <div>\n",
              "            <script src=\"https://cdnjs.cloudflare.com/ajax/libs/mathjax/2.7.5/MathJax.js?config=TeX-AMS-MML_SVG\"></script><script type=\"text/javascript\">if (window.MathJax) {MathJax.Hub.Config({SVG: {font: \"STIX-Web\"}});}</script>\n",
              "                <script type=\"text/javascript\">window.PlotlyConfig = {MathJaxConfig: 'local'};</script>\n",
              "        <script src=\"https://cdn.plot.ly/plotly-latest.min.js\"></script>    \n",
              "            <div id=\"e171ed14-2a66-47b1-b6dd-58ebb31f8ffc\" class=\"plotly-graph-div\" style=\"height:800px; width:1200px;\"></div>\n",
              "            <script type=\"text/javascript\">\n",
              "                \n",
              "                    window.PLOTLYENV=window.PLOTLYENV || {};\n",
              "                    \n",
              "                if (document.getElementById(\"e171ed14-2a66-47b1-b6dd-58ebb31f8ffc\")) {\n",
              "                    Plotly.newPlot(\n",
              "                        'e171ed14-2a66-47b1-b6dd-58ebb31f8ffc',\n",
              "                        [{\"alignmentgroup\": \"True\", \"hoverlabel\": {\"namelength\": 0}, \"hovertemplate\": \"brand=%{x}<br>price=%{y}\", \"legendgroup\": \"\", \"marker\": {\"color\": \"#636efa\"}, \"name\": \"\", \"offsetgroup\": \"\", \"orientation\": \"v\", \"showlegend\": false, \"textposition\": \"auto\", \"type\": \"bar\", \"x\": [\"samsung\", \"apple\", \"lg\", \"bosch\", \"huawei\", \"asus\", \"lenovo\", \"ava\", \"beko\", \"oppo\", \"tefal\", \"hp\", \"sony\", \"electrolux\", \"xiaomi\"], \"xaxis\": \"x\", \"y\": [90052821.66007252, 47914785.999997385, 26156031.139997296, 11077479.770000275, 10773965.410000723, 10635833.790000424, 10528662.779999534, 8542528.849999594, 8483143.25000033, 7322139.240001039, 6454978.190000089, 6030830.360000201, 5943163.269999963, 5017137.170000049, 4440714.4299997445], \"yaxis\": \"y\"}],\n",
              "                        {\"barmode\": \"relative\", \"height\": 800, \"legend\": {\"tracegroupgap\": 0}, \"margin\": {\"t\": 60}, \"template\": {\"data\": {\"bar\": [{\"error_x\": {\"color\": \"#2a3f5f\"}, \"error_y\": {\"color\": \"#2a3f5f\"}, \"marker\": {\"line\": {\"color\": \"#E5ECF6\", \"width\": 0.5}}, \"type\": \"bar\"}], \"barpolar\": [{\"marker\": {\"line\": {\"color\": \"#E5ECF6\", \"width\": 0.5}}, \"type\": \"barpolar\"}], \"carpet\": [{\"aaxis\": {\"endlinecolor\": \"#2a3f5f\", \"gridcolor\": \"white\", \"linecolor\": \"white\", \"minorgridcolor\": \"white\", \"startlinecolor\": \"#2a3f5f\"}, \"baxis\": {\"endlinecolor\": \"#2a3f5f\", \"gridcolor\": \"white\", \"linecolor\": \"white\", \"minorgridcolor\": \"white\", \"startlinecolor\": \"#2a3f5f\"}, \"type\": \"carpet\"}], \"choropleth\": [{\"colorbar\": {\"outlinewidth\": 0, \"ticks\": \"\"}, \"type\": \"choropleth\"}], \"contour\": [{\"colorbar\": {\"outlinewidth\": 0, \"ticks\": \"\"}, \"colorscale\": [[0.0, \"#0d0887\"], [0.1111111111111111, \"#46039f\"], [0.2222222222222222, \"#7201a8\"], [0.3333333333333333, \"#9c179e\"], [0.4444444444444444, \"#bd3786\"], [0.5555555555555556, \"#d8576b\"], [0.6666666666666666, \"#ed7953\"], [0.7777777777777778, \"#fb9f3a\"], [0.8888888888888888, \"#fdca26\"], [1.0, \"#f0f921\"]], \"type\": \"contour\"}], \"contourcarpet\": [{\"colorbar\": {\"outlinewidth\": 0, \"ticks\": \"\"}, \"type\": \"contourcarpet\"}], \"heatmap\": [{\"colorbar\": {\"outlinewidth\": 0, \"ticks\": \"\"}, \"colorscale\": [[0.0, \"#0d0887\"], [0.1111111111111111, \"#46039f\"], [0.2222222222222222, \"#7201a8\"], [0.3333333333333333, \"#9c179e\"], [0.4444444444444444, \"#bd3786\"], [0.5555555555555556, \"#d8576b\"], [0.6666666666666666, \"#ed7953\"], [0.7777777777777778, \"#fb9f3a\"], [0.8888888888888888, \"#fdca26\"], [1.0, \"#f0f921\"]], \"type\": \"heatmap\"}], \"heatmapgl\": [{\"colorbar\": {\"outlinewidth\": 0, \"ticks\": \"\"}, \"colorscale\": [[0.0, \"#0d0887\"], [0.1111111111111111, \"#46039f\"], [0.2222222222222222, \"#7201a8\"], [0.3333333333333333, \"#9c179e\"], [0.4444444444444444, \"#bd3786\"], [0.5555555555555556, \"#d8576b\"], [0.6666666666666666, \"#ed7953\"], [0.7777777777777778, \"#fb9f3a\"], [0.8888888888888888, \"#fdca26\"], [1.0, \"#f0f921\"]], \"type\": \"heatmapgl\"}], \"histogram\": [{\"marker\": {\"colorbar\": {\"outlinewidth\": 0, \"ticks\": \"\"}}, \"type\": \"histogram\"}], \"histogram2d\": [{\"colorbar\": {\"outlinewidth\": 0, \"ticks\": \"\"}, \"colorscale\": [[0.0, \"#0d0887\"], [0.1111111111111111, \"#46039f\"], [0.2222222222222222, \"#7201a8\"], [0.3333333333333333, \"#9c179e\"], [0.4444444444444444, \"#bd3786\"], [0.5555555555555556, \"#d8576b\"], [0.6666666666666666, \"#ed7953\"], [0.7777777777777778, \"#fb9f3a\"], [0.8888888888888888, \"#fdca26\"], [1.0, \"#f0f921\"]], \"type\": \"histogram2d\"}], \"histogram2dcontour\": [{\"colorbar\": {\"outlinewidth\": 0, \"ticks\": \"\"}, \"colorscale\": [[0.0, \"#0d0887\"], [0.1111111111111111, \"#46039f\"], [0.2222222222222222, \"#7201a8\"], [0.3333333333333333, \"#9c179e\"], [0.4444444444444444, \"#bd3786\"], [0.5555555555555556, \"#d8576b\"], [0.6666666666666666, \"#ed7953\"], [0.7777777777777778, \"#fb9f3a\"], [0.8888888888888888, \"#fdca26\"], [1.0, \"#f0f921\"]], \"type\": \"histogram2dcontour\"}], \"mesh3d\": [{\"colorbar\": {\"outlinewidth\": 0, \"ticks\": \"\"}, \"type\": \"mesh3d\"}], \"parcoords\": [{\"line\": {\"colorbar\": {\"outlinewidth\": 0, \"ticks\": \"\"}}, \"type\": \"parcoords\"}], \"pie\": [{\"automargin\": true, \"type\": \"pie\"}], \"scatter\": [{\"marker\": {\"colorbar\": {\"outlinewidth\": 0, \"ticks\": \"\"}}, \"type\": \"scatter\"}], \"scatter3d\": [{\"line\": {\"colorbar\": {\"outlinewidth\": 0, \"ticks\": \"\"}}, \"marker\": {\"colorbar\": {\"outlinewidth\": 0, \"ticks\": \"\"}}, \"type\": \"scatter3d\"}], \"scattercarpet\": [{\"marker\": {\"colorbar\": {\"outlinewidth\": 0, \"ticks\": \"\"}}, \"type\": \"scattercarpet\"}], \"scattergeo\": [{\"marker\": {\"colorbar\": {\"outlinewidth\": 0, \"ticks\": \"\"}}, \"type\": \"scattergeo\"}], \"scattergl\": [{\"marker\": {\"colorbar\": {\"outlinewidth\": 0, \"ticks\": \"\"}}, \"type\": \"scattergl\"}], \"scattermapbox\": [{\"marker\": {\"colorbar\": {\"outlinewidth\": 0, \"ticks\": \"\"}}, \"type\": \"scattermapbox\"}], \"scatterpolar\": [{\"marker\": {\"colorbar\": {\"outlinewidth\": 0, \"ticks\": \"\"}}, \"type\": \"scatterpolar\"}], \"scatterpolargl\": [{\"marker\": {\"colorbar\": {\"outlinewidth\": 0, \"ticks\": \"\"}}, \"type\": \"scatterpolargl\"}], \"scatterternary\": [{\"marker\": {\"colorbar\": {\"outlinewidth\": 0, \"ticks\": \"\"}}, \"type\": \"scatterternary\"}], \"surface\": [{\"colorbar\": {\"outlinewidth\": 0, \"ticks\": \"\"}, \"colorscale\": [[0.0, \"#0d0887\"], [0.1111111111111111, \"#46039f\"], [0.2222222222222222, \"#7201a8\"], [0.3333333333333333, \"#9c179e\"], [0.4444444444444444, \"#bd3786\"], [0.5555555555555556, \"#d8576b\"], [0.6666666666666666, \"#ed7953\"], [0.7777777777777778, \"#fb9f3a\"], [0.8888888888888888, \"#fdca26\"], [1.0, \"#f0f921\"]], \"type\": \"surface\"}], \"table\": [{\"cells\": {\"fill\": {\"color\": \"#EBF0F8\"}, \"line\": {\"color\": \"white\"}}, \"header\": {\"fill\": {\"color\": \"#C8D4E3\"}, \"line\": {\"color\": \"white\"}}, \"type\": \"table\"}]}, \"layout\": {\"annotationdefaults\": {\"arrowcolor\": \"#2a3f5f\", \"arrowhead\": 0, \"arrowwidth\": 1}, \"coloraxis\": {\"colorbar\": {\"outlinewidth\": 0, \"ticks\": \"\"}}, \"colorscale\": {\"diverging\": [[0, \"#8e0152\"], [0.1, \"#c51b7d\"], [0.2, \"#de77ae\"], [0.3, \"#f1b6da\"], [0.4, \"#fde0ef\"], [0.5, \"#f7f7f7\"], [0.6, \"#e6f5d0\"], [0.7, \"#b8e186\"], [0.8, \"#7fbc41\"], [0.9, \"#4d9221\"], [1, \"#276419\"]], \"sequential\": [[0.0, \"#0d0887\"], [0.1111111111111111, \"#46039f\"], [0.2222222222222222, \"#7201a8\"], [0.3333333333333333, \"#9c179e\"], [0.4444444444444444, \"#bd3786\"], [0.5555555555555556, \"#d8576b\"], [0.6666666666666666, \"#ed7953\"], [0.7777777777777778, \"#fb9f3a\"], [0.8888888888888888, \"#fdca26\"], [1.0, \"#f0f921\"]], \"sequentialminus\": [[0.0, \"#0d0887\"], [0.1111111111111111, \"#46039f\"], [0.2222222222222222, \"#7201a8\"], [0.3333333333333333, \"#9c179e\"], [0.4444444444444444, \"#bd3786\"], [0.5555555555555556, \"#d8576b\"], [0.6666666666666666, \"#ed7953\"], [0.7777777777777778, \"#fb9f3a\"], [0.8888888888888888, \"#fdca26\"], [1.0, \"#f0f921\"]]}, \"colorway\": [\"#636efa\", \"#EF553B\", \"#00cc96\", \"#ab63fa\", \"#FFA15A\", \"#19d3f3\", \"#FF6692\", \"#B6E880\", \"#FF97FF\", \"#FECB52\"], \"font\": {\"color\": \"#2a3f5f\"}, \"geo\": {\"bgcolor\": \"white\", \"lakecolor\": \"white\", \"landcolor\": \"#E5ECF6\", \"showlakes\": true, \"showland\": true, \"subunitcolor\": \"white\"}, \"hoverlabel\": {\"align\": \"left\"}, \"hovermode\": \"closest\", \"mapbox\": {\"style\": \"light\"}, \"paper_bgcolor\": \"white\", \"plot_bgcolor\": \"#E5ECF6\", \"polar\": {\"angularaxis\": {\"gridcolor\": \"white\", \"linecolor\": \"white\", \"ticks\": \"\"}, \"bgcolor\": \"#E5ECF6\", \"radialaxis\": {\"gridcolor\": \"white\", \"linecolor\": \"white\", \"ticks\": \"\"}}, \"scene\": {\"xaxis\": {\"backgroundcolor\": \"#E5ECF6\", \"gridcolor\": \"white\", \"gridwidth\": 2, \"linecolor\": \"white\", \"showbackground\": true, \"ticks\": \"\", \"zerolinecolor\": \"white\"}, \"yaxis\": {\"backgroundcolor\": \"#E5ECF6\", \"gridcolor\": \"white\", \"gridwidth\": 2, \"linecolor\": \"white\", \"showbackground\": true, \"ticks\": \"\", \"zerolinecolor\": \"white\"}, \"zaxis\": {\"backgroundcolor\": \"#E5ECF6\", \"gridcolor\": \"white\", \"gridwidth\": 2, \"linecolor\": \"white\", \"showbackground\": true, \"ticks\": \"\", \"zerolinecolor\": \"white\"}}, \"shapedefaults\": {\"line\": {\"color\": \"#2a3f5f\"}}, \"ternary\": {\"aaxis\": {\"gridcolor\": \"white\", \"linecolor\": \"white\", \"ticks\": \"\"}, \"baxis\": {\"gridcolor\": \"white\", \"linecolor\": \"white\", \"ticks\": \"\"}, \"bgcolor\": \"#E5ECF6\", \"caxis\": {\"gridcolor\": \"white\", \"linecolor\": \"white\", \"ticks\": \"\"}}, \"title\": {\"x\": 0.05}, \"xaxis\": {\"automargin\": true, \"gridcolor\": \"white\", \"linecolor\": \"white\", \"ticks\": \"\", \"title\": {\"standoff\": 15}, \"zerolinecolor\": \"white\", \"zerolinewidth\": 2}, \"yaxis\": {\"automargin\": true, \"gridcolor\": \"white\", \"linecolor\": \"white\", \"ticks\": \"\", \"title\": {\"standoff\": 15}, \"zerolinecolor\": \"white\", \"zerolinewidth\": 2}}}, \"width\": 1200, \"xaxis\": {\"anchor\": \"y\", \"domain\": [0.0, 1.0], \"title\": {\"text\": \"brand\"}}, \"yaxis\": {\"anchor\": \"x\", \"domain\": [0.0, 1.0], \"title\": {\"text\": \"price\"}}},\n",
              "                        {\"responsive\": true}\n",
              "                    ).then(function(){\n",
              "                            \n",
              "var gd = document.getElementById('e171ed14-2a66-47b1-b6dd-58ebb31f8ffc');\n",
              "var x = new MutationObserver(function (mutations, observer) {{\n",
              "        var display = window.getComputedStyle(gd).display;\n",
              "        if (!display || display === 'none') {{\n",
              "            console.log([gd, 'removed!']);\n",
              "            Plotly.purge(gd);\n",
              "            observer.disconnect();\n",
              "        }}\n",
              "}});\n",
              "\n",
              "// Listen for the removal of the full notebook cells\n",
              "var notebookContainer = gd.closest('#notebook-container');\n",
              "if (notebookContainer) {{\n",
              "    x.observe(notebookContainer, {childList: true});\n",
              "}}\n",
              "\n",
              "// Listen for the clearing of the current output cell\n",
              "var outputEl = gd.closest('.output');\n",
              "if (outputEl) {{\n",
              "    x.observe(outputEl, {childList: true});\n",
              "}}\n",
              "\n",
              "                        })\n",
              "                };\n",
              "                \n",
              "            </script>\n",
              "        </div>\n",
              "</body>\n",
              "</html>"
            ]
          },
          "metadata": {
            "tags": []
          }
        }
      ]
    },
    {
      "cell_type": "code",
      "metadata": {
        "id": "IpgPAHsHuzlo"
      },
      "source": [
        "popular_brand = df.groupby('brand')['price'].agg('count').reset_index().sort_values('price', ascending=False).head(15)\n",
        "popular_brand.rename(columns={\"brand\": \"brand\", \"price\": \"times_sold\"}, inplace=True)"
      ],
      "execution_count": null,
      "outputs": []
    },
    {
      "cell_type": "code",
      "metadata": {
        "colab": {
          "base_uri": "https://localhost:8080/",
          "height": 817
        },
        "id": "l_Um1doqvmwz",
        "outputId": "e0dcb8c5-b996-4ba4-e5f0-ef9f055df1ae"
      },
      "source": [
        "fig = px.bar(\n",
        "    popular_brand, \n",
        "    x='brand', \n",
        "    y='times_sold', \n",
        "    width=1200, \n",
        "    height=800\n",
        ")\n",
        "\n",
        "fig.show()"
      ],
      "execution_count": null,
      "outputs": [
        {
          "output_type": "display_data",
          "data": {
            "text/html": [
              "<html>\n",
              "<head><meta charset=\"utf-8\" /></head>\n",
              "<body>\n",
              "    <div>\n",
              "            <script src=\"https://cdnjs.cloudflare.com/ajax/libs/mathjax/2.7.5/MathJax.js?config=TeX-AMS-MML_SVG\"></script><script type=\"text/javascript\">if (window.MathJax) {MathJax.Hub.Config({SVG: {font: \"STIX-Web\"}});}</script>\n",
              "                <script type=\"text/javascript\">window.PlotlyConfig = {MathJaxConfig: 'local'};</script>\n",
              "        <script src=\"https://cdn.plot.ly/plotly-latest.min.js\"></script>    \n",
              "            <div id=\"3a41f234-6bb8-48ff-a97e-c120edba4833\" class=\"plotly-graph-div\" style=\"height:800px; width:1200px;\"></div>\n",
              "            <script type=\"text/javascript\">\n",
              "                \n",
              "                    window.PLOTLYENV=window.PLOTLYENV || {};\n",
              "                    \n",
              "                if (document.getElementById(\"3a41f234-6bb8-48ff-a97e-c120edba4833\")) {\n",
              "                    Plotly.newPlot(\n",
              "                        '3a41f234-6bb8-48ff-a97e-c120edba4833',\n",
              "                        [{\"alignmentgroup\": \"True\", \"hoverlabel\": {\"namelength\": 0}, \"hovertemplate\": \"brand=%{x}<br>times_sold=%{y}\", \"legendgroup\": \"\", \"marker\": {\"color\": \"#636efa\"}, \"name\": \"\", \"offsetgroup\": \"\", \"orientation\": \"v\", \"showlegend\": false, \"textposition\": \"auto\", \"type\": \"bar\", \"x\": [\"samsung\", \"ava\", \"tefal\", \"apple\", \"huawei\", \"lg\", \"philips\", \"neo\", \"polaris\", \"oppo\", \"bosch\", \"vitek\", \"xiaomi\", \"beko\", \"sony\"], \"xaxis\": \"x\", \"y\": [358928, 118161, 78653, 74709, 57438, 55685, 52327, 42638, 40663, 36445, 33893, 33423, 33207, 32146, 27163], \"yaxis\": \"y\"}],\n",
              "                        {\"barmode\": \"relative\", \"height\": 800, \"legend\": {\"tracegroupgap\": 0}, \"margin\": {\"t\": 60}, \"template\": {\"data\": {\"bar\": [{\"error_x\": {\"color\": \"#2a3f5f\"}, \"error_y\": {\"color\": \"#2a3f5f\"}, \"marker\": {\"line\": {\"color\": \"#E5ECF6\", \"width\": 0.5}}, \"type\": \"bar\"}], \"barpolar\": [{\"marker\": {\"line\": {\"color\": \"#E5ECF6\", \"width\": 0.5}}, \"type\": \"barpolar\"}], \"carpet\": [{\"aaxis\": {\"endlinecolor\": \"#2a3f5f\", \"gridcolor\": \"white\", \"linecolor\": \"white\", \"minorgridcolor\": \"white\", \"startlinecolor\": \"#2a3f5f\"}, \"baxis\": {\"endlinecolor\": \"#2a3f5f\", \"gridcolor\": \"white\", \"linecolor\": \"white\", \"minorgridcolor\": \"white\", \"startlinecolor\": \"#2a3f5f\"}, \"type\": \"carpet\"}], \"choropleth\": [{\"colorbar\": {\"outlinewidth\": 0, \"ticks\": \"\"}, \"type\": \"choropleth\"}], \"contour\": [{\"colorbar\": {\"outlinewidth\": 0, \"ticks\": \"\"}, \"colorscale\": [[0.0, \"#0d0887\"], [0.1111111111111111, \"#46039f\"], [0.2222222222222222, \"#7201a8\"], [0.3333333333333333, \"#9c179e\"], [0.4444444444444444, \"#bd3786\"], [0.5555555555555556, \"#d8576b\"], [0.6666666666666666, \"#ed7953\"], [0.7777777777777778, \"#fb9f3a\"], [0.8888888888888888, \"#fdca26\"], [1.0, \"#f0f921\"]], \"type\": \"contour\"}], \"contourcarpet\": [{\"colorbar\": {\"outlinewidth\": 0, \"ticks\": \"\"}, \"type\": \"contourcarpet\"}], \"heatmap\": [{\"colorbar\": {\"outlinewidth\": 0, \"ticks\": \"\"}, \"colorscale\": [[0.0, \"#0d0887\"], [0.1111111111111111, \"#46039f\"], [0.2222222222222222, \"#7201a8\"], [0.3333333333333333, \"#9c179e\"], [0.4444444444444444, \"#bd3786\"], [0.5555555555555556, \"#d8576b\"], [0.6666666666666666, \"#ed7953\"], [0.7777777777777778, \"#fb9f3a\"], [0.8888888888888888, \"#fdca26\"], [1.0, \"#f0f921\"]], \"type\": \"heatmap\"}], \"heatmapgl\": [{\"colorbar\": {\"outlinewidth\": 0, \"ticks\": \"\"}, \"colorscale\": [[0.0, \"#0d0887\"], [0.1111111111111111, \"#46039f\"], [0.2222222222222222, \"#7201a8\"], [0.3333333333333333, \"#9c179e\"], [0.4444444444444444, \"#bd3786\"], [0.5555555555555556, \"#d8576b\"], [0.6666666666666666, \"#ed7953\"], [0.7777777777777778, \"#fb9f3a\"], [0.8888888888888888, \"#fdca26\"], [1.0, \"#f0f921\"]], \"type\": \"heatmapgl\"}], \"histogram\": [{\"marker\": {\"colorbar\": {\"outlinewidth\": 0, \"ticks\": \"\"}}, \"type\": \"histogram\"}], \"histogram2d\": [{\"colorbar\": {\"outlinewidth\": 0, \"ticks\": \"\"}, \"colorscale\": [[0.0, \"#0d0887\"], [0.1111111111111111, \"#46039f\"], [0.2222222222222222, \"#7201a8\"], [0.3333333333333333, \"#9c179e\"], [0.4444444444444444, \"#bd3786\"], [0.5555555555555556, \"#d8576b\"], [0.6666666666666666, \"#ed7953\"], [0.7777777777777778, \"#fb9f3a\"], [0.8888888888888888, \"#fdca26\"], [1.0, \"#f0f921\"]], \"type\": \"histogram2d\"}], \"histogram2dcontour\": [{\"colorbar\": {\"outlinewidth\": 0, \"ticks\": \"\"}, \"colorscale\": [[0.0, \"#0d0887\"], [0.1111111111111111, \"#46039f\"], [0.2222222222222222, \"#7201a8\"], [0.3333333333333333, \"#9c179e\"], [0.4444444444444444, \"#bd3786\"], [0.5555555555555556, \"#d8576b\"], [0.6666666666666666, \"#ed7953\"], [0.7777777777777778, \"#fb9f3a\"], [0.8888888888888888, \"#fdca26\"], [1.0, \"#f0f921\"]], \"type\": \"histogram2dcontour\"}], \"mesh3d\": [{\"colorbar\": {\"outlinewidth\": 0, \"ticks\": \"\"}, \"type\": \"mesh3d\"}], \"parcoords\": [{\"line\": {\"colorbar\": {\"outlinewidth\": 0, \"ticks\": \"\"}}, \"type\": \"parcoords\"}], \"pie\": [{\"automargin\": true, \"type\": \"pie\"}], \"scatter\": [{\"marker\": {\"colorbar\": {\"outlinewidth\": 0, \"ticks\": \"\"}}, \"type\": \"scatter\"}], \"scatter3d\": [{\"line\": {\"colorbar\": {\"outlinewidth\": 0, \"ticks\": \"\"}}, \"marker\": {\"colorbar\": {\"outlinewidth\": 0, \"ticks\": \"\"}}, \"type\": \"scatter3d\"}], \"scattercarpet\": [{\"marker\": {\"colorbar\": {\"outlinewidth\": 0, \"ticks\": \"\"}}, \"type\": \"scattercarpet\"}], \"scattergeo\": [{\"marker\": {\"colorbar\": {\"outlinewidth\": 0, \"ticks\": \"\"}}, \"type\": \"scattergeo\"}], \"scattergl\": [{\"marker\": {\"colorbar\": {\"outlinewidth\": 0, \"ticks\": \"\"}}, \"type\": \"scattergl\"}], \"scattermapbox\": [{\"marker\": {\"colorbar\": {\"outlinewidth\": 0, \"ticks\": \"\"}}, \"type\": \"scattermapbox\"}], \"scatterpolar\": [{\"marker\": {\"colorbar\": {\"outlinewidth\": 0, \"ticks\": \"\"}}, \"type\": \"scatterpolar\"}], \"scatterpolargl\": [{\"marker\": {\"colorbar\": {\"outlinewidth\": 0, \"ticks\": \"\"}}, \"type\": \"scatterpolargl\"}], \"scatterternary\": [{\"marker\": {\"colorbar\": {\"outlinewidth\": 0, \"ticks\": \"\"}}, \"type\": \"scatterternary\"}], \"surface\": [{\"colorbar\": {\"outlinewidth\": 0, \"ticks\": \"\"}, \"colorscale\": [[0.0, \"#0d0887\"], [0.1111111111111111, \"#46039f\"], [0.2222222222222222, \"#7201a8\"], [0.3333333333333333, \"#9c179e\"], [0.4444444444444444, \"#bd3786\"], [0.5555555555555556, \"#d8576b\"], [0.6666666666666666, \"#ed7953\"], [0.7777777777777778, \"#fb9f3a\"], [0.8888888888888888, \"#fdca26\"], [1.0, \"#f0f921\"]], \"type\": \"surface\"}], \"table\": [{\"cells\": {\"fill\": {\"color\": \"#EBF0F8\"}, \"line\": {\"color\": \"white\"}}, \"header\": {\"fill\": {\"color\": \"#C8D4E3\"}, \"line\": {\"color\": \"white\"}}, \"type\": \"table\"}]}, \"layout\": {\"annotationdefaults\": {\"arrowcolor\": \"#2a3f5f\", \"arrowhead\": 0, \"arrowwidth\": 1}, \"coloraxis\": {\"colorbar\": {\"outlinewidth\": 0, \"ticks\": \"\"}}, \"colorscale\": {\"diverging\": [[0, \"#8e0152\"], [0.1, \"#c51b7d\"], [0.2, \"#de77ae\"], [0.3, \"#f1b6da\"], [0.4, \"#fde0ef\"], [0.5, \"#f7f7f7\"], [0.6, \"#e6f5d0\"], [0.7, \"#b8e186\"], [0.8, \"#7fbc41\"], [0.9, \"#4d9221\"], [1, \"#276419\"]], \"sequential\": [[0.0, \"#0d0887\"], [0.1111111111111111, \"#46039f\"], [0.2222222222222222, \"#7201a8\"], [0.3333333333333333, \"#9c179e\"], [0.4444444444444444, \"#bd3786\"], [0.5555555555555556, \"#d8576b\"], [0.6666666666666666, \"#ed7953\"], [0.7777777777777778, \"#fb9f3a\"], [0.8888888888888888, \"#fdca26\"], [1.0, \"#f0f921\"]], \"sequentialminus\": [[0.0, \"#0d0887\"], [0.1111111111111111, \"#46039f\"], [0.2222222222222222, \"#7201a8\"], [0.3333333333333333, \"#9c179e\"], [0.4444444444444444, \"#bd3786\"], [0.5555555555555556, \"#d8576b\"], [0.6666666666666666, \"#ed7953\"], [0.7777777777777778, \"#fb9f3a\"], [0.8888888888888888, \"#fdca26\"], [1.0, \"#f0f921\"]]}, \"colorway\": [\"#636efa\", \"#EF553B\", \"#00cc96\", \"#ab63fa\", \"#FFA15A\", \"#19d3f3\", \"#FF6692\", \"#B6E880\", \"#FF97FF\", \"#FECB52\"], \"font\": {\"color\": \"#2a3f5f\"}, \"geo\": {\"bgcolor\": \"white\", \"lakecolor\": \"white\", \"landcolor\": \"#E5ECF6\", \"showlakes\": true, \"showland\": true, \"subunitcolor\": \"white\"}, \"hoverlabel\": {\"align\": \"left\"}, \"hovermode\": \"closest\", \"mapbox\": {\"style\": \"light\"}, \"paper_bgcolor\": \"white\", \"plot_bgcolor\": \"#E5ECF6\", \"polar\": {\"angularaxis\": {\"gridcolor\": \"white\", \"linecolor\": \"white\", \"ticks\": \"\"}, \"bgcolor\": \"#E5ECF6\", \"radialaxis\": {\"gridcolor\": \"white\", \"linecolor\": \"white\", \"ticks\": \"\"}}, \"scene\": {\"xaxis\": {\"backgroundcolor\": \"#E5ECF6\", \"gridcolor\": \"white\", \"gridwidth\": 2, \"linecolor\": \"white\", \"showbackground\": true, \"ticks\": \"\", \"zerolinecolor\": \"white\"}, \"yaxis\": {\"backgroundcolor\": \"#E5ECF6\", \"gridcolor\": \"white\", \"gridwidth\": 2, \"linecolor\": \"white\", \"showbackground\": true, \"ticks\": \"\", \"zerolinecolor\": \"white\"}, \"zaxis\": {\"backgroundcolor\": \"#E5ECF6\", \"gridcolor\": \"white\", \"gridwidth\": 2, \"linecolor\": \"white\", \"showbackground\": true, \"ticks\": \"\", \"zerolinecolor\": \"white\"}}, \"shapedefaults\": {\"line\": {\"color\": \"#2a3f5f\"}}, \"ternary\": {\"aaxis\": {\"gridcolor\": \"white\", \"linecolor\": \"white\", \"ticks\": \"\"}, \"baxis\": {\"gridcolor\": \"white\", \"linecolor\": \"white\", \"ticks\": \"\"}, \"bgcolor\": \"#E5ECF6\", \"caxis\": {\"gridcolor\": \"white\", \"linecolor\": \"white\", \"ticks\": \"\"}}, \"title\": {\"x\": 0.05}, \"xaxis\": {\"automargin\": true, \"gridcolor\": \"white\", \"linecolor\": \"white\", \"ticks\": \"\", \"title\": {\"standoff\": 15}, \"zerolinecolor\": \"white\", \"zerolinewidth\": 2}, \"yaxis\": {\"automargin\": true, \"gridcolor\": \"white\", \"linecolor\": \"white\", \"ticks\": \"\", \"title\": {\"standoff\": 15}, \"zerolinecolor\": \"white\", \"zerolinewidth\": 2}}}, \"width\": 1200, \"xaxis\": {\"anchor\": \"y\", \"domain\": [0.0, 1.0], \"title\": {\"text\": \"brand\"}}, \"yaxis\": {\"anchor\": \"x\", \"domain\": [0.0, 1.0], \"title\": {\"text\": \"times_sold\"}}},\n",
              "                        {\"responsive\": true}\n",
              "                    ).then(function(){\n",
              "                            \n",
              "var gd = document.getElementById('3a41f234-6bb8-48ff-a97e-c120edba4833');\n",
              "var x = new MutationObserver(function (mutations, observer) {{\n",
              "        var display = window.getComputedStyle(gd).display;\n",
              "        if (!display || display === 'none') {{\n",
              "            console.log([gd, 'removed!']);\n",
              "            Plotly.purge(gd);\n",
              "            observer.disconnect();\n",
              "        }}\n",
              "}});\n",
              "\n",
              "// Listen for the removal of the full notebook cells\n",
              "var notebookContainer = gd.closest('#notebook-container');\n",
              "if (notebookContainer) {{\n",
              "    x.observe(notebookContainer, {childList: true});\n",
              "}}\n",
              "\n",
              "// Listen for the clearing of the current output cell\n",
              "var outputEl = gd.closest('.output');\n",
              "if (outputEl) {{\n",
              "    x.observe(outputEl, {childList: true});\n",
              "}}\n",
              "\n",
              "                        })\n",
              "                };\n",
              "                \n",
              "            </script>\n",
              "        </div>\n",
              "</body>\n",
              "</html>"
            ]
          },
          "metadata": {
            "tags": []
          }
        }
      ]
    },
    {
      "cell_type": "markdown",
      "metadata": {
        "id": "et870oblAZPX"
      },
      "source": [
        "# Preprocessing"
      ]
    },
    {
      "cell_type": "code",
      "metadata": {
        "colab": {
          "base_uri": "https://localhost:8080/"
        },
        "id": "dGSI34oCgzXv",
        "outputId": "d43af2a2-fc5f-4d97-c8e0-23a57a98642d"
      },
      "source": [
        "# oставляем только тех пользователей, которые произамодействовали более чем с пятью статьями.\n",
        "users_interactions_count_df = (\n",
        "    df\n",
        "    .groupby(['user_id', 'product_id'])\n",
        "    .first()\n",
        "    .reset_index()\n",
        "    .groupby('user_id').size())\n",
        "print('# users:', len(users_interactions_count_df))\n",
        "\n",
        "users_with_enough_interactions_df = \\\n",
        "    users_interactions_count_df[users_interactions_count_df >= 5].reset_index()[['user_id']]\n",
        "print('# users with at least 5 interactions:',len(users_with_enough_interactions_df))"
      ],
      "execution_count": 14,
      "outputs": [
        {
          "output_type": "stream",
          "text": [
            "# users: 98262\n",
            "# users with at least 5 interactions: 17704\n"
          ],
          "name": "stdout"
        }
      ]
    },
    {
      "cell_type": "code",
      "metadata": {
        "id": "8Yle4Bndhgk6"
      },
      "source": [
        "# oставляем только те взаимодействия, которые относятся к отфильтрованным пользователям.\n",
        "interactions_from_selected_users_df = df.loc[np.in1d(df.user_id,\n",
        "            users_with_enough_interactions_df)]"
      ],
      "execution_count": 15,
      "outputs": []
    },
    {
      "cell_type": "code",
      "metadata": {
        "colab": {
          "base_uri": "https://localhost:8080/",
          "height": 402
        },
        "id": "UolSjQ_cVl1Z",
        "outputId": "75512dfa-02e2-4188-b868-1c529ae03797"
      },
      "source": [
        "interactions_from_selected_users_df"
      ],
      "execution_count": 16,
      "outputs": [
        {
          "output_type": "execute_result",
          "data": {
            "text/html": [
              "<div>\n",
              "<style scoped>\n",
              "    .dataframe tbody tr th:only-of-type {\n",
              "        vertical-align: middle;\n",
              "    }\n",
              "\n",
              "    .dataframe tbody tr th {\n",
              "        vertical-align: top;\n",
              "    }\n",
              "\n",
              "    .dataframe thead th {\n",
              "        text-align: right;\n",
              "    }\n",
              "</style>\n",
              "<table border=\"1\" class=\"dataframe\">\n",
              "  <thead>\n",
              "    <tr style=\"text-align: right;\">\n",
              "      <th></th>\n",
              "      <th>event_time</th>\n",
              "      <th>order_id</th>\n",
              "      <th>product_id</th>\n",
              "      <th>category_id</th>\n",
              "      <th>category_code</th>\n",
              "      <th>brand</th>\n",
              "      <th>price</th>\n",
              "      <th>user_id</th>\n",
              "    </tr>\n",
              "  </thead>\n",
              "  <tbody>\n",
              "    <tr>\n",
              "      <th>4</th>\n",
              "      <td>2020-04-24 19:16:21 UTC</td>\n",
              "      <td>2294584263154074236</td>\n",
              "      <td>2273948316817424439</td>\n",
              "      <td>2.268105e+18</td>\n",
              "      <td>NaN</td>\n",
              "      <td>karcher</td>\n",
              "      <td>217.57</td>\n",
              "      <td>1.515916e+18</td>\n",
              "    </tr>\n",
              "    <tr>\n",
              "      <th>5</th>\n",
              "      <td>2020-04-26 08:45:57 UTC</td>\n",
              "      <td>2295716521449619559</td>\n",
              "      <td>1515966223509261697</td>\n",
              "      <td>2.268105e+18</td>\n",
              "      <td>furniture.kitchen.table</td>\n",
              "      <td>maestro</td>\n",
              "      <td>39.33</td>\n",
              "      <td>1.515916e+18</td>\n",
              "    </tr>\n",
              "    <tr>\n",
              "      <th>6</th>\n",
              "      <td>2020-04-26 09:33:47 UTC</td>\n",
              "      <td>2295740594749702229</td>\n",
              "      <td>1515966223509104892</td>\n",
              "      <td>2.268105e+18</td>\n",
              "      <td>electronics.smartphone</td>\n",
              "      <td>apple</td>\n",
              "      <td>1387.01</td>\n",
              "      <td>1.515916e+18</td>\n",
              "    </tr>\n",
              "    <tr>\n",
              "      <th>7</th>\n",
              "      <td>2020-04-26 09:33:47 UTC</td>\n",
              "      <td>2295740594749702229</td>\n",
              "      <td>1515966223509104892</td>\n",
              "      <td>2.268105e+18</td>\n",
              "      <td>electronics.smartphone</td>\n",
              "      <td>apple</td>\n",
              "      <td>1387.01</td>\n",
              "      <td>1.515916e+18</td>\n",
              "    </tr>\n",
              "    <tr>\n",
              "      <th>8</th>\n",
              "      <td>2020-04-26 09:33:47 UTC</td>\n",
              "      <td>2295740594749702229</td>\n",
              "      <td>1515966223509104892</td>\n",
              "      <td>2.268105e+18</td>\n",
              "      <td>electronics.smartphone</td>\n",
              "      <td>apple</td>\n",
              "      <td>1387.01</td>\n",
              "      <td>1.515916e+18</td>\n",
              "    </tr>\n",
              "    <tr>\n",
              "      <th>...</th>\n",
              "      <td>...</td>\n",
              "      <td>...</td>\n",
              "      <td>...</td>\n",
              "      <td>...</td>\n",
              "      <td>...</td>\n",
              "      <td>...</td>\n",
              "      <td>...</td>\n",
              "      <td>...</td>\n",
              "    </tr>\n",
              "    <tr>\n",
              "      <th>2633504</th>\n",
              "      <td>2020-11-21 09:59:55 UTC</td>\n",
              "      <td>2388440981134693931</td>\n",
              "      <td>2388434452473986696</td>\n",
              "      <td>2.268105e+18</td>\n",
              "      <td>appliances.environment.air_heater</td>\n",
              "      <td>ava</td>\n",
              "      <td>43.96</td>\n",
              "      <td>1.515916e+18</td>\n",
              "    </tr>\n",
              "    <tr>\n",
              "      <th>2633508</th>\n",
              "      <td>2020-11-21 10:02:06 UTC</td>\n",
              "      <td>2388440981134693935</td>\n",
              "      <td>2273948303068496095</td>\n",
              "      <td>2.268105e+18</td>\n",
              "      <td>electronics.smartphone</td>\n",
              "      <td>huawei</td>\n",
              "      <td>185.16</td>\n",
              "      <td>1.515916e+18</td>\n",
              "    </tr>\n",
              "    <tr>\n",
              "      <th>2633512</th>\n",
              "      <td>2020-11-21 10:06:01 UTC</td>\n",
              "      <td>2388440981134693939</td>\n",
              "      <td>1515966223509090132</td>\n",
              "      <td>2.268105e+18</td>\n",
              "      <td>computers.peripherals.printer</td>\n",
              "      <td>canon</td>\n",
              "      <td>299.98</td>\n",
              "      <td>1.515916e+18</td>\n",
              "    </tr>\n",
              "    <tr>\n",
              "      <th>2633514</th>\n",
              "      <td>2020-11-21 10:08:54 UTC</td>\n",
              "      <td>2388440981134693941</td>\n",
              "      <td>1515966223519279912</td>\n",
              "      <td>2.374499e+18</td>\n",
              "      <td>electronics.video.tv</td>\n",
              "      <td>samsung</td>\n",
              "      <td>1736.09</td>\n",
              "      <td>1.515916e+18</td>\n",
              "    </tr>\n",
              "    <tr>\n",
              "      <th>2633515</th>\n",
              "      <td>2020-11-21 10:08:54 UTC</td>\n",
              "      <td>2388440981134693941</td>\n",
              "      <td>1515966223509088622</td>\n",
              "      <td>2.374499e+18</td>\n",
              "      <td>electronics.video.tv</td>\n",
              "      <td>lg</td>\n",
              "      <td>370.35</td>\n",
              "      <td>1.515916e+18</td>\n",
              "    </tr>\n",
              "  </tbody>\n",
              "</table>\n",
              "<p>392999 rows × 8 columns</p>\n",
              "</div>"
            ],
            "text/plain": [
              "                      event_time             order_id  ...    price       user_id\n",
              "4        2020-04-24 19:16:21 UTC  2294584263154074236  ...   217.57  1.515916e+18\n",
              "5        2020-04-26 08:45:57 UTC  2295716521449619559  ...    39.33  1.515916e+18\n",
              "6        2020-04-26 09:33:47 UTC  2295740594749702229  ...  1387.01  1.515916e+18\n",
              "7        2020-04-26 09:33:47 UTC  2295740594749702229  ...  1387.01  1.515916e+18\n",
              "8        2020-04-26 09:33:47 UTC  2295740594749702229  ...  1387.01  1.515916e+18\n",
              "...                          ...                  ...  ...      ...           ...\n",
              "2633504  2020-11-21 09:59:55 UTC  2388440981134693931  ...    43.96  1.515916e+18\n",
              "2633508  2020-11-21 10:02:06 UTC  2388440981134693935  ...   185.16  1.515916e+18\n",
              "2633512  2020-11-21 10:06:01 UTC  2388440981134693939  ...   299.98  1.515916e+18\n",
              "2633514  2020-11-21 10:08:54 UTC  2388440981134693941  ...  1736.09  1.515916e+18\n",
              "2633515  2020-11-21 10:08:54 UTC  2388440981134693941  ...   370.35  1.515916e+18\n",
              "\n",
              "[392999 rows x 8 columns]"
            ]
          },
          "metadata": {
            "tags": []
          },
          "execution_count": 16
        }
      ]
    },
    {
      "cell_type": "code",
      "metadata": {
        "colab": {
          "base_uri": "https://localhost:8080/",
          "height": 195
        },
        "id": "K-SJSOQv1aSz",
        "outputId": "d5bed0d6-ee99-4397-ec7f-e89290968739"
      },
      "source": [
        "# oбъединяем все взаимодействия пользователя по каждому товару в одно\n",
        "def smooth_user_preference(x):\n",
        "    return math.log(1+x, 2)\n",
        "    \n",
        "interactions_full_df = (\n",
        "    interactions_from_selected_users_df\n",
        "    .groupby(['user_id', 'product_id']).sum()\n",
        "    .reset_index().set_index(['user_id', 'product_id'])\n",
        ")\n",
        "interactions_full_df['last_timestep'] = (\n",
        "    interactions_from_selected_users_df\n",
        "    .groupby(['user_id', 'product_id'])['event_time'].last()\n",
        ")\n",
        "        \n",
        "interactions_full_df = interactions_full_df.reset_index()\n",
        "interactions_full_df.head(5)"
      ],
      "execution_count": 17,
      "outputs": [
        {
          "output_type": "execute_result",
          "data": {
            "text/html": [
              "<div>\n",
              "<style scoped>\n",
              "    .dataframe tbody tr th:only-of-type {\n",
              "        vertical-align: middle;\n",
              "    }\n",
              "\n",
              "    .dataframe tbody tr th {\n",
              "        vertical-align: top;\n",
              "    }\n",
              "\n",
              "    .dataframe thead th {\n",
              "        text-align: right;\n",
              "    }\n",
              "</style>\n",
              "<table border=\"1\" class=\"dataframe\">\n",
              "  <thead>\n",
              "    <tr style=\"text-align: right;\">\n",
              "      <th></th>\n",
              "      <th>user_id</th>\n",
              "      <th>product_id</th>\n",
              "      <th>order_id</th>\n",
              "      <th>category_id</th>\n",
              "      <th>price</th>\n",
              "      <th>last_timestep</th>\n",
              "    </tr>\n",
              "  </thead>\n",
              "  <tbody>\n",
              "    <tr>\n",
              "      <th>0</th>\n",
              "      <td>1.515916e+18</td>\n",
              "      <td>1515966223509104210</td>\n",
              "      <td>2.388441e+18</td>\n",
              "      <td>2.374499e+18</td>\n",
              "      <td>115.72</td>\n",
              "      <td>2020-10-23 03:51:26 UTC</td>\n",
              "    </tr>\n",
              "    <tr>\n",
              "      <th>1</th>\n",
              "      <td>1.515916e+18</td>\n",
              "      <td>1515966223509122863</td>\n",
              "      <td>2.388441e+18</td>\n",
              "      <td>2.268105e+18</td>\n",
              "      <td>1504.61</td>\n",
              "      <td>2020-11-16 15:49:50 UTC</td>\n",
              "    </tr>\n",
              "    <tr>\n",
              "      <th>2</th>\n",
              "      <td>1.515916e+18</td>\n",
              "      <td>1515966223522710798</td>\n",
              "      <td>2.388441e+18</td>\n",
              "      <td>2.268105e+18</td>\n",
              "      <td>138.87</td>\n",
              "      <td>2020-11-16 15:49:50 UTC</td>\n",
              "    </tr>\n",
              "    <tr>\n",
              "      <th>3</th>\n",
              "      <td>1.515916e+18</td>\n",
              "      <td>2273948310777627555</td>\n",
              "      <td>2.388441e+18</td>\n",
              "      <td>2.268105e+18</td>\n",
              "      <td>335.63</td>\n",
              "      <td>2020-11-16 15:49:50 UTC</td>\n",
              "    </tr>\n",
              "    <tr>\n",
              "      <th>4</th>\n",
              "      <td>1.515916e+18</td>\n",
              "      <td>2309018185069757002</td>\n",
              "      <td>2.388441e+18</td>\n",
              "      <td>2.268105e+18</td>\n",
              "      <td>40.81</td>\n",
              "      <td>2020-10-21 12:23:18 UTC</td>\n",
              "    </tr>\n",
              "  </tbody>\n",
              "</table>\n",
              "</div>"
            ],
            "text/plain": [
              "        user_id           product_id  ...    price            last_timestep\n",
              "0  1.515916e+18  1515966223509104210  ...   115.72  2020-10-23 03:51:26 UTC\n",
              "1  1.515916e+18  1515966223509122863  ...  1504.61  2020-11-16 15:49:50 UTC\n",
              "2  1.515916e+18  1515966223522710798  ...   138.87  2020-11-16 15:49:50 UTC\n",
              "3  1.515916e+18  2273948310777627555  ...   335.63  2020-11-16 15:49:50 UTC\n",
              "4  1.515916e+18  2309018185069757002  ...    40.81  2020-10-21 12:23:18 UTC\n",
              "\n",
              "[5 rows x 6 columns]"
            ]
          },
          "metadata": {
            "tags": []
          },
          "execution_count": 17
        }
      ]
    },
    {
      "cell_type": "code",
      "metadata": {
        "colab": {
          "base_uri": "https://localhost:8080/"
        },
        "id": "ZRAuuryd37Zt",
        "outputId": "47daab87-00aa-4587-fdc3-a41161b41c2f"
      },
      "source": [
        "interactions_full_df.shape"
      ],
      "execution_count": 18,
      "outputs": [
        {
          "output_type": "execute_result",
          "data": {
            "text/plain": [
              "(334725, 6)"
            ]
          },
          "metadata": {
            "tags": []
          },
          "execution_count": 18
        }
      ]
    },
    {
      "cell_type": "code",
      "metadata": {
        "id": "T2zAOda59XJ1"
      },
      "source": [
        "# перевел в формат datetime и отсортировал\n",
        "interactions_full_df['last_timestep'] = interactions_full_df['last_timestep'].apply(lambda x:datetime.timestamp(datetime.strptime(x, '%Y-%m-%d %H:%M:%S %Z')))\n",
        "interactions_full_df = interactions_full_df.sort_values('last_timestep').reset_index(drop=True)"
      ],
      "execution_count": 19,
      "outputs": []
    },
    {
      "cell_type": "code",
      "metadata": {
        "colab": {
          "base_uri": "https://localhost:8080/",
          "height": 402
        },
        "id": "wuVJqbKbCE2g",
        "outputId": "40389003-02c7-4f43-ce0d-faf23af80367"
      },
      "source": [
        "interactions_full_df"
      ],
      "execution_count": 20,
      "outputs": [
        {
          "output_type": "execute_result",
          "data": {
            "text/html": [
              "<div>\n",
              "<style scoped>\n",
              "    .dataframe tbody tr th:only-of-type {\n",
              "        vertical-align: middle;\n",
              "    }\n",
              "\n",
              "    .dataframe tbody tr th {\n",
              "        vertical-align: top;\n",
              "    }\n",
              "\n",
              "    .dataframe thead th {\n",
              "        text-align: right;\n",
              "    }\n",
              "</style>\n",
              "<table border=\"1\" class=\"dataframe\">\n",
              "  <thead>\n",
              "    <tr style=\"text-align: right;\">\n",
              "      <th></th>\n",
              "      <th>user_id</th>\n",
              "      <th>product_id</th>\n",
              "      <th>order_id</th>\n",
              "      <th>category_id</th>\n",
              "      <th>price</th>\n",
              "      <th>last_timestep</th>\n",
              "    </tr>\n",
              "  </thead>\n",
              "  <tbody>\n",
              "    <tr>\n",
              "      <th>0</th>\n",
              "      <td>1.515916e+18</td>\n",
              "      <td>1515966223509090236</td>\n",
              "      <td>2.340103e+18</td>\n",
              "      <td>2.268105e+18</td>\n",
              "      <td>18.50</td>\n",
              "      <td>2.020000e+03</td>\n",
              "    </tr>\n",
              "    <tr>\n",
              "      <th>1</th>\n",
              "      <td>1.515916e+18</td>\n",
              "      <td>2273948186349404174</td>\n",
              "      <td>2.348533e+18</td>\n",
              "      <td>2.268105e+18</td>\n",
              "      <td>30.07</td>\n",
              "      <td>2.020000e+03</td>\n",
              "    </tr>\n",
              "    <tr>\n",
              "      <th>2</th>\n",
              "      <td>1.515916e+18</td>\n",
              "      <td>2273948180989083750</td>\n",
              "      <td>2.348533e+18</td>\n",
              "      <td>2.268105e+18</td>\n",
              "      <td>7.38</td>\n",
              "      <td>2.020000e+03</td>\n",
              "    </tr>\n",
              "    <tr>\n",
              "      <th>3</th>\n",
              "      <td>1.515916e+18</td>\n",
              "      <td>1515966223510673543</td>\n",
              "      <td>2.348533e+18</td>\n",
              "      <td>2.268105e+18</td>\n",
              "      <td>43.96</td>\n",
              "      <td>2.020000e+03</td>\n",
              "    </tr>\n",
              "    <tr>\n",
              "      <th>4</th>\n",
              "      <td>1.515916e+18</td>\n",
              "      <td>1515966223510225741</td>\n",
              "      <td>2.348533e+18</td>\n",
              "      <td>2.268105e+18</td>\n",
              "      <td>4.61</td>\n",
              "      <td>2.020000e+03</td>\n",
              "    </tr>\n",
              "    <tr>\n",
              "      <th>...</th>\n",
              "      <td>...</td>\n",
              "      <td>...</td>\n",
              "      <td>...</td>\n",
              "      <td>...</td>\n",
              "      <td>...</td>\n",
              "      <td>...</td>\n",
              "    </tr>\n",
              "    <tr>\n",
              "      <th>334720</th>\n",
              "      <td>1.515916e+18</td>\n",
              "      <td>2388434452473986696</td>\n",
              "      <td>2.388441e+18</td>\n",
              "      <td>2.268105e+18</td>\n",
              "      <td>43.96</td>\n",
              "      <td>1.605953e+09</td>\n",
              "    </tr>\n",
              "    <tr>\n",
              "      <th>334721</th>\n",
              "      <td>1.515916e+18</td>\n",
              "      <td>2273948303068496095</td>\n",
              "      <td>4.776882e+18</td>\n",
              "      <td>4.536211e+18</td>\n",
              "      <td>370.32</td>\n",
              "      <td>1.605953e+09</td>\n",
              "    </tr>\n",
              "    <tr>\n",
              "      <th>334722</th>\n",
              "      <td>1.515916e+18</td>\n",
              "      <td>1515966223509090132</td>\n",
              "      <td>2.388441e+18</td>\n",
              "      <td>2.268105e+18</td>\n",
              "      <td>299.98</td>\n",
              "      <td>1.605953e+09</td>\n",
              "    </tr>\n",
              "    <tr>\n",
              "      <th>334723</th>\n",
              "      <td>1.515916e+18</td>\n",
              "      <td>1515966223519279912</td>\n",
              "      <td>2.388441e+18</td>\n",
              "      <td>2.374499e+18</td>\n",
              "      <td>1736.09</td>\n",
              "      <td>1.605953e+09</td>\n",
              "    </tr>\n",
              "    <tr>\n",
              "      <th>334724</th>\n",
              "      <td>1.515916e+18</td>\n",
              "      <td>1515966223509088622</td>\n",
              "      <td>2.388441e+18</td>\n",
              "      <td>2.374499e+18</td>\n",
              "      <td>370.35</td>\n",
              "      <td>1.605953e+09</td>\n",
              "    </tr>\n",
              "  </tbody>\n",
              "</table>\n",
              "<p>334725 rows × 6 columns</p>\n",
              "</div>"
            ],
            "text/plain": [
              "             user_id           product_id  ...    price  last_timestep\n",
              "0       1.515916e+18  1515966223509090236  ...    18.50   2.020000e+03\n",
              "1       1.515916e+18  2273948186349404174  ...    30.07   2.020000e+03\n",
              "2       1.515916e+18  2273948180989083750  ...     7.38   2.020000e+03\n",
              "3       1.515916e+18  1515966223510673543  ...    43.96   2.020000e+03\n",
              "4       1.515916e+18  1515966223510225741  ...     4.61   2.020000e+03\n",
              "...              ...                  ...  ...      ...            ...\n",
              "334720  1.515916e+18  2388434452473986696  ...    43.96   1.605953e+09\n",
              "334721  1.515916e+18  2273948303068496095  ...   370.32   1.605953e+09\n",
              "334722  1.515916e+18  1515966223509090132  ...   299.98   1.605953e+09\n",
              "334723  1.515916e+18  1515966223519279912  ...  1736.09   1.605953e+09\n",
              "334724  1.515916e+18  1515966223509088622  ...   370.35   1.605953e+09\n",
              "\n",
              "[334725 rows x 6 columns]"
            ]
          },
          "metadata": {
            "tags": []
          },
          "execution_count": 20
        }
      ]
    },
    {
      "cell_type": "code",
      "metadata": {
        "colab": {
          "base_uri": "https://localhost:8080/",
          "height": 435
        },
        "id": "IqqfXANP4T1j",
        "outputId": "4a1852ec-ec57-473d-dfca-65abf997f6a8"
      },
      "source": [
        "# pазобьём выборку на обучение и контроль по времени в соотношении 75/25\n",
        "split_ts = int(interactions_full_df.iloc[int(interactions_full_df.shape[0]*0.75)]['last_timestep'])\n",
        "interactions_train_df = interactions_full_df.loc[interactions_full_df.last_timestep < split_ts].copy()\n",
        "interactions_test_df = interactions_full_df.loc[interactions_full_df.last_timestep >= split_ts].copy()\n",
        "\n",
        "print('# interactions on Train set: %d' % len(interactions_train_df))\n",
        "print('# interactions on Test set: %d' % len(interactions_test_df))\n",
        "\n",
        "interactions_train_df"
      ],
      "execution_count": 21,
      "outputs": [
        {
          "output_type": "stream",
          "text": [
            "# interactions on Train set: 251042\n",
            "# interactions on Test set: 83683\n"
          ],
          "name": "stdout"
        },
        {
          "output_type": "execute_result",
          "data": {
            "text/html": [
              "<div>\n",
              "<style scoped>\n",
              "    .dataframe tbody tr th:only-of-type {\n",
              "        vertical-align: middle;\n",
              "    }\n",
              "\n",
              "    .dataframe tbody tr th {\n",
              "        vertical-align: top;\n",
              "    }\n",
              "\n",
              "    .dataframe thead th {\n",
              "        text-align: right;\n",
              "    }\n",
              "</style>\n",
              "<table border=\"1\" class=\"dataframe\">\n",
              "  <thead>\n",
              "    <tr style=\"text-align: right;\">\n",
              "      <th></th>\n",
              "      <th>user_id</th>\n",
              "      <th>product_id</th>\n",
              "      <th>order_id</th>\n",
              "      <th>category_id</th>\n",
              "      <th>price</th>\n",
              "      <th>last_timestep</th>\n",
              "    </tr>\n",
              "  </thead>\n",
              "  <tbody>\n",
              "    <tr>\n",
              "      <th>0</th>\n",
              "      <td>1.515916e+18</td>\n",
              "      <td>1515966223509090236</td>\n",
              "      <td>2.340103e+18</td>\n",
              "      <td>2.268105e+18</td>\n",
              "      <td>18.50</td>\n",
              "      <td>2.020000e+03</td>\n",
              "    </tr>\n",
              "    <tr>\n",
              "      <th>1</th>\n",
              "      <td>1.515916e+18</td>\n",
              "      <td>2273948186349404174</td>\n",
              "      <td>2.348533e+18</td>\n",
              "      <td>2.268105e+18</td>\n",
              "      <td>30.07</td>\n",
              "      <td>2.020000e+03</td>\n",
              "    </tr>\n",
              "    <tr>\n",
              "      <th>2</th>\n",
              "      <td>1.515916e+18</td>\n",
              "      <td>2273948180989083750</td>\n",
              "      <td>2.348533e+18</td>\n",
              "      <td>2.268105e+18</td>\n",
              "      <td>7.38</td>\n",
              "      <td>2.020000e+03</td>\n",
              "    </tr>\n",
              "    <tr>\n",
              "      <th>3</th>\n",
              "      <td>1.515916e+18</td>\n",
              "      <td>1515966223510673543</td>\n",
              "      <td>2.348533e+18</td>\n",
              "      <td>2.268105e+18</td>\n",
              "      <td>43.96</td>\n",
              "      <td>2.020000e+03</td>\n",
              "    </tr>\n",
              "    <tr>\n",
              "      <th>4</th>\n",
              "      <td>1.515916e+18</td>\n",
              "      <td>1515966223510225741</td>\n",
              "      <td>2.348533e+18</td>\n",
              "      <td>2.268105e+18</td>\n",
              "      <td>4.61</td>\n",
              "      <td>2.020000e+03</td>\n",
              "    </tr>\n",
              "    <tr>\n",
              "      <th>...</th>\n",
              "      <td>...</td>\n",
              "      <td>...</td>\n",
              "      <td>...</td>\n",
              "      <td>...</td>\n",
              "      <td>...</td>\n",
              "      <td>...</td>\n",
              "    </tr>\n",
              "    <tr>\n",
              "      <th>251037</th>\n",
              "      <td>1.515916e+18</td>\n",
              "      <td>2273948219627012463</td>\n",
              "      <td>2.388441e+18</td>\n",
              "      <td>2.268105e+18</td>\n",
              "      <td>42.80</td>\n",
              "      <td>1.602936e+09</td>\n",
              "    </tr>\n",
              "    <tr>\n",
              "      <th>251038</th>\n",
              "      <td>1.515916e+18</td>\n",
              "      <td>2273948226161738588</td>\n",
              "      <td>7.165323e+18</td>\n",
              "      <td>6.804316e+18</td>\n",
              "      <td>4.11</td>\n",
              "      <td>1.602936e+09</td>\n",
              "    </tr>\n",
              "    <tr>\n",
              "      <th>251039</th>\n",
              "      <td>1.515916e+18</td>\n",
              "      <td>1515966223509353956</td>\n",
              "      <td>2.388441e+18</td>\n",
              "      <td>2.268105e+18</td>\n",
              "      <td>6.69</td>\n",
              "      <td>1.602936e+09</td>\n",
              "    </tr>\n",
              "    <tr>\n",
              "      <th>251040</th>\n",
              "      <td>1.515916e+18</td>\n",
              "      <td>1515966223509257795</td>\n",
              "      <td>2.388441e+18</td>\n",
              "      <td>2.268105e+18</td>\n",
              "      <td>462.94</td>\n",
              "      <td>1.602936e+09</td>\n",
              "    </tr>\n",
              "    <tr>\n",
              "      <th>251041</th>\n",
              "      <td>1.515916e+18</td>\n",
              "      <td>1515966223509105290</td>\n",
              "      <td>2.388441e+18</td>\n",
              "      <td>2.268105e+18</td>\n",
              "      <td>67.11</td>\n",
              "      <td>1.602936e+09</td>\n",
              "    </tr>\n",
              "  </tbody>\n",
              "</table>\n",
              "<p>251042 rows × 6 columns</p>\n",
              "</div>"
            ],
            "text/plain": [
              "             user_id           product_id  ...   price  last_timestep\n",
              "0       1.515916e+18  1515966223509090236  ...   18.50   2.020000e+03\n",
              "1       1.515916e+18  2273948186349404174  ...   30.07   2.020000e+03\n",
              "2       1.515916e+18  2273948180989083750  ...    7.38   2.020000e+03\n",
              "3       1.515916e+18  1515966223510673543  ...   43.96   2.020000e+03\n",
              "4       1.515916e+18  1515966223510225741  ...    4.61   2.020000e+03\n",
              "...              ...                  ...  ...     ...            ...\n",
              "251037  1.515916e+18  2273948219627012463  ...   42.80   1.602936e+09\n",
              "251038  1.515916e+18  2273948226161738588  ...    4.11   1.602936e+09\n",
              "251039  1.515916e+18  1515966223509353956  ...    6.69   1.602936e+09\n",
              "251040  1.515916e+18  1515966223509257795  ...  462.94   1.602936e+09\n",
              "251041  1.515916e+18  1515966223509105290  ...   67.11   1.602936e+09\n",
              "\n",
              "[251042 rows x 6 columns]"
            ]
          },
          "metadata": {
            "tags": []
          },
          "execution_count": 21
        }
      ]
    },
    {
      "cell_type": "code",
      "metadata": {
        "colab": {
          "base_uri": "https://localhost:8080/"
        },
        "id": "wHWAI4mQxpAS",
        "outputId": "c4895c4b-37c5-46ce-f028-a0d45321bc5b"
      },
      "source": [
        "interactions_full_df.iloc[251041]"
      ],
      "execution_count": 22,
      "outputs": [
        {
          "output_type": "execute_result",
          "data": {
            "text/plain": [
              "user_id          1.515916e+18\n",
              "product_id       1.515966e+18\n",
              "order_id         2.388441e+18\n",
              "category_id      2.268105e+18\n",
              "price            6.711000e+01\n",
              "last_timestep    1.602936e+09\n",
              "Name: 251041, dtype: float64"
            ]
          },
          "metadata": {
            "tags": []
          },
          "execution_count": 22
        }
      ]
    },
    {
      "cell_type": "code",
      "metadata": {
        "colab": {
          "base_uri": "https://localhost:8080/",
          "height": 106
        },
        "id": "MYrJIitZAwgX",
        "outputId": "29c4f87f-32a1-49c5-f710-4072e7b93778"
      },
      "source": [
        "interactions = (\n",
        "    interactions_train_df\n",
        "    .groupby('user_id')['product_id'].agg(lambda x: list(x))\n",
        "    .reset_index()\n",
        "    .rename(columns={'product_id': 'true_train'})\n",
        "    .set_index('user_id')\n",
        ")\n",
        "\n",
        "interactions['true_test'] = (\n",
        "    interactions_test_df\n",
        "    .groupby('user_id')['product_id'].agg(lambda x: list(x))\n",
        ")\n",
        "\n",
        "# заполнение пропусков пустыми списками\n",
        "interactions.loc[pd.isnull(interactions.true_test), 'true_test'] = [\n",
        "    list() for x in range(len(interactions.loc[pd.isnull(interactions.true_test), 'true_test']))]\n",
        "\n",
        "interactions.head(1)"
      ],
      "execution_count": 13,
      "outputs": [
        {
          "output_type": "execute_result",
          "data": {
            "text/html": [
              "<div>\n",
              "<style scoped>\n",
              "    .dataframe tbody tr th:only-of-type {\n",
              "        vertical-align: middle;\n",
              "    }\n",
              "\n",
              "    .dataframe tbody tr th {\n",
              "        vertical-align: top;\n",
              "    }\n",
              "\n",
              "    .dataframe thead th {\n",
              "        text-align: right;\n",
              "    }\n",
              "</style>\n",
              "<table border=\"1\" class=\"dataframe\">\n",
              "  <thead>\n",
              "    <tr style=\"text-align: right;\">\n",
              "      <th></th>\n",
              "      <th>true_train</th>\n",
              "      <th>true_test</th>\n",
              "    </tr>\n",
              "    <tr>\n",
              "      <th>user_id</th>\n",
              "      <th></th>\n",
              "      <th></th>\n",
              "    </tr>\n",
              "  </thead>\n",
              "  <tbody>\n",
              "    <tr>\n",
              "      <th>1.515916e+18</th>\n",
              "      <td>[1515966223509352229, 1515966223509089059, 151...</td>\n",
              "      <td>[1515966223509104974, 2309018188450366314, 227...</td>\n",
              "    </tr>\n",
              "  </tbody>\n",
              "</table>\n",
              "</div>"
            ],
            "text/plain": [
              "                                                     true_train                                          true_test\n",
              "user_id                                                                                                           \n",
              "1.515916e+18  [1515966223509352229, 1515966223509089059, 151...  [1515966223509104974, 2309018188450366314, 227..."
            ]
          },
          "metadata": {
            "tags": []
          },
          "execution_count": 13
        }
      ]
    },
    {
      "cell_type": "code",
      "metadata": {
        "colab": {
          "base_uri": "https://localhost:8080/"
        },
        "id": "ygnPXYhIzlPj",
        "outputId": "33d70326-3e0d-4d62-ad6e-82b72be14594"
      },
      "source": [
        "interactions_full_df.groupby('product_id').count().sort_values('order_id').iloc[-1]"
      ],
      "execution_count": 14,
      "outputs": [
        {
          "output_type": "execute_result",
          "data": {
            "text/plain": [
              "user_id          943\n",
              "order_id         943\n",
              "category_id      943\n",
              "price            943\n",
              "last_timestep    943\n",
              "Name: 1515966223509088613, dtype: int64"
            ]
          },
          "metadata": {
            "tags": []
          },
          "execution_count": 14
        }
      ]
    },
    {
      "cell_type": "code",
      "metadata": {
        "colab": {
          "base_uri": "https://localhost:8080/",
          "height": 402
        },
        "id": "2LBAfZ9r0ZJs",
        "outputId": "35cd5ae5-b8c2-4722-c365-24b60bcaab7d"
      },
      "source": [
        "df[df.product_id==1515966223509088613] #наиболее популярный товар"
      ],
      "execution_count": 15,
      "outputs": [
        {
          "output_type": "execute_result",
          "data": {
            "text/html": [
              "<div>\n",
              "<style scoped>\n",
              "    .dataframe tbody tr th:only-of-type {\n",
              "        vertical-align: middle;\n",
              "    }\n",
              "\n",
              "    .dataframe tbody tr th {\n",
              "        vertical-align: top;\n",
              "    }\n",
              "\n",
              "    .dataframe thead th {\n",
              "        text-align: right;\n",
              "    }\n",
              "</style>\n",
              "<table border=\"1\" class=\"dataframe\">\n",
              "  <thead>\n",
              "    <tr style=\"text-align: right;\">\n",
              "      <th></th>\n",
              "      <th>event_time</th>\n",
              "      <th>order_id</th>\n",
              "      <th>product_id</th>\n",
              "      <th>category_id</th>\n",
              "      <th>category_code</th>\n",
              "      <th>brand</th>\n",
              "      <th>price</th>\n",
              "      <th>user_id</th>\n",
              "    </tr>\n",
              "  </thead>\n",
              "  <tbody>\n",
              "    <tr>\n",
              "      <th>34</th>\n",
              "      <td>2020-04-29 10:46:21 UTC</td>\n",
              "      <td>2297951447913857849</td>\n",
              "      <td>1515966223509088613</td>\n",
              "      <td>2.268105e+18</td>\n",
              "      <td>electronics.audio.headphone</td>\n",
              "      <td>apple</td>\n",
              "      <td>203.68</td>\n",
              "      <td>1.515916e+18</td>\n",
              "    </tr>\n",
              "    <tr>\n",
              "      <th>49</th>\n",
              "      <td>2020-04-29 12:25:34 UTC</td>\n",
              "      <td>2298001389550305634</td>\n",
              "      <td>1515966223509088613</td>\n",
              "      <td>2.268105e+18</td>\n",
              "      <td>electronics.audio.headphone</td>\n",
              "      <td>apple</td>\n",
              "      <td>203.68</td>\n",
              "      <td>1.515916e+18</td>\n",
              "    </tr>\n",
              "    <tr>\n",
              "      <th>409</th>\n",
              "      <td>2020-04-30 05:48:22 UTC</td>\n",
              "      <td>2298526250039247566</td>\n",
              "      <td>1515966223509088613</td>\n",
              "      <td>2.268105e+18</td>\n",
              "      <td>electronics.audio.headphone</td>\n",
              "      <td>apple</td>\n",
              "      <td>203.68</td>\n",
              "      <td>1.515916e+18</td>\n",
              "    </tr>\n",
              "    <tr>\n",
              "      <th>440</th>\n",
              "      <td>2020-04-30 06:32:26 UTC</td>\n",
              "      <td>2298548426389848086</td>\n",
              "      <td>1515966223509088613</td>\n",
              "      <td>2.268105e+18</td>\n",
              "      <td>electronics.audio.headphone</td>\n",
              "      <td>apple</td>\n",
              "      <td>203.68</td>\n",
              "      <td>1.515916e+18</td>\n",
              "    </tr>\n",
              "    <tr>\n",
              "      <th>496</th>\n",
              "      <td>2020-04-30 07:58:52 UTC</td>\n",
              "      <td>2298591932353347813</td>\n",
              "      <td>1515966223509088613</td>\n",
              "      <td>2.268105e+18</td>\n",
              "      <td>electronics.audio.headphone</td>\n",
              "      <td>apple</td>\n",
              "      <td>203.68</td>\n",
              "      <td>1.515916e+18</td>\n",
              "    </tr>\n",
              "    <tr>\n",
              "      <th>...</th>\n",
              "      <td>...</td>\n",
              "      <td>...</td>\n",
              "      <td>...</td>\n",
              "      <td>...</td>\n",
              "      <td>...</td>\n",
              "      <td>...</td>\n",
              "      <td>...</td>\n",
              "      <td>...</td>\n",
              "    </tr>\n",
              "    <tr>\n",
              "      <th>2630782</th>\n",
              "      <td>2020-11-19 10:03:31 UTC</td>\n",
              "      <td>2388440981134692171</td>\n",
              "      <td>1515966223509088613</td>\n",
              "      <td>2.268105e+18</td>\n",
              "      <td>electronics.audio.headphone</td>\n",
              "      <td>apple</td>\n",
              "      <td>203.68</td>\n",
              "      <td>1.515916e+18</td>\n",
              "    </tr>\n",
              "    <tr>\n",
              "      <th>2630987</th>\n",
              "      <td>2020-11-19 11:58:01 UTC</td>\n",
              "      <td>2388440981134692268</td>\n",
              "      <td>1515966223509088613</td>\n",
              "      <td>2.268105e+18</td>\n",
              "      <td>electronics.audio.headphone</td>\n",
              "      <td>apple</td>\n",
              "      <td>203.68</td>\n",
              "      <td>1.515916e+18</td>\n",
              "    </tr>\n",
              "    <tr>\n",
              "      <th>2632086</th>\n",
              "      <td>2020-11-19 07:10:36 UTC</td>\n",
              "      <td>2388440981134692867</td>\n",
              "      <td>1515966223509088613</td>\n",
              "      <td>2.268105e+18</td>\n",
              "      <td>electronics.audio.headphone</td>\n",
              "      <td>apple</td>\n",
              "      <td>203.68</td>\n",
              "      <td>1.515916e+18</td>\n",
              "    </tr>\n",
              "    <tr>\n",
              "      <th>2633366</th>\n",
              "      <td>2020-11-21 06:53:56 UTC</td>\n",
              "      <td>2388440981134693814</td>\n",
              "      <td>1515966223509088613</td>\n",
              "      <td>2.268105e+18</td>\n",
              "      <td>electronics.audio.headphone</td>\n",
              "      <td>apple</td>\n",
              "      <td>203.68</td>\n",
              "      <td>1.515916e+18</td>\n",
              "    </tr>\n",
              "    <tr>\n",
              "      <th>2633463</th>\n",
              "      <td>2020-11-21 08:57:19 UTC</td>\n",
              "      <td>2388440981134693898</td>\n",
              "      <td>1515966223509088613</td>\n",
              "      <td>2.268105e+18</td>\n",
              "      <td>electronics.audio.headphone</td>\n",
              "      <td>apple</td>\n",
              "      <td>203.68</td>\n",
              "      <td>1.515916e+18</td>\n",
              "    </tr>\n",
              "  </tbody>\n",
              "</table>\n",
              "<p>5880 rows × 8 columns</p>\n",
              "</div>"
            ],
            "text/plain": [
              "                      event_time             order_id  ...   price       user_id\n",
              "34       2020-04-29 10:46:21 UTC  2297951447913857849  ...  203.68  1.515916e+18\n",
              "49       2020-04-29 12:25:34 UTC  2298001389550305634  ...  203.68  1.515916e+18\n",
              "409      2020-04-30 05:48:22 UTC  2298526250039247566  ...  203.68  1.515916e+18\n",
              "440      2020-04-30 06:32:26 UTC  2298548426389848086  ...  203.68  1.515916e+18\n",
              "496      2020-04-30 07:58:52 UTC  2298591932353347813  ...  203.68  1.515916e+18\n",
              "...                          ...                  ...  ...     ...           ...\n",
              "2630782  2020-11-19 10:03:31 UTC  2388440981134692171  ...  203.68  1.515916e+18\n",
              "2630987  2020-11-19 11:58:01 UTC  2388440981134692268  ...  203.68  1.515916e+18\n",
              "2632086  2020-11-19 07:10:36 UTC  2388440981134692867  ...  203.68  1.515916e+18\n",
              "2633366  2020-11-21 06:53:56 UTC  2388440981134693814  ...  203.68  1.515916e+18\n",
              "2633463  2020-11-21 08:57:19 UTC  2388440981134693898  ...  203.68  1.515916e+18\n",
              "\n",
              "[5880 rows x 8 columns]"
            ]
          },
          "metadata": {
            "tags": []
          },
          "execution_count": 15
        }
      ]
    },
    {
      "cell_type": "markdown",
      "metadata": {
        "id": "A7YptaBKAc_U"
      },
      "source": [
        "# Main part"
      ]
    },
    {
      "cell_type": "markdown",
      "metadata": {
        "id": "Rw-vnATWixqz"
      },
      "source": [
        "## Base model (модель выдающая самые популярные товары)"
      ]
    },
    {
      "cell_type": "code",
      "metadata": {
        "id": "frH_2axcixU8"
      },
      "source": [
        "# сортируем по популярности\n",
        "popular_content = (\n",
        "    interactions_train_df\n",
        "    .groupby('product_id')\n",
        "    .user_id.count().reset_index()\n",
        "    .product_id.values\n",
        ")"
      ],
      "execution_count": 16,
      "outputs": []
    },
    {
      "cell_type": "code",
      "metadata": {
        "colab": {
          "base_uri": "https://localhost:8080/"
        },
        "id": "JYFtEcLil0ZP",
        "outputId": "159e70b6-c691-4836-fd21-d77f8bd7c338"
      },
      "source": [
        "popular_content"
      ],
      "execution_count": 17,
      "outputs": [
        {
          "output_type": "execute_result",
          "data": {
            "text/plain": [
              "array([1515966223509088493, 1515966223509088496, 1515966223509088497, ...,\n",
              "       2388434452475855948, 2388434452475855949, 2388434452475855950])"
            ]
          },
          "metadata": {
            "tags": []
          },
          "execution_count": 17
        }
      ]
    },
    {
      "cell_type": "code",
      "metadata": {
        "colab": {
          "base_uri": "https://localhost:8080/"
        },
        "id": "1Mq9mifFmDpA",
        "outputId": "2f332023-bf7e-4a86-f054-c4d136f9599a"
      },
      "source": [
        "print(df.loc[df.product_id == popular_content[0]][['category_code','brand']]) #самый популярный товар"
      ],
      "execution_count": 25,
      "outputs": [
        {
          "output_type": "stream",
          "text": [
            "                  category_code  brand\n",
            "1062     electronics.smartphone  apple\n",
            "5171     electronics.smartphone  apple\n",
            "5411     electronics.smartphone  apple\n",
            "5642     electronics.smartphone  apple\n",
            "5897     electronics.smartphone  apple\n",
            "...                         ...    ...\n",
            "2623072  electronics.smartphone  apple\n",
            "2623327  electronics.smartphone  apple\n",
            "2632629  electronics.smartphone  apple\n",
            "2632637  electronics.smartphone  apple\n",
            "2632876  electronics.smartphone  apple\n",
            "\n",
            "[1440 rows x 2 columns]\n"
          ],
          "name": "stdout"
        }
      ]
    },
    {
      "cell_type": "code",
      "metadata": {
        "id": "EC6DqktNmzQT"
      },
      "source": [
        "top_k = 10\n",
        "\n",
        "interactions['prediction_popular'] = (\n",
        "    interactions.true_train\n",
        "    .apply(\n",
        "        lambda x:\n",
        "        popular_content[~np.in1d(popular_content, x)][:top_k]\n",
        "    )\n",
        ")"
      ],
      "execution_count": 26,
      "outputs": []
    },
    {
      "cell_type": "code",
      "metadata": {
        "id": "pA2fG_08nD_g"
      },
      "source": [
        "# подсчет precision@10\n",
        "def calc_precision(column):\n",
        "    return (\n",
        "        interactions\n",
        "        .apply(\n",
        "            lambda row:\n",
        "            len(set(row['true_test']).intersection(\n",
        "                set(row[column]))) /\n",
        "            min(len(row['true_test']) + 0.001, 10.0),\n",
        "            axis=1)).mean()"
      ],
      "execution_count": 42,
      "outputs": []
    },
    {
      "cell_type": "code",
      "metadata": {
        "colab": {
          "base_uri": "https://localhost:8080/"
        },
        "id": "RXTMXwfNnOYS",
        "outputId": "d4fa89d4-ac8f-4c09-deff-f46bff7de1e0"
      },
      "source": [
        "calc_precision('prediction_popular')"
      ],
      "execution_count": 28,
      "outputs": [
        {
          "output_type": "execute_result",
          "data": {
            "text/plain": [
              "0.0005860024419242492"
            ]
          },
          "metadata": {
            "tags": []
          },
          "execution_count": 28
        }
      ]
    },
    {
      "cell_type": "code",
      "metadata": {
        "id": "af3zSaLunlnR"
      },
      "source": [
        "# финансовый плюс@10\n",
        "price_dict = pd.DataFrame({'price':interactions_full_df.groupby('product_id').mean()['price']}, \n",
        "                          index=interactions_full_df.groupby('product_id').mean().index).to_dict()\n",
        "\n",
        "def proceeds(column):\n",
        "    res = []\n",
        "    for i in interactions.apply(lambda row:\n",
        "            set(row['true_test']).intersection(set(row[column])), axis=1):\n",
        "        res.extend(i)\n",
        "    return sum([price_dict['price'][i] for i in res])"
      ],
      "execution_count": 43,
      "outputs": []
    },
    {
      "cell_type": "code",
      "metadata": {
        "colab": {
          "base_uri": "https://localhost:8080/"
        },
        "id": "krlajm2JC0BO",
        "outputId": "2bcfb6c5-7ca9-418e-811c-6eef438bbd48"
      },
      "source": [
        "proceeds('prediction_popular') #выигрыш в денежном вырадении"
      ],
      "execution_count": 117,
      "outputs": [
        {
          "output_type": "execute_result",
          "data": {
            "text/plain": [
              "13148.054013656954"
            ]
          },
          "metadata": {
            "tags": []
          },
          "execution_count": 117
        }
      ]
    },
    {
      "cell_type": "code",
      "metadata": {
        "colab": {
          "base_uri": "https://localhost:8080/"
        },
        "id": "hiMG9nzyz5c7",
        "outputId": "11951054-274f-4e02-dc9c-18a2911a231c"
      },
      "source": [
        "proceeds('prediction_popular')/proceeds('true_test')*100 # выигрыш в процентном выражении относительно выручки теста"
      ],
      "execution_count": 118,
      "outputs": [
        {
          "output_type": "execute_result",
          "data": {
            "text/plain": [
              "0.20893908690180757"
            ]
          },
          "metadata": {
            "tags": []
          },
          "execution_count": 118
        }
      ]
    },
    {
      "cell_type": "markdown",
      "metadata": {
        "id": "Nkygnmx4DbiC"
      },
      "source": [
        "## Memory-based collaborative filtering"
      ]
    },
    {
      "cell_type": "code",
      "metadata": {
        "id": "IekeVEl-LWMu"
      },
      "source": [
        "interactions_train_df['eventStrength']=np.ones(interactions_train_df.shape[0])"
      ],
      "execution_count": 16,
      "outputs": []
    },
    {
      "cell_type": "code",
      "metadata": {
        "id": "TBaN-W9ZDJ9A"
      },
      "source": [
        "ratings = pd.pivot_table(\n",
        "    interactions_train_df,\n",
        "    values='eventStrength',\n",
        "    index='user_id',\n",
        "    columns='product_id').fillna(0)"
      ],
      "execution_count": 17,
      "outputs": []
    },
    {
      "cell_type": "code",
      "metadata": {
        "id": "Eti4WSm_DxmG"
      },
      "source": [
        "ratings_m = ratings.values"
      ],
      "execution_count": 18,
      "outputs": []
    },
    {
      "cell_type": "code",
      "metadata": {
        "id": "RK6LyvNPO1iG"
      },
      "source": [
        "# матрица корреляций\n",
        "similarity_users = np.corrcoef(ratings_m)"
      ],
      "execution_count": 25,
      "outputs": []
    },
    {
      "cell_type": "code",
      "metadata": {
        "colab": {
          "base_uri": "https://localhost:8080/",
          "height": 66,
          "referenced_widgets": [
            "81b3a178ebca41fb85adef6ebed6e81d",
            "935fe6b3c81844288545eece4440e63b",
            "014251f8c44442f8bb2bd5012a6001bb",
            "0ff90f0284a24da0b64e3ae7ebf84777",
            "5d82d26db58f4dd8a37c15211788899d",
            "46598457d0f24f9e8ff4499351b0af06",
            "85e2eaa0b906498fb19b1de7896fcf3e",
            "667daca46c3b4e8c9697eb64f770e5e8"
          ]
        },
        "id": "LtqNP-_kPj32",
        "outputId": "518ce7a3-c44b-4774-ed6e-e9253b22d4dc"
      },
      "source": [
        "prediction_user_based = []\n",
        "for i in tqdm(range(len(similarity_users))):\n",
        "    users_sim = similarity_users[i] > 0\n",
        "    if len(users_sim) == 0:\n",
        "        prediction_user_based.append([])\n",
        "    else:\n",
        "        tmp_recommend = np.argsort(ratings_m[users_sim].sum(axis=0))[::-1]\n",
        "        tmp_recommend = ratings.columns[tmp_recommend]\n",
        "        recommend = np.array(tmp_recommend)[~np.in1d(tmp_recommend, interactions.iloc[i])][:10]\n",
        "        prediction_user_based.append(list(recommend))\n",
        "interactions['prediction_user_based'] = prediction_user_based"
      ],
      "execution_count": 27,
      "outputs": [
        {
          "output_type": "display_data",
          "data": {
            "application/vnd.jupyter.widget-view+json": {
              "model_id": "81b3a178ebca41fb85adef6ebed6e81d",
              "version_minor": 0,
              "version_major": 2
            },
            "text/plain": [
              "HBox(children=(FloatProgress(value=0.0, max=17238.0), HTML(value='')))"
            ]
          },
          "metadata": {
            "tags": []
          }
        },
        {
          "output_type": "stream",
          "text": [
            "\n"
          ],
          "name": "stdout"
        }
      ]
    },
    {
      "cell_type": "code",
      "metadata": {
        "colab": {
          "base_uri": "https://localhost:8080/"
        },
        "id": "9dFv6dn6dlmR",
        "outputId": "3bffc52c-31ff-4c23-c042-f620960fea17"
      },
      "source": [
        "calc_precision('prediction_user_based')"
      ],
      "execution_count": 28,
      "outputs": [
        {
          "output_type": "execute_result",
          "data": {
            "text/plain": [
              "0.0036360613333033106"
            ]
          },
          "metadata": {
            "tags": []
          },
          "execution_count": 28
        }
      ]
    },
    {
      "cell_type": "code",
      "metadata": {
        "colab": {
          "base_uri": "https://localhost:8080/"
        },
        "id": "CHR59ieJdlmS",
        "outputId": "77830f2f-4756-447d-e837-c28aa170fb71"
      },
      "source": [
        "proceeds('prediction_user_based') #выигрыш в денежном вырадении"
      ],
      "execution_count": 29,
      "outputs": [
        {
          "output_type": "execute_result",
          "data": {
            "text/plain": [
              "68480.28497087724"
            ]
          },
          "metadata": {
            "tags": []
          },
          "execution_count": 29
        }
      ]
    },
    {
      "cell_type": "code",
      "metadata": {
        "colab": {
          "base_uri": "https://localhost:8080/"
        },
        "id": "X3E2fnNBdlmS",
        "outputId": "4a89dfaa-50f7-4cf8-8e69-03eee355b677"
      },
      "source": [
        "proceeds('prediction_user_based')/proceeds('true_test')*100 # выигрыш в процентном выражении относительно выручки теста"
      ],
      "execution_count": 30,
      "outputs": [
        {
          "output_type": "execute_result",
          "data": {
            "text/plain": [
              "1.0882377116589765"
            ]
          },
          "metadata": {
            "tags": []
          },
          "execution_count": 30
        }
      ]
    },
    {
      "cell_type": "markdown",
      "metadata": {
        "id": "Po580-_zYRRP"
      },
      "source": [
        "## Модель разложения со скрытыми переменными"
      ]
    },
    {
      "cell_type": "code",
      "metadata": {
        "colab": {
          "base_uri": "https://localhost:8080/"
        },
        "id": "5UqTyF2gYYuu",
        "outputId": "cfd21375-e904-4d17-aa8d-616939cf29eb"
      },
      "source": [
        "U, sigma, V = svd(ratings)\n",
        "print(ratings.shape, U.shape, sigma.shape, V.shape)"
      ],
      "execution_count": 19,
      "outputs": [
        {
          "output_type": "stream",
          "text": [
            "(17238, 17171) (17238, 17238) (17171,) (17171, 17171)\n"
          ],
          "name": "stdout"
        }
      ]
    },
    {
      "cell_type": "code",
      "metadata": {
        "id": "yd-Fped0YYfZ"
      },
      "source": [
        "# K наиболее важных компонент\n",
        "K = 400\n",
        "sigma[K:] = 0\n",
        "Sigma = np.zeros((17238, 17171))\n",
        "Sigma[:17171, :17171] = np.diag(sigma)"
      ],
      "execution_count": 27,
      "outputs": []
    },
    {
      "cell_type": "code",
      "metadata": {
        "colab": {
          "base_uri": "https://localhost:8080/"
        },
        "id": "1_47mS73YYcX",
        "outputId": "4da4f62d-5da5-4393-bcef-fd5865a45eee"
      },
      "source": [
        "new_ratings = U.dot(Sigma).dot(V)\n",
        "print(sum(sum((new_ratings - ratings.values) ** 2)))\n",
        "print(sum(sum((ratings.values.mean() - ratings.values) ** 2)))"
      ],
      "execution_count": 28,
      "outputs": [
        {
          "output_type": "stream",
          "text": [
            "128591.15027110193\n",
            "250829.08301499774\n"
          ],
          "name": "stdout"
        }
      ]
    },
    {
      "cell_type": "code",
      "metadata": {
        "colab": {
          "base_uri": "https://localhost:8080/",
          "height": 66,
          "referenced_widgets": [
            "832547b92e5b4809b44e17f4277e9b24",
            "5c4096b1d9e647e3be9c1c6fe49e3834",
            "aa762567545d415b892331f21ece1d20",
            "3f24a696cb90431a9c949f81797fbc6b",
            "08940ff417d24075a71c9c66d90fa8b8",
            "6ed0eb22c7ff4a5e8571379ef0b89d31",
            "7fff60e76f854e098cbb982bd493c635",
            "cefb11a6dab34ba8bde99f2d47d3a226"
          ]
        },
        "id": "FVe8j8bMYYYw",
        "outputId": "d4f56329-59de-4ba4-c8b7-baa6df73567e"
      },
      "source": [
        "top_k = 10\n",
        "\n",
        "new_ratings = pd.DataFrame(new_ratings, index=ratings.index, columns=ratings.columns)\n",
        "\n",
        "predictions = []\n",
        "for user_id in tqdm(interactions.index):\n",
        "    prediction = (\n",
        "        new_ratings\n",
        "        .loc[user_id]\n",
        "        .sort_values(ascending=False)\n",
        "        .index.values\n",
        "    )\n",
        "    \n",
        "    predictions.append(\n",
        "        list(prediction[~np.in1d(\n",
        "            prediction,\n",
        "            interactions.loc[user_id, 'true_train'])])[:top_k])\n",
        "interactions['prediction_svd'] = predictions"
      ],
      "execution_count": 31,
      "outputs": [
        {
          "output_type": "display_data",
          "data": {
            "application/vnd.jupyter.widget-view+json": {
              "model_id": "832547b92e5b4809b44e17f4277e9b24",
              "version_minor": 0,
              "version_major": 2
            },
            "text/plain": [
              "HBox(children=(FloatProgress(value=0.0, max=17238.0), HTML(value='')))"
            ]
          },
          "metadata": {
            "tags": []
          }
        },
        {
          "output_type": "stream",
          "text": [
            "\n"
          ],
          "name": "stdout"
        }
      ]
    },
    {
      "cell_type": "code",
      "metadata": {
        "colab": {
          "base_uri": "https://localhost:8080/"
        },
        "id": "y0-Gme-vaH4W",
        "outputId": "eceb5304-9895-4619-db74-4cb79009ae9c"
      },
      "source": [
        "calc_precision('prediction_svd')"
      ],
      "execution_count": 35,
      "outputs": [
        {
          "output_type": "execute_result",
          "data": {
            "text/plain": [
              "0.003869806707793473"
            ]
          },
          "metadata": {
            "tags": []
          },
          "execution_count": 35
        }
      ]
    },
    {
      "cell_type": "code",
      "metadata": {
        "colab": {
          "base_uri": "https://localhost:8080/"
        },
        "id": "zvlk7JawaH4X",
        "outputId": "a3ae0084-e2bf-4ee6-f150-3284cab1756e"
      },
      "source": [
        "proceeds('prediction_svd') #выигрыш в денежном вырадении"
      ],
      "execution_count": 36,
      "outputs": [
        {
          "output_type": "execute_result",
          "data": {
            "text/plain": [
              "33022.86034778828"
            ]
          },
          "metadata": {
            "tags": []
          },
          "execution_count": 36
        }
      ]
    },
    {
      "cell_type": "code",
      "metadata": {
        "colab": {
          "base_uri": "https://localhost:8080/"
        },
        "id": "LoYdetnTaH4Y",
        "outputId": "2343a217-cbf1-463a-f79a-41519b95975a"
      },
      "source": [
        "proceeds('prediction_svd')/proceeds('true_test')*100 # выигрыш в процентном выражении относительно выручки теста"
      ],
      "execution_count": 37,
      "outputs": [
        {
          "output_type": "execute_result",
          "data": {
            "text/plain": [
              "0.5247747142494218"
            ]
          },
          "metadata": {
            "tags": []
          },
          "execution_count": 37
        }
      ]
    },
    {
      "cell_type": "markdown",
      "metadata": {
        "id": "tNu30zuuDvHf"
      },
      "source": [
        "## Factorization Machines"
      ]
    },
    {
      "cell_type": "code",
      "metadata": {
        "colab": {
          "base_uri": "https://localhost:8080/"
        },
        "id": "hMSXdVUNyIJ0",
        "outputId": "65d80bc1-c75c-4d52-ada5-7ca772fb9466"
      },
      "source": [
        "!pip install git+https://github.com/coreylynch/pyFM"
      ],
      "execution_count": 65,
      "outputs": [
        {
          "output_type": "stream",
          "text": [
            "Collecting git+https://github.com/coreylynch/pyFM\n",
            "  Cloning https://github.com/coreylynch/pyFM to /tmp/pip-req-build-fdn9947u\n",
            "  Running command git clone -q https://github.com/coreylynch/pyFM /tmp/pip-req-build-fdn9947u\n",
            "Requirement already satisfied (use --upgrade to upgrade): pyfm==0.0.0 from git+https://github.com/coreylynch/pyFM in /usr/local/lib/python3.7/dist-packages\n",
            "Building wheels for collected packages: pyfm\n",
            "  Building wheel for pyfm (setup.py) ... \u001b[?25l\u001b[?25hdone\n",
            "  Created wheel for pyfm: filename=pyfm-0.0.0-cp37-cp37m-linux_x86_64.whl size=216597 sha256=4b82f70482107614cc83d72db4f740bfb8d8e8f402332b7409fa8abf1fa8a33a\n",
            "  Stored in directory: /tmp/pip-ephem-wheel-cache-c8q0ikjr/wheels/3b/d9/ef/1b148c527d39344632833679e79b3db1798a40b0f64f917b13\n",
            "Successfully built pyfm\n"
          ],
          "name": "stdout"
        }
      ]
    },
    {
      "cell_type": "code",
      "metadata": {
        "id": "rl97HDCJy2Pe"
      },
      "source": [
        "from pyfm import pylibfm\n",
        "from sklearn.feature_extraction import DictVectorizer"
      ],
      "execution_count": 66,
      "outputs": []
    },
    {
      "cell_type": "code",
      "metadata": {
        "colab": {
          "base_uri": "https://localhost:8080/",
          "height": 66,
          "referenced_widgets": [
            "c5aaed8b9118436c9d86e76684784d56",
            "0036672c91084305b2a41f2d9e1391d5",
            "800f7f920e44444cae8b67430e46d423",
            "b2cd5164087d431f94bbb6bbc7594dd3",
            "e426b2334ba84b25b17b76736ec26be1",
            "e2a03c8479a744e99b71d657325e6e61",
            "8f0a33e78cc04dc7b71234f6a44d553e",
            "660271abc7cd4717a91a03a5505fd793"
          ]
        },
        "id": "XuClaRrYy4_g",
        "outputId": "4438db97-279d-4332-d2f7-518c0579f88d"
      },
      "source": [
        "train_dataset_fm = []\n",
        "\n",
        "for i in tqdm(range(0, interactions_train_df.shape[0])):\n",
        "    user = interactions_train_df.iloc[i]['user_id'].astype(int)\n",
        "    item = interactions_train_df.iloc[i]['product_id'].astype(int)\n",
        "    train_dataset_fm += [{'user': str(user), 'item': str(item)}]\n",
        "y_train = np.ones(interactions_train_df.shape[0])"
      ],
      "execution_count": 67,
      "outputs": [
        {
          "output_type": "display_data",
          "data": {
            "application/vnd.jupyter.widget-view+json": {
              "model_id": "c5aaed8b9118436c9d86e76684784d56",
              "version_minor": 0,
              "version_major": 2
            },
            "text/plain": [
              "HBox(children=(FloatProgress(value=0.0, max=251042.0), HTML(value='')))"
            ]
          },
          "metadata": {
            "tags": []
          }
        },
        {
          "output_type": "stream",
          "text": [
            "\n"
          ],
          "name": "stdout"
        }
      ]
    },
    {
      "cell_type": "code",
      "metadata": {
        "colab": {
          "base_uri": "https://localhost:8080/"
        },
        "id": "_ix_CM3vzx-1",
        "outputId": "8676ecc4-efbb-4ff3-c70b-a49fc97055d5"
      },
      "source": [
        "train_dataset_fm[:5]"
      ],
      "execution_count": 68,
      "outputs": [
        {
          "output_type": "execute_result",
          "data": {
            "text/plain": [
              "[{'item': '1515966223509090304', 'user': '1515915625479406080'},\n",
              " {'item': '2273948186349404160', 'user': '1515915625484433920'},\n",
              " {'item': '2273948180989083648', 'user': '1515915625484433920'},\n",
              " {'item': '1515966223510673664', 'user': '1515915625484433920'},\n",
              " {'item': '1515966223510225664', 'user': '1515915625484433920'}]"
            ]
          },
          "metadata": {
            "tags": []
          },
          "execution_count": 68
        }
      ]
    },
    {
      "cell_type": "code",
      "metadata": {
        "id": "NPhWxau_1vaz"
      },
      "source": [
        "v = DictVectorizer()\n",
        "X_train = v.fit_transform(train_dataset_fm)\n",
        "y_train = np.array(y_train)"
      ],
      "execution_count": 69,
      "outputs": []
    },
    {
      "cell_type": "code",
      "metadata": {
        "colab": {
          "base_uri": "https://localhost:8080/"
        },
        "id": "C68oCh9s101K",
        "outputId": "6a22cbaa-cbcd-492e-a3de-61e837f372e4"
      },
      "source": [
        "%%time\n",
        "fm = pylibfm.FM(num_factors=32, num_iter=20, verbose=True, task=\"classification\", \n",
        "                initial_learning_rate=0.01, learning_rate_schedule=\"optimal\")\n",
        "fm.fit(X_train, y_train)"
      ],
      "execution_count": 70,
      "outputs": [
        {
          "output_type": "stream",
          "text": [
            "Creating validation dataset of 0.01 of training for adaptive regularization\n",
            "-- Epoch 1\n",
            "Training log loss: 0.00330\n",
            "-- Epoch 2\n",
            "Training log loss: 0.00028\n",
            "-- Epoch 3\n",
            "Training log loss: 0.00016\n",
            "-- Epoch 4\n",
            "Training log loss: 0.00012\n",
            "-- Epoch 5\n",
            "Training log loss: 0.00009\n",
            "-- Epoch 6\n",
            "Training log loss: 0.00007\n",
            "-- Epoch 7\n",
            "Training log loss: 0.00006\n",
            "-- Epoch 8\n",
            "Training log loss: 0.00005\n",
            "-- Epoch 9\n",
            "Training log loss: 0.00005\n",
            "-- Epoch 10\n",
            "Training log loss: 0.00004\n",
            "-- Epoch 11\n",
            "Training log loss: 0.00004\n",
            "-- Epoch 12\n",
            "Training log loss: 0.00003\n",
            "-- Epoch 13\n",
            "Training log loss: 0.00003\n",
            "-- Epoch 14\n",
            "Training log loss: 0.00003\n",
            "-- Epoch 15\n",
            "Training log loss: 0.00003\n",
            "-- Epoch 16\n",
            "Training log loss: 0.00003\n",
            "-- Epoch 17\n",
            "Training log loss: 0.00002\n",
            "-- Epoch 18\n",
            "Training log loss: 0.00002\n",
            "-- Epoch 19\n",
            "Training log loss: 0.00002\n",
            "-- Epoch 20\n",
            "Training log loss: 0.00002\n",
            "CPU times: user 3min 44s, sys: 1.45 s, total: 3min 45s\n",
            "Wall time: 3min 43s\n"
          ],
          "name": "stdout"
        }
      ]
    },
    {
      "cell_type": "code",
      "metadata": {
        "colab": {
          "base_uri": "https://localhost:8080/",
          "height": 66,
          "referenced_widgets": [
            "7546f51735bb4251af6fd46edbe3d823",
            "d877ae2fbbd44375932ba158df4ff834",
            "af9e6f5bd0194842b5f591d53e94db49",
            "cd7658adfde7466fa3f75aafb1330c5c",
            "ba8a9d6994834907919950a438f30ecc",
            "3fcc6ab5e9134e0883990af3585fc603",
            "3a8f685de3274ac0808fe69553285440",
            "b3078a34cda443cfa4910455e073ff1b"
          ]
        },
        "id": "gYYMy_SO-ssg",
        "outputId": "7efb33ff-dace-422f-96f8-631905d81210"
      },
      "source": [
        "test_dataset_fm = []\n",
        "\n",
        "for i in tqdm(range(0, interactions_test_df.shape[0])):\n",
        "    user = interactions_test_df.iloc[i]['user_id'].astype(int)\n",
        "    item = interactions_test_df.iloc[i]['product_id'].astype(int)\n",
        "    test_dataset_fm += [{'user': str(user), 'item': str(item)}]\n",
        "y_test = np.ones(interactions_test_df.shape[0])"
      ],
      "execution_count": 71,
      "outputs": [
        {
          "output_type": "display_data",
          "data": {
            "application/vnd.jupyter.widget-view+json": {
              "model_id": "7546f51735bb4251af6fd46edbe3d823",
              "version_minor": 0,
              "version_major": 2
            },
            "text/plain": [
              "HBox(children=(FloatProgress(value=0.0, max=83683.0), HTML(value='')))"
            ]
          },
          "metadata": {
            "tags": []
          }
        },
        {
          "output_type": "stream",
          "text": [
            "\n"
          ],
          "name": "stdout"
        }
      ]
    },
    {
      "cell_type": "code",
      "metadata": {
        "id": "cPduWVjr-ssh"
      },
      "source": [
        "X_test = v.transform(test_dataset_fm)\n",
        "y_test = np.array(y_test)"
      ],
      "execution_count": 72,
      "outputs": []
    },
    {
      "cell_type": "code",
      "metadata": {
        "colab": {
          "base_uri": "https://localhost:8080/",
          "height": 66,
          "referenced_widgets": [
            "ed64d9e033794f3dabc74c7062c7de9f",
            "8ff4d9d6aa5b48868206e9cead5e77e8",
            "8b6e3969881447109c1df8449c5abe0b",
            "e1fdd85fabdb4fb8ab5c234544d6d444",
            "a8fd08f54d3f480db320909b1f89d6aa",
            "323580be6f0041ef856c1594e490b98d",
            "67adb330128848519b97cc3e222c3130",
            "0faac95aa8f5466480abe9e8cd612048"
          ]
        },
        "id": "3_bxLDLR_8iJ",
        "outputId": "e8f476af-9999-4ac6-a134-c6088237e32b"
      },
      "source": [
        "products = interactions_full_df.product_id.unique()\n",
        "predictionsss = []\n",
        "for user in tqdm(interactions.index):\n",
        "    X_test_dict = []\n",
        "    for item in products:\n",
        "        X_test_dict += [{'user': str(user), 'item': str(item)}]\n",
        "    X_test = v.transform(X_test_dict)\n",
        "    pred = fm.predict(X_test)\n",
        "    test = pd.DataFrame({'product_id':products, 'prediction':pred})\n",
        "    predictionsss.append(test.sort_values('prediction', ascending=False)['product_id'][:10])\n",
        "    \n",
        "interactions['prediction_fm'] = predictionsss"
      ],
      "execution_count": 74,
      "outputs": [
        {
          "output_type": "display_data",
          "data": {
            "application/vnd.jupyter.widget-view+json": {
              "model_id": "ed64d9e033794f3dabc74c7062c7de9f",
              "version_minor": 0,
              "version_major": 2
            },
            "text/plain": [
              "HBox(children=(FloatProgress(value=0.0, max=17238.0), HTML(value='')))"
            ]
          },
          "metadata": {
            "tags": []
          }
        },
        {
          "output_type": "stream",
          "text": [
            "\n"
          ],
          "name": "stdout"
        }
      ]
    },
    {
      "cell_type": "code",
      "metadata": {
        "colab": {
          "base_uri": "https://localhost:8080/"
        },
        "id": "dQ34ruhzD6pN",
        "outputId": "58a6db33-c7be-4db9-97cd-359832767f7d"
      },
      "source": [
        "calc_precision('prediction_fm')"
      ],
      "execution_count": 75,
      "outputs": [
        {
          "output_type": "execute_result",
          "data": {
            "text/plain": [
              "8.801826662361938e-05"
            ]
          },
          "metadata": {
            "tags": []
          },
          "execution_count": 75
        }
      ]
    },
    {
      "cell_type": "code",
      "metadata": {
        "colab": {
          "base_uri": "https://localhost:8080/"
        },
        "id": "qYTwfwwMD6pg",
        "outputId": "ae113216-659a-4d8e-98d3-8820afcd3ab8"
      },
      "source": [
        "proceeds('prediction_fm') #выигрыш в денежном вырадении"
      ],
      "execution_count": 76,
      "outputs": [
        {
          "output_type": "execute_result",
          "data": {
            "text/plain": [
              "1123.1032051282052"
            ]
          },
          "metadata": {
            "tags": []
          },
          "execution_count": 76
        }
      ]
    },
    {
      "cell_type": "code",
      "metadata": {
        "colab": {
          "base_uri": "https://localhost:8080/"
        },
        "id": "SVb3FcLdD6pg",
        "outputId": "686f3b8b-4548-4b38-9cfa-c08c77f3bf32"
      },
      "source": [
        "proceeds('prediction_fm')/proceeds('true_test')*100 # выигрыш в процентном выражении относительно выручки теста"
      ],
      "execution_count": 77,
      "outputs": [
        {
          "output_type": "execute_result",
          "data": {
            "text/plain": [
              "0.017847520091736613"
            ]
          },
          "metadata": {
            "tags": []
          },
          "execution_count": 77
        }
      ]
    },
    {
      "cell_type": "markdown",
      "metadata": {
        "id": "BY84LZTxw2Cj"
      },
      "source": [
        "## Другая модель FM"
      ]
    },
    {
      "cell_type": "code",
      "metadata": {
        "colab": {
          "base_uri": "https://localhost:8080/"
        },
        "id": "bV44uYhGANiA",
        "outputId": "1e1e9294-0e59-422a-d186-2ff5f4b25395"
      },
      "source": [
        "!pip install lightfm\n",
        "from lightfm import LightFM\n",
        "from lightfm.evaluation import precision_at_k\n",
        "from lightfm.data import Dataset"
      ],
      "execution_count": 16,
      "outputs": [
        {
          "output_type": "stream",
          "text": [
            "Requirement already satisfied: lightfm in /usr/local/lib/python3.7/dist-packages (1.16)\n",
            "Requirement already satisfied: requests in /usr/local/lib/python3.7/dist-packages (from lightfm) (2.23.0)\n",
            "Requirement already satisfied: scipy>=0.17.0 in /usr/local/lib/python3.7/dist-packages (from lightfm) (1.4.1)\n",
            "Requirement already satisfied: numpy in /usr/local/lib/python3.7/dist-packages (from lightfm) (1.19.5)\n",
            "Requirement already satisfied: scikit-learn in /usr/local/lib/python3.7/dist-packages (from lightfm) (0.22.2.post1)\n",
            "Requirement already satisfied: chardet<4,>=3.0.2 in /usr/local/lib/python3.7/dist-packages (from requests->lightfm) (3.0.4)\n",
            "Requirement already satisfied: idna<3,>=2.5 in /usr/local/lib/python3.7/dist-packages (from requests->lightfm) (2.10)\n",
            "Requirement already satisfied: certifi>=2017.4.17 in /usr/local/lib/python3.7/dist-packages (from requests->lightfm) (2020.12.5)\n",
            "Requirement already satisfied: urllib3!=1.25.0,!=1.25.1,<1.26,>=1.21.1 in /usr/local/lib/python3.7/dist-packages (from requests->lightfm) (1.24.3)\n",
            "Requirement already satisfied: joblib>=0.11 in /usr/local/lib/python3.7/dist-packages (from scikit-learn->lightfm) (1.0.1)\n"
          ],
          "name": "stdout"
        }
      ]
    },
    {
      "cell_type": "code",
      "metadata": {
        "id": "x9CLpaP1AomB"
      },
      "source": [
        "data = Dataset()\n",
        "data.fit(interactions_full_df.user_id.astype(int).unique(), interactions_full_df.product_id.astype(int).unique())\n",
        "interactions_train_matrix, data_train = data.build_interactions([tuple(i) for i in interactions_train_df[['user_id', 'product_id']].astype(int).values])\n",
        "interactions_test_matrix, data_test = data.build_interactions([tuple(i) for i in interactions_test_df[['user_id', 'product_id']].astype(int).values])"
      ],
      "execution_count": 17,
      "outputs": []
    },
    {
      "cell_type": "code",
      "metadata": {
        "id": "G7gggPWuLYpR"
      },
      "source": [
        "len_users = len(interactions_full_df.user_id.unique())\n",
        "len_items = len(interactions_full_df.product_id.unique())\n",
        "users_test = (np.ones((len_items,len_users))*np.arange(0,len_users)).T.reshape(len_items*len_users)\n",
        "items_test = (np.ones((len_items,len_users)).T*np.arange(0,len_items)).reshape(len_items*len_users)"
      ],
      "execution_count": 18,
      "outputs": []
    },
    {
      "cell_type": "code",
      "metadata": {
        "colab": {
          "base_uri": "https://localhost:8080/"
        },
        "id": "fE-wbJRBZoki",
        "outputId": "9e401d80-f976-45d1-887d-293029cf6d18"
      },
      "source": [
        "users_test"
      ],
      "execution_count": 19,
      "outputs": [
        {
          "output_type": "execute_result",
          "data": {
            "text/plain": [
              "array([    0.,     0.,     0., ..., 17703., 17703., 17703.])"
            ]
          },
          "metadata": {
            "tags": []
          },
          "execution_count": 19
        }
      ]
    },
    {
      "cell_type": "code",
      "metadata": {
        "id": "sdlXonj2B6jk"
      },
      "source": [
        "lfm = LightFM(loss='warp')\n",
        "lfm.fit(interactions_train_matrix, sample_weight = data_train)\n",
        "pred = lfm.predict(users_test, items_test)"
      ],
      "execution_count": 20,
      "outputs": []
    },
    {
      "cell_type": "code",
      "metadata": {
        "id": "SG373z5bWfgp"
      },
      "source": [
        "userss = {v: k for k, v in data.mapping()[0].items()}\n",
        "itemss = {v: k for k, v in data.mapping()[2].items()}"
      ],
      "execution_count": 21,
      "outputs": []
    },
    {
      "cell_type": "code",
      "metadata": {
        "id": "l8RXeul9jjCO"
      },
      "source": [
        "fin_pred = pred.reshape((len_users,len_items)).argsort()[::-1][:,:10]"
      ],
      "execution_count": 22,
      "outputs": []
    },
    {
      "cell_type": "code",
      "metadata": {
        "colab": {
          "base_uri": "https://localhost:8080/"
        },
        "id": "OUSDVTXikuxw",
        "outputId": "c9e9e55c-86f5-4a83-8899-2fe312e80e13"
      },
      "source": [
        "fin_pred.shape"
      ],
      "execution_count": 24,
      "outputs": [
        {
          "output_type": "execute_result",
          "data": {
            "text/plain": [
              "(17704, 10)"
            ]
          },
          "metadata": {
            "tags": []
          },
          "execution_count": 24
        }
      ]
    },
    {
      "cell_type": "code",
      "metadata": {
        "colab": {
          "base_uri": "https://localhost:8080/"
        },
        "id": "1yGy9pdzmH4Z",
        "outputId": "ec33240b-9026-46f3-8dc1-224a9f08200e"
      },
      "source": [
        "fin_pred[4]"
      ],
      "execution_count": 34,
      "outputs": [
        {
          "output_type": "execute_result",
          "data": {
            "text/plain": [
              "array([18525,  4428, 17393, 11540, 17336, 18648, 18816,  9176, 18001,\n",
              "       18232])"
            ]
          },
          "metadata": {
            "tags": []
          },
          "execution_count": 34
        }
      ]
    },
    {
      "cell_type": "code",
      "metadata": {
        "colab": {
          "base_uri": "https://localhost:8080/"
        },
        "id": "xDoth9ULlbVp",
        "outputId": "8c79e8b9-f907-46d8-9cf6-b680edbb5260"
      },
      "source": [
        "len(userss.values())"
      ],
      "execution_count": 29,
      "outputs": [
        {
          "output_type": "execute_result",
          "data": {
            "text/plain": [
              "17704"
            ]
          },
          "metadata": {
            "tags": []
          },
          "execution_count": 29
        }
      ]
    },
    {
      "cell_type": "code",
      "metadata": {
        "colab": {
          "base_uri": "https://localhost:8080/"
        },
        "id": "3swJAWeLlxy2",
        "outputId": "baa89541-630b-4bb7-bbdd-d729100824c0"
      },
      "source": [
        "userss.items()"
      ],
      "execution_count": 33,
      "outputs": [
        {
          "output_type": "execute_result",
          "data": {
            "text/plain": [
              "dict_items([(0, 1515915625479406080), (1, 1515915625484433920), (2, 1515915625442736640), (3, 1515915625479406336), (4, 1515915625479774464), (5, 1515915625442537472), (6, 1515915625442592768), (7, 1515915625452108288), (8, 1515915625451564544), (9, 1515915625484433664), (10, 1515915625484433408), (11, 1515915625463906048), (12, 1515915625442052608), (13, 1515915625454125824), (14, 1515915625478103040), (15, 1515915625453674752), (16, 1515915625453651200), (17, 1515915625511663104), (18, 1515915625476772352), (19, 1515915625476351232), (20, 1515915625456580608), (21, 1515915625455680256), (22, 1515915625441905920), (23, 1515915625466711808), (24, 1515915625441945856), (25, 1515915625441947136), (26, 1515915625441953536), (27, 1515915625463751168), (28, 1515915625511158016), (29, 1515915625479405824), (30, 1515915625470467328), (31, 1515915625485935360), (32, 1515915625441031680), (33, 1515915625462877952), (34, 1515915625462858752), (35, 1515915625441055488), (36, 1515915625469160448), (37, 1515915625462482432), (38, 1515915625441091072), (39, 1515915625462296320), (40, 1515915625469988608), (41, 1515915625461609984), (42, 1515915625441263360), (43, 1515915625458990592), (44, 1515915625458574336), (45, 1515915625441520640), (46, 1515915625467001088), (47, 1515915625458080512), (48, 1515915625458059520), (49, 1515915625457982976), (50, 1515915625474909440), (51, 1515915625441856256), (52, 1515915625441577472), (53, 1515915625459035904), (54, 1515915625506133504), (55, 1515915625460162560), (56, 1515915625471140352), (57, 1515915625498342656), (58, 1515915625471559936), (59, 1515915625460996352), (60, 1515915625460453632), (61, 1515915625441338624), (62, 1515915625472199680), (63, 1515915625472492800), (64, 1515915625441368064), (65, 1515915625441380864), (66, 1515915625472591872), (67, 1515915625465637120), (68, 1515915625442347776), (69, 1515915625450920704), (70, 1515915625484432896), (71, 1515915625449804288), (72, 1515915625484432384), (73, 1515915625444111872), (74, 1515915625464837632), (75, 1515915625443694080), (76, 1515915625443732224), (77, 1515915625449771008), (78, 1515915625448277248), (79, 1515915625483969024), (80, 1515915625444413440), (81, 1515915625444401920), (82, 1515915625448952064), (83, 1515915625513720064), (84, 1515915625448915200), (85, 1515915625448849664), (86, 1515915625448819200), (87, 1515915625484432640), (88, 1515915625449328640), (89, 1515915625449709312), (90, 1515915625449502976), (91, 1515915625446729216), (92, 1515915625465067776), (93, 1515915625445525760), (94, 1515915625484433152), (95, 1515915625445481984), (96, 1515915625443334400), (97, 1515915625450417920), (98, 1515915625443190784), (99, 1515915625443155712), (100, 1515915625446147072), (101, 1515915625445993472), (102, 1515915625464228864), (103, 1515915625448085760), (104, 1515915625482446848), (105, 1515915625464880640), (106, 1515915625443574016), (107, 1515915625464690688), (108, 1515915625482454016), (109, 1515915625445368576), (110, 1515915625484570624), (111, 1515915625484572160), (112, 1515915625484571648), (113, 1515915625484571392), (114, 1515915625484571136), (115, 1515915625484571904), (116, 1515915625458721024), (117, 1515915625484570880), (118, 1515915625467664128), (119, 1515915625460647936), (120, 1515915625451099392), (121, 1515915625445679360), (122, 1515915625483342336), (123, 1515915625454536192), (124, 1515915625444855296), (125, 1515915625460669696), (126, 1515915625484042496), (127, 1515915625451737088), (128, 1515915625442235648), (129, 1515915625452309760), (130, 1515915625442266624), (131, 1515915625449173760), (132, 1515915625453601536), (133, 1515915625445073664), (134, 1515915625441876992), (135, 1515915625471539200), (136, 1515915625441118208), (137, 1515915625466981120), (138, 1515915625448309760), (139, 1515915625446479360), (140, 1515915625450570752), (141, 1515915625457201664), (142, 1515915625448892160), (143, 1515915625445447168), (144, 1515915625457573376), (145, 1515915625442187776), (146, 1515915625455680768), (147, 1515915625449858304), (148, 1515915625464390912), (149, 1515915625511520000), (150, 1515915625472756480), (151, 1515915625482577920), (152, 1515915625453197824), (153, 1515915625475863552), (154, 1515915625453732352), (155, 1515915625441003264), (156, 1515915625459489536), (157, 1515915625467595776), (158, 1515915625479937024), (159, 1515915625481570560), (160, 1515915625492810240), (161, 1515915625443611904), (162, 1515915625442634240), (163, 1515915625464755712), (164, 1515915625455113472), (165, 1515915625479610624), (166, 1515915625446572032), (167, 1515915625465812736), (168, 1515915625469284352), (169, 1515915625441906432), (170, 1515915625443295232), (171, 1515915625445990144), (172, 1515915625484581632), (173, 1515915625484581888), (174, 1515915625484581120), (175, 1515915625467185664), (176, 1515915625484581376), (177, 1515915625453294848), (178, 1515915625482167296), (179, 1515915625452553728), (180, 1515915625453277184), (181, 1515915625454542592), (182, 1515915625445973504), (183, 1515915625469513728), (184, 1515915625442125824), (185, 1515915625442535424), (186, 1515915625475902720), (187, 1515915625473728256), (188, 1515915625442756096), (189, 1515915625449903104), (190, 1515915625443912448), (191, 1515915625441795072), (192, 1515915625512660992), (193, 1515915625450926080), (194, 1515915625443085056), (195, 1515915625471153664), (196, 1515915625456179968), (197, 1515915625445358592), (198, 1515915625441034496), (199, 1515915625441463552), (200, 1515915625444383488), (201, 1515915625462455552), (202, 1515915625476282880), (203, 1515915625446944512), (204, 1515915625456710656), (205, 1515915625449539072), (206, 1515915625441972736), (207, 1515915625441101824), (208, 1515915625444331264), (209, 1515915625483257600), (210, 1515915625512674816), (211, 1515915625441561088), (212, 1515915625468654592), (213, 1515915625441454592), (214, 1515915625463069440), (215, 1515915625492866048), (216, 1515915625463387904), (217, 1515915625441116160), (218, 1515915625462606336), (219, 1515915625481508608), (220, 1515915625498897664), (221, 1515915625442652672), (222, 1515915625463305472), (223, 1515915625476727040), (224, 1515915625450523904), (225, 1515915625442065408), (226, 1515915625458804736), (227, 1515915625452109824), (228, 1515915625452256768), (229, 1515915625443006976), (230, 1515915625484418048), (231, 1515915625453092096), (232, 1515915625471557120), (233, 1515915625441545728), (234, 1515915625498338816), (235, 1515915625482557440), (236, 1515915625484582912), (237, 1515915625484582400), (238, 1515915625484582144), (239, 1515915625484582656), (240, 1515915625446222080), (241, 1515915625484583168), (242, 1515915625450932992), (243, 1515915625483198464), (244, 1515915625451813120), (245, 1515915625444980480), (246, 1515915625442218496), (247, 1515915625441742848), (248, 1515915625447989248), (249, 1515915625483311360), (250, 1515915625461435648), (251, 1515915625464836096), (252, 1515915625452007168), (253, 1515915625475727872), (254, 1515915625441134592), (255, 1515915625454614016), (256, 1515915625458726912), (257, 1515915625441347584), (258, 1515915625458791936), (259, 1515915625441330944), (260, 1515915625443593216), (261, 1515915625454126592), (262, 1515915625443005696), (263, 1515915625441659648), (264, 1515915625444206336), (265, 1515915625471349760), (266, 1515915625441070080), (267, 1515915625441513728), (268, 1515915625482000128), (269, 1515915625464864512), (270, 1515915625454534400), (271, 1515915625454220032), (272, 1515915625456098560), (273, 1515915625442036992), (274, 1515915625473986816), (275, 1515915625456863232), (276, 1515915625477815296), (277, 1515915625450864896), (278, 1515915625466480128), (279, 1515915625442050048), (280, 1515915625440991232), (281, 1515915625469969152), (282, 1515915625481113600), (283, 1515915625460279296), (284, 1515915625469190144), (285, 1515915625459023616), (286, 1515915625486188544), (287, 1515915625447651584), (288, 1515915625453213184), (289, 1515915625451795968), (290, 1515915625451440896), (291, 1515915625441352448), (292, 1515915625481191936), (293, 1515915625445387264), (294, 1515915625456075520), (295, 1515915625445594112), (296, 1515915625447621632), (297, 1515915625484616960), (298, 1515915625484617216), (299, 1515915625484616704), (300, 1515915625484617728), (301, 1515915625484617472), (302, 1515915625478214656), (303, 1515915625484616448), (304, 1515915625482056192), (305, 1515915625442032896), (306, 1515915625484617984), (307, 1515915625443373568), (308, 1515915625484618240), (309, 1515915625448583680), (310, 1515915625476239872), (311, 1515915625482432256), (312, 1515915625462390784), (313, 1515915625484618496), (314, 1515915625465716224), (315, 1515915625464175872), (316, 1515915625492621824), (317, 1515915625450237952), (318, 1515915625442798848), (319, 1515915625469144320), (320, 1515915625460521984), (321, 1515915625459977216), (322, 1515915625465059072), (323, 1515915625472393728), (324, 1515915625447742976), (325, 1515915625480609280), (326, 1515915625459248384), (327, 1515915625476921088), (328, 1515915625476976640), (329, 1515915625444115968), (330, 1515915625483379968), (331, 1515915625442494720), (332, 1515915625443310592), (333, 1515915625441130496), (334, 1515915625484619008), (335, 1515915625442179072), (336, 1515915625484501760), (337, 1515915625467958016), (338, 1515915625441670144), (339, 1515915625445638400), (340, 1515915625465580800), (341, 1515915625484618752), (342, 1515915625440953600), (343, 1515915625441393152), (344, 1515915625449508352), (345, 1515915625459523840), (346, 1515915625441134848), (347, 1515915625512675584), (348, 1515915625481075712), (349, 1515915625486821376), (350, 1515915625452758272), (351, 1515915625452769536), (352, 1515915625442445568), (353, 1515915625445330176), (354, 1515915625469825024), (355, 1515915625510882304), (356, 1515915625442968064), (357, 1515915625449364736), (358, 1515915625471437568), (359, 1515915625443354880), (360, 1515915625451392512), (361, 1515915625454567680), (362, 1515915625453577216), (363, 1515915625463187712), (364, 1515915625474072064), (365, 1515915625462665984), (366, 1515915625459518464), (367, 1515915625442439680), (368, 1515915625474290944), (369, 1515915625444866816), (370, 1515915625456176384), (371, 1515915625443954688), (372, 1515915625441631744), (373, 1515915625441071616), (374, 1515915625464337920), (375, 1515915625442237696), (376, 1515915625477015040), (377, 1515915625444473088), (378, 1515915625442044928), (379, 1515915625460734720), (380, 1515915625457320960), (381, 1515915625484619264), (382, 1515915625484619520), (383, 1515915625484619776), (384, 1515915625450349056), (385, 1515915625441929984), (386, 1515915625441975040), (387, 1515915625481134336), (388, 1515915625445847808), (389, 1515915625495837696), (390, 1515915625451104512), (391, 1515915625443239680), (392, 1515915625459466496), (393, 1515915625482374912), (394, 1515915625484620032), (395, 1515915625485630464), (396, 1515915625504525824), (397, 1515915625451784192), (398, 1515915625464855552), (399, 1515915625452153856), (400, 1515915625452536576), (401, 1515915625451458304), (402, 1515915625441484800), (403, 1515915625467621632), (404, 1515915625448118784), (405, 1515915625454800128), (406, 1515915625456179456), (407, 1515915625442009088), (408, 1515915625458142720), (409, 1515915625441082368), (410, 1515915625442185728), (411, 1515915625441302528), (412, 1515915625465569536), (413, 1515915625466374912), (414, 1515915625462338560), (415, 1515915625446244608), (416, 1515915625449377024), (417, 1515915625465674496), (418, 1515915625452651008), (419, 1515915625441916672), (420, 1515915625441611520), (421, 1515915625452178688), (422, 1515915625458642176), (423, 1515915625460876544), (424, 1515915625442175488), (425, 1515915625475563776), (426, 1515915625448631808), (427, 1515915625441447168), (428, 1515915625458514432), (429, 1515915625484489216), (430, 1515915625449349888), (431, 1515915625474300672), (432, 1515915625456527872), (433, 1515915625459983872), (434, 1515915625440963584), (435, 1515915625444713216), (436, 1515915625448777216), (437, 1515915625441737472), (438, 1515915625452002304), (439, 1515915625472949504), (440, 1515915625484579328), (441, 1515915625445462528), (442, 1515915625442025728), (443, 1515915625467365120), (444, 1515915625441215488), (445, 1515915625482664960), (446, 1515915625461168640), (447, 1515915625484621824), (448, 1515915625484622336), (449, 1515915625459952384), (450, 1515915625484620800), (451, 1515915625460572416), (452, 1515915625484620544), (453, 1515915625484620288), (454, 1515915625484621312), (455, 1515915625462464000), (456, 1515915625484622080), (457, 1515915625441305344), (458, 1515915625484564480), (459, 1515915625484621056), (460, 1515915625484621568), (461, 1515915625465069568), (462, 1515915625455231744), (463, 1515915625448868864), (464, 1515915625450324480), (465, 1515915625442636800), (466, 1515915625458096128), (467, 1515915625454828288), (468, 1515915625450352640), (469, 1515915625466873344), (470, 1515915625445935104), (471, 1515915625464809984), (472, 1515915625441123072), (473, 1515915625447688448), (474, 1515915625459141888), (475, 1515915625440967168), (476, 1515915625441431808), (477, 1515915625456607232), (478, 1515915625444554240), (479, 1515915625455555840), (480, 1515915625463112960), (481, 1515915625455257600), (482, 1515915625464894976), (483, 1515915625498293248), (484, 1515915625459825664), (485, 1515915625442998784), (486, 1515915625451113728), (487, 1515915625445942784), (488, 1515915625476684800), (489, 1515915625470257152), (490, 1515915625459539200), (491, 1515915625442167808), (492, 1515915625458007808), (493, 1515915625444973568), (494, 1515915625444487424), (495, 1515915625441918208), (496, 1515915625441564928), (497, 1515915625478678528), (498, 1515915625460242944), (499, 1515915625448942080), (500, 1515915625484497664), (501, 1515915625444528128), (502, 1515915625480808704), (503, 1515915625449752064), (504, 1515915625442216448), (505, 1515915625441271552), (506, 1515915625474474752), (507, 1515915625443332352), (508, 1515915625456141824), (509, 1515915625447739136), (510, 1515915625444123392), (511, 1515915625461558528), (512, 1515915625453838080), (513, 1515915625440963840), (514, 1515915625443810304), (515, 1515915625441058304), (516, 1515915625441491456), (517, 1515915625482468608), (518, 1515915625452101120), (519, 1515915625458141952), (520, 1515915625440980224), (521, 1515915625460357120), (522, 1515915625456900096), (523, 1515915625448430080), (524, 1515915625482477312), (525, 1515915625466476288), (526, 1515915625450453760), (527, 1515915625443737344), (528, 1515915625467716096), (529, 1515915625493134848), (530, 1515915625440938240), (531, 1515915625484623360), (532, 1515915625484623104), (533, 1515915625484623616), (534, 1515915625482768640), (535, 1515915625484622592), (536, 1515915625467282176), (537, 1515915625484623872), (538, 1515915625512060672), (539, 1515915625484622848), (540, 1515915625467223808), (541, 1515915625443598336), (542, 1515915625461044736), (543, 1515915625441324288), (544, 1515915625453087232), (545, 1515915625460472832), (546, 1515915625452160768), (547, 1515915625446748672), (548, 1515915625455535104), (549, 1515915625471248128), (550, 1515915625451436544), (551, 1515915625452281600), (552, 1515915625448286720), (553, 1515915625462281216), (554, 1515915625449935104), (555, 1515915625443746048), (556, 1515915625448649984), (557, 1515915625469229312), (558, 1515915625450138880), (559, 1515915625453155072), (560, 1515915625461794560), (561, 1515915625445456640), (562, 1515915625442390016), (563, 1515915625443222272), (564, 1515915625456756480), (565, 1515915625455593216), (566, 1515915625452497920), (567, 1515915625471536896), (568, 1515915625485712640), (569, 1515915625474922240), (570, 1515915625472650496), (571, 1515915625441554688), (572, 1515915625444684800), (573, 1515915625442586880), (574, 1515915625449776384), (575, 1515915625443056128), (576, 1515915625442432000), (577, 1515915625460639744), (578, 1515915625441634048), (579, 1515915625460806912), (580, 1515915625462107392), (581, 1515915625446426624), (582, 1515915625479578112), (583, 1515915625463932672), (584, 1515915625460252672), (585, 1515915625452813056), (586, 1515915625441642240), (587, 1515915625458102784), (588, 1515915625480985600), (589, 1515915625444780544), (590, 1515915625466972928), (591, 1515915625475448832), (592, 1515915625478337792), (593, 1515915625448772608), (594, 1515915625471901184), (595, 1515915625441478400), (596, 1515915625441746688), (597, 1515915625498158080), (598, 1515915625441886976), (599, 1515915625454519808), (600, 1515915625448198400), (601, 1515915625442406912), (602, 1515915625448657408), (603, 1515915625462427648), (604, 1515915625486059520), (605, 1515915625441652224), (606, 1515915625454382848), (607, 1515915625442213120), (608, 1515915625446136320), (609, 1515915625441303552), (610, 1515915625464637440), (611, 1515915625449714176), (612, 1515915625441354240), (613, 1515915625453184000), (614, 1515915625462788608), (615, 1515915625444740096), (616, 1515915625472603904), (617, 1515915625471923200), (618, 1515915625442522368), (619, 1515915625475908864), (620, 1515915625444354304), (621, 1515915625467765504), (622, 1515915625459001600), (623, 1515915625448127744), (624, 1515915625441903872), (625, 1515915625474289920), (626, 1515915625441641728), (627, 1515915625442517760), (628, 1515915625462916608), (629, 1515915625497849344), (630, 1515915625482470912), (631, 1515915625511481856), (632, 1515915625446184960), (633, 1515915625478903552), (634, 1515915625512660480), (635, 1515915625441474048), (636, 1515915625460014592), (637, 1515915625448524544), (638, 1515915625442781440), (639, 1515915625442705920), (640, 1515915625479134976), (641, 1515915625497524736), (642, 1515915625459304192), (643, 1515915625466847232), (644, 1515915625443536128), (645, 1515915625443945728), (646, 1515915625442095360), (647, 1515915625469562624), (648, 1515915625469384704), (649, 1515915625457695232), (650, 1515915625453193472), (651, 1515915625498682368), (652, 1515915625457070592), (653, 1515915625442181888), (654, 1515915625462994176), (655, 1515915625476354560), (656, 1515915625464032256), (657, 1515915625476090880), (658, 1515915625448919296), (659, 1515915625480676352), (660, 1515915625444684544), (661, 1515915625443031040), (662, 1515915625443939584), (663, 1515915625441635584), (664, 1515915625448351232), (665, 1515915625458924032), (666, 1515915625456722176), (667, 1515915625449256704), (668, 1515915625441156096), (669, 1515915625469224448), (670, 1515915625498157824), (671, 1515915625450037248), (672, 1515915625484624128), (673, 1515915625480865280), (674, 1515915625442438912), (675, 1515915625449743872), (676, 1515915625484624384), (677, 1515915625475636736), (678, 1515915625449876992), (679, 1515915625445768704), (680, 1515915625480620032), (681, 1515915625475997952), (682, 1515915625469481472), (683, 1515915625443545600), (684, 1515915625445408768), (685, 1515915625443159552), (686, 1515915625451869184), (687, 1515915625448518400), (688, 1515915625454381312), (689, 1515915625450604288), (690, 1515915625445973248), (691, 1515915625478689024), (692, 1515915625448563968), (693, 1515915625454344704), (694, 1515915625471939840), (695, 1515915625441057536), (696, 1515915625469808128), (697, 1515915625453467136), (698, 1515915625475725824), (699, 1515915625443421440), (700, 1515915625457206016), (701, 1515915625441038592), (702, 1515915625441318144), (703, 1515915625461144576), (704, 1515915625441889536), (705, 1515915625456531200), (706, 1515915625441881856), (707, 1515915625458957824), (708, 1515915625475460096), (709, 1515915625442986752), (710, 1515915625442195456), (711, 1515915625453175296), (712, 1515915625447640320), (713, 1515915625469268992), (714, 1515915625441517824), (715, 1515915625484624640), (716, 1515915625441314816), (717, 1515915625462811904), (718, 1515915625483468544), (719, 1515915625447730432), (720, 1515915625466557952), (721, 1515915625442057472), (722, 1515915625471187712), (723, 1515915625484624896), (724, 1515915625511176192), (725, 1515915625464735232), (726, 1515915625447066880), (727, 1515915625472378112), (728, 1515915625471874560), (729, 1515915625449186560), (730, 1515915625441086976), (731, 1515915625441413632), (732, 1515915625482471168), (733, 1515915625441001472), (734, 1515915625442419968), (735, 1515915625459817472), (736, 1515915625445005312), (737, 1515915625441089536), (738, 1515915625442738688), (739, 1515915625450116352), (740, 1515915625482837760), (741, 1515915625440980736), (742, 1515915625442950912), (743, 1515915625444181760), (744, 1515915625479107328), (745, 1515915625453062400), (746, 1515915625443015424), (747, 1515915625461255424), (748, 1515915625448858880), (749, 1515915625449040384), (750, 1515915625476650496), (751, 1515915625484625152), (752, 1515915625444306688), (753, 1515915625443053312), (754, 1515915625443216128), (755, 1515915625441393664), (756, 1515915625452848128), (757, 1515915625444065280), (758, 1515915625456901632), (759, 1515915625449189632), (760, 1515915625458256384), (761, 1515915625442841600), (762, 1515915625481016832), (763, 1515915625440997632), (764, 1515915625456188672), (765, 1515915625450376704), (766, 1515915625442580480), (767, 1515915625481110016), (768, 1515915625442251776), (769, 1515915625441519360), (770, 1515915625444185856), (771, 1515915625443054848), (772, 1515915625444206848), (773, 1515915625465180928), (774, 1515915625445912576), (775, 1515915625443330304), (776, 1515915625440969472), (777, 1515915625504473856), (778, 1515915625445583104), (779, 1515915625459537664), (780, 1515915625484625664), (781, 1515915625484625920), (782, 1515915625484626432), (783, 1515915625467857920), (784, 1515915625484626176), (785, 1515915625484625408), (786, 1515915625511562496), (787, 1515915625457823744), (788, 1515915625441103872), (789, 1515915625441939712), (790, 1515915625484626688), (791, 1515915625457135104), (792, 1515915625443000064), (793, 1515915625453606144), (794, 1515915625442636544), (795, 1515915625441485312), (796, 1515915625464410624), (797, 1515915625448718848), (798, 1515915625513718528), (799, 1515915625496584704), (800, 1515915625441458176), (801, 1515915625464094208), (802, 1515915625463672576), (803, 1515915625441110784), (804, 1515915625444033792), (805, 1515915625446268416), (806, 1515915625467953664), (807, 1515915625441126400), (808, 1515915625462299648), (809, 1515915625467798272), (810, 1515915625462924032), (811, 1515915625462780672), (812, 1515915625448106240), (813, 1515915625444870656), (814, 1515915625443100672), (815, 1515915625455333120), (816, 1515915625455606272), (817, 1515915625473114368), (818, 1515915625441671936), (819, 1515915625452044800), (820, 1515915625443144448), (821, 1515915625474312960), (822, 1515915625469054720), (823, 1515915625482432512), (824, 1515915625457940480), (825, 1515915625454713088), (826, 1515915625471160832), (827, 1515915625443940864), (828, 1515915625442053632), (829, 1515915625441348352), (830, 1515915625460110336), (831, 1515915625443870464), (832, 1515915625450869760), (833, 1515915625441014016), (834, 1515915625469918464), (835, 1515915625441885952), (836, 1515915625482434048), (837, 1515915625444721664), (838, 1515915625476985344), (839, 1515915625475309312), (840, 1515915625473451264), (841, 1515915625482485248), (842, 1515915625442492160), (843, 1515915625458977792), (844, 1515915625441095936), (845, 1515915625479613696), (846, 1515915625443645440), (847, 1515915625460203264), (848, 1515915625484627712), (849, 1515915625449805056), (850, 1515915625444484864), (851, 1515915625484627456), (852, 1515915625484626944), (853, 1515915625460224000), (854, 1515915625467795968), (855, 1515915625484627200), (856, 1515915625450399488), (857, 1515915625478120960), (858, 1515915625469840896), (859, 1515915625441076992), (860, 1515915625441165568), (861, 1515915625441177856), (862, 1515915625476097280), (863, 1515915625456902400), (864, 1515915625478144000), (865, 1515915625463837952), (866, 1515915625441027072), (867, 1515915625498336000), (868, 1515915625467150592), (869, 1515915625461412352), (870, 1515915625441986304), (871, 1515915625469423872), (872, 1515915625441902592), (873, 1515915625445562368), (874, 1515915625446623744), (875, 1515915625475283712), (876, 1515915625444847360), (877, 1515915625473124352), (878, 1515915625471698432), (879, 1515915625442339584), (880, 1515915625481537280), (881, 1515915625511521792), (882, 1515915625459648512), (883, 1515915625458777344), (884, 1515915625482795008), (885, 1515915625471216896), (886, 1515915625464224512), (887, 1515915625459220224), (888, 1515915625470558976), (889, 1515915625443503872), (890, 1515915625458529792), (891, 1515915625448625408), (892, 1515915625469980416), (893, 1515915625445408256), (894, 1515915625441974528), (895, 1515915625474204416), (896, 1515915625464802816), (897, 1515915625443933440), (898, 1515915625450319872), (899, 1515915625443331840), (900, 1515915625441931776), (901, 1515915625445290240), (902, 1515915625483255040), (903, 1515915625512002560), (904, 1515915625499450112), (905, 1515915625463438080), (906, 1515915625440992512), (907, 1515915625465635584), (908, 1515915625445495808), (909, 1515915625449334784), (910, 1515915625441662464), (911, 1515915625441635072), (912, 1515915625482376960), (913, 1515915625441399552), (914, 1515915625452035584), (915, 1515915625463431424), (916, 1515915625461676800), (917, 1515915625454038016), (918, 1515915625441099776), (919, 1515915625471669760), (920, 1515915625441597696), (921, 1515915625443034624), (922, 1515915625466189312), (923, 1515915625479094784), (924, 1515915625463981568), (925, 1515915625440996096), (926, 1515915625460506112), (927, 1515915625494838528), (928, 1515915625451169536), (929, 1515915625441423360), (930, 1515915625512679936), (931, 1515915625472598784), (932, 1515915625451510272), (933, 1515915625481089536), (934, 1515915625443662080), (935, 1515915625441285376), (936, 1515915625441868032), (937, 1515915625445046784), (938, 1515915625443124736), (939, 1515915625449792512), (940, 1515915625453730560), (941, 1515915625512672512), (942, 1515915625442611456), (943, 1515915625448132608), (944, 1515915625441500928), (945, 1515915625473353216), (946, 1515915625475190016), (947, 1515915625449905408), (948, 1515915625454652928), (949, 1515915625484627968), (950, 1515915625447619328), (951, 1515915625460629760), (952, 1515915625446362368), (953, 1515915625457213696), (954, 1515915625445056256), (955, 1515915625498297088), (956, 1515915625465158912), (957, 1515915625453785344), (958, 1515915625442122752), (959, 1515915625442435328), (960, 1515915625459504128), (961, 1515915625463539456), (962, 1515915625444183552), (963, 1515915625448985344), (964, 1515915625455810304), (965, 1515915625481873664), (966, 1515915625492907008), (967, 1515915625460547584), (968, 1515915625449472768), (969, 1515915625463323904), (970, 1515915625441306624), (971, 1515915625484628224), (972, 1515915625455138816), (973, 1515915625466877440), (974, 1515915625460249856), (975, 1515915625451338240), (976, 1515915625484628480), (977, 1515915625458541056), (978, 1515915625445601280), (979, 1515915625456723200), (980, 1515915625453340416), (981, 1515915625456558336), (982, 1515915625441913856), (983, 1515915625455291392), (984, 1515915625448689408), (985, 1515915625446169088), (986, 1515915625446622720), (987, 1515915625450012672), (988, 1515915625453860352), (989, 1515915625479263488), (990, 1515915625449345280), (991, 1515915625472107008), (992, 1515915625443342080), (993, 1515915625447081728), (994, 1515915625441271808), (995, 1515915625479849984), (996, 1515915625459158016), (997, 1515915625442530304), (998, 1515915625442473216), (999, 1515915625464086784), (1000, 1515915625445684736), (1001, 1515915625448852736), (1002, 1515915625484628736), (1003, 1515915625441687040), (1004, 1515915625457941504), (1005, 1515915625482427392), (1006, 1515915625442627072), (1007, 1515915625441524480), (1008, 1515915625465539072), (1009, 1515915625463949056), (1010, 1515915625498378240), (1011, 1515915625446171648), (1012, 1515915625446739456), (1013, 1515915625458390784), (1014, 1515915625479307776), (1015, 1515915625445844224), (1016, 1515915625446242816), (1017, 1515915625463181568), (1018, 1515915625441951488), (1019, 1515915625473754368), (1020, 1515915625446451456), (1021, 1515915625457961216), (1022, 1515915625448643328), (1023, 1515915625450887936), (1024, 1515915625442047232), (1025, 1515915625471941120), (1026, 1515915625441359360), (1027, 1515915625456287232), (1028, 1515915625446230016), (1029, 1515915625471169024), (1030, 1515915625478808832), (1031, 1515915625444844544), (1032, 1515915625499067136), (1033, 1515915625484629504), (1034, 1515915625484628992), (1035, 1515915625480214016), (1036, 1515915625484629760), (1037, 1515915625441516800), (1038, 1515915625484629248), (1039, 1515915625469041408), (1040, 1515915625444319488), (1041, 1515915625451502336), (1042, 1515915625482303488), (1043, 1515915625481226240), (1044, 1515915625452134400), (1045, 1515915625464833024), (1046, 1515915625443314176), (1047, 1515915625453812480), (1048, 1515915625441112576), (1049, 1515915625481581568), (1050, 1515915625481404416), (1051, 1515915625441243136), (1052, 1515915625442707200), (1053, 1515915625494431744), (1054, 1515915625451495168), (1055, 1515915625469484032), (1056, 1515915625498811648), (1057, 1515915625481906432), (1058, 1515915625441957888), (1059, 1515915625449254400), (1060, 1515915625460405504), (1061, 1515915625442951168), (1062, 1515915625463449600), (1063, 1515915625468330240), (1064, 1515915625453711616), (1065, 1515915625513372160), (1066, 1515915625473492224), (1067, 1515915625442939648), (1068, 1515915625440989952), (1069, 1515915625457652224), (1070, 1515915625443697408), (1071, 1515915625452862208), (1072, 1515915625448281344), (1073, 1515915625464763136), (1074, 1515915625448291584), (1075, 1515915625445707520), (1076, 1515915625469417984), (1077, 1515915625461306880), (1078, 1515915625463449856), (1079, 1515915625484630272), (1080, 1515915625484630528), (1081, 1515915625441904640), (1082, 1515915625484630016), (1083, 1515915625484630784), (1084, 1515915625484631040), (1085, 1515915625452036608), (1086, 1515915625443738624), (1087, 1515915625443686912), (1088, 1515915625455683328), (1089, 1515915625457966848), (1090, 1515915625442094336), (1091, 1515915625448578816), (1092, 1515915625484631552), (1093, 1515915625455089152), (1094, 1515915625442515712), (1095, 1515915625441893120), (1096, 1515915625484631296), (1097, 1515915625457181696), (1098, 1515915625444862976), (1099, 1515915625452518144), (1100, 1515915625469499392), (1101, 1515915625463050752), (1102, 1515915625454709248), (1103, 1515915625444636416), (1104, 1515915625448145152), (1105, 1515915625453192704), (1106, 1515915625445382400), (1107, 1515915625484631808), (1108, 1515915625442311424), (1109, 1515915625469528320), (1110, 1515915625462411008), (1111, 1515915625461697792), (1112, 1515915625482433024), (1113, 1515915625443143680), (1114, 1515915625445772288), (1115, 1515915625442867456), (1116, 1515915625443118336), (1117, 1515915625448340992), (1118, 1515915625443508224), (1119, 1515915625476451840), (1120, 1515915625480820480), (1121, 1515915625462937600), (1122, 1515915625466140160), (1123, 1515915625499701504), (1124, 1515915625443355136), (1125, 1515915625445922816), (1126, 1515915625467678208), (1127, 1515915625469644032), (1128, 1515915625459033600), (1129, 1515915625456422912), (1130, 1515915625454530304), (1131, 1515915625448768512), (1132, 1515915625453137920), (1133, 1515915625443023872), (1134, 1515915625442530560), (1135, 1515915625451963392), (1136, 1515915625447808512), (1137, 1515915625451569408), (1138, 1515915625446726400), (1139, 1515915625451341568), (1140, 1515915625446977792), (1141, 1515915625482627584), (1142, 1515915625484633088), (1143, 1515915625484632576), (1144, 1515915625492622848), (1145, 1515915625484632320), (1146, 1515915625484633344), (1147, 1515915625441880320), (1148, 1515915625484632832), (1149, 1515915625484632064), (1150, 1515915625443670272), (1151, 1515915625461558784), (1152, 1515915625482522880), (1153, 1515915625467759104), (1154, 1515915625512360448), (1155, 1515915625450289408), (1156, 1515915625465614848), (1157, 1515915625447767040), (1158, 1515915625446203392), (1159, 1515915625444961536), (1160, 1515915625449347328), (1161, 1515915625449795584), (1162, 1515915625474830592), (1163, 1515915625446446080), (1164, 1515915625453161472), (1165, 1515915625443204608), (1166, 1515915625444408576), (1167, 1515915625440997376), (1168, 1515915625452715264), (1169, 1515915625460013056), (1170, 1515915625460227840), (1171, 1515915625441910784), (1172, 1515915625441686528), (1173, 1515915625473101824), (1174, 1515915625446695936), (1175, 1515915625448585472), (1176, 1515915625484633600), (1177, 1515915625447101696), (1178, 1515915625462974464), (1179, 1515915625467335680), (1180, 1515915625469204992), (1181, 1515915625477945856), (1182, 1515915625482437888), (1183, 1515915625459601920), (1184, 1515915625440991744), (1185, 1515915625441886720), (1186, 1515915625456927232), (1187, 1515915625442947072), (1188, 1515915625471772672), (1189, 1515915625478583808), (1190, 1515915625441097472), (1191, 1515915625448236032), (1192, 1515915625461964800), (1193, 1515915625457542144), (1194, 1515915625471634944), (1195, 1515915625441628416), (1196, 1515915625451777536), (1197, 1515915625473750272), (1198, 1515915625440945152), (1199, 1515915625453688320), (1200, 1515915625472998656), (1201, 1515915625441217280), (1202, 1515915625443975168), (1203, 1515915625464737024), (1204, 1515915625462033664), (1205, 1515915625461471488), (1206, 1515915625455185408), (1207, 1515915625455085568), (1208, 1515915625443311616), (1209, 1515915625469410560), (1210, 1515915625448136960), (1211, 1515915625452129024), (1212, 1515915625481210368), (1213, 1515915625455533824), (1214, 1515915625481530112), (1215, 1515915625473356544), (1216, 1515915625451457792), (1217, 1515915625455348992), (1218, 1515915625512443136), (1219, 1515915625483400960), (1220, 1515915625442234880), (1221, 1515915625443289344), (1222, 1515915625492423936), (1223, 1515915625447003648), (1224, 1515915625476934144), (1225, 1515915625449330944), (1226, 1515915625441667840), (1227, 1515915625513726464), (1228, 1515915625449274880), (1229, 1515915625458006784), (1230, 1515915625460407808), (1231, 1515915625470267904), (1232, 1515915625513345024), (1233, 1515915625450405888), (1234, 1515915625459034368), (1235, 1515915625452280320), (1236, 1515915625469009152), (1237, 1515915625445900288), (1238, 1515915625444914944), (1239, 1515915625470533632), (1240, 1515915625446101248), (1241, 1515915625453222144), (1242, 1515915625442830336), (1243, 1515915625452117248), (1244, 1515915625453108224), (1245, 1515915625444566272), (1246, 1515915625457417472), (1247, 1515915625442501888), (1248, 1515915625442961408), (1249, 1515915625441670656), (1250, 1515915625444242176), (1251, 1515915625459741952), (1252, 1515915625464465920), (1253, 1515915625441020672), (1254, 1515915625441862656), (1255, 1515915625448709888), (1256, 1515915625452150016), (1257, 1515915625443768576), (1258, 1515915625441410304), (1259, 1515915625445639936), (1260, 1515915625512676096), (1261, 1515915625469605376), (1262, 1515915625441904896), (1263, 1515915625463343360), (1264, 1515915625453287680), (1265, 1515915625460184064), (1266, 1515915625503963136), (1267, 1515915625441351680), (1268, 1515915625446547968), (1269, 1515915625450142720), (1270, 1515915625443919360), (1271, 1515915625464935936), (1272, 1515915625444527616), (1273, 1515915625444740608), (1274, 1515915625513383168), (1275, 1515915625465679104), (1276, 1515915625461933312), (1277, 1515915625442487296), (1278, 1515915625445067264), (1279, 1515915625463369216), (1280, 1515915625443189760), (1281, 1515915625443829760), (1282, 1515915625456340736), (1283, 1515915625484633856), (1284, 1515915625481079552), (1285, 1515915625465611264), (1286, 1515915625465976320), (1287, 1515915625442838016), (1288, 1515915625463300608), (1289, 1515915625444994560), (1290, 1515915625443658496), (1291, 1515915625454927360), (1292, 1515915625462829824), (1293, 1515915625443605760), (1294, 1515915625448210176), (1295, 1515915625446718976), (1296, 1515915625441001984), (1297, 1515915625452372224), (1298, 1515915625476041728), (1299, 1515915625482937088), (1300, 1515915625451611904), (1301, 1515915625461382912), (1302, 1515915625441391872), (1303, 1515915625443012864), (1304, 1515915625452534272), (1305, 1515915625484634112), (1306, 1515915625484634368), (1307, 1515915625476090624), (1308, 1515915625450498816), (1309, 1515915625460364544), (1310, 1515915625441491968), (1311, 1515915625452302848), (1312, 1515915625441585664), (1313, 1515915625444325376), (1314, 1515915625512674304), (1315, 1515915625460476160), (1316, 1515915625442974208), (1317, 1515915625479382016), (1318, 1515915625455053312), (1319, 1515915625443086336), (1320, 1515915625513717504), (1321, 1515915625441000192), (1322, 1515915625443699200), (1323, 1515915625465329408), (1324, 1515915625453560832), (1325, 1515915625482423552), (1326, 1515915625458003456), (1327, 1515915625483857152), (1328, 1515915625472298240), (1329, 1515915625446031104), (1330, 1515915625470564864), (1331, 1515915625456675328), (1332, 1515915625498754048), (1333, 1515915625453709568), (1334, 1515915625484404480), (1335, 1515915625471084288), (1336, 1515915625458056192), (1337, 1515915625453845760), (1338, 1515915625466361344), (1339, 1515915625484636160), (1340, 1515915625484636928), (1341, 1515915625484635392), (1342, 1515915625484635648), (1343, 1515915625442777600), (1344, 1515915625484636416), (1345, 1515915625484634624), (1346, 1515915625484634880), (1347, 1515915625484635136), (1348, 1515915625484635904), (1349, 1515915625459230464), (1350, 1515915625484636672), (1351, 1515915625482429440), (1352, 1515915625450726400), (1353, 1515915625512659200), (1354, 1515915625512967936), (1355, 1515915625448620032), (1356, 1515915625454552320), (1357, 1515915625442617856), (1358, 1515915625451411200), (1359, 1515915625441893632), (1360, 1515915625444522240), (1361, 1515915625448220416), (1362, 1515915625451097344), (1363, 1515915625463355136), (1364, 1515915625445422848), (1365, 1515915625480415744), (1366, 1515915625443523072), (1367, 1515915625457946368), (1368, 1515915625441072896), (1369, 1515915625484042752), (1370, 1515915625465780736), (1371, 1515915625471552256), (1372, 1515915625452708864), (1373, 1515915625469668096), (1374, 1515915625463240704), (1375, 1515915625454641152), (1376, 1515915625442152704), (1377, 1515915625442365184), (1378, 1515915625456364544), (1379, 1515915625450497280), (1380, 1515915625444838400), (1381, 1515915625478931712), (1382, 1515915625441307904), (1383, 1515915625482443008), (1384, 1515915625512659712), (1385, 1515915625450565120), (1386, 1515915625454923008), (1387, 1515915625442265088), (1388, 1515915625453048064), (1389, 1515915625464848128), (1390, 1515915625440994816), (1391, 1515915625478298880), (1392, 1515915625497052416), (1393, 1515915625441053952), (1394, 1515915625453398016), (1395, 1515915625449185536), (1396, 1515915625480092160), (1397, 1515915625467206144), (1398, 1515915625462859776), (1399, 1515915625455874816), (1400, 1515915625446043392), (1401, 1515915625444399360), (1402, 1515915625441488384), (1403, 1515915625484637952), (1404, 1515915625442960128), (1405, 1515915625484637696), (1406, 1515915625484638208), (1407, 1515915625484637184), (1408, 1515915625441887232), (1409, 1515915625484638464), (1410, 1515915625442440192), (1411, 1515915625448196864), (1412, 1515915625473205760), (1413, 1515915625484637440), (1414, 1515915625444130304), (1415, 1515915625457731328), (1416, 1515915625449400832), (1417, 1515915625476700160), (1418, 1515915625448139008), (1419, 1515915625465970688), (1420, 1515915625467685120), (1421, 1515915625441317376), (1422, 1515915625452109312), (1423, 1515915625441288704), (1424, 1515915625513724160), (1425, 1515915625513724928), (1426, 1515915625443860480), (1427, 1515915625452711168), (1428, 1515915625444230144), (1429, 1515915625512678912), (1430, 1515915625443171072), (1431, 1515915625473378560), (1432, 1515915625441436672), (1433, 1515915625482425600), (1434, 1515915625450346240), (1435, 1515915625445894400), (1436, 1515915625442737408), (1437, 1515915625442978816), (1438, 1515915625472612864), (1439, 1515915625464801024), (1440, 1515915625451738624), (1441, 1515915625441917440), (1442, 1515915625451600896), (1443, 1515915625482209792), (1444, 1515915625443023104), (1445, 1515915625448284160), (1446, 1515915625441290496), (1447, 1515915625477870848), (1448, 1515915625473215488), (1449, 1515915625448328960), (1450, 1515915625450329856), (1451, 1515915625446576896), (1452, 1515915625447080192), (1453, 1515915625447768320), (1454, 1515915625451454208), (1455, 1515915625441292800), (1456, 1515915625472934144), (1457, 1515915625443191808), (1458, 1515915625455558144), (1459, 1515915625461966336), (1460, 1515915625481214464), (1461, 1515915625448386048), (1462, 1515915625452318464), (1463, 1515915625450940160), (1464, 1515915625451283456), (1465, 1515915625444098048), (1466, 1515915625452106752), (1467, 1515915625466622976), (1468, 1515915625455897856), (1469, 1515915625462804736), (1470, 1515915625475392512), (1471, 1515915625461305600), (1472, 1515915625452671232), (1473, 1515915625460831232), (1474, 1515915625446007808), (1475, 1515915625443829504), (1476, 1515915625443303680), (1477, 1515915625470797824), (1478, 1515915625482984192), (1479, 1515915625445708544), (1480, 1515915625441645312), (1481, 1515915625458752512), (1482, 1515915625446624000), (1483, 1515915625443143424), (1484, 1515915625441033728), (1485, 1515915625460372224), (1486, 1515915625444382720), (1487, 1515915625441914368), (1488, 1515915625440938752), (1489, 1515915625446400256), (1490, 1515915625440941312), (1491, 1515915625484607232), (1492, 1515915625460419584), (1493, 1515915625462959360), (1494, 1515915625441576960), (1495, 1515915625462804992), (1496, 1515915625448317184), (1497, 1515915625474620928), (1498, 1515915625441894400), (1499, 1515915625460571904), (1500, 1515915625442614784), (1501, 1515915625463341824), (1502, 1515915625442166272), (1503, 1515915625442584576), (1504, 1515915625445392128), (1505, 1515915625469680640), (1506, 1515915625441103360), (1507, 1515915625477681152), (1508, 1515915625455784960), (1509, 1515915625454555392), (1510, 1515915625457743104), (1511, 1515915625453552384), (1512, 1515915625484638720), (1513, 1515915625455725568), (1514, 1515915625441293568), (1515, 1515915625441275392), (1516, 1515915625484638976), (1517, 1515915625442083328), (1518, 1515915625469192192), (1519, 1515915625474292992), (1520, 1515915625462978560), (1521, 1515915625479847680), (1522, 1515915625455047680), (1523, 1515915625448299264), (1524, 1515915625441663744), (1525, 1515915625451985664), (1526, 1515915625441029632), (1527, 1515915625455401984), (1528, 1515915625473931776), (1529, 1515915625462900736), (1530, 1515915625473853440), (1531, 1515915625465070848), (1532, 1515915625442641408), (1533, 1515915625444160768), (1534, 1515915625444200448), (1535, 1515915625479725568), (1536, 1515915625441008640), (1537, 1515915625453096704), (1538, 1515915625441985792), (1539, 1515915625462938368), (1540, 1515915625441666304), (1541, 1515915625484639232), (1542, 1515915625484639488), (1543, 1515915625441882112), (1544, 1515915625461022464), (1545, 1515915625453043200), (1546, 1515915625479305728), (1547, 1515915625443586560), (1548, 1515915625455091968), (1549, 1515915625477330432), (1550, 1515915625448075776), (1551, 1515915625453426176), (1552, 1515915625449990656), (1553, 1515915625458470656), (1554, 1515915625442496000), (1555, 1515915625477268224), (1556, 1515915625468304384), (1557, 1515915625513717760), (1558, 1515915625442123776), (1559, 1515915625443580672), (1560, 1515915625464697344), (1561, 1515915625455814144), (1562, 1515915625467011328), (1563, 1515915625441446912), (1564, 1515915625443076096), (1565, 1515915625441310976), (1566, 1515915625469890816), (1567, 1515915625452125696), (1568, 1515915625513723392), (1569, 1515915625484639744), (1570, 1515915625484640768), (1571, 1515915625444162048), (1572, 1515915625447110144), (1573, 1515915625445042176), (1574, 1515915625484640000), (1575, 1515915625484640512), (1576, 1515915625465574144), (1577, 1515915625443186688), (1578, 1515915625452523520), (1579, 1515915625484640256), (1580, 1515915625445453568), (1581, 1515915625443201024), (1582, 1515915625443031808), (1583, 1515915625451614720), (1584, 1515915625443635968), (1585, 1515915625456110592), (1586, 1515915625443164928), (1587, 1515915625452137984), (1588, 1515915625449270784), (1589, 1515915625441036544), (1590, 1515915625441430528), (1591, 1515915625468687104), (1592, 1515915625443849216), (1593, 1515915625443117056), (1594, 1515915625512659456), (1595, 1515915625441269504), (1596, 1515915625445870080), (1597, 1515915625471921408), (1598, 1515915625441559552), (1599, 1515915625451199488), (1600, 1515915625441654016), (1601, 1515915625443058432), (1602, 1515915625460529152), (1603, 1515915625442782208), (1604, 1515915625452700928), (1605, 1515915625473934336), (1606, 1515915625446205440), (1607, 1515915625468040960), (1608, 1515915625466811904), (1609, 1515915625468845056), (1610, 1515915625441424640), (1611, 1515915625463335936), (1612, 1515915625446076160), (1613, 1515915625465803520), (1614, 1515915625450246144), (1615, 1515915625444406016), (1616, 1515915625460205568), (1617, 1515915625465238272), (1618, 1515915625484642048), (1619, 1515915625484641792), (1620, 1515915625446122496), (1621, 1515915625461761280), (1622, 1515915625443553024), (1623, 1515915625484642816), (1624, 1515915625444215808), (1625, 1515915625452635904), (1626, 1515915625484641280), (1627, 1515915625484641024), (1628, 1515915625461309440), (1629, 1515915625468671488), (1630, 1515915625484642560), (1631, 1515915625484642304), (1632, 1515915625504447744), (1633, 1515915625440941568), (1634, 1515915625443167488), (1635, 1515915625484641536), (1636, 1515915625460245760), (1637, 1515915625461378560), (1638, 1515915625443594752), (1639, 1515915625445856000), (1640, 1515915625460496640), (1641, 1515915625441944576), (1642, 1515915625452538880), (1643, 1515915625442988800), (1644, 1515915625464328192), (1645, 1515915625445331968), (1646, 1515915625459399168), (1647, 1515915625454603776), (1648, 1515915625445521920), (1649, 1515915625458558976), (1650, 1515915625444283392), (1651, 1515915625443001344), (1652, 1515915625440976384), (1653, 1515915625445134080), (1654, 1515915625477143040), (1655, 1515915625457971968), (1656, 1515915625465758976), (1657, 1515915625443142656), (1658, 1515915625441432832), (1659, 1515915625445750016), (1660, 1515915625482521600), (1661, 1515915625450936576), (1662, 1515915625443529216), (1663, 1515915625441004544), (1664, 1515915625462911744), (1665, 1515915625461320960), (1666, 1515915625481131776), (1667, 1515915625498675712), (1668, 1515915625441871104), (1669, 1515915625480515840), (1670, 1515915625441031936), (1671, 1515915625449858048), (1672, 1515915625451482880), (1673, 1515915625475589888), (1674, 1515915625468370688), (1675, 1515915625512671744), (1676, 1515915625441612544), (1677, 1515915625459645952), (1678, 1515915625462386944), (1679, 1515915625504258816), (1680, 1515915625442139136), (1681, 1515915625473630720), (1682, 1515915625441556224), (1683, 1515915625458716160), (1684, 1515915625442522112), (1685, 1515915625461909504), (1686, 1515915625484643328), (1687, 1515915625479316992), (1688, 1515915625484643072), (1689, 1515915625484643584), (1690, 1515915625484643840), (1691, 1515915625456146688), (1692, 1515915625464039680), (1693, 1515915625482557952), (1694, 1515915625455795456), (1695, 1515915625441575680), (1696, 1515915625482356992), (1697, 1515915625460959232), (1698, 1515915625452330752), (1699, 1515915625467187456), (1700, 1515915625460055040), (1701, 1515915625462799616), (1702, 1515915625458544896), (1703, 1515915625441080064), (1704, 1515915625443701760), (1705, 1515915625496291584), (1706, 1515915625443650560), (1707, 1515915625441961728), (1708, 1515915625443663616), (1709, 1515915625444234752), (1710, 1515915625442586112), (1711, 1515915625455197696), (1712, 1515915625460863488), (1713, 1515915625473350400), (1714, 1515915625471545344), (1715, 1515915625441089792), (1716, 1515915625441341952), (1717, 1515915625441296640), (1718, 1515915625462909696), (1719, 1515915625441005312), (1720, 1515915625445780736), (1721, 1515915625460632576), (1722, 1515915625473099520), (1723, 1515915625463975424), (1724, 1515915625441882368), (1725, 1515915625445899520), (1726, 1515915625446992128), (1727, 1515915625441057792), (1728, 1515915625455307776), (1729, 1515915625451998464), (1730, 1515915625465542144), (1731, 1515915625462996224), (1732, 1515915625442104064), (1733, 1515915625469828608), (1734, 1515915625442465024), (1735, 1515915625457980672), (1736, 1515915625446338304), (1737, 1515915625453955072), (1738, 1515915625441051648), (1739, 1515915625442042112), (1740, 1515915625452141312), (1741, 1515915625444692736), (1742, 1515915625442045696), (1743, 1515915625467032576), (1744, 1515915625455595776), (1745, 1515915625447630080), (1746, 1515915625449402880), (1747, 1515915625474731776), (1748, 1515915625442996480), (1749, 1515915625492855552), (1750, 1515915625459603968), (1751, 1515915625469108736), (1752, 1515915625450387456), (1753, 1515915625467376384), (1754, 1515915625467339008), (1755, 1515915625443320320), (1756, 1515915625464168192), (1757, 1515915625441114880), (1758, 1515915625454658048), (1759, 1515915625444173824), (1760, 1515915625441928192), (1761, 1515915625473601792), (1762, 1515915625448289536), (1763, 1515915625482003968), (1764, 1515915625443044096), (1765, 1515915625443678208), (1766, 1515915625513724416), (1767, 1515915625473401600), (1768, 1515915625457621760), (1769, 1515915625441359872), (1770, 1515915625449774592), (1771, 1515915625454247936), (1772, 1515915625474679808), (1773, 1515915625443527680), (1774, 1515915625443784960), (1775, 1515915625482422528), (1776, 1515915625452195840), (1777, 1515915625454770176), (1778, 1515915625442662144), (1779, 1515915625457737216), (1780, 1515915625441311488), (1781, 1515915625452784384), (1782, 1515915625441704192), (1783, 1515915625455609088), (1784, 1515915625478788864), (1785, 1515915625461965568), (1786, 1515915625454659840), (1787, 1515915625470375680), (1788, 1515915625442414592), (1789, 1515915625452016896), (1790, 1515915625440938496), (1791, 1515915625480150016), (1792, 1515915625450562560), (1793, 1515915625458942464), (1794, 1515915625484644352), (1795, 1515915625442975488), (1796, 1515915625484644096), (1797, 1515915625458260992), (1798, 1515915625452535808), (1799, 1515915625449200384), (1800, 1515915625444239104), (1801, 1515915625459722496), (1802, 1515915625460188416), (1803, 1515915625462519552), (1804, 1515915625441906688), (1805, 1515915625445650432), (1806, 1515915625447072000), (1807, 1515915625484425728), (1808, 1515915625441290752), (1809, 1515915625444239360), (1810, 1515915625461942784), (1811, 1515915625444280320), (1812, 1515915625451475968), (1813, 1515915625476337664), (1814, 1515915625493163008), (1815, 1515915625461862912), (1816, 1515915625442651648), (1817, 1515915625443918592), (1818, 1515915625484644864), (1819, 1515915625484644608), (1820, 1515915625467737600), (1821, 1515915625467208192), (1822, 1515915625468006656), (1823, 1515915625473872384), (1824, 1515915625484645120), (1825, 1515915625458271232), (1826, 1515915625462570240), (1827, 1515915625444192768), (1828, 1515915625459693056), (1829, 1515915625451094528), (1830, 1515915625447642368), (1831, 1515915625441910016), (1832, 1515915625473096960), (1833, 1515915625464814336), (1834, 1515915625463368960), (1835, 1515915625479326976), (1836, 1515915625453598208), (1837, 1515915625462945024), (1838, 1515915625441708288), (1839, 1515915625449821952), (1840, 1515915625458941440), (1841, 1515915625472046848), (1842, 1515915625458817280), (1843, 1515915625513721088), (1844, 1515915625446423296), (1845, 1515915625465736192), (1846, 1515915625463128320), (1847, 1515915625484397056), (1848, 1515915625484645632), (1849, 1515915625484645376), (1850, 1515915625484646400), (1851, 1515915625484646912), (1852, 1515915625466418688), (1853, 1515915625484646144), (1854, 1515915625484645888), (1855, 1515915625443306240), (1856, 1515915625449745664), (1857, 1515915625474912256), (1858, 1515915625466364160), (1859, 1515915625496021248), (1860, 1515915625466024192), (1861, 1515915625468725760), (1862, 1515915625440943360), (1863, 1515915625446597888), (1864, 1515915625461964544), (1865, 1515915625449975040), (1866, 1515915625442213632), (1867, 1515915625464902144), (1868, 1515915625449607680), (1869, 1515915625444551424), (1870, 1515915625482807296), (1871, 1515915625484646656), (1872, 1515915625493048576), (1873, 1515915625442041088), (1874, 1515915625475868928), (1875, 1515915625452120320), (1876, 1515915625483138304), (1877, 1515915625444589568), (1878, 1515915625464000000), (1879, 1515915625460115968), (1880, 1515915625453728256), (1881, 1515915625452052480), (1882, 1515915625445702656), (1883, 1515915625443550464), (1884, 1515915625494809856), (1885, 1515915625460973568), (1886, 1515915625441530112), (1887, 1515915625463060992), (1888, 1515915625464376064), (1889, 1515915625444117760), (1890, 1515915625448406016), (1891, 1515915625456452352), (1892, 1515915625445051392), (1893, 1515915625446455552), (1894, 1515915625452115968), (1895, 1515915625449944320), (1896, 1515915625473096704), (1897, 1515915625486168320), (1898, 1515915625464301056), (1899, 1515915625493377024), (1900, 1515915625462494976), (1901, 1515915625448853504), (1902, 1515915625480583424), (1903, 1515915625443011072), (1904, 1515915625472522752), (1905, 1515915625448379904), (1906, 1515915625460637440), (1907, 1515915625481574912), (1908, 1515915625441443584), (1909, 1515915625452534016), (1910, 1515915625448066304), (1911, 1515915625477354496), (1912, 1515915625446584064), (1913, 1515915625441887488), (1914, 1515915625441506304), (1915, 1515915625442718464), (1916, 1515915625442417408), (1917, 1515915625484383232), (1918, 1515915625455002880), (1919, 1515915625444872448), (1920, 1515915625467845632), (1921, 1515915625464626688), (1922, 1515915625454846976), (1923, 1515915625482748672), (1924, 1515915625456684032), (1925, 1515915625446161664), (1926, 1515915625484464896), (1927, 1515915625452968960), (1928, 1515915625470100736), (1929, 1515915625462133248), (1930, 1515915625452707072), (1931, 1515915625447042304), (1932, 1515915625440994560), (1933, 1515915625475812608), (1934, 1515915625484647168), (1935, 1515915625484647424), (1936, 1515915625446068992), (1937, 1515915625475572480), (1938, 1515915625484647680), (1939, 1515915625480532480), (1940, 1515915625440957952), (1941, 1515915625451590144), (1942, 1515915625484648704), (1943, 1515915625454305280), (1944, 1515915625484648192), (1945, 1515915625484648960), (1946, 1515915625444667904), (1947, 1515915625443002112), (1948, 1515915625484647936), (1949, 1515915625443834368), (1950, 1515915625484648448), (1951, 1515915625457217792), (1952, 1515915625468645888), (1953, 1515915625463496448), (1954, 1515915625467983616), (1955, 1515915625455086080), (1956, 1515915625481706752), (1957, 1515915625481092352), (1958, 1515915625453229824), (1959, 1515915625442726912), (1960, 1515915625441144064), (1961, 1515915625441427456), (1962, 1515915625441360640), (1963, 1515915625441974784), (1964, 1515915625484029696), (1965, 1515915625452239360), (1966, 1515915625445465088), (1967, 1515915625441761280), (1968, 1515915625444995328), (1969, 1515915625447626240), (1970, 1515915625474561024), (1971, 1515915625450597376), (1972, 1515915625466300672), (1973, 1515915625443256320), (1974, 1515915625465333248), (1975, 1515915625465966080), (1976, 1515915625458790400), (1977, 1515915625462564864), (1978, 1515915625498322432), (1979, 1515915625443057152), (1980, 1515915625445495296), (1981, 1515915625444702208), (1982, 1515915625482935040), (1983, 1515915625445892096), (1984, 1515915625461454336), (1985, 1515915625441390080), (1986, 1515915625446558208), (1987, 1515915625446461696), (1988, 1515915625480973824), (1989, 1515915625484650240), (1990, 1515915625484649216), (1991, 1515915625442972416), (1992, 1515915625462922240), (1993, 1515915625441515520), (1994, 1515915625442547200), (1995, 1515915625443133952), (1996, 1515915625445547776), (1997, 1515915625484649472), (1998, 1515915625442659584), (1999, 1515915625484649728), (2000, 1515915625470556928), (2001, 1515915625467766784), (2002, 1515915625441107200), (2003, 1515915625484649984), (2004, 1515915625464844288), (2005, 1515915625441228032), (2006, 1515915625481023232), (2007, 1515915625455303680), (2008, 1515915625462554880), (2009, 1515915625446757632), (2010, 1515915625441699072), (2011, 1515915625457842176), (2012, 1515915625483587584), (2013, 1515915625441623296), (2014, 1515915625440998656), (2015, 1515915625444370944), (2016, 1515915625454844160), (2017, 1515915625447038208), (2018, 1515915625474131200), (2019, 1515915625469525504), (2020, 1515915625444453376), (2021, 1515915625457990912), (2022, 1515915625458170368), (2023, 1515915625460210176), (2024, 1515915625454647808), (2025, 1515915625441888000), (2026, 1515915625466776576), (2027, 1515915625444796672), (2028, 1515915625442640896), (2029, 1515915625442406656), (2030, 1515915625473360384), (2031, 1515915625444149248), (2032, 1515915625473448192), (2033, 1515915625442658048), (2034, 1515915625441721600), (2035, 1515915625483264256), (2036, 1515915625453841664), (2037, 1515915625466864640), (2038, 1515915625464285696), (2039, 1515915625477646848), (2040, 1515915625481220352), (2041, 1515915625468057600), (2042, 1515915625458120448), (2043, 1515915625442391552), (2044, 1515915625484490240), (2045, 1515915625441048064), (2046, 1515915625441430016), (2047, 1515915625452238592), (2048, 1515915625450803712), (2049, 1515915625445931264), (2050, 1515915625441311232), (2051, 1515915625440959488), (2052, 1515915625475375872), (2053, 1515915625498177792), (2054, 1515915625468960000), (2055, 1515915625441956608), (2056, 1515915625460230400), (2057, 1515915625441116416), (2058, 1515915625467141888), (2059, 1515915625513718272), (2060, 1515915625441107456), (2061, 1515915625441088256), (2062, 1515915625449424640), (2063, 1515915625474501888), (2064, 1515915625482530304), (2065, 1515915625461695744), (2066, 1515915625459761408), (2067, 1515915625462503168), (2068, 1515915625442692352), (2069, 1515915625442827776), (2070, 1515915625441986048), (2071, 1515915625451483904), (2072, 1515915625512658944), (2073, 1515915625442381824), (2074, 1515915625448642816), (2075, 1515915625441169408), (2076, 1515915625466157824), (2077, 1515915625441654784), (2078, 1515915625449574400), (2079, 1515915625440936704), (2080, 1515915625441002240), (2081, 1515915625447605504), (2082, 1515915625481572864), (2083, 1515915625444111104), (2084, 1515915625466719232), (2085, 1515915625445311232), (2086, 1515915625478714880), (2087, 1515915625456568064), (2088, 1515915625441869568), (2089, 1515915625447994368), (2090, 1515915625482438400), (2091, 1515915625484650496), (2092, 1515915625446433280), (2093, 1515915625443656960), (2094, 1515915625441427968), (2095, 1515915625442124800), (2096, 1515915625456697344), (2097, 1515915625442210816), (2098, 1515915625449890048), (2099, 1515915625442802176), (2100, 1515915625482417920), (2101, 1515915625461448192), (2102, 1515915625476706048), (2103, 1515915625455682048), (2104, 1515915625441608704), (2105, 1515915625465229312), (2106, 1515915625468662784), (2107, 1515915625467248640), (2108, 1515915625484650752), (2109, 1515915625464841984), (2110, 1515915625445583616), (2111, 1515915625463812608), (2112, 1515915625470594304), (2113, 1515915625442096896), (2114, 1515915625474929664), (2115, 1515915625469196544), (2116, 1515915625469492224), (2117, 1515915625447808000), (2118, 1515915625475296000), (2119, 1515915625441779712), (2120, 1515915625445317376), (2121, 1515915625460219136), (2122, 1515915625441206784), (2123, 1515915625441668096), (2124, 1515915625461672960), (2125, 1515915625467268352), (2126, 1515915625482313216), (2127, 1515915625452549120), (2128, 1515915625473590272), (2129, 1515915625482756352), (2130, 1515915625441606912), (2131, 1515915625441908224), (2132, 1515915625453992192), (2133, 1515915625484651776), (2134, 1515915625484651008), (2135, 1515915625484651264), (2136, 1515915625484651520), (2137, 1515915625442748928), (2138, 1515915625484652032), (2139, 1515915625484652288), (2140, 1515915625446102528), (2141, 1515915625443539712), (2142, 1515915625449979392), (2143, 1515915625442420992), (2144, 1515915625441353472), (2145, 1515915625492084992), (2146, 1515915625444290560), (2147, 1515915625477141760), (2148, 1515915625512660224), (2149, 1515915625459493888), (2150, 1515915625449761792), (2151, 1515915625483333888), (2152, 1515915625472248832), (2153, 1515915625445558784), (2154, 1515915625442505472), (2155, 1515915625446041344), (2156, 1515915625447838720), (2157, 1515915625458500352), (2158, 1515915625481131520), (2159, 1515915625441705472), (2160, 1515915625442752256), (2161, 1515915625441036800), (2162, 1515915625443016704), (2163, 1515915625456315136), (2164, 1515915625483448064), (2165, 1515915625450287872), (2166, 1515915625452066560), (2167, 1515915625443770880), (2168, 1515915625446579456), (2169, 1515915625463928576), (2170, 1515915625472513536), (2171, 1515915625443030784), (2172, 1515915625473647616), (2173, 1515915625484652544), (2174, 1515915625484653568), (2175, 1515915625484653824), (2176, 1515915625484652800), (2177, 1515915625449153024), (2178, 1515915625484653056), (2179, 1515915625461819392), (2180, 1515915625484653312), (2181, 1515915625446406144), (2182, 1515915625453694208), (2183, 1515915625474397440), (2184, 1515915625445181952), (2185, 1515915625482547712), (2186, 1515915625453545472), (2187, 1515915625462255104), (2188, 1515915625443171584), (2189, 1515915625468389632), (2190, 1515915625467241728), (2191, 1515915625460140544), (2192, 1515915625456670208), (2193, 1515915625485969920), (2194, 1515915625454125312), (2195, 1515915625462280960), (2196, 1515915625443600896), (2197, 1515915625446995200), (2198, 1515915625477131520), (2199, 1515915625448275200), (2200, 1515915625465949696), (2201, 1515915625465942272), (2202, 1515915625441420800), (2203, 1515915625442124544), (2204, 1515915625451118080), (2205, 1515915625463907584), (2206, 1515915625466145792), (2207, 1515915625443717120), (2208, 1515915625440979456), (2209, 1515915625446026240), (2210, 1515915625443155968), (2211, 1515915625449806592), (2212, 1515915625442506240), (2213, 1515915625449198080), (2214, 1515915625466372352), (2215, 1515915625441517056), (2216, 1515915625469842432), (2217, 1515915625442190336), (2218, 1515915625452246784), (2219, 1515915625449374720), (2220, 1515915625446964480), (2221, 1515915625443106560), (2222, 1515915625459556352), (2223, 1515915625455239936), (2224, 1515915625459557376), (2225, 1515915625468298752), (2226, 1515915625441096448), (2227, 1515915625441464832), (2228, 1515915625442375936), (2229, 1515915625466419200), (2230, 1515915625454056960), (2231, 1515915625466796544), (2232, 1515915625497252352), (2233, 1515915625443816704), (2234, 1515915625448649728), (2235, 1515915625452140288), (2236, 1515915625443205632), (2237, 1515915625443115264), (2238, 1515915625468554752), (2239, 1515915625457655296), (2240, 1515915625482585600), (2241, 1515915625458046976), (2242, 1515915625512669184), (2243, 1515915625443517184), (2244, 1515915625468987392), (2245, 1515915625484654080), (2246, 1515915625470615040), (2247, 1515915625445550080), (2248, 1515915625449520640), (2249, 1515915625473440256), (2250, 1515915625453271552), (2251, 1515915625448460288), (2252, 1515915625451693312), (2253, 1515915625443344128), (2254, 1515915625451020032), (2255, 1515915625458048000), (2256, 1515915625446165248), (2257, 1515915625440946688), (2258, 1515915625495988992), (2259, 1515915625459765504), (2260, 1515915625463752448), (2261, 1515915625466741760), (2262, 1515915625449247744), (2263, 1515915625473059584), (2264, 1515915625453357056), (2265, 1515915625457546240), (2266, 1515915625461587200), (2267, 1515915625482421248), (2268, 1515915625484654336), (2269, 1515915625461518592), (2270, 1515915625441001728), (2271, 1515915625473966080), (2272, 1515915625444393984), (2273, 1515915625453049344), (2274, 1515915625443302912), (2275, 1515915625447010048), (2276, 1515915625456644864), (2277, 1515915625451963904), (2278, 1515915625445350144), (2279, 1515915625477961216), (2280, 1515915625444322816), (2281, 1515915625441042944), (2282, 1515915625473347584), (2283, 1515915625440937216), (2284, 1515915625441053440), (2285, 1515915625466015232), (2286, 1515915625474648064), (2287, 1515915625452688640), (2288, 1515915625460395008), (2289, 1515915625481369344), (2290, 1515915625455181312), (2291, 1515915625484654592), (2292, 1515915625475410432), (2293, 1515915625441340672), (2294, 1515915625447854592), (2295, 1515915625443678976), (2296, 1515915625455724288), (2297, 1515915625484654848), (2298, 1515915625478082304), (2299, 1515915625513719296), (2300, 1515915625484655616), (2301, 1515915625465503744), (2302, 1515915625463081728), (2303, 1515915625511776768), (2304, 1515915625484655104), (2305, 1515915625484655360), (2306, 1515915625476320000), (2307, 1515915625442959104), (2308, 1515915625441794816), (2309, 1515915625453104384), (2310, 1515915625498198016), (2311, 1515915625441308928), (2312, 1515915625452576768), (2313, 1515915625474805248), (2314, 1515915625497575936), (2315, 1515915625447053312), (2316, 1515915625456353792), (2317, 1515915625457397504), (2318, 1515915625441012992), (2319, 1515915625485940480), (2320, 1515915625441930240), (2321, 1515915625441533184), (2322, 1515915625450030080), (2323, 1515915625453609984), (2324, 1515915625442259968), (2325, 1515915625448713728), (2326, 1515915625462817536), (2327, 1515915625475414784), (2328, 1515915625441149952), (2329, 1515915625448123904), (2330, 1515915625484243968), (2331, 1515915625463867136), (2332, 1515915625441532416), (2333, 1515915625512926464), (2334, 1515915625462200576), (2335, 1515915625447705856), (2336, 1515915625441664256), (2337, 1515915625484657408), (2338, 1515915625484656896), (2339, 1515915625451086592), (2340, 1515915625484655872), (2341, 1515915625454713600), (2342, 1515915625484656128), (2343, 1515915625512376576), (2344, 1515915625484656384), (2345, 1515915625484657664), (2346, 1515915625484656640), (2347, 1515915625484657152), (2348, 1515915625465735168), (2349, 1515915625450531328), (2350, 1515915625442452736), (2351, 1515915625441111296), (2352, 1515915625481907200), (2353, 1515915625444788224), (2354, 1515915625454127104), (2355, 1515915625443591936), (2356, 1515915625465804288), (2357, 1515915625442969344), (2358, 1515915625443108608), (2359, 1515915625445491968), (2360, 1515915625449863168), (2361, 1515915625457945344), (2362, 1515915625477868032), (2363, 1515915625441059072), (2364, 1515915625481957120), (2365, 1515915625472557056), (2366, 1515915625442871296), (2367, 1515915625444857600), (2368, 1515915625441298944), (2369, 1515915625443288832), (2370, 1515915625465552128), (2371, 1515915625441504256), (2372, 1515915625443595776), (2373, 1515915625461870592), (2374, 1515915625441021440), (2375, 1515915625442222592), (2376, 1515915625443058944), (2377, 1515915625459990528), (2378, 1515915625459002368), (2379, 1515915625443209472), (2380, 1515915625482650880), (2381, 1515915625444480000), (2382, 1515915625442776576), (2383, 1515915625480267520), (2384, 1515915625481556224), (2385, 1515915625453880320), (2386, 1515915625462151680), (2387, 1515915625450822656), (2388, 1515915625441695488), (2389, 1515915625449974784), (2390, 1515915625512671232), (2391, 1515915625484658944), (2392, 1515915625484658688), (2393, 1515915625484658176), (2394, 1515915625442616832), (2395, 1515915625441281792), (2396, 1515915625484659200), (2397, 1515915625442292736), (2398, 1515915625484659456), (2399, 1515915625441273088), (2400, 1515915625454697984), (2401, 1515915625484657920), (2402, 1515915625455081472), (2403, 1515915625484658432), (2404, 1515915625452166400), (2405, 1515915625452373248), (2406, 1515915625484659712), (2407, 1515915625466177792), (2408, 1515915625449804544), (2409, 1515915625462352640), (2410, 1515915625445045504), (2411, 1515915625445111296), (2412, 1515915625458482176), (2413, 1515915625460303616), (2414, 1515915625441469952), (2415, 1515915625458922240), (2416, 1515915625454570240), (2417, 1515915625445108224), (2418, 1515915625513720576), (2419, 1515915625447094016), (2420, 1515915625482518016), (2421, 1515915625448881408), (2422, 1515915625449904384), (2423, 1515915625458173184), (2424, 1515915625446494208), (2425, 1515915625446733568), (2426, 1515915625460192000), (2427, 1515915625443182080), (2428, 1515915625449459200), (2429, 1515915625496931840), (2430, 1515915625470200064), (2431, 1515915625447718656), (2432, 1515915625463297280), (2433, 1515915625449168640), (2434, 1515915625441878528), (2435, 1515915625448653568), (2436, 1515915625482552576), (2437, 1515915625448419072), (2438, 1515915625446372096), (2439, 1515915625449430272), (2440, 1515915625458590976), (2441, 1515915625497056512), (2442, 1515915625443568896), (2443, 1515915625441658112), (2444, 1515915625453038592), (2445, 1515915625512161536), (2446, 1515915625446066432), (2447, 1515915625450385920), (2448, 1515915625452745472), (2449, 1515915625473735424), (2450, 1515915625453819136), (2451, 1515915625458247680), (2452, 1515915625446802432), (2453, 1515915625444144384), (2454, 1515915625448256512), (2455, 1515915625442102784), (2456, 1515915625484659968), (2457, 1515915625464777216), (2458, 1515915625458861568), (2459, 1515915625478813952), (2460, 1515915625475436800), (2461, 1515915625441310208), (2462, 1515915625443677440), (2463, 1515915625457098240), (2464, 1515915625481030912), (2465, 1515915625445508352), (2466, 1515915625441327872), (2467, 1515915625466343168), (2468, 1515915625446592000), (2469, 1515915625452244224), (2470, 1515915625450086656), (2471, 1515915625478252288), (2472, 1515915625443594496), (2473, 1515915625484660224), (2474, 1515915625484660480), (2475, 1515915625473527552), (2476, 1515915625467723520), (2477, 1515915625446201856), (2478, 1515915625458504960), (2479, 1515915625495051008), (2480, 1515915625482559232), (2481, 1515915625442721024), (2482, 1515915625480291328), (2483, 1515915625457836800), (2484, 1515915625481083904), (2485, 1515915625470695936), (2486, 1515915625483266304), (2487, 1515915625441428480), (2488, 1515915625446487808), (2489, 1515915625441149440), (2490, 1515915625449223168), (2491, 1515915625484660992), (2492, 1515915625452503040), (2493, 1515915625459205120), (2494, 1515915625484660736), (2495, 1515915625448810240), (2496, 1515915625482453504), (2497, 1515915625441005568), (2498, 1515915625443498496), (2499, 1515915625441866752), (2500, 1515915625484661248), (2501, 1515915625441913344), (2502, 1515915625457545728), (2503, 1515915625451091712), (2504, 1515915625448978944), (2505, 1515915625483837184), (2506, 1515915625465830912), (2507, 1515915625458032128), (2508, 1515915625446077440), (2509, 1515915625466724608), (2510, 1515915625444768768), (2511, 1515915625444749056), (2512, 1515915625442432768), (2513, 1515915625441970688), (2514, 1515915625442000384), (2515, 1515915625497861888), (2516, 1515915625448039680), (2517, 1515915625443108352), (2518, 1515915625469956352), (2519, 1515915625512649728), (2520, 1515915625483008000), (2521, 1515915625478108928), (2522, 1515915625457026560), (2523, 1515915625484661504), (2524, 1515915625484662272), (2525, 1515915625484662016), (2526, 1515915625484662528), (2527, 1515915625449714688), (2528, 1515915625484661760), (2529, 1515915625442163200), (2530, 1515915625444197376), (2531, 1515915625449933056), (2532, 1515915625443539968), (2533, 1515915625458579456), (2534, 1515915625458687232), (2535, 1515915625446981632), (2536, 1515915625453685504), (2537, 1515915625441020416), (2538, 1515915625447605248), (2539, 1515915625478336512), (2540, 1515915625443333120), (2541, 1515915625444262656), (2542, 1515915625468605440), (2543, 1515915625442220032), (2544, 1515915625453179136), (2545, 1515915625474236160), (2546, 1515915625445878528), (2547, 1515915625481540608), (2548, 1515915625442632960), (2549, 1515915625512507648), (2550, 1515915625482837248), (2551, 1515915625467250176), (2552, 1515915625441102336), (2553, 1515915625467232256), (2554, 1515915625448612864), (2555, 1515915625441172224), (2556, 1515915625483123968), (2557, 1515915625448180224), (2558, 1515915625441470464), (2559, 1515915625484226048), (2560, 1515915625458295552), (2561, 1515915625446525696), (2562, 1515915625443452672), (2563, 1515915625462131456), (2564, 1515915625484663808), (2565, 1515915625484665088), (2566, 1515915625484664832), (2567, 1515915625484664320), (2568, 1515915625484663040), (2569, 1515915625484663552), (2570, 1515915625484664064), (2571, 1515915625484662784), (2572, 1515915625484663296), (2573, 1515915625484665344), (2574, 1515915625444076288), (2575, 1515915625484664576), (2576, 1515915625463819776), (2577, 1515915625454626048), (2578, 1515915625451099904), (2579, 1515915625462848000), (2580, 1515915625448651264), (2581, 1515915625442839808), (2582, 1515915625441049600), (2583, 1515915625463429376), (2584, 1515915625444677888), (2585, 1515915625461302272), (2586, 1515915625441391104), (2587, 1515915625484665600), (2588, 1515915625448974336), (2589, 1515915625444703232), (2590, 1515915625441332224), (2591, 1515915625480657920), (2592, 1515915625448046592), (2593, 1515915625442441984), (2594, 1515915625461579008), (2595, 1515915625446899712), (2596, 1515915625458756096), (2597, 1515915625441658880), (2598, 1515915625453820928), (2599, 1515915625441583104), (2600, 1515915625458950912), (2601, 1515915625441376000), (2602, 1515915625452135424), (2603, 1515915625450643968), (2604, 1515915625441444352), (2605, 1515915625444788480), (2606, 1515915625480625920), (2607, 1515915625481459968), (2608, 1515915625449199360), (2609, 1515915625449197824), (2610, 1515915625442934016), (2611, 1515915625443158784), (2612, 1515915625441134336), (2613, 1515915625462793472), (2614, 1515915625441470208), (2615, 1515915625448044288), (2616, 1515915625513725440), (2617, 1515915625442513920), (2618, 1515915625479644672), (2619, 1515915625442929408), (2620, 1515915625486708992), (2621, 1515915625447640064), (2622, 1515915625477285120), (2623, 1515915625455974400), (2624, 1515915625448844288), (2625, 1515915625484060416), (2626, 1515915625441017088), (2627, 1515915625454573824), (2628, 1515915625443387648), (2629, 1515915625458763264), (2630, 1515915625454852096), (2631, 1515915625484667136), (2632, 1515915625484666112), (2633, 1515915625471412736), (2634, 1515915625484666624), (2635, 1515915625484666368), (2636, 1515915625484667392), (2637, 1515915625484666880), (2638, 1515915625484667648), (2639, 1515915625484668160), (2640, 1515915625441329408), (2641, 1515915625484667904), (2642, 1515915625454235648), (2643, 1515915625443637504), (2644, 1515915625441962240), (2645, 1515915625457408512), (2646, 1515915625441547264), (2647, 1515915625447656704), (2648, 1515915625484665856), (2649, 1515915625446422272), (2650, 1515915625457651200), (2651, 1515915625484668416), (2652, 1515915625451830272), (2653, 1515915625455875840), (2654, 1515915625440953344), (2655, 1515915625481040896), (2656, 1515915625462597632), (2657, 1515915625452145664), (2658, 1515915625442272768), (2659, 1515915625441874176), (2660, 1515915625464935680), (2661, 1515915625469070848), (2662, 1515915625462864640), (2663, 1515915625443686144), (2664, 1515915625445302528), (2665, 1515915625467103232), (2666, 1515915625509239808), (2667, 1515915625454883840), (2668, 1515915625452165376), (2669, 1515915625443735040), (2670, 1515915625445525248), (2671, 1515915625514396928), (2672, 1515915625441863936), (2673, 1515915625472522496), (2674, 1515915625441384448), (2675, 1515915625454793728), (2676, 1515915625441034752), (2677, 1515915625464215808), (2678, 1515915625480066048), (2679, 1515915625445381120), (2680, 1515915625462840064), (2681, 1515915625496279552), (2682, 1515915625443211776), (2683, 1515915625453840128), (2684, 1515915625447114240), (2685, 1515915625455847680), (2686, 1515915625462056448), (2687, 1515915625472322048), (2688, 1515915625440970240), (2689, 1515915625441735424), (2690, 1515915625484668928), (2691, 1515915625512662784), (2692, 1515915625484668672), (2693, 1515915625448568064), (2694, 1515915625441422592), (2695, 1515915625470342144), (2696, 1515915625447031296), (2697, 1515915625449728000), (2698, 1515915625441268480), (2699, 1515915625445933312), (2700, 1515915625460203520), (2701, 1515915625443003904), (2702, 1515915625446204416), (2703, 1515915625461229824), (2704, 1515915625455213824), (2705, 1515915625459406592), (2706, 1515915625483556096), (2707, 1515915625441114624), (2708, 1515915625462565632), (2709, 1515915625441534464), (2710, 1515915625457665280), (2711, 1515915625451548160), (2712, 1515915625441866496), (2713, 1515915625460995840), (2714, 1515915625448197632), (2715, 1515915625450982144), (2716, 1515915625464262912), (2717, 1515915625475708672), (2718, 1515915625442686208), (2719, 1515915625472185344), (2720, 1515915625482187008), (2721, 1515915625455664384), (2722, 1515915625444184320), (2723, 1515915625441462784), (2724, 1515915625482442240), (2725, 1515915625469162240), (2726, 1515915625459459072), (2727, 1515915625456237056), (2728, 1515915625445609728), (2729, 1515915625482500608), (2730, 1515915625475246592), (2731, 1515915625441308160), (2732, 1515915625461154304), (2733, 1515915625445682944), (2734, 1515915625452072192), (2735, 1515915625463843328), (2736, 1515915625465995264), (2737, 1515915625455105280), (2738, 1515915625451974400), (2739, 1515915625464182016), (2740, 1515915625446909440), (2741, 1515915625448464896), (2742, 1515915625448877568), (2743, 1515915625440981760), (2744, 1515915625442065152), (2745, 1515915625442284800), (2746, 1515915625457697024), (2747, 1515915625443398912), (2748, 1515915625512442880), (2749, 1515915625443103744), (2750, 1515915625482893568), (2751, 1515915625450094336), (2752, 1515915625462914304), (2753, 1515915625441302784), (2754, 1515915625441302016), (2755, 1515915625444432384), (2756, 1515915625450113280), (2757, 1515915625467203584), (2758, 1515915625444477184), (2759, 1515915625447012864), (2760, 1515915625458723840), (2761, 1515915625448982016), (2762, 1515915625447660032), (2763, 1515915625456183296), (2764, 1515915625467200000), (2765, 1515915625441619712), (2766, 1515915625470278912), (2767, 1515915625451073536), (2768, 1515915625474108416), (2769, 1515915625450702592), (2770, 1515915625513740288), (2771, 1515915625455064576), (2772, 1515915625441625344), (2773, 1515915625469876736), (2774, 1515915625441499136), (2775, 1515915625458081792), (2776, 1515915625468822016), (2777, 1515915625441858048), (2778, 1515915625471381248), (2779, 1515915625460433408), (2780, 1515915625466526208), (2781, 1515915625444428800), (2782, 1515915625462599424), (2783, 1515915625441532928), (2784, 1515915625456194048), (2785, 1515915625512674048), (2786, 1515915625442671360), (2787, 1515915625484669184), (2788, 1515915625443723264), (2789, 1515915625460201216), (2790, 1515915625465508864), (2791, 1515915625441300480), (2792, 1515915625484480512), (2793, 1515915625445910272), (2794, 1515915625459094272), (2795, 1515915625479664640), (2796, 1515915625481100032), (2797, 1515915625478600448), (2798, 1515915625473867776), (2799, 1515915625452152576), (2800, 1515915625441716992), (2801, 1515915625449218304), (2802, 1515915625442360064), (2803, 1515915625441345536), (2804, 1515915625484669440), (2805, 1515915625448094464), (2806, 1515915625461615360), (2807, 1515915625471556864), (2808, 1515915625441905408), (2809, 1515915625445870592), (2810, 1515915625474835200), (2811, 1515915625484669696), (2812, 1515915625449215232), (2813, 1515915625455752448), (2814, 1515915625441279232), (2815, 1515915625440936960), (2816, 1515915625446939392), (2817, 1515915625449173504), (2818, 1515915625460506880), (2819, 1515915625460457472), (2820, 1515915625443937536), (2821, 1515915625479195136), (2822, 1515915625455963904), (2823, 1515915625469908992), (2824, 1515915625440996352), (2825, 1515915625456892160), (2826, 1515915625465066496), (2827, 1515915625448156928), (2828, 1515915625455847168), (2829, 1515915625478587904), (2830, 1515915625441648640), (2831, 1515915625484670208), (2832, 1515915625475119616), (2833, 1515915625484669952), (2834, 1515915625484670720), (2835, 1515915625484670464), (2836, 1515915625448590592), (2837, 1515915625481161728), (2838, 1515915625459074560), (2839, 1515915625492023296), (2840, 1515915625444193792), (2841, 1515915625447008000), (2842, 1515915625440940288), (2843, 1515915625443021568), (2844, 1515915625442477056), (2845, 1515915625484670976), (2846, 1515915625465624320), (2847, 1515915625450664704), (2848, 1515915625450033920), (2849, 1515915625446104832), (2850, 1515915625466209536), (2851, 1515915625455249408), (2852, 1515915625457725696), (2853, 1515915625441981952), (2854, 1515915625443941120), (2855, 1515915625482418944), (2856, 1515915625477466880), (2857, 1515915625446955264), (2858, 1515915625445048576), (2859, 1515915625442177792), (2860, 1515915625444188928), (2861, 1515915625443235072), (2862, 1515915625450052352), (2863, 1515915625443703808), (2864, 1515915625453056768), (2865, 1515915625441030144), (2866, 1515915625445703936), (2867, 1515915625442956544), (2868, 1515915625441577728), (2869, 1515915625456471808), (2870, 1515915625452131072), (2871, 1515915625442184448), (2872, 1515915625450931968), (2873, 1515915625448407808), (2874, 1515915625484671488), (2875, 1515915625441379072), (2876, 1515915625484671232), (2877, 1515915625484672512), (2878, 1515915625484672256), (2879, 1515915625484672000), (2880, 1515915625484671744), (2881, 1515915625445292544), (2882, 1515915625441033984), (2883, 1515915625459638528), (2884, 1515915625440960768), (2885, 1515915625460172544), (2886, 1515915625475817984), (2887, 1515915625512672256), (2888, 1515915625441839104), (2889, 1515915625442412544), (2890, 1515915625461311488), (2891, 1515915625481504000), (2892, 1515915625452574976), (2893, 1515915625460204544), (2894, 1515915625445643008), (2895, 1515915625459537408), (2896, 1515915625481124608), (2897, 1515915625446868992), (2898, 1515915625472936192), (2899, 1515915625513718784), (2900, 1515915625479505152), (2901, 1515915625463474944), (2902, 1515915625456806144), (2903, 1515915625450839296), (2904, 1515915625460175360), (2905, 1515915625448412928), (2906, 1515915625445744640), (2907, 1515915625446005760), (2908, 1515915625464929792), (2909, 1515915625450381824), (2910, 1515915625469403648), (2911, 1515915625445917952), (2912, 1515915625444850944), (2913, 1515915625465147648), (2914, 1515915625452092672), (2915, 1515915625465791744), (2916, 1515915625442644992), (2917, 1515915625461093888), (2918, 1515915625440939520), (2919, 1515915625443013888), (2920, 1515915625486008064), (2921, 1515915625476936192), (2922, 1515915625513577472), (2923, 1515915625442648576), (2924, 1515915625445872128), (2925, 1515915625447065088), (2926, 1515915625443853824), (2927, 1515915625449856512), (2928, 1515915625444405504), (2929, 1515915625443283712), (2930, 1515915625448064000), (2931, 1515915625447614208), (2932, 1515915625450714880), (2933, 1515915625469405440), (2934, 1515915625443753984), (2935, 1515915625442489856), (2936, 1515915625484672768), (2937, 1515915625465963776), (2938, 1515915625442163456), (2939, 1515915625462927872), (2940, 1515915625453540608), (2941, 1515915625442481664), (2942, 1515915625443935488), (2943, 1515915625446740736), (2944, 1515915625441920000), (2945, 1515915625447049472), (2946, 1515915625441441536), (2947, 1515915625442976000), (2948, 1515915625477284352), (2949, 1515915625462403584), (2950, 1515915625493181184), (2951, 1515915625451500288), (2952, 1515915625441621248), (2953, 1515915625472611584), (2954, 1515915625446839296), (2955, 1515915625443352832), (2956, 1515915625484221696), (2957, 1515915625448065280), (2958, 1515915625484673536), (2959, 1515915625492158464), (2960, 1515915625492156416), (2961, 1515915625484673024), (2962, 1515915625481235200), (2963, 1515915625481724160), (2964, 1515915625470536192), (2965, 1515915625446960384), (2966, 1515915625484673280), (2967, 1515915625451898112), (2968, 1515915625449346304), (2969, 1515915625441903616), (2970, 1515915625484673792), (2971, 1515915625462521088), (2972, 1515915625467175424), (2973, 1515915625447628032), (2974, 1515915625464709888), (2975, 1515915625441726976), (2976, 1515915625450861568), (2977, 1515915625514600704), (2978, 1515915625451491840), (2979, 1515915625481555200), (2980, 1515915625441489152), (2981, 1515915625458821632), (2982, 1515915625444216576), (2983, 1515915625479268352), (2984, 1515915625443255040), (2985, 1515915625451773184), (2986, 1515915625461829632), (2987, 1515915625441521152), (2988, 1515915625466363648), (2989, 1515915625454241792), (2990, 1515915625443011328), (2991, 1515915625445888768), (2992, 1515915625474242816), (2993, 1515915625444374528), (2994, 1515915625484674048), (2995, 1515915625454902016), (2996, 1515915625460221952), (2997, 1515915625441509376), (2998, 1515915625455237632), (2999, 1515915625441952256), (3000, 1515915625465042944), (3001, 1515915625468992512), (3002, 1515915625441673728), (3003, 1515915625480079616), (3004, 1515915625471630080), (3005, 1515915625446449920), (3006, 1515915625466764544), (3007, 1515915625444126464), (3008, 1515915625441056512), (3009, 1515915625449920000), (3010, 1515915625482492160), (3011, 1515915625452733952), (3012, 1515915625442429184), (3013, 1515915625464836608), (3014, 1515915625442054144), (3015, 1515915625461349376), (3016, 1515915625484674304), (3017, 1515915625484674816), (3018, 1515915625484674560), (3019, 1515915625458732544), (3020, 1515915625443003392), (3021, 1515915625459749376), (3022, 1515915625464956160), (3023, 1515915625476200192), (3024, 1515915625441705216), (3025, 1515915625476286720), (3026, 1515915625464709632), (3027, 1515915625441929472), (3028, 1515915625449402368), (3029, 1515915625448169984), (3030, 1515915625448164352), (3031, 1515915625442183936), (3032, 1515915625443476992), (3033, 1515915625473782272), (3034, 1515915625484051456), (3035, 1515915625443631872), (3036, 1515915625444161792), (3037, 1515915625441683200), (3038, 1515915625441032448), (3039, 1515915625443010560), (3040, 1515915625442270976), (3041, 1515915625448963072), (3042, 1515915625440973312), (3043, 1515915625452104704), (3044, 1515915625448766464), (3045, 1515915625441026560), (3046, 1515915625472838400), (3047, 1515915625442468352), (3048, 1515915625484676096), (3049, 1515915625443030528), (3050, 1515915625484675840), (3051, 1515915625484675584), (3052, 1515915625484676352), (3053, 1515915625484675072), (3054, 1515915625466975488), (3055, 1515915625453561856), (3056, 1515915625446938624), (3057, 1515915625443301376), (3058, 1515915625446699520), (3059, 1515915625441328640), (3060, 1515915625460571392), (3061, 1515915625484675328), (3062, 1515915625449399296), (3063, 1515915625482372608), (3064, 1515915625476912640), (3065, 1515915625442852096), (3066, 1515915625442275840), (3067, 1515915625457861120), (3068, 1515915625441538304), (3069, 1515915625443023616), (3070, 1515915625442089984), (3071, 1515915625445786880), (3072, 1515915625467770368), (3073, 1515915625441010688), (3074, 1515915625441651456), (3075, 1515915625455650304), (3076, 1515915625443874304), (3077, 1515915625441062400), (3078, 1515915625447000320), (3079, 1515915625446428416), (3080, 1515915625451249408), (3081, 1515915625458738688), (3082, 1515915625443358208), (3083, 1515915625483774464), (3084, 1515915625444241664), (3085, 1515915625445702400), (3086, 1515915625444167168), (3087, 1515915625443781120), (3088, 1515915625476362752), (3089, 1515915625446157056), (3090, 1515915625482619136), (3091, 1515915625452255744), (3092, 1515915625456144128), (3093, 1515915625467233536), (3094, 1515915625447644928), (3095, 1515915625473446912), (3096, 1515915625441536768), (3097, 1515915625476400640), (3098, 1515915625476718848), (3099, 1515915625441025536), (3100, 1515915625470299136), (3101, 1515915625492160512), (3102, 1515915625444232448), (3103, 1515915625441267456), (3104, 1515915625484676608), (3105, 1515915625441539840), (3106, 1515915625441351168), (3107, 1515915625460876032), (3108, 1515915625470524160), (3109, 1515915625448105984), (3110, 1515915625449736192), (3111, 1515915625441604352), (3112, 1515915625458900992), (3113, 1515915625472041728), (3114, 1515915625441465856), (3115, 1515915625441076224), (3116, 1515915625441086208), (3117, 1515915625456858880), (3118, 1515915625443427584), (3119, 1515915625484677376), (3120, 1515915625460500224), (3121, 1515915625442402816), (3122, 1515915625484677120), (3123, 1515915625463352320), (3124, 1515915625484676864), (3125, 1515915625469945344), (3126, 1515915625498672896), (3127, 1515915625459224576), (3128, 1515915625459633152), (3129, 1515915625444846848), (3130, 1515915625441264896), (3131, 1515915625443100928), (3132, 1515915625444501248), (3133, 1515915625453638144), (3134, 1515915625480341760), (3135, 1515915625466450688), (3136, 1515915625456760320), (3137, 1515915625463527424), (3138, 1515915625452946688), (3139, 1515915625462360064), (3140, 1515915625446999296), (3141, 1515915625456086272), (3142, 1515915625448927232), (3143, 1515915625467555072), (3144, 1515915625441185280), (3145, 1515915625444872960), (3146, 1515915625476649216), (3147, 1515915625441898240), (3148, 1515915625442106880), (3149, 1515915625443817728), (3150, 1515915625484677632), (3151, 1515915625441434368), (3152, 1515915625441039872), (3153, 1515915625485583104), (3154, 1515915625445929472), (3155, 1515915625466778368), (3156, 1515915625442563328), (3157, 1515915625443980800), (3158, 1515915625442614528), (3159, 1515915625510944768), (3160, 1515915625482020352), (3161, 1515915625443176704), (3162, 1515915625467368192), (3163, 1515915625458059264), (3164, 1515915625444782848), (3165, 1515915625475328000), (3166, 1515915625463129088), (3167, 1515915625441512448), (3168, 1515915625441690880), (3169, 1515915625444479488), (3170, 1515915625486794240), (3171, 1515915625441038080), (3172, 1515915625454773248), (3173, 1515915625441547776), (3174, 1515915625441467392), (3175, 1515915625462991360), (3176, 1515915625445645824), (3177, 1515915625462952704), (3178, 1515915625440952320), (3179, 1515915625441009408), (3180, 1515915625464038400), (3181, 1515915625512382464), (3182, 1515915625445468160), (3183, 1515915625496903168), (3184, 1515915625482442496), (3185, 1515915625441068288), (3186, 1515915625464925696), (3187, 1515915625492135680), (3188, 1515915625443181824), (3189, 1515915625444287232), (3190, 1515915625495427328), (3191, 1515915625444140032), (3192, 1515915625459478784), (3193, 1515915625449224960), (3194, 1515915625441838592), (3195, 1515915625443509504), (3196, 1515915625441017344), (3197, 1515915625483827200), (3198, 1515915625474261248), (3199, 1515915625453122816), (3200, 1515915625459175680), (3201, 1515915625481103360), (3202, 1515915625468708864), (3203, 1515915625443049728), (3204, 1515915625445316096), (3205, 1515915625451242752), (3206, 1515915625445862400), (3207, 1515915625479154432), (3208, 1515915625473195776), (3209, 1515915625466876160), (3210, 1515915625450364160), (3211, 1515915625484677888), (3212, 1515915625492163328), (3213, 1515915625441389312), (3214, 1515915625441734656), (3215, 1515915625452749312), (3216, 1515915625456187648), (3217, 1515915625441532160), (3218, 1515915625441378816), (3219, 1515915625441168384), (3220, 1515915625458920448), (3221, 1515915625442747136), (3222, 1515915625492161792), (3223, 1515915625444310272), (3224, 1515915625448588032), (3225, 1515915625492277760), (3226, 1515915625484678144), (3227, 1515915625458136064), (3228, 1515915625440969728), (3229, 1515915625442190848), (3230, 1515915625460573184), (3231, 1515915625492158208), (3232, 1515915625486711808), (3233, 1515915625457591808), (3234, 1515915625467311872), (3235, 1515915625443092992), (3236, 1515915625454853120), (3237, 1515915625479476992), (3238, 1515915625449515264), (3239, 1515915625450981120), (3240, 1515915625452292352), (3241, 1515915625474266624), (3242, 1515915625443280384), (3243, 1515915625460691712), (3244, 1515915625460189696), (3245, 1515915625442924800), (3246, 1515915625454339840), (3247, 1515915625484678400), (3248, 1515915625480893440), (3249, 1515915625447825664), (3250, 1515915625492160768), (3251, 1515915625493414400), (3252, 1515915625446976512), (3253, 1515915625513716480), (3254, 1515915625466543104), (3255, 1515915625442467072), (3256, 1515915625444805376), (3257, 1515915625442961664), (3258, 1515915625478639104), (3259, 1515915625498716928), (3260, 1515915625471776256), (3261, 1515915625445370624), (3262, 1515915625481576448), (3263, 1515915625463460608), (3264, 1515915625482726912), (3265, 1515915625442049792), (3266, 1515915625451489280), (3267, 1515915625459072512), (3268, 1515915625459533312), (3269, 1515915625443667968), (3270, 1515915625460664064), (3271, 1515915625443172352), (3272, 1515915625445959168), (3273, 1515915625441473536), (3274, 1515915625443590400), (3275, 1515915625484122880), (3276, 1515915625441702400), (3277, 1515915625442122496), (3278, 1515915625446119424), (3279, 1515915625457686016), (3280, 1515915625440949760), (3281, 1515915625458696960), (3282, 1515915625440985344), (3283, 1515915625444395520), (3284, 1515915625463116800), (3285, 1515915625446910208), (3286, 1515915625469062400), (3287, 1515915625476913408), (3288, 1515915625452069632), (3289, 1515915625484678656), (3290, 1515915625445133568), (3291, 1515915625484678912), (3292, 1515915625449026560), (3293, 1515915625441990912), (3294, 1515915625440957440), (3295, 1515915625441381120), (3296, 1515915625512318720), (3297, 1515915625442647808), (3298, 1515915625441355264), (3299, 1515915625451093248), (3300, 1515915625465038592), (3301, 1515915625450909184), (3302, 1515915625442263296), (3303, 1515915625444812288), (3304, 1515915625465886464), (3305, 1515915625441725184), (3306, 1515915625441302272), (3307, 1515915625484679168), (3308, 1515915625486574336), (3309, 1515915625514169344), (3310, 1515915625451179776), (3311, 1515915625456084480), (3312, 1515915625462934272), (3313, 1515915625481299456), (3314, 1515915625448445952), (3315, 1515915625450448384), (3316, 1515915625448006400), (3317, 1515915625461886208), (3318, 1515915625442438656), (3319, 1515915625443731456), (3320, 1515915625513815296), (3321, 1515915625468575232), (3322, 1515915625446417408), (3323, 1515915625458571776), (3324, 1515915625469399296), (3325, 1515915625470451968), (3326, 1515915625441845760), (3327, 1515915625449552384), (3328, 1515915625444339456), (3329, 1515915625445688320), (3330, 1515915625442770944), (3331, 1515915625484679424), (3332, 1515915625444380928), (3333, 1515915625441182464), (3334, 1515915625441074944), (3335, 1515915625441996800), (3336, 1515915625457932544), (3337, 1515915625456401408), (3338, 1515915625450630912), (3339, 1515915625446454272), (3340, 1515915625497860096), (3341, 1515915625499413504), (3342, 1515915625445269504), (3343, 1515915625453052672), (3344, 1515915625484679680), (3345, 1515915625445686016), (3346, 1515915625482522624), (3347, 1515915625447784704), (3348, 1515915625456282112), (3349, 1515915625475862528), (3350, 1515915625441439232), (3351, 1515915625442543616), (3352, 1515915625441536000), (3353, 1515915625454561024), (3354, 1515915625442034688), (3355, 1515915625443177984), (3356, 1515915625454665216), (3357, 1515915625441495040), (3358, 1515915625447633152), (3359, 1515915625484679936), (3360, 1515915625456849408), (3361, 1515915625480238080), (3362, 1515915625441129216), (3363, 1515915625444421888), (3364, 1515915625446976256), (3365, 1515915625462845952), (3366, 1515915625464627968), (3367, 1515915625443555328), (3368, 1515915625482169600), (3369, 1515915625450485504), (3370, 1515915625455314688), (3371, 1515915625443681792), (3372, 1515915625441290240), (3373, 1515915625442231296), (3374, 1515915625445891840), (3375, 1515915625454882560), (3376, 1515915625457163008), (3377, 1515915625444876800), (3378, 1515915625484680192), (3379, 1515915625492157952), (3380, 1515915625442466304), (3381, 1515915625461116160), (3382, 1515915625440962816), (3383, 1515915625444270848), (3384, 1515915625444231936), (3385, 1515915625482430464), (3386, 1515915625484478208), (3387, 1515915625448440576), (3388, 1515915625444255232), (3389, 1515915625440943872), (3390, 1515915625512120064), (3391, 1515915625458287872), (3392, 1515915625446720768), (3393, 1515915625440996608), (3394, 1515915625484680448), (3395, 1515915625451297280), (3396, 1515915625499528448), (3397, 1515915625441253120), (3398, 1515915625442729984), (3399, 1515915625482448384), (3400, 1515915625463056128), (3401, 1515915625441452032), (3402, 1515915625459048704), (3403, 1515915625498143488), (3404, 1515915625441067776), (3405, 1515915625445587968), (3406, 1515915625441039360), (3407, 1515915625441314560), (3408, 1515915625446080000), (3409, 1515915625495700992), (3410, 1515915625469871104), (3411, 1515915625444622592), (3412, 1515915625460996864), (3413, 1515915625463118336), (3414, 1515915625440967424), (3415, 1515915625443272960), (3416, 1515915625459823872), (3417, 1515915625457945600), (3418, 1515915625441501952), (3419, 1515915625443615488), (3420, 1515915625471929856), (3421, 1515915625444425216), (3422, 1515915625484680704), (3423, 1515915625441238016), (3424, 1515915625465819904), (3425, 1515915625448040960), (3426, 1515915625445555968), (3427, 1515915625444194560), (3428, 1515915625442383872), (3429, 1515915625440937984), (3430, 1515915625473504256), (3431, 1515915625443868160), (3432, 1515915625446550784), (3433, 1515915625480542464), (3434, 1515915625445350656), (3435, 1515915625445586688), (3436, 1515915625440965120), (3437, 1515915625498397952), (3438, 1515915625458241280), (3439, 1515915625442683136), (3440, 1515915625484160000), (3441, 1515915625477494272), (3442, 1515915625484680960), (3443, 1515915625445549312), (3444, 1515915625455909120), (3445, 1515915625441870336), (3446, 1515915625442954752), (3447, 1515915625445304064), (3448, 1515915625441136640), (3449, 1515915625512338944), (3450, 1515915625458408192), (3451, 1515915625441415168), (3452, 1515915625441037056), (3453, 1515915625441450496), (3454, 1515915625451433216), (3455, 1515915625440944640), (3456, 1515915625484681216), (3457, 1515915625441059840), (3458, 1515915625460676608), (3459, 1515915625441157120), (3460, 1515915625441011456), (3461, 1515915625440956928), (3462, 1515915625445135104), (3463, 1515915625440984576), (3464, 1515915625441485824), (3465, 1515915625441007616), (3466, 1515915625447858944), (3467, 1515915625441610496), (3468, 1515915625441516032), (3469, 1515915625441848576), (3470, 1515915625441100800), (3471, 1515915625441730304), (3472, 1515915625441026048), (3473, 1515915625484268800), (3474, 1515915625441677824), (3475, 1515915625441472256), (3476, 1515915625441278464), (3477, 1515915625441306368), (3478, 1515915625459601408), (3479, 1515915625441328896), (3480, 1515915625498359040), (3481, 1515915625441924608), (3482, 1515915625441855744), (3483, 1515915625442002176), (3484, 1515915625484681472), (3485, 1515915625441451520), (3486, 1515915625441542400), (3487, 1515915625441536256), (3488, 1515915625442010624), (3489, 1515915625441780992), (3490, 1515915625441913088), (3491, 1515915625441426944), (3492, 1515915625441385984), (3493, 1515915625467367168), (3494, 1515915625441683456), (3495, 1515915625442046976), (3496, 1515915625442025216), (3497, 1515915625481864448), (3498, 1515915625440954368), (3499, 1515915625441588480), (3500, 1515915625440964864), (3501, 1515915625442650880), (3502, 1515915625442168064), (3503, 1515915625442247424), (3504, 1515915625441147904), (3505, 1515915625442544384), (3506, 1515915625442087936), (3507, 1515915625441859328), (3508, 1515915625463853056), (3509, 1515915625441121536), (3510, 1515915625441549056), (3511, 1515915625442208256), (3512, 1515915625442126336), (3513, 1515915625442678528), (3514, 1515915625442428160), (3515, 1515915625441095168), (3516, 1515915625442226432), (3517, 1515915625452121856), (3518, 1515915625442499328), (3519, 1515915625442420224), (3520, 1515915625498163200), (3521, 1515915625442464000), (3522, 1515915625441979904), (3523, 1515915625442056704), (3524, 1515915625441434880), (3525, 1515915625459015680), (3526, 1515915625442034944), (3527, 1515915625441655808), (3528, 1515915625442575872), (3529, 1515915625442420480), (3530, 1515915625441896960), (3531, 1515915625442799616), (3532, 1515915625441089024), (3533, 1515915625444214016), (3534, 1515915625441077504), (3535, 1515915625441938944), (3536, 1515915625442654720), (3537, 1515915625458029056), (3538, 1515915625447679744), (3539, 1515915625441132800), (3540, 1515915625440998400), (3541, 1515915625498353408), (3542, 1515915625451587328), (3543, 1515915625441320960), (3544, 1515915625442101760), (3545, 1515915625450885632), (3546, 1515915625441048832), (3547, 1515915625442577408), (3548, 1515915625446624512), (3549, 1515915625442424064), (3550, 1515915625442405632), (3551, 1515915625484681728), (3552, 1515915625442941184), (3553, 1515915625442867200), (3554, 1515915625442944000), (3555, 1515915625442667776), (3556, 1515915625481086976), (3557, 1515915625442947328), (3558, 1515915625442458112), (3559, 1515915625442771456), (3560, 1515915625442987520), (3561, 1515915625442673920), (3562, 1515915625441636096), (3563, 1515915625441325568), (3564, 1515915625512661504), (3565, 1515915625440976896), (3566, 1515915625441833472), (3567, 1515915625441428736), (3568, 1515915625446009344), (3569, 1515915625441366528), (3570, 1515915625442962432), (3571, 1515915625442971648), (3572, 1515915625442617088), (3573, 1515915625441553408), (3574, 1515915625442093568), (3575, 1515915625467145472), (3576, 1515915625443045888), (3577, 1515915625454375936), (3578, 1515915625442224384), (3579, 1515915625456145408), (3580, 1515915625456538112), (3581, 1515915625442951936), (3582, 1515915625443043584), (3583, 1515915625443672064), (3584, 1515915625443578624), (3585, 1515915625441879296), (3586, 1515915625442058240), (3587, 1515915625441341184), (3588, 1515915625474872576), (3589, 1515915625441915136), (3590, 1515915625442105600), (3591, 1515915625484681984), (3592, 1515915625443551232), (3593, 1515915625497022720), (3594, 1515915625443800576), (3595, 1515915625442567680), (3596, 1515915625443547136), (3597, 1515915625448067072), (3598, 1515915625440983808), (3599, 1515915625443161856), (3600, 1515915625443065088), (3601, 1515915625441926144), (3602, 1515915625442944768), (3603, 1515915625512660736), (3604, 1515915625443343872), (3605, 1515915625443101952), (3606, 1515915625441876224), (3607, 1515915625443783424), (3608, 1515915625441964800), (3609, 1515915625492159232), (3610, 1515915625441667072), (3611, 1515915625443558144), (3612, 1515915625443584512), (3613, 1515915625445372160), (3614, 1515915625443815168), (3615, 1515915625498290688), (3616, 1515915625441356032), (3617, 1515915625442074112), (3618, 1515915625493049344), (3619, 1515915625443807232), (3620, 1515915625444130560), (3621, 1515915625443663872), (3622, 1515915625443669248), (3623, 1515915625444683264), (3624, 1515915625484682240), (3625, 1515915625441420288), (3626, 1515915625441027584), (3627, 1515915625444101376), (3628, 1515915625444299776), (3629, 1515915625441097216), (3630, 1515915625441276160), (3631, 1515915625444189440), (3632, 1515915625443687936), (3633, 1515915625443846400), (3634, 1515915625441620736), (3635, 1515915625470605056), (3636, 1515915625443237376), (3637, 1515915625443891200), (3638, 1515915625441912064), (3639, 1515915625441010944), (3640, 1515915625444535040), (3641, 1515915625443824896), (3642, 1515915625443700736), (3643, 1515915625444505344), (3644, 1515915625442147328), (3645, 1515915625477280256), (3646, 1515915625446387968), (3647, 1515915625444271872), (3648, 1515915625513331712), (3649, 1515915625444399872), (3650, 1515915625443716096), (3651, 1515915625441473792), (3652, 1515915625441068032), (3653, 1515915625481007616), (3654, 1515915625482861312), (3655, 1515915625441943808), (3656, 1515915625444938496), (3657, 1515915625444546560), (3658, 1515915625441507584), (3659, 1515915625444949248), (3660, 1515915625443296000), (3661, 1515915625458745088), (3662, 1515915625441616128), (3663, 1515915625443753728), (3664, 1515915625444737280), (3665, 1515915625443372032), (3666, 1515915625444415232), (3667, 1515915625442195712), (3668, 1515915625441619456), (3669, 1515915625441064192), (3670, 1515915625443032832), (3671, 1515915625454581760), (3672, 1515915625456683008), (3673, 1515915625483780352), (3674, 1515915625444787712), (3675, 1515915625445603072), (3676, 1515915625444137216), (3677, 1515915625444166912), (3678, 1515915625441106176), (3679, 1515915625443607296), (3680, 1515915625441582592), (3681, 1515915625441282816), (3682, 1515915625444825856), (3683, 1515915625445943552), (3684, 1515915625447715072), (3685, 1515915625445643264), (3686, 1515915625445022720), (3687, 1515915625441267200), (3688, 1515915625484682496), (3689, 1515915625441869056), (3690, 1515915625445401088), (3691, 1515915625446064384), (3692, 1515915625443638272), (3693, 1515915625442676224), (3694, 1515915625445969408), (3695, 1515915625445622272), (3696, 1515915625443963904), (3697, 1515915625446234880), (3698, 1515915625445354240), (3699, 1515915625441052928), (3700, 1515915625465353472), (3701, 1515915625460473856), (3702, 1515915625441872640), (3703, 1515915625442252288), (3704, 1515915625445589504), (3705, 1515915625443662336), (3706, 1515915625444009728), (3707, 1515915625512674560), (3708, 1515915625445547008), (3709, 1515915625441061376), (3710, 1515915625446297856), (3711, 1515915625492158720), (3712, 1515915625447016960), (3713, 1515915625441000448), (3714, 1515915625446684416), (3715, 1515915625446494464), (3716, 1515915625445998080), (3717, 1515915625444534784), (3718, 1515915625446044928), (3719, 1515915625467042816), (3720, 1515915625446707712), (3721, 1515915625446161408), (3722, 1515915625441035008), (3723, 1515915625441300736), (3724, 1515915625482018560), (3725, 1515915625492157440), (3726, 1515915625445629184), (3727, 1515915625441634560), (3728, 1515915625484682752), (3729, 1515915625450279936), (3730, 1515915625492156672), (3731, 1515915625441551360), (3732, 1515915625463638272), (3733, 1515915625492155904), (3734, 1515915625445058560), (3735, 1515915625442040576), (3736, 1515915625492816384), (3737, 1515915625446117376), (3738, 1515915625446607872), (3739, 1515915625446517504), (3740, 1515915625446942976), (3741, 1515915625445975808), (3742, 1515915625513722368), (3743, 1515915625442594560), (3744, 1515915625440939264), (3745, 1515915625476803328), (3746, 1515915625445273856), (3747, 1515915625446065920), (3748, 1515915625444326912), (3749, 1515915625474653952), (3750, 1515915625441616896), (3751, 1515915625446506752), (3752, 1515915625444416512), (3753, 1515915625452118016), (3754, 1515915625446286592), (3755, 1515915625446536448), (3756, 1515915625444956160), (3757, 1515915625445992704), (3758, 1515915625481132800), (3759, 1515915625446491136), (3760, 1515915625441755392), (3761, 1515915625492115456), (3762, 1515915625446233600), (3763, 1515915625493656064), (3764, 1515915625446525440), (3765, 1515915625441697792), (3766, 1515915625444508160), (3767, 1515915625492985600), (3768, 1515915625447023360), (3769, 1515915625484001792), (3770, 1515915625443354368), (3771, 1515915625441117952), (3772, 1515915625484683008), (3773, 1515915625448280064), (3774, 1515915625446448384), (3775, 1515915625441944320), (3776, 1515915625446701312), (3777, 1515915625473231872), (3778, 1515915625447012096), (3779, 1515915625446438144), (3780, 1515915625452131584), (3781, 1515915625448099072), (3782, 1515915625444788736), (3783, 1515915625492143616), (3784, 1515915625447640576), (3785, 1515915625448183296), (3786, 1515915625443127040), (3787, 1515915625445303552), (3788, 1515915625447851776), (3789, 1515915625447052800), (3790, 1515915625448619520), (3791, 1515915625447833088), (3792, 1515915625441916928), (3793, 1515915625445477632), (3794, 1515915625448601856), (3795, 1515915625448116992), (3796, 1515915625443188992), (3797, 1515915625442828544), (3798, 1515915625513719040), (3799, 1515915625441032960), (3800, 1515915625446701568), (3801, 1515915625444803328), (3802, 1515915625449209088), (3803, 1515915625455105024), (3804, 1515915625447778560), (3805, 1515915625447837184), (3806, 1515915625467525888), (3807, 1515915625447830784), (3808, 1515915625448110592), (3809, 1515915625448122368), (3810, 1515915625441906944), (3811, 1515915625470193664), (3812, 1515915625448895744), (3813, 1515915625446123776), (3814, 1515915625448546560), (3815, 1515915625484683264), (3816, 1515915625448687104), (3817, 1515915625514169600), (3818, 1515915625445902848), (3819, 1515915625447739648), (3820, 1515915625447608064), (3821, 1515915625443747072), (3822, 1515915625441061120), (3823, 1515915625441342208), (3824, 1515915625448291072), (3825, 1515915625448639744), (3826, 1515915625447733504), (3827, 1515915625442442496), (3828, 1515915625449205248), (3829, 1515915625446893056), (3830, 1515915625449273088), (3831, 1515915625449415168), (3832, 1515915625448835328), (3833, 1515915625449302272), (3834, 1515915625443044864), (3835, 1515915625443365888), (3836, 1515915625449210368), (3837, 1515915625449027072), (3838, 1515915625446517248), (3839, 1515915625441849088), (3840, 1515915625492154112), (3841, 1515915625443182336), (3842, 1515915625442149888), (3843, 1515915625445656576), (3844, 1515915625447890688), (3845, 1515915625442746624), (3846, 1515915625442746368), (3847, 1515915625441253632), (3848, 1515915625447635712), (3849, 1515915625445682176), (3850, 1515915625442051072), (3851, 1515915625442329088), (3852, 1515915625448075264), (3853, 1515915625450704640), (3854, 1515915625442066176), (3855, 1515915625447095808), (3856, 1515915625448743680), (3857, 1515915625447686144), (3858, 1515915625449238016), (3859, 1515915625492135936), (3860, 1515915625443148032), (3861, 1515915625449816832), (3862, 1515915625448294656), (3863, 1515915625484683520), (3864, 1515915625492158976), (3865, 1515915625448671232), (3866, 1515915625498553344), (3867, 1515915625449524480), (3868, 1515915625443181568), (3869, 1515915625449440768), (3870, 1515915625442139392), (3871, 1515915625444865792), (3872, 1515915625443308032), (3873, 1515915625441980672), (3874, 1515915625449789440), (3875, 1515915625441891584), (3876, 1515915625445620992), (3877, 1515915625449550080), (3878, 1515915625445299456), (3879, 1515915625449798144), (3880, 1515915625446714624), (3881, 1515915625444919808), (3882, 1515915625443335680), (3883, 1515915625442443008), (3884, 1515915625440948480), (3885, 1515915625448641792), (3886, 1515915625448179968), (3887, 1515915625445470464), (3888, 1515915625492210688), (3889, 1515915625449839360), (3890, 1515915625492155648), (3891, 1515915625441513472), (3892, 1515915625448143872), (3893, 1515915625449875200), (3894, 1515915625449265920), (3895, 1515915625449901312), (3896, 1515915625440940800), (3897, 1515915625449790208), (3898, 1515915625449849856), (3899, 1515915625462579968), (3900, 1515915625486684672), (3901, 1515915625447701504), (3902, 1515915625481347328), (3903, 1515915625479925248), (3904, 1515915625449432832), (3905, 1515915625448622848), (3906, 1515915625449451008), (3907, 1515915625442503936), (3908, 1515915625449918976), (3909, 1515915625449944576), (3910, 1515915625445878784), (3911, 1515915625449959680), (3912, 1515915625441017600), (3913, 1515915625448728320), (3914, 1515915625449986560), (3915, 1515915625441060096), (3916, 1515915625454862336), (3917, 1515915625449498624), (3918, 1515915625478732544), (3919, 1515915625446404864), (3920, 1515915625449865216), (3921, 1515915625446437376), (3922, 1515915625442482432), (3923, 1515915625450055424), (3924, 1515915625445447936), (3925, 1515915625446385152), (3926, 1515915625441757184), (3927, 1515915625444353280), (3928, 1515915625445610240), (3929, 1515915625512664064), (3930, 1515915625450318080), (3931, 1515915625450382336), (3932, 1515915625448804352), (3933, 1515915625450278656), (3934, 1515915625472678400), (3935, 1515915625467143936), (3936, 1515915625441944832), (3937, 1515915625450285312), (3938, 1515915625449557760), (3939, 1515915625448746752), (3940, 1515915625449201152), (3941, 1515915625442998528), (3942, 1515915625443566080), (3943, 1515915625442434304), (3944, 1515915625442410752), (3945, 1515915625462512128), (3946, 1515915625450310144), (3947, 1515915625492115712), (3948, 1515915625450293504), (3949, 1515915625449433600), (3950, 1515915625446990848), (3951, 1515915625450482432), (3952, 1515915625446983424), (3953, 1515915625444135680), (3954, 1515915625450330368), (3955, 1515915625441935872), (3956, 1515915625449978112), (3957, 1515915625450133504), (3958, 1515915625441936640), (3959, 1515915625445539584), (3960, 1515915625449364224), (3961, 1515915625450349824), (3962, 1515915625450139648), (3963, 1515915625450429696), (3964, 1515915625442495744), (3965, 1515915625445873408), (3966, 1515915625450372608), (3967, 1515915625450382848), (3968, 1515915625492763648), (3969, 1515915625444816128), (3970, 1515915625455073536), (3971, 1515915625450379008), (3972, 1515915625450396160), (3973, 1515915625450401024), (3974, 1515915625449003008), (3975, 1515915625450017024), (3976, 1515915625486706944), (3977, 1515915625441998080), (3978, 1515915625449866496), (3979, 1515915625450420480), (3980, 1515915625440968960), (3981, 1515915625446156032), (3982, 1515915625468632832), (3983, 1515915625492407040), (3984, 1515915625441025280), (3985, 1515915625460776704), (3986, 1515915625445899776), (3987, 1515915625447652608), (3988, 1515915625449855488), (3989, 1515915625449316352), (3990, 1515915625505564160), (3991, 1515915625450327552), (3992, 1515915625445696768), (3993, 1515915625450423552), (3994, 1515915625445385728), (3995, 1515915625442760448), (3996, 1515915625449675776), (3997, 1515915625450356480), (3998, 1515915625448059648), (3999, 1515915625450080768), (4000, 1515915625447115520), (4001, 1515915625510874880), (4002, 1515915625498347264), (4003, 1515915625448636672), (4004, 1515915625449580288), (4005, 1515915625448101120), (4006, 1515915625441326336), (4007, 1515915625449454336), (4008, 1515915625442460416), (4009, 1515915625443940352), (4010, 1515915625449385472), (4011, 1515915625450583040), (4012, 1515915625450579200), (4013, 1515915625450572800), (4014, 1515915625450626304), (4015, 1515915625450629632), (4016, 1515915625441581824), (4017, 1515915625440955392), (4018, 1515915625448447488), (4019, 1515915625450645760), (4020, 1515915625448430848), (4021, 1515915625450985216), (4022, 1515915625486715136), (4023, 1515915625440993280), (4024, 1515915625450536192), (4025, 1515915625442999040), (4026, 1515915625448648704), (4027, 1515915625450854656), (4028, 1515915625486709248), (4029, 1515915625449962496), (4030, 1515915625441152512), (4031, 1515915625441958144), (4032, 1515915625450720768), (4033, 1515915625442315520), (4034, 1515915625449776896), (4035, 1515915625448384000), (4036, 1515915625442948352), (4037, 1515915625441314048), (4038, 1515915625450817280), (4039, 1515915625449280256), (4040, 1515915625449579776), (4041, 1515915625448625152), (4042, 1515915625441694720), (4043, 1515915625450819328), (4044, 1515915625442141440), (4045, 1515915625450846976), (4046, 1515915625467595008), (4047, 1515915625441318400), (4048, 1515915625442155264), (4049, 1515915625442208512), (4050, 1515915625445506048), (4051, 1515915625443021056), (4052, 1515915625443035648), (4053, 1515915625449433088), (4054, 1515915625450875392), (4055, 1515915625447613696), (4056, 1515915625498252800), (4057, 1515915625451048192), (4058, 1515915625442442240), (4059, 1515915625441705984), (4060, 1515915625450970880), (4061, 1515915625475965696), (4062, 1515915625450872064), (4063, 1515915625450299392), (4064, 1515915625497356032), (4065, 1515915625442981120), (4066, 1515915625445011968), (4067, 1515915625486700288), (4068, 1515915625451099648), (4069, 1515915625450929152), (4070, 1515915625442006528), (4071, 1515915625450099712), (4072, 1515915625442462976), (4073, 1515915625450384128), (4074, 1515915625450938880), (4075, 1515915625449538816), (4076, 1515915625447005952), (4077, 1515915625450935040), (4078, 1515915625450944000), (4079, 1515915625449805312), (4080, 1515915625451138048), (4081, 1515915625450480640), (4082, 1515915625450829824), (4083, 1515915625448797440), (4084, 1515915625450972928), (4085, 1515915625441545472), (4086, 1515915625462957568), (4087, 1515915625448271872), (4088, 1515915625441895936), (4089, 1515915625447812608), (4090, 1515915625442015488), (4091, 1515915625462923776), (4092, 1515915625446953216), (4093, 1515915625451017728), (4094, 1515915625448216576), (4095, 1515915625441952512), (4096, 1515915625444969728), (4097, 1515915625450878464), (4098, 1515915625451019008), (4099, 1515915625443428864), (4100, 1515915625445922560), (4101, 1515915625448080640), (4102, 1515915625441315328), (4103, 1515915625441479424), (4104, 1515915625486688000), (4105, 1515915625451048960), (4106, 1515915625441419008), (4107, 1515915625451080960), (4108, 1515915625448996864), (4109, 1515915625498312192), (4110, 1515915625440988928), (4111, 1515915625451095808), (4112, 1515915625448064256), (4113, 1515915625450298880), (4114, 1515915625450890752), (4115, 1515915625450964736), (4116, 1515915625451122944), (4117, 1515915625443188480), (4118, 1515915625486036480), (4119, 1515915625448280320), (4120, 1515915625447717376), (4121, 1515915625448960256), (4122, 1515915625451553792), (4123, 1515915625446608384), (4124, 1515915625442245632), (4125, 1515915625451169792), (4126, 1515915625451115264), (4127, 1515915625451206144), (4128, 1515915625447938816), (4129, 1515915625441203456), (4130, 1515915625492156928), (4131, 1515915625447783936), (4132, 1515915625446549248), (4133, 1515915625441415424), (4134, 1515915625511096320), (4135, 1515915625441051904), (4136, 1515915625451393280), (4137, 1515915625465245440), (4138, 1515915625451405056), (4139, 1515915625486691328), (4140, 1515915625450831872), (4141, 1515915625441338880), (4142, 1515915625494682624), (4143, 1515915625486719488), (4144, 1515915625451422208), (4145, 1515915625443113472), (4146, 1515915625451420928), (4147, 1515915625445565696), (4148, 1515915625475859968), (4149, 1515915625442930432), (4150, 1515915625451436032), (4151, 1515915625457285632), (4152, 1515915625450143488), (4153, 1515915625451444736), (4154, 1515915625465376768), (4155, 1515915625451437568), (4156, 1515915625441303808), (4157, 1515915625451187712), (4158, 1515915625450862592), (4159, 1515915625444090624), (4160, 1515915625447946752), (4161, 1515915625446266112), (4162, 1515915625451477504), (4163, 1515915625442774528), (4164, 1515915625451499520), (4165, 1515915625450274048), (4166, 1515915625451497216), (4167, 1515915625448667136), (4168, 1515915625451610880), (4169, 1515915625446001920), (4170, 1515915625443715840), (4171, 1515915625451505920), (4172, 1515915625451456000), (4173, 1515915625486705152), (4174, 1515915625486725120), (4175, 1515915625451531520), (4176, 1515915625451558400), (4177, 1515915625441178368), (4178, 1515915625444321792), (4179, 1515915625451568896), (4180, 1515915625451578368), (4181, 1515915625450343680), (4182, 1515915625446098944), (4183, 1515915625451425536), (4184, 1515915625475378944), (4185, 1515915625451593984), (4186, 1515915625450275072), (4187, 1515915625442434048), (4188, 1515915625449746176), (4189, 1515915625449769984), (4190, 1515915625451601408), (4191, 1515915625451574528), (4192, 1515915625451133952), (4193, 1515915625451612928), (4194, 1515915625451447296), (4195, 1515915625451452672), (4196, 1515915625451571712), (4197, 1515915625441851392), (4198, 1515915625447816448), (4199, 1515915625447037696), (4200, 1515915625446715648), (4201, 1515915625450842368), (4202, 1515915625451620864), (4203, 1515915625444250368), (4204, 1515915625505846272), (4205, 1515915625442088192), (4206, 1515915625441507840), (4207, 1515915625451550464), (4208, 1515915625443694848), (4209, 1515915625451109888), (4210, 1515915625451650048), (4211, 1515915625451663104), (4212, 1515915625441533952), (4213, 1515915625451677952), (4214, 1515915625448698368), (4215, 1515915625444121344), (4216, 1515915625448227840), (4217, 1515915625442675200), (4218, 1515915625451687168), (4219, 1515915625445550848), (4220, 1515915625441562368), (4221, 1515915625441662976), (4222, 1515915625492143872), (4223, 1515915625441396992), (4224, 1515915625443780864), (4225, 1515915625450472960), (4226, 1515915625469526528), (4227, 1515915625461321728), (4228, 1515915625451548672), (4229, 1515915625451561728), (4230, 1515915625445331712), (4231, 1515915625482428672), (4232, 1515915625451233792), (4233, 1515915625442468608), (4234, 1515915625450861312), (4235, 1515915625449877504), (4236, 1515915625442046464), (4237, 1515915625441297664), (4238, 1515915625451628032), (4239, 1515915625441398272), (4240, 1515915625442078976), (4241, 1515915625444735488), (4242, 1515915625512663296), (4243, 1515915625450550528), (4244, 1515915625451693824), (4245, 1515915625458562304), (4246, 1515915625449176832), (4247, 1515915625444184832), (4248, 1515915625451950592), (4249, 1515915625441880064), (4250, 1515915625451957248), (4251, 1515915625440986112), (4252, 1515915625446075136), (4253, 1515915625444842496), (4254, 1515915625441344512), (4255, 1515915625451415040), (4256, 1515915625444538112), (4257, 1515915625451799808), (4258, 1515915625486687232), (4259, 1515915625451535104), (4260, 1515915625492156160), (4261, 1515915625449742592), (4262, 1515915625441018368), (4263, 1515915625443063552), (4264, 1515915625441047808), (4265, 1515915625452039424), (4266, 1515915625452045056), (4267, 1515915625486716928), (4268, 1515915625506196992), (4269, 1515915625486702336), (4270, 1515915625452037376), (4271, 1515915625452054272), (4272, 1515915625441099008), (4273, 1515915625451670528), (4274, 1515915625449996288), (4275, 1515915625484533248), (4276, 1515915625445351936), (4277, 1515915625451043840), (4278, 1515915625451422976), (4279, 1515915625443438336), (4280, 1515915625444152320), (4281, 1515915625492829696), (4282, 1515915625441540352), (4283, 1515915625452133888), (4284, 1515915625446649344), (4285, 1515915625441508864), (4286, 1515915625452139008), (4287, 1515915625447610112), (4288, 1515915625486684160), (4289, 1515915625444985344), (4290, 1515915625443020288), (4291, 1515915625443120384), (4292, 1515915625440970752), (4293, 1515915625444057600), (4294, 1515915625492829952), (4295, 1515915625452171520), (4296, 1515915625448322816), (4297, 1515915625443596288), (4298, 1515915625442462464), (4299, 1515915625452185600), (4300, 1515915625448062464), (4301, 1515915625441065984), (4302, 1515915625452077056), (4303, 1515915625445366784), (4304, 1515915625450955264), (4305, 1515915625441148672), (4306, 1515915625449106688), (4307, 1515915625446849024), (4308, 1515915625444352512), (4309, 1515915625452107520), (4310, 1515915625452647936), (4311, 1515915625452238080), (4312, 1515915625448999680), (4313, 1515915625449901056), (4314, 1515915625451838720), (4315, 1515915625452255488), (4316, 1515915625466426368), (4317, 1515915625452262912), (4318, 1515915625449670144), (4319, 1515915625441700608), (4320, 1515915625441483520), (4321, 1515915625445900800), (4322, 1515915625448293120), (4323, 1515915625442449920), (4324, 1515915625446112512), (4325, 1515915625445931008), (4326, 1515915625486695936), (4327, 1515915625441043712), (4328, 1515915625451999744), (4329, 1515915625452171008), (4330, 1515915625444423936), (4331, 1515915625456328448), (4332, 1515915625452243712), (4333, 1515915625441538560), (4334, 1515915625498228992), (4335, 1515915625452275712), (4336, 1515915625450616320), (4337, 1515915625451633408), (4338, 1515915625441592320), (4339, 1515915625441104384), (4340, 1515915625452023296), (4341, 1515915625510896896), (4342, 1515915625451810304), (4343, 1515915625442940416), (4344, 1515915625451410688), (4345, 1515915625449244672), (4346, 1515915625452531200), (4347, 1515915625447655168), (4348, 1515915625452561152), (4349, 1515915625452552960), (4350, 1515915625441032704), (4351, 1515915625452557824), (4352, 1515915625451212288), (4353, 1515915625452112640), (4354, 1515915625450419712), (4355, 1515915625441893888), (4356, 1515915625511385088), (4357, 1515915625444306176), (4358, 1515915625444517632), (4359, 1515915625486726912), (4360, 1515915625449900800), (4361, 1515915625452610304), (4362, 1515915625448822016), (4363, 1515915625452168192), (4364, 1515915625492160256), (4365, 1515915625452501760), (4366, 1515915625442414336), (4367, 1515915625440966400), (4368, 1515915625444489728), (4369, 1515915625441033472), (4370, 1515915625452242432), (4371, 1515915625441962496), (4372, 1515915625441383680), (4373, 1515915625492804096), (4374, 1515915625452512000), (4375, 1515915625441412864), (4376, 1515915625452498176), (4377, 1515915625443930624), (4378, 1515915625443603200), (4379, 1515915625448151040), (4380, 1515915625443191552), (4381, 1515915625452519680), (4382, 1515915625441408768), (4383, 1515915625499656448), (4384, 1515915625452627456), (4385, 1515915625452636416), (4386, 1515915625452532480), (4387, 1515915625452531968), (4388, 1515915625451520256), (4389, 1515915625486499328), (4390, 1515915625448326656), (4391, 1515915625446935552), (4392, 1515915625440988416), (4393, 1515915625452046080), (4394, 1515915625498191872), (4395, 1515915625452705792), (4396, 1515915625486684416), (4397, 1515915625452147968), (4398, 1515915625442569728), (4399, 1515915625452568832), (4400, 1515915625441595904), (4401, 1515915625452569344), (4402, 1515915625452582912), (4403, 1515915625452708352), (4404, 1515915625452751872), (4405, 1515915625452591872), (4406, 1515915625452595712), (4407, 1515915625441615872), (4408, 1515915625451477248), (4409, 1515915625452602112), (4410, 1515915625445515008), (4411, 1515915625452601856), (4412, 1515915625493162496), (4413, 1515915625451292928), (4414, 1515915625444672000), (4415, 1515915625441847040), (4416, 1515915625441285888), (4417, 1515915625442035200), (4418, 1515915625492157184), (4419, 1515915625486694400), (4420, 1515915625452807936), (4421, 1515915625495156992), (4422, 1515915625452649984), (4423, 1515915625452656128), (4424, 1515915625440990464), (4425, 1515915625451507968), (4426, 1515915625452646144), (4427, 1515915625452658176), (4428, 1515915625452650240), (4429, 1515915625452639488), (4430, 1515915625441007104), (4431, 1515915625505826816), (4432, 1515915625441859840), (4433, 1515915625492822272), (4434, 1515915625452687104), (4435, 1515915625452113664), (4436, 1515915625445000960), (4437, 1515915625442942464), (4438, 1515915625461894144), (4439, 1515915625443589888), (4440, 1515915625447037952), (4441, 1515915625452709888), (4442, 1515915625442031616), (4443, 1515915625451575296), (4444, 1515915625452724736), (4445, 1515915625442784768), (4446, 1515915625443954432), (4447, 1515915625452228096), (4448, 1515915625452720640), (4449, 1515915625441550336), (4450, 1515915625451625472), (4451, 1515915625452767232), (4452, 1515915625444994048), (4453, 1515915625441889280), (4454, 1515915625442534656), (4455, 1515915625444238592), (4456, 1515915625471569664), (4457, 1515915625445719552), (4458, 1515915625442421504), (4459, 1515915625452801792), (4460, 1515915625452863232), (4461, 1515915625446621952), (4462, 1515915625442144768), (4463, 1515915625452510208), (4464, 1515915625452318976), (4465, 1515915625447772672), (4466, 1515915625454321408), (4467, 1515915625441387776), (4468, 1515915625449380352), (4469, 1515915625441368576), (4470, 1515915625441369856), (4471, 1515915625453053696), (4472, 1515915625451983616), (4473, 1515915625453054720), (4474, 1515915625450423808), (4475, 1515915625441657344), (4476, 1515915625482112000), (4477, 1515915625442544128), (4478, 1515915625447985664), (4479, 1515915625453125120), (4480, 1515915625440972032), (4481, 1515915625453114624), (4482, 1515915625441681920), (4483, 1515915625486697728), (4484, 1515915625453156608), (4485, 1515915625449326592), (4486, 1515915625451978752), (4487, 1515915625449342720), (4488, 1515915625441884672), (4489, 1515915625453188096), (4490, 1515915625453183232), (4491, 1515915625486724096), (4492, 1515915625446712064), (4493, 1515915625441588992), (4494, 1515915625453060096), (4495, 1515915625452033536), (4496, 1515915625486699520), (4497, 1515915625441630464), (4498, 1515915625453212416), (4499, 1515915625465565696), (4500, 1515915625442441728), (4501, 1515915625453224704), (4502, 1515915625443057920), (4503, 1515915625443707904), (4504, 1515915625441190400), (4505, 1515915625450336768), (4506, 1515915625453099520), (4507, 1515915625474563072), (4508, 1515915625452687616), (4509, 1515915625492033280), (4510, 1515915625443382016), (4511, 1515915625453068032), (4512, 1515915625452124160), (4513, 1515915625444732160), (4514, 1515915625452514048), (4515, 1515915625441440256), (4516, 1515915625453131520), (4517, 1515915625453130496), (4518, 1515915625453299968), (4519, 1515915625453299456), (4520, 1515915625445452032), (4521, 1515915625455369216), (4522, 1515915625442064640), (4523, 1515915625445165568), (4524, 1515915625444715520), (4525, 1515915625512664320), (4526, 1515915625445079296), (4527, 1515915625453143808), (4528, 1515915625453154048), (4529, 1515915625453109760), (4530, 1515915625492803840), (4531, 1515915625453172736), (4532, 1515915625447606016), (4533, 1515915625443610624), (4534, 1515915625440966144), (4535, 1515915625441375488), (4536, 1515915625450774528), (4537, 1515915625446815488), (4538, 1515915625452774656), (4539, 1515915625441524736), (4540, 1515915625448417792), (4541, 1515915625444119296), (4542, 1515915625453149440), (4543, 1515915625452112128), (4544, 1515915625452035328), (4545, 1515915625441490688), (4546, 1515915625455175168), (4547, 1515915625449828096), (4548, 1515915625446190848), (4549, 1515915625448822528), (4550, 1515915625452833280), (4551, 1515915625453301248), (4552, 1515915625441861376), (4553, 1515915625452524032), (4554, 1515915625443159040), (4555, 1515915625453247488), (4556, 1515915625453138688), (4557, 1515915625441306112), (4558, 1515915625441390336), (4559, 1515915625443561728), (4560, 1515915625443644416), (4561, 1515915625453268224), (4562, 1515915625452720384), (4563, 1515915625453288704), (4564, 1515915625453223936), (4565, 1515915625441859072), (4566, 1515915625441049088), (4567, 1515915625443083520), (4568, 1515915625453348864), (4569, 1515915625444800768), (4570, 1515915625453335040), (4571, 1515915625453361152), (4572, 1515915625453345536), (4573, 1515915625453389824), (4574, 1515915625449876480), (4575, 1515915625442159104), (4576, 1515915625453472768), (4577, 1515915625451705344), (4578, 1515915625453569792), (4579, 1515915625441615360), (4580, 1515915625453207552), (4581, 1515915625453579264), (4582, 1515915625447813120), (4583, 1515915625453156096), (4584, 1515915625441905152), (4585, 1515915625453607168), (4586, 1515915625453100544), (4587, 1515915625441784832), (4588, 1515915625512288512), (4589, 1515915625442424832), (4590, 1515915625443505664), (4591, 1515915625446924800), (4592, 1515915625452249600), (4593, 1515915625449409024), (4594, 1515915625453538304), (4595, 1515915625449365248), (4596, 1515915625453657856), (4597, 1515915625441303040), (4598, 1515915625497949696), (4599, 1515915625452319232), (4600, 1515915625448244480), (4601, 1515915625453632512), (4602, 1515915625441055232), (4603, 1515915625473366528), (4604, 1515915625442596096), (4605, 1515915625453183744), (4606, 1515915625441343744), (4607, 1515915625441479680), (4608, 1515915625443615232), (4609, 1515915625453581312), (4610, 1515915625441443840), (4611, 1515915625441887744), (4612, 1515915625453728000), (4613, 1515915625486684928), (4614, 1515915625453583872), (4615, 1515915625453107200), (4616, 1515915625449815296), (4617, 1515915625443329280), (4618, 1515915625453561600), (4619, 1515915625453142784), (4620, 1515915625448442624), (4621, 1515915625443738112), (4622, 1515915625444210944), (4623, 1515915625453144320), (4624, 1515915625443390976), (4625, 1515915625453302016), (4626, 1515915625453410560), (4627, 1515915625453634304), (4628, 1515915625453187584), (4629, 1515915625512664576), (4630, 1515915625445905408), (4631, 1515915625453644288), (4632, 1515915625448250624), (4633, 1515915625453225984), (4634, 1515915625453636352), (4635, 1515915625453024768), (4636, 1515915625453550080), (4637, 1515915625448201472), (4638, 1515915625443969280), (4639, 1515915625445268224), (4640, 1515915625449738496), (4641, 1515915625453624576), (4642, 1515915625441282304), (4643, 1515915625449265664), (4644, 1515915625443684608), (4645, 1515915625451221760), (4646, 1515915625453723904), (4647, 1515915625453735680), (4648, 1515915625453615616), (4649, 1515915625442735872), (4650, 1515915625453741824), (4651, 1515915625441058048), (4652, 1515915625453838848), (4653, 1515915625496305664), (4654, 1515915625441066752), (4655, 1515915625442437888), (4656, 1515915625453872128), (4657, 1515915625453651456), (4658, 1515915625453864448), (4659, 1515915625452396288), (4660, 1515915625492863744), (4661, 1515915625492084736), (4662, 1515915625448004608), (4663, 1515915625452120832), (4664, 1515915625486696960), (4665, 1515915625454134784), (4666, 1515915625478278144), (4667, 1515915625442997504), (4668, 1515915625445460224), (4669, 1515915625441113600), (4670, 1515915625512675328), (4671, 1515915625486685184), (4672, 1515915625443278080), (4673, 1515915625454044416), (4674, 1515915625476520192), (4675, 1515915625454183424), (4676, 1515915625454144768), (4677, 1515915625441561856), (4678, 1515915625498402304), (4679, 1515915625449767168), (4680, 1515915625454206464), (4681, 1515915625441021184), (4682, 1515915625454056192), (4683, 1515915625447041792), (4684, 1515915625454047488), (4685, 1515915625454182656), (4686, 1515915625441914624), (4687, 1515915625454085376), (4688, 1515915625441348608), (4689, 1515915625454088704), (4690, 1515915625492163072), (4691, 1515915625454184960), (4692, 1515915625454018816), (4693, 1515915625473645056), (4694, 1515915625454122496), (4695, 1515915625493425152), (4696, 1515915625446544896), (4697, 1515915625442669824), (4698, 1515915625454045696), (4699, 1515915625452988928), (4700, 1515915625451778048), (4701, 1515915625441428992), (4702, 1515915625442039296), (4703, 1515915625441071104), (4704, 1515915625443169024), (4705, 1515915625444765440), (4706, 1515915625453860864), (4707, 1515915625454183168), (4708, 1515915625474624768), (4709, 1515915625445963008), (4710, 1515915625441687296), (4711, 1515915625454195968), (4712, 1515915625454304256), (4713, 1515915625446464512), (4714, 1515915625513976064), (4715, 1515915625512675072), (4716, 1515915625454168832), (4717, 1515915625454055168), (4718, 1515915625453883904), (4719, 1515915625454214144), (4720, 1515915625454163456), (4721, 1515915625447643648), (4722, 1515915625442429440), (4723, 1515915625454264064), (4724, 1515915625444933376), (4725, 1515915625440993024), (4726, 1515915625449851392), (4727, 1515915625454309376), (4728, 1515915625454317056), (4729, 1515915625443117824), (4730, 1515915625448092928), (4731, 1515915625454142976), (4732, 1515915625441109504), (4733, 1515915625441024768), (4734, 1515915625452571136), (4735, 1515915625444358144), (4736, 1515915625454513152), (4737, 1515915625498402816), (4738, 1515915625453958144), (4739, 1515915625454539520), (4740, 1515915625513392128), (4741, 1515915625454475264), (4742, 1515915625454562048), (4743, 1515915625496774656), (4744, 1515915625445301504), (4745, 1515915625453739776), (4746, 1515915625498168576), (4747, 1515915625454576640), (4748, 1515915625442125056), (4749, 1515915625442228992), (4750, 1515915625454581248), (4751, 1515915625454608384), (4752, 1515915625512314880), (4753, 1515915625448195072), (4754, 1515915625441449472), (4755, 1515915625454625280), (4756, 1515915625454512128), (4757, 1515915625446111232), (4758, 1515915625452590080), (4759, 1515915625486685696), (4760, 1515915625482871808), (4761, 1515915625454669824), (4762, 1515915625461124864), (4763, 1515915625454660352), (4764, 1515915625441292032), (4765, 1515915625454535680), (4766, 1515915625454631680), (4767, 1515915625449222656), (4768, 1515915625444750592), (4769, 1515915625441076480), (4770, 1515915625445865472), (4771, 1515915625452615680), (4772, 1515915625441328384), (4773, 1515915625454584576), (4774, 1515915625454580736), (4775, 1515915625454749184), (4776, 1515915625454587136), (4777, 1515915625454399488), (4778, 1515915625510963968), (4779, 1515915625448107008), (4780, 1515915625486694912), (4781, 1515915625440946432), (4782, 1515915625440982528), (4783, 1515915625446913280), (4784, 1515915625440936192), (4785, 1515915625452859392), (4786, 1515915625486708224), (4787, 1515915625454610432), (4788, 1515915625454784256), (4789, 1515915625442011136), (4790, 1515915625446198016), (4791, 1515915625442164736), (4792, 1515915625443694336), (4793, 1515915625454657024), (4794, 1515915625454659584), (4795, 1515915625448947712), (4796, 1515915625480592384), (4797, 1515915625442142208), (4798, 1515915625446710528), (4799, 1515915625454664192), (4800, 1515915625440996864), (4801, 1515915625442256384), (4802, 1515915625443406848), (4803, 1515915625454622464), (4804, 1515915625454855680), (4805, 1515915625454691328), (4806, 1515915625454564096), (4807, 1515915625454832128), (4808, 1515915625454708224), (4809, 1515915625444637184), (4810, 1515915625454705664), (4811, 1515915625443941888), (4812, 1515915625449526272), (4813, 1515915625452672512), (4814, 1515915625441338368), (4815, 1515915625452018432), (4816, 1515915625454749440), (4817, 1515915625454426368), (4818, 1515915625441978112), (4819, 1515915625441069056), (4820, 1515915625478541568), (4821, 1515915625442647296), (4822, 1515915625450647552), (4823, 1515915625497613568), (4824, 1515915625450638592), (4825, 1515915625454857728), (4826, 1515915625454892544), (4827, 1515915625455031040), (4828, 1515915625459095040), (4829, 1515915625454271232), (4830, 1515915625455056128), (4831, 1515915625454675456), (4832, 1515915625452721920), (4833, 1515915625486693632), (4834, 1515915625453621504), (4835, 1515915625453073152), (4836, 1515915625455087616), (4837, 1515915625441447936), (4838, 1515915625441414656), (4839, 1515915625455142656), (4840, 1515915625440942848), (4841, 1515915625441852160), (4842, 1515915625454751744), (4843, 1515915625455187712), (4844, 1515915625441127424), (4845, 1515915625455046656), (4846, 1515915625455042816), (4847, 1515915625445659392), (4848, 1515915625492828160), (4849, 1515915625455063296), (4850, 1515915625443885312), (4851, 1515915625441599488), (4852, 1515915625454792704), (4853, 1515915625443531776), (4854, 1515915625486685952), (4855, 1515915625441934848), (4856, 1515915625455209472), (4857, 1515915625448010240), (4858, 1515915625455224064), (4859, 1515915625453840384), (4860, 1515915625441083648), (4861, 1515915625441325312), (4862, 1515915625449919232), (4863, 1515915625441583872), (4864, 1515915625454610176), (4865, 1515915625441124096), (4866, 1515915625455105536), (4867, 1515915625441432064), (4868, 1515915625444163840), (4869, 1515915625486704896), (4870, 1515915625492174080), (4871, 1515915625455117312), (4872, 1515915625511665920), (4873, 1515915625493425664), (4874, 1515915625450655488), (4875, 1515915625455284992), (4876, 1515915625455118080), (4877, 1515915625452843008), (4878, 1515915625446217472), (4879, 1515915625449470976), (4880, 1515915625455149312), (4881, 1515915625492173056), (4882, 1515915625455339520), (4883, 1515915625442427904), (4884, 1515915625454882816), (4885, 1515915625449482752), (4886, 1515915625486482432), (4887, 1515915625454593280), (4888, 1515915625455265536), (4889, 1515915625455191040), (4890, 1515915625480334592), (4891, 1515915625442970368), (4892, 1515915625461589248), (4893, 1515915625441044736), (4894, 1515915625455372544), (4895, 1515915625453598720), (4896, 1515915625445635584), (4897, 1515915625452608000), (4898, 1515915625441393920), (4899, 1515915625455233536), (4900, 1515915625454575616), (4901, 1515915625452052224), (4902, 1515915625448735232), (4903, 1515915625441870848), (4904, 1515915625455277312), (4905, 1515915625444310016), (4906, 1515915625449468928), (4907, 1515915625498224640), (4908, 1515915625440950016), (4909, 1515915625453394432), (4910, 1515915625441701632), (4911, 1515915625444346112), (4912, 1515915625455376640), (4913, 1515915625442507264), (4914, 1515915625455437312), (4915, 1515915625453114112), (4916, 1515915625453595136), (4917, 1515915625459937280), (4918, 1515915625455543552), (4919, 1515915625455550208), (4920, 1515915625455087104), (4921, 1515915625455556352), (4922, 1515915625481155072), (4923, 1515915625498378752), (4924, 1515915625511046400), (4925, 1515915625444963584), (4926, 1515915625441994752), (4927, 1515915625455514880), (4928, 1515915625456222720), (4929, 1515915625454868736), (4930, 1515915625452105472), (4931, 1515915625492157696), (4932, 1515915625444352768), (4933, 1515915625442177024), (4934, 1515915625441494784), (4935, 1515915625455532800), (4936, 1515915625442439936), (4937, 1515915625441883648), (4938, 1515915625444279552), (4939, 1515915625469431040), (4940, 1515915625486686464), (4941, 1515915625492858112), (4942, 1515915625455707136), (4943, 1515915625450969856), (4944, 1515915625486686208), (4945, 1515915625441405696), (4946, 1515915625455536384), (4947, 1515915625455595008), (4948, 1515915625445393920), (4949, 1515915625479632896), (4950, 1515915625443226624), (4951, 1515915625444309760), (4952, 1515915625444186880), (4953, 1515915625455604992), (4954, 1515915625455287808), (4955, 1515915625481343232), (4956, 1515915625460100864), (4957, 1515915625440957184), (4958, 1515915625492853760), (4959, 1515915625440954880), (4960, 1515915625448932608), (4961, 1515915625440940032), (4962, 1515915625444767232), (4963, 1515915625442030336), (4964, 1515915625452182272), (4965, 1515915625445671168), (4966, 1515915625453805056), (4967, 1515915625455680512), (4968, 1515915625455764992), (4969, 1515915625441346304), (4970, 1515915625462421504), (4971, 1515915625455718400), (4972, 1515915625455429376), (4973, 1515915625441586432), (4974, 1515915625455785472), (4975, 1515915625444697344), (4976, 1515915625453758976), (4977, 1515915625449249280), (4978, 1515915625495036928), (4979, 1515915625440991488), (4980, 1515915625455871232), (4981, 1515915625455904000), (4982, 1515915625447667200), (4983, 1515915625441526784), (4984, 1515915625441013248), (4985, 1515915625455928064), (4986, 1515915625453541632), (4987, 1515915625486726144), (4988, 1515915625445840640), (4989, 1515915625453777408), (4990, 1515915625456104704), (4991, 1515915625455944960), (4992, 1515915625456085760), (4993, 1515915625455650048), (4994, 1515915625446604288), (4995, 1515915625493425920), (4996, 1515915625480065024), (4997, 1515915625498358784), (4998, 1515915625482338304), (4999, 1515915625454068224), (5000, 1515915625441335552), (5001, 1515915625456167936), (5002, 1515915625442039808), (5003, 1515915625486686720), (5004, 1515915625448349696), (5005, 1515915625455765760), (5006, 1515915625440937472), (5007, 1515915625465677568), (5008, 1515915625486722048), (5009, 1515915625486836736), (5010, 1515915625456099840), (5011, 1515915625441656064), (5012, 1515915625441332480), (5013, 1515915625444973312), (5014, 1515915625444308224), (5015, 1515915625456125696), (5016, 1515915625442423808), (5017, 1515915625451875072), (5018, 1515915625442327040), (5019, 1515915625456135424), (5020, 1515915625455077888), (5021, 1515915625497370368), (5022, 1515915625456154368), (5023, 1515915625441317888), (5024, 1515915625486686976), (5025, 1515915625441643264), (5026, 1515915625441120000), (5027, 1515915625454628608), (5028, 1515915625452733696), (5029, 1515915625450405376), (5030, 1515915625442991360), (5031, 1515915625460375808), (5032, 1515915625448039936), (5033, 1515915625456244992), (5034, 1515915625463440640), (5035, 1515915625455195648), (5036, 1515915625460688128), (5037, 1515915625443213056), (5038, 1515915625469160192), (5039, 1515915625455364096), (5040, 1515915625456263424), (5041, 1515915625456150528), (5042, 1515915625470354688), (5043, 1515915625448706560), (5044, 1515915625448647680), (5045, 1515915625476676864), (5046, 1515915625448497408), (5047, 1515915625456314624), (5048, 1515915625455833856), (5049, 1515915625456322304), (5050, 1515915625444739840), (5051, 1515915625443198208), (5052, 1515915625453244928), (5053, 1515915625450159104), (5054, 1515915625456303360), (5055, 1515915625456145664), (5056, 1515915625444207360), (5057, 1515915625441045248), (5058, 1515915625441281536), (5059, 1515915625444739584), (5060, 1515915625451617792), (5061, 1515915625447732736), (5062, 1515915625443144192), (5063, 1515915625456403456), (5064, 1515915625440981504), (5065, 1515915625445864960), (5066, 1515915625452234240), (5067, 1515915625444127488), (5068, 1515915625456434176), (5069, 1515915625443905536), (5070, 1515915625444609792), (5071, 1515915625456451072), (5072, 1515915625442607360), (5073, 1515915625444929792), (5074, 1515915625443092736), (5075, 1515915625440986624), (5076, 1515915625454547712), (5077, 1515915625444107776), (5078, 1515915625456681216), (5079, 1515915625500190464), (5080, 1515915625456053760), (5081, 1515915625441260032), (5082, 1515915625456701696), (5083, 1515915625443139328), (5084, 1515915625456616704), (5085, 1515915625456617984), (5086, 1515915625443567360), (5087, 1515915625452525824), (5088, 1515915625452229376), (5089, 1515915625450948096), (5090, 1515915625451148288), (5091, 1515915625470464000), (5092, 1515915625455195136), (5093, 1515915625456783872), (5094, 1515915625456645120), (5095, 1515915625450050048), (5096, 1515915625456639232), (5097, 1515915625441538048), (5098, 1515915625456360448), (5099, 1515915625456253440), (5100, 1515915625456815360), (5101, 1515915625454558208), (5102, 1515915625456463872), (5103, 1515915625442028544), (5104, 1515915625441989632), (5105, 1515915625456462080), (5106, 1515915625442007040), (5107, 1515915625446526976), (5108, 1515915625486720000), (5109, 1515915625456783360), (5110, 1515915625455649280), (5111, 1515915625456687872), (5112, 1515915625494572288), (5113, 1515915625455869952), (5114, 1515915625446144256), (5115, 1515915625443160064), (5116, 1515915625455694336), (5117, 1515915625455601152), (5118, 1515915625456868352), (5119, 1515915625456718848), (5120, 1515915625493426176), (5121, 1515915625456166144), (5122, 1515915625446434048), (5123, 1515915625456685312), (5124, 1515915625442043648), (5125, 1515915625456750336), (5126, 1515915625455884800), (5127, 1515915625455695616), (5128, 1515915625456751104), (5129, 1515915625464877056), (5130, 1515915625441148416), (5131, 1515915625440993792), (5132, 1515915625477199872), (5133, 1515915625486689792), (5134, 1515915625486701824), (5135, 1515915625450263296), (5136, 1515915625456771840), (5137, 1515915625443792384), (5138, 1515915625449541120), (5139, 1515915625443507968), (5140, 1515915625460591360), (5141, 1515915625456804352), (5142, 1515915625443622912), (5143, 1515915625456826368), (5144, 1515915625443169280), (5145, 1515915625441522944), (5146, 1515915625456854528), (5147, 1515915625456866560), (5148, 1515915625457000448), (5149, 1515915625446120192), (5150, 1515915625456885248), (5151, 1515915625456884480), (5152, 1515915625444257536), (5153, 1515915625513723904), (5154, 1515915625513781760), (5155, 1515915625441936384), (5156, 1515915625440945664), (5157, 1515915625456780288), (5158, 1515915625456953856), (5159, 1515915625456981248), (5160, 1515915625446154240), (5161, 1515915625456986880), (5162, 1515915625456787712), (5163, 1515915625492161024), (5164, 1515915625445457920), (5165, 1515915625457188352), (5166, 1515915625456478464), (5167, 1515915625443424512), (5168, 1515915625486687488), (5169, 1515915625443343104), (5170, 1515915625442161664), (5171, 1515915625456797952), (5172, 1515915625457114880), (5173, 1515915625440947456), (5174, 1515915625486687744), (5175, 1515915625442045952), (5176, 1515915625457135872), (5177, 1515915625445861120), (5178, 1515915625457133312), (5179, 1515915625441338112), (5180, 1515915625457279488), (5181, 1515915625478307840), (5182, 1515915625448482816), (5183, 1515915625514153472), (5184, 1515915625457276928), (5185, 1515915625455878912), (5186, 1515915625446179584), (5187, 1515915625448852480), (5188, 1515915625511296256), (5189, 1515915625457206784), (5190, 1515915625456390400), (5191, 1515915625457217024), (5192, 1515915625446537984), (5193, 1515915625442029568), (5194, 1515915625452103424), (5195, 1515915625457197056), (5196, 1515915625440982272), (5197, 1515915625445540096), (5198, 1515915625448124928), (5199, 1515915625443716864), (5200, 1515915625441024512), (5201, 1515915625457166080), (5202, 1515915625450511872), (5203, 1515915625455503104), (5204, 1515915625441453824), (5205, 1515915625457336320), (5206, 1515915625457335808), (5207, 1515915625449549312), (5208, 1515915625441419520), (5209, 1515915625481089792), (5210, 1515915625442064128), (5211, 1515915625444099072), (5212, 1515915625441313536), (5213, 1515915625492169984), (5214, 1515915625457502208), (5215, 1515915625457509632), (5216, 1515915625457487616), (5217, 1515915625449056256), (5218, 1515915625449393664), (5219, 1515915625486705408), (5220, 1515915625440948736), (5221, 1515915625441287680), (5222, 1515915625451399424), (5223, 1515915625453953536), (5224, 1515915625442721280), (5225, 1515915625457511424), (5226, 1515915625451786496), (5227, 1515915625457523200), (5228, 1515915625472206080), (5229, 1515915625441910528), (5230, 1515915625441048320), (5231, 1515915625456727040), (5232, 1515915625461421312), (5233, 1515915625441085696), (5234, 1515915625457553152), (5235, 1515915625450301696), (5236, 1515915625450567680), (5237, 1515915625485685504), (5238, 1515915625457702912), (5239, 1515915625457636864), (5240, 1515915625481861888), (5241, 1515915625442290176), (5242, 1515915625498344704), (5243, 1515915625444838912), (5244, 1515915625492161536), (5245, 1515915625457745152), (5246, 1515915625441329152), (5247, 1515915625447085568), (5248, 1515915625446056704), (5249, 1515915625457624832), (5250, 1515915625457610496), (5251, 1515915625445542144), (5252, 1515915625448359424), (5253, 1515915625447721216), (5254, 1515915625444118272), (5255, 1515915625457628416), (5256, 1515915625443732736), (5257, 1515915625442236416), (5258, 1515915625457612288), (5259, 1515915625449073408), (5260, 1515915625464653312), (5261, 1515915625441593344), (5262, 1515915625442026496), (5263, 1515915625457766912), (5264, 1515915625441971968), (5265, 1515915625441345280), (5266, 1515915625455425536), (5267, 1515915625486703360), (5268, 1515915625511005184), (5269, 1515915625452873216), (5270, 1515915625441960448), (5271, 1515915625441025792), (5272, 1515915625513429504), (5273, 1515915625442249984), (5274, 1515915625441698816), (5275, 1515915625440988672), (5276, 1515915625471159552), (5277, 1515915625457101568), (5278, 1515915625512662272), (5279, 1515915625448890368), (5280, 1515915625455760128), (5281, 1515915625478412032), (5282, 1515915625511488256), (5283, 1515915625440972544), (5284, 1515915625450290176), (5285, 1515915625455703040), (5286, 1515915625457936896), (5287, 1515915625457959424), (5288, 1515915625441337088), (5289, 1515915625466651136), (5290, 1515915625444975872), (5291, 1515915625443232768), (5292, 1515915625455894784), (5293, 1515915625448007168), (5294, 1515915625457943808), (5295, 1515915625441688320), (5296, 1515915625457998592), (5297, 1515915625457978880), (5298, 1515915625477396992), (5299, 1515915625455421184), (5300, 1515915625465735680), (5301, 1515915625442493696), (5302, 1515915625444257024), (5303, 1515915625458042112), (5304, 1515915625456815616), (5305, 1515915625457868288), (5306, 1515915625513722624), (5307, 1515915625471793408), (5308, 1515915625513727744), (5309, 1515915625458052864), (5310, 1515915625446915328), (5311, 1515915625458061312), (5312, 1515915625445988096), (5313, 1515915625457255680), (5314, 1515915625486688256), (5315, 1515915625457948672), (5316, 1515915625458086912), (5317, 1515915625454123520), (5318, 1515915625455555072), (5319, 1515915625443726080), (5320, 1515915625457947648), (5321, 1515915625444464896), (5322, 1515915625457943040), (5323, 1515915625441161728), (5324, 1515915625458118656), (5325, 1515915625455336960), (5326, 1515915625486682624), (5327, 1515915625440972288), (5328, 1515915625480979712), (5329, 1515915625448660480), (5330, 1515915625486712576), (5331, 1515915625454035456), (5332, 1515915625445033216), (5333, 1515915625443412480), (5334, 1515915625486731264), (5335, 1515915625457722624), (5336, 1515915625446586880), (5337, 1515915625442478848), (5338, 1515915625478993152), (5339, 1515915625455858944), (5340, 1515915625444280832), (5341, 1515915625441908480), (5342, 1515915625446941184), (5343, 1515915625457637888), (5344, 1515915625442149120), (5345, 1515915625450987264), (5346, 1515915625454710784), (5347, 1515915625473570304), (5348, 1515915625486896384), (5349, 1515915625486697984), (5350, 1515915625452663040), (5351, 1515915625458043136), (5352, 1515915625457939200), (5353, 1515915625458159360), (5354, 1515915625444113152), (5355, 1515915625456840192), (5356, 1515915625465960448), (5357, 1515915625444116992), (5358, 1515915625458094080), (5359, 1515915625458088192), (5360, 1515915625481889536), (5361, 1515915625441561344), (5362, 1515915625458065408), (5363, 1515915625457958912), (5364, 1515915625454873088), (5365, 1515915625458166528), (5366, 1515915625458112512), (5367, 1515915625455797248), (5368, 1515915625444137472), (5369, 1515915625444086784), (5370, 1515915625456524288), (5371, 1515915625458166784), (5372, 1515915625442628096), (5373, 1515915625441692416), (5374, 1515915625441946368), (5375, 1515915625451123712), (5376, 1515915625443533824), (5377, 1515915625447953664), (5378, 1515915625452409088), (5379, 1515915625441481984), (5380, 1515915625456588288), (5381, 1515915625452050176), (5382, 1515915625443118080), (5383, 1515915625454130176), (5384, 1515915625458412032), (5385, 1515915625458352384), (5386, 1515915625458412800), (5387, 1515915625445870336), (5388, 1515915625444748544), (5389, 1515915625457903104), (5390, 1515915625458430720), (5391, 1515915625468968448), (5392, 1515915625511731456), (5393, 1515915625458478080), (5394, 1515915625444156160), (5395, 1515915625458473728), (5396, 1515915625441890816), (5397, 1515915625498362624), (5398, 1515915625457289728), (5399, 1515915625448696320), (5400, 1515915625458118400), (5401, 1515915625445526528), (5402, 1515915625458382848), (5403, 1515915625510798592), (5404, 1515915625458538496), (5405, 1515915625486688768), (5406, 1515915625442033920), (5407, 1515915625442517504), (5408, 1515915625492170752), (5409, 1515915625453679872), (5410, 1515915625450254848), (5411, 1515915625458555136), (5412, 1515915625458564608), (5413, 1515915625458546688), (5414, 1515915625458442496), (5415, 1515915625486693120), (5416, 1515915625475327488), (5417, 1515915625445300992), (5418, 1515915625441416448), (5419, 1515915625440099840), (5420, 1515915625479613184), (5421, 1515915625457550080), (5422, 1515915625493426944), (5423, 1515915625444855040), (5424, 1515915625458438400), (5425, 1515915625484061184), (5426, 1515915625449530880), (5427, 1515915625441694976), (5428, 1515915625486701056), (5429, 1515915625458410752), (5430, 1515915625455741184), (5431, 1515915625441383424), (5432, 1515915625458592256), (5433, 1515915625455057920), (5434, 1515915625492159744), (5435, 1515915625485711104), (5436, 1515915625444992512), (5437, 1515915625441565184), (5438, 1515915625458134016), (5439, 1515915625458011392), (5440, 1515915625458508544), (5441, 1515915625457959168), (5442, 1515915625444823552), (5443, 1515915625441099264), (5444, 1515915625442329600), (5445, 1515915625446949632), (5446, 1515915625440946176), (5447, 1515915625443370496), (5448, 1515915625486699264), (5449, 1515915625458533632), (5450, 1515915625446447616), (5451, 1515915625458148608), (5452, 1515915625458235392), (5453, 1515915625457072128), (5454, 1515915625456926720), (5455, 1515915625454254592), (5456, 1515915625458478592), (5457, 1515915625498272256), (5458, 1515915625458484736), (5459, 1515915625458679808), (5460, 1515915625481759232), (5461, 1515915625458562816), (5462, 1515915625458540544), (5463, 1515915625452499712), (5464, 1515915625448135936), (5465, 1515915625458453760), (5466, 1515915625445126400), (5467, 1515915625443825408), (5468, 1515915625454632192), (5469, 1515915625448054528), (5470, 1515915625442734336), (5471, 1515915625447773440), (5472, 1515915625485281024), (5473, 1515915625450918912), (5474, 1515915625457946880), (5475, 1515915625458594816), (5476, 1515915625441676544), (5477, 1515915625453761024), (5478, 1515915625463828992), (5479, 1515915625457252352), (5480, 1515915625458759936), (5481, 1515915625448055552), (5482, 1515915625458573312), (5483, 1515915625447670016), (5484, 1515915625457731072), (5485, 1515915625458293248), (5486, 1515915625451121152), (5487, 1515915625458671104), (5488, 1515915625442061824), (5489, 1515915625443142144), (5490, 1515915625453752320), (5491, 1515915625441114112), (5492, 1515915625458770176), (5493, 1515915625448160256), (5494, 1515915625445299200), (5495, 1515915625458915328), (5496, 1515915625492378112), (5497, 1515915625458916864), (5498, 1515915625458914304), (5499, 1515915625458220544), (5500, 1515915625444459264), (5501, 1515915625454971904), (5502, 1515915625486702592), (5503, 1515915625513928448), (5504, 1515915625448347904), (5505, 1515915625441636864), (5506, 1515915625458973440), (5507, 1515915625442251264), (5508, 1515915625492159488), (5509, 1515915625458519808), (5510, 1515915625457254400), (5511, 1515915625443044352), (5512, 1515915625485670912), (5513, 1515915625447649792), (5514, 1515915625459006720), (5515, 1515915625458983936), (5516, 1515915625452875520), (5517, 1515915625458163456), (5518, 1515915625498314752), (5519, 1515915625458455296), (5520, 1515915625441305088), (5521, 1515915625486689280), (5522, 1515915625455238400), (5523, 1515915625457359104), (5524, 1515915625441276928), (5525, 1515915625442760704), (5526, 1515915625441296128), (5527, 1515915625458920192), (5528, 1515915625459069440), (5529, 1515915625486689024), (5530, 1515915625458915840), (5531, 1515915625441406976), (5532, 1515915625459073024), (5533, 1515915625456041984), (5534, 1515915625460288512), (5535, 1515915625498356736), (5536, 1515915625459052544), (5537, 1515915625458935552), (5538, 1515915625441110272), (5539, 1515915625446013440), (5540, 1515915625457995008), (5541, 1515915625442753280), (5542, 1515915625443142400), (5543, 1515915625458984704), (5544, 1515915625462825728), (5545, 1515915625443648256), (5546, 1515915625440951808), (5547, 1515915625451791104), (5548, 1515915625441262848), (5549, 1515915625445885952), (5550, 1515915625453267712), (5551, 1515915625459000576), (5552, 1515915625457494272), (5553, 1515915625458109184), (5554, 1515915625443545088), (5555, 1515915625442114816), (5556, 1515915625445543936), (5557, 1515915625440948992), (5558, 1515915625448891648), (5559, 1515915625440950528), (5560, 1515915625458976256), (5561, 1515915625455886592), (5562, 1515915625459036928), (5563, 1515915625456991232), (5564, 1515915625473906432), (5565, 1515915625459018240), (5566, 1515915625459044608), (5567, 1515915625459208704), (5568, 1515915625452501504), (5569, 1515915625459057920), (5570, 1515915625451406592), (5571, 1515915625455151616), (5572, 1515915625484559872), (5573, 1515915625468709120), (5574, 1515915625466032384), (5575, 1515915625454144512), (5576, 1515915625459127040), (5577, 1515915625446486784), (5578, 1515915625455596544), (5579, 1515915625441617152), (5580, 1515915625444038400), (5581, 1515915625442243328), (5582, 1515915625456748288), (5583, 1515915625440985088), (5584, 1515915625443060992), (5585, 1515915625454637568), (5586, 1515915625448677120), (5587, 1515915625440999936), (5588, 1515915625456596736), (5589, 1515915625441864960), (5590, 1515915625441436416), (5591, 1515915625459411712), (5592, 1515915625459411968), (5593, 1515915625459072000), (5594, 1515915625458913024), (5595, 1515915625486712064), (5596, 1515915625459429120), (5597, 1515915625459470080), (5598, 1515915625459424768), (5599, 1515915625454894336), (5600, 1515915625459482112), (5601, 1515915625459970048), (5602, 1515915625451045376), (5603, 1515915625472125184), (5604, 1515915625492162560), (5605, 1515915625459460864), (5606, 1515915625448945152), (5607, 1515915625459487232), (5608, 1515915625458930432), (5609, 1515915625450133248), (5610, 1515915625459524352), (5611, 1515915625450912512), (5612, 1515915625442194944), (5613, 1515915625450117376), (5614, 1515915625458985728), (5615, 1515915625459406336), (5616, 1515915625459412224), (5617, 1515915625459415808), (5618, 1515915625448937984), (5619, 1515915625459570176), (5620, 1515915625459411200), (5621, 1515915625458974208), (5622, 1515915625459570944), (5623, 1515915625451955712), (5624, 1515915625511847424), (5625, 1515915625452044544), (5626, 1515915625459418368), (5627, 1515915625458956032), (5628, 1515915625482225152), (5629, 1515915625486689536), (5630, 1515915625454548480), (5631, 1515915625486727168), (5632, 1515915625455402240), (5633, 1515915625459421696), (5634, 1515915625441658624), (5635, 1515915625441844736), (5636, 1515915625459087104), (5637, 1515915625459457280), (5638, 1515915625482431744), (5639, 1515915625493427200), (5640, 1515915625460532480), (5641, 1515915625458445056), (5642, 1515915625459457792), (5643, 1515915625459061760), (5644, 1515915625459489792), (5645, 1515915625442291968), (5646, 1515915625485938688), (5647, 1515915625457531392), (5648, 1515915625450097664), (5649, 1515915625459535104), (5650, 1515915625469072640), (5651, 1515915625486474496), (5652, 1515915625486723840), (5653, 1515915625465665792), (5654, 1515915625459677952), (5655, 1515915625445561088), (5656, 1515915625443120640), (5657, 1515915625513284352), (5658, 1515915625441270016), (5659, 1515915625441535232), (5660, 1515915625444857344), (5661, 1515915625462427904), (5662, 1515915625454593536), (5663, 1515915625461299968), (5664, 1515915625453053440), (5665, 1515915625450263040), (5666, 1515915625441319680), (5667, 1515915625445077760), (5668, 1515915625452143616), (5669, 1515915625459417600), (5670, 1515915625459633408), (5671, 1515915625459593728), (5672, 1515915625446544384), (5673, 1515915625459646976), (5674, 1515915625444241920), (5675, 1515915625459655680), (5676, 1515915625456242176), (5677, 1515915625443132160), (5678, 1515915625454173952), (5679, 1515915625453346048), (5680, 1515915625441673984), (5681, 1515915625486690304), (5682, 1515915625441923584), (5683, 1515915625486690048), (5684, 1515915625441837568), (5685, 1515915625458929920), (5686, 1515915625486700544), (5687, 1515915625479474176), (5688, 1515915625459960064), (5689, 1515915625460104448), (5690, 1515915625453221376), (5691, 1515915625460060416), (5692, 1515915625442493440), (5693, 1515915625469397760), (5694, 1515915625444818432), (5695, 1515915625449437696), (5696, 1515915625458108416), (5697, 1515915625458548992), (5698, 1515915625440942592), (5699, 1515915625441534208), (5700, 1515915625460027904), (5701, 1515915625451667456), (5702, 1515915625492160000), (5703, 1515915625493427456), (5704, 1515915625443292160), (5705, 1515915625459953920), (5706, 1515915625458634496), (5707, 1515915625479267584), (5708, 1515915625477469952), (5709, 1515915625453375232), (5710, 1515915625455809536), (5711, 1515915625460539904), (5712, 1515915625459702528), (5713, 1515915625492830208), (5714, 1515915625460037376), (5715, 1515915625453370880), (5716, 1515915625460222720), (5717, 1515915625459922688), (5718, 1515915625458751232), (5719, 1515915625450955008), (5720, 1515915625459564032), (5721, 1515915625442037248), (5722, 1515915625448544256), (5723, 1515915625460165632), (5724, 1515915625441362944), (5725, 1515915625460187392), (5726, 1515915625441395712), (5727, 1515915625460194304), (5728, 1515915625460204288), (5729, 1515915625446231552), (5730, 1515915625460231168), (5731, 1515915625441564672), (5732, 1515915625459995648), (5733, 1515915625460249344), (5734, 1515915625460250624), (5735, 1515915625442034432), (5736, 1515915625460241408), (5737, 1515915625441068544), (5738, 1515915625459271168), (5739, 1515915625460279040), (5740, 1515915625498820352), (5741, 1515915625441607168), (5742, 1515915625446496000), (5743, 1515915625444396032), (5744, 1515915625498333440), (5745, 1515915625460321536), (5746, 1515915625441827072), (5747, 1515915625460381696), (5748, 1515915625496898816), (5749, 1515915625441011968), (5750, 1515915625449329920), (5751, 1515915625459756288), (5752, 1515915625460408064), (5753, 1515915625460388864), (5754, 1515915625443291648), (5755, 1515915625460440832), (5756, 1515915625452570112), (5757, 1515915625460408576), (5758, 1515915625460446720), (5759, 1515915625441069312), (5760, 1515915625498964480), (5761, 1515915625460447744), (5762, 1515915625473071872), (5763, 1515915625453988096), (5764, 1515915625460366848), (5765, 1515915625446770176), (5766, 1515915625458485248), (5767, 1515915625448035072), (5768, 1515915625460378112), (5769, 1515915625455363840), (5770, 1515915625486690816), (5771, 1515915625460462080), (5772, 1515915625442438144), (5773, 1515915625460378624), (5774, 1515915625460388096), (5775, 1515915625443898112), (5776, 1515915625441348096), (5777, 1515915625486691072), (5778, 1515915625448064512), (5779, 1515915625459061504), (5780, 1515915625441266688), (5781, 1515915625441875968), (5782, 1515915625460495104), (5783, 1515915625464324096), (5784, 1515915625460409856), (5785, 1515915625441367296), (5786, 1515915625498321920), (5787, 1515915625449252096), (5788, 1515915625441650688), (5789, 1515915625448792576), (5790, 1515915625473637888), (5791, 1515915625460333568), (5792, 1515915625459582464), (5793, 1515915625460102144), (5794, 1515915625443611392), (5795, 1515915625460276224), (5796, 1515915625446232320), (5797, 1515915625460416768), (5798, 1515915625440963328), (5799, 1515915625513723648), (5800, 1515915625454607104), (5801, 1515915625459421184), (5802, 1515915625458563840), (5803, 1515915625460214272), (5804, 1515915625459075328), (5805, 1515915625513335040), (5806, 1515915625460451584), (5807, 1515915625443282432), (5808, 1515915625450608640), (5809, 1515915625444858880), (5810, 1515915625441151232), (5811, 1515915625460477440), (5812, 1515915625486719232), (5813, 1515915625460481280), (5814, 1515915625460476416), (5815, 1515915625459929088), (5816, 1515915625460477184), (5817, 1515915625455648256), (5818, 1515915625460490496), (5819, 1515915625460641024), (5820, 1515915625460564992), (5821, 1515915625460023296), (5822, 1515915625443649792), (5823, 1515915625458298880), (5824, 1515915625446226432), (5825, 1515915625444293376), (5826, 1515915625444262400), (5827, 1515915625460526592), (5828, 1515915625463113728), (5829, 1515915625492173824), (5830, 1515915625440995840), (5831, 1515915625460434176), (5832, 1515915625441171968), (5833, 1515915625443028224), (5834, 1515915625460682496), (5835, 1515915625441026304), (5836, 1515915625460615680), (5837, 1515915625460566272), (5838, 1515915625514704640), (5839, 1515915625460282880), (5840, 1515915625443050240), (5841, 1515915625444786944), (5842, 1515915625441321216), (5843, 1515915625460390656), (5844, 1515915625460608512), (5845, 1515915625444176384), (5846, 1515915625448671488), (5847, 1515915625447025920), (5848, 1515915625460651520), (5849, 1515915625460679424), (5850, 1515915625484180736), (5851, 1515915625442622464), (5852, 1515915625446392064), (5853, 1515915625446712576), (5854, 1515915625493361152), (5855, 1515915625442019072), (5856, 1515915625460397312), (5857, 1515915625458938624), (5858, 1515915625481100288), (5859, 1515915625455337728), (5860, 1515915625441142272), (5861, 1515915625460882944), (5862, 1515915625454042368), (5863, 1515915625449543680), (5864, 1515915625463528192), (5865, 1515915625441314304), (5866, 1515915625458527488), (5867, 1515915625460908032), (5868, 1515915625460920064), (5869, 1515915625441424896), (5870, 1515915625442720768), (5871, 1515915625492164864), (5872, 1515915625513087744), (5873, 1515915625448694272), (5874, 1515915625492172800), (5875, 1515915625460947968), (5876, 1515915625444395008), (5877, 1515915625460842240), (5878, 1515915625442991872), (5879, 1515915625486691584), (5880, 1515915625441858304), (5881, 1515915625497539840), (5882, 1515915625460978432), (5883, 1515915625460360192), (5884, 1515915625460219392), (5885, 1515915625486701568), (5886, 1515915625460916224), (5887, 1515915625460301824), (5888, 1515915625492690176), (5889, 1515915625463904768), (5890, 1515915625456972800), (5891, 1515915625486691840), (5892, 1515915625486719744), (5893, 1515915625486712832), (5894, 1515915625465120000), (5895, 1515915625445295360), (5896, 1515915625458129408), (5897, 1515915625460412672), (5898, 1515915625445530624), (5899, 1515915625455557888), (5900, 1515915625460906240), (5901, 1515915625460975616), (5902, 1515915625460918528), (5903, 1515915625460946688), (5904, 1515915625456724992), (5905, 1515915625448651520), (5906, 1515915625471078912), (5907, 1515915625446372608), (5908, 1515915625441101056), (5909, 1515915625460791296), (5910, 1515915625482415616), (5911, 1515915625449006336), (5912, 1515915625441567232), (5913, 1515915625443544576), (5914, 1515915625492169728), (5915, 1515915625449188864), (5916, 1515915625447066624), (5917, 1515915625461070080), (5918, 1515915625460998656), (5919, 1515915625442276352), (5920, 1515915625486362624), (5921, 1515915625492654336), (5922, 1515915625492161280), (5923, 1515915625460894464), (5924, 1515915625460424192), (5925, 1515915625449750016), (5926, 1515915625441095424), (5927, 1515915625461040896), (5928, 1515915625445878016), (5929, 1515915625455978752), (5930, 1515915625443587072), (5931, 1515915625460914688), (5932, 1515915625446929664), (5933, 1515915625443614976), (5934, 1515915625461106944), (5935, 1515915625460188160), (5936, 1515915625456446464), (5937, 1515915625443604992), (5938, 1515915625460568832), (5939, 1515915625461213696), (5940, 1515915625454627584), (5941, 1515915625444194048), (5942, 1515915625461303296), (5943, 1515915625441347840), (5944, 1515915625461353728), (5945, 1515915625460442112), (5946, 1515915625496573952), (5947, 1515915625460126208), (5948, 1515915625486692096), (5949, 1515915625446160896), (5950, 1515915625442544896), (5951, 1515915625461298176), (5952, 1515915625462369280), (5953, 1515915625456258560), (5954, 1515915625448008960), (5955, 1515915625456169472), (5956, 1515915625486702080), (5957, 1515915625445107456), (5958, 1515915625451648256), (5959, 1515915625461361152), (5960, 1515915625461433856), (5961, 1515915625444916992), (5962, 1515915625440944128), (5963, 1515915625457311232), (5964, 1515915625461536000), (5965, 1515915625461466368), (5966, 1515915625455787776), (5967, 1515915625461394944), (5968, 1515915625444390400), (5969, 1515915625474513152), (5970, 1515915625492832512), (5971, 1515915625452230912), (5972, 1515915625461336576), (5973, 1515915625492017920), (5974, 1515915625443757824), (5975, 1515915625454716928), (5976, 1515915625467001856), (5977, 1515915625465623040), (5978, 1515915625461295104), (5979, 1515915625486473984), (5980, 1515915625453671424), (5981, 1515915625460473344), (5982, 1515915625447666432), (5983, 1515915625441589504), (5984, 1515915625461630976), (5985, 1515915625454469632), (5986, 1515915625448097024), (5987, 1515915625461026304), (5988, 1515915625444295168), (5989, 1515915625461478912), (5990, 1515915625486696192), (5991, 1515915625458205952), (5992, 1515915625459602688), (5993, 1515915625448041984), (5994, 1515915625461535488), (5995, 1515915625443765504), (5996, 1515915625492162048), (5997, 1515915625444398080), (5998, 1515915625461539072), (5999, 1515915625482287104), (6000, 1515915625448090368), (6001, 1515915625441335040), (6002, 1515915625460391424), (6003, 1515915625455428096), (6004, 1515915625473217024), (6005, 1515915625442589440), (6006, 1515915625461797888), (6007, 1515915625461779968), (6008, 1515915625452060928), (6009, 1515915625442500864), (6010, 1515915625465676032), (6011, 1515915625461818368), (6012, 1515915625493689600), (6013, 1515915625461631232), (6014, 1515915625461846528), (6015, 1515915625443267840), (6016, 1515915625461853952), (6017, 1515915625459626752), (6018, 1515915625461895424), (6019, 1515915625441050624), (6020, 1515915625461925120), (6021, 1515915625441000960), (6022, 1515915625459004416), (6023, 1515915625461927424), (6024, 1515915625442473984), (6025, 1515915625461786624), (6026, 1515915625486612480), (6027, 1515915625461803776), (6028, 1515915625462389760), (6029, 1515915625445442816), (6030, 1515915625441674240), (6031, 1515915625446263040), (6032, 1515915625455562752), (6033, 1515915625461969920), (6034, 1515915625479351552), (6035, 1515915625486692608), (6036, 1515915625461640704), (6037, 1515915625486692352), (6038, 1515915625486715392), (6039, 1515915625459985920), (6040, 1515915625444908288), (6041, 1515915625461848064), (6042, 1515915625460643840), (6043, 1515915625441767424), (6044, 1515915625485861376), (6045, 1515915625468675584), (6046, 1515915625443710464), (6047, 1515915625453315840), (6048, 1515915625481129984), (6049, 1515915625445919232), (6050, 1515915625461876480), (6051, 1515915625442580992), (6052, 1515915625461871104), (6053, 1515915625486717696), (6054, 1515915625446057984), (6055, 1515915625442001664), (6056, 1515915625448378624), (6057, 1515915625461875200), (6058, 1515915625461907456), (6059, 1515915625461794304), (6060, 1515915625453370112), (6061, 1515915625513879040), (6062, 1515915625462067968), (6063, 1515915625441095680), (6064, 1515915625480390656), (6065, 1515915625461827840), (6066, 1515915625459449344), (6067, 1515915625441144576), (6068, 1515915625470778880), (6069, 1515915625453977344), (6070, 1515915625461483520), (6071, 1515915625446025216), (6072, 1515915625456291328), (6073, 1515915625450305792), (6074, 1515915625452284160), (6075, 1515915625449240832), (6076, 1515915625442536960), (6077, 1515915625461956096), (6078, 1515915625480065536), (6079, 1515915625462184192), (6080, 1515915625443740160), (6081, 1515915625462180864), (6082, 1515915625462293504), (6083, 1515915625459482368), (6084, 1515915625462299136), (6085, 1515915625446802688), (6086, 1515915625459966976), (6087, 1515915625445015040), (6088, 1515915625462371840), (6089, 1515915625462372096), (6090, 1515915625462382336), (6091, 1515915625462011392), (6092, 1515915625462280192), (6093, 1515915625498363904), (6094, 1515915625450490624), (6095, 1515915625448165376), (6096, 1515915625486692864), (6097, 1515915625462445824), (6098, 1515915625440942080), (6099, 1515915625461865728), (6100, 1515915625462300160), (6101, 1515915625462436096), (6102, 1515915625459587328), (6103, 1515915625442503168), (6104, 1515915625449257472), (6105, 1515915625461334784), (6106, 1515915625443066112), (6107, 1515915625462290944), (6108, 1515915625461489920), (6109, 1515915625496990720), (6110, 1515915625443607552), (6111, 1515915625462333184), (6112, 1515915625484127232), (6113, 1515915625456316672), (6114, 1515915625461992704), (6115, 1515915625457942272), (6116, 1515915625440954624), (6117, 1515915625483473408), (6118, 1515915625474267392), (6119, 1515915625467591936), (6120, 1515915625472034304), (6121, 1515915625459653120), (6122, 1515915625454370560), (6123, 1515915625448751360), (6124, 1515915625462521600), (6125, 1515915625475282688), (6126, 1515915625464280576), (6127, 1515915625460054272), (6128, 1515915625444599296), (6129, 1515915625459524864), (6130, 1515915625493553408), (6131, 1515915625466153216), (6132, 1515915625462344448), (6133, 1515915625448143360), (6134, 1515915625494977280), (6135, 1515915625441559808), (6136, 1515915625462388480), (6137, 1515915625442277376), (6138, 1515915625451062784), (6139, 1515915625486713088), (6140, 1515915625457625856), (6141, 1515915625462315264), (6142, 1515915625447017728), (6143, 1515915625441878016), (6144, 1515915625461888000), (6145, 1515915625444898304), (6146, 1515915625498315776), (6147, 1515915625462528000), (6148, 1515915625462521344), (6149, 1515915625493690112), (6150, 1515915625505835520), (6151, 1515915625454969600), (6152, 1515915625445955584), (6153, 1515915625461490176), (6154, 1515915625455424000), (6155, 1515915625442392320), (6156, 1515915625449529856), (6157, 1515915625441575424), (6158, 1515915625442612736), (6159, 1515915625467515648), (6160, 1515915625462775552), (6161, 1515915625481178624), (6162, 1515915625444506112), (6163, 1515915625462829056), (6164, 1515915625462808576), (6165, 1515915625462847744), (6166, 1515915625441638912), (6167, 1515915625461998592), (6168, 1515915625455189760), (6169, 1515915625462875136), (6170, 1515915625462881280), (6171, 1515915625462889984), (6172, 1515915625457987328), (6173, 1515915625441384704), (6174, 1515915625441045504), (6175, 1515915625492166144), (6176, 1515915625441441280), (6177, 1515915625462609152), (6178, 1515915625461996800), (6179, 1515915625498340096), (6180, 1515915625514601728), (6181, 1515915625462363392), (6182, 1515915625460384256), (6183, 1515915625459455488), (6184, 1515915625486693888), (6185, 1515915625459684864), (6186, 1515915625486709504), (6187, 1515915625459768832), (6188, 1515915625462815232), (6189, 1515915625462820608), (6190, 1515915625486693376), (6191, 1515915625454904320), (6192, 1515915625441554176), (6193, 1515915625492165376), (6194, 1515915625443133184), (6195, 1515915625508482304), (6196, 1515915625463008256), (6197, 1515915625442451456), (6198, 1515915625441877504), (6199, 1515915625459500800), (6200, 1515915625460456960), (6201, 1515915625513597440), (6202, 1515915625462940160), (6203, 1515915625462803968), (6204, 1515915625442995200), (6205, 1515915625443739392), (6206, 1515915625449607424), (6207, 1515915625444473344), (6208, 1515915625442023680), (6209, 1515915625462884352), (6210, 1515915625453064704), (6211, 1515915625441301248), (6212, 1515915625462845696), (6213, 1515915625442169344), (6214, 1515915625448715008), (6215, 1515915625442447360), (6216, 1515915625486714624), (6217, 1515915625443815936), (6218, 1515915625444932608), (6219, 1515915625461832192), (6220, 1515915625475836416), (6221, 1515915625444998656), (6222, 1515915625453758464), (6223, 1515915625443695616), (6224, 1515915625462916864), (6225, 1515915625462438656), (6226, 1515915625442429952), (6227, 1515915625460983040), (6228, 1515915625462896384), (6229, 1515915625450406144), (6230, 1515915625498125824), (6231, 1515915625462574592), (6232, 1515915625441010176), (6233, 1515915625462887936), (6234, 1515915625498173952), (6235, 1515915625442481408), (6236, 1515915625460637696), (6237, 1515915625441975808), (6238, 1515915625474779136), (6239, 1515915625462974976), (6240, 1515915625466500864), (6241, 1515915625443065344), (6242, 1515915625465170944), (6243, 1515915625443418368), (6244, 1515915625478697984), (6245, 1515915625464276736), (6246, 1515915625447927552), (6247, 1515915625443137280), (6248, 1515915625441655552), (6249, 1515915625481076736), (6250, 1515915625460449024), (6251, 1515915625470601216), (6252, 1515915625463015424), (6253, 1515915625457226240), (6254, 1515915625463101184), (6255, 1515915625441343232), (6256, 1515915625445721088), (6257, 1515915625447861504), (6258, 1515915625456317440), (6259, 1515915625498651136), (6260, 1515915625463150080), (6261, 1515915625492162304), (6262, 1515915625444290816), (6263, 1515915625450567936), (6264, 1515915625463298304), (6265, 1515915625461106688), (6266, 1515915625513722112), (6267, 1515915625486729984), (6268, 1515915625448816128), (6269, 1515915625463226112), (6270, 1515915625463139840), (6271, 1515915625452762368), (6272, 1515915625458221056), (6273, 1515915625442205952), (6274, 1515915625455625984), (6275, 1515915625463095808), (6276, 1515915625463415040), (6277, 1515915625450467840), (6278, 1515915625463426816), (6279, 1515915625462769664), (6280, 1515915625455644928), (6281, 1515915625486460672), (6282, 1515915625441666816), (6283, 1515915625463144192), (6284, 1515915625510946048), (6285, 1515915625462970880), (6286, 1515915625445301760), (6287, 1515915625486694144), (6288, 1515915625463318272), (6289, 1515915625459380480), (6290, 1515915625442707456), (6291, 1515915625461792256), (6292, 1515915625463327232), (6293, 1515915625472495616), (6294, 1515915625467073792), (6295, 1515915625463396352), (6296, 1515915625441413120), (6297, 1515915625463345152), (6298, 1515915625463339264), (6299, 1515915625442238464), (6300, 1515915625461972992), (6301, 1515915625453649408), (6302, 1515915625455577344), (6303, 1515915625457094400), (6304, 1515915625450455552), (6305, 1515915625486464256), (6306, 1515915625463510528), (6307, 1515915625463050496), (6308, 1515915625451146240), (6309, 1515915625444293632), (6310, 1515915625463054080), (6311, 1515915625463381760), (6312, 1515915625463899648), (6313, 1515915625463387648), (6314, 1515915625463389184), (6315, 1515915625452762624), (6316, 1515915625499131392), (6317, 1515915625463386880), (6318, 1515915625463120640), (6319, 1515915625463386624), (6320, 1515915625444703744), (6321, 1515915625475724032), (6322, 1515915625462420992), (6323, 1515915625463298560), (6324, 1515915625463413504), (6325, 1515915625463005696), (6326, 1515915625486698752), (6327, 1515915625455692032), (6328, 1515915625494425600), (6329, 1515915625462347264), (6330, 1515915625463446016), (6331, 1515915625462970112), (6332, 1515915625459130112), (6333, 1515915625462575360), (6334, 1515915625452937984), (6335, 1515915625441870592), (6336, 1515915625463447296), (6337, 1515915625463373568), (6338, 1515915625449788928), (6339, 1515915625443651072), (6340, 1515915625453866752), (6341, 1515915625462782464), (6342, 1515915625462600192), (6343, 1515915625463470848), (6344, 1515915625463471616), (6345, 1515915625463396864), (6346, 1515915625453618688), (6347, 1515915625449266432), (6348, 1515915625441675008), (6349, 1515915625456371968), (6350, 1515915625442081536), (6351, 1515915625457185024), (6352, 1515915625492806912), (6353, 1515915625463644160), (6354, 1515915625441436160), (6355, 1515915625443167232), (6356, 1515915625463538944), (6357, 1515915625448220928), (6358, 1515915625444956928), (6359, 1515915625463563776), (6360, 1515915625463568896), (6361, 1515915625463589120), (6362, 1515915625463418624), (6363, 1515915625463593984), (6364, 1515915625441223168), (6365, 1515915625460223232), (6366, 1515915625511724544), (6367, 1515915625449864448), (6368, 1515915625455448064), (6369, 1515915625462847232), (6370, 1515915625463662080), (6371, 1515915625463685632), (6372, 1515915625447877632), (6373, 1515915625477248256), (6374, 1515915625441124608), (6375, 1515915625463581696), (6376, 1515915625445625600), (6377, 1515915625458259712), (6378, 1515915625463779840), (6379, 1515915625463755008), (6380, 1515915625463777536), (6381, 1515915625496295936), (6382, 1515915625486716672), (6383, 1515915625463734016), (6384, 1515915625461893888), (6385, 1515915625463806720), (6386, 1515915625472231936), (6387, 1515915625463744512), (6388, 1515915625514593536), (6389, 1515915625460497664), (6390, 1515915625486708480), (6391, 1515915625449486336), (6392, 1515915625462858240), (6393, 1515915625445530368), (6394, 1515915625452510976), (6395, 1515915625460203776), (6396, 1515915625463846912), (6397, 1515915625452922112), (6398, 1515915625482798848), (6399, 1515915625451780864), (6400, 1515915625441486080), (6401, 1515915625463756288), (6402, 1515915625449178112), (6403, 1515915625463758080), (6404, 1515915625463341056), (6405, 1515915625463830272), (6406, 1515915625463752192), (6407, 1515915625441115136), (6408, 1515915625463870208), (6409, 1515915625441872128), (6410, 1515915625463836672), (6411, 1515915625463888384), (6412, 1515915625463888896), (6413, 1515915625456306688), (6414, 1515915625486695168), (6415, 1515915625463755520), (6416, 1515915625463856640), (6417, 1515915625463356928), (6418, 1515915625486695424), (6419, 1515915625441419264), (6420, 1515915625498341376), (6421, 1515915625462685440), (6422, 1515915625470683648), (6423, 1515915625462823936), (6424, 1515915625468627968), (6425, 1515915625446643712), (6426, 1515915625463727360), (6427, 1515915625442106624), (6428, 1515915625492173568), (6429, 1515915625458282752), (6430, 1515915625449357568), (6431, 1515915625453764096), (6432, 1515915625469430528), (6433, 1515915625441958656), (6434, 1515915625448321536), (6435, 1515915625463802112), (6436, 1515915625443920896), (6437, 1515915625463883008), (6438, 1515915625451822848), (6439, 1515915625454551296), (6440, 1515915625465232896), (6441, 1515915625441901568), (6442, 1515915625463807488), (6443, 1515915625463817472), (6444, 1515915625444747520), (6445, 1515915625453749760), (6446, 1515915625498357760), (6447, 1515915625456809984), (6448, 1515915625457880064), (6449, 1515915625440960256), (6450, 1515915625444492032), (6451, 1515915625442075136), (6452, 1515915625463840256), (6453, 1515915625498767872), (6454, 1515915625463844352), (6455, 1515915625467192064), (6456, 1515915625477611776), (6457, 1515915625455997952), (6458, 1515915625444569856), (6459, 1515915625463845632), (6460, 1515915625454187008), (6461, 1515915625463805440), (6462, 1515915625486626816), (6463, 1515915625463981056), (6464, 1515915625445449728), (6465, 1515915625458351104), (6466, 1515915625467381248), (6467, 1515915625453666560), (6468, 1515915625441175808), (6469, 1515915625463860224), (6470, 1515915625441458944), (6471, 1515915625513457664), (6472, 1515915625485640960), (6473, 1515915625474095616), (6474, 1515915625447689984), (6475, 1515915625444805632), (6476, 1515915625454567936), (6477, 1515915625456652032), (6478, 1515915625481455616), (6479, 1515915625463845376), (6480, 1515915625442662656), (6481, 1515915625463882752), (6482, 1515915625486459136), (6483, 1515915625463911936), (6484, 1515915625470642176), (6485, 1515915625460902144), (6486, 1515915625461085440), (6487, 1515915625479599616), (6488, 1515915625441298176), (6489, 1515915625467346176), (6490, 1515915625446394112), (6491, 1515915625441133824), (6492, 1515915625463838464), (6493, 1515915625486713344), (6494, 1515915625441461504), (6495, 1515915625486545152), (6496, 1515915625460634112), (6497, 1515915625452102656), (6498, 1515915625448354816), (6499, 1515915625462631680), (6500, 1515915625463955456), (6501, 1515915625443702528), (6502, 1515915625477666048), (6503, 1515915625463984896), (6504, 1515915625440960512), (6505, 1515915625450103808), (6506, 1515915625441307136), (6507, 1515915625450809088), (6508, 1515915625442645760), (6509, 1515915625463777024), (6510, 1515915625462779392), (6511, 1515915625463816192), (6512, 1515915625464145152), (6513, 1515915625497819904), (6514, 1515915625464193792), (6515, 1515915625464206592), (6516, 1515915625442036736), (6517, 1515915625463569664), (6518, 1515915625477030656), (6519, 1515915625464237312), (6520, 1515915625463255808), (6521, 1515915625464250880), (6522, 1515915625464742656), (6523, 1515915625458069248), (6524, 1515915625450975232), (6525, 1515915625464227584), (6526, 1515915625464098560), (6527, 1515915625459619584), (6528, 1515915625486724864), (6529, 1515915625441444608), (6530, 1515915625449262336), (6531, 1515915625464220672), (6532, 1515915625464241920), (6533, 1515915625486711040), (6534, 1515915625453951744), (6535, 1515915625486721792), (6536, 1515915625464294144), (6537, 1515915625464262400), (6538, 1515915625464210432), (6539, 1515915625464302080), (6540, 1515915625465079552), (6541, 1515915625441727488), (6542, 1515915625469931264), (6543, 1515915625486695680), (6544, 1515915625467537664), (6545, 1515915625464192256), (6546, 1515915625464312832), (6547, 1515915625464276480), (6548, 1515915625464258304), (6549, 1515915625462791168), (6550, 1515915625464209152), (6551, 1515915625464286464), (6552, 1515915625473802752), (6553, 1515915625462424832), (6554, 1515915625464324352), (6555, 1515915625481514240), (6556, 1515915625463045888), (6557, 1515915625458997248), (6558, 1515915625464311296), (6559, 1515915625464268800), (6560, 1515915625448722432), (6561, 1515915625464340480), (6562, 1515915625464342528), (6563, 1515915625467746816), (6564, 1515915625464194560), (6565, 1515915625492817408), (6566, 1515915625464119808), (6567, 1515915625464345088), (6568, 1515915625481229312), (6569, 1515915625448778496), (6570, 1515915625464353280), (6571, 1515915625463496704), (6572, 1515915625448821504), (6573, 1515915625443955200), (6574, 1515915625442156800), (6575, 1515915625486182912), (6576, 1515915625469853696), (6577, 1515915625464225024), (6578, 1515915625470388736), (6579, 1515915625457540864), (6580, 1515915625461011712), (6581, 1515915625464264704), (6582, 1515915625443482112), (6583, 1515915625470567936), (6584, 1515915625441280000), (6585, 1515915625463542272), (6586, 1515915625464225792), (6587, 1515915625463771392), (6588, 1515915625464240128), (6589, 1515915625441574400), (6590, 1515915625454167296), (6591, 1515915625464072960), (6592, 1515915625486557184), (6593, 1515915625460090624), (6594, 1515915625455283968), (6595, 1515915625462080000), (6596, 1515915625457561600), (6597, 1515915625460688384), (6598, 1515915625444281344), (6599, 1515915625464387840), (6600, 1515915625464254976), (6601, 1515915625464247040), (6602, 1515915625476754944), (6603, 1515915625465606912), (6604, 1515915625504457472), (6605, 1515915625441452544), (6606, 1515915625458963712), (6607, 1515915625463330304), (6608, 1515915625448026880), (6609, 1515915625462226432), (6610, 1515915625443788544), (6611, 1515915625463593728), (6612, 1515915625458017536), (6613, 1515915625462912512), (6614, 1515915625463156736), (6615, 1515915625463126272), (6616, 1515915625512525568), (6617, 1515915625464210944), (6618, 1515915625464453888), (6619, 1515915625462985728), (6620, 1515915625460822528), (6621, 1515915625460197632), (6622, 1515915625462677248), (6623, 1515915625463892992), (6624, 1515915625464324864), (6625, 1515915625461501696), (6626, 1515915625486459904), (6627, 1515915625475120640), (6628, 1515915625461101312), (6629, 1515915625511993344), (6630, 1515915625441638656), (6631, 1515915625463904512), (6632, 1515915625464364800), (6633, 1515915625448984320), (6634, 1515915625464382208), (6635, 1515915625464374016), (6636, 1515915625466310400), (6637, 1515915625441007872), (6638, 1515915625463895552), (6639, 1515915625440990720), (6640, 1515915625493352960), (6641, 1515915625453514240), (6642, 1515915625460380672), (6643, 1515915625455411200), (6644, 1515915625468048128), (6645, 1515915625457612544), (6646, 1515915625464428544), (6647, 1515915625462833408), (6648, 1515915625443785728), (6649, 1515915625443548416), (6650, 1515915625448776960), (6651, 1515915625464606464), (6652, 1515915625464562688), (6653, 1515915625453416704), (6654, 1515915625442067968), (6655, 1515915625464662016), (6656, 1515915625464046848), (6657, 1515915625447856640), (6658, 1515915625464677376), (6659, 1515915625441337856), (6660, 1515915625444173056), (6661, 1515915625455076096), (6662, 1515915625464719104), (6663, 1515915625464321280), (6664, 1515915625463763968), (6665, 1515915625464736256), (6666, 1515915625468990208), (6667, 1515915625486696448), (6668, 1515915625464770816), (6669, 1515915625441042432), (6670, 1515915625492171264), (6671, 1515915625485307136), (6672, 1515915625458648832), (6673, 1515915625506802688), (6674, 1515915625441293824), (6675, 1515915625464766976), (6676, 1515915625464761088), (6677, 1515915625449808640), (6678, 1515915625504470528), (6679, 1515915625464614144), (6680, 1515915625441952000), (6681, 1515915625442020352), (6682, 1515915625486696704), (6683, 1515915625464792064), (6684, 1515915625441435648), (6685, 1515915625464649984), (6686, 1515915625464648704), (6687, 1515915625463759104), (6688, 1515915625448240384), (6689, 1515915625458961920), (6690, 1515915625464683008), (6691, 1515915625464678400), (6692, 1515915625464374528), (6693, 1515915625512031488), (6694, 1515915625444944384), (6695, 1515915625465151488), (6696, 1515915625485274624), (6697, 1515915625442405376), (6698, 1515915625452673024), (6699, 1515915625464860416), (6700, 1515915625464071168), (6701, 1515915625450880256), (6702, 1515915625485689344), (6703, 1515915625464869632), (6704, 1515915625497530368), (6705, 1515915625456412160), (6706, 1515915625472929280), (6707, 1515915625461329920), (6708, 1515915625464707584), (6709, 1515915625464743680), (6710, 1515915625460873472), (6711, 1515915625448946944), (6712, 1515915625464758016), (6713, 1515915625444394496), (6714, 1515915625449830656), (6715, 1515915625450927360), (6716, 1515915625510898176), (6717, 1515915625465637888), (6718, 1515915625464777984), (6719, 1515915625492162816), (6720, 1515915625475885056), (6721, 1515915625464791040), (6722, 1515915625459041280), (6723, 1515915625464698112), (6724, 1515915625465050880), (6725, 1515915625464814080), (6726, 1515915625464818688), (6727, 1515915625458311680), (6728, 1515915625441318912), (6729, 1515915625443940096), (6730, 1515915625444125440), (6731, 1515915625446493696), (6732, 1515915625460401152), (6733, 1515915625464886016), (6734, 1515915625441312000), (6735, 1515915625464911872), (6736, 1515915625446440192), (6737, 1515915625464942848), (6738, 1515915625443562496), (6739, 1515915625449037312), (6740, 1515915625444520960), (6741, 1515915625465110016), (6742, 1515915625496682496), (6743, 1515915625443935744), (6744, 1515915625464510464), (6745, 1515915625465145088), (6746, 1515915625465093632), (6747, 1515915625465148416), (6748, 1515915625445956352), (6749, 1515915625444563200), (6750, 1515915625443588352), (6751, 1515915625458904832), (6752, 1515915625465210112), (6753, 1515915625458116352), (6754, 1515915625486697216), (6755, 1515915625451499008), (6756, 1515915625465174016), (6757, 1515915625486697472), (6758, 1515915625465091328), (6759, 1515915625486727680), (6760, 1515915625443567872), (6761, 1515915625466483712), (6762, 1515915625473522176), (6763, 1515915625465195008), (6764, 1515915625464732160), (6765, 1515915625465101312), (6766, 1515915625513716992), (6767, 1515915625455006976), (6768, 1515915625464828416), (6769, 1515915625465132032), (6770, 1515915625512675840), (6771, 1515915625465145344), (6772, 1515915625445756416), (6773, 1515915625449497856), (6774, 1515915625465144832), (6775, 1515915625446459904), (6776, 1515915625441003776), (6777, 1515915625492814848), (6778, 1515915625443599616), (6779, 1515915625445306368), (6780, 1515915625498300416), (6781, 1515915625464623872), (6782, 1515915625477126400), (6783, 1515915625465180672), (6784, 1515915625492167168), (6785, 1515915625443789312), (6786, 1515915625464630528), (6787, 1515915625485782528), (6788, 1515915625465347072), (6789, 1515915625454796288), (6790, 1515915625443064832), (6791, 1515915625463058944), (6792, 1515915625464718848), (6793, 1515915625446633728), (6794, 1515915625465139200), (6795, 1515915625455090432), (6796, 1515915625464970240), (6797, 1515915625465006336), (6798, 1515915625441628928), (6799, 1515915625452508416), (6800, 1515915625465268480), (6801, 1515915625454572800), (6802, 1515915625476694784), (6803, 1515915625465105664), (6804, 1515915625470042112), (6805, 1515915625459517184), (6806, 1515915625448250368), (6807, 1515915625465301248), (6808, 1515915625443752448), (6809, 1515915625447605760), (6810, 1515915625471196672), (6811, 1515915625511521536), (6812, 1515915625445944320), (6813, 1515915625445921792), (6814, 1515915625465308160), (6815, 1515915625465321984), (6816, 1515915625465387264), (6817, 1515915625483411456), (6818, 1515915625465090560), (6819, 1515915625465111552), (6820, 1515915625465440256), (6821, 1515915625486700800), (6822, 1515915625443010816), (6823, 1515915625462377728), (6824, 1515915625460543488), (6825, 1515915625512497664), (6826, 1515915625462957824), (6827, 1515915625465526784), (6828, 1515915625465577472), (6829, 1515915625444160000), (6830, 1515915625465589504), (6831, 1515915625465504768), (6832, 1515915625465600768), (6833, 1515915625443652096), (6834, 1515915625461297920), (6835, 1515915625447994880), (6836, 1515915625464575232), (6837, 1515915625486698240), (6838, 1515915625448708096), (6839, 1515915625441294080), (6840, 1515915625465547520), (6841, 1515915625443602688), (6842, 1515915625464637184), (6843, 1515915625445291776), (6844, 1515915625447069696), (6845, 1515915625506183424), (6846, 1515915625459948800), (6847, 1515915625441295360), (6848, 1515915625465546752), (6849, 1515915625441670400), (6850, 1515915625449832448), (6851, 1515915625450547456), (6852, 1515915625461384192), (6853, 1515915625465150720), (6854, 1515915625447611136), (6855, 1515915625454592000), (6856, 1515915625465630208), (6857, 1515915625463027712), (6858, 1515915625474763520), (6859, 1515915625485592320), (6860, 1515915625495593728), (6861, 1515915625465643776), (6862, 1515915625506330880), (6863, 1515915625445950208), (6864, 1515915625464912896), (6865, 1515915625441523456), (6866, 1515915625448161280), (6867, 1515915625510494720), (6868, 1515915625492172032), (6869, 1515915625465682432), (6870, 1515915625443758592), (6871, 1515915625467285248), (6872, 1515915625463875328), (6873, 1515915625463162880), (6874, 1515915625465707776), (6875, 1515915625441714176), (6876, 1515915625458099712), (6877, 1515915625464677632), (6878, 1515915625513726720), (6879, 1515915625470278400), (6880, 1515915625465147392), (6881, 1515915625451376128), (6882, 1515915625465973760), (6883, 1515915625441247232), (6884, 1515915625464789248), (6885, 1515915625465289984), (6886, 1515915625455665408), (6887, 1515915625486698496), (6888, 1515915625486699008), (6889, 1515915625442201344), (6890, 1515915625455596288), (6891, 1515915625441316352), (6892, 1515915625465734656), (6893, 1515915625493429504), (6894, 1515915625465674752), (6895, 1515915625465961728), (6896, 1515915625467957248), (6897, 1515915625454742528), (6898, 1515915625449140992), (6899, 1515915625481209856), (6900, 1515915625476647680), (6901, 1515915625466061312), (6902, 1515915625465984000), (6903, 1515915625465697792), (6904, 1515915625449091328), (6905, 1515915625443808512), (6906, 1515915625498308864), (6907, 1515915625451847168), (6908, 1515915625451853312), (6909, 1515915625468061184), (6910, 1515915625482075648), (6911, 1515915625468320256), (6912, 1515915625482417408), (6913, 1515915625513719552), (6914, 1515915625461136384), (6915, 1515915625468696576), (6916, 1515915625482416640), (6917, 1515915625465377792), (6918, 1515915625441083904), (6919, 1515915625442156032), (6920, 1515915625479137280), (6921, 1515915625443965184), (6922, 1515915625465961984), (6923, 1515915625466397952), (6924, 1515915625486699776), (6925, 1515915625466352384), (6926, 1515915625465097984), (6927, 1515915625466443776), (6928, 1515915625478074880), (6929, 1515915625458026496), (6930, 1515915625442736384), (6931, 1515915625472415744), (6932, 1515915625466131968), (6933, 1515915625466492928), (6934, 1515915625466465792), (6935, 1515915625486728960), (6936, 1515915625479238912), (6937, 1515915625466485248), (6938, 1515915625444265984), (6939, 1515915625466512640), (6940, 1515915625466456576), (6941, 1515915625468568576), (6942, 1515915625466543872), (6943, 1515915625476024320), (6944, 1515915625461496320), (6945, 1515915625470136576), (6946, 1515915625464841216), (6947, 1515915625475874048), (6948, 1515915625453192960), (6949, 1515915625466449152), (6950, 1515915625454327552), (6951, 1515915625446461184), (6952, 1515915625441683968), (6953, 1515915625460503040), (6954, 1515915625468813824), (6955, 1515915625482428160), (6956, 1515915625469052160), (6957, 1515915625466589184), (6958, 1515915625455133184), (6959, 1515915625442295040), (6960, 1515915625466013184), (6961, 1515915625474996992), (6962, 1515915625472308736), (6963, 1515915625442154240), (6964, 1515915625470830080), (6965, 1515915625466535680), (6966, 1515915625473647104), (6967, 1515915625465959168), (6968, 1515915625463474176), (6969, 1515915625460252416), (6970, 1515915625465102592), (6971, 1515915625464804864), (6972, 1515915625441932544), (6973, 1515915625465349376), (6974, 1515915625466614528), (6975, 1515915625441482496), (6976, 1515915625448420352), (6977, 1515915625466019840), (6978, 1515915625440947712), (6979, 1515915625466752512), (6980, 1515915625450653952), (6981, 1515915625475918848), (6982, 1515915625446539264), (6983, 1515915625466654976), (6984, 1515915625466810880), (6985, 1515915625444936704), (6986, 1515915625466794240), (6987, 1515915625459595520), (6988, 1515915625444078080), (6989, 1515915625442163712), (6990, 1515915625466470912), (6991, 1515915625469410816), (6992, 1515915625466536960), (6993, 1515915625492164096), (6994, 1515915625492164352), (6995, 1515915625486701312), (6996, 1515915625469025792), (6997, 1515915625486083072), (6998, 1515915625441826816), (6999, 1515915625441295104), (7000, 1515915625466734592), (7001, 1515915625466462720), (7002, 1515915625465809152), (7003, 1515915625465544192), (7004, 1515915625466805760), (7005, 1515915625466797824), (7006, 1515915625456344320), (7007, 1515915625466161664), (7008, 1515915625466899456), (7009, 1515915625449251840), (7010, 1515915625442733056), (7011, 1515915625456484352), (7012, 1515915625442076160), (7013, 1515915625442465792), (7014, 1515915625466826752), (7015, 1515915625449246208), (7016, 1515915625445852416), (7017, 1515915625441361152), (7018, 1515915625479289344), (7019, 1515915625466749440), (7020, 1515915625474283008), (7021, 1515915625466839296), (7022, 1515915625444786688), (7023, 1515915625440971520), (7024, 1515915625445050880), (7025, 1515915625466755328), (7026, 1515915625477305600), (7027, 1515915625466900992), (7028, 1515915625466893312), (7029, 1515915625512672768), (7030, 1515915625499644672), (7031, 1515915625451479552), (7032, 1515915625465845248), (7033, 1515915625448139520), (7034, 1515915625445278720), (7035, 1515915625466945024), (7036, 1515915625441315072), (7037, 1515915625441006336), (7038, 1515915625443689728), (7039, 1515915625467125248), (7040, 1515915625467120896), (7041, 1515915625462557696), (7042, 1515915625467092224), (7043, 1515915625453101568), (7044, 1515915625442507520), (7045, 1515915625467150848), (7046, 1515915625467162112), (7047, 1515915625467195136), (7048, 1515915625493430016), (7049, 1515915625441409024), (7050, 1515915625481472768), (7051, 1515915625466628352), (7052, 1515915625455059968), (7053, 1515915625467216128), (7054, 1515915625442132736), (7055, 1515915625475364352), (7056, 1515915625467236608), (7057, 1515915625476246528), (7058, 1515915625470437120), (7059, 1515915625479405568), (7060, 1515915625460233472), (7061, 1515915625468713216), (7062, 1515915625442483712), (7063, 1515915625467162880), (7064, 1515915625444533760), (7065, 1515915625444543488), (7066, 1515915625482910720), (7067, 1515915625466540032), (7068, 1515915625467264000), (7069, 1515915625467267072), (7070, 1515915625485283584), (7071, 1515915625441073664), (7072, 1515915625442449152), (7073, 1515915625456140544), (7074, 1515915625443040000), (7075, 1515915625472549888), (7076, 1515915625467298048), (7077, 1515915625467277056), (7078, 1515915625468447744), (7079, 1515915625467190528), (7080, 1515915625492164608), (7081, 1515915625468696832), (7082, 1515915625441402112), (7083, 1515915625442308608), (7084, 1515915625441474304), (7085, 1515915625467232768), (7086, 1515915625484971520), (7087, 1515915625462761472), (7088, 1515915625467124992), (7089, 1515915625464865792), (7090, 1515915625462513920), (7091, 1515915625464254464), (7092, 1515915625467213824), (7093, 1515915625454287360), (7094, 1515915625449183488), (7095, 1515915625470374656), (7096, 1515915625498365184), (7097, 1515915625470291200), (7098, 1515915625444525824), (7099, 1515915625457660672), (7100, 1515915625462824704), (7101, 1515915625467127552), (7102, 1515915625467226880), (7103, 1515915625460679680), (7104, 1515915625469030144), (7105, 1515915625485603328), (7106, 1515915625466094336), (7107, 1515915625492163584), (7108, 1515915625475308288), (7109, 1515915625465781760), (7110, 1515915625481056000), (7111, 1515915625459283712), (7112, 1515915625467292416), (7113, 1515915625479994112), (7114, 1515915625467269376), (7115, 1515915625475323392), (7116, 1515915625467314432), (7117, 1515915625467272448), (7118, 1515915625467212032), (7119, 1515915625466610432), (7120, 1515915625467520768), (7121, 1515915625441899264), (7122, 1515915625445394432), (7123, 1515915625467598336), (7124, 1515915625486710784), (7125, 1515915625467652352), (7126, 1515915625466095872), (7127, 1515915625467535872), (7128, 1515915625492163840), (7129, 1515915625455579136), (7130, 1515915625467545856), (7131, 1515915625442627584), (7132, 1515915625486702848), (7133, 1515915625477801472), (7134, 1515915625451508736), (7135, 1515915625467693056), (7136, 1515915625445923584), (7137, 1515915625494561792), (7138, 1515915625453479424), (7139, 1515915625465214976), (7140, 1515915625492165888), (7141, 1515915625444396288), (7142, 1515915625451827200), (7143, 1515915625444881408), (7144, 1515915625467619840), (7145, 1515915625464665600), (7146, 1515915625455745792), (7147, 1515915625451753728), (7148, 1515915625467616256), (7149, 1515915625482754304), (7150, 1515915625450247424), (7151, 1515915625467531008), (7152, 1515915625462435584), (7153, 1515915625467427072), (7154, 1515915625442066432), (7155, 1515915625467626240), (7156, 1515915625440974848), (7157, 1515915625440968448), (7158, 1515915625461405440), (7159, 1515915625467682816), (7160, 1515915625467651840), (7161, 1515915625449319168), (7162, 1515915625467841792), (7163, 1515915625467554304), (7164, 1515915625455712768), (7165, 1515915625458443264), (7166, 1515915625492165632), (7167, 1515915625462764800), (7168, 1515915625467941376), (7169, 1515915625467947776), (7170, 1515915625467928832), (7171, 1515915625471685888), (7172, 1515915625493430272), (7173, 1515915625486703616), (7174, 1515915625486703104), (7175, 1515915625462110208), (7176, 1515915625467936512), (7177, 1515915625467933184), (7178, 1515915625468148224), (7179, 1515915625443405056), (7180, 1515915625468054016), (7181, 1515915625467946240), (7182, 1515915625441356800), (7183, 1515915625467955456), (7184, 1515915625441013504), (7185, 1515915625467662592), (7186, 1515915625467932160), (7187, 1515915625456794880), (7188, 1515915625467921152), (7189, 1515915625464368896), (7190, 1515915625449864704), (7191, 1515915625469189888), (7192, 1515915625467344384), (7193, 1515915625498349824), (7194, 1515915625467936768), (7195, 1515915625467628288), (7196, 1515915625443434240), (7197, 1515915625446369024), (7198, 1515915625463603200), (7199, 1515915625467300608), (7200, 1515915625450865920), (7201, 1515915625443752960), (7202, 1515915625467348480), (7203, 1515915625468144384), (7204, 1515915625460067328), (7205, 1515915625462090752), (7206, 1515915625446260224), (7207, 1515915625442113024), (7208, 1515915625459985664), (7209, 1515915625468561152), (7210, 1515915625492168448), (7211, 1515915625468580864), (7212, 1515915625466740736), (7213, 1515915625466472960), (7214, 1515915625442785792), (7215, 1515915625450855680), (7216, 1515915625441889792), (7217, 1515915625512539648), (7218, 1515915625443687168), (7219, 1515915625462236416), (7220, 1515915625486703872), (7221, 1515915625468544768), (7222, 1515915625486704640), (7223, 1515915625448046336), (7224, 1515915625498264320), (7225, 1515915625467940352), (7226, 1515915625486704128), (7227, 1515915625486704384), (7228, 1515915625468689920), (7229, 1515915625461322496), (7230, 1515915625468607232), (7231, 1515915625442037504), (7232, 1515915625468323840), (7233, 1515915625473906944), (7234, 1515915625441018880), (7235, 1515915625468763136), (7236, 1515915625446968832), (7237, 1515915625464218624), (7238, 1515915625445084416), (7239, 1515915625467055104), (7240, 1515915625468787968), (7241, 1515915625466339072), (7242, 1515915625443141376), (7243, 1515915625455894016), (7244, 1515915625457634048), (7245, 1515915625462825472), (7246, 1515915625460201984), (7247, 1515915625484452608), (7248, 1515915625483586816), (7249, 1515915625452585728), (7250, 1515915625474095360), (7251, 1515915625462396672), (7252, 1515915625456972288), (7253, 1515915625469564928), (7254, 1515915625444533504), (7255, 1515915625450144512), (7256, 1515915625468989440), (7257, 1515915625442129408), (7258, 1515915625450608896), (7259, 1515915625469030656), (7260, 1515915625462005248), (7261, 1515915625441029888), (7262, 1515915625456963072), (7263, 1515915625469844992), (7264, 1515915625469071104), (7265, 1515915625459901952), (7266, 1515915625469081600), (7267, 1515915625477669632), (7268, 1515915625468730624), (7269, 1515915625448836352), (7270, 1515915625469114112), (7271, 1515915625468987648), (7272, 1515915625469122048), (7273, 1515915625443127808), (7274, 1515915625441376512), (7275, 1515915625468999936), (7276, 1515915625482416384), (7277, 1515915625443141632), (7278, 1515915625468971008), (7279, 1515915625512678144), (7280, 1515915625469034752), (7281, 1515915625445767424), (7282, 1515915625468991232), (7283, 1515915625467403776), (7284, 1515915625447716864), (7285, 1515915625445274368), (7286, 1515915625468327936), (7287, 1515915625482592768), (7288, 1515915625462914048), (7289, 1515915625468979200), (7290, 1515915625493564928), (7291, 1515915625461102848), (7292, 1515915625469181696), (7293, 1515915625468771840), (7294, 1515915625472231680), (7295, 1515915625469063680), (7296, 1515915625468966912), (7297, 1515915625471126272), (7298, 1515915625469248256), (7299, 1515915625512475136), (7300, 1515915625469971968), (7301, 1515915625470877952), (7302, 1515915625469027584), (7303, 1515915625468740352), (7304, 1515915625443927552), (7305, 1515915625447670528), (7306, 1515915625467921920), (7307, 1515915625467819520), (7308, 1515915625467029504), (7309, 1515915625442665984), (7310, 1515915625486532608), (7311, 1515915625469122560), (7312, 1515915625463779584), (7313, 1515915625463362048), (7314, 1515915625450497536), (7315, 1515915625466689536), (7316, 1515915625448513024), (7317, 1515915625465436160), (7318, 1515915625454554880), (7319, 1515915625444691968), (7320, 1515915625466987008), (7321, 1515915625468558336), (7322, 1515915625446006272), (7323, 1515915625469382144), (7324, 1515915625446165760), (7325, 1515915625469387776), (7326, 1515915625466376960), (7327, 1515915625469420544), (7328, 1515915625469432832), (7329, 1515915625498704896), (7330, 1515915625469450752), (7331, 1515915625470986752), (7332, 1515915625463453440), (7333, 1515915625469469952), (7334, 1515915625442792704), (7335, 1515915625451391232), (7336, 1515915625461634048), (7337, 1515915625486705664), (7338, 1515915625510834432), (7339, 1515915625486705920), (7340, 1515915625441732608), (7341, 1515915625469415424), (7342, 1515915625512669440), (7343, 1515915625486706176), (7344, 1515915625441998592), (7345, 1515915625466893568), (7346, 1515915625469428736), (7347, 1515915625468726272), (7348, 1515915625486706432), (7349, 1515915625468391680), (7350, 1515915625469589504), (7351, 1515915625448407552), (7352, 1515915625469217792), (7353, 1515915625495601920), (7354, 1515915625462601728), (7355, 1515915625469597952), (7356, 1515915625463488768), (7357, 1515915625469472512), (7358, 1515915625462103552), (7359, 1515915625448298496), (7360, 1515915625459021056), (7361, 1515915625461612032), (7362, 1515915625458036736), (7363, 1515915625461769472), (7364, 1515915625469400064), (7365, 1515915625465236224), (7366, 1515915625443454464), (7367, 1515915625469535744), (7368, 1515915625492841728), (7369, 1515915625484881920), (7370, 1515915625481612544), (7371, 1515915625486727424), (7372, 1515915625449391104), (7373, 1515915625441584640), (7374, 1515915625469213440), (7375, 1515915625442256128), (7376, 1515915625455313152), (7377, 1515915625464755968), (7378, 1515915625441882624), (7379, 1515915625480662784), (7380, 1515915625450473472), (7381, 1515915625486648832), (7382, 1515915625482444800), (7383, 1515915625452874752), (7384, 1515915625466430720), (7385, 1515915625466738432), (7386, 1515915625458223360), (7387, 1515915625492167424), (7388, 1515915625469813760), (7389, 1515915625469674752), (7390, 1515915625486724352), (7391, 1515915625486707456), (7392, 1515915625469463808), (7393, 1515915625469836800), (7394, 1515915625512658688), (7395, 1515915625469797120), (7396, 1515915625492168960), (7397, 1515915625498247168), (7398, 1515915625469870080), (7399, 1515915625469875968), (7400, 1515915625469882880), (7401, 1515915625469676032), (7402, 1515915625441707264), (7403, 1515915625497677568), (7404, 1515915625486731008), (7405, 1515915625469131520), (7406, 1515915625441412352), (7407, 1515915625486707200), (7408, 1515915625469603584), (7409, 1515915625469836288), (7410, 1515915625469911552), (7411, 1515915625467723264), (7412, 1515915625441016064), (7413, 1515915625469929728), (7414, 1515915625468558848), (7415, 1515915625470575360), (7416, 1515915625469931008), (7417, 1515915625469906432), (7418, 1515915625486706688), (7419, 1515915625445421568), (7420, 1515915625469932288), (7421, 1515915625470556160), (7422, 1515915625469936384), (7423, 1515915625441117440), (7424, 1515915625469942016), (7425, 1515915625464354304), (7426, 1515915625469838848), (7427, 1515915625469953024), (7428, 1515915625469960192), (7429, 1515915625469891584), (7430, 1515915625471624448), (7431, 1515915625447082496), (7432, 1515915625497911808), (7433, 1515915625469970688), (7434, 1515915625469839872), (7435, 1515915625483156224), (7436, 1515915625465954816), (7437, 1515915625469982208), (7438, 1515915625509108992), (7439, 1515915625462006016), (7440, 1515915625441450752), (7441, 1515915625442124288), (7442, 1515915625443367424), (7443, 1515915625443709440), (7444, 1515915625486254080), (7445, 1515915625470024448), (7446, 1515915625443525376), (7447, 1515915625469875456), (7448, 1515915625445036544), (7449, 1515915625485780480), (7450, 1515915625457624064), (7451, 1515915625449740032), (7452, 1515915625442204928), (7453, 1515915625467131136), (7454, 1515915625468736000), (7455, 1515915625469468672), (7456, 1515915625466670848), (7457, 1515915625457179904), (7458, 1515915625470185216), (7459, 1515915625469501952), (7460, 1515915625470199040), (7461, 1515915625470203904), (7462, 1515915625469214464), (7463, 1515915625470203648), (7464, 1515915625470209536), (7465, 1515915625470211072), (7466, 1515915625470207488), (7467, 1515915625470210048), (7468, 1515915625470224128), (7469, 1515915625470221568), (7470, 1515915625470232320), (7471, 1515915625492165120), (7472, 1515915625470240768), (7473, 1515915625470235136), (7474, 1515915625449332480), (7475, 1515915625441734144), (7476, 1515915625469879040), (7477, 1515915625470276864), (7478, 1515915625510878208), (7479, 1515915625469852928), (7480, 1515915625470273792), (7481, 1515915625469968640), (7482, 1515915625470276352), (7483, 1515915625486708736), (7484, 1515915625470286848), (7485, 1515915625470272000), (7486, 1515915625486707968), (7487, 1515915625469825792), (7488, 1515915625465291520), (7489, 1515915625470313216), (7490, 1515915625471788288), (7491, 1515915625470313984), (7492, 1515915625470311168), (7493, 1515915625470024960), (7494, 1515915625486460928), (7495, 1515915625470327296), (7496, 1515915625446130176), (7497, 1515915625445365760), (7498, 1515915625441642752), (7499, 1515915625473691136), (7500, 1515915625511994624), (7501, 1515915625473025536), (7502, 1515915625468561920), (7503, 1515915625441962752), (7504, 1515915625448433408), (7505, 1515915625512038912), (7506, 1515915625484708864), (7507, 1515915625459670784), (7508, 1515915625462072064), (7509, 1515915625470242816), (7510, 1515915625468578560), (7511, 1515915625443362560), (7512, 1515915625464824320), (7513, 1515915625442961920), (7514, 1515915625473515008), (7515, 1515915625470228736), (7516, 1515915625469984768), (7517, 1515915625474092544), (7518, 1515915625469208832), (7519, 1515915625463010560), (7520, 1515915625444216320), (7521, 1515915625442965504), (7522, 1515915625464878848), (7523, 1515915625481530368), (7524, 1515915625470334976), (7525, 1515915625469254144), (7526, 1515915625470359040), (7527, 1515915625441368832), (7528, 1515915625469880576), (7529, 1515915625455253760), (7530, 1515915625446052096), (7531, 1515915625449985280), (7532, 1515915625443870208), (7533, 1515915625447666176), (7534, 1515915625469597696), (7535, 1515915625469389056), (7536, 1515915625468967424), (7537, 1515915625472980480), (7538, 1515915625470548480), (7539, 1515915625454200064), (7540, 1515915625448729088), (7541, 1515915625448215808), (7542, 1515915625464062720), (7543, 1515915625470603008), (7544, 1515915625492065024), (7545, 1515915625498355968), (7546, 1515915625470617600), (7547, 1515915625470532864), (7548, 1515915625470679808), (7549, 1515915625443654912), (7550, 1515915625469990656), (7551, 1515915625470684672), (7552, 1515915625486709760), (7553, 1515915625458893056), (7554, 1515915625458934528), (7555, 1515915625465164544), (7556, 1515915625471042560), (7557, 1515915625470763520), (7558, 1515915625470589696), (7559, 1515915625494632960), (7560, 1515915625476037632), (7561, 1515915625457620992), (7562, 1515915625465094656), (7563, 1515915625444747776), (7564, 1515915625442109952), (7565, 1515915625440987648), (7566, 1515915625452562432), (7567, 1515915625470590720), (7568, 1515915625461676288), (7569, 1515915625470494464), (7570, 1515915625460742656), (7571, 1515915625441173760), (7572, 1515915625470097408), (7573, 1515915625452071680), (7574, 1515915625464831744), (7575, 1515915625442109184), (7576, 1515915625492166912), (7577, 1515915625449429504), (7578, 1515915625442964736), (7579, 1515915625495290880), (7580, 1515915625447001344), (7581, 1515915625467993344), (7582, 1515915625486458112), (7583, 1515915625470806528), (7584, 1515915625463774208), (7585, 1515915625470841344), (7586, 1515915625445946880), (7587, 1515915625447103488), (7588, 1515915625471057920), (7589, 1515915625454989568), (7590, 1515915625492166656), (7591, 1515915625492167936), (7592, 1515915625470587392), (7593, 1515915625452065792), (7594, 1515915625492166400), (7595, 1515915625471043072), (7596, 1515915625471179008), (7597, 1515915625486710528), (7598, 1515915625462656768), (7599, 1515915625486710016), (7600, 1515915625468549632), (7601, 1515915625483970304), (7602, 1515915625486710272), (7603, 1515915625465945088), (7604, 1515915625471066112), (7605, 1515915625481022208), (7606, 1515915625471102464), (7607, 1515915625444245504), (7608, 1515915625471106560), (7609, 1515915625478771968), (7610, 1515915625471110912), (7611, 1515915625460197120), (7612, 1515915625464698880), (7613, 1515915625445765632), (7614, 1515915625467167744), (7615, 1515915625469534720), (7616, 1515915625471242752), (7617, 1515915625440968704), (7618, 1515915625497667584), (7619, 1515915625448899072), (7620, 1515915625471165440), (7621, 1515915625441388544), (7622, 1515915625466670336), (7623, 1515915625451651584), (7624, 1515915625448384256), (7625, 1515915625466810624), (7626, 1515915625464772608), (7627, 1515915625470610432), (7628, 1515915625450541824), (7629, 1515915625464706048), (7630, 1515915625469232640), (7631, 1515915625459424256), (7632, 1515915625471283712), (7633, 1515915625471319040), (7634, 1515915625471318016), (7635, 1515915625471337984), (7636, 1515915625468706304), (7637, 1515915625463737600), (7638, 1515915625512926208), (7639, 1515915625441684736), (7640, 1515915625443545856), (7641, 1515915625471559680), (7642, 1515915625492168704), (7643, 1515915625471588608), (7644, 1515915625459520512), (7645, 1515915625471668224), (7646, 1515915625511098880), (7647, 1515915625447047168), (7648, 1515915625449264896), (7649, 1515915625441103616), (7650, 1515915625458395392), (7651, 1515915625486711296), (7652, 1515915625466432000), (7653, 1515915625486711552), (7654, 1515915625471743744), (7655, 1515915625471576832), (7656, 1515915625471753472), (7657, 1515915625471763200), (7658, 1515915625471867392), (7659, 1515915625471757056), (7660, 1515915625446702080), (7661, 1515915625471818240), (7662, 1515915625471620608), (7663, 1515915625471579392), (7664, 1515915625471581952), (7665, 1515915625509050624), (7666, 1515915625441629184), (7667, 1515915625471867904), (7668, 1515915625485572096), (7669, 1515915625466959360), (7670, 1515915625486238720), (7671, 1515915625477043968), (7672, 1515915625482436864), (7673, 1515915625440998144), (7674, 1515915625469590016), (7675, 1515915625454181120), (7676, 1515915625441710336), (7677, 1515915625466764800), (7678, 1515915625471780864), (7679, 1515915625498284800), (7680, 1515915625447689472), (7681, 1515915625471815424), (7682, 1515915625442712320), (7683, 1515915625460349184), (7684, 1515915625462615040), (7685, 1515915625459154432), (7686, 1515915625471746560), (7687, 1515915625493073152), (7688, 1515915625472015872), (7689, 1515915625472016384), (7690, 1515915625472017920), (7691, 1515915625497531648), (7692, 1515915625486712320), (7693, 1515915625466370816), (7694, 1515915625471577600), (7695, 1515915625472108288), (7696, 1515915625472196608), (7697, 1515915625449880576), (7698, 1515915625472044288), (7699, 1515915625445160192), (7700, 1515915625486461696), (7701, 1515915625498221312), (7702, 1515915625445936128), (7703, 1515915625472067072), (7704, 1515915625472242432), (7705, 1515915625465643008), (7706, 1515915625472245760), (7707, 1515915625459611904), (7708, 1515915625472256768), (7709, 1515915625469816832), (7710, 1515915625472118272), (7711, 1515915625472112384), (7712, 1515915625441414144), (7713, 1515915625471147776), (7714, 1515915625444078592), (7715, 1515915625442382080), (7716, 1515915625475967488), (7717, 1515915625476228352), (7718, 1515915625480580864), (7719, 1515915625472043776), (7720, 1515915625493431552), (7721, 1515915625460673792), (7722, 1515915625512679424), (7723, 1515915625444202752), (7724, 1515915625454410752), (7725, 1515915625466054912), (7726, 1515915625453776128), (7727, 1515915625441652992), (7728, 1515915625472177408), (7729, 1515915625444702464), (7730, 1515915625448783872), (7731, 1515915625464257792), (7732, 1515915625460003584), (7733, 1515915625470653440), (7734, 1515915625472305920), (7735, 1515915625471655936), (7736, 1515915625472351232), (7737, 1515915625472176640), (7738, 1515915625452385280), (7739, 1515915625472417792), (7740, 1515915625472582656), (7741, 1515915625468579840), (7742, 1515915625443063040), (7743, 1515915625454628352), (7744, 1515915625472656640), (7745, 1515915625471761920), (7746, 1515915625472524032), (7747, 1515915625472636160), (7748, 1515915625481871872), (7749, 1515915625486460416), (7750, 1515915625486467328), (7751, 1515915625498350592), (7752, 1515915625486730752), (7753, 1515915625498359808), (7754, 1515915625472691968), (7755, 1515915625474301696), (7756, 1515915625465616384), (7757, 1515915625441978624), (7758, 1515915625472625920), (7759, 1515915625475035136), (7760, 1515915625462596608), (7761, 1515915625486713600), (7762, 1515915625472568320), (7763, 1515915625459909632), (7764, 1515915625469843968), (7765, 1515915625472588288), (7766, 1515915625471672576), (7767, 1515915625472600576), (7768, 1515915625511045632), (7769, 1515915625467720192), (7770, 1515915625459545088), (7771, 1515915625470754816), (7772, 1515915625472057856), (7773, 1515915625462099200), (7774, 1515915625445429248), (7775, 1515915625469794816), (7776, 1515915625443097856), (7777, 1515915625467798016), (7778, 1515915625472696320), (7779, 1515915625475469312), (7780, 1515915625445477120), (7781, 1515915625470915840), (7782, 1515915625441999872), (7783, 1515915625465862912), (7784, 1515915625472766208), (7785, 1515915625441480192), (7786, 1515915625466858752), (7787, 1515915625447005696), (7788, 1515915625472861440), (7789, 1515915625471901696), (7790, 1515915625460335616), (7791, 1515915625482109696), (7792, 1515915625472962816), (7793, 1515915625472995328), (7794, 1515915625459273472), (7795, 1515915625473015040), (7796, 1515915625458444032), (7797, 1515915625445483264), (7798, 1515915625473032960), (7799, 1515915625472625408), (7800, 1515915625486714368), (7801, 1515915625460848640), (7802, 1515915625473027328), (7803, 1515915625443979520), (7804, 1515915625486713856), (7805, 1515915625441482752), (7806, 1515915625472692224), (7807, 1515915625486714112), (7808, 1515915625512288768), (7809, 1515915625473039104), (7810, 1515915625447649536), (7811, 1515915625472945408), (7812, 1515915625441155072), (7813, 1515915625448056064), (7814, 1515915625443876864), (7815, 1515915625471006208), (7816, 1515915625472054272), (7817, 1515915625442445312), (7818, 1515915625458660096), (7819, 1515915625444933888), (7820, 1515915625485842176), (7821, 1515915625473111808), (7822, 1515915625449286144), (7823, 1515915625481074432), (7824, 1515915625442703104), (7825, 1515915625450673920), (7826, 1515915625486551808), (7827, 1515915625448081664), (7828, 1515915625442002944), (7829, 1515915625472621568), (7830, 1515915625472995840), (7831, 1515915625472353536), (7832, 1515915625473009152), (7833, 1515915625452512256), (7834, 1515915625473011456), (7835, 1515915625467277824), (7836, 1515915625480658176), (7837, 1515915625473113600), (7838, 1515915625473012736), (7839, 1515915625456833792), (7840, 1515915625451091200), (7841, 1515915625441897728), (7842, 1515915625468751104), (7843, 1515915625441594112), (7844, 1515915625454205440), (7845, 1515915625473046272), (7846, 1515915625446003968), (7847, 1515915625473566464), (7848, 1515915625475276288), (7849, 1515915625472239360), (7850, 1515915625452893184), (7851, 1515915625486718208), (7852, 1515915625473153792), (7853, 1515915625472036352), (7854, 1515915625473350656), (7855, 1515915625473163520), (7856, 1515915625473364992), (7857, 1515915625473379840), (7858, 1515915625473385472), (7859, 1515915625440968192), (7860, 1515915625473387520), (7861, 1515915625473367296), (7862, 1515915625452927488), (7863, 1515915625452126720), (7864, 1515915625473411584), (7865, 1515915625473413376), (7866, 1515915625442108160), (7867, 1515915625473253632), (7868, 1515915625473382656), (7869, 1515915625473430784), (7870, 1515915625473379328), (7871, 1515915625486714880), (7872, 1515915625462933248), (7873, 1515915625472968704), (7874, 1515915625446534656), (7875, 1515915625441872896), (7876, 1515915625486716160), (7877, 1515915625443339008), (7878, 1515915625473218560), (7879, 1515915625473334016), (7880, 1515915625457549568), (7881, 1515915625498241536), (7882, 1515915625473447936), (7883, 1515915625478739712), (7884, 1515915625473470976), (7885, 1515915625472985344), (7886, 1515915625472640512), (7887, 1515915625473477120), (7888, 1515915625446945024), (7889, 1515915625486715648), (7890, 1515915625451400192), (7891, 1515915625486715904), (7892, 1515915625473346560), (7893, 1515915625473493504), (7894, 1515915625468599808), (7895, 1515915625480530176), (7896, 1515915625472228352), (7897, 1515915625466119168), (7898, 1515915625473464832), (7899, 1515915625473517056), (7900, 1515915625442100224), (7901, 1515915625473359360), (7902, 1515915625512296960), (7903, 1515915625486616832), (7904, 1515915625441401344), (7905, 1515915625473418240), (7906, 1515915625472505088), (7907, 1515915625473428736), (7908, 1515915625473568512), (7909, 1515915625473429760), (7910, 1515915625460403968), (7911, 1515915625445022976), (7912, 1515915625456050176), (7913, 1515915625441063168), (7914, 1515915625441840896), (7915, 1515915625442603520), (7916, 1515915625479716096), (7917, 1515915625473132544), (7918, 1515915625464278272), (7919, 1515915625445609216), (7920, 1515915625443843328), (7921, 1515915625461169664), (7922, 1515915625466586368), (7923, 1515915625458560768), (7924, 1515915625473558528), (7925, 1515915625470545152), (7926, 1515915625460602880), (7927, 1515915625443224064), (7928, 1515915625460753408), (7929, 1515915625443348224), (7930, 1515915625473525248), (7931, 1515915625473494784), (7932, 1515915625474238208), (7933, 1515915625486731776), (7934, 1515915625473736448), (7935, 1515915625456063232), (7936, 1515915625470399744), (7937, 1515915625466937344), (7938, 1515915625473782528), (7939, 1515915625442107136), (7940, 1515915625473807360), (7941, 1515915625473818624), (7942, 1515915625473809920), (7943, 1515915625449046784), (7944, 1515915625473771008), (7945, 1515915625512677376), (7946, 1515915625471183360), (7947, 1515915625492168192), (7948, 1515915625513250048), (7949, 1515915625486716416), (7950, 1515915625462346240), (7951, 1515915625473917696), (7952, 1515915625479652864), (7953, 1515915625512214528), (7954, 1515915625473746176), (7955, 1515915625473748992), (7956, 1515915625473760768), (7957, 1515915625457136384), (7958, 1515915625473940480), (7959, 1515915625473959168), (7960, 1515915625458918912), (7961, 1515915625441508096), (7962, 1515915625443819008), (7963, 1515915625473978368), (7964, 1515915625486723328), (7965, 1515915625473835264), (7966, 1515915625473803008), (7967, 1515915625486155264), (7968, 1515915625474008320), (7969, 1515915625460949760), (7970, 1515915625474010880), (7971, 1515915625473762304), (7972, 1515915625441873920), (7973, 1515915625474025472), (7974, 1515915625441228544), (7975, 1515915625465245952), (7976, 1515915625504122112), (7977, 1515915625482438656), (7978, 1515915625473905664), (7979, 1515915625486170368), (7980, 1515915625473368832), (7981, 1515915625473805568), (7982, 1515915625467508224), (7983, 1515915625473894400), (7984, 1515915625473523712), (7985, 1515915625477965568), (7986, 1515915625471860480), (7987, 1515915625470756096), (7988, 1515915625441380352), (7989, 1515915625440941056), (7990, 1515915625446031872), (7991, 1515915625441123328), (7992, 1515915625441732352), (7993, 1515915625469716480), (7994, 1515915625473986304), (7995, 1515915625478740480), (7996, 1515915625442590720), (7997, 1515915625473987840), (7998, 1515915625510824192), (7999, 1515915625467839744), (8000, 1515915625498264832), (8001, 1515915625464027136), (8002, 1515915625449821184), (8003, 1515915625473983232), (8004, 1515915625492879104), (8005, 1515915625441019904), (8006, 1515915625474118144), (8007, 1515915625474266880), (8008, 1515915625474269952), (8009, 1515915625463166976), (8010, 1515915625441523712), (8011, 1515915625450867456), (8012, 1515915625474326784), (8013, 1515915625474267136), (8014, 1515915625464724224), (8015, 1515915625474358272), (8016, 1515915625472212736), (8017, 1515915625474229248), (8018, 1515915625486717184), (8019, 1515915625444745216), (8020, 1515915625453638400), (8021, 1515915625471820288), (8022, 1515915625474233088), (8023, 1515915625474400512), (8024, 1515915625474222848), (8025, 1515915625492167680), (8026, 1515915625474402816), (8027, 1515915625466570240), (8028, 1515915625498697984), (8029, 1515915625474263552), (8030, 1515915625448024832), (8031, 1515915625472175616), (8032, 1515915625474346752), (8033, 1515915625493530880), (8034, 1515915625485605120), (8035, 1515915625473352448), (8036, 1515915625498299648), (8037, 1515915625465942016), (8038, 1515915625492171520), (8039, 1515915625479429120), (8040, 1515915625476544000), (8041, 1515915625444343552), (8042, 1515915625474346496), (8043, 1515915625498364416), (8044, 1515915625473764096), (8045, 1515915625472924928), (8046, 1515915625445527808), (8047, 1515915625445901056), (8048, 1515915625456253696), (8049, 1515915625474419456), (8050, 1515915625466373888), (8051, 1515915625441828608), (8052, 1515915625473181696), (8053, 1515915625512376064), (8054, 1515915625470702336), (8055, 1515915625465838080), (8056, 1515915625474511616), (8057, 1515915625442855424), (8058, 1515915625464044800), (8059, 1515915625454441984), (8060, 1515915625451374336), (8061, 1515915625449351424), (8062, 1515915625441330688), (8063, 1515915625474775808), (8064, 1515915625454565632), (8065, 1515915625473835008), (8066, 1515915625474231808), (8067, 1515915625459007232), (8068, 1515915625474798080), (8069, 1515915625474835968), (8070, 1515915625493669376), (8071, 1515915625474071296), (8072, 1515915625445574144), (8073, 1515915625446468608), (8074, 1515915625474297600), (8075, 1515915625445423872), (8076, 1515915625468626944), (8077, 1515915625462431744), (8078, 1515915625486717440), (8079, 1515915625473790976), (8080, 1515915625463411712), (8081, 1515915625493432576), (8082, 1515915625474802688), (8083, 1515915625474934784), (8084, 1515915625465083392), (8085, 1515915625474971648), (8086, 1515915625444121856), (8087, 1515915625466951936), (8088, 1515915625484895488), (8089, 1515915625474507264), (8090, 1515915625464728320), (8091, 1515915625474822144), (8092, 1515915625475353344), (8093, 1515915625492169472), (8094, 1515915625465100544), (8095, 1515915625474946304), (8096, 1515915625512340224), (8097, 1515915625475020544), (8098, 1515915625443610880), (8099, 1515915625474714880), (8100, 1515915625492169216), (8101, 1515915625474055680), (8102, 1515915625473374720), (8103, 1515915625455697664), (8104, 1515915625475045888), (8105, 1515915625461037824), (8106, 1515915625441271040), (8107, 1515915625440958208), (8108, 1515915625471763456), (8109, 1515915625450249472), (8110, 1515915625469423104), (8111, 1515915625446613248), (8112, 1515915625499660032), (8113, 1515915625470773760), (8114, 1515915625471706112), (8115, 1515915625460303872), (8116, 1515915625442136576), (8117, 1515915625441602048), (8118, 1515915625474380288), (8119, 1515915625457452288), (8120, 1515915625443766016), (8121, 1515915625484518144), (8122, 1515915625474638080), (8123, 1515915625470906880), (8124, 1515915625453981696), (8125, 1515915625447018240), (8126, 1515915625473395200), (8127, 1515915625473879552), (8128, 1515915625493299712), (8129, 1515915625474969856), (8130, 1515915625442989568), (8131, 1515915625451076608), (8132, 1515915625474768128), (8133, 1515915625473323520), (8134, 1515915625450331136), (8135, 1515915625471922432), (8136, 1515915625475597056), (8137, 1515915625486730240), (8138, 1515915625474856192), (8139, 1515915625483900928), (8140, 1515915625475281920), (8141, 1515915625450721024), (8142, 1515915625475301632), (8143, 1515915625486718720), (8144, 1515915625506165248), (8145, 1515915625475354112), (8146, 1515915625475362048), (8147, 1515915625475227136), (8148, 1515915625475379200), (8149, 1515915625475326976), (8150, 1515915625443840512), (8151, 1515915625475377408), (8152, 1515915625475349760), (8153, 1515915625441028096), (8154, 1515915625475389440), (8155, 1515915625476652288), (8156, 1515915625472528640), (8157, 1515915625472047360), (8158, 1515915625440951552), (8159, 1515915625486718464), (8160, 1515915625511614208), (8161, 1515915625475426048), (8162, 1515915625475388416), (8163, 1515915625476645120), (8164, 1515915625481918464), (8165, 1515915625475436032), (8166, 1515915625445187072), (8167, 1515915625475005184), (8168, 1515915625477319680), (8169, 1515915625453248000), (8170, 1515915625444272896), (8171, 1515915625481048576), (8172, 1515915625467976704), (8173, 1515915625494123264), (8174, 1515915625481118720), (8175, 1515915625446689024), (8176, 1515915625473016576), (8177, 1515915625474968064), (8178, 1515915625481488896), (8179, 1515915625443254528), (8180, 1515915625475353856), (8181, 1515915625482524416), (8182, 1515915625475334912), (8183, 1515915625453343232), (8184, 1515915625460178176), (8185, 1515915625475496960), (8186, 1515915625472559616), (8187, 1515915625475363584), (8188, 1515915625475367936), (8189, 1515915625485513728), (8190, 1515915625464794880), (8191, 1515915625475356928), (8192, 1515915625469318400), (8193, 1515915625498321152), (8194, 1515915625475566336), (8195, 1515915625449172736), (8196, 1515915625475377664), (8197, 1515915625442029312), (8198, 1515915625483595520), (8199, 1515915625441031424), (8200, 1515915625475434752), (8201, 1515915625482346240), (8202, 1515915625475539712), (8203, 1515915625475517952), (8204, 1515915625475430912), (8205, 1515915625498361344), (8206, 1515915625486473728), (8207, 1515915625440965888), (8208, 1515915625474216448), (8209, 1515915625475724288), (8210, 1515915625474279424), (8211, 1515915625473058816), (8212, 1515915625475764480), (8213, 1515915625480111872), (8214, 1515915625474362880), (8215, 1515915625475796736), (8216, 1515915625475858944), (8217, 1515915625475787264), (8218, 1515915625475820544), (8219, 1515915625475838976), (8220, 1515915625473934080), (8221, 1515915625473836544), (8222, 1515915625470699008), (8223, 1515915625475438592), (8224, 1515915625475871488), (8225, 1515915625475733760), (8226, 1515915625474076160), (8227, 1515915625475878912), (8228, 1515915625475610880), (8229, 1515915625442525696), (8230, 1515915625475768576), (8231, 1515915625475746304), (8232, 1515915625481359872), (8233, 1515915625483594240), (8234, 1515915625475745792), (8235, 1515915625454565120), (8236, 1515915625475748608), (8237, 1515915625449445632), (8238, 1515915625475770880), (8239, 1515915625475496704), (8240, 1515915625445163008), (8241, 1515915625475796992), (8242, 1515915625448034816), (8243, 1515915625461570048), (8244, 1515915625474849280), (8245, 1515915625472018688), (8246, 1515915625480211200), (8247, 1515915625475977472), (8248, 1515915625446973952), (8249, 1515915625475293440), (8250, 1515915625475822848), (8251, 1515915625475990528), (8252, 1515915625475974400), (8253, 1515915625453440512), (8254, 1515915625475785984), (8255, 1515915625472973824), (8256, 1515915625465939456), (8257, 1515915625474286080), (8258, 1515915625473771520), (8259, 1515915625449817088), (8260, 1515915625474260224), (8261, 1515915625486296320), (8262, 1515915625449726208), (8263, 1515915625469666048), (8264, 1515915625460668672), (8265, 1515915625512700928), (8266, 1515915625458020352), (8267, 1515915625442271232), (8268, 1515915625475903488), (8269, 1515915625465876224), (8270, 1515915625481078528), (8271, 1515915625476090112), (8272, 1515915625475968768), (8273, 1515915625454914304), (8274, 1515915625473037824), (8275, 1515915625472901632), (8276, 1515915625442257664), (8277, 1515915625441979648), (8278, 1515915625453800704), (8279, 1515915625476011008), (8280, 1515915625441553152), (8281, 1515915625498735360), (8282, 1515915625506623488), (8283, 1515915625476061184), (8284, 1515915625475947008), (8285, 1515915625447053568), (8286, 1515915625441410560), (8287, 1515915625444910080), (8288, 1515915625476226304), (8289, 1515915625441360896), (8290, 1515915625512676352), (8291, 1515915625444933120), (8292, 1515915625474061824), (8293, 1515915625479333376), (8294, 1515915625442300672), (8295, 1515915625492170240), (8296, 1515915625476292864), (8297, 1515915625476301056), (8298, 1515915625476171264), (8299, 1515915625513724672), (8300, 1515915625472910080), (8301, 1515915625452617984), (8302, 1515915625449994752), (8303, 1515915625486720256), (8304, 1515915625486730496), (8305, 1515915625469398272), (8306, 1515915625477747200), (8307, 1515915625451946752), (8308, 1515915625458163968), (8309, 1515915625445361920), (8310, 1515915625476381952), (8311, 1515915625442125568), (8312, 1515915625448089856), (8313, 1515915625476222976), (8314, 1515915625475515392), (8315, 1515915625476445952), (8316, 1515915625441877248), (8317, 1515915625448708352), (8318, 1515915625459567104), (8319, 1515915625479016960), (8320, 1515915625513079808), (8321, 1515915625474244352), (8322, 1515915625441322240), (8323, 1515915625440958976), (8324, 1515915625468966144), (8325, 1515915625476343808), (8326, 1515915625453153792), (8327, 1515915625476416000), (8328, 1515915625476453888), (8329, 1515915625466001152), (8330, 1515915625472827648), (8331, 1515915625476200448), (8332, 1515915625471053568), (8333, 1515915625444275712), (8334, 1515915625476426496), (8335, 1515915625440988160), (8336, 1515915625476492032), (8337, 1515915625476688384), (8338, 1515915625498363648), (8339, 1515915625473109504), (8340, 1515915625444783616), (8341, 1515915625468126208), (8342, 1515915625511430144), (8343, 1515915625486720512), (8344, 1515915625482579968), (8345, 1515915625486720768), (8346, 1515915625475592960), (8347, 1515915625476791296), (8348, 1515915625473734144), (8349, 1515915625476555520), (8350, 1515915625476669952), (8351, 1515915625476823040), (8352, 1515915625476397568), (8353, 1515915625476675840), (8354, 1515915625457466112), (8355, 1515915625481101056), (8356, 1515915625486368256), (8357, 1515915625475574272), (8358, 1515915625486721024), (8359, 1515915625476829440), (8360, 1515915625441116928), (8361, 1515915625476696832), (8362, 1515915625441569280), (8363, 1515915625470561280), (8364, 1515915625492896512), (8365, 1515915625497118208), (8366, 1515915625476642560), (8367, 1515915625445384704), (8368, 1515915625441854976), (8369, 1515915625475977216), (8370, 1515915625473175808), (8371, 1515915625441982208), (8372, 1515915625444757248), (8373, 1515915625492170496), (8374, 1515915625483443968), (8375, 1515915625462133504), (8376, 1515915625446244864), (8377, 1515915625476414464), (8378, 1515915625475564032), (8379, 1515915625460690176), (8380, 1515915625458252288), (8381, 1515915625475809280), (8382, 1515915625476864768), (8383, 1515915625449214208), (8384, 1515915625450439168), (8385, 1515915625477119232), (8386, 1515915625474784768), (8387, 1515915625446974720), (8388, 1515915625452634112), (8389, 1515915625476338944), (8390, 1515915625477112320), (8391, 1515915625462020608), (8392, 1515915625477134848), (8393, 1515915625476861440), (8394, 1515915625476992768), (8395, 1515915625476955904), (8396, 1515915625476530432), (8397, 1515915625466041088), (8398, 1515915625466842368), (8399, 1515915625512553216), (8400, 1515915625477242880), (8401, 1515915625477246976), (8402, 1515915625477266432), (8403, 1515915625477279232), (8404, 1515915625446167040), (8405, 1515915625463349248), (8406, 1515915625486721536), (8407, 1515915625441071360), (8408, 1515915625474372352), (8409, 1515915625457608448), (8410, 1515915625477290752), (8411, 1515915625482428928), (8412, 1515915625486721280), (8413, 1515915625476818944), (8414, 1515915625466106624), (8415, 1515915625472483328), (8416, 1515915625477320192), (8417, 1515915625514234880), (8418, 1515915625477311744), (8419, 1515915625477296640), (8420, 1515915625462470144), (8421, 1515915625477332992), (8422, 1515915625477152000), (8423, 1515915625455423488), (8424, 1515915625441836544), (8425, 1515915625477353472), (8426, 1515915625485447936), (8427, 1515915625477314048), (8428, 1515915625445158144), (8429, 1515915625473317632), (8430, 1515915625446260736), (8431, 1515915625460518400), (8432, 1515915625448288000), (8433, 1515915625470180096), (8434, 1515915625459716864), (8435, 1515915625492828416), (8436, 1515915625495023360), (8437, 1515915625477281280), (8438, 1515915625459083264), (8439, 1515915625482469120), (8440, 1515915625467207936), (8441, 1515915625477327104), (8442, 1515915625486473216), (8443, 1515915625471730944), (8444, 1515915625460593664), (8445, 1515915625468505088), (8446, 1515915625473941760), (8447, 1515915625443360768), (8448, 1515915625477661952), (8449, 1515915625477185280), (8450, 1515915625474341632), (8451, 1515915625475834112), (8452, 1515915625477397504), (8453, 1515915625477695488), (8454, 1515915625486722816), (8455, 1515915625486722560), (8456, 1515915625486722304), (8457, 1515915625441655040), (8458, 1515915625461447680), (8459, 1515915625513539584), (8460, 1515915625477607680), (8461, 1515915625484569344), (8462, 1515915625471555072), (8463, 1515915625455256320), (8464, 1515915625446563328), (8465, 1515915625447681024), (8466, 1515915625477806592), (8467, 1515915625444719872), (8468, 1515915625476675328), (8469, 1515915625440965376), (8470, 1515915625476299008), (8471, 1515915625445880832), (8472, 1515915625441851648), (8473, 1515915625484951808), (8474, 1515915625469407232), (8475, 1515915625477711360), (8476, 1515915625482692864), (8477, 1515915625473985280), (8478, 1515915625477718272), (8479, 1515915625481290752), (8480, 1515915625447614976), (8481, 1515915625492860160), (8482, 1515915625466778880), (8483, 1515915625471612928), (8484, 1515915625473774848), (8485, 1515915625481208576), (8486, 1515915625492195584), (8487, 1515915625442623744), (8488, 1515915625442756864), (8489, 1515915625484894464), (8490, 1515915625477657856), (8491, 1515915625475452672), (8492, 1515915625486456576), (8493, 1515915625460902656), (8494, 1515915625462300416), (8495, 1515915625473436672), (8496, 1515915625445654016), (8497, 1515915625474231552), (8498, 1515915625445897984), (8499, 1515915625477961984), (8500, 1515915625478093312), (8501, 1515915625453611008), (8502, 1515915625450148352), (8503, 1515915625486330112), (8504, 1515915625441191680), (8505, 1515915625447053056), (8506, 1515915625496846336), (8507, 1515915625478126336), (8508, 1515915625478161152), (8509, 1515915625478159104), (8510, 1515915625478145280), (8511, 1515915625478286592), (8512, 1515915625478098176), (8513, 1515915625464600576), (8514, 1515915625478189568), (8515, 1515915625477157888), (8516, 1515915625444942080), (8517, 1515915625482742016), (8518, 1515915625478089984), (8519, 1515915625486723072), (8520, 1515915625513721600), (8521, 1515915625478087168), (8522, 1515915625484887552), (8523, 1515915625474550016), (8524, 1515915625480449536), (8525, 1515915625478264832), (8526, 1515915625449554688), (8527, 1515915625442269696), (8528, 1515915625486723584), (8529, 1515915625478115328), (8530, 1515915625475825408), (8531, 1515915625478281984), (8532, 1515915625441646848), (8533, 1515915625478289408), (8534, 1515915625472327168), (8535, 1515915625455156736), (8536, 1515915625450931712), (8537, 1515915625478116096), (8538, 1515915625455214080), (8539, 1515915625480170240), (8540, 1515915625444205824), (8541, 1515915625444939008), (8542, 1515915625446472192), (8543, 1515915625478080512), (8544, 1515915625477766656), (8545, 1515915625478196736), (8546, 1515915625443955712), (8547, 1515915625472505600), (8548, 1515915625476786688), (8549, 1515915625477260288), (8550, 1515915625478409984), (8551, 1515915625478164736), (8552, 1515915625476279040), (8553, 1515915625441486848), (8554, 1515915625475522304), (8555, 1515915625478325760), (8556, 1515915625478301696), (8557, 1515915625486052096), (8558, 1515915625477938176), (8559, 1515915625477487872), (8560, 1515915625514657024), (8561, 1515915625512669952), (8562, 1515915625446688256), (8563, 1515915625486724608), (8564, 1515915625478648576), (8565, 1515915625475739904), (8566, 1515915625478942720), (8567, 1515915625498208768), (8568, 1515915625444728064), (8569, 1515915625457978624), (8570, 1515915625479298048), (8571, 1515915625461006848), (8572, 1515915625505835776), (8573, 1515915625442118656), (8574, 1515915625478319104), (8575, 1515915625477703680), (8576, 1515915625478663680), (8577, 1515915625448243456), (8578, 1515915625470278144), (8579, 1515915625463395072), (8580, 1515915625474806016), (8581, 1515915625453746688), (8582, 1515915625478402304), (8583, 1515915625478081280), (8584, 1515915625478838784), (8585, 1515915625492830464), (8586, 1515915625478854144), (8587, 1515915625450102784), (8588, 1515915625481947904), (8589, 1515915625444441600), (8590, 1515915625469083648), (8591, 1515915625442038528), (8592, 1515915625441153280), (8593, 1515915625498339072), (8594, 1515915625484924160), (8595, 1515915625478634752), (8596, 1515915625469985280), (8597, 1515915625469899008), (8598, 1515915625513720320), (8599, 1515915625493690880), (8600, 1515915625441490432), (8601, 1515915625478593792), (8602, 1515915625462933504), (8603, 1515915625466816000), (8604, 1515915625479147008), (8605, 1515915625460039424), (8606, 1515915625479193856), (8607, 1515915625472033280), (8608, 1515915625467544320), (8609, 1515915625477616896), (8610, 1515915625441607424), (8611, 1515915625486761728), (8612, 1515915625479153664), (8613, 1515915625486725376), (8614, 1515915625476442368), (8615, 1515915625451026688), (8616, 1515915625461329408), (8617, 1515915625486888960), (8618, 1515915625478156288), (8619, 1515915625476171520), (8620, 1515915625486601472), (8621, 1515915625486732032), (8622, 1515915625479007488), (8623, 1515915625466461440), (8624, 1515915625476250112), (8625, 1515915625471468544), (8626, 1515915625478583552), (8627, 1515915625461064448), (8628, 1515915625479372544), (8629, 1515915625444727808), (8630, 1515915625484823552), (8631, 1515915625445997824), (8632, 1515915625485351680), (8633, 1515915625479322368), (8634, 1515915625479116800), (8635, 1515915625469826048), (8636, 1515915625481625088), (8637, 1515915625478131456), (8638, 1515915625492391168), (8639, 1515915625475940096), (8640, 1515915625477804032), (8641, 1515915625498399232), (8642, 1515915625466954752), (8643, 1515915625453134336), (8644, 1515915625513470464), (8645, 1515915625479422208), (8646, 1515915625479432704), (8647, 1515915625479456256), (8648, 1515915625465741312), (8649, 1515915625480208128), (8650, 1515915625468403712), (8651, 1515915625441282560), (8652, 1515915625479600128), (8653, 1515915625493689856), (8654, 1515915625486726656), (8655, 1515915625492171008), (8656, 1515915625464409344), (8657, 1515915625479794432), (8658, 1515915625478827008), (8659, 1515915625479471360), (8660, 1515915625479686912), (8661, 1515915625446046720), (8662, 1515915625467230976), (8663, 1515915625479696640), (8664, 1515915625451370240), (8665, 1515915625448331264), (8666, 1515915625444342016), (8667, 1515915625446911232), (8668, 1515915625442546688), (8669, 1515915625479714048), (8670, 1515915625457718272), (8671, 1515915625480579584), (8672, 1515915625477111552), (8673, 1515915625492865024), (8674, 1515915625492629504), (8675, 1515915625452616960), (8676, 1515915625441016576), (8677, 1515915625472335360), (8678, 1515915625479958272), (8679, 1515915625454286848), (8680, 1515915625479722752), (8681, 1515915625442706944), (8682, 1515915625478617344), (8683, 1515915625486725632), (8684, 1515915625466882816), (8685, 1515915625480090880), (8686, 1515915625512629760), (8687, 1515915625442936576), (8688, 1515915625479834112), (8689, 1515915625446024192), (8690, 1515915625465328640), (8691, 1515915625475335424), (8692, 1515915625468899328), (8693, 1515915625445472256), (8694, 1515915625457223424), (8695, 1515915625492172288), (8696, 1515915625475321344), (8697, 1515915625472890880), (8698, 1515915625480575488), (8699, 1515915625446851072), (8700, 1515915625447961600), (8701, 1515915625480625152), (8702, 1515915625479910144), (8703, 1515915625480649216), (8704, 1515915625480636928), (8705, 1515915625475222528), (8706, 1515915625480683264), (8707, 1515915625478711552), (8708, 1515915625453297920), (8709, 1515915625460030464), (8710, 1515915625485288448), (8711, 1515915625450056960), (8712, 1515915625480679936), (8713, 1515915625511662336), (8714, 1515915625475856896), (8715, 1515915625480108288), (8716, 1515915625486563584), (8717, 1515915625445894144), (8718, 1515915625479356672), (8719, 1515915625480543744), (8720, 1515915625486726400), (8721, 1515915625459955712), (8722, 1515915625476666880), (8723, 1515915625471720704), (8724, 1515915625493434624), (8725, 1515915625480640512), (8726, 1515915625465081344), (8727, 1515915625477895936), (8728, 1515915625479108864), (8729, 1515915625461822464), (8730, 1515915625486867968), (8731, 1515915625475981568), (8732, 1515915625442079488), (8733, 1515915625482862080), (8734, 1515915625480660480), (8735, 1515915625446779392), (8736, 1515915625512667136), (8737, 1515915625448874240), (8738, 1515915625480732416), (8739, 1515915625480655616), (8740, 1515915625477939712), (8741, 1515915625480832768), (8742, 1515915625450432768), (8743, 1515915625480689664), (8744, 1515915625482817536), (8745, 1515915625480650752), (8746, 1515915625480578560), (8747, 1515915625512665600), (8748, 1515915625486264832), (8749, 1515915625477118464), (8750, 1515915625480709376), (8751, 1515915625478855680), (8752, 1515915625480871168), (8753, 1515915625478238720), (8754, 1515915625445964288), (8755, 1515915625443252736), (8756, 1515915625461502464), (8757, 1515915625448461824), (8758, 1515915625480787456), (8759, 1515915625461344256), (8760, 1515915625482367232), (8761, 1515915625479315200), (8762, 1515915625461728256), (8763, 1515915625446110464), (8764, 1515915625457767168), (8765, 1515915625480286208), (8766, 1515915625444289024), (8767, 1515915625479776000), (8768, 1515915625474978560), (8769, 1515915625440952064), (8770, 1515915625481156864), (8771, 1515915625486728192), (8772, 1515915625486727936), (8773, 1515915625480728832), (8774, 1515915625496258048), (8775, 1515915625481052416), (8776, 1515915625461531392), (8777, 1515915625477217536), (8778, 1515915625482327808), (8779, 1515915625464831488), (8780, 1515915625481038592), (8781, 1515915625462354432), (8782, 1515915625467229952), (8783, 1515915625445423360), (8784, 1515915625480783616), (8785, 1515915625446966784), (8786, 1515915625475822080), (8787, 1515915625481005568), (8788, 1515915625480772864), (8789, 1515915625481258496), (8790, 1515915625445428992), (8791, 1515915625481114112), (8792, 1515915625443043072), (8793, 1515915625513235456), (8794, 1515915625481354240), (8795, 1515915625478799104), (8796, 1515915625481272320), (8797, 1515915625505799424), (8798, 1515915625480780544), (8799, 1515915625469416448), (8800, 1515915625471387648), (8801, 1515915625480573184), (8802, 1515915625449216256), (8803, 1515915625512383744), (8804, 1515915625444279296), (8805, 1515915625457802240), (8806, 1515915625481015552), (8807, 1515915625481513984), (8808, 1515915625449391872), (8809, 1515915625481308416), (8810, 1515915625441396736), (8811, 1515915625481193472), (8812, 1515915625481195264), (8813, 1515915625464668160), (8814, 1515915625481215232), (8815, 1515915625481152768), (8816, 1515915625465152256), (8817, 1515915625445533952), (8818, 1515915625444148736), (8819, 1515915625467518976), (8820, 1515915625463966976), (8821, 1515915625461129728), (8822, 1515915625444849920), (8823, 1515915625498249216), (8824, 1515915625480387072), (8825, 1515915625471240448), (8826, 1515915625480523520), (8827, 1515915625484423680), (8828, 1515915625480668160), (8829, 1515915625456977408), (8830, 1515915625481254656), (8831, 1515915625495725056), (8832, 1515915625465342208), (8833, 1515915625475900928), (8834, 1515915625444445952), (8835, 1515915625481286912), (8836, 1515915625447987968), (8837, 1515915625441134080), (8838, 1515915625443080448), (8839, 1515915625481327616), (8840, 1515915625461686784), (8841, 1515915625480844032), (8842, 1515915625465584640), (8843, 1515915625481255680), (8844, 1515915625481496576), (8845, 1515915625442514688), (8846, 1515915625456764160), (8847, 1515915625486728448), (8848, 1515915625444835328), (8849, 1515915625475594496), (8850, 1515915625442606080), (8851, 1515915625475518720), (8852, 1515915625465029376), (8853, 1515915625479120384), (8854, 1515915625481640704), (8855, 1515915625481529088), (8856, 1515915625481631744), (8857, 1515915625480344064), (8858, 1515915625485888256), (8859, 1515915625472865280), (8860, 1515915625471091200), (8861, 1515915625479727104), (8862, 1515915625481581312), (8863, 1515915625482044672), (8864, 1515915625481481984), (8865, 1515915625480312832), (8866, 1515915625481722368), (8867, 1515915625481908736), (8868, 1515915625481592320), (8869, 1515915625444711424), (8870, 1515915625481585408), (8871, 1515915625461926656), (8872, 1515915625464231680), (8873, 1515915625442591744), (8874, 1515915625495791360), (8875, 1515915625464950784), (8876, 1515915625441694208), (8877, 1515915625481637120), (8878, 1515915625464618496), (8879, 1515915625446033408), (8880, 1515915625481605376), (8881, 1515915625481598720), (8882, 1515915625445309184), (8883, 1515915625441605120), (8884, 1515915625450697216), (8885, 1515915625513723136), (8886, 1515915625481584896), (8887, 1515915625463691520), (8888, 1515915625480879872), (8889, 1515915625481945088), (8890, 1515915625481944320), (8891, 1515915625471079936), (8892, 1515915625469549056), (8893, 1515915625486729472), (8894, 1515915625486729216), (8895, 1515915625442731264), (8896, 1515915625481889024), (8897, 1515915625470406912), (8898, 1515915625494487296), (8899, 1515915625471640576), (8900, 1515915625482051072), (8901, 1515915625482415360), (8902, 1515915625486729728), (8903, 1515915625482052864), (8904, 1515915625481927168), (8905, 1515915625477716736), (8906, 1515915625492862976), (8907, 1515915625444920832), (8908, 1515915625479695616), (8909, 1515915625481962496), (8910, 1515915625479281408), (8911, 1515915625480641792), (8912, 1515915625481092864), (8913, 1515915625479669760), (8914, 1515915625443787520), (8915, 1515915625481517312), (8916, 1515915625481994752), (8917, 1515915625481884928), (8918, 1515915625481938176), (8919, 1515915625481987584), (8920, 1515915625443132416), (8921, 1515915625460230656), (8922, 1515915625512670208), (8923, 1515915625482515968), (8924, 1515915625448303360), (8925, 1515915625452401920), (8926, 1515915625458557184), (8927, 1515915625481943296), (8928, 1515915625466332160), (8929, 1515915625484505856), (8930, 1515915625469053440), (8931, 1515915625471627008), (8932, 1515915625453401856), (8933, 1515915625446792448), (8934, 1515915625443004672), (8935, 1515915625481265408), (8936, 1515915625494215424), (8937, 1515915625482209024), (8938, 1515915625480399360), (8939, 1515915625492408064), (8940, 1515915625482344192), (8941, 1515915625454102784), (8942, 1515915625492352512), (8943, 1515915625482758144), (8944, 1515915625478569216), (8945, 1515915625462346496), (8946, 1515915625481874944), (8947, 1515915625471505408), (8948, 1515915625442096128), (8949, 1515915625473704192), (8950, 1515915625480850688), (8951, 1515915625459019776), (8952, 1515915625474797312), (8953, 1515915625468988928), (8954, 1515915625484046848), (8955, 1515915625482362624), (8956, 1515915625493118208), (8957, 1515915625482321408), (8958, 1515915625445353984), (8959, 1515915625482407936), (8960, 1515915625482392832), (8961, 1515915625445026560), (8962, 1515915625442675712), (8963, 1515915625485260032), (8964, 1515915625493690368), (8965, 1515915625492254976), (8966, 1515915625475995392), (8967, 1515915625482324480), (8968, 1515915625482358528), (8969, 1515915625482465280), (8970, 1515915625482450176), (8971, 1515915625471747840), (8972, 1515915625444943872), (8973, 1515915625494243328), (8974, 1515915625484835840), (8975, 1515915625446804992), (8976, 1515915625481463808), (8977, 1515915625477178624), (8978, 1515915625482481408), (8979, 1515915625482521088), (8980, 1515915625460231424), (8981, 1515915625483220992), (8982, 1515915625482554368), (8983, 1515915625498975744), (8984, 1515915625482552064), (8985, 1515915625486153216), (8986, 1515915625482579712), (8987, 1515915625482608896), (8988, 1515915625482621440), (8989, 1515915625482622720), (8990, 1515915625456549888), (8991, 1515915625456625920), (8992, 1515915625482687744), (8993, 1515915625479756544), (8994, 1515915625493690624), (8995, 1515915625453226240), (8996, 1515915625494245888), (8997, 1515915625482828032), (8998, 1515915625440952832), (8999, 1515915625482857216), (9000, 1515915625482850048), (9001, 1515915625485337088), (9002, 1515915625448278016), (9003, 1515915625486731520), (9004, 1515915625456421888), (9005, 1515915625482802432), (9006, 1515915625482914048), (9007, 1515915625478255360), (9008, 1515915625482916864), (9009, 1515915625492801536), (9010, 1515915625482565632), (9011, 1515915625442256896), (9012, 1515915625469235712), (9013, 1515915625479797248), (9014, 1515915625495723008), (9015, 1515915625482807808), (9016, 1515915625450082304), (9017, 1515915625442505728), (9018, 1515915625482610944), (9019, 1515915625476386560), (9020, 1515915625482891520), (9021, 1515915625494304256), (9022, 1515915625459443200), (9023, 1515915625486475520), (9024, 1515915625447111424), (9025, 1515915625482540544), (9026, 1515915625482976512), (9027, 1515915625441413376), (9028, 1515915625483047936), (9029, 1515915625466471936), (9030, 1515915625482853632), (9031, 1515915625513721856), (9032, 1515915625483011584), (9033, 1515915625472214784), (9034, 1515915625482015232), (9035, 1515915625512670720), (9036, 1515915625448241152), (9037, 1515915625476428032), (9038, 1515915625482867968), (9039, 1515915625449785344), (9040, 1515915625492249344), (9041, 1515915625482888448), (9042, 1515915625482055680), (9043, 1515915625482878720), (9044, 1515915625482830592), (9045, 1515915625461732352), (9046, 1515915625494950144), (9047, 1515915625482094336), (9048, 1515915625443722752), (9049, 1515915625451484416), (9050, 1515915625482635520), (9051, 1515915625482924032), (9052, 1515915625482922752), (9053, 1515915625471297536), (9054, 1515915625467725568), (9055, 1515915625482784768), (9056, 1515915625480587008), (9057, 1515915625445994752), (9058, 1515915625513720832), (9059, 1515915625482945536), (9060, 1515915625482368000), (9061, 1515915625482941184), (9062, 1515915625475129600), (9063, 1515915625469147136), (9064, 1515915625463529728), (9065, 1515915625446749696), (9066, 1515915625482890496), (9067, 1515915625469800192), (9068, 1515915625460134656), (9069, 1515915625445074176), (9070, 1515915625470768640), (9071, 1515915625460514048), (9072, 1515915625466776320), (9073, 1515915625482845696), (9074, 1515915625450136832), (9075, 1515915625483014144), (9076, 1515915625444156672), (9077, 1515915625480176640), (9078, 1515915625483074560), (9079, 1515915625481758464), (9080, 1515915625483182592), (9081, 1515915625483224576), (9082, 1515915625480053248), (9083, 1515915625465928448), (9084, 1515915625460610560), (9085, 1515915625483260672), (9086, 1515915625483160320), (9087, 1515915625456967936), (9088, 1515915625460273152), (9089, 1515915625483166976), (9090, 1515915625441001216), (9091, 1515915625513728256), (9092, 1515915625492825088), (9093, 1515915625442570496), (9094, 1515915625493689344), (9095, 1515915625464888064), (9096, 1515915625492171776), (9097, 1515915625482340096), (9098, 1515915625483192320), (9099, 1515915625441284096), (9100, 1515915625483211264), (9101, 1515915625446522112), (9102, 1515915625492854016), (9103, 1515915625456153088), (9104, 1515915625483222528), (9105, 1515915625483223552), (9106, 1515915625483172864), (9107, 1515915625445981184), (9108, 1515915625483242496), (9109, 1515915625483241216), (9110, 1515915625483248896), (9111, 1515915625444140800), (9112, 1515915625483226368), (9113, 1515915625442146560), (9114, 1515915625483187712), (9115, 1515915625483276288), (9116, 1515915625483253248), (9117, 1515915625475406848), (9118, 1515915625483230976), (9119, 1515915625512916224), (9120, 1515915625474603520), (9121, 1515915625475091968), (9122, 1515915625514205696), (9123, 1515915625472580608), (9124, 1515915625483212544), (9125, 1515915625483259392), (9126, 1515915625483037952), (9127, 1515915625483314176), (9128, 1515915625480855296), (9129, 1515915625483311616), (9130, 1515915625478160896), (9131, 1515915625498312448), (9132, 1515915625483720192), (9133, 1515915625483080960), (9134, 1515915625448838400), (9135, 1515915625512668672), (9136, 1515915625497940992), (9137, 1515915625448866304), (9138, 1515915625443091200), (9139, 1515915625446618368), (9140, 1515915625471153920), (9141, 1515915625482647296), (9142, 1515915625483490816), (9143, 1515915625483485696), (9144, 1515915625445526016), (9145, 1515915625474263808), (9146, 1515915625483243008), (9147, 1515915625440965632), (9148, 1515915625482928384), (9149, 1515915625474036480), (9150, 1515915625472566016), (9151, 1515915625483548160), (9152, 1515915625483612672), (9153, 1515915625483652096), (9154, 1515915625451733248), (9155, 1515915625460165888), (9156, 1515915625483577600), (9157, 1515915625482056960), (9158, 1515915625483688704), (9159, 1515915625445652480), (9160, 1515915625492038400), (9161, 1515915625443273216), (9162, 1515915625484694016), (9163, 1515915625486151936), (9164, 1515915625483571968), (9165, 1515915625446971392), (9166, 1515915625465272832), (9167, 1515915625445456384), (9168, 1515915625483582464), (9169, 1515915625483585792), (9170, 1515915625460892416), (9171, 1515915625444728576), (9172, 1515915625485687808), (9173, 1515915625481912064), (9174, 1515915625482510848), (9175, 1515915625483588864), (9176, 1515915625483279872), (9177, 1515915625461990912), (9178, 1515915625469023744), (9179, 1515915625505824768), (9180, 1515915625483592960), (9181, 1515915625483284224), (9182, 1515915625475235584), (9183, 1515915625441603328), (9184, 1515915625453362688), (9185, 1515915625492216576), (9186, 1515915625483162368), (9187, 1515915625483609344), (9188, 1515915625468421376), (9189, 1515915625443591168), (9190, 1515915625483603712), (9191, 1515915625492804864), (9192, 1515915625483633664), (9193, 1515915625453159168), (9194, 1515915625483672320), (9195, 1515915625483671296), (9196, 1515915625483454208), (9197, 1515915625483695104), (9198, 1515915625483684096), (9199, 1515915625457035776), (9200, 1515915625474316288), (9201, 1515915625486733056), (9202, 1515915625483704832), (9203, 1515915625498286080), (9204, 1515915625483686656), (9205, 1515915625450354688), (9206, 1515915625444925440), (9207, 1515915625465068288), (9208, 1515915625483730176), (9209, 1515915625473870592), (9210, 1515915625483465472), (9211, 1515915625477810688), (9212, 1515915625483710464), (9213, 1515915625472205056), (9214, 1515915625476969984), (9215, 1515915625475948288), (9216, 1515915625483799040), (9217, 1515915625483457792), (9218, 1515915625442470144), (9219, 1515915625482909952), (9220, 1515915625483239168), (9221, 1515915625483569408), (9222, 1515915625442841856), (9223, 1515915625474296576), (9224, 1515915625452866048), (9225, 1515915625462637568), (9226, 1515915625494019072), (9227, 1515915625474201344), (9228, 1515915625499115520), (9229, 1515915625492173312), (9230, 1515915625483991552), (9231, 1515915625478662144), (9232, 1515915625472899840), (9233, 1515915625453877760), (9234, 1515915625483964672), (9235, 1515915625478291712), (9236, 1515915625447022848), (9237, 1515915625483980288), (9238, 1515915625474304512), (9239, 1515915625483163392), (9240, 1515915625493435904), (9241, 1515915625484101120), (9242, 1515915625483227392), (9243, 1515915625483762688), (9244, 1515915625506098944), (9245, 1515915625483436288), (9246, 1515915625492827904), (9247, 1515915625484118528), (9248, 1515915625486590976), (9249, 1515915625469157632), (9250, 1515915625481957632), (9251, 1515915625483987456), (9252, 1515915625497033984), (9253, 1515915625492817920), (9254, 1515915625482318336), (9255, 1515915625478779648), (9256, 1515915625483996160), (9257, 1515915625508858880), (9258, 1515915625484034816), (9259, 1515915625483419136), (9260, 1515915625484039680), (9261, 1515915625442062848), (9262, 1515915625484027392), (9263, 1515915625483445248), (9264, 1515915625484051968), (9265, 1515915625482517504), (9266, 1515915625460082688), (9267, 1515915625484019968), (9268, 1515915625472116992), (9269, 1515915625480727296), (9270, 1515915625484021504), (9271, 1515915625470171648), (9272, 1515915625484083712), (9273, 1515915625484090880), (9274, 1515915625512514816), (9275, 1515915625484102400), (9276, 1515915625484116224), (9277, 1515915625484086272), (9278, 1515915625441292544), (9279, 1515915625484109824), (9280, 1515915625484122624), (9281, 1515915625498324224), (9282, 1515915625467875584), (9283, 1515915625472965632), (9284, 1515915625484132864), (9285, 1515915625452669440), (9286, 1515915625483740416), (9287, 1515915625484158208), (9288, 1515915625484149248), (9289, 1515915625473910272), (9290, 1515915625484156672), (9291, 1515915625474363136), (9292, 1515915625513718016), (9293, 1515915625451786240), (9294, 1515915625481020672), (9295, 1515915625484112384), (9296, 1515915625448410880), (9297, 1515915625484136448), (9298, 1515915625484204032), (9299, 1515915625483777792), (9300, 1515915625483670272), (9301, 1515915625484217344), (9302, 1515915625484220416), (9303, 1515915625441999616), (9304, 1515915625484241664), (9305, 1515915625447958272), (9306, 1515915625455208192), (9307, 1515915625482854144), (9308, 1515915625445359104), (9309, 1515915625452727808), (9310, 1515915625484286208), (9311, 1515915625484224768), (9312, 1515915625472717568), (9313, 1515915625483459840), (9314, 1515915625441703168), (9315, 1515915625484097280), (9316, 1515915625484224000), (9317, 1515915625484354048), (9318, 1515915625484414976), (9319, 1515915625462481152), (9320, 1515915625483336192), (9321, 1515915625484080384), (9322, 1515915625484514048), (9323, 1515915625444124160), (9324, 1515915625448018688), (9325, 1515915625484400896), (9326, 1515915625481788672), (9327, 1515915625441550080), (9328, 1515915625484547584), (9329, 1515915625481284608), (9330, 1515915625484552704), (9331, 1515915625484409856), (9332, 1515915625478282240), (9333, 1515915625483067648), (9334, 1515915625510914048), (9335, 1515915625478417152), (9336, 1515915625446996992), (9337, 1515915625441041920), (9338, 1515915625466976768), (9339, 1515915625486732544), (9340, 1515915625476461824), (9341, 1515915625455407616), (9342, 1515915625484455680), (9343, 1515915625496476672), (9344, 1515915625484411392), (9345, 1515915625486732288), (9346, 1515915625484304384), (9347, 1515915625484477696), (9348, 1515915625462282496), (9349, 1515915625484458752), (9350, 1515915625484481024), (9351, 1515915625450679040), (9352, 1515915625476876544), (9353, 1515915625484603648), (9354, 1515915625484437248), (9355, 1515915625483960320), (9356, 1515915625457534208), (9357, 1515915625481186560), (9358, 1515915625492172544), (9359, 1515915625450929408), (9360, 1515915625484516608), (9361, 1515915625484508928), (9362, 1515915625484517632), (9363, 1515915625477670400), (9364, 1515915625444297216), (9365, 1515915625484491008), (9366, 1515915625484521984), (9367, 1515915625482446592), (9368, 1515915625469320960), (9369, 1515915625484529152), (9370, 1515915625484530688), (9371, 1515915625481461760), (9372, 1515915625480581376), (9373, 1515915625442545408), (9374, 1515915625470708992), (9375, 1515915625484396288), (9376, 1515915625484534528), (9377, 1515915625474384640), (9378, 1515915625443348736), (9379, 1515915625484548608), (9380, 1515915625484514816), (9381, 1515915625480518656), (9382, 1515915625484548864), (9383, 1515915625481926400), (9384, 1515915625442095104), (9385, 1515915625484568832), (9386, 1515915625484544256), (9387, 1515915625484553216), (9388, 1515915625484575232), (9389, 1515915625484573952), (9390, 1515915625484586240), (9391, 1515915625484580352), (9392, 1515915625494103296), (9393, 1515915625484545536), (9394, 1515915625478225920), (9395, 1515915625484319744), (9396, 1515915625484508160), (9397, 1515915625464756480), (9398, 1515915625449774336), (9399, 1515915625440944384), (9400, 1515915625483705600), (9401, 1515915625492395776), (9402, 1515915625478488832), (9403, 1515915625478258432), (9404, 1515915625443341056), (9405, 1515915625481588992), (9406, 1515915625484114944), (9407, 1515915625484278784), (9408, 1515915625492909568), (9409, 1515915625473802240), (9410, 1515915625441358080), (9411, 1515915625484702720), (9412, 1515915625482777600), (9413, 1515915625484718336), (9414, 1515915625484738560), (9415, 1515915625446562816), (9416, 1515915625483028224), (9417, 1515915625498349312), (9418, 1515915625493965568), (9419, 1515915625441149184), (9420, 1515915625441667328), (9421, 1515915625484698624), (9422, 1515915625484847104), (9423, 1515915625481656832), (9424, 1515915625484791808), (9425, 1515915625441956352), (9426, 1515915625475106304), (9427, 1515915625493436160), (9428, 1515915625476168960), (9429, 1515915625446996224), (9430, 1515915625483889664), (9431, 1515915625484908032), (9432, 1515915625484836864), (9433, 1515915625484055808), (9434, 1515915625461380608), (9435, 1515915625484861440), (9436, 1515915625482482944), (9437, 1515915625483423744), (9438, 1515915625486732800), (9439, 1515915625462840576), (9440, 1515915625484966656), (9441, 1515915625484862208), (9442, 1515915625480583680), (9443, 1515915625484878080), (9444, 1515915625484972544), (9445, 1515915625484877056), (9446, 1515915625482349056), (9447, 1515915625441630720), (9448, 1515915625484429824), (9449, 1515915625484901888), (9450, 1515915625476450304), (9451, 1515915625450466304), (9452, 1515915625471019776), (9453, 1515915625485045248), (9454, 1515915625444895488), (9455, 1515915625458266112), (9456, 1515915625498259712), (9457, 1515915625484910080), (9458, 1515915625471698944), (9459, 1515915625445633792), (9460, 1515915625442035456), (9461, 1515915625443524352), (9462, 1515915625484584704), (9463, 1515915625469910272), (9464, 1515915625497784320), (9465, 1515915625484906752), (9466, 1515915625462581504), (9467, 1515915625484925952), (9468, 1515915625483594752), (9469, 1515915625484470528), (9470, 1515915625484935168), (9471, 1515915625484583680), (9472, 1515915625480814848), (9473, 1515915625484863488), (9474, 1515915625485503488), (9475, 1515915625484947968), (9476, 1515915625484948992), (9477, 1515915625466575360), (9478, 1515915625484955904), (9479, 1515915625484972032), (9480, 1515915625484906240), (9481, 1515915625484149504), (9482, 1515915625481988352), (9483, 1515915625484852480), (9484, 1515915625444174336), (9485, 1515915625483046656), (9486, 1515915625483490048), (9487, 1515915625484995328), (9488, 1515915625478632448), (9489, 1515915625482967296), (9490, 1515915625456647680), (9491, 1515915625485015040), (9492, 1515915625481605888), (9493, 1515915625481670912), (9494, 1515915625466421760), (9495, 1515915625484182272), (9496, 1515915625512000000), (9497, 1515915625483291648), (9498, 1515915625485024256), (9499, 1515915625442685184), (9500, 1515915625512288000), (9501, 1515915625484041728), (9502, 1515915625493689088), (9503, 1515915625472712448), (9504, 1515915625472052992), (9505, 1515915625485060352), (9506, 1515915625483114752), (9507, 1515915625484858624), (9508, 1515915625457570560), (9509, 1515915625451382528), (9510, 1515915625485132288), (9511, 1515915625478775296), (9512, 1515915625482030336), (9513, 1515915625485146880), (9514, 1515915625470033408), (9515, 1515915625485011200), (9516, 1515915625483600640), (9517, 1515915625446803456), (9518, 1515915625457111040), (9519, 1515915625441040128), (9520, 1515915625445534464), (9521, 1515915625457574144), (9522, 1515915625485292800), (9523, 1515915625485083648), (9524, 1515915625460703488), (9525, 1515915625485163008), (9526, 1515915625448689152), (9527, 1515915625485353472), (9528, 1515915625442437120), (9529, 1515915625472185088), (9530, 1515915625485266944), (9531, 1515915625486864896), (9532, 1515915625465299712), (9533, 1515915625485260288), (9534, 1515915625485111808), (9535, 1515915625484866560), (9536, 1515915625484760832), (9537, 1515915625485272064), (9538, 1515915625484837632), (9539, 1515915625449694208), (9540, 1515915625482435072), (9541, 1515915625481017088), (9542, 1515915625484584192), (9543, 1515915625495941120), (9544, 1515915625446574848), (9545, 1515915625446070784), (9546, 1515915625485298944), (9547, 1515915625485310976), (9548, 1515915625445486592), (9549, 1515915625475707392), (9550, 1515915625485422080), (9551, 1515915625484892416), (9552, 1515915625461959168), (9553, 1515915625485320192), (9554, 1515915625442198272), (9555, 1515915625485328384), (9556, 1515915625511992832), (9557, 1515915625485327872), (9558, 1515915625484160512), (9559, 1515915625485280768), (9560, 1515915625484180992), (9561, 1515915625447090176), (9562, 1515915625458814976), (9563, 1515915625485336576), (9564, 1515915625485339392), (9565, 1515915625485338112), (9566, 1515915625492841984), (9567, 1515915625485296896), (9568, 1515915625484166400), (9569, 1515915625485336832), (9570, 1515915625485324544), (9571, 1515915625484446464), (9572, 1515915625497509888), (9573, 1515915625485356544), (9574, 1515915625456320768), (9575, 1515915625442243840), (9576, 1515915625485362944), (9577, 1515915625448237824), (9578, 1515915625485004032), (9579, 1515915625485264128), (9580, 1515915625462593024), (9581, 1515915625444993536), (9582, 1515915625477857536), (9583, 1515915625466650624), (9584, 1515915625485372160), (9585, 1515915625485375488), (9586, 1515915625445610496), (9587, 1515915625485359104), (9588, 1515915625442953472), (9589, 1515915625485382912), (9590, 1515915625485376256), (9591, 1515915625473555968), (9592, 1515915625485391872), (9593, 1515915625492843008), (9594, 1515915625455062528), (9595, 1515915625462315008), (9596, 1515915625466224896), (9597, 1515915625467268864), (9598, 1515915625485416448), (9599, 1515915625485416960), (9600, 1515915625449067264), (9601, 1515915625448671744), (9602, 1515915625498360576), (9603, 1515915625443578368), (9604, 1515915625485364480), (9605, 1515915625451872000), (9606, 1515915625485295872), (9607, 1515915625485440512), (9608, 1515915625471661824), (9609, 1515915625442739200), (9610, 1515915625484420608), (9611, 1515915625485428480), (9612, 1515915625480227840), (9613, 1515915625442231040), (9614, 1515915625485396224), (9615, 1515915625512559104), (9616, 1515915625443646464), (9617, 1515915625485302272), (9618, 1515915625454775040), (9619, 1515915625485464064), (9620, 1515915625500048896), (9621, 1515915625452754688), (9622, 1515915625485457408), (9623, 1515915625440941824), (9624, 1515915625484590592), (9625, 1515915625471537152), (9626, 1515915625484493056), (9627, 1515915625485584384), (9628, 1515915625480366592), (9629, 1515915625485606656), (9630, 1515915625477148672), (9631, 1515915625485601792), (9632, 1515915625485622272), (9633, 1515915625485566464), (9634, 1515915625446091264), (9635, 1515915625485284352), (9636, 1515915625485623808), (9637, 1515915625461045504), (9638, 1515915625482253824), (9639, 1515915625513717248), (9640, 1515915625461370880), (9641, 1515915625485637632), (9642, 1515915625447771904), (9643, 1515915625485326336), (9644, 1515915625467107840), (9645, 1515915625441000704), (9646, 1515915625485576704), (9647, 1515915625484102144), (9648, 1515915625485592832), (9649, 1515915625485591552), (9650, 1515915625465093376), (9651, 1515915625505801472), (9652, 1515915625462436608), (9653, 1515915625462962688), (9654, 1515915625485600768), (9655, 1515915625448569856), (9656, 1515915625509524480), (9657, 1515915625485606400), (9658, 1515915625512449792), (9659, 1515915625446698496), (9660, 1515915625456034816), (9661, 1515915625485597952), (9662, 1515915625476487168), (9663, 1515915625452890624), (9664, 1515915625486733312), (9665, 1515915625485618688), (9666, 1515915625485619456), (9667, 1515915625485707264), (9668, 1515915625485615872), (9669, 1515915625463996160), (9670, 1515915625475827712), (9671, 1515915625485627392), (9672, 1515915625483734016), (9673, 1515915625485605632), (9674, 1515915625485624064), (9675, 1515915625514457088), (9676, 1515915625478932224), (9677, 1515915625485287680), (9678, 1515915625471962624), (9679, 1515915625485637888), (9680, 1515915625483126528), (9681, 1515915625466872576), (9682, 1515915625485586688), (9683, 1515915625485641216), (9684, 1515915625485325056), (9685, 1515915625485309952), (9686, 1515915625483145728), (9687, 1515915625441885184), (9688, 1515915625442607104), (9689, 1515915625485649408), (9690, 1515915625485649152), (9691, 1515915625485650688), (9692, 1515915625467158528), (9693, 1515915625477286912), (9694, 1515915625485656064), (9695, 1515915625508003584), (9696, 1515915625485655552), (9697, 1515915625451068160), (9698, 1515915625485316608), (9699, 1515915625485659136), (9700, 1515915625485671936), (9701, 1515915625485751808), (9702, 1515915625485676032), (9703, 1515915625485681920), (9704, 1515915625485644544), (9705, 1515915625482348800), (9706, 1515915625483360256), (9707, 1515915625441819648), (9708, 1515915625467884032), (9709, 1515915625484234496), (9710, 1515915625478147840), (9711, 1515915625441926656), (9712, 1515915625485848576), (9713, 1515915625464642048), (9714, 1515915625482210304), (9715, 1515915625482765056), (9716, 1515915625484307456), (9717, 1515915625485565440), (9718, 1515915625485724416), (9719, 1515915625443656448), (9720, 1515915625485356032), (9721, 1515915625480522752), (9722, 1515915625442484224), (9723, 1515915625451065600), (9724, 1515915625484483328), (9725, 1515915625484947456), (9726, 1515915625484754176), (9727, 1515915625459003136), (9728, 1515915625485596928), (9729, 1515915625442655232), (9730, 1515915625477613312), (9731, 1515915625498192896), (9732, 1515915625481618176), (9733, 1515915625485786368), (9734, 1515915625486733568), (9735, 1515915625441347328), (9736, 1515915625469166848), (9737, 1515915625454618112), (9738, 1515915625485676288), (9739, 1515915625485755648), (9740, 1515915625485448192), (9741, 1515915625485708800), (9742, 1515915625496296192), (9743, 1515915625493436928), (9744, 1515915625485910528), (9745, 1515915625443294464), (9746, 1515915625466000384), (9747, 1515915625466319872), (9748, 1515915625442302976), (9749, 1515915625474859520), (9750, 1515915625465545984), (9751, 1515915625485940736), (9752, 1515915625461015296), (9753, 1515915625484070144), (9754, 1515915625475311104), (9755, 1515915625445626368), (9756, 1515915625485862656), (9757, 1515915625463527168), (9758, 1515915625485868288), (9759, 1515915625485860608), (9760, 1515915625485967104), (9761, 1515915625485868800), (9762, 1515915625485885184), (9763, 1515915625492422144), (9764, 1515915625469386240), (9765, 1515915625486606080), (9766, 1515915625485864960), (9767, 1515915625485884928), (9768, 1515915625471124224), (9769, 1515915625443257088), (9770, 1515915625485894912), (9771, 1515915625485997312), (9772, 1515915625477148160), (9773, 1515915625485904640), (9774, 1515915625485891584), (9775, 1515915625472531712), (9776, 1515915625472075264), (9777, 1515915625473164544), (9778, 1515915625485105152), (9779, 1515915625485680640), (9780, 1515915625485099520), (9781, 1515915625485918464), (9782, 1515915625485917440), (9783, 1515915625485591296), (9784, 1515915625485855232), (9785, 1515915625475008256), (9786, 1515915625485307904), (9787, 1515915625441136896), (9788, 1515915625477931008), (9789, 1515915625444473600), (9790, 1515915625485903104), (9791, 1515915625485881344), (9792, 1515915625474469888), (9793, 1515915625481797888), (9794, 1515915625452545024), (9795, 1515915625481128960), (9796, 1515915625484590080), (9797, 1515915625485959680), (9798, 1515915625485961472), (9799, 1515915625463197696), (9800, 1515915625446931200), (9801, 1515915625461831424), (9802, 1515915625485849344), (9803, 1515915625486807296), (9804, 1515915625483348992), (9805, 1515915625485969152), (9806, 1515915625485956096), (9807, 1515915625445950976), (9808, 1515915625505825280), (9809, 1515915625486002432), (9810, 1515915625442532352), (9811, 1515915625485975296), (9812, 1515915625486018048), (9813, 1515915625485993216), (9814, 1515915625448846848), (9815, 1515915625442566656), (9816, 1515915625486017792), (9817, 1515915625486084864), (9818, 1515915625486002688), (9819, 1515915625481929728), (9820, 1515915625459543808), (9821, 1515915625450867200), (9822, 1515915625447744000), (9823, 1515915625464609536), (9824, 1515915625440983552), (9825, 1515915625495130880), (9826, 1515915625485935616), (9827, 1515915625454323968), (9828, 1515915625447028224), (9829, 1515915625486357504), (9830, 1515915625486218496), (9831, 1515915625441551104), (9832, 1515915625484509952), (9833, 1515915625486141440), (9834, 1515915625486244352), (9835, 1515915625476838912), (9836, 1515915625445111808), (9837, 1515915625485651968), (9838, 1515915625484507136), (9839, 1515915625486156032), (9840, 1515915625486158336), (9841, 1515915625479653120), (9842, 1515915625467693824), (9843, 1515915625486161408), (9844, 1515915625486149120), (9845, 1515915625492808192), (9846, 1515915625483269888), (9847, 1515915625486164480), (9848, 1515915625486733824), (9849, 1515915625486166784), (9850, 1515915625465704704), (9851, 1515915625486170880), (9852, 1515915625496623616), (9853, 1515915625467539200), (9854, 1515915625460635904), (9855, 1515915625486173952), (9856, 1515915625475522816), (9857, 1515915625485752320), (9858, 1515915625480545024), (9859, 1515915625514058240), (9860, 1515915625444854272), (9861, 1515915625486178560), (9862, 1515915625444677376), (9863, 1515915625470725632), (9864, 1515915625486176256), (9865, 1515915625473461248), (9866, 1515915625486079488), (9867, 1515915625486017024), (9868, 1515915625486187008), (9869, 1515915625481448704), (9870, 1515915625485644032), (9871, 1515915625485177088), (9872, 1515915625486190336), (9873, 1515915625492841216), (9874, 1515915625486194176), (9875, 1515915625486181632), (9876, 1515915625486571776), (9877, 1515915625486195968), (9878, 1515915625485770240), (9879, 1515915625448983552), (9880, 1515915625511663616), (9881, 1515915625486171904), (9882, 1515915625486216960), (9883, 1515915625486330624), (9884, 1515915625486223616), (9885, 1515915625485954560), (9886, 1515915625475793152), (9887, 1515915625457283840), (9888, 1515915625467980544), (9889, 1515915625486227712), (9890, 1515915625486215424), (9891, 1515915625441088512), (9892, 1515915625486142976), (9893, 1515915625486231552), (9894, 1515915625478129664), (9895, 1515915625486242048), (9896, 1515915625451369728), (9897, 1515915625486009088), (9898, 1515915625486179584), (9899, 1515915625448238336), (9900, 1515915625486201088), (9901, 1515915625478094080), (9902, 1515915625463625472), (9903, 1515915625441161472), (9904, 1515915625474816256), (9905, 1515915625486198528), (9906, 1515915625486150400), (9907, 1515915625479310848), (9908, 1515915625486252800), (9909, 1515915625486251520), (9910, 1515915625486254592), (9911, 1515915625445378560), (9912, 1515915625470928384), (9913, 1515915625486225152), (9914, 1515915625486362112), (9915, 1515915625486141184), (9916, 1515915625485626368), (9917, 1515915625485879552), (9918, 1515915625486270208), (9919, 1515915625486160384), (9920, 1515915625486184448), (9921, 1515915625478916352), (9922, 1515915625484870656), (9923, 1515915625486276608), (9924, 1515915625477764608), (9925, 1515915625492847104), (9926, 1515915625486270464), (9927, 1515915625486287104), (9928, 1515915625479374080), (9929, 1515915625485972736), (9930, 1515915625485943040), (9931, 1515915625477207552), (9932, 1515915625486255872), (9933, 1515915625486310400), (9934, 1515915625471840512), (9935, 1515915625493872384), (9936, 1515915625486175744), (9937, 1515915625475485952), (9938, 1515915625460432896), (9939, 1515915625486342912), (9940, 1515915625486223872), (9941, 1515915625485431296), (9942, 1515915625482539264), (9943, 1515915625486364672), (9944, 1515915625484687616), (9945, 1515915625486419200), (9946, 1515915625495532288), (9947, 1515915625486172928), (9948, 1515915625486506240), (9949, 1515915625486462720), (9950, 1515915625486201344), (9951, 1515915625482459648), (9952, 1515915625486457600), (9953, 1515915625482484224), (9954, 1515915625484952576), (9955, 1515915625486152704), (9956, 1515915625486461440), (9957, 1515915625456667136), (9958, 1515915625482942208), (9959, 1515915625486556928), (9960, 1515915625497206272), (9961, 1515915625486311168), (9962, 1515915625481040128), (9963, 1515915625498273024), (9964, 1515915625477683456), (9965, 1515915625486459392), (9966, 1515915625486469632), (9967, 1515915625486174720), (9968, 1515915625485902592), (9969, 1515915625483044608), (9970, 1515915625471731200), (9971, 1515915625486476032), (9972, 1515915625486479872), (9973, 1515915625461611008), (9974, 1515915625464802560), (9975, 1515915625469830656), (9976, 1515915625474555136), (9977, 1515915625486482688), (9978, 1515915625473497344), (9979, 1515915625493682688), (9980, 1515915625482578176), (9981, 1515915625480124416), (9982, 1515915625486484736), (9983, 1515915625486486784), (9984, 1515915625486485760), (9985, 1515915625486490368), (9986, 1515915625485949184), (9987, 1515915625463648256), (9988, 1515915625458712064), (9989, 1515915625478206208), (9990, 1515915625486496512), (9991, 1515915625486492672), (9992, 1515915625486496256), (9993, 1515915625495873024), (9994, 1515915625471186176), (9995, 1515915625486494976), (9996, 1515915625476069376), (9997, 1515915625486501632), (9998, 1515915625486499840), (9999, 1515915625486492928), (10000, 1515915625480893952), (10001, 1515915625451387392), (10002, 1515915625443782144), (10003, 1515915625441108224), (10004, 1515915625460482048), (10005, 1515915625486595328), (10006, 1515915625486508544), (10007, 1515915625486517248), (10008, 1515915625486505984), (10009, 1515915625486179072), (10010, 1515915625486466816), (10011, 1515915625514599680), (10012, 1515915625498238464), (10013, 1515915625485394944), (10014, 1515915625486523136), (10015, 1515915625486211584), (10016, 1515915625485701120), (10017, 1515915625442036480), (10018, 1515915625481603584), (10019, 1515915625480376064), (10020, 1515915625486526720), (10021, 1515915625485871616), (10022, 1515915625499847168), (10023, 1515915625482281472), (10024, 1515915625482382336), (10025, 1515915625441603072), (10026, 1515915625486531584), (10027, 1515915625477167616), (10028, 1515915625486532352), (10029, 1515915625486532864), (10030, 1515915625462813440), (10031, 1515915625486532096), (10032, 1515915625485886208), (10033, 1515915625514629376), (10034, 1515915625486514688), (10035, 1515915625486536192), (10036, 1515915625478796800), (10037, 1515915625486525696), (10038, 1515915625486539520), (10039, 1515915625483536128), (10040, 1515915625486525952), (10041, 1515915625486541568), (10042, 1515915625477172224), (10043, 1515915625486541824), (10044, 1515915625486545408), (10045, 1515915625448743936), (10046, 1515915625486544128), (10047, 1515915625486513920), (10048, 1515915625481762816), (10049, 1515915625486458368), (10050, 1515915625470432000), (10051, 1515915625486553600), (10052, 1515915625473466624), (10053, 1515915625455948800), (10054, 1515915625486546432), (10055, 1515915625474243840), (10056, 1515915625485691904), (10057, 1515915625486488064), (10058, 1515915625486357760), (10059, 1515915625486559232), (10060, 1515915625486461184), (10061, 1515915625486562560), (10062, 1515915625452529152), (10063, 1515915625486542848), (10064, 1515915625465404928), (10065, 1515915625486552320), (10066, 1515915625486567424), (10067, 1515915625492847360), (10068, 1515915625486562048), (10069, 1515915625483258112), (10070, 1515915625486566656), (10071, 1515915625453376512), (10072, 1515915625486566912), (10073, 1515915625492839936), (10074, 1515915625467644416), (10075, 1515915625486489088), (10076, 1515915625458631680), (10077, 1515915625493091328), (10078, 1515915625483998464), (10079, 1515915625486679040), (10080, 1515915625485342976), (10081, 1515915625441971712), (10082, 1515915625486583296), (10083, 1515915625486582016), (10084, 1515915625499898880), (10085, 1515915625486583552), (10086, 1515915625486320896), (10087, 1515915625486556672), (10088, 1515915625486609664), (10089, 1515915625486528000), (10090, 1515915625486561024), (10091, 1515915625486044928), (10092, 1515915625486584064), (10093, 1515915625486579456), (10094, 1515915625485254144), (10095, 1515915625486595840), (10096, 1515915625483803904), (10097, 1515915625485719808), (10098, 1515915625442523136), (10099, 1515915625441448960), (10100, 1515915625443414528), (10101, 1515915625440944896), (10102, 1515915625486493696), (10103, 1515915625484558336), (10104, 1515915625476228864), (10105, 1515915625443550976), (10106, 1515915625485585152), (10107, 1515915625486621440), (10108, 1515915625483163648), (10109, 1515915625486617856), (10110, 1515915625486624256), (10111, 1515915625486624000), (10112, 1515915625441167104), (10113, 1515915625486629632), (10114, 1515915625485952512), (10115, 1515915625475357440), (10116, 1515915625486197504), (10117, 1515915625441084416), (10118, 1515915625443327488), (10119, 1515915625486356224), (10120, 1515915625512926976), (10121, 1515915625486646784), (10122, 1515915625486591488), (10123, 1515915625465676544), (10124, 1515915625466827264), (10125, 1515915625452779776), (10126, 1515915625485468160), (10127, 1515915625486286592), (10128, 1515915625486606592), (10129, 1515915625486667008), (10130, 1515915625474948864), (10131, 1515915625486674176), (10132, 1515915625461319168), (10133, 1515915625486650624), (10134, 1515915625486642944), (10135, 1515915625486667520), (10136, 1515915625482496768), (10137, 1515915625508621056), (10138, 1515915625486449152), (10139, 1515915625495292416), (10140, 1515915625446897664), (10141, 1515915625494632704), (10142, 1515915625492839680), (10143, 1515915625486813184), (10144, 1515915625486815744), (10145, 1515915625486803968), (10146, 1515915625442042624), (10147, 1515915625486787584), (10148, 1515915625486478592), (10149, 1515915625454982912), (10150, 1515915625467556608), (10151, 1515915625498452992), (10152, 1515915625441623808), (10153, 1515915625472733184), (10154, 1515915625486463744), (10155, 1515915625477148928), (10156, 1515915625492856576), (10157, 1515915625486002176), (10158, 1515915625465211648), (10159, 1515915625486808320), (10160, 1515915625486812672), (10161, 1515915625486543360), (10162, 1515915625486818304), (10163, 1515915625486818048), (10164, 1515915625485364224), (10165, 1515915625486822144), (10166, 1515915625467513856), (10167, 1515915625486817536), (10168, 1515915625495061504), (10169, 1515915625493682944), (10170, 1515915625443806208), (10171, 1515915625486682880), (10172, 1515915625486801408), (10173, 1515915625486832384), (10174, 1515915625485309696), (10175, 1515915625498969856), (10176, 1515915625486841088), (10177, 1515915625473048576), (10178, 1515915625484920320), (10179, 1515915625486797056), (10180, 1515915625444368384), (10181, 1515915625484737792), (10182, 1515915625448756736), (10183, 1515915625486792704), (10184, 1515915625485490432), (10185, 1515915625486855936), (10186, 1515915625485283328), (10187, 1515915625472495104), (10188, 1515915625486853888), (10189, 1515915625486857728), (10190, 1515915625471703296), (10191, 1515915625486857984), (10192, 1515915625498297856), (10193, 1515915625447046656), (10194, 1515915625455115008), (10195, 1515915625484877312), (10196, 1515915625486680832), (10197, 1515915625442768896), (10198, 1515915625458107904), (10199, 1515915625486875648), (10200, 1515915625485332736), (10201, 1515915625498363392), (10202, 1515915625473568768), (10203, 1515915625486879488), (10204, 1515915625486886656), (10205, 1515915625486855424), (10206, 1515915625485597696), (10207, 1515915625486875392), (10208, 1515915625486665216), (10209, 1515915625492814336), (10210, 1515915625486824192), (10211, 1515915625487048960), (10212, 1515915625482311168), (10213, 1515915625479884288), (10214, 1515915625486890240), (10215, 1515915625469938432), (10216, 1515915625486909184), (10217, 1515915625484895232), (10218, 1515915625472791552), (10219, 1515915625488468736), (10220, 1515915625480434688), (10221, 1515915625486914816), (10222, 1515915625488340736), (10223, 1515915625486956032), (10224, 1515915625478919680), (10225, 1515915625482130176), (10226, 1515915625492023808), (10227, 1515915625499827712), (10228, 1515915625492041984), (10229, 1515915625486521088), (10230, 1515915625492045824), (10231, 1515915625486915328), (10232, 1515915625485992448), (10233, 1515915625484127744), (10234, 1515915625468685568), (10235, 1515915625484699648), (10236, 1515915625492017152), (10237, 1515915625443619840), (10238, 1515915625492109312), (10239, 1515915625492017664), (10240, 1515915625486904832), (10241, 1515915625486842624), (10242, 1515915625492017408), (10243, 1515915625492016384), (10244, 1515915625492015872), (10245, 1515915625493693184), (10246, 1515915625491073792), (10247, 1515915625492066560), (10248, 1515915625492024320), (10249, 1515915625444306944), (10250, 1515915625486874368), (10251, 1515915625468577280), (10252, 1515915625455634944), (10253, 1515915625492028672), (10254, 1515915625466349568), (10255, 1515915625492032768), (10256, 1515915625486468608), (10257, 1515915625492019968), (10258, 1515915625478228992), (10259, 1515915625486213888), (10260, 1515915625492034304), (10261, 1515915625492024832), (10262, 1515915625493683200), (10263, 1515915625492042496), (10264, 1515915625492043264), (10265, 1515915625492037120), (10266, 1515915625492048128), (10267, 1515915625492044800), (10268, 1515915625486815488), (10269, 1515915625445672192), (10270, 1515915625492035584), (10271, 1515915625466273536), (10272, 1515915625492039936), (10273, 1515915625492018176), (10274, 1515915625492037632), (10275, 1515915625492181248), (10276, 1515915625492052480), (10277, 1515915625462389504), (10278, 1515915625465666304), (10279, 1515915625442064384), (10280, 1515915625492059904), (10281, 1515915625498176000), (10282, 1515915625492801280), (10283, 1515915625472994048), (10284, 1515915625500118528), (10285, 1515915625462379776), (10286, 1515915625492047360), (10287, 1515915625492059136), (10288, 1515915625448827136), (10289, 1515915625492068352), (10290, 1515915625483328000), (10291, 1515915625492075776), (10292, 1515915625483703808), (10293, 1515915625492016640), (10294, 1515915625481069824), (10295, 1515915625443313408), (10296, 1515915625492073216), (10297, 1515915625492088064), (10298, 1515915625492089856), (10299, 1515915625492082176), (10300, 1515915625472806912), (10301, 1515915625478440192), (10302, 1515915625497487872), (10303, 1515915625492104192), (10304, 1515915625485082880), (10305, 1515915625492037376), (10306, 1515915625467833856), (10307, 1515915625484587776), (10308, 1515915625492067584), (10309, 1515915625492121088), (10310, 1515915625492061184), (10311, 1515915625492114432), (10312, 1515915625492090880), (10313, 1515915625498138624), (10314, 1515915625492125440), (10315, 1515915625492041216), (10316, 1515915625492131840), (10317, 1515915625492135168), (10318, 1515915625484482304), (10319, 1515915625486219008), (10320, 1515915625459340288), (10321, 1515915625492129792), (10322, 1515915625442477312), (10323, 1515915625492858880), (10324, 1515915625492153344), (10325, 1515915625492147712), (10326, 1515915625511642624), (10327, 1515915625481992448), (10328, 1515915625492174336), (10329, 1515915625470813440), (10330, 1515915625474231296), (10331, 1515915625456078848), (10332, 1515915625445355008), (10333, 1515915625492128000), (10334, 1515915625449527040), (10335, 1515915625469204224), (10336, 1515915625492205824), (10337, 1515915625492213248), (10338, 1515915625486322688), (10339, 1515915625472782080), (10340, 1515915625481511424), (10341, 1515915625492214528), (10342, 1515915625498334720), (10343, 1515915625454304768), (10344, 1515915625492229632), (10345, 1515915625492069888), (10346, 1515915625486914048), (10347, 1515915625492230400), (10348, 1515915625492222720), (10349, 1515915625492242176), (10350, 1515915625492247808), (10351, 1515915625487878400), (10352, 1515915625486665472), (10353, 1515915625441420544), (10354, 1515915625441353984), (10355, 1515915625513326080), (10356, 1515915625482352640), (10357, 1515915625481991424), (10358, 1515915625492270080), (10359, 1515915625446013696), (10360, 1515915625456343296), (10361, 1515915625460999936), (10362, 1515915625473870336), (10363, 1515915625492197632), (10364, 1515915625448728064), (10365, 1515915625492356864), (10366, 1515915625468788224), (10367, 1515915625486199808), (10368, 1515915625492372992), (10369, 1515915625492388096), (10370, 1515915625462550528), (10371, 1515915625492390656), (10372, 1515915625492380160), (10373, 1515915625492350208), (10374, 1515915625492430080), (10375, 1515915625492011264), (10376, 1515915625463967744), (10377, 1515915625492425984), (10378, 1515915625492352256), (10379, 1515915625492350976), (10380, 1515915625448675328), (10381, 1515915625441329920), (10382, 1515915625486045184), (10383, 1515915625492353280), (10384, 1515915625492348416), (10385, 1515915625474829056), (10386, 1515915625493693440), (10387, 1515915625471642624), (10388, 1515915625472068096), (10389, 1515915625512927232), (10390, 1515915625492451584), (10391, 1515915625492377344), (10392, 1515915625488979968), (10393, 1515915625478183424), (10394, 1515915625492364544), (10395, 1515915625492364032), (10396, 1515915625480082176), (10397, 1515915625462846976), (10398, 1515915625492357632), (10399, 1515915625441601024), (10400, 1515915625492370944), (10401, 1515915625492360192), (10402, 1515915625492371712), (10403, 1515915625498285568), (10404, 1515915625492373504), (10405, 1515915625492372224), (10406, 1515915625492375296), (10407, 1515915625493683712), (10408, 1515915625459470336), (10409, 1515915625482029056), (10410, 1515915625498350848), (10411, 1515915625492382976), (10412, 1515915625486893568), (10413, 1515915625449737472), (10414, 1515915625492386560), (10415, 1515915625492386304), (10416, 1515915625492392448), (10417, 1515915625492092416), (10418, 1515915625459024128), (10419, 1515915625492378880), (10420, 1515915625451808256), (10421, 1515915625492032000), (10422, 1515915625492398080), (10423, 1515915625492376576), (10424, 1515915625492239104), (10425, 1515915625492836608), (10426, 1515915625492402944), (10427, 1515915625492405760), (10428, 1515915625492409600), (10429, 1515915625476822528), (10430, 1515915625480891904), (10431, 1515915625480627200), (10432, 1515915625492412928), (10433, 1515915625492421376), (10434, 1515915625492397056), (10435, 1515915625492420608), (10436, 1515915625465081856), (10437, 1515915625483566592), (10438, 1515915625461324800), (10439, 1515915625498354944), (10440, 1515915625485177600), (10441, 1515915625492433408), (10442, 1515915625492439040), (10443, 1515915625492396032), (10444, 1515915625481185536), (10445, 1515915625492434432), (10446, 1515915625447024640), (10447, 1515915625486488832), (10448, 1515915625492373248), (10449, 1515915625496028416), (10450, 1515915625446998784), (10451, 1515915625486135552), (10452, 1515915625442583552), (10453, 1515915625485613056), (10454, 1515915625492420352), (10455, 1515915625492456704), (10456, 1515915625492454912), (10457, 1515915625492415744), (10458, 1515915625492072448), (10459, 1515915625444854784), (10460, 1515915625492443904), (10461, 1515915625492447488), (10462, 1515915625469225216), (10463, 1515915625449942528), (10464, 1515915625464780800), (10465, 1515915625492427776), (10466, 1515915625492348160), (10467, 1515915625479875584), (10468, 1515915625444362752), (10469, 1515915625441865728), (10470, 1515915625474786816), (10471, 1515915625482931456), (10472, 1515915625480819200), (10473, 1515915625492379392), (10474, 1515915625459040256), (10475, 1515915625485718272), (10476, 1515915625492620288), (10477, 1515915625492351232), (10478, 1515915625485628672), (10479, 1515915625486631936), (10480, 1515915625453792256), (10481, 1515915625492626944), (10482, 1515915625492702720), (10483, 1515915625453404416), (10484, 1515915625441449216), (10485, 1515915625492641280), (10486, 1515915625484429568), (10487, 1515915625443659008), (10488, 1515915625492416768), (10489, 1515915625445588992), (10490, 1515915625492631808), (10491, 1515915625469080832), (10492, 1515915625492361728), (10493, 1515915625492660224), (10494, 1515915625476505344), (10495, 1515915625461897472), (10496, 1515915625492666624), (10497, 1515915625473194496), (10498, 1515915625493073920), (10499, 1515915625492669952), (10500, 1515915625492674048), (10501, 1515915625492673536), (10502, 1515915625445721344), (10503, 1515915625492675584), (10504, 1515915625492670208), (10505, 1515915625447791360), (10506, 1515915625492685056), (10507, 1515915625472917760), (10508, 1515915625492696832), (10509, 1515915625446422528), (10510, 1515915625492652800), (10511, 1515915625492438784), (10512, 1515915625484290816), (10513, 1515915625492721408), (10514, 1515915625492770560), (10515, 1515915625492772352), (10516, 1515915625492651264), (10517, 1515915625493033728), (10518, 1515915625444183808), (10519, 1515915625496536320), (10520, 1515915625480737024), (10521, 1515915625492801792), (10522, 1515915625492763136), (10523, 1515915625503963392), (10524, 1515915625441307648), (10525, 1515915625492798208), (10526, 1515915625465722880), (10527, 1515915625492614144), (10528, 1515915625482555136), (10529, 1515915625493693696), (10530, 1515915625492772864), (10531, 1515915625492773376), (10532, 1515915625492643328), (10533, 1515915625492851200), (10534, 1515915625492701952), (10535, 1515915625492364800), (10536, 1515915625464708608), (10537, 1515915625511330816), (10538, 1515915625492656640), (10539, 1515915625492867072), (10540, 1515915625462784768), (10541, 1515915625450894336), (10542, 1515915625492783616), (10543, 1515915625492785920), (10544, 1515915625496256000), (10545, 1515915625464737792), (10546, 1515915625492789504), (10547, 1515915625498321664), (10548, 1515915625492786432), (10549, 1515915625492794112), (10550, 1515915625486023424), (10551, 1515915625496273920), (10552, 1515915625492782080), (10553, 1515915625492191744), (10554, 1515915625481512704), (10555, 1515915625486662400), (10556, 1515915625492793088), (10557, 1515915625485851648), (10558, 1515915625492806400), (10559, 1515915625492807936), (10560, 1515915625492800512), (10561, 1515915625492812032), (10562, 1515915625492811264), (10563, 1515915625486575872), (10564, 1515915625474948608), (10565, 1515915625492816640), (10566, 1515915625492817664), (10567, 1515915625492815872), (10568, 1515915625492813824), (10569, 1515915625492821248), (10570, 1515915625492783104), (10571, 1515915625492907520), (10572, 1515915625492602624), (10573, 1515915625492794368), (10574, 1515915625492818688), (10575, 1515915625492014080), (10576, 1515915625492761088), (10577, 1515915625449722624), (10578, 1515915625492832768), (10579, 1515915625492809984), (10580, 1515915625492201216), (10581, 1515915625492837632), (10582, 1515915625492820224), (10583, 1515915625462572544), (10584, 1515915625462527744), (10585, 1515915625473793280), (10586, 1515915625451251968), (10587, 1515915625492768000), (10588, 1515915625492838912), (10589, 1515915625492808704), (10590, 1515915625492842496), (10591, 1515915625492845056), (10592, 1515915625492831744), (10593, 1515915625492083712), (10594, 1515915625477364480), (10595, 1515915625492366336), (10596, 1515915625452676096), (10597, 1515915625483207936), (10598, 1515915625492696064), (10599, 1515915625492863232), (10600, 1515915625482554880), (10601, 1515915625492865280), (10602, 1515915625492840192), (10603, 1515915625492848896), (10604, 1515915625492869632), (10605, 1515915625459081984), (10606, 1515915625492867584), (10607, 1515915625492883200), (10608, 1515915625492886016), (10609, 1515915625492889088), (10610, 1515915625465172992), (10611, 1515915625443524608), (10612, 1515915625442128384), (10613, 1515915625487201536), (10614, 1515915625482920960), (10615, 1515915625492810752), (10616, 1515915625482426880), (10617, 1515915625498316544), (10618, 1515915625492913152), (10619, 1515915625492922624), (10620, 1515915625483739648), (10621, 1515915625483727872), (10622, 1515915625484700416), (10623, 1515915625492932352), (10624, 1515915625484438784), (10625, 1515915625454104832), (10626, 1515915625492522240), (10627, 1515915625492950272), (10628, 1515915625453481984), (10629, 1515915625481330432), (10630, 1515915625453954048), (10631, 1515915625492953600), (10632, 1515915625482471936), (10633, 1515915625485676544), (10634, 1515915625478776064), (10635, 1515915625466525696), (10636, 1515915625492795392), (10637, 1515915625492977408), (10638, 1515915625492966144), (10639, 1515915625473736704), (10640, 1515915625475706112), (10641, 1515915625492437760), (10642, 1515915625445959936), (10643, 1515915625478354176), (10644, 1515915625492225024), (10645, 1515915625504101376), (10646, 1515915625445576448), (10647, 1515915625511722240), (10648, 1515915625493095680), (10649, 1515915625469227008), (10650, 1515915625493077760), (10651, 1515915625493077248), (10652, 1515915625466545664), (10653, 1515915625484184832), (10654, 1515915625493110784), (10655, 1515915625493039616), (10656, 1515915625466573056), (10657, 1515915625445523200), (10658, 1515915625512659968), (10659, 1515915625492880640), (10660, 1515915625493032704), (10661, 1515915625493043968), (10662, 1515915625493051136), (10663, 1515915625493049600), (10664, 1515915625479828480), (10665, 1515915625493052160), (10666, 1515915625482433792), (10667, 1515915625469924608), (10668, 1515915625493053952), (10669, 1515915625457538304), (10670, 1515915625493060608), (10671, 1515915625493058048), (10672, 1515915625493683968), (10673, 1515915625493051648), (10674, 1515915625493060096), (10675, 1515915625493148928), (10676, 1515915625480088832), (10677, 1515915625474868992), (10678, 1515915625472032768), (10679, 1515915625493060352), (10680, 1515915625493048832), (10681, 1515915625463936256), (10682, 1515915625483280128), (10683, 1515915625444792576), (10684, 1515915625493066496), (10685, 1515915625493155584), (10686, 1515915625492914688), (10687, 1515915625453036288), (10688, 1515915625493060864), (10689, 1515915625476706816), (10690, 1515915625455054080), (10691, 1515915625464885248), (10692, 1515915625463672320), (10693, 1515915625449985536), (10694, 1515915625493090816), (10695, 1515915625492953344), (10696, 1515915625453423872), (10697, 1515915625493066752), (10698, 1515915625441112320), (10699, 1515915625493101312), (10700, 1515915625493092352), (10701, 1515915625493094656), (10702, 1515915625482430720), (10703, 1515915625492645632), (10704, 1515915625493102080), (10705, 1515915625462423808), (10706, 1515915625493169408), (10707, 1515915625493113344), (10708, 1515915625466525952), (10709, 1515915625493106432), (10710, 1515915625493086720), (10711, 1515915625468793856), (10712, 1515915625493117440), (10713, 1515915625493033472), (10714, 1515915625458428672), (10715, 1515915625452481024), (10716, 1515915625493112832), (10717, 1515915625492030976), (10718, 1515915625493116928), (10719, 1515915625442555648), (10720, 1515915625493129728), (10721, 1515915625492905472), (10722, 1515915625464212992), (10723, 1515915625442440448), (10724, 1515915625492862208), (10725, 1515915625493136384), (10726, 1515915625493110528), (10727, 1515915625493142784), (10728, 1515915625485932288), (10729, 1515915625479747328), (10730, 1515915625493143040), (10731, 1515915625493100032), (10732, 1515915625493145856), (10733, 1515915625444771584), (10734, 1515915625483559680), (10735, 1515915625492787968), (10736, 1515915625493134080), (10737, 1515915625492796928), (10738, 1515915625493150976), (10739, 1515915625456781824), (10740, 1515915625512662528), (10741, 1515915625493174016), (10742, 1515915625481164800), (10743, 1515915625493185024), (10744, 1515915625493162752), (10745, 1515915625486465024), (10746, 1515915625444369664), (10747, 1515915625448713472), (10748, 1515915625493232384), (10749, 1515915625440975616), (10750, 1515915625442284544), (10751, 1515915625484015616), (10752, 1515915625493158144), (10753, 1515915625465473792), (10754, 1515915625485732096), (10755, 1515915625493323264), (10756, 1515915625473547776), (10757, 1515915625493341696), (10758, 1515915625492413184), (10759, 1515915625496200704), (10760, 1515915625493308672), (10761, 1515915625493319168), (10762, 1515915625479589120), (10763, 1515915625493693952), (10764, 1515915625492676608), (10765, 1515915625442030848), (10766, 1515915625493330688), (10767, 1515915625465809920), (10768, 1515915625493330176), (10769, 1515915625444909056), (10770, 1515915625465609984), (10771, 1515915625480119040), (10772, 1515915625493328896), (10773, 1515915625493336320), (10774, 1515915625493998080), (10775, 1515915625493325056), (10776, 1515915625441807616), (10777, 1515915625493344512), (10778, 1515915625482648832), (10779, 1515915625492933120), (10780, 1515915625450956032), (10781, 1515915625449175808), (10782, 1515915625493684224), (10783, 1515915625493050880), (10784, 1515915625493347584), (10785, 1515915625493491456), (10786, 1515915625469448192), (10787, 1515915625493354240), (10788, 1515915625493506304), (10789, 1515915625493368064), (10790, 1515915625475142912), (10791, 1515915625492197888), (10792, 1515915625446031616), (10793, 1515915625451957760), (10794, 1515915625493492480), (10795, 1515915625488336384), (10796, 1515915625462188544), (10797, 1515915625493412864), (10798, 1515915625443137792), (10799, 1515915625493340672), (10800, 1515915625484727040), (10801, 1515915625493501184), (10802, 1515915625446551040), (10803, 1515915625453108480), (10804, 1515915625499185920), (10805, 1515915625493367808), (10806, 1515915625493382656), (10807, 1515915625493412096), (10808, 1515915625493356288), (10809, 1515915625493516800), (10810, 1515915625493199104), (10811, 1515915625493354496), (10812, 1515915625459541760), (10813, 1515915625486674432), (10814, 1515915625493534976), (10815, 1515915625460216064), (10816, 1515915625493324800), (10817, 1515915625493538560), (10818, 1515915625467312896), (10819, 1515915625482550272), (10820, 1515915625457992704), (10821, 1515915625492441088), (10822, 1515915625482349312), (10823, 1515915625485667584), (10824, 1515915625493390592), (10825, 1515915625511055104), (10826, 1515915625493566720), (10827, 1515915625453353984), (10828, 1515915625480750848), (10829, 1515915625441847808), (10830, 1515915625511167744), (10831, 1515915625450457600), (10832, 1515915625493621760), (10833, 1515915625493657600), (10834, 1515915625450304000), (10835, 1515915625486510336), (10836, 1515915625493553920), (10837, 1515915625493637120), (10838, 1515915625442552320), (10839, 1515915625493688832), (10840, 1515915625513533952), (10841, 1515915625493327360), (10842, 1515915625493356544), (10843, 1515915625486492416), (10844, 1515915625493182208), (10845, 1515915625493654016), (10846, 1515915625492759552), (10847, 1515915625493657856), (10848, 1515915625493659136), (10849, 1515915625493660672), (10850, 1515915625493758720), (10851, 1515915625449930496), (10852, 1515915625485794304), (10853, 1515915625462451968), (10854, 1515915625493666304), (10855, 1515915625467290624), (10856, 1515915625447088640), (10857, 1515915625493670400), (10858, 1515915625493670912), (10859, 1515915625493669120), (10860, 1515915625493662720), (10861, 1515915625504817920), (10862, 1515915625493392128), (10863, 1515915625493479680), (10864, 1515915625493367296), (10865, 1515915625493681152), (10866, 1515915625493679872), (10867, 1515915625493684480), (10868, 1515915625493964544), (10869, 1515915625493676032), (10870, 1515915625493801472), (10871, 1515915625493685248), (10872, 1515915625493150720), (10873, 1515915625462868224), (10874, 1515915625493342720), (10875, 1515915625512672000), (10876, 1515915625450588160), (10877, 1515915625477878528), (10878, 1515915625493705984), (10879, 1515915625493707008), (10880, 1515915625493701888), (10881, 1515915625451052032), (10882, 1515915625493704704), (10883, 1515915625493714432), (10884, 1515915625479232256), (10885, 1515915625493290240), (10886, 1515915625482341888), (10887, 1515915625452957440), (10888, 1515915625493719552), (10889, 1515915625493722624), (10890, 1515915625493659904), (10891, 1515915625458068224), (10892, 1515915625493470208), (10893, 1515915625452397824), (10894, 1515915625493701120), (10895, 1515915625493663744), (10896, 1515915625446923776), (10897, 1515915625493722112), (10898, 1515915625485316096), (10899, 1515915625458547712), (10900, 1515915625455185152), (10901, 1515915625493710080), (10902, 1515915625493729536), (10903, 1515915625493295616), (10904, 1515915625493737472), (10905, 1515915625493418752), (10906, 1515915625493745408), (10907, 1515915625513727232), (10908, 1515915625453674496), (10909, 1515915625493721088), (10910, 1515915625493109248), (10911, 1515915625451533568), (10912, 1515915625441959168), (10913, 1515915625469412608), (10914, 1515915625478265088), (10915, 1515915625485353984), (10916, 1515915625493554944), (10917, 1515915625478602240), (10918, 1515915625493754880), (10919, 1515915625465107712), (10920, 1515915625493755904), (10921, 1515915625493760512), (10922, 1515915625493762304), (10923, 1515915625493616896), (10924, 1515915625493762048), (10925, 1515915625486408704), (10926, 1515915625464336384), (10927, 1515915625493769216), (10928, 1515915625446196736), (10929, 1515915625508400896), (10930, 1515915625477760256), (10931, 1515915625485343232), (10932, 1515915625447824896), (10933, 1515915625459623424), (10934, 1515915625493767424), (10935, 1515915625492993024), (10936, 1515915625493963520), (10937, 1515915625493778176), (10938, 1515915625482716160), (10939, 1515915625471756544), (10940, 1515915625493326336), (10941, 1515915625512663040), (10942, 1515915625463227904), (10943, 1515915625452698880), (10944, 1515915625456122368), (10945, 1515915625493769984), (10946, 1515915625493793536), (10947, 1515915625493802496), (10948, 1515915625446255104), (10949, 1515915625493794304), (10950, 1515915625493806080), (10951, 1515915625493812480), (10952, 1515915625450595584), (10953, 1515915625493809152), (10954, 1515915625493824000), (10955, 1515915625493816064), (10956, 1515915625493807360), (10957, 1515915625473334528), (10958, 1515915625493854720), (10959, 1515915625493818368), (10960, 1515915625493869568), (10961, 1515915625453587968), (10962, 1515915625475018240), (10963, 1515915625477323008), (10964, 1515915625467203840), (10965, 1515915625493888000), (10966, 1515915625465238528), (10967, 1515915625462341120), (10968, 1515915625456785920), (10969, 1515915625493633792), (10970, 1515915625460739328), (10971, 1515915625444513792), (10972, 1515915625443964160), (10973, 1515915625492379136), (10974, 1515915625504422912), (10975, 1515915625494013696), (10976, 1515915625493903360), (10977, 1515915625498296064), (10978, 1515915625494074624), (10979, 1515915625493718272), (10980, 1515915625493981184), (10981, 1515915625476226816), (10982, 1515915625493987840), (10983, 1515915625511521280), (10984, 1515915625446035200), (10985, 1515915625476908288), (10986, 1515915625493989120), (10987, 1515915625493888256), (10988, 1515915625487185152), (10989, 1515915625493252864), (10990, 1515915625493995008), (10991, 1515915625493753856), (10992, 1515915625482419712), (10993, 1515915625484494592), (10994, 1515915625458131200), (10995, 1515915625472064512), (10996, 1515915625494002432), (10997, 1515915625493719040), (10998, 1515915625493434880), (10999, 1515915625494007040), (11000, 1515915625460544768), (11001, 1515915625494003456), (11002, 1515915625476028928), (11003, 1515915625494009088), (11004, 1515915625493431808), (11005, 1515915625493984000), (11006, 1515915625494303488), (11007, 1515915625494018560), (11008, 1515915625494015488), (11009, 1515915625493800448), (11010, 1515915625493893376), (11011, 1515915625493808896), (11012, 1515915625494021376), (11013, 1515915625494027264), (11014, 1515915625494028800), (11015, 1515915625494014720), (11016, 1515915625494027008), (11017, 1515915625494035456), (11018, 1515915625494146816), (11019, 1515915625494037504), (11020, 1515915625494040064), (11021, 1515915625493722368), (11022, 1515915625459582720), (11023, 1515915625505831936), (11024, 1515915625494001408), (11025, 1515915625467599104), (11026, 1515915625494303232), (11027, 1515915625494038528), (11028, 1515915625494045440), (11029, 1515915625464633856), (11030, 1515915625492774912), (11031, 1515915625494044160), (11032, 1515915625494047744), (11033, 1515915625466992384), (11034, 1515915625479709440), (11035, 1515915625466792448), (11036, 1515915625492143104), (11037, 1515915625493384192), (11038, 1515915625494048512), (11039, 1515915625494044928), (11040, 1515915625493988352), (11041, 1515915625494051840), (11042, 1515915625494045952), (11043, 1515915625458458880), (11044, 1515915625493329152), (11045, 1515915625494198272), (11046, 1515915625478802432), (11047, 1515915625494051328), (11048, 1515915625467907328), (11049, 1515915625494086144), (11050, 1515915625474281472), (11051, 1515915625493737728), (11052, 1515915625494092288), (11053, 1515915625494080256), (11054, 1515915625478598144), (11055, 1515915625494096640), (11056, 1515915625493671168), (11057, 1515915625492856320), (11058, 1515915625494112768), (11059, 1515915625494010624), (11060, 1515915625497206016), (11061, 1515915625447783424), (11062, 1515915625494084608), (11063, 1515915625485138432), (11064, 1515915625494093824), (11065, 1515915625494110464), (11066, 1515915625444256512), (11067, 1515915625494125312), (11068, 1515915625472710400), (11069, 1515915625494087168), (11070, 1515915625493999360), (11071, 1515915625493183744), (11072, 1515915625494140416), (11073, 1515915625494144256), (11074, 1515915625468273408), (11075, 1515915625446752000), (11076, 1515915625448196096), (11077, 1515915625494165248), (11078, 1515915625493776640), (11079, 1515915625452811520), (11080, 1515915625441342720), (11081, 1515915625492897792), (11082, 1515915625478118912), (11083, 1515915625494197504), (11084, 1515915625474183936), (11085, 1515915625493860608), (11086, 1515915625494145024), (11087, 1515915625480870656), (11088, 1515915625484386048), (11089, 1515915625478024704), (11090, 1515915625467604736), (11091, 1515915625494262528), (11092, 1515915625494322176), (11093, 1515915625494322432), (11094, 1515915625494089472), (11095, 1515915625494156800), (11096, 1515915625493488384), (11097, 1515915625493487104), (11098, 1515915625494631936), (11099, 1515915625453243392), (11100, 1515915625483396352), (11101, 1515915625494339584), (11102, 1515915625443125504), (11103, 1515915625494340352), (11104, 1515915625493349120), (11105, 1515915625494341376), (11106, 1515915625443315968), (11107, 1515915625494353152), (11108, 1515915625494326016), (11109, 1515915625493978112), (11110, 1515915625494345472), (11111, 1515915625494344960), (11112, 1515915625482748160), (11113, 1515915625511007488), (11114, 1515915625479737088), (11115, 1515915625472092416), (11116, 1515915625494350848), (11117, 1515915625483366400), (11118, 1515915625494330112), (11119, 1515915625494342656), (11120, 1515915625494352640), (11121, 1515915625494102016), (11122, 1515915625494354944), (11123, 1515915625494354432), (11124, 1515915625494350336), (11125, 1515915625494631168), (11126, 1515915625475825152), (11127, 1515915625493142528), (11128, 1515915625448630272), (11129, 1515915625494343168), (11130, 1515915625494042368), (11131, 1515915625494331136), (11132, 1515915625469207296), (11133, 1515915625494009856), (11134, 1515915625494375680), (11135, 1515915625498988800), (11136, 1515915625494376192), (11137, 1515915625494379008), (11138, 1515915625466110464), (11139, 1515915625494377728), (11140, 1515915625467017472), (11141, 1515915625494378752), (11142, 1515915625493826560), (11143, 1515915625469437696), (11144, 1515915625494367488), (11145, 1515915625494381568), (11146, 1515915625494220800), (11147, 1515915625492846592), (11148, 1515915625492185088), (11149, 1515915625494374144), (11150, 1515915625441902336), (11151, 1515915625494390016), (11152, 1515915625468981760), (11153, 1515915625462012672), (11154, 1515915625455805440), (11155, 1515915625486169600), (11156, 1515915625441131776), (11157, 1515915625475351552), (11158, 1515915625494402560), (11159, 1515915625494158080), (11160, 1515915625480581632), (11161, 1515915625494406144), (11162, 1515915625485762048), (11163, 1515915625494383360), (11164, 1515915625495552768), (11165, 1515915625452082176), (11166, 1515915625495872768), (11167, 1515915625494411264), (11168, 1515915625494393088), (11169, 1515915625493334016), (11170, 1515915625494420992), (11171, 1515915625481559808), (11172, 1515915625494426624), (11173, 1515915625479200000), (11174, 1515915625494419712), (11175, 1515915625485877760), (11176, 1515915625486623232), (11177, 1515915625494375168), (11178, 1515915625494440448), (11179, 1515915625494397440), (11180, 1515915625443728384), (11181, 1515915625482221312), (11182, 1515915625465180160), (11183, 1515915625494434560), (11184, 1515915625445939712), (11185, 1515915625488413440), (11186, 1515915625497259264), (11187, 1515915625474933504), (11188, 1515915625494417152), (11189, 1515915625492540928), (11190, 1515915625474982144), (11191, 1515915625469886464), (11192, 1515915625494459392), (11193, 1515915625494467584), (11194, 1515915625493823232), (11195, 1515915625474599424), (11196, 1515915625494081792), (11197, 1515915625483004160), (11198, 1515915625449902592), (11199, 1515915625460448768), (11200, 1515915625494469120), (11201, 1515915625494482688), (11202, 1515915625492707328), (11203, 1515915625443274496), (11204, 1515915625494229760), (11205, 1515915625482598912), (11206, 1515915625494552576), (11207, 1515915625494504192), (11208, 1515915625474548480), (11209, 1515915625494425856), (11210, 1515915625494380288), (11211, 1515915625441421824), (11212, 1515915625494522112), (11213, 1515915625492765952), (11214, 1515915625494528512), (11215, 1515915625505822976), (11216, 1515915625492348928), (11217, 1515915625489418752), (11218, 1515915625494321152), (11219, 1515915625494532096), (11220, 1515915625494530304), (11221, 1515915625469327616), (11222, 1515915625494166272), (11223, 1515915625454139392), (11224, 1515915625483086592), (11225, 1515915625481773056), (11226, 1515915625448068096), (11227, 1515915625493679616), (11228, 1515915625473249792), (11229, 1515915625494221568), (11230, 1515915625494567424), (11231, 1515915625450537728), (11232, 1515915625445577216), (11233, 1515915625494571520), (11234, 1515915625447812096), (11235, 1515915625484210944), (11236, 1515915625494543360), (11237, 1515915625486479360), (11238, 1515915625492937472), (11239, 1515915625492703488), (11240, 1515915625498320640), (11241, 1515915625494564096), (11242, 1515915625462850304), (11243, 1515915625494654976), (11244, 1515915625477350144), (11245, 1515915625493474816), (11246, 1515915625454843136), (11247, 1515915625494760960), (11248, 1515915625446539520), (11249, 1515915625494655488), (11250, 1515915625494665216), (11251, 1515915625494663680), (11252, 1515915625494709248), (11253, 1515915625448172032), (11254, 1515915625466469632), (11255, 1515915625494948352), (11256, 1515915625493400064), (11257, 1515915625448337152), (11258, 1515915625494515968), (11259, 1515915625494949120), (11260, 1515915625470952704), (11261, 1515915625458780672), (11262, 1515915625494496256), (11263, 1515915625447004928), (11264, 1515915625494682112), (11265, 1515915625441874944), (11266, 1515915625494052096), (11267, 1515915625494683136), (11268, 1515915625494657024), (11269, 1515915625475868160), (11270, 1515915625442527744), (11271, 1515915625494685952), (11272, 1515915625494686208), (11273, 1515915625494661376), (11274, 1515915625494691584), (11275, 1515915625494693376), (11276, 1515915625494668544), (11277, 1515915625469542656), (11278, 1515915625478649088), (11279, 1515915625494696448), (11280, 1515915625445715968), (11281, 1515915625460824320), (11282, 1515915625465100032), (11283, 1515915625482443264), (11284, 1515915625494708480), (11285, 1515915625494707968), (11286, 1515915625494649600), (11287, 1515915625494711808), (11288, 1515915625494714112), (11289, 1515915625494712320), (11290, 1515915625494482944), (11291, 1515915625493468416), (11292, 1515915625494715136), (11293, 1515915625494717952), (11294, 1515915625467251968), (11295, 1515915625465699072), (11296, 1515915625494517760), (11297, 1515915625494722816), (11298, 1515915625494724608), (11299, 1515915625494716928), (11300, 1515915625469371392), (11301, 1515915625494713088), (11302, 1515915625494723840), (11303, 1515915625494718208), (11304, 1515915625448366080), (11305, 1515915625494664192), (11306, 1515915625481551872), (11307, 1515915625498332928), (11308, 1515915625480328448), (11309, 1515915625494841088), (11310, 1515915625468349440), (11311, 1515915625494741248), (11312, 1515915625449941248), (11313, 1515915625485174016), (11314, 1515915625465833216), (11315, 1515915625493765120), (11316, 1515915625494750464), (11317, 1515915625493508608), (11318, 1515915625494746880), (11319, 1515915625494745344), (11320, 1515915625494735872), (11321, 1515915625494699776), (11322, 1515915625494752000), (11323, 1515915625494753280), (11324, 1515915625494760192), (11325, 1515915625466083072), (11326, 1515915625495317760), (11327, 1515915625494761472), (11328, 1515915625494763520), (11329, 1515915625494765056), (11330, 1515915625494412544), (11331, 1515915625481399552), (11332, 1515915625494764032), (11333, 1515915625474297856), (11334, 1515915625494568448), (11335, 1515915625467538176), (11336, 1515915625494770688), (11337, 1515915625494694656), (11338, 1515915625494778112), (11339, 1515915625482939648), (11340, 1515915625494744064), (11341, 1515915625494771712), (11342, 1515915625447672576), (11343, 1515915625492665856), (11344, 1515915625450631936), (11345, 1515915625482144768), (11346, 1515915625441331968), (11347, 1515915625494404352), (11348, 1515915625498183936), (11349, 1515915625494780928), (11350, 1515915625492380672), (11351, 1515915625494793728), (11352, 1515915625494799616), (11353, 1515915625463294976), (11354, 1515915625494792960), (11355, 1515915625494803456), (11356, 1515915625494807808), (11357, 1515915625481019136), (11358, 1515915625494758144), (11359, 1515915625494697728), (11360, 1515915625494569472), (11361, 1515915625494820352), (11362, 1515915625493926656), (11363, 1515915625459412992), (11364, 1515915625494806784), (11365, 1515915625494823168), (11366, 1515915625494824960), (11367, 1515915625494810624), (11368, 1515915625480314624), (11369, 1515915625466904064), (11370, 1515915625494259712), (11371, 1515915625443475200), (11372, 1515915625494822656), (11373, 1515915625494841856), (11374, 1515915625493742336), (11375, 1515915625478160640), (11376, 1515915625512927488), (11377, 1515915625497620480), (11378, 1515915625462831872), (11379, 1515915625451413248), (11380, 1515915625494834944), (11381, 1515915625494852096), (11382, 1515915625494547200), (11383, 1515915625494847488), (11384, 1515915625494849024), (11385, 1515915625494794240), (11386, 1515915625469411840), (11387, 1515915625481292800), (11388, 1515915625494858240), (11389, 1515915625450671872), (11390, 1515915625494857984), (11391, 1515915625476672000), (11392, 1515915625494870784), (11393, 1515915625494850560), (11394, 1515915625494855168), (11395, 1515915625494820608), (11396, 1515915625494865920), (11397, 1515915625475029760), (11398, 1515915625442691584), (11399, 1515915625483656448), (11400, 1515915625494000640), (11401, 1515915625479687936), (11402, 1515915625494885120), (11403, 1515915625458924544), (11404, 1515915625453093376), (11405, 1515915625459257856), (11406, 1515915625494908672), (11407, 1515915625494918400), (11408, 1515915625468682496), (11409, 1515915625456659968), (11410, 1515915625443028992), (11411, 1515915625494009344), (11412, 1515915625463390976), (11413, 1515915625494975744), (11414, 1515915625494978560), (11415, 1515915625495060224), (11416, 1515915625449691392), (11417, 1515915625494980096), (11418, 1515915625494979840), (11419, 1515915625494985216), (11420, 1515915625483005184), (11421, 1515915625511169536), (11422, 1515915625494980864), (11423, 1515915625461514240), (11424, 1515915625441403392), (11425, 1515915625442483200), (11426, 1515915625495073280), (11427, 1515915625494991360), (11428, 1515915625494993920), (11429, 1515915625494992896), (11430, 1515915625440881408), (11431, 1515915625494568192), (11432, 1515915625495002624), (11433, 1515915625441090304), (11434, 1515915625495003136), (11435, 1515915625446632704), (11436, 1515915625494699008), (11437, 1515915625474622720), (11438, 1515915625494997504), (11439, 1515915625495003392), (11440, 1515915625450925312), (11441, 1515915625445737728), (11442, 1515915625452113408), (11443, 1515915625466999552), (11444, 1515915625476915968), (11445, 1515915625495013632), (11446, 1515915625444808448), (11447, 1515915625495016960), (11448, 1515915625441984512), (11449, 1515915625494350592), (11450, 1515915625495021056), (11451, 1515915625495021568), (11452, 1515915625494774272), (11453, 1515915625495015424), (11454, 1515915625494527232), (11455, 1515915625495026432), (11456, 1515915625446730752), (11457, 1515915625495005184), (11458, 1515915625441918976), (11459, 1515915625494627584), (11460, 1515915625495019776), (11461, 1515915625481533952), (11462, 1515915625495029504), (11463, 1515915625495035904), (11464, 1515915625496486656), (11465, 1515915625468506368), (11466, 1515915625493266432), (11467, 1515915625486827776), (11468, 1515915625495036416), (11469, 1515915625495036160), (11470, 1515915625495033088), (11471, 1515915625495041536), (11472, 1515915625495047936), (11473, 1515915625495044608), (11474, 1515915625481994240), (11475, 1515915625474872832), (11476, 1515915625495008768), (11477, 1515915625452892928), (11478, 1515915625493996544), (11479, 1515915625485979392), (11480, 1515915625495052288), (11481, 1515915625495056896), (11482, 1515915625495059456), (11483, 1515915625494880256), (11484, 1515915625495031296), (11485, 1515915625495063808), (11486, 1515915625495057664), (11487, 1515915625495070720), (11488, 1515915625494504960), (11489, 1515915625495023616), (11490, 1515915625503881728), (11491, 1515915625494028288), (11492, 1515915625495063040), (11493, 1515915625493411072), (11494, 1515915625495077376), (11495, 1515915625493579776), (11496, 1515915625478190848), (11497, 1515915625494057216), (11498, 1515915625495084800), (11499, 1515915625447623936), (11500, 1515915625495082240), (11501, 1515915625472507136), (11502, 1515915625495032832), (11503, 1515915625511809792), (11504, 1515915625498330624), (11505, 1515915625465379840), (11506, 1515915625482049280), (11507, 1515915625443298304), (11508, 1515915625494439168), (11509, 1515915625448208640), (11510, 1515915625495077632), (11511, 1515915625495096064), (11512, 1515915625487463680), (11513, 1515915625495096320), (11514, 1515915625498742528), (11515, 1515915625498326272), (11516, 1515915625495068672), (11517, 1515915625495107584), (11518, 1515915625512322816), (11519, 1515915625495067904), (11520, 1515915625456449792), (11521, 1515915625479325696), (11522, 1515915625494898944), (11523, 1515915625466731008), (11524, 1515915625495106560), (11525, 1515915625495118592), (11526, 1515915625448187392), (11527, 1515915625495123456), (11528, 1515915625495119104), (11529, 1515915625486796288), (11530, 1515915625495129856), (11531, 1515915625494519040), (11532, 1515915625495255296), (11533, 1515915625495133184), (11534, 1515915625476257280), (11535, 1515915625493714944), (11536, 1515915625444848640), (11537, 1515915625495139072), (11538, 1515915625495145216), (11539, 1515915625495097088), (11540, 1515915625445883648), (11541, 1515915625499622400), (11542, 1515915625495165184), (11543, 1515915625476646656), (11544, 1515915625449201920), (11545, 1515915625450033152), (11546, 1515915625495164928), (11547, 1515915625495164160), (11548, 1515915625492791552), (11549, 1515915625445730304), (11550, 1515915625495176448), (11551, 1515915625495196672), (11552, 1515915625495086080), (11553, 1515915625495199232), (11554, 1515915625495200768), (11555, 1515915625495171072), (11556, 1515915625495214848), (11557, 1515915625495281152), (11558, 1515915625483949824), (11559, 1515915625441685760), (11560, 1515915625448306176), (11561, 1515915625486470912), (11562, 1515915625495263232), (11563, 1515915625495262976), (11564, 1515915625495268864), (11565, 1515915625495324416), (11566, 1515915625495270912), (11567, 1515915625467565312), (11568, 1515915625495275008), (11569, 1515915625492695808), (11570, 1515915625495531264), (11571, 1515915625465733888), (11572, 1515915625512677120), (11573, 1515915625498332160), (11574, 1515915625511230720), (11575, 1515915625495271680), (11576, 1515915625495098368), (11577, 1515915625495287040), (11578, 1515915625495287808), (11579, 1515915625495285760), (11580, 1515915625467147264), (11581, 1515915625495291392), (11582, 1515915625495280384), (11583, 1515915625495286528), (11584, 1515915625495293440), (11585, 1515915625495202048), (11586, 1515915625495297280), (11587, 1515915625495295232), (11588, 1515915625495294976), (11589, 1515915625450036224), (11590, 1515915625495299072), (11591, 1515915625495300864), (11592, 1515915625495302400), (11593, 1515915625495304192), (11594, 1515915625495279872), (11595, 1515915625495305216), (11596, 1515915625495292160), (11597, 1515915625498331648), (11598, 1515915625495310592), (11599, 1515915625495310336), (11600, 1515915625495303168), (11601, 1515915625495311360), (11602, 1515915625481542144), (11603, 1515915625492053760), (11604, 1515915625463767040), (11605, 1515915625495316736), (11606, 1515915625440990976), (11607, 1515915625495319296), (11608, 1515915625495318272), (11609, 1515915625495318528), (11610, 1515915625495097600), (11611, 1515915625446584576), (11612, 1515915625496252672), (11613, 1515915625499739648), (11614, 1515915625495321344), (11615, 1515915625494259968), (11616, 1515915625495125248), (11617, 1515915625495327744), (11618, 1515915625477347584), (11619, 1515915625442650624), (11620, 1515915625449812224), (11621, 1515915625505850624), (11622, 1515915625495341056), (11623, 1515915625441907456), (11624, 1515915625495341312), (11625, 1515915625495336960), (11626, 1515915625480885760), (11627, 1515915625495342848), (11628, 1515915625469993472), (11629, 1515915625495331584), (11630, 1515915625495344640), (11631, 1515915625495346944), (11632, 1515915625492898560), (11633, 1515915625495349760), (11634, 1515915625495348736), (11635, 1515915625495345408), (11636, 1515915625471830528), (11637, 1515915625495338496), (11638, 1515915625498331904), (11639, 1515915625495351040), (11640, 1515915625495355648), (11641, 1515915625499470592), (11642, 1515915625495357696), (11643, 1515915625495360768), (11644, 1515915625492927744), (11645, 1515915625495363840), (11646, 1515915625495359232), (11647, 1515915625495363072), (11648, 1515915625443143168), (11649, 1515915625495425792), (11650, 1515915625495353344), (11651, 1515915625495083520), (11652, 1515915625482526208), (11653, 1515915625495368960), (11654, 1515915625495373312), (11655, 1515915625495370496), (11656, 1515915625495363328), (11657, 1515915625441593088), (11658, 1515915625492267264), (11659, 1515915625443757568), (11660, 1515915625495381248), (11661, 1515915625495380992), (11662, 1515915625495380480), (11663, 1515915625498270720), (11664, 1515915625492012544), (11665, 1515915625444875776), (11666, 1515915625495474688), (11667, 1515915625476978944), (11668, 1515915625493855488), (11669, 1515915625494338304), (11670, 1515915625495595008), (11671, 1515915625495350272), (11672, 1515915625473920256), (11673, 1515915625460537600), (11674, 1515915625495404032), (11675, 1515915625495406336), (11676, 1515915625495412992), (11677, 1515915625495413504), (11678, 1515915625495421440), (11679, 1515915625494054912), (11680, 1515915625495419904), (11681, 1515915625484412672), (11682, 1515915625494832384), (11683, 1515915625477135872), (11684, 1515915625450602752), (11685, 1515915625440964608), (11686, 1515915625494072320), (11687, 1515915625485763328), (11688, 1515915625473719296), (11689, 1515915625495471360), (11690, 1515915625450031616), (11691, 1515915625495484672), (11692, 1515915625469975552), (11693, 1515915625495501312), (11694, 1515915625460248832), (11695, 1515915625493377792), (11696, 1515915625495515648), (11697, 1515915625495558144), (11698, 1515915625495583488), (11699, 1515915625495343616), (11700, 1515915625495587328), (11701, 1515915625495606528), (11702, 1515915625495555584), (11703, 1515915625495558400), (11704, 1515915625495560704), (11705, 1515915625449199104), (11706, 1515915625492769536), (11707, 1515915625495565056), (11708, 1515915625481938688), (11709, 1515915625495567616), (11710, 1515915625495568640), (11711, 1515915625467563264), (11712, 1515915625495570432), (11713, 1515915625495566848), (11714, 1515915625495871744), (11715, 1515915625495870976), (11716, 1515915625495572736), (11717, 1515915625495409920), (11718, 1515915625441653248), (11719, 1515915625492363520), (11720, 1515915625495576064), (11721, 1515915625480366336), (11722, 1515915625465587200), (11723, 1515915625463819264), (11724, 1515915625473520128), (11725, 1515915625495440128), (11726, 1515915625453796864), (11727, 1515915625495562240), (11728, 1515915625495583744), (11729, 1515915625446486016), (11730, 1515915625495584768), (11731, 1515915625495405312), (11732, 1515915625495585536), (11733, 1515915625481488384), (11734, 1515915625494810368), (11735, 1515915625495584256), (11736, 1515915625465563648), (11737, 1515915625495588352), (11738, 1515915625485675776), (11739, 1515915625470021632), (11740, 1515915625495596544), (11741, 1515915625495574016), (11742, 1515915625495592192), (11743, 1515915625469544704), (11744, 1515915625495648512), (11745, 1515915625495114752), (11746, 1515915625473330944), (11747, 1515915625495601408), (11748, 1515915625469422336), (11749, 1515915625495599616), (11750, 1515915625441916416), (11751, 1515915625495606272), (11752, 1515915625495603712), (11753, 1515915625495602176), (11754, 1515915625493324288), (11755, 1515915625495728640), (11756, 1515915625495612416), (11757, 1515915625481484544), (11758, 1515915625495611648), (11759, 1515915625495120896), (11760, 1515915625495615232), (11761, 1515915625494236416), (11762, 1515915625495604736), (11763, 1515915625486500864), (11764, 1515915625442112512), (11765, 1515915625495621120), (11766, 1515915625495619840), (11767, 1515915625495605760), (11768, 1515915625495581952), (11769, 1515915625495621888), (11770, 1515915625495623424), (11771, 1515915625495621632), (11772, 1515915625495626496), (11773, 1515915625493765888), (11774, 1515915625473253376), (11775, 1515915625495594240), (11776, 1515915625449143296), (11777, 1515915625495636224), (11778, 1515915625495575552), (11779, 1515915625498292480), (11780, 1515915625455939584), (11781, 1515915625495648000), (11782, 1515915625493874688), (11783, 1515915625495642368), (11784, 1515915625495650048), (11785, 1515915625495654656), (11786, 1515915625495655168), (11787, 1515915625498250240), (11788, 1515915625492332544), (11789, 1515915625495656960), (11790, 1515915625492411136), (11791, 1515915625495656192), (11792, 1515915625495664640), (11793, 1515915625443162880), (11794, 1515915625494493696), (11795, 1515915625495662848), (11796, 1515915625456706560), (11797, 1515915625495670016), (11798, 1515915625512665856), (11799, 1515915625495630080), (11800, 1515915625495657216), (11801, 1515915625495672832), (11802, 1515915625495667200), (11803, 1515915625495674880), (11804, 1515915625495673344), (11805, 1515915625495665408), (11806, 1515915625495693568), (11807, 1515915625495670784), (11808, 1515915625495664384), (11809, 1515915625472706304), (11810, 1515915625450012416), (11811, 1515915625486268928), (11812, 1515915625493911808), (11813, 1515915625495712256), (11814, 1515915625467757568), (11815, 1515915625462149120), (11816, 1515915625476860416), (11817, 1515915625493899008), (11818, 1515915625494326784), (11819, 1515915625451859200), (11820, 1515915625455206400), (11821, 1515915625494234880), (11822, 1515915625512115712), (11823, 1515915625486514432), (11824, 1515915625470290944), (11825, 1515915625495714816), (11826, 1515915625464166912), (11827, 1515915625470562560), (11828, 1515915625495738880), (11829, 1515915625448736768), (11830, 1515915625445711872), (11831, 1515915625480261120), (11832, 1515915625512044800), (11833, 1515915625455373056), (11834, 1515915625495611904), (11835, 1515915625495771648), (11836, 1515915625495772160), (11837, 1515915625469670912), (11838, 1515915625495784448), (11839, 1515915625496323328), (11840, 1515915625456445184), (11841, 1515915625493191168), (11842, 1515915625464389632), (11843, 1515915625466328064), (11844, 1515915625494031872), (11845, 1515915625453323776), (11846, 1515915625495718912), (11847, 1515915625495810048), (11848, 1515915625461699584), (11849, 1515915625492901120), (11850, 1515915625495814912), (11851, 1515915625496219904), (11852, 1515915625443265280), (11853, 1515915625495824128), (11854, 1515915625493609472), (11855, 1515915625486059776), (11856, 1515915625495720704), (11857, 1515915625495943936), (11858, 1515915625505834240), (11859, 1515915625495474432), (11860, 1515915625495956224), (11861, 1515915625495578624), (11862, 1515915625465250304), (11863, 1515915625467244544), (11864, 1515915625495900928), (11865, 1515915625495901696), (11866, 1515915625495902208), (11867, 1515915625495787008), (11868, 1515915625492619520), (11869, 1515915625495904000), (11870, 1515915625495901952), (11871, 1515915625495906816), (11872, 1515915625495905280), (11873, 1515915625495646208), (11874, 1515915625495812864), (11875, 1515915625495911936), (11876, 1515915625511328000), (11877, 1515915625495915520), (11878, 1515915625495892736), (11879, 1515915625495422208), (11880, 1515915625495913472), (11881, 1515915625443544832), (11882, 1515915625496015360), (11883, 1515915625495895552), (11884, 1515915625495920640), (11885, 1515915625495921408), (11886, 1515915625495674112), (11887, 1515915625495915776), (11888, 1515915625495922176), (11889, 1515915625495417088), (11890, 1515915625495923712), (11891, 1515915625495920128), (11892, 1515915625478126848), (11893, 1515915625458544384), (11894, 1515915625496199680), (11895, 1515915625492873472), (11896, 1515915625495927296), (11897, 1515915625495932160), (11898, 1515915625494752768), (11899, 1515915625495928064), (11900, 1515915625496198656), (11901, 1515915625495937536), (11902, 1515915625495917056), (11903, 1515915625495939840), (11904, 1515915625495945216), (11905, 1515915625459008256), (11906, 1515915625495875584), (11907, 1515915625495950336), (11908, 1515915625495949312), (11909, 1515915625481903616), (11910, 1515915625493038592), (11911, 1515915625485526528), (11912, 1515915625495961600), (11913, 1515915625462591488), (11914, 1515915625495954944), (11915, 1515915625495810560), (11916, 1515915625495970048), (11917, 1515915625494759936), (11918, 1515915625441265152), (11919, 1515915625495972608), (11920, 1515915625496041728), (11921, 1515915625496067072), (11922, 1515915625495978496), (11923, 1515915625495971840), (11924, 1515915625443831296), (11925, 1515915625495985152), (11926, 1515915625495897856), (11927, 1515915625495991808), (11928, 1515915625495971072), (11929, 1515915625444147712), (11930, 1515915625481022720), (11931, 1515915625486174208), (11932, 1515915625495906560), (11933, 1515915625481641216), (11934, 1515915625496001024), (11935, 1515915625496000512), (11936, 1515915625499340800), (11937, 1515915625463826688), (11938, 1515915625494115584), (11939, 1515915625482704640), (11940, 1515915625446130688), (11941, 1515915625496014336), (11942, 1515915625495910144), (11943, 1515915625496013824), (11944, 1515915625446180864), (11945, 1515915625495193856), (11946, 1515915625506726144), (11947, 1515915625493139968), (11948, 1515915625496031744), (11949, 1515915625496035840), (11950, 1515915625482135040), (11951, 1515915625455796224), (11952, 1515915625495938560), (11953, 1515915625496040448), (11954, 1515915625496049152), (11955, 1515915625496052480), (11956, 1515915625449794816), (11957, 1515915625496064512), (11958, 1515915625486079232), (11959, 1515915625494105856), (11960, 1515915625494419456), (11961, 1515915625467406592), (11962, 1515915625496075520), (11963, 1515915625493380096), (11964, 1515915625458654208), (11965, 1515915625481760256), (11966, 1515915625496082944), (11967, 1515915625496003840), (11968, 1515915625496083456), (11969, 1515915625495847936), (11970, 1515915625483988224), (11971, 1515915625496188416), (11972, 1515915625496107264), (11973, 1515915625495245568), (11974, 1515915625496113920), (11975, 1515915625495386368), (11976, 1515915625496130304), (11977, 1515915625496035072), (11978, 1515915625496138240), (11979, 1515915625445677312), (11980, 1515915625493079296), (11981, 1515915625496158976), (11982, 1515915625485012224), (11983, 1515915625484098560), (11984, 1515915625481249536), (11985, 1515915625495894784), (11986, 1515915625498317824), (11987, 1515915625469225472), (11988, 1515915625442370048), (11989, 1515915625492717568), (11990, 1515915625496030464), (11991, 1515915625466490112), (11992, 1515915625494775296), (11993, 1515915625498241024), (11994, 1515915625496535296), (11995, 1515915625495369472), (11996, 1515915625463719168), (11997, 1515915625496236544), (11998, 1515915625496238080), (11999, 1515915625496242176), (12000, 1515915625496243200), (12001, 1515915625443301120), (12002, 1515915625499174144), (12003, 1515915625496244480), (12004, 1515915625496249344), (12005, 1515915625496246016), (12006, 1515915625496248576), (12007, 1515915625477667584), (12008, 1515915625496247296), (12009, 1515915625496224768), (12010, 1515915625496249600), (12011, 1515915625496265984), (12012, 1515915625496269568), (12013, 1515915625496264192), (12014, 1515915625496269312), (12015, 1515915625480489472), (12016, 1515915625461557248), (12017, 1515915625459678208), (12018, 1515915625496262656), (12019, 1515915625511735040), (12020, 1515915625495815168), (12021, 1515915625496235520), (12022, 1515915625496279040), (12023, 1515915625442262784), (12024, 1515915625496283648), (12025, 1515915625496242432), (12026, 1515915625496264448), (12027, 1515915625493061376), (12028, 1515915625496257280), (12029, 1515915625496272128), (12030, 1515915625496253696), (12031, 1515915625481443072), (12032, 1515915625496290304), (12033, 1515915625495940608), (12034, 1515915625496291840), (12035, 1515915625496290560), (12036, 1515915625496297216), (12037, 1515915625462893312), (12038, 1515915625496306176), (12039, 1515915625495637760), (12040, 1515915625455252224), (12041, 1515915625496300032), (12042, 1515915625498264064), (12043, 1515915625469489920), (12044, 1515915625495493632), (12045, 1515915625446751232), (12046, 1515915625482552320), (12047, 1515915625496314624), (12048, 1515915625496321024), (12049, 1515915625496300288), (12050, 1515915625496326400), (12051, 1515915625496698624), (12052, 1515915625443052288), (12053, 1515915625496328704), (12054, 1515915625496327168), (12055, 1515915625496018176), (12056, 1515915625443931648), (12057, 1515915625496336640), (12058, 1515915625446580736), (12059, 1515915625496329728), (12060, 1515915625457485824), (12061, 1515915625496349696), (12062, 1515915625496347136), (12063, 1515915625495634688), (12064, 1515915625469010432), (12065, 1515915625496352256), (12066, 1515915625511789568), (12067, 1515915625461704704), (12068, 1515915625496356352), (12069, 1515915625495656448), (12070, 1515915625496306432), (12071, 1515915625444144896), (12072, 1515915625496361216), (12073, 1515915625496359168), (12074, 1515915625492207872), (12075, 1515915625513160960), (12076, 1515915625496349440), (12077, 1515915625495909120), (12078, 1515915625496375552), (12079, 1515915625498223360), (12080, 1515915625494981888), (12081, 1515915625496369664), (12082, 1515915625496371456), (12083, 1515915625485842688), (12084, 1515915625496389632), (12085, 1515915625495557120), (12086, 1515915625496356864), (12087, 1515915625480221184), (12088, 1515915625496389120), (12089, 1515915625465421824), (12090, 1515915625496378880), (12091, 1515915625496402688), (12092, 1515915625485575936), (12093, 1515915625496256256), (12094, 1515915625496398592), (12095, 1515915625496128768), (12096, 1515915625482159360), (12097, 1515915625496404992), (12098, 1515915625484520960), (12099, 1515915625461614848), (12100, 1515915625464815872), (12101, 1515915625496412160), (12102, 1515915625450202624), (12103, 1515915625481332992), (12104, 1515915625486670592), (12105, 1515915625496411392), (12106, 1515915625455565568), (12107, 1515915625496449536), (12108, 1515915625481765632), (12109, 1515915625496425472), (12110, 1515915625483037696), (12111, 1515915625446016512), (12112, 1515915625514069504), (12113, 1515915625496257024), (12114, 1515915625496474368), (12115, 1515915625496472576), (12116, 1515915625496380416), (12117, 1515915625496465152), (12118, 1515915625445004544), (12119, 1515915625496500224), (12120, 1515915625457203968), (12121, 1515915625496357120), (12122, 1515915625496531712), (12123, 1515915625479624704), (12124, 1515915625472641024), (12125, 1515915625496554752), (12126, 1515915625496552960), (12127, 1515915625493417984), (12128, 1515915625495405056), (12129, 1515915625496560640), (12130, 1515915625496566528), (12131, 1515915625496559872), (12132, 1515915625449306880), (12133, 1515915625496558080), (12134, 1515915625496570368), (12135, 1515915625463512576), (12136, 1515915625496574208), (12137, 1515915625496565504), (12138, 1515915625451642880), (12139, 1515915625457156096), (12140, 1515915625496578560), (12141, 1515915625496578816), (12142, 1515915625441334272), (12143, 1515915625472825088), (12144, 1515915625496845312), (12145, 1515915625496590848), (12146, 1515915625496591616), (12147, 1515915625498931712), (12148, 1515915625496576000), (12149, 1515915625496580864), (12150, 1515915625496566784), (12151, 1515915625496844544), (12152, 1515915625494748160), (12153, 1515915625496585216), (12154, 1515915625495953664), (12155, 1515915625449029376), (12156, 1515915625496587008), (12157, 1515915625492892416), (12158, 1515915625485765376), (12159, 1515915625497503744), (12160, 1515915625496658432), (12161, 1515915625484457728), (12162, 1515915625496670464), (12163, 1515915625496652544), (12164, 1515915625465608192), (12165, 1515915625496417792), (12166, 1515915625486336000), (12167, 1515915625496664832), (12168, 1515915625496649728), (12169, 1515915625496677632), (12170, 1515915625482227712), (12171, 1515915625473889536), (12172, 1515915625483330816), (12173, 1515915625495802880), (12174, 1515915625496594944), (12175, 1515915625467208960), (12176, 1515915625496624128), (12177, 1515915625496727296), (12178, 1515915625450813952), (12179, 1515915625496609024), (12180, 1515915625496738816), (12181, 1515915625496421120), (12182, 1515915625450177024), (12183, 1515915625496688640), (12184, 1515915625496713216), (12185, 1515915625496117504), (12186, 1515915625485454080), (12187, 1515915625496724736), (12188, 1515915625476480768), (12189, 1515915625495201792), (12190, 1515915625496763904), (12191, 1515915625496768256), (12192, 1515915625496634880), (12193, 1515915625496765696), (12194, 1515915625496222976), (12195, 1515915625455064320), (12196, 1515915625496465408), (12197, 1515915625496763392), (12198, 1515915625496777472), (12199, 1515915625496785408), (12200, 1515915625498261504), (12201, 1515915625496669184), (12202, 1515915625496762880), (12203, 1515915625452575488), (12204, 1515915625496801792), (12205, 1515915625496807168), (12206, 1515915625496812800), (12207, 1515915625495878912), (12208, 1515915625496827904), (12209, 1515915625492635136), (12210, 1515915625493822464), (12211, 1515915625496871936), (12212, 1515915625496872448), (12213, 1515915625466090240), (12214, 1515915625497205248), (12215, 1515915625496600320), (12216, 1515915625496794112), (12217, 1515915625446526464), (12218, 1515915625496882176), (12219, 1515915625442967808), (12220, 1515915625496521728), (12221, 1515915625496282368), (12222, 1515915625442061568), (12223, 1515915625496569856), (12224, 1515915625496393472), (12225, 1515915625441421312), (12226, 1515915625496893440), (12227, 1515915625496901888), (12228, 1515915625496903936), (12229, 1515915625496763648), (12230, 1515915625496907008), (12231, 1515915625446671104), (12232, 1515915625482753536), (12233, 1515915625464736512), (12234, 1515915625496915456), (12235, 1515915625496917248), (12236, 1515915625496918272), (12237, 1515915625448925952), (12238, 1515915625496921088), (12239, 1515915625496918784), (12240, 1515915625496923648), (12241, 1515915625496924160), (12242, 1515915625444043264), (12243, 1515915625496933376), (12244, 1515915625496788736), (12245, 1515915625496937984), (12246, 1515915625496941568), (12247, 1515915625496942848), (12248, 1515915625496941056), (12249, 1515915625496891392), (12250, 1515915625498659584), (12251, 1515915625497709056), (12252, 1515915625448057088), (12253, 1515915625496944384), (12254, 1515915625464908800), (12255, 1515915625494861312), (12256, 1515915625479863808), (12257, 1515915625451626752), (12258, 1515915625496955648), (12259, 1515915625469815040), (12260, 1515915625466132224), (12261, 1515915625496967168), (12262, 1515915625469206016), (12263, 1515915625496949248), (12264, 1515915625512331520), (12265, 1515915625496787968), (12266, 1515915625496954368), (12267, 1515915625449949440), (12268, 1515915625483728640), (12269, 1515915625496828160), (12270, 1515915625496888832), (12271, 1515915625496999936), (12272, 1515915625496993536), (12273, 1515915625444354560), (12274, 1515915625497011200), (12275, 1515915625444541952), (12276, 1515915625476510208), (12277, 1515915625496988928), (12278, 1515915625498310144), (12279, 1515915625472524800), (12280, 1515915625473489408), (12281, 1515915625469280256), (12282, 1515915625498780928), (12283, 1515915625497026816), (12284, 1515915625496692992), (12285, 1515915625496875776), (12286, 1515915625497235200), (12287, 1515915625503771392), (12288, 1515915625497487104), (12289, 1515915625497243648), (12290, 1515915625497251840), (12291, 1515915625497236480), (12292, 1515915625497249024), (12293, 1515915625512667648), (12294, 1515915625497238272), (12295, 1515915625454957056), (12296, 1515915625497237504), (12297, 1515915625497181696), (12298, 1515915625461205504), (12299, 1515915625497256704), (12300, 1515915625497252864), (12301, 1515915625497254400), (12302, 1515915625497255680), (12303, 1515915625494778880), (12304, 1515915625476072448), (12305, 1515915625471080704), (12306, 1515915625497261056), (12307, 1515915625497260032), (12308, 1515915625497259520), (12309, 1515915625497059072), (12310, 1515915625475831552), (12311, 1515915625496676608), (12312, 1515915625497263360), (12313, 1515915625497264384), (12314, 1515915625497071360), (12315, 1515915625451511040), (12316, 1515915625465310976), (12317, 1515915625497096448), (12318, 1515915625497275392), (12319, 1515915625441734912), (12320, 1515915625497260800), (12321, 1515915625497278976), (12322, 1515915625500185344), (12323, 1515915625497284352), (12324, 1515915625459641600), (12325, 1515915625496929024), (12326, 1515915625497286400), (12327, 1515915625497732352), (12328, 1515915625496097024), (12329, 1515915625496543232), (12330, 1515915625497290752), (12331, 1515915625442587904), (12332, 1515915625496936192), (12333, 1515915625497486336), (12334, 1515915625451211264), (12335, 1515915625445510656), (12336, 1515915625493377280), (12337, 1515915625497299712), (12338, 1515915625497301248), (12339, 1515915625451914752), (12340, 1515915625497069824), (12341, 1515915625495834880), (12342, 1515915625497304320), (12343, 1515915625497280256), (12344, 1515915625497306112), (12345, 1515915625497310464), (12346, 1515915625496999168), (12347, 1515915625512040192), (12348, 1515915625497312768), (12349, 1515915625498289408), (12350, 1515915625497314048), (12351, 1515915625497313792), (12352, 1515915625449411328), (12353, 1515915625512666880), (12354, 1515915625484945408), (12355, 1515915625494433792), (12356, 1515915625497321984), (12357, 1515915625497294592), (12358, 1515915625498225152), (12359, 1515915625497317888), (12360, 1515915625497327616), (12361, 1515915625475993600), (12362, 1515915625497408768), (12363, 1515915625497323008), (12364, 1515915625497332736), (12365, 1515915625497342208), (12366, 1515915625497330688), (12367, 1515915625497325312), (12368, 1515915625448002048), (12369, 1515915625443945216), (12370, 1515915625471182592), (12371, 1515915625497149696), (12372, 1515915625494059776), (12373, 1515915625466073600), (12374, 1515915625497340672), (12375, 1515915625497338112), (12376, 1515915625497267968), (12377, 1515915625497343744), (12378, 1515915625464716544), (12379, 1515915625497353216), (12380, 1515915625443168512), (12381, 1515915625497292800), (12382, 1515915625441327104), (12383, 1515915625497354240), (12384, 1515915625497060608), (12385, 1515915625471560192), (12386, 1515915625455582720), (12387, 1515915625497249536), (12388, 1515915625446513920), (12389, 1515915625497376512), (12390, 1515915625497957632), (12391, 1515915625495519744), (12392, 1515915625496298752), (12393, 1515915625497372672), (12394, 1515915625469989120), (12395, 1515915625476211456), (12396, 1515915625497388800), (12397, 1515915625497387264), (12398, 1515915625446013184), (12399, 1515915625497362688), (12400, 1515915625475037440), (12401, 1515915625505807872), (12402, 1515915625497400320), (12403, 1515915625483970816), (12404, 1515915625486657024), (12405, 1515915625498242304), (12406, 1515915625497415168), (12407, 1515915625494447616), (12408, 1515915625443201280), (12409, 1515915625496137984), (12410, 1515915625497417472), (12411, 1515915625497419264), (12412, 1515915625497423872), (12413, 1515915625496320768), (12414, 1515915625496217088), (12415, 1515915625497170176), (12416, 1515915625497453056), (12417, 1515915625497180672), (12418, 1515915625484493568), (12419, 1515915625496541440), (12420, 1515915625498200320), (12421, 1515915625497440512), (12422, 1515915625497562368), (12423, 1515915625513725952), (12424, 1515915625497564928), (12425, 1515915625497506816), (12426, 1515915625497782016), (12427, 1515915625498319360), (12428, 1515915625497514240), (12429, 1515915625470859776), (12430, 1515915625497585408), (12431, 1515915625493652480), (12432, 1515915625496554240), (12433, 1515915625499597824), (12434, 1515915625480064768), (12435, 1515915625497340928), (12436, 1515915625468340224), (12437, 1515915625512855296), (12438, 1515915625497523200), (12439, 1515915625497398016), (12440, 1515915625498648320), (12441, 1515915625493921024), (12442, 1515915625483685120), (12443, 1515915625466899200), (12444, 1515915625497534720), (12445, 1515915625444712448), (12446, 1515915625445655296), (12447, 1515915625497536256), (12448, 1515915625497538560), (12449, 1515915625497783296), (12450, 1515915625497511168), (12451, 1515915625497540864), (12452, 1515915625497545216), (12453, 1515915625497546496), (12454, 1515915625497547776), (12455, 1515915625497547264), (12456, 1515915625479853568), (12457, 1515915625497545984), (12458, 1515915625459770624), (12459, 1515915625497559296), (12460, 1515915625475434496), (12461, 1515915625497561600), (12462, 1515915625497123840), (12463, 1515915625462032896), (12464, 1515915625497558016), (12465, 1515915625449533440), (12466, 1515915625497564672), (12467, 1515915625495930368), (12468, 1515915625446714112), (12469, 1515915625497565696), (12470, 1515915625454021376), (12471, 1515915625497565440), (12472, 1515915625497448448), (12473, 1515915625441911296), (12474, 1515915625441052416), (12475, 1515915625497528064), (12476, 1515915625454498048), (12477, 1515915625497399552), (12478, 1515915625497607168), (12479, 1515915625442521344), (12480, 1515915625512662016), (12481, 1515915625493596160), (12482, 1515915625462635008), (12483, 1515915625497582080), (12484, 1515915625480793856), (12485, 1515915625497582592), (12486, 1515915625485507584), (12487, 1515915625496157952), (12488, 1515915625483377664), (12489, 1515915625497592576), (12490, 1515915625497594112), (12491, 1515915625497596160), (12492, 1515915625497377024), (12493, 1515915625497587456), (12494, 1515915625497597440), (12495, 1515915625497600768), (12496, 1515915625497592832), (12497, 1515915625497581568), (12498, 1515915625451487488), (12499, 1515915625497594624), (12500, 1515915625497605376), (12501, 1515915625479264256), (12502, 1515915625483161088), (12503, 1515915625497603840), (12504, 1515915625497272576), (12505, 1515915625470588672), (12506, 1515915625462651648), (12507, 1515915625497579008), (12508, 1515915625466341120), (12509, 1515915625497608448), (12510, 1515915625497609216), (12511, 1515915625466730496), (12512, 1515915625494773248), (12513, 1515915625480296960), (12514, 1515915625462071296), (12515, 1515915625497575424), (12516, 1515915625497511936), (12517, 1515915625497601792), (12518, 1515915625497629952), (12519, 1515915625497632768), (12520, 1515915625497639168), (12521, 1515915625446486272), (12522, 1515915625482339072), (12523, 1515915625497653248), (12524, 1515915625494484480), (12525, 1515915625498345984), (12526, 1515915625497654528), (12527, 1515915625449902848), (12528, 1515915625497664000), (12529, 1515915625497660928), (12530, 1515915625512741120), (12531, 1515915625497670144), (12532, 1515915625443256832), (12533, 1515915625497574656), (12534, 1515915625444787968), (12535, 1515915625496978944), (12536, 1515915625479453184), (12537, 1515915625472151296), (12538, 1515915625454338560), (12539, 1515915625468814592), (12540, 1515915625453020416), (12541, 1515915625497702912), (12542, 1515915625497705472), (12543, 1515915625484271360), (12544, 1515915625497705728), (12545, 1515915625452823296), (12546, 1515915625449487360), (12547, 1515915625486796544), (12548, 1515915625458697984), (12549, 1515915625497726208), (12550, 1515915625497718528), (12551, 1515915625497326080), (12552, 1515915625478767872), (12553, 1515915625497457920), (12554, 1515915625486744832), (12555, 1515915625497757952), (12556, 1515915625498931456), (12557, 1515915625497773824), (12558, 1515915625497821952), (12559, 1515915625497778432), (12560, 1515915625497798400), (12561, 1515915625497283840), (12562, 1515915625497865472), (12563, 1515915625443984384), (12564, 1515915625496668416), (12565, 1515915625446035712), (12566, 1515915625492360960), (12567, 1515915625497810176), (12568, 1515915625496632064), (12569, 1515915625497645312), (12570, 1515915625497814016), (12571, 1515915625497814528), (12572, 1515915625497812736), (12573, 1515915625497813248), (12574, 1515915625497804800), (12575, 1515915625497805312), (12576, 1515915625496565248), (12577, 1515915625493336064), (12578, 1515915625497824256), (12579, 1515915625497824512), (12580, 1515915625496431616), (12581, 1515915625498355712), (12582, 1515915625474839808), (12583, 1515915625476347648), (12584, 1515915625497831680), (12585, 1515915625497825536), (12586, 1515915625497828608), (12587, 1515915625497812480), (12588, 1515915625496669696), (12589, 1515915625513722880), (12590, 1515915625495012864), (12591, 1515915625497838592), (12592, 1515915625497836800), (12593, 1515915625497617152), (12594, 1515915625498138368), (12595, 1515915625497844224), (12596, 1515915625496562944), (12597, 1515915625497843968), (12598, 1515915625464079360), (12599, 1515915625497802240), (12600, 1515915625497836032), (12601, 1515915625476482304), (12602, 1515915625497848064), (12603, 1515915625498168320), (12604, 1515915625497858560), (12605, 1515915625497856256), (12606, 1515915625492673024), (12607, 1515915625469022976), (12608, 1515915625451526400), (12609, 1515915625462658304), (12610, 1515915625497849600), (12611, 1515915625483149056), (12612, 1515915625511923968), (12613, 1515915625497861120), (12614, 1515915625497864960), (12615, 1515915625485646592), (12616, 1515915625498212352), (12617, 1515915625485669376), (12618, 1515915625497875968), (12619, 1515915625497875712), (12620, 1515915625494452224), (12621, 1515915625497777664), (12622, 1515915625496937472), (12623, 1515915625493914112), (12624, 1515915625442433792), (12625, 1515915625497831424), (12626, 1515915625441294592), (12627, 1515915625462064896), (12628, 1515915625497879808), (12629, 1515915625497846528), (12630, 1515915625475143936), (12631, 1515915625497885440), (12632, 1515915625497832704), (12633, 1515915625480739072), (12634, 1515915625497876224), (12635, 1515915625497811456), (12636, 1515915625497867520), (12637, 1515915625497824768), (12638, 1515915625497891328), (12639, 1515915625510850304), (12640, 1515915625497857792), (12641, 1515915625497893376), (12642, 1515915625497898752), (12643, 1515915625497813760), (12644, 1515915625497843456), (12645, 1515915625497879296), (12646, 1515915625497902848), (12647, 1515915625443057664), (12648, 1515915625497901824), (12649, 1515915625497887488), (12650, 1515915625474033152), (12651, 1515915625474301440), (12652, 1515915625497908992), (12653, 1515915625497888000), (12654, 1515915625496638720), (12655, 1515915625479212544), (12656, 1515915625449289472), (12657, 1515915625486064640), (12658, 1515915625497922304), (12659, 1515915625497921792), (12660, 1515915625497920512), (12661, 1515915625497914368), (12662, 1515915625497677056), (12663, 1515915625458053376), (12664, 1515915625497932800), (12665, 1515915625497799424), (12666, 1515915625497941248), (12667, 1515915625462321920), (12668, 1515915625497146880), (12669, 1515915625497945600), (12670, 1515915625497941504), (12671, 1515915625497806336), (12672, 1515915625497937152), (12673, 1515915625497554176), (12674, 1515915625497955584), (12675, 1515915625497892608), (12676, 1515915625497953024), (12677, 1515915625441068800), (12678, 1515915625497855744), (12679, 1515915625497967616), (12680, 1515915625497968896), (12681, 1515915625464551936), (12682, 1515915625497872640), (12683, 1515915625497960704), (12684, 1515915625485187840), (12685, 1515915625497978112), (12686, 1515915625497975808), (12687, 1515915625496968448), (12688, 1515915625497982464), (12689, 1515915625496718336), (12690, 1515915625497988608), (12691, 1515915625480952576), (12692, 1515915625497988864), (12693, 1515915625453272064), (12694, 1515915625497916416), (12695, 1515915625497980416), (12696, 1515915625471826688), (12697, 1515915625497995008), (12698, 1515915625472142336), (12699, 1515915625497973760), (12700, 1515915625497976832), (12701, 1515915625497890304), (12702, 1515915625498001920), (12703, 1515915625497753344), (12704, 1515915625498000384), (12705, 1515915625482438912), (12706, 1515915625495719680), (12707, 1515915625497928704), (12708, 1515915625498003200), (12709, 1515915625497854720), (12710, 1515915625497996800), (12711, 1515915625452786944), (12712, 1515915625498202624), (12713, 1515915625498022144), (12714, 1515915625497491968), (12715, 1515915625442159360), (12716, 1515915625498584064), (12717, 1515915625477680896), (12718, 1515915625498016256), (12719, 1515915625497869312), (12720, 1515915625462510848), (12721, 1515915625498036992), (12722, 1515915625498033152), (12723, 1515915625498413824), (12724, 1515915625498052096), (12725, 1515915625494839296), (12726, 1515915625498043904), (12727, 1515915625498048256), (12728, 1515915625455044096), (12729, 1515915625498055936), (12730, 1515915625498541312), (12731, 1515915625495548928), (12732, 1515915625505844224), (12733, 1515915625497952768), (12734, 1515915625498353152), (12735, 1515915625496782848), (12736, 1515915625498128128), (12737, 1515915625498262784), (12738, 1515915625492799232), (12739, 1515915625442983424), (12740, 1515915625498129408), (12741, 1515915625485587712), (12742, 1515915625480694272), (12743, 1515915625498128640), (12744, 1515915625498128896), (12745, 1515915625479158016), (12746, 1515915625442520576), (12747, 1515915625498134784), (12748, 1515915625512584448), (12749, 1515915625497856512), (12750, 1515915625498134528), (12751, 1515915625498135808), (12752, 1515915625498139648), (12753, 1515915625498138880), (12754, 1515915625498141184), (12755, 1515915625498656512), (12756, 1515915625459264256), (12757, 1515915625498145024), (12758, 1515915625498144512), (12759, 1515915625498142720), (12760, 1515915625498147840), (12761, 1515915625498144000), (12762, 1515915625514022400), (12763, 1515915625498150912), (12764, 1515915625505248512), (12765, 1515915625498151424), (12766, 1515915625498153984), (12767, 1515915625498347520), (12768, 1515915625498153728), (12769, 1515915625497915392), (12770, 1515915625498229504), (12771, 1515915625498258688), (12772, 1515915625498133760), (12773, 1515915625498159872), (12774, 1515915625448197120), (12775, 1515915625475919616), (12776, 1515915625498161408), (12777, 1515915625497818880), (12778, 1515915625494616064), (12779, 1515915625498174976), (12780, 1515915625497010688), (12781, 1515915625498168832), (12782, 1515915625498170624), (12783, 1515915625498159616), (12784, 1515915625498306560), (12785, 1515915625498318336), (12786, 1515915625498325504), (12787, 1515915625498278144), (12788, 1515915625498343680), (12789, 1515915625498271744), (12790, 1515915625498336512), (12791, 1515915625475045120), (12792, 1515915625498205440), (12793, 1515915625498215936), (12794, 1515915625498258944), (12795, 1515915625498137600), (12796, 1515915625497805568), (12797, 1515915625498366464), (12798, 1515915625498298368), (12799, 1515915625498364672), (12800, 1515915625498373632), (12801, 1515915625498373888), (12802, 1515915625498184960), (12803, 1515915625498369024), (12804, 1515915625498246656), (12805, 1515915625483483392), (12806, 1515915625498268672), (12807, 1515915625482422016), (12808, 1515915625498187008), (12809, 1515915625458474496), (12810, 1515915625495441408), (12811, 1515915625498320128), (12812, 1515915625498325248), (12813, 1515915625498376704), (12814, 1515915625511299328), (12815, 1515915625498163968), (12816, 1515915625498379008), (12817, 1515915625498383616), (12818, 1515915625498372608), (12819, 1515915625451435008), (12820, 1515915625498188800), (12821, 1515915625498171392), (12822, 1515915625498380032), (12823, 1515915625498276864), (12824, 1515915625498381568), (12825, 1515915625498253824), (12826, 1515915625498211328), (12827, 1515915625498375680), (12828, 1515915625498274304), (12829, 1515915625498370560), (12830, 1515915625498288384), (12831, 1515915625498304256), (12832, 1515915625498398976), (12833, 1515915625498398464), (12834, 1515915625498401792), (12835, 1515915625498141440), (12836, 1515915625498377728), (12837, 1515915625498274560), (12838, 1515915625498175744), (12839, 1515915625498287360), (12840, 1515915625446609664), (12841, 1515915625471071488), (12842, 1515915625498408192), (12843, 1515915625449375232), (12844, 1515915625498392064), (12845, 1515915625498408960), (12846, 1515915625482518272), (12847, 1515915625499827456), (12848, 1515915625498203648), (12849, 1515915625498407680), (12850, 1515915625498265856), (12851, 1515915625496660992), (12852, 1515915625498239232), (12853, 1515915625498324480), (12854, 1515915625498316032), (12855, 1515915625492654080), (12856, 1515915625498421248), (12857, 1515915625498019328), (12858, 1515915625498422528), (12859, 1515915625498412544), (12860, 1515915625498424576), (12861, 1515915625498224896), (12862, 1515915625498429696), (12863, 1515915625457967360), (12864, 1515915625449866752), (12865, 1515915625498432512), (12866, 1515915625498426624), (12867, 1515915625478180864), (12868, 1515915625498429440), (12869, 1515915625441309184), (12870, 1515915625446932992), (12871, 1515915625485101824), (12872, 1515915625451479296), (12873, 1515915625498213376), (12874, 1515915625498328064), (12875, 1515915625498276352), (12876, 1515915625498266368), (12877, 1515915625498476288), (12878, 1515915625498272512), (12879, 1515915625498483456), (12880, 1515915625498226944), (12881, 1515915625498220032), (12882, 1515915625498169600), (12883, 1515915625463257600), (12884, 1515915625498260736), (12885, 1515915625498312960), (12886, 1515915625467350272), (12887, 1515915625498465024), (12888, 1515915625498460672), (12889, 1515915625498522112), (12890, 1515915625498331392), (12891, 1515915625498362880), (12892, 1515915625458668800), (12893, 1515915625498525952), (12894, 1515915625498525696), (12895, 1515915625456886528), (12896, 1515915625498524672), (12897, 1515915625450902272), (12898, 1515915625498187520), (12899, 1515915625498531072), (12900, 1515915625498487552), (12901, 1515915625498493696), (12902, 1515915625484438272), (12903, 1515915625498533632), (12904, 1515915625498537984), (12905, 1515915625440960000), (12906, 1515915625443965440), (12907, 1515915625498527232), (12908, 1515915625498473472), (12909, 1515915625497829888), (12910, 1515915625481392128), (12911, 1515915625498549760), (12912, 1515915625498538752), (12913, 1515915625498519040), (12914, 1515915625474618624), (12915, 1515915625441128192), (12916, 1515915625442261248), (12917, 1515915625496259072), (12918, 1515915625451781376), (12919, 1515915625498573056), (12920, 1515915625497702656), (12921, 1515915625498569984), (12922, 1515915625498560000), (12923, 1515915625441600256), (12924, 1515915625475334400), (12925, 1515915625498580992), (12926, 1515915625498564352), (12927, 1515915625498466048), (12928, 1515915625495338240), (12929, 1515915625498309632), (12930, 1515915625498236928), (12931, 1515915625474873088), (12932, 1515915625498444288), (12933, 1515915625498242048), (12934, 1515915625441312768), (12935, 1515915625498643968), (12936, 1515915625498640896), (12937, 1515915625498221056), (12938, 1515915625498460160), (12939, 1515915625498643456), (12940, 1515915625482599168), (12941, 1515915625498739200), (12942, 1515915625451281408), (12943, 1515915625498648576), (12944, 1515915625498472704), (12945, 1515915625498651648), (12946, 1515915625441002752), (12947, 1515915625498447104), (12948, 1515915625466993664), (12949, 1515915625498647040), (12950, 1515915625498020352), (12951, 1515915625496296960), (12952, 1515915625498653952), (12953, 1515915625492916480), (12954, 1515915625498233344), (12955, 1515915625498643712), (12956, 1515915625498285312), (12957, 1515915625493745920), (12958, 1515915625458548480), (12959, 1515915625498657792), (12960, 1515915625498466304), (12961, 1515915625475798784), (12962, 1515915625498281728), (12963, 1515915625498657024), (12964, 1515915625498226176), (12965, 1515915625497695488), (12966, 1515915625498278400), (12967, 1515915625498684160), (12968, 1515915625498660608), (12969, 1515915625498662656), (12970, 1515915625474024704), (12971, 1515915625498290944), (12972, 1515915625498663680), (12973, 1515915625496943360), (12974, 1515915625451344384), (12975, 1515915625498668032), (12976, 1515915625498669568), (12977, 1515915625498341888), (12978, 1515915625462368512), (12979, 1515915625498642688), (12980, 1515915625498671104), (12981, 1515915625498671360), (12982, 1515915625498672128), (12983, 1515915625498930688), (12984, 1515915625450939648), (12985, 1515915625495722240), (12986, 1515915625498243840), (12987, 1515915625498667264), (12988, 1515915625498218240), (12989, 1515915625498280960), (12990, 1515915625498681856), (12991, 1515915625498682112), (12992, 1515915625498244096), (12993, 1515915625441873408), (12994, 1515915625449846272), (12995, 1515915625498199808), (12996, 1515915625482684160), (12997, 1515915625498683136), (12998, 1515915625498686208), (12999, 1515915625496991232), (13000, 1515915625498301696), (13001, 1515915625498338304), (13002, 1515915625498688512), (13003, 1515915625498431232), (13004, 1515915625498692864), (13005, 1515915625498691328), (13006, 1515915625496320512), (13007, 1515915625499246336), (13008, 1515915625469214976), (13009, 1515915625498677504), (13010, 1515915625498009856), (13011, 1515915625498684672), (13012, 1515915625468960512), (13013, 1515915625498268928), (13014, 1515915625477630208), (13015, 1515915625498662912), (13016, 1515915625498705664), (13017, 1515915625492577024), (13018, 1515915625462689024), (13019, 1515915625498753024), (13020, 1515915625498357248), (13021, 1515915625473936640), (13022, 1515915625498694656), (13023, 1515915625442085888), (13024, 1515915625498710016), (13025, 1515915625498712576), (13026, 1515915625498713088), (13027, 1515915625448839680), (13028, 1515915625498459648), (13029, 1515915625497888512), (13030, 1515915625498177536), (13031, 1515915625498726400), (13032, 1515915625498701312), (13033, 1515915625492282880), (13034, 1515915625498731776), (13035, 1515915625498730496), (13036, 1515915625498728704), (13037, 1515915625498238720), (13038, 1515915625494097664), (13039, 1515915625498726912), (13040, 1515915625498727936), (13041, 1515915625498730240), (13042, 1515915625498698240), (13043, 1515915625444388352), (13044, 1515915625498694144), (13045, 1515915625498237440), (13046, 1515915625498712320), (13047, 1515915625498734336), (13048, 1515915625498737664), (13049, 1515915625478314240), (13050, 1515915625498740480), (13051, 1515915625498740992), (13052, 1515915625495662592), (13053, 1515915625456996096), (13054, 1515915625498739456), (13055, 1515915625498742016), (13056, 1515915625498744320), (13057, 1515915625498506240), (13058, 1515915625498696704), (13059, 1515915625498671872), (13060, 1515915625483298304), (13061, 1515915625498729728), (13062, 1515915625498175488), (13063, 1515915625443001088), (13064, 1515915625498745088), (13065, 1515915625497268736), (13066, 1515915625498381312), (13067, 1515915625498759936), (13068, 1515915625498761472), (13069, 1515915625498306048), (13070, 1515915625498223616), (13071, 1515915625498262528), (13072, 1515915625498233856), (13073, 1515915625498706176), (13074, 1515915625498765568), (13075, 1515915625498770688), (13076, 1515915625498772992), (13077, 1515915625498172928), (13078, 1515915625498760960), (13079, 1515915625459414016), (13080, 1515915625498207232), (13081, 1515915625498778368), (13082, 1515915625498256384), (13083, 1515915625498233600), (13084, 1515915625498781696), (13085, 1515915625498785024), (13086, 1515915625472753152), (13087, 1515915625498786048), (13088, 1515915625498790400), (13089, 1515915625497122560), (13090, 1515915625498792704), (13091, 1515915625498787072), (13092, 1515915625498792448), (13093, 1515915625444655616), (13094, 1515915625499723264), (13095, 1515915625498521088), (13096, 1515915625498374656), (13097, 1515915625485294080), (13098, 1515915625497438464), (13099, 1515915625498666496), (13100, 1515915625498191616), (13101, 1515915625498791168), (13102, 1515915625459089664), (13103, 1515915625498805248), (13104, 1515915625498343424), (13105, 1515915625442958336), (13106, 1515915625498814208), (13107, 1515915625495675904), (13108, 1515915625498810112), (13109, 1515915625498271232), (13110, 1515915625498780672), (13111, 1515915625498807552), (13112, 1515915625498822912), (13113, 1515915625479221504), (13114, 1515915625498064384), (13115, 1515915625498829312), (13116, 1515915625498819584), (13117, 1515915625498833664), (13118, 1515915625498829824), (13119, 1515915625498846976), (13120, 1515915625498850304), (13121, 1515915625496259328), (13122, 1515915625498758656), (13123, 1515915625498849792), (13124, 1515915625498364160), (13125, 1515915625512249344), (13126, 1515915625498279168), (13127, 1515915625498286592), (13128, 1515915625498352384), (13129, 1515915625498193664), (13130, 1515915625498881792), (13131, 1515915625442626560), (13132, 1515915625477676032), (13133, 1515915625497730560), (13134, 1515915625498892544), (13135, 1515915625498169088), (13136, 1515915625498924288), (13137, 1515915625498775296), (13138, 1515915625498362112), (13139, 1515915625498781952), (13140, 1515915625498931200), (13141, 1515915625498293504), (13142, 1515915625498282752), (13143, 1515915625507918336), (13144, 1515915625448375808), (13145, 1515915625475242752), (13146, 1515915625498334464), (13147, 1515915625498147584), (13148, 1515915625498250496), (13149, 1515915625498248448), (13150, 1515915625496579328), (13151, 1515915625498458624), (13152, 1515915625498958336), (13153, 1515915625498962944), (13154, 1515915625498176256), (13155, 1515915625495555840), (13156, 1515915625499051520), (13157, 1515915625497822976), (13158, 1515915625459186176), (13159, 1515915625497828096), (13160, 1515915625498294784), (13161, 1515915625471052544), (13162, 1515915625497517056), (13163, 1515915625498314496), (13164, 1515915625498279680), (13165, 1515915625498978304), (13166, 1515915625498315264), (13167, 1515915625448064768), (13168, 1515915625498969088), (13169, 1515915625498991872), (13170, 1515915625498995456), (13171, 1515915625498209792), (13172, 1515915625498982656), (13173, 1515915625467432960), (13174, 1515915625498988288), (13175, 1515915625471067904), (13176, 1515915625445312512), (13177, 1515915625498351360), (13178, 1515915625494228736), (13179, 1515915625492355584), (13180, 1515915625483545600), (13181, 1515915625498277120), (13182, 1515915625498297600), (13183, 1515915625452892160), (13184, 1515915625492400640), (13185, 1515915625499007232), (13186, 1515915625492920320), (13187, 1515915625499010048), (13188, 1515915625497237760), (13189, 1515915625498507008), (13190, 1515915625498458880), (13191, 1515915625473337088), (13192, 1515915625498214400), (13193, 1515915625498980608), (13194, 1515915625473263360), (13195, 1515915625498865664), (13196, 1515915625498244608), (13197, 1515915625498195200), (13198, 1515915625505836288), (13199, 1515915625443646720), (13200, 1515915625498227456), (13201, 1515915625477369600), (13202, 1515915625498240256), (13203, 1515915625499034112), (13204, 1515915625454424576), (13205, 1515915625498220288), (13206, 1515915625499044352), (13207, 1515915625499057152), (13208, 1515915625499054080), (13209, 1515915625498265344), (13210, 1515915625499064064), (13211, 1515915625499059712), (13212, 1515915625499061760), (13213, 1515915625499070208), (13214, 1515915625499076608), (13215, 1515915625451972096), (13216, 1515915625498238976), (13217, 1515915625483431168), (13218, 1515915625498340864), (13219, 1515915625493510400), (13220, 1515915625499083776), (13221, 1515915625471413248), (13222, 1515915625498841344), (13223, 1515915625499098880), (13224, 1515915625498245376), (13225, 1515915625441313280), (13226, 1515915625499131648), (13227, 1515915625499130368), (13228, 1515915625443097344), (13229, 1515915625498185984), (13230, 1515915625498249984), (13231, 1515915625499142144), (13232, 1515915625499138304), (13233, 1515915625441117184), (13234, 1515915625498257664), (13235, 1515915625441551616), (13236, 1515915625499138560), (13237, 1515915625499152384), (13238, 1515915625499158784), (13239, 1515915625499160064), (13240, 1515915625499161088), (13241, 1515915625499168768), (13242, 1515915625498136320), (13243, 1515915625498738944), (13244, 1515915625498292736), (13245, 1515915625499160832), (13246, 1515915625497428480), (13247, 1515915625499165184), (13248, 1515915625498321408), (13249, 1515915625498431488), (13250, 1515915625498240768), (13251, 1515915625499057664), (13252, 1515915625499179520), (13253, 1515915625499161344), (13254, 1515915625499197440), (13255, 1515915625493777152), (13256, 1515915625499206144), (13257, 1515915625497167104), (13258, 1515915625498464000), (13259, 1515915625508007424), (13260, 1515915625475531776), (13261, 1515915625499106816), (13262, 1515915625499270656), (13263, 1515915625451060480), (13264, 1515915625499144704), (13265, 1515915625498196480), (13266, 1515915625498262272), (13267, 1515915625499011840), (13268, 1515915625499275776), (13269, 1515915625498280704), (13270, 1515915625499276800), (13271, 1515915625499280128), (13272, 1515915625498959104), (13273, 1515915625499279872), (13274, 1515915625499284480), (13275, 1515915625498227712), (13276, 1515915625452185344), (13277, 1515915625442260224), (13278, 1515915625499290112), (13279, 1515915625499290624), (13280, 1515915625511022080), (13281, 1515915625498302464), (13282, 1515915625481512192), (13283, 1515915625499294976), (13284, 1515915625448113408), (13285, 1515915625499270144), (13286, 1515915625499304192), (13287, 1515915625498867456), (13288, 1515915625496550912), (13289, 1515915625499172608), (13290, 1515915625471039744), (13291, 1515915625499043584), (13292, 1515915625493995776), (13293, 1515915625499323136), (13294, 1515915625498785280), (13295, 1515915625496255744), (13296, 1515915625499324672), (13297, 1515915625499321856), (13298, 1515915625498696192), (13299, 1515915625498301184), (13300, 1515915625499331072), (13301, 1515915625481949696), (13302, 1515915625499304704), (13303, 1515915625499019520), (13304, 1515915625498328576), (13305, 1515915625467988992), (13306, 1515915625499341056), (13307, 1515915625499344384), (13308, 1515915625499329536), (13309, 1515915625492131328), (13310, 1515915625499339776), (13311, 1515915625498197760), (13312, 1515915625499344128), (13313, 1515915625499344896), (13314, 1515915625499306752), (13315, 1515915625499347712), (13316, 1515915625499353600), (13317, 1515915625499350784), (13318, 1515915625499359744), (13319, 1515915625499357440), (13320, 1515915625499361792), (13321, 1515915625498359296), (13322, 1515915625498244864), (13323, 1515915625466078720), (13324, 1515915625499367936), (13325, 1515915625498270208), (13326, 1515915625499370752), (13327, 1515915625499374080), (13328, 1515915625499375616), (13329, 1515915625497857280), (13330, 1515915625499377664), (13331, 1515915625442723072), (13332, 1515915625499004672), (13333, 1515915625499374336), (13334, 1515915625499384576), (13335, 1515915625499293696), (13336, 1515915625498343936), (13337, 1515915625498341632), (13338, 1515915625499385088), (13339, 1515915625505840384), (13340, 1515915625498214656), (13341, 1515915625499392512), (13342, 1515915625499373056), (13343, 1515915625499395840), (13344, 1515915625445676544), (13345, 1515915625510938112), (13346, 1515915625494233856), (13347, 1515915625497607936), (13348, 1515915625457928448), (13349, 1515915625466639360), (13350, 1515915625499380992), (13351, 1515915625499052800), (13352, 1515915625514247168), (13353, 1515915625497045248), (13354, 1515915625498293760), (13355, 1515915625499423744), (13356, 1515915625499428864), (13357, 1515915625499423488), (13358, 1515915625499401728), (13359, 1515915625499430656), (13360, 1515915625462830336), (13361, 1515915625498986752), (13362, 1515915625498955520), (13363, 1515915625499439872), (13364, 1515915625486227200), (13365, 1515915625499443712), (13366, 1515915625499436544), (13367, 1515915625484891648), (13368, 1515915625499446528), (13369, 1515915625499076096), (13370, 1515915625442216704), (13371, 1515915625451351296), (13372, 1515915625499149056), (13373, 1515915625464865536), (13374, 1515915625486539008), (13375, 1515915625498181888), (13376, 1515915625493762560), (13377, 1515915625499481088), (13378, 1515915625498248192), (13379, 1515915625499483392), (13380, 1515915625499480320), (13381, 1515915625442704128), (13382, 1515915625499410176), (13383, 1515915625498255360), (13384, 1515915625499458816), (13385, 1515915625499502336), (13386, 1515915625494041856), (13387, 1515915625486889472), (13388, 1515915625499556608), (13389, 1515915625505274880), (13390, 1515915625444243712), (13391, 1515915625463056896), (13392, 1515915625498269952), (13393, 1515915625499872256), (13394, 1515915625499576320), (13395, 1515915625499579904), (13396, 1515915625499555328), (13397, 1515915625499584000), (13398, 1515915625498990592), (13399, 1515915625499586560), (13400, 1515915625499718144), (13401, 1515915625499589120), (13402, 1515915625499592192), (13403, 1515915625499592960), (13404, 1515915625499825664), (13405, 1515915625492656128), (13406, 1515915625458489088), (13407, 1515915625499594752), (13408, 1515915625512679168), (13409, 1515915625448748032), (13410, 1515915625465549056), (13411, 1515915625465646336), (13412, 1515915625498340608), (13413, 1515915625499589376), (13414, 1515915625498318080), (13415, 1515915625498345472), (13416, 1515915625499826688), (13417, 1515915625498313984), (13418, 1515915625499608064), (13419, 1515915625499609600), (13420, 1515915625499613440), (13421, 1515915625493386752), (13422, 1515915625499605504), (13423, 1515915625499593984), (13424, 1515915625499613184), (13425, 1515915625499589632), (13426, 1515915625499616000), (13427, 1515915625499618048), (13428, 1515915625498305024), (13429, 1515915625442583296), (13430, 1515915625499617536), (13431, 1515915625498217728), (13432, 1515915625498195712), (13433, 1515915625499624192), (13434, 1515915625499626496), (13435, 1515915625498234368), (13436, 1515915625498319104), (13437, 1515915625513716736), (13438, 1515915625499636736), (13439, 1515915625498316288), (13440, 1515915625498217216), (13441, 1515915625499640064), (13442, 1515915625499448320), (13443, 1515915625485617920), (13444, 1515915625466618880), (13445, 1515915625499644416), (13446, 1515915625453324032), (13447, 1515915625499288576), (13448, 1515915625499645440), (13449, 1515915625498329856), (13450, 1515915625498187776), (13451, 1515915625499643648), (13452, 1515915625498278912), (13453, 1515915625498234624), (13454, 1515915625499636992), (13455, 1515915625499632128), (13456, 1515915625499655680), (13457, 1515915625498222592), (13458, 1515915625499643392), (13459, 1515915625498966784), (13460, 1515915625454619136), (13461, 1515915625499650816), (13462, 1515915625492248320), (13463, 1515915625486185728), (13464, 1515915625499664384), (13465, 1515915625498180864), (13466, 1515915625493747200), (13467, 1515915625494563072), (13468, 1515915625511918848), (13469, 1515915625499671808), (13470, 1515915625498203904), (13471, 1515915625447079936), (13472, 1515915625499673344), (13473, 1515915625498299904), (13474, 1515915625498193152), (13475, 1515915625499677952), (13476, 1515915625513725184), (13477, 1515915625442507008), (13478, 1515915625499677440), (13479, 1515915625499688960), (13480, 1515915625498217984), (13481, 1515915625498290176), (13482, 1515915625499452672), (13483, 1515915625498827264), (13484, 1515915625498201344), (13485, 1515915625499692800), (13486, 1515915625498272000), (13487, 1515915625498206208), (13488, 1515915625499685632), (13489, 1515915625498274048), (13490, 1515915625499707904), (13491, 1515915625498353920), (13492, 1515915625496895488), (13493, 1515915625512199680), (13494, 1515915625499500288), (13495, 1515915625498302976), (13496, 1515915625499728640), (13497, 1515915625499720192), (13498, 1515915625498205696), (13499, 1515915625461487104), (13500, 1515915625499745280), (13501, 1515915625499756544), (13502, 1515915625499682048), (13503, 1515915625498344448), (13504, 1515915625499340288), (13505, 1515915625498285056), (13506, 1515915625499779584), (13507, 1515915625451051776), (13508, 1515915625499774720), (13509, 1515915625499593472), (13510, 1515915625441626624), (13511, 1515915625464995840), (13512, 1515915625497766144), (13513, 1515915625459090432), (13514, 1515915625498367488), (13515, 1515915625481694720), (13516, 1515915625507969280), (13517, 1515915625500117504), (13518, 1515915625475262976), (13519, 1515915625483146240), (13520, 1515915625499223040), (13521, 1515915625494656000), (13522, 1515915625499850240), (13523, 1515915625498249472), (13524, 1515915625441356544), (13525, 1515915625498211584), (13526, 1515915625498273536), (13527, 1515915625499861504), (13528, 1515915625494102784), (13529, 1515915625499859712), (13530, 1515915625499865088), (13531, 1515915625499866880), (13532, 1515915625499867904), (13533, 1515915625499860992), (13534, 1515915625485890048), (13535, 1515915625499870976), (13536, 1515915625481193984), (13537, 1515915625499874560), (13538, 1515915625499875072), (13539, 1515915625499867648), (13540, 1515915625462955264), (13541, 1515915625499882752), (13542, 1515915625498265088), (13543, 1515915625466680064), (13544, 1515915625498881024), (13545, 1515915625504008448), (13546, 1515915625461439232), (13547, 1515915625480396544), (13548, 1515915625499883776), (13549, 1515915625499889152), (13550, 1515915625497723904), (13551, 1515915625472535808), (13552, 1515915625499336192), (13553, 1515915625499893504), (13554, 1515915625499895040), (13555, 1515915625498323712), (13556, 1515915625499844864), (13557, 1515915625499894784), (13558, 1515915625498361088), (13559, 1515915625497232384), (13560, 1515915625498194688), (13561, 1515915625481673984), (13562, 1515915625499905536), (13563, 1515915625464189440), (13564, 1515915625452212992), (13565, 1515915625499906304), (13566, 1515915625499910912), (13567, 1515915625499736832), (13568, 1515915625440973824), (13569, 1515915625498208256), (13570, 1515915625468734720), (13571, 1515915625441597184), (13572, 1515915625486290944), (13573, 1515915625499924992), (13574, 1515915625499932160), (13575, 1515915625498054144), (13576, 1515915625448798976), (13577, 1515915625498393088), (13578, 1515915625499937536), (13579, 1515915625498205184), (13580, 1515915625465160704), (13581, 1515915625499939584), (13582, 1515915625499883264), (13583, 1515915625499934464), (13584, 1515915625499944704), (13585, 1515915625477497856), (13586, 1515915625499945472), (13587, 1515915625498193920), (13588, 1515915625499944448), (13589, 1515915625499299584), (13590, 1515915625472647168), (13591, 1515915625499964416), (13592, 1515915625499880448), (13593, 1515915625499966464), (13594, 1515915625481071104), (13595, 1515915625478326016), (13596, 1515915625498255104), (13597, 1515915625498252544), (13598, 1515915625463910912), (13599, 1515915625499959808), (13600, 1515915625499988224), (13601, 1515915625499985920), (13602, 1515915625474406400), (13603, 1515915625499991552), (13604, 1515915625499995648), (13605, 1515915625445558528), (13606, 1515915625482037248), (13607, 1515915625499686912), (13608, 1515915625451967232), (13609, 1515915625511090944), (13610, 1515915625498194432), (13611, 1515915625500008448), (13612, 1515915625468993024), (13613, 1515915625499038720), (13614, 1515915625498202368), (13615, 1515915625500018432), (13616, 1515915625498201088), (13617, 1515915625500020480), (13618, 1515915625448211456), (13619, 1515915625479759360), (13620, 1515915625499939072), (13621, 1515915625459062528), (13622, 1515915625479416832), (13623, 1515915625498210304), (13624, 1515915625499979008), (13625, 1515915625451088640), (13626, 1515915625461603584), (13627, 1515915625442003200), (13628, 1515915625499975424), (13629, 1515915625468881920), (13630, 1515915625498242816), (13631, 1515915625499415040), (13632, 1515915625472426496), (13633, 1515915625443477760), (13634, 1515915625473925632), (13635, 1515915625500140288), (13636, 1515915625500141824), (13637, 1515915625454767360), (13638, 1515915625500143104), (13639, 1515915625448349184), (13640, 1515915625494906880), (13641, 1515915625498266880), (13642, 1515915625500154624), (13643, 1515915625500154368), (13644, 1515915625504838656), (13645, 1515915625456292864), (13646, 1515915625498261248), (13647, 1515915625473222144), (13648, 1515915625500156928), (13649, 1515915625500161536), (13650, 1515915625496636160), (13651, 1515915625500157184), (13652, 1515915625500163840), (13653, 1515915625444145664), (13654, 1515915625500164096), (13655, 1515915625500166144), (13656, 1515915625500165120), (13657, 1515915625498182144), (13658, 1515915625500151552), (13659, 1515915625498215680), (13660, 1515915625472300032), (13661, 1515915625500171264), (13662, 1515915625500170752), (13663, 1515915625498298112), (13664, 1515915625500171776), (13665, 1515915625462799104), (13666, 1515915625463302656), (13667, 1515915625498307584), (13668, 1515915625492241408), (13669, 1515915625449876224), (13670, 1515915625500174592), (13671, 1515915625498966016), (13672, 1515915625500172288), (13673, 1515915625458230016), (13674, 1515915625500183552), (13675, 1515915625476336896), (13676, 1515915625500181248), (13677, 1515915625500146688), (13678, 1515915625498324992), (13679, 1515915625500195072), (13680, 1515915625472844288), (13681, 1515915625455489280), (13682, 1515915625473394944), (13683, 1515915625448283904), (13684, 1515915625498186240), (13685, 1515915625512111104), (13686, 1515915625498342144), (13687, 1515915625498259200), (13688, 1515915625498348032), (13689, 1515915625455694592), (13690, 1515915625481636864), (13691, 1515915625500359936), (13692, 1515915625512153856), (13693, 1515915625498219264), (13694, 1515915625500449792), (13695, 1515915625500683264), (13696, 1515915625498232832), (13697, 1515915625500163072), (13698, 1515915625500838656), (13699, 1515915625498148096), (13700, 1515915625500182784), (13701, 1515915625498344192), (13702, 1515915625459452416), (13703, 1515915625500870400), (13704, 1515915625497397248), (13705, 1515915625498352896), (13706, 1515915625498329600), (13707, 1515915625498172416), (13708, 1515915625471324416), (13709, 1515915625497353472), (13710, 1515915625501095680), (13711, 1515915625498172160), (13712, 1515915625498211840), (13713, 1515915625483720704), (13714, 1515915625499638528), (13715, 1515915625498462976), (13716, 1515915625478808320), (13717, 1515915625476263424), (13718, 1515915625498171904), (13719, 1515915625482457344), (13720, 1515915625468704256), (13721, 1515915625498191104), (13722, 1515915625492934400), (13723, 1515915625486832896), (13724, 1515915625476519168), (13725, 1515915625498234112), (13726, 1515915625500268544), (13727, 1515915625456736000), (13728, 1515915625501603840), (13729, 1515915625482862592), (13730, 1515915625492205568), (13731, 1515915625512677632), (13732, 1515915625496529920), (13733, 1515915625454134272), (13734, 1515915625498178816), (13735, 1515915625449778432), (13736, 1515915625499951360), (13737, 1515915625498235648), (13738, 1515915625498169856), (13739, 1515915625497964544), (13740, 1515915625502456576), (13741, 1515915625498289664), (13742, 1515915625453623808), (13743, 1515915625498168064), (13744, 1515915625505843968), (13745, 1515915625502012672), (13746, 1515915625501839872), (13747, 1515915625498188032), (13748, 1515915625479373568), (13749, 1515915625511256576), (13750, 1515915625451662336), (13751, 1515915625503080448), (13752, 1515915625444823296), (13753, 1515915625479435776), (13754, 1515915625503702016), (13755, 1515915625498225664), (13756, 1515915625502847488), (13757, 1515915625496966912), (13758, 1515915625500046336), (13759, 1515915625500505856), (13760, 1515915625498319872), (13761, 1515915625503794432), (13762, 1515915625473210880), (13763, 1515915625505740800), (13764, 1515915625503785984), (13765, 1515915625502046720), (13766, 1515915625493278208), (13767, 1515915625494721280), (13768, 1515915625503793408), (13769, 1515915625462798592), (13770, 1515915625473929728), (13771, 1515915625498434816), (13772, 1515915625441702656), (13773, 1515915625502894848), (13774, 1515915625470600704), (13775, 1515915625503815168), (13776, 1515915625501576704), (13777, 1515915625498224128), (13778, 1515915625498336256), (13779, 1515915625445393664), (13780, 1515915625503819008), (13781, 1515915625504100096), (13782, 1515915625503825152), (13783, 1515915625492969984), (13784, 1515915625441421056), (13785, 1515915625503824128), (13786, 1515915625503702528), (13787, 1515915625447696384), (13788, 1515915625503835904), (13789, 1515915625503832576), (13790, 1515915625471243264), (13791, 1515915625466522112), (13792, 1515915625498270464), (13793, 1515915625511441408), (13794, 1515915625503836160), (13795, 1515915625503831552), (13796, 1515915625503804672), (13797, 1515915625499842048), (13798, 1515915625514243328), (13799, 1515915625503830528), (13800, 1515915625481209600), (13801, 1515915625478765312), (13802, 1515915625498219520), (13803, 1515915625503847424), (13804, 1515915625498312704), (13805, 1515915625503846912), (13806, 1515915625503804416), (13807, 1515915625500404736), (13808, 1515915625498291200), (13809, 1515915625503853568), (13810, 1515915625503853824), (13811, 1515915625498206976), (13812, 1515915625473362432), (13813, 1515915625503856384), (13814, 1515915625503858944), (13815, 1515915625503859968), (13816, 1515915625503829248), (13817, 1515915625498257920), (13818, 1515915625503860992), (13819, 1515915625503858176), (13820, 1515915625503862784), (13821, 1515915625503840000), (13822, 1515915625444921088), (13823, 1515915625500147200), (13824, 1515915625498322688), (13825, 1515915625498185472), (13826, 1515915625498247936), (13827, 1515915625503872512), (13828, 1515915625503873536), (13829, 1515915625503841024), (13830, 1515915625503708672), (13831, 1515915625503875072), (13832, 1515915625498204160), (13833, 1515915625499908096), (13834, 1515915625498222336), (13835, 1515915625498281984), (13836, 1515915625464347392), (13837, 1515915625496946176), (13838, 1515915625498208512), (13839, 1515915625498235392), (13840, 1515915625498177024), (13841, 1515915625503876608), (13842, 1515915625503907584), (13843, 1515915625503913728), (13844, 1515915625503909888), (13845, 1515915625503741952), (13846, 1515915625510448128), (13847, 1515915625498347008), (13848, 1515915625441170688), (13849, 1515915625498288640), (13850, 1515915625503922176), (13851, 1515915625498230016), (13852, 1515915625492362752), (13853, 1515915625513179904), (13854, 1515915625498210816), (13855, 1515915625503940096), (13856, 1515915625494457088), (13857, 1515915625503934208), (13858, 1515915625503943424), (13859, 1515915625503945472), (13860, 1515915625498337024), (13861, 1515915625443247872), (13862, 1515915625498208000), (13863, 1515915625503928320), (13864, 1515915625498298624), (13865, 1515915625442762752), (13866, 1515915625498304768), (13867, 1515915625464406528), (13868, 1515915625498857984), (13869, 1515915625503978752), (13870, 1515915625498218752), (13871, 1515915625503985408), (13872, 1515915625496258816), (13873, 1515915625452628992), (13874, 1515915625495806720), (13875, 1515915625503997952), (13876, 1515915625498307328), (13877, 1515915625504005632), (13878, 1515915625445556480), (13879, 1515915625504011008), (13880, 1515915625500476928), (13881, 1515915625455146240), (13882, 1515915625498229760), (13883, 1515915625504015360), (13884, 1515915625498196992), (13885, 1515915625498305536), (13886, 1515915625486372096), (13887, 1515915625460681216), (13888, 1515915625498296576), (13889, 1515915625498302720), (13890, 1515915625481882368), (13891, 1515915625498263808), (13892, 1515915625498294272), (13893, 1515915625497225216), (13894, 1515915625498258432), (13895, 1515915625504145920), (13896, 1515915625498355456), (13897, 1515915625471526656), (13898, 1515915625498185216), (13899, 1515915625504422144), (13900, 1515915625498316800), (13901, 1515915625471069952), (13902, 1515915625504126976), (13903, 1515915625498176512), (13904, 1515915625504172032), (13905, 1515915625445898752), (13906, 1515915625450190080), (13907, 1515915625504177920), (13908, 1515915625504168704), (13909, 1515915625504175616), (13910, 1515915625499863808), (13911, 1515915625503990272), (13912, 1515915625504175872), (13913, 1515915625504185088), (13914, 1515915625498178304), (13915, 1515915625505843200), (13916, 1515915625504187136), (13917, 1515915625504192512), (13918, 1515915625504193280), (13919, 1515915625498260224), (13920, 1515915625504201728), (13921, 1515915625504196608), (13922, 1515915625470256896), (13923, 1515915625504206592), (13924, 1515915625512361728), (13925, 1515915625498226688), (13926, 1515915625485656576), (13927, 1515915625504204032), (13928, 1515915625493789184), (13929, 1515915625504223488), (13930, 1515915625504218112), (13931, 1515915625504229888), (13932, 1515915625504230144), (13933, 1515915625504233216), (13934, 1515915625492399360), (13935, 1515915625504236032), (13936, 1515915625504238336), (13937, 1515915625469456896), (13938, 1515915625504278272), (13939, 1515915625504245504), (13940, 1515915625504239360), (13941, 1515915625504244992), (13942, 1515915625498259456), (13943, 1515915625504224512), (13944, 1515915625504245248), (13945, 1515915625444813824), (13946, 1515915625504220416), (13947, 1515915625479451648), (13948, 1515915625498308352), (13949, 1515915625481195008), (13950, 1515915625504253696), (13951, 1515915625504243968), (13952, 1515915625449484288), (13953, 1515915625459031552), (13954, 1515915625478287104), (13955, 1515915625477572352), (13956, 1515915625498280448), (13957, 1515915625498225408), (13958, 1515915625472321024), (13959, 1515915625498261760), (13960, 1515915625479431424), (13961, 1515915625469725184), (13962, 1515915625504262656), (13963, 1515915625504289280), (13964, 1515915625504287488), (13965, 1515915625495699200), (13966, 1515915625499456768), (13967, 1515915625504114176), (13968, 1515915625504301568), (13969, 1515915625504284672), (13970, 1515915625504303616), (13971, 1515915625503737600), (13972, 1515915625504324096), (13973, 1515915625504512512), (13974, 1515915625447934464), (13975, 1515915625498179840), (13976, 1515915625504263936), (13977, 1515915625504335616), (13978, 1515915625504337920), (13979, 1515915625498310912), (13980, 1515915625498190848), (13981, 1515915625504350208), (13982, 1515915625504612864), (13983, 1515915625498972672), (13984, 1515915625504325632), (13985, 1515915625504361728), (13986, 1515915625504352000), (13987, 1515915625504359680), (13988, 1515915625503965184), (13989, 1515915625493224960), (13990, 1515915625511007232), (13991, 1515915625441179136), (13992, 1515915625504257792), (13993, 1515915625469162752), (13994, 1515915625444220160), (13995, 1515915625503895552), (13996, 1515915625504450816), (13997, 1515915625498367744), (13998, 1515915625504457728), (13999, 1515915625504300288), (14000, 1515915625504461824), (14001, 1515915625504190976), (14002, 1515915625504470784), (14003, 1515915625504330752), (14004, 1515915625504474368), (14005, 1515915625504477184), (14006, 1515915625508307200), (14007, 1515915625471637248), (14008, 1515915625504484096), (14009, 1515915625494405888), (14010, 1515915625498323456), (14011, 1515915625504463616), (14012, 1515915625504466176), (14013, 1515915625494052864), (14014, 1515915625504494592), (14015, 1515915625498315520), (14016, 1515915625498329344), (14017, 1515915625443938816), (14018, 1515915625500364544), (14019, 1515915625498206464), (14020, 1515915625473497856), (14021, 1515915625504495104), (14022, 1515915625504375552), (14023, 1515915625468859392), (14024, 1515915625504271616), (14025, 1515915625504527872), (14026, 1515915625504519936), (14027, 1515915625470365440), (14028, 1515915625498197504), (14029, 1515915625498336768), (14030, 1515915625505559040), (14031, 1515915625442012928), (14032, 1515915625498295296), (14033, 1515915625504462848), (14034, 1515915625504535296), (14035, 1515915625504355840), (14036, 1515915625465612032), (14037, 1515915625506775552), (14038, 1515915625498267904), (14039, 1515915625504575488), (14040, 1515915625505436160), (14041, 1515915625500142080), (14042, 1515915625498170112), (14043, 1515915625476698112), (14044, 1515915625498198528), (14045, 1515915625504534272), (14046, 1515915625504509440), (14047, 1515915625442404096), (14048, 1515915625474536192), (14049, 1515915625449542144), (14050, 1515915625504634880), (14051, 1515915625469258240), (14052, 1515915625504636928), (14053, 1515915625498294528), (14054, 1515915625498275584), (14055, 1515915625504674048), (14056, 1515915625498216192), (14057, 1515915625479870720), (14058, 1515915625504671488), (14059, 1515915625498245888), (14060, 1515915625480051712), (14061, 1515915625504668672), (14062, 1515915625504521216), (14063, 1515915625468653824), (14064, 1515915625463759360), (14065, 1515915625502123520), (14066, 1515915625503744000), (14067, 1515915625469393664), (14068, 1515915625498253312), (14069, 1515915625466609664), (14070, 1515915625506501632), (14071, 1515915625441173248), (14072, 1515915625504763904), (14073, 1515915625481572096), (14074, 1515915625450759168), (14075, 1515915625504847360), (14076, 1515915625499571712), (14077, 1515915625504845824), (14078, 1515915625498327552), (14079, 1515915625504850176), (14080, 1515915625498246144), (14081, 1515915625462883584), (14082, 1515915625445705984), (14083, 1515915625498334976), (14084, 1515915625504883712), (14085, 1515915625504872960), (14086, 1515915625504872704), (14087, 1515915625493075968), (14088, 1515915625498207744), (14089, 1515915625504644608), (14090, 1515915625498880000), (14091, 1515915625504913920), (14092, 1515915625499868416), (14093, 1515915625473940736), (14094, 1515915625504645632), (14095, 1515915625473798400), (14096, 1515915625504931072), (14097, 1515915625463891456), (14098, 1515915625504925440), (14099, 1515915625504941056), (14100, 1515915625504896768), (14101, 1515915625441542656), (14102, 1515915625466960896), (14103, 1515915625504946944), (14104, 1515915625512680192), (14105, 1515915625498313728), (14106, 1515915625504473600), (14107, 1515915625504916480), (14108, 1515915625498212864), (14109, 1515915625504961024), (14110, 1515915625498317568), (14111, 1515915625501174272), (14112, 1515915625498213632), (14113, 1515915625504633856), (14114, 1515915625504973312), (14115, 1515915625504887552), (14116, 1515915625498190080), (14117, 1515915625501477632), (14118, 1515915625472975872), (14119, 1515915625504830208), (14120, 1515915625504442112), (14121, 1515915625498087936), (14122, 1515915625498282496), (14123, 1515915625475400960), (14124, 1515915625498227200), (14125, 1515915625477219072), (14126, 1515915625479469312), (14127, 1515915625504965632), (14128, 1515915625498236672), (14129, 1515915625498253056), (14130, 1515915625504841984), (14131, 1515915625504991488), (14132, 1515915625504312320), (14133, 1515915625443269120), (14134, 1515915625498236160), (14135, 1515915625441037312), (14136, 1515915625505068032), (14137, 1515915625496313344), (14138, 1515915625497066496), (14139, 1515915625498665728), (14140, 1515915625485057792), (14141, 1515915625505090048), (14142, 1515915625498281216), (14143, 1515915625512784384), (14144, 1515915625498339840), (14145, 1515915625498228480), (14146, 1515915625505157376), (14147, 1515915625498251008), (14148, 1515915625506192896), (14149, 1515915625452598784), (14150, 1515915625505176576), (14151, 1515915625486374912), (14152, 1515915625498179328), (14153, 1515915625469392896), (14154, 1515915625505176064), (14155, 1515915625441495296), (14156, 1515915625498167808), (14157, 1515915625505087488), (14158, 1515915625498206720), (14159, 1515915625498246400), (14160, 1515915625505192192), (14161, 1515915625459388416), (14162, 1515915625499319808), (14163, 1515915625495778816), (14164, 1515915625494149120), (14165, 1515915625505287680), (14166, 1515915625503881472), (14167, 1515915625486902016), (14168, 1515915625498213120), (14169, 1515915625505222144), (14170, 1515915625498180608), (14171, 1515915625504915968), (14172, 1515915625505149184), (14173, 1515915625505214208), (14174, 1515915625505213952), (14175, 1515915625498179584), (14176, 1515915625505244928), (14177, 1515915625498202880), (14178, 1515915625498338048), (14179, 1515915625505253120), (14180, 1515915625498303232), (14181, 1515915625459213056), (14182, 1515915625505257984), (14183, 1515915625503974400), (14184, 1515915625501731072), (14185, 1515915625505252096), (14186, 1515915625505255680), (14187, 1515915625498311424), (14188, 1515915625504597760), (14189, 1515915625505260800), (14190, 1515915625505063424), (14191, 1515915625498241280), (14192, 1515915625498189824), (14193, 1515915625505211648), (14194, 1515915625442373376), (14195, 1515915625499047680), (14196, 1515915625498252032), (14197, 1515915625469117440), (14198, 1515915625505311744), (14199, 1515915625514717696), (14200, 1515915625505225728), (14201, 1515915625467932928), (14202, 1515915625505064704), (14203, 1515915625512194560), (14204, 1515915625498366208), (14205, 1515915625465354752), (14206, 1515915625485088256), (14207, 1515915625505344512), (14208, 1515915625498216704), (14209, 1515915625448198656), (14210, 1515915625505354496), (14211, 1515915625505355264), (14212, 1515915625499598080), (14213, 1515915625441403648), (14214, 1515915625446201600), (14215, 1515915625505359360), (14216, 1515915625450711296), (14217, 1515915625504702720), (14218, 1515915625494628608), (14219, 1515915625496403712), (14220, 1515915625505458944), (14221, 1515915625498308096), (14222, 1515915625498232576), (14223, 1515915625503987712), (14224, 1515915625505467904), (14225, 1515915625443703296), (14226, 1515915625505469696), (14227, 1515915625505364224), (14228, 1515915625505461504), (14229, 1515915625505484032), (14230, 1515915625503920896), (14231, 1515915625505490688), (14232, 1515915625498201856), (14233, 1515915625498186752), (14234, 1515915625499451392), (14235, 1515915625505502208), (14236, 1515915625498331136), (14237, 1515915625458503168), (14238, 1515915625478981632), (14239, 1515915625498323200), (14240, 1515915625499407616), (14241, 1515915625498219776), (14242, 1515915625442077184), (14243, 1515915625498282240), (14244, 1515915625498194944), (14245, 1515915625503911424), (14246, 1515915625505545984), (14247, 1515915625447833344), (14248, 1515915625455864576), (14249, 1515915625494392320), (14250, 1515915625464968704), (14251, 1515915625498189568), (14252, 1515915625504870656), (14253, 1515915625449042944), (14254, 1515915625484475648), (14255, 1515915625504722944), (14256, 1515915625497161472), (14257, 1515915625441728512), (14258, 1515915625505722112), (14259, 1515915625505114624), (14260, 1515915625505764864), (14261, 1515915625508654080), (14262, 1515915625456175872), (14263, 1515915625498251520), (14264, 1515915625505779456), (14265, 1515915625498181376), (14266, 1515915625505777408), (14267, 1515915625498283264), (14268, 1515915625506076928), (14269, 1515915625498339584), (14270, 1515915625498192384), (14271, 1515915625484929792), (14272, 1515915625505795584), (14273, 1515915625483332864), (14274, 1515915625473444352), (14275, 1515915625506077184), (14276, 1515915625505806080), (14277, 1515915625498283008), (14278, 1515915625498181632), (14279, 1515915625483692288), (14280, 1515915625498370816), (14281, 1515915625505497600), (14282, 1515915625505793024), (14283, 1515915625505811712), (14284, 1515915625505815552), (14285, 1515915625498335488), (14286, 1515915625446987264), (14287, 1515915625498192640), (14288, 1515915625442615296), (14289, 1515915625461788416), (14290, 1515915625505821952), (14291, 1515915625498226432), (14292, 1515915625498284288), (14293, 1515915625498179072), (14294, 1515915625498318848), (14295, 1515915625498191360), (14296, 1515915625498175232), (14297, 1515915625452209664), (14298, 1515915625505822464), (14299, 1515915625499590656), (14300, 1515915625499658496), (14301, 1515915625505841152), (14302, 1515915625498237952), (14303, 1515915625498174720), (14304, 1515915625498290432), (14305, 1515915625498343168), (14306, 1515915625441682688), (14307, 1515915625498255872), (14308, 1515915625498271488), (14309, 1515915625498339328), (14310, 1515915625498220800), (14311, 1515915625476775936), (14312, 1515915625498333696), (14313, 1515915625498722816), (14314, 1515915625504462080), (14315, 1515915625498176768), (14316, 1515915625504820480), (14317, 1515915625505872640), (14318, 1515915625498326528), (14319, 1515915625498254080), (14320, 1515915625462533376), (14321, 1515915625505520384), (14322, 1515915625505880064), (14323, 1515915625498486016), (14324, 1515915625498245632), (14325, 1515915625498200832), (14326, 1515915625452772096), (14327, 1515915625498173440), (14328, 1515915625498287104), (14329, 1515915625498317312), (14330, 1515915625498209536), (14331, 1515915625498307072), (14332, 1515915625498190592), (14333, 1515915625498256128), (14334, 1515915625498231040), (14335, 1515915625505246464), (14336, 1515915625512680448), (14337, 1515915625505613056), (14338, 1515915625498291712), (14339, 1515915625498346752), (14340, 1515915625449333504), (14341, 1515915625498366720), (14342, 1515915625505920256), (14343, 1515915625498197248), (14344, 1515915625498255616), (14345, 1515915625505930240), (14346, 1515915625498172672), (14347, 1515915625470551808), (14348, 1515915625505932288), (14349, 1515915625498187264), (14350, 1515915625498181120), (14351, 1515915625504158464), (14352, 1515915625493084416), (14353, 1515915625444063232), (14354, 1515915625498301952), (14355, 1515915625495158528), (14356, 1515915625498227968), (14357, 1515915625505949696), (14358, 1515915625498182400), (14359, 1515915625498280192), (14360, 1515915625492767744), (14361, 1515915625504323072), (14362, 1515915625498322944), (14363, 1515915625498200576), (14364, 1515915625505979904), (14365, 1515915625499958528), (14366, 1515915625505975808), (14367, 1515915625505982464), (14368, 1515915625469230592), (14369, 1515915625496080384), (14370, 1515915625505986048), (14371, 1515915625464153600), (14372, 1515915625498192128), (14373, 1515915625477154048), (14374, 1515915625498275072), (14375, 1515915625498350080), (14376, 1515915625506091264), (14377, 1515915625506112000), (14378, 1515915625498189312), (14379, 1515915625506163200), (14380, 1515915625505880320), (14381, 1515915625467601664), (14382, 1515915625498253568), (14383, 1515915625498203136), (14384, 1515915625506116864), (14385, 1515915625498256896), (14386, 1515915625498285824), (14387, 1515915625492356608), (14388, 1515915625506402048), (14389, 1515915625498214912), (14390, 1515915625506126336), (14391, 1515915625472632320), (14392, 1515915625498269184), (14393, 1515915625498173696), (14394, 1515915625498252288), (14395, 1515915625498203392), (14396, 1515915625498330368), (14397, 1515915625498210048), (14398, 1515915625498183680), (14399, 1515915625506137600), (14400, 1515915625498201600), (14401, 1515915625498240000), (14402, 1515915625503812352), (14403, 1515915625506146304), (14404, 1515915625471065088), (14405, 1515915625498210560), (14406, 1515915625498223104), (14407, 1515915625498263040), (14408, 1515915625498279936), (14409, 1515915625498354432), (14410, 1515915625498266112), (14411, 1515915625512163584), (14412, 1515915625506402304), (14413, 1515915625498299392), (14414, 1515915625479778560), (14415, 1515915625462656256), (14416, 1515915625498320896), (14417, 1515915625495331072), (14418, 1515915625505925120), (14419, 1515915625498257152), (14420, 1515915625498178560), (14421, 1515915625498324736), (14422, 1515915625445369088), (14423, 1515915625498219008), (14424, 1515915625506127360), (14425, 1515915625498247424), (14426, 1515915625498279424), (14427, 1515915625498243328), (14428, 1515915625498363136), (14429, 1515915625498276608), (14430, 1515915625498306816), (14431, 1515915625498295808), (14432, 1515915625498284032), (14433, 1515915625505963520), (14434, 1515915625458403584), (14435, 1515915625500091392), (14436, 1515915625462195456), (14437, 1515915625505201920), (14438, 1515915625498222848), (14439, 1515915625498273280), (14440, 1515915625498360832), (14441, 1515915625506193664), (14442, 1515915625498216448), (14443, 1515915625482496256), (14444, 1515915625454124544), (14445, 1515915625447777792), (14446, 1515915625498263552), (14447, 1515915625511215360), (14448, 1515915625505526784), (14449, 1515915625498185728), (14450, 1515915625499926016), (14451, 1515915625504747264), (14452, 1515915625498330880), (14453, 1515915625498267648), (14454, 1515915625504464128), (14455, 1515915625499168256), (14456, 1515915625498069760), (14457, 1515915625481486080), (14458, 1515915625498241792), (14459, 1515915625498309120), (14460, 1515915625474986752), (14461, 1515915625505040128), (14462, 1515915625498215424), (14463, 1515915625498248704), (14464, 1515915625498171648), (14465, 1515915625506220800), (14466, 1515915625498265600), (14467, 1515915625506215936), (14468, 1515915625498256640), (14469, 1515915625506255872), (14470, 1515915625505842176), (14471, 1515915625512544512), (14472, 1515915625498178048), (14473, 1515915625486104832), (14474, 1515915625448431360), (14475, 1515915625443043328), (14476, 1515915625506278912), (14477, 1515915625498238208), (14478, 1515915625506281216), (14479, 1515915625470607872), (14480, 1515915625511966464), (14481, 1515915625506309120), (14482, 1515915625506312704), (14483, 1515915625511662848), (14484, 1515915625498274816), (14485, 1515915625481508352), (14486, 1515915625497091328), (14487, 1515915625498304512), (14488, 1515915625478910208), (14489, 1515915625464555520), (14490, 1515915625498292224), (14491, 1515915625498296320), (14492, 1515915625477867520), (14493, 1515915625506123008), (14494, 1515915625447058944), (14495, 1515915625442659840), (14496, 1515915625482505472), (14497, 1515915625468965120), (14498, 1515915625498264576), (14499, 1515915625442070016), (14500, 1515915625498328320), (14501, 1515915625498184192), (14502, 1515915625504463872), (14503, 1515915625498231808), (14504, 1515915625498230784), (14505, 1515915625506736128), (14506, 1515915625457504768), (14507, 1515915625498196736), (14508, 1515915625506469888), (14509, 1515915625498334208), (14510, 1515915625498235136), (14511, 1515915625498288128), (14512, 1515915625498243072), (14513, 1515915625498318592), (14514, 1515915625498212096), (14515, 1515915625498248960), (14516, 1515915625504136192), (14517, 1515915625458708480), (14518, 1515915625505508352), (14519, 1515915625463692032), (14520, 1515915625476700928), (14521, 1515915625480429312), (14522, 1515915625480526080), (14523, 1515915625498308608), (14524, 1515915625443293696), (14525, 1515915625498220544), (14526, 1515915625498784256), (14527, 1515915625498313216), (14528, 1515915625512299520), (14529, 1515915625498183168), (14530, 1515915625498242560), (14531, 1515915625454318080), (14532, 1515915625498302208), (14533, 1515915625506487808), (14534, 1515915625506505728), (14535, 1515915625506521344), (14536, 1515915625498232064), (14537, 1515915625481132032), (14538, 1515915625498190336), (14539, 1515915625498235904), (14540, 1515915625506641920), (14541, 1515915625498207488), (14542, 1515915625498304000), (14543, 1515915625482379520), (14544, 1515915625498232320), (14545, 1515915625445759744), (14546, 1515915625506573312), (14547, 1515915625506572800), (14548, 1515915625498335232), (14549, 1515915625479336704), (14550, 1515915625476024576), (14551, 1515915625498234880), (14552, 1515915625506516480), (14553, 1515915625498320384), (14554, 1515915625497544448), (14555, 1515915625445358336), (14556, 1515915625498205952), (14557, 1515915625506485248), (14558, 1515915625498303488), (14559, 1515915625496232704), (14560, 1515915625501241856), (14561, 1515915625510924288), (14562, 1515915625506640640), (14563, 1515915625498225920), (14564, 1515915625498367232), (14565, 1515915625446938880), (14566, 1515915625498244352), (14567, 1515915625498329088), (14568, 1515915625507073792), (14569, 1515915625443214592), (14570, 1515915625498213888), (14571, 1515915625512600576), (14572, 1515915625506787584), (14573, 1515915625498530560), (14574, 1515915625498275840), (14575, 1515915625505836544), (14576, 1515915625479319040), (14577, 1515915625482163200), (14578, 1515915625507074048), (14579, 1515915625498237696), (14580, 1515915625498199552), (14581, 1515915625498171136), (14582, 1515915625464491008), (14583, 1515915625498268416), (14584, 1515915625498204416), (14585, 1515915625498351616), (14586, 1515915625461362176), (14587, 1515915625440984832), (14588, 1515915625504462592), (14589, 1515915625498305280), (14590, 1515915625506855168), (14591, 1515915625446154496), (14592, 1515915625498230272), (14593, 1515915625506889472), (14594, 1515915625506612480), (14595, 1515915625498204672), (14596, 1515915625498228736), (14597, 1515915625504463360), (14598, 1515915625498212608), (14599, 1515915625498209024), (14600, 1515915625511133440), (14601, 1515915625512027648), (14602, 1515915625498337280), (14603, 1515915625498194176), (14604, 1515915625498251264), (14605, 1515915625498189056), (14606, 1515915625511492608), (14607, 1515915625498292992), (14608, 1515915625506986240), (14609, 1515915625514635008), (14610, 1515915625507179008), (14611, 1515915625507098624), (14612, 1515915625506452992), (14613, 1515915625498277376), (14614, 1515915625465610496), (14615, 1515915625508009472), (14616, 1515915625507112192), (14617, 1515915625478101248), (14618, 1515915625506014208), (14619, 1515915625498222080), (14620, 1515915625507110144), (14621, 1515915625508009216), (14622, 1515915625506925056), (14623, 1515915625498214144), (14624, 1515915625503885056), (14625, 1515915625507147520), (14626, 1515915625485768192), (14627, 1515915625498335744), (14628, 1515915625498221824), (14629, 1515915625507160064), (14630, 1515915625507159808), (14631, 1515915625508008960), (14632, 1515915625466198784), (14633, 1515915625507160576), (14634, 1515915625498366976), (14635, 1515915625506475776), (14636, 1515915625507162112), (14637, 1515915625507166464), (14638, 1515915625498240512), (14639, 1515915625470860288), (14640, 1515915625460320768), (14641, 1515915625507103232), (14642, 1515915625507201792), (14643, 1515915625498230528), (14644, 1515915625506212352), (14645, 1515915625496745472), (14646, 1515915625503901952), (14647, 1515915625498204928), (14648, 1515915625506571264), (14649, 1515915625456611584), (14650, 1515915625507245056), (14651, 1515915625496257536), (14652, 1515915625448958720), (14653, 1515915625498267392), (14654, 1515915625498195456), (14655, 1515915625505144576), (14656, 1515915625498199296), (14657, 1515915625498299136), (14658, 1515915625498257408), (14659, 1515915625498283776), (14660, 1515915625504461568), (14661, 1515915625498174464), (14662, 1515915625457586432), (14663, 1515915625498198784), (14664, 1515915625498254592), (14665, 1515915625493883904), (14666, 1515915625473011712), (14667, 1515915625507285504), (14668, 1515915625507296000), (14669, 1515915625498263296), (14670, 1515915625507324160), (14671, 1515915625503969536), (14672, 1515915625507203840), (14673, 1515915625483245824), (14674, 1515915625477959168), (14675, 1515915625444557056), (14676, 1515915625507416064), (14677, 1515915625505827584), (14678, 1515915625507419904), (14679, 1515915625507424512), (14680, 1515915625512670464), (14681, 1515915625507292416), (14682, 1515915625471709952), (14683, 1515915625507419648), (14684, 1515915625507428864), (14685, 1515915625507440896), (14686, 1515915625498286848), (14687, 1515915625499750400), (14688, 1515915625507447552), (14689, 1515915625507454208), (14690, 1515915625498310656), (14691, 1515915625494092800), (14692, 1515915625498182912), (14693, 1515915625443775488), (14694, 1515915625457310208), (14695, 1515915625507272448), (14696, 1515915625507170304), (14697, 1515915625506627840), (14698, 1515915625505844992), (14699, 1515915625507490560), (14700, 1515915625507497728), (14701, 1515915625512671488), (14702, 1515915625498315008), (14703, 1515915625498920704), (14704, 1515915625477423360), (14705, 1515915625512555264), (14706, 1515915625498254336), (14707, 1515915625450669056), (14708, 1515915625461064192), (14709, 1515915625475293696), (14710, 1515915625499108608), (14711, 1515915625505919488), (14712, 1515915625507125248), (14713, 1515915625475392256), (14714, 1515915625506803200), (14715, 1515915625507311104), (14716, 1515915625512663552), (14717, 1515915625493126400), (14718, 1515915625511420672), (14719, 1515915625443080192), (14720, 1515915625493885440), (14721, 1515915625458282240), (14722, 1515915625506843392), (14723, 1515915625507703040), (14724, 1515915625505798144), (14725, 1515915625477450240), (14726, 1515915625507781120), (14727, 1515915625498221568), (14728, 1515915625507719680), (14729, 1515915625472436480), (14730, 1515915625498258176), (14731, 1515915625510819840), (14732, 1515915625445703424), (14733, 1515915625507737600), (14734, 1515915625468423168), (14735, 1515915625507470336), (14736, 1515915625507751424), (14737, 1515915625507727104), (14738, 1515915625507055360), (14739, 1515915625506790400), (14740, 1515915625492351488), (14741, 1515915625460480256), (14742, 1515915625505233920), (14743, 1515915625507790592), (14744, 1515915625445402368), (14745, 1515915625507710720), (14746, 1515915625507290368), (14747, 1515915625507805440), (14748, 1515915625497088512), (14749, 1515915625473518336), (14750, 1515915625505985024), (14751, 1515915625512681984), (14752, 1515915625492098048), (14753, 1515915625460034048), (14754, 1515915625496129536), (14755, 1515915625507555584), (14756, 1515915625507871488), (14757, 1515915625505802752), (14758, 1515915625506001408), (14759, 1515915625507525120), (14760, 1515915625507111936), (14761, 1515915625498188544), (14762, 1515915625508004864), (14763, 1515915625507209472), (14764, 1515915625508306688), (14765, 1515915625492065792), (14766, 1515915625498170368), (14767, 1515915625498262016), (14768, 1515915625492238080), (14769, 1515915625508306432), (14770, 1515915625505894912), (14771, 1515915625508046592), (14772, 1515915625486048000), (14773, 1515915625498278656), (14774, 1515915625506892032), (14775, 1515915625471729152), (14776, 1515915625456839168), (14777, 1515915625507664896), (14778, 1515915625498276096), (14779, 1515915625498202112), (14780, 1515915625507321088), (14781, 1515915625498209280), (14782, 1515915625445321472), (14783, 1515915625508063232), (14784, 1515915625498217472), (14785, 1515915625508073472), (14786, 1515915625508070144), (14787, 1515915625498314240), (14788, 1515915625498283520), (14789, 1515915625448226816), (14790, 1515915625499433728), (14791, 1515915625498180096), (14792, 1515915625508119040), (14793, 1515915625507488512), (14794, 1515915625498300928), (14795, 1515915625498272768), (14796, 1515915625498237184), (14797, 1515915625485519616), (14798, 1515915625508142080), (14799, 1515915625458737920), (14800, 1515915625498182656), (14801, 1515915625482702080), (14802, 1515915625508006400), (14803, 1515915625508148736), (14804, 1515915625498332416), (14805, 1515915625506263296), (14806, 1515915625481148416), (14807, 1515915625508220160), (14808, 1515915625508212992), (14809, 1515915625508210944), (14810, 1515915625508318464), (14811, 1515915625508206336), (14812, 1515915625449766912), (14813, 1515915625511060480), (14814, 1515915625508174336), (14815, 1515915625511017216), (14816, 1515915625512673536), (14817, 1515915625498953216), (14818, 1515915625508349696), (14819, 1515915625498270976), (14820, 1515915625508348416), (14821, 1515915625508342016), (14822, 1515915625508653568), (14823, 1515915625508352000), (14824, 1515915625447068416), (14825, 1515915625442013696), (14826, 1515915625508363520), (14827, 1515915625498300160), (14828, 1515915625498216960), (14829, 1515915625498224384), (14830, 1515915625508369664), (14831, 1515915625508368640), (14832, 1515915625504462336), (14833, 1515915625474531584), (14834, 1515915625463040512), (14835, 1515915625498198272), (14836, 1515915625498287616), (14837, 1515915625505487360), (14838, 1515915625513726208), (14839, 1515915625498186496), (14840, 1515915625508176384), (14841, 1515915625498231296), (14842, 1515915625478391296), (14843, 1515915625446157312), (14844, 1515915625457623296), (14845, 1515915625498260480), (14846, 1515915625467131392), (14847, 1515915625480728576), (14848, 1515915625498177280), (14849, 1515915625452008448), (14850, 1515915625494201600), (14851, 1515915625498173184), (14852, 1515915625498997504), (14853, 1515915625508469760), (14854, 1515915625507437056), (14855, 1515915625475655168), (14856, 1515915625508449792), (14857, 1515915625506482432), (14858, 1515915625470450432), (14859, 1515915625498328832), (14860, 1515915625511662592), (14861, 1515915625477657344), (14862, 1515915625508517376), (14863, 1515915625508538112), (14864, 1515915625508582656), (14865, 1515915625508640512), (14866, 1515915625465534464), (14867, 1515915625512673024), (14868, 1515915625444884736), (14869, 1515915625474778880), (14870, 1515915625508675584), (14871, 1515915625508549888), (14872, 1515915625498982400), (14873, 1515915625498333184), (14874, 1515915625456791296), (14875, 1515915625509035008), (14876, 1515915625498200064), (14877, 1515915625498246912), (14878, 1515915625508711936), (14879, 1515915625509034752), (14880, 1515915625508713984), (14881, 1515915625498170880), (14882, 1515915625475057920), (14883, 1515915625508725504), (14884, 1515915625508724992), (14885, 1515915625504210176), (14886, 1515915625508514560), (14887, 1515915625498169344), (14888, 1515915625498341120), (14889, 1515915625452591104), (14890, 1515915625472436736), (14891, 1515915625498305792), (14892, 1515915625498326784), (14893, 1515915625441497600), (14894, 1515915625498199040), (14895, 1515915625442298112), (14896, 1515915625508463872), (14897, 1515915625498188288), (14898, 1515915625498250752), (14899, 1515915625508790272), (14900, 1515915625498277888), (14901, 1515915625512045056), (14902, 1515915625508161280), (14903, 1515915625508978432), (14904, 1515915625498295040), (14905, 1515915625498183424), (14906, 1515915625463525632), (14907, 1515915625445022464), (14908, 1515915625498342400), (14909, 1515915625475928320), (14910, 1515915625498269696), (14911, 1515915625458033920), (14912, 1515915625441885696), (14913, 1515915625508921856), (14914, 1515915625498354688), (14915, 1515915625458964224), (14916, 1515915625508951552), (14917, 1515915625443577344), (14918, 1515915625463659520), (14919, 1515915625509411072), (14920, 1515915625509410560), (14921, 1515915625508940288), (14922, 1515915625508757504), (14923, 1515915625448156160), (14924, 1515915625508408832), (14925, 1515915625509222912), (14926, 1515915625466264832), (14927, 1515915625498193408), (14928, 1515915625473026048), (14929, 1515915625508955392), (14930, 1515915625459939072), (14931, 1515915625509114880), (14932, 1515915625498180352), (14933, 1515915625498323968), (14934, 1515915625511663360), (14935, 1515915625506077440), (14936, 1515915625498301440), (14937, 1515915625506014976), (14938, 1515915625485737984), (14939, 1515915625498259968), (14940, 1515915625498174208), (14941, 1515915625509410304), (14942, 1515915625496304384), (14943, 1515915625498300672), (14944, 1515915625490815744), (14945, 1515915625506147840), (14946, 1515915625509185792), (14947, 1515915625507731200), (14948, 1515915625493747968), (14949, 1515915625465844736), (14950, 1515915625512926720), (14951, 1515915625481084928), (14952, 1515915625509175040), (14953, 1515915625509309952), (14954, 1515915625453318144), (14955, 1515915625509234432), (14956, 1515915625498353664), (14957, 1515915625509217792), (14958, 1515915625498239744), (14959, 1515915625448659712), (14960, 1515915625509246464), (14961, 1515915625513114368), (14962, 1515915625498352128), (14963, 1515915625498311680), (14964, 1515915625478217984), (14965, 1515915625509303552), (14966, 1515915625508719616), (14967, 1515915625509190400), (14968, 1515915625509370112), (14969, 1515915625509377792), (14970, 1515915625507100160), (14971, 1515915625509392896), (14972, 1515915625466229504), (14973, 1515915625510397184), (14974, 1515915625481714688), (14975, 1515915625509758208), (14976, 1515915625508412160), (14977, 1515915625498291968), (14978, 1515915625509758720), (14979, 1515915625509279488), (14980, 1515915625510723072), (14981, 1515915625509623296), (14982, 1515915625441295616), (14983, 1515915625498195968), (14984, 1515915625474938368), (14985, 1515915625498267136), (14986, 1515915625506767872), (14987, 1515915625498284544), (14988, 1515915625498229248), (14989, 1515915625498295552), (14990, 1515915625498296832), (14991, 1515915625479603456), (14992, 1515915625509542144), (14993, 1515915625498340352), (14994, 1515915625459928064), (14995, 1515915625498294016), (14996, 1515915625472531456), (14997, 1515915625497267712), (14998, 1515915625505878016), (14999, 1515915625509581568), (15000, 1515915625492048640), (15001, 1515915625510859520), (15002, 1515915625469243136), (15003, 1515915625498352640), (15004, 1515915625507417344), (15005, 1515915625509585664), (15006, 1515915625508461312), (15007, 1515915625508838912), (15008, 1515915625484178432), (15009, 1515915625509590272), (15010, 1515915625475236608), (15011, 1515915625509624576), (15012, 1515915625498327296), (15013, 1515915625498184704), (15014, 1515915625509641728), (15015, 1515915625498218496), (15016, 1515915625509663232), (15017, 1515915625481505280), (15018, 1515915625443608832), (15019, 1515915625509587200), (15020, 1515915625470898176), (15021, 1515915625509780224), (15022, 1515915625509781248), (15023, 1515915625508084224), (15024, 1515915625509516032), (15025, 1515915625513239040), (15026, 1515915625511301376), (15027, 1515915625507164672), (15028, 1515915625509799936), (15029, 1515915625509804544), (15030, 1515915625509437440), (15031, 1515915625508121600), (15032, 1515915625508019968), (15033, 1515915625442792192), (15034, 1515915625509305856), (15035, 1515915625509806848), (15036, 1515915625510746880), (15037, 1515915625509780992), (15038, 1515915625507779072), (15039, 1515915625508951296), (15040, 1515915625508361472), (15041, 1515915625509843456), (15042, 1515915625509838336), (15043, 1515915625509775616), (15044, 1515915625472696064), (15045, 1515915625512018176), (15046, 1515915625509580288), (15047, 1515915625509920000), (15048, 1515915625509937664), (15049, 1515915625509898496), (15050, 1515915625509938688), (15051, 1515915625509934336), (15052, 1515915625509951232), (15053, 1515915625506354432), (15054, 1515915625512778752), (15055, 1515915625509064704), (15056, 1515915625510004224), (15057, 1515915625509993216), (15058, 1515915625510824448), (15059, 1515915625458379008), (15060, 1515915625510117888), (15061, 1515915625510027008), (15062, 1515915625510124544), (15063, 1515915625475599872), (15064, 1515915625509953536), (15065, 1515915625448471808), (15066, 1515915625509609216), (15067, 1515915625459436032), (15068, 1515915625510150144), (15069, 1515915625510152192), (15070, 1515915625510131968), (15071, 1515915625509500160), (15072, 1515915625506330112), (15073, 1515915625498310400), (15074, 1515915625510198784), (15075, 1515915625507592192), (15076, 1515915625446980608), (15077, 1515915625510200320), (15078, 1515915625510210304), (15079, 1515915625510194432), (15080, 1515915625510200576), (15081, 1515915625468551168), (15082, 1515915625509695232), (15083, 1515915625510221056), (15084, 1515915625446969088), (15085, 1515915625504868096), (15086, 1515915625510166016), (15087, 1515915625444974336), (15088, 1515915625463390464), (15089, 1515915625510261248), (15090, 1515915625498251776), (15091, 1515915625510263296), (15092, 1515915625446252800), (15093, 1515915625510206720), (15094, 1515915625510283520), (15095, 1515915625511434240), (15096, 1515915625492465920), (15097, 1515915625485323776), (15098, 1515915625506983936), (15099, 1515915625479437312), (15100, 1515915625460185088), (15101, 1515915625460243456), (15102, 1515915625441044224), (15103, 1515915625498303744), (15104, 1515915625493778688), (15105, 1515915625512668416), (15106, 1515915625479675392), (15107, 1515915625447795712), (15108, 1515915625498926080), (15109, 1515915625510371840), (15110, 1515915625508966144), (15111, 1515915625505861376), (15112, 1515915625512673280), (15113, 1515915625510399488), (15114, 1515915625511372032), (15115, 1515915625510433792), (15116, 1515915625510722304), (15117, 1515915625498311168), (15118, 1515915625508933376), (15119, 1515915625510441728), (15120, 1515915625512669696), (15121, 1515915625510440448), (15122, 1515915625510017024), (15123, 1515915625443148288), (15124, 1515915625445585408), (15125, 1515915625509814272), (15126, 1515915625510460416), (15127, 1515915625498243584), (15128, 1515915625498309888), (15129, 1515915625507834368), (15130, 1515915625510478336), (15131, 1515915625443318528), (15132, 1515915625510497024), (15133, 1515915625510721536), (15134, 1515915625510505984), (15135, 1515915625510508288), (15136, 1515915625452808704), (15137, 1515915625510490112), (15138, 1515915625510517248), (15139, 1515915625464834816), (15140, 1515915625508134912), (15141, 1515915625510534912), (15142, 1515915625464473344), (15143, 1515915625498211072), (15144, 1515915625510576640), (15145, 1515915625451392768), (15146, 1515915625510124032), (15147, 1515915625504725760), (15148, 1515915625498289152), (15149, 1515915625510580992), (15150, 1515915625510586624), (15151, 1515915625513419520), (15152, 1515915625510589696), (15153, 1515915625475913728), (15154, 1515915625510547712), (15155, 1515915625498313472), (15156, 1515915625441167616), (15157, 1515915625510597376), (15158, 1515915625473842944), (15159, 1515915625510535936), (15160, 1515915625510225920), (15161, 1515915625510622464), (15162, 1515915625498342912), (15163, 1515915625467732480), (15164, 1515915625506999040), (15165, 1515915625442554112), (15166, 1515915625510823936), (15167, 1515915625498326016), (15168, 1515915625512541696), (15169, 1515915625449762560), (15170, 1515915625498311936), (15171, 1515915625481212416), (15172, 1515915625449355776), (15173, 1515915625506189056), (15174, 1515915625466882560), (15175, 1515915625509776128), (15176, 1515915625510772992), (15177, 1515915625510810880), (15178, 1515915625447682560), (15179, 1515915625498330112), (15180, 1515915625498228224), (15181, 1515915625511994880), (15182, 1515915625510792960), (15183, 1515915625498254848), (15184, 1515915625505656832), (15185, 1515915625510793728), (15186, 1515915625455941120), (15187, 1515915625510793984), (15188, 1515915625510794240), (15189, 1515915625510792704), (15190, 1515915625510795520), (15191, 1515915625510795776), (15192, 1515915625510796288), (15193, 1515915625510796544), (15194, 1515915625510797056), (15195, 1515915625510798080), (15196, 1515915625510797824), (15197, 1515915625510766080), (15198, 1515915625508322304), (15199, 1515915625510799104), (15200, 1515915625510799872), (15201, 1515915625510798336), (15202, 1515915625464856320), (15203, 1515915625510800384), (15204, 1515915625510802432), (15205, 1515915625510802688), (15206, 1515915625495325696), (15207, 1515915625510804480), (15208, 1515915625478299904), (15209, 1515915625456453120), (15210, 1515915625498223872), (15211, 1515915625506782976), (15212, 1515915625510806272), (15213, 1515915625510807552), (15214, 1515915625494535936), (15215, 1515915625509394432), (15216, 1515915625510810112), (15217, 1515915625510796032), (15218, 1515915625510812672), (15219, 1515915625510814464), (15220, 1515915625492777984), (15221, 1515915625510814976), (15222, 1515915625510815232), (15223, 1515915625510816768), (15224, 1515915625510818048), (15225, 1515915625498297344), (15226, 1515915625510820352), (15227, 1515915625510826496), (15228, 1515915625511505152), (15229, 1515915625510831104), (15230, 1515915625510822144), (15231, 1515915625507871744), (15232, 1515915625510821888), (15233, 1515915625510822656), (15234, 1515915625507892736), (15235, 1515915625510859264), (15236, 1515915625510824704), (15237, 1515915625510825216), (15238, 1515915625510826240), (15239, 1515915625510823424), (15240, 1515915625510827520), (15241, 1515915625510828800), (15242, 1515915625510828544), (15243, 1515915625510820096), (15244, 1515915625482440960), (15245, 1515915625510434560), (15246, 1515915625506783488), (15247, 1515915625510832384), (15248, 1515915625508180736), (15249, 1515915625447878656), (15250, 1515915625460237568), (15251, 1515915625471151616), (15252, 1515915625483709440), (15253, 1515915625510833920), (15254, 1515915625510831616), (15255, 1515915625510831360), (15256, 1515915625485081856), (15257, 1515915625510834688), (15258, 1515915625474774784), (15259, 1515915625510836992), (15260, 1515915625510836224), (15261, 1515915625507333120), (15262, 1515915625510801920), (15263, 1515915625510837504), (15264, 1515915625457457920), (15265, 1515915625510837248), (15266, 1515915625510837760), (15267, 1515915625510838272), (15268, 1515915625510839296), (15269, 1515915625485330176), (15270, 1515915625510804992), (15271, 1515915625510840064), (15272, 1515915625510840832), (15273, 1515915625480338432), (15274, 1515915625510841856), (15275, 1515915625510842368), (15276, 1515915625511666176), (15277, 1515915625510801664), (15278, 1515915625510842880), (15279, 1515915625510843136), (15280, 1515915625445778688), (15281, 1515915625510844160), (15282, 1515915625510843648), (15283, 1515915625510845952), (15284, 1515915625509943296), (15285, 1515915625510845184), (15286, 1515915625510845696), (15287, 1515915625498309376), (15288, 1515915625510846720), (15289, 1515915625510846976), (15290, 1515915625498273792), (15291, 1515915625512554496), (15292, 1515915625510855680), (15293, 1515915625498239488), (15294, 1515915625510849792), (15295, 1515915625510851840), (15296, 1515915625510853120), (15297, 1515915625510854656), (15298, 1515915625510854400), (15299, 1515915625510858240), (15300, 1515915625498260992), (15301, 1515915625441039104), (15302, 1515915625510855936), (15303, 1515915625462894848), (15304, 1515915625510861056), (15305, 1515915625510856192), (15306, 1515915625510865408), (15307, 1515915625510865152), (15308, 1515915625510976512), (15309, 1515915625462503424), (15310, 1515915625498281472), (15311, 1515915625510867200), (15312, 1515915625510838016), (15313, 1515915625468986112), (15314, 1515915625510868480), (15315, 1515915625448804864), (15316, 1515915625498337536), (15317, 1515915625480789248), (15318, 1515915625510869248), (15319, 1515915625510869760), (15320, 1515915625510869504), (15321, 1515915625510829056), (15322, 1515915625510871040), (15323, 1515915625498269440), (15324, 1515915625510875648), (15325, 1515915625510865920), (15326, 1515915625510872576), (15327, 1515915625504463104), (15328, 1515915625481378304), (15329, 1515915625510873600), (15330, 1515915625510864640), (15331, 1515915625510874368), (15332, 1515915625510874112), (15333, 1515915625492011008), (15334, 1515915625510876416), (15335, 1515915625450658816), (15336, 1515915625510877696), (15337, 1515915625510877184), (15338, 1515915625473998848), (15339, 1515915625510875904), (15340, 1515915625510879232), (15341, 1515915625510890496), (15342, 1515915625449547520), (15343, 1515915625510878720), (15344, 1515915625510881024), (15345, 1515915625510866688), (15346, 1515915625473009664), (15347, 1515915625479509504), (15348, 1515915625510870784), (15349, 1515915625441986560), (15350, 1515915625510844928), (15351, 1515915625468403200), (15352, 1515915625510883840), (15353, 1515915625498563072), (15354, 1515915625510884352), (15355, 1515915625498989056), (15356, 1515915625510884608), (15357, 1515915625510886400), (15358, 1515915625456666112), (15359, 1515915625510828288), (15360, 1515915625510888192), (15361, 1515915625510887936), (15362, 1515915625510888704), (15363, 1515915625510890752), (15364, 1515915625510891264), (15365, 1515915625510891776), (15366, 1515915625482947840), (15367, 1515915625510853888), (15368, 1515915625510892288), (15369, 1515915625441881088), (15370, 1515915625510899200), (15371, 1515915625510900480), (15372, 1515915625510900992), (15373, 1515915625480889088), (15374, 1515915625510903296), (15375, 1515915625510937856), (15376, 1515915625510896640), (15377, 1515915625509611008), (15378, 1515915625510905600), (15379, 1515915625485206016), (15380, 1515915625510906112), (15381, 1515915625510906624), (15382, 1515915625510907136), (15383, 1515915625510908928), (15384, 1515915625510908416), (15385, 1515915625446053888), (15386, 1515915625510833152), (15387, 1515915625510908160), (15388, 1515915625510910464), (15389, 1515915625509304576), (15390, 1515915625460069120), (15391, 1515915625506471680), (15392, 1515915625510902272), (15393, 1515915625509680896), (15394, 1515915625510912000), (15395, 1515915625510863360), (15396, 1515915625510912768), (15397, 1515915625510912512), (15398, 1515915625510913024), (15399, 1515915625510932224), (15400, 1515915625510913792), (15401, 1515915625479419904), (15402, 1515915625510915072), (15403, 1515915625493756160), (15404, 1515915625510915328), (15405, 1515915625510915584), (15406, 1515915625510912256), (15407, 1515915625512666112), (15408, 1515915625510917376), (15409, 1515915625511289344), (15410, 1515915625443227392), (15411, 1515915625510917632), (15412, 1515915625510885632), (15413, 1515915625510918400), (15414, 1515915625510919424), (15415, 1515915625498215168), (15416, 1515915625441880832), (15417, 1515915625498317056), (15418, 1515915625510883328), (15419, 1515915625510919680), (15420, 1515915625510885376), (15421, 1515915625461422592), (15422, 1515915625463032320), (15423, 1515915625443484928), (15424, 1515915625448603648), (15425, 1515915625485152256), (15426, 1515915625510921728), (15427, 1515915625510921472), (15428, 1515915625510923008), (15429, 1515915625510924544), (15430, 1515915625510924800), (15431, 1515915625510925056), (15432, 1515915625510921984), (15433, 1515915625451649792), (15434, 1515915625510918144), (15435, 1515915625510927360), (15436, 1515915625510927872), (15437, 1515915625498987520), (15438, 1515915625510926848), (15439, 1515915625510928384), (15440, 1515915625510928640), (15441, 1515915625510930432), (15442, 1515915625510931200), (15443, 1515915625505767936), (15444, 1515915625510931712), (15445, 1515915625510932480), (15446, 1515915625510934016), (15447, 1515915625510936320), (15448, 1515915625510923776), (15449, 1515915625510941952), (15450, 1515915625510937344), (15451, 1515915625507745792), (15452, 1515915625510942464), (15453, 1515915625510943488), (15454, 1515915625510942208), (15455, 1515915625510944512), (15456, 1515915625510945024), (15457, 1515915625510919936), (15458, 1515915625510293760), (15459, 1515915625510945536), (15460, 1515915625510930944), (15461, 1515915625510905088), (15462, 1515915625510945792), (15463, 1515915625510946304), (15464, 1515915625510947328), (15465, 1515915625510946816), (15466, 1515915625510948608), (15467, 1515915625510948864), (15468, 1515915625464210688), (15469, 1515915625514586112), (15470, 1515915625510949120), (15471, 1515915625510949888), (15472, 1515915625510718464), (15473, 1515915625510952192), (15474, 1515915625510952448), (15475, 1515915625510951424), (15476, 1515915625510952960), (15477, 1515915625510925568), (15478, 1515915625510257152), (15479, 1515915625510954496), (15480, 1515915625507412992), (15481, 1515915625510955264), (15482, 1515915625449183232), (15483, 1515915625510920704), (15484, 1515915625510956032), (15485, 1515915625472265216), (15486, 1515915625443278336), (15487, 1515915625510957056), (15488, 1515915625510957824), (15489, 1515915625510950656), (15490, 1515915625510958336), (15491, 1515915625510958080), (15492, 1515915625510851328), (15493, 1515915625510959616), (15494, 1515915625510958848), (15495, 1515915625510959104), (15496, 1515915625446489600), (15497, 1515915625510960128), (15498, 1515915625510926336), (15499, 1515915625510961152), (15500, 1515915625510959360), (15501, 1515915625442661888), (15502, 1515915625510962944), (15503, 1515915625510963712), (15504, 1515915625510964480), (15505, 1515915625510965760), (15506, 1515915625510966784), (15507, 1515915625510967808), (15508, 1515915625510868992), (15509, 1515915625496350720), (15510, 1515915625510965504), (15511, 1515915625510978560), (15512, 1515915625510983424), (15513, 1515915625510997760), (15514, 1515915625474970368), (15515, 1515915625510952704), (15516, 1515915625510986240), (15517, 1515915625449734400), (15518, 1515915625510986496), (15519, 1515915625511015424), (15520, 1515915625510988288), (15521, 1515915625510987776), (15522, 1515915625510988800), (15523, 1515915625510987264), (15524, 1515915625510989312), (15525, 1515915625506007808), (15526, 1515915625510989824), (15527, 1515915625510990336), (15528, 1515915625481281792), (15529, 1515915625441733888), (15530, 1515915625510990592), (15531, 1515915625440962560), (15532, 1515915625510994688), (15533, 1515915625498184448), (15534, 1515915625510993152), (15535, 1515915625510995456), (15536, 1515915625507879424), (15537, 1515915625510995200), (15538, 1515915625510996736), (15539, 1515915625510997248), (15540, 1515915625510999040), (15541, 1515915625511000064), (15542, 1515915625511003136), (15543, 1515915625511003392), (15544, 1515915625511004416), (15545, 1515915625511001856), (15546, 1515915625511008000), (15547, 1515915625510999296), (15548, 1515915625511008256), (15549, 1515915625511009280), (15550, 1515915625511010304), (15551, 1515915625458624768), (15552, 1515915625511463680), (15553, 1515915625511014656), (15554, 1515915625511011072), (15555, 1515915625511019264), (15556, 1515915625511021312), (15557, 1515915625511024384), (15558, 1515915625511025152), (15559, 1515915625512679680), (15560, 1515915625474357504), (15561, 1515915625511020032), (15562, 1515915625510946560), (15563, 1515915625468768256), (15564, 1515915625511026432), (15565, 1515915625511108864), (15566, 1515915625511027456), (15567, 1515915625504867840), (15568, 1515915625466478592), (15569, 1515915625511029248), (15570, 1515915625511029504), (15571, 1515915625511030528), (15572, 1515915625511028736), (15573, 1515915625511030784), (15574, 1515915625486148864), (15575, 1515915625511031552), (15576, 1515915625511031808), (15577, 1515915625511032064), (15578, 1515915625511032832), (15579, 1515915625510969600), (15580, 1515915625511020288), (15581, 1515915625459902464), (15582, 1515915625443921664), (15583, 1515915625442482688), (15584, 1515915625511034624), (15585, 1515915625511327232), (15586, 1515915625511035136), (15587, 1515915625498325760), (15588, 1515915625511037696), (15589, 1515915625460427776), (15590, 1515915625471193344), (15591, 1515915625511040000), (15592, 1515915625510947840), (15593, 1515915625511041536), (15594, 1515915625511040512), (15595, 1515915625511042304), (15596, 1515915625511041024), (15597, 1515915625511042816), (15598, 1515915625511043072), (15599, 1515915625511038720), (15600, 1515915625511043840), (15601, 1515915625511043584), (15602, 1515915625511045120), (15603, 1515915625511042560), (15604, 1515915625498245120), (15605, 1515915625511033600), (15606, 1515915625511047168), (15607, 1515915625478352384), (15608, 1515915625511048192), (15609, 1515915625510494464), (15610, 1515915625511051008), (15611, 1515915625511050240), (15612, 1515915625511051520), (15613, 1515915625511051264), (15614, 1515915625511051776), (15615, 1515915625443177728), (15616, 1515915625511052800), (15617, 1515915625497554944), (15618, 1515915625511056384), (15619, 1515915625509132288), (15620, 1515915625511058944), (15621, 1515915625511026944), (15622, 1515915625511059200), (15623, 1515915625511061504), (15624, 1515915625511159296), (15625, 1515915625511070208), (15626, 1515915625442962688), (15627, 1515915625511046144), (15628, 1515915625442513664), (15629, 1515915625511064064), (15630, 1515915625511064832), (15631, 1515915625511065856), (15632, 1515915625462535680), (15633, 1515915625511010816), (15634, 1515915625498507520), (15635, 1515915625498287872), (15636, 1515915625486321152), (15637, 1515915625442769408), (15638, 1515915625511068672), (15639, 1515915625511059456), (15640, 1515915625465795584), (15641, 1515915625495659008), (15642, 1515915625511069440), (15643, 1515915625510101760), (15644, 1515915625497232640), (15645, 1515915625511070976), (15646, 1515915625481045504), (15647, 1515915625511071488), (15648, 1515915625456102144), (15649, 1515915625498196224), (15650, 1515915625511074560), (15651, 1515915625448753408), (15652, 1515915625511074816), (15653, 1515915625511076352), (15654, 1515915625512667392), (15655, 1515915625511069952), (15656, 1515915625511075072), (15657, 1515915625510183424), (15658, 1515915625455373568), (15659, 1515915625508036352), (15660, 1515915625511078400), (15661, 1515915625511078912), (15662, 1515915625451138816), (15663, 1515915625509332992), (15664, 1515915625483047168), (15665, 1515915625464457728), (15666, 1515915625511289088), (15667, 1515915625511081728), (15668, 1515915625441660416), (15669, 1515915625511088896), (15670, 1515915625511089664), (15671, 1515915625511089920), (15672, 1515915625462174976), (15673, 1515915625511091456), (15674, 1515915625452638720), (15675, 1515915625511070464), (15676, 1515915625465781504), (15677, 1515915625511091712), (15678, 1515915625443073792), (15679, 1515915625511095808), (15680, 1515915625511093504), (15681, 1515915625505805056), (15682, 1515915625511097856), (15683, 1515915625511098112), (15684, 1515915625511096064), (15685, 1515915625511099648), (15686, 1515915625511103488), (15687, 1515915625512665344), (15688, 1515915625511106304), (15689, 1515915625511105792), (15690, 1515915625511991808), (15691, 1515915625511111168), (15692, 1515915625483379200), (15693, 1515915625511362560), (15694, 1515915625444562688), (15695, 1515915625511111424), (15696, 1515915625511112960), (15697, 1515915625511111936), (15698, 1515915625511056128), (15699, 1515915625509240832), (15700, 1515915625511113216), (15701, 1515915625511114240), (15702, 1515915625511159040), (15703, 1515915625511115776), (15704, 1515915625496474624), (15705, 1515915625511115008), (15706, 1515915625503930880), (15707, 1515915625498291456), (15708, 1515915625511082752), (15709, 1515915625498337792), (15710, 1515915625504946688), (15711, 1515915625454554624), (15712, 1515915625511124992), (15713, 1515915625511125504), (15714, 1515915625449166080), (15715, 1515915625454641408), (15716, 1515915625468646400), (15717, 1515915625479947776), (15718, 1515915625464795392), (15719, 1515915625511150080), (15720, 1515915625470709760), (15721, 1515915625511130624), (15722, 1515915625443974912), (15723, 1515915625511130368), (15724, 1515915625444791040), (15725, 1515915625498249728), (15726, 1515915625511131136), (15727, 1515915625443127552), (15728, 1515915625511137280), (15729, 1515915625511136768), (15730, 1515915625511141888), (15731, 1515915625511138304), (15732, 1515915625496967936), (15733, 1515915625511140608), (15734, 1515915625511142656), (15735, 1515915625511143680), (15736, 1515915625470524672), (15737, 1515915625511094528), (15738, 1515915625510863872), (15739, 1515915625511149056), (15740, 1515915625446142208), (15741, 1515915625461170432), (15742, 1515915625511150848), (15743, 1515915625508452864), (15744, 1515915625511229184), (15745, 1515915625511155968), (15746, 1515915625511157760), (15747, 1515915625511145728), (15748, 1515915625511165184), (15749, 1515915625511068416), (15750, 1515915625511161600), (15751, 1515915625511116800), (15752, 1515915625511163392), (15753, 1515915625511215616), (15754, 1515915625511162624), (15755, 1515915625511134464), (15756, 1515915625511163904), (15757, 1515915625511164672), (15758, 1515915625500848128), (15759, 1515915625511164928), (15760, 1515915625511145216), (15761, 1515915625511164416), (15762, 1515915625511165696), (15763, 1515915625511215104), (15764, 1515915625511186176), (15765, 1515915625511168256), (15766, 1515915625511166976), (15767, 1515915625511169792), (15768, 1515915625511170048), (15769, 1515915625511043328), (15770, 1515915625511172608), (15771, 1515915625511173120), (15772, 1515915625511167488), (15773, 1515915625509159168), (15774, 1515915625511174400), (15775, 1515915625511330304), (15776, 1515915625511179008), (15777, 1515915625511176704), (15778, 1515915625507689472), (15779, 1515915625498266624), (15780, 1515915625455254016), (15781, 1515915625511180800), (15782, 1515915625511181824), (15783, 1515915625449321728), (15784, 1515915625511182336), (15785, 1515915625511182848), (15786, 1515915625511174656), (15787, 1515915625511077888), (15788, 1515915625460916480), (15789, 1515915625511156224), (15790, 1515915625511181568), (15791, 1515915625455038464), (15792, 1515915625498236416), (15793, 1515915625511065600), (15794, 1515915625511185408), (15795, 1515915625470077952), (15796, 1515915625511186432), (15797, 1515915625498277632), (15798, 1515915625511184640), (15799, 1515915625511187968), (15800, 1515915625511188224), (15801, 1515915625511187456), (15802, 1515915625511186944), (15803, 1515915625510812160), (15804, 1515915625511190016), (15805, 1515915625511189760), (15806, 1515915625511334912), (15807, 1515915625511190784), (15808, 1515915625511138560), (15809, 1515915625511138048), (15810, 1515915625511193856), (15811, 1515915625511194112), (15812, 1515915625511151872), (15813, 1515915625511196672), (15814, 1515915625511197440), (15815, 1515915625511198464), (15816, 1515915625511201536), (15817, 1515915625442624512), (15818, 1515915625511330048), (15819, 1515915625511177728), (15820, 1515915625511207424), (15821, 1515915625511207936), (15822, 1515915625511208192), (15823, 1515915625511208960), (15824, 1515915625511210240), (15825, 1515915625511212032), (15826, 1515915625505795328), (15827, 1515915625511329792), (15828, 1515915625511232512), (15829, 1515915625511216896), (15830, 1515915625497798144), (15831, 1515915625498289920), (15832, 1515915625511226880), (15833, 1515915625511218944), (15834, 1515915625511210752), (15835, 1515915625510251008), (15836, 1515915625511231232), (15837, 1515915625511219968), (15838, 1515915625511193088), (15839, 1515915625510998272), (15840, 1515915625511221248), (15841, 1515915625494372352), (15842, 1515915625452457216), (15843, 1515915625511222272), (15844, 1515915625511217408), (15845, 1515915625511222784), (15846, 1515915625499606272), (15847, 1515915625511224832), (15848, 1515915625511226368), (15849, 1515915625511227392), (15850, 1515915625498233088), (15851, 1515915625511227904), (15852, 1515915625511230208), (15853, 1515915625475918592), (15854, 1515915625511250944), (15855, 1515915625442753792), (15856, 1515915625511226624), (15857, 1515915625511229696), (15858, 1515915625511224064), (15859, 1515915625511240704), (15860, 1515915625512054528), (15861, 1515915625441349888), (15862, 1515915625442189568), (15863, 1515915625511232000), (15864, 1515915625511266304), (15865, 1515915625511233024), (15866, 1515915625511234560), (15867, 1515915625511185664), (15868, 1515915625511305728), (15869, 1515915625511235072), (15870, 1515915625511235328), (15871, 1515915625511235584), (15872, 1515915625498231552), (15873, 1515915625481222400), (15874, 1515915625511234816), (15875, 1515915625511236608), (15876, 1515915625493678848), (15877, 1515915625514152192), (15878, 1515915625506992384), (15879, 1515915625511239424), (15880, 1515915625459204352), (15881, 1515915625511236352), (15882, 1515915625511239680), (15883, 1515915625511241472), (15884, 1515915625511241728), (15885, 1515915625511184384), (15886, 1515915625511237376), (15887, 1515915625511242240), (15888, 1515915625511243008), (15889, 1515915625513993984), (15890, 1515915625511244288), (15891, 1515915625511445248), (15892, 1515915625511245056), (15893, 1515915625444760064), (15894, 1515915625511247360), (15895, 1515915625511249664), (15896, 1515915625511259136), (15897, 1515915625511253504), (15898, 1515915625511255552), (15899, 1515915625511244544), (15900, 1515915625511257600), (15901, 1515915625511258112), (15902, 1515915625511258880), (15903, 1515915625511260672), (15904, 1515915625511260160), (15905, 1515915625511261184), (15906, 1515915625511261440), (15907, 1515915625511261952), (15908, 1515915625511066880), (15909, 1515915625511262464), (15910, 1515915625511263232), (15911, 1515915625511256320), (15912, 1515915625511262720), (15913, 1515915625511264512), (15914, 1515915625511264256), (15915, 1515915625511256064), (15916, 1515915625511211776), (15917, 1515915625511265536), (15918, 1515915625511265792), (15919, 1515915625511226112), (15920, 1515915625511267328), (15921, 1515915625511146496), (15922, 1515915625511238656), (15923, 1515915625511267840), (15924, 1515915625511268096), (15925, 1515915625511268352), (15926, 1515915625511269376), (15927, 1515915625511269120), (15928, 1515915625511479552), (15929, 1515915625511270144), (15930, 1515915625511263488), (15931, 1515915625511266048), (15932, 1515915625511270400), (15933, 1515915625511271168), (15934, 1515915625511271936), (15935, 1515915625511273728), (15936, 1515915625512219136), (15937, 1515915625508776448), (15938, 1515915625511235840), (15939, 1515915625449787648), (15940, 1515915625511275264), (15941, 1515915625506853632), (15942, 1515915625513726976), (15943, 1515915625511274240), (15944, 1515915625511276800), (15945, 1515915625511277056), (15946, 1515915625511277312), (15947, 1515915625511277824), (15948, 1515915625511278080), (15949, 1515915625511278592), (15950, 1515915625497703936), (15951, 1515915625511281152), (15952, 1515915625510483456), (15953, 1515915625511282176), (15954, 1515915625475613440), (15955, 1515915625511283712), (15956, 1515915625511286784), (15957, 1515915625444328448), (15958, 1515915625511287296), (15959, 1515915625511286272), (15960, 1515915625511290112), (15961, 1515915625452435200), (15962, 1515915625511293696), (15963, 1515915625511294464), (15964, 1515915625511294208), (15965, 1515915625511294976), (15966, 1515915625511179520), (15967, 1515915625511296000), (15968, 1515915625513443328), (15969, 1515915625511297280), (15970, 1515915625511299072), (15971, 1515915625453472256), (15972, 1515915625477896192), (15973, 1515915625493175808), (15974, 1515915625511158784), (15975, 1515915625492052736), (15976, 1515915625511303168), (15977, 1515915625511303936), (15978, 1515915625445528576), (15979, 1515915625511305984), (15980, 1515915625511306240), (15981, 1515915625511293184), (15982, 1515915625511306496), (15983, 1515915625511283200), (15984, 1515915625511307008), (15985, 1515915625511307776), (15986, 1515915625511304192), (15987, 1515915625511309568), (15988, 1515915625511309824), (15989, 1515915625485767168), (15990, 1515915625511310080), (15991, 1515915625511312896), (15992, 1515915625511310592), (15993, 1515915625509666560), (15994, 1515915625511311872), (15995, 1515915625505156864), (15996, 1515915625511314688), (15997, 1515915625478403328), (15998, 1515915625511314944), (15999, 1515915625444013312), (16000, 1515915625511318016), (16001, 1515915625511318784), (16002, 1515915625511318272), (16003, 1515915625511312128), (16004, 1515915625511319296), (16005, 1515915625511320832), (16006, 1515915625511322880), (16007, 1515915625498327040), (16008, 1515915625511328768), (16009, 1515915625511331072), (16010, 1515915625511371776), (16011, 1515915625511331584), (16012, 1515915625511333120), (16013, 1515915625511332864), (16014, 1515915625511334144), (16015, 1515915625511334656), (16016, 1515915625511334400), (16017, 1515915625511336192), (16018, 1515915625469517056), (16019, 1515915625505664000), (16020, 1515915625511336704), (16021, 1515915625511337216), (16022, 1515915625511337728), (16023, 1515915625511338752), (16024, 1515915625511339776), (16025, 1515915625511339520), (16026, 1515915625511340544), (16027, 1515915625468602112), (16028, 1515915625511346944), (16029, 1515915625444864000), (16030, 1515915625511342336), (16031, 1515915625511361280), (16032, 1515915625446295808), (16033, 1515915625511343616), (16034, 1515915625511343104), (16035, 1515915625494611200), (16036, 1515915625511311616), (16037, 1515915625511344128), (16038, 1515915625511346688), (16039, 1515915625511347968), (16040, 1515915625511347200), (16041, 1515915625511348480), (16042, 1515915625511348736), (16043, 1515915625445675520), (16044, 1515915625511349760), (16045, 1515915625460723968), (16046, 1515915625511350272), (16047, 1515915625511343872), (16048, 1515915625442093056), (16049, 1515915625511349248), (16050, 1515915625511351808), (16051, 1515915625511354368), (16052, 1515915625511354112), (16053, 1515915625511337984), (16054, 1515915625511356672), (16055, 1515915625448640000), (16056, 1515915625511358208), (16057, 1515915625509318912), (16058, 1515915625511359488), (16059, 1515915625500201984), (16060, 1515915625512171264), (16061, 1515915625472794880), (16062, 1515915625511362048), (16063, 1515915625511350016), (16064, 1515915625511363072), (16065, 1515915625511363584), (16066, 1515915625511356928), (16067, 1515915625511364864), (16068, 1515915625511365376), (16069, 1515915625451832832), (16070, 1515915625511367936), (16071, 1515915625511369984), (16072, 1515915625511370496), (16073, 1515915625511371008), (16074, 1515915625511371264), (16075, 1515915625508705024), (16076, 1515915625511373824), (16077, 1515915625511373568), (16078, 1515915625511374592), (16079, 1515915625506452480), (16080, 1515915625511375616), (16081, 1515915625511376384), (16082, 1515915625465208832), (16083, 1515915625511350528), (16084, 1515915625511376128), (16085, 1515915625511379200), (16086, 1515915625511379456), (16087, 1515915625511378944), (16088, 1515915625511377152), (16089, 1515915625511380992), (16090, 1515915625482090240), (16091, 1515915625511382272), (16092, 1515915625496455936), (16093, 1515915625511383808), (16094, 1515915625511386112), (16095, 1515915625511382784), (16096, 1515915625512677888), (16097, 1515915625511362816), (16098, 1515915625446616320), (16099, 1515915625511391488), (16100, 1515915625511368192), (16101, 1515915625511392512), (16102, 1515915625511397120), (16103, 1515915625442154496), (16104, 1515915625511394816), (16105, 1515915625511395328), (16106, 1515915625511395840), (16107, 1515915625468356096), (16108, 1515915625511397376), (16109, 1515915625511397888), (16110, 1515915625469465600), (16111, 1515915625511398656), (16112, 1515915625511395072), (16113, 1515915625511398912), (16114, 1515915625498997248), (16115, 1515915625511399680), (16116, 1515915625511401984), (16117, 1515915625511403264), (16118, 1515915625513721344), (16119, 1515915625511404288), (16120, 1515915625511414528), (16121, 1515915625446738176), (16122, 1515915625511404544), (16123, 1515915625511405824), (16124, 1515915625511406080), (16125, 1515915625511072000), (16126, 1515915625480860160), (16127, 1515915625511396864), (16128, 1515915625511408640), (16129, 1515915625511409664), (16130, 1515915625511413504), (16131, 1515915625450281216), (16132, 1515915625511414272), (16133, 1515915625511416064), (16134, 1515915625511417600), (16135, 1515915625511416576), (16136, 1515915625511399424), (16137, 1515915625511418880), (16138, 1515915625460052480), (16139, 1515915625511415808), (16140, 1515915625511412480), (16141, 1515915625511463424), (16142, 1515915625511425024), (16143, 1515915625511426304), (16144, 1515915625511426048), (16145, 1515915625511428608), (16146, 1515915625466119424), (16147, 1515915625511429120), (16148, 1515915625511546624), (16149, 1515915625474851584), (16150, 1515915625511429888), (16151, 1515915625508510464), (16152, 1515915625511431936), (16153, 1515915625511434496), (16154, 1515915625461400576), (16155, 1515915625511436032), (16156, 1515915625511436800), (16157, 1515915625442031360), (16158, 1515915625511428864), (16159, 1515915625511439360), (16160, 1515915625511438848), (16161, 1515915625511622400), (16162, 1515915625511850240), (16163, 1515915625494489600), (16164, 1515915625479484416), (16165, 1515915625511441664), (16166, 1515915625511442176), (16167, 1515915625511441920), (16168, 1515915625511442944), (16169, 1515915625512117248), (16170, 1515915625512940800), (16171, 1515915625495628032), (16172, 1515915625511449856), (16173, 1515915625511445504), (16174, 1515915625498247680), (16175, 1515915625445970944), (16176, 1515915625511450368), (16177, 1515915625511442688), (16178, 1515915625445372416), (16179, 1515915625511448064), (16180, 1515915625511448320), (16181, 1515915625511450880), (16182, 1515915625507779328), (16183, 1515915625511452160), (16184, 1515915625511453184), (16185, 1515915625511453952), (16186, 1515915625511454720), (16187, 1515915625511456256), (16188, 1515915625511456512), (16189, 1515915625511456768), (16190, 1515915625511457792), (16191, 1515915625511458048), (16192, 1515915625511459072), (16193, 1515915625511460352), (16194, 1515915625511461376), (16195, 1515915625511642880), (16196, 1515915625511467264), (16197, 1515915625511467776), (16198, 1515915625511878144), (16199, 1515915625511454464), (16200, 1515915625461285120), (16201, 1515915625511469568), (16202, 1515915625511470336), (16203, 1515915625506782720), (16204, 1515915625511470848), (16205, 1515915625506176000), (16206, 1515915625511471616), (16207, 1515915625511472384), (16208, 1515915625511471872), (16209, 1515915625511469824), (16210, 1515915625511584000), (16211, 1515915625511430912), (16212, 1515915625511474688), (16213, 1515915625511474176), (16214, 1515915625511475200), (16215, 1515915625511475456), (16216, 1515915625511475968), (16217, 1515915625511433216), (16218, 1515915625511443200), (16219, 1515915625445468416), (16220, 1515915625511474944), (16221, 1515915625466927360), (16222, 1515915625447040256), (16223, 1515915625511481088), (16224, 1515915625511481344), (16225, 1515915625511480576), (16226, 1515915625511480832), (16227, 1515915625465490688), (16228, 1515915625511484672), (16229, 1515915625511455744), (16230, 1515915625511459328), (16231, 1515915625512720640), (16232, 1515915625457653504), (16233, 1515915625513764096), (16234, 1515915625510847488), (16235, 1515915625511459584), (16236, 1515915625481928192), (16237, 1515915625467951872), (16238, 1515915625511316992), (16239, 1515915625511491584), (16240, 1515915625511491840), (16241, 1515915625511449600), (16242, 1515915625511494144), (16243, 1515915625511495936), (16244, 1515915625511504128), (16245, 1515915625512661760), (16246, 1515915625511495680), (16247, 1515915625454529536), (16248, 1515915625511497984), (16249, 1515915625511493888), (16250, 1515915625511499264), (16251, 1515915625511499008), (16252, 1515915625511500544), (16253, 1515915625511501824), (16254, 1515915625511503616), (16255, 1515915625512283648), (16256, 1515915625511509504), (16257, 1515915625510902528), (16258, 1515915625511509248), (16259, 1515915625511511552), (16260, 1515915625511512576), (16261, 1515915625511490816), (16262, 1515915625511993600), (16263, 1515915625511516928), (16264, 1515915625511512832), (16265, 1515915625511009536), (16266, 1515915625512022784), (16267, 1515915625511518464), (16268, 1515915625511517952), (16269, 1515915625511468032), (16270, 1515915625511521024), (16271, 1515915625511522304), (16272, 1515915625511511040), (16273, 1515915625511522048), (16274, 1515915625448036352), (16275, 1515915625511525376), (16276, 1515915625511525888), (16277, 1515915625511526912), (16278, 1515915625459939584), (16279, 1515915625511529472), (16280, 1515915625511529216), (16281, 1515915625471073280), (16282, 1515915625511531008), (16283, 1515915625511531264), (16284, 1515915625511530240), (16285, 1515915625511478272), (16286, 1515915625511532800), (16287, 1515915625495159296), (16288, 1515915625511533568), (16289, 1515915625449202944), (16290, 1515915625512762368), (16291, 1515915625483247872), (16292, 1515915625511526144), (16293, 1515915625511540736), (16294, 1515915625511542272), (16295, 1515915625511541760), (16296, 1515915625511546112), (16297, 1515915625481535488), (16298, 1515915625511540480), (16299, 1515915625511549952), (16300, 1515915625511550976), (16301, 1515915625511551744), (16302, 1515915625511552256), (16303, 1515915625511552512), (16304, 1515915625511553536), (16305, 1515915625511553792), (16306, 1515915625511554816), (16307, 1515915625511555328), (16308, 1515915625511554560), (16309, 1515915625511557120), (16310, 1515915625511557376), (16311, 1515915625511557632), (16312, 1515915625511557888), (16313, 1515915625511559168), (16314, 1515915625498349568), (16315, 1515915625511559424), (16316, 1515915625511559936), (16317, 1515915625511559680), (16318, 1515915625511560192), (16319, 1515915625511528960), (16320, 1515915625511562752), (16321, 1515915625512923904), (16322, 1515915625511563264), (16323, 1515915625494213120), (16324, 1515915625511564032), (16325, 1515915625511564544), (16326, 1515915625498983424), (16327, 1515915625511320064), (16328, 1515915625512989184), (16329, 1515915625511566848), (16330, 1515915625511568640), (16331, 1515915625457236992), (16332, 1515915625511570944), (16333, 1515915625511571712), (16334, 1515915625511573504), (16335, 1515915625511574784), (16336, 1515915625511578880), (16337, 1515915625511579392), (16338, 1515915625449579520), (16339, 1515915625511581696), (16340, 1515915625511581440), (16341, 1515915625511698432), (16342, 1515915625511589888), (16343, 1515915625512201472), (16344, 1515915625511621120), (16345, 1515915625511585792), (16346, 1515915625459279872), (16347, 1515915625511590400), (16348, 1515915625512661248), (16349, 1515915625511591680), (16350, 1515915625512666368), (16351, 1515915625511593216), (16352, 1515915625511593472), (16353, 1515915625448672512), (16354, 1515915625511595008), (16355, 1515915625511595264), (16356, 1515915625511596032), (16357, 1515915625511597824), (16358, 1515915625511858176), (16359, 1515915625468612608), (16360, 1515915625511599104), (16361, 1515915625511599360), (16362, 1515915625461823744), (16363, 1515915625511600896), (16364, 1515915625511601152), (16365, 1515915625511602176), (16366, 1515915625511602944), (16367, 1515915625498298880), (16368, 1515915625511606272), (16369, 1515915625511526656), (16370, 1515915625511608576), (16371, 1515915625511609088), (16372, 1515915625511610368), (16373, 1515915625511611904), (16374, 1515915625511613952), (16375, 1515915625511607808), (16376, 1515915625448441344), (16377, 1515915625511704832), (16378, 1515915625511622912), (16379, 1515915625511175680), (16380, 1515915625511623936), (16381, 1515915625511576320), (16382, 1515915625470153984), (16383, 1515915625511627264), (16384, 1515915625511629312), (16385, 1515915625511629056), (16386, 1515915625511704576), (16387, 1515915625511629568), (16388, 1515915625464262144), (16389, 1515915625511508736), (16390, 1515915625511630592), (16391, 1515915625511630848), (16392, 1515915625512945408), (16393, 1515915625511332352), (16394, 1515915625511633920), (16395, 1515915625511634176), (16396, 1515915625443016192), (16397, 1515915625511634688), (16398, 1515915625512054272), (16399, 1515915625511635456), (16400, 1515915625475292160), (16401, 1515915625442539264), (16402, 1515915625511638272), (16403, 1515915625511636992), (16404, 1515915625511635968), (16405, 1515915625511639040), (16406, 1515915625506571520), (16407, 1515915625512125952), (16408, 1515915625448439552), (16409, 1515915625511639296), (16410, 1515915625470690304), (16411, 1515915625511639808), (16412, 1515915625511641856), (16413, 1515915625457589504), (16414, 1515915625495647488), (16415, 1515915625457125632), (16416, 1515915625511657472), (16417, 1515915625511675904), (16418, 1515915625511644416), (16419, 1515915625511646720), (16420, 1515915625498275328), (16421, 1515915625511648256), (16422, 1515915625511646208), (16423, 1515915625511649280), (16424, 1515915625511650816), (16425, 1515915625511650560), (16426, 1515915625511651328), (16427, 1515915625453557248), (16428, 1515915625511653632), (16429, 1515915625511653888), (16430, 1515915625448056832), (16431, 1515915625511664640), (16432, 1515915625512670976), (16433, 1515915625511664384), (16434, 1515915625511664896), (16435, 1515915625511664128), (16436, 1515915625460413440), (16437, 1515915625511666944), (16438, 1515915625509931008), (16439, 1515915625511667200), (16440, 1515915625510856960), (16441, 1515915625511676928), (16442, 1515915625511670784), (16443, 1515915625511671296), (16444, 1515915625498351104), (16445, 1515915625511672320), (16446, 1515915625508839168), (16447, 1515915625511674368), (16448, 1515915625511675136), (16449, 1515915625511674624), (16450, 1515915625511675648), (16451, 1515915625511676416), (16452, 1515915625511675392), (16453, 1515915625511666432), (16454, 1515915625511671040), (16455, 1515915625511694080), (16456, 1515915625511624448), (16457, 1515915625511680256), (16458, 1515915625511681536), (16459, 1515915625511683072), (16460, 1515915625511684608), (16461, 1515915625511684096), (16462, 1515915625511684864), (16463, 1515915625511685376), (16464, 1515915625511686656), (16465, 1515915625455940096), (16466, 1515915625511680000), (16467, 1515915625511845120), (16468, 1515915625509944064), (16469, 1515915625511689472), (16470, 1515915625465203712), (16471, 1515915625511690240), (16472, 1515915625511691008), (16473, 1515915625511692544), (16474, 1515915625511688960), (16475, 1515915625511693824), (16476, 1515915625443829248), (16477, 1515915625511695360), (16478, 1515915625460293632), (16479, 1515915625511697152), (16480, 1515915625474613504), (16481, 1515915625512022528), (16482, 1515915625512711680), (16483, 1515915625511698688), (16484, 1515915625511700224), (16485, 1515915625511701248), (16486, 1515915625511702016), (16487, 1515915625511701760), (16488, 1515915625511651840), (16489, 1515915625511703296), (16490, 1515915625511704320), (16491, 1515915625513056768), (16492, 1515915625511741184), (16493, 1515915625512376320), (16494, 1515915625511706880), (16495, 1515915625511708160), (16496, 1515915625498985472), (16497, 1515915625505845504), (16498, 1515915625511710464), (16499, 1515915625511711744), (16500, 1515915625511587072), (16501, 1515915625511712768), (16502, 1515915625511539456), (16503, 1515915625446435072), (16504, 1515915625512084736), (16505, 1515915625511711488), (16506, 1515915625511720960), (16507, 1515915625512238080), (16508, 1515915625514160640), (16509, 1515915625511723008), (16510, 1515915625511696384), (16511, 1515915625503586304), (16512, 1515915625511726080), (16513, 1515915625511998720), (16514, 1515915625511723520), (16515, 1515915625511727872), (16516, 1515915625506527488), (16517, 1515915625511729408), (16518, 1515915625509315072), (16519, 1515915625511726336), (16520, 1515915625499999488), (16521, 1515915625511736576), (16522, 1515915625445868800), (16523, 1515915625512421632), (16524, 1515915625511813120), (16525, 1515915625511730432), (16526, 1515915625507223552), (16527, 1515915625511747072), (16528, 1515915625511747840), (16529, 1515915625511748352), (16530, 1515915625507990528), (16531, 1515915625511751680), (16532, 1515915625448209408), (16533, 1515915625483881728), (16534, 1515915625506187008), (16535, 1515915625511763968), (16536, 1515915625470794240), (16537, 1515915625511766528), (16538, 1515915625511735808), (16539, 1515915625511742976), (16540, 1515915625511748096), (16541, 1515915625511779584), (16542, 1515915625511779328), (16543, 1515915625511788544), (16544, 1515915625511744512), (16545, 1515915625445352704), (16546, 1515915625511788288), (16547, 1515915625511793152), (16548, 1515915625511791872), (16549, 1515915625511793664), (16550, 1515915625512332800), (16551, 1515915625511795968), (16552, 1515915625482546688), (16553, 1515915625511789056), (16554, 1515915625512668160), (16555, 1515915625511789312), (16556, 1515915625511804672), (16557, 1515915625511774464), (16558, 1515915625512525312), (16559, 1515915625512083968), (16560, 1515915625481550336), (16561, 1515915625510251776), (16562, 1515915625462562048), (16563, 1515915625511844864), (16564, 1515915625512084480), (16565, 1515915625511819264), (16566, 1515915625511820544), (16567, 1515915625511821312), (16568, 1515915625441918720), (16569, 1515915625511822336), (16570, 1515915625511788800), (16571, 1515915625511823104), (16572, 1515915625511824896), (16573, 1515915625511917312), (16574, 1515915625457010944), (16575, 1515915625453473024), (16576, 1515915625511826688), (16577, 1515915625511827968), (16578, 1515915625498351872), (16579, 1515915625511838976), (16580, 1515915625511840768), (16581, 1515915625511829504), (16582, 1515915625511843072), (16583, 1515915625511781376), (16584, 1515915625444580096), (16585, 1515915625511848448), (16586, 1515915625511847936), (16587, 1515915625511848960), (16588, 1515915625511806208), (16589, 1515915625511849728), (16590, 1515915625511850496), (16591, 1515915625497002496), (16592, 1515915625510955520), (16593, 1515915625512421888), (16594, 1515915625510449408), (16595, 1515915625511855872), (16596, 1515915625511789824), (16597, 1515915625511856384), (16598, 1515915625511857920), (16599, 1515915625482292992), (16600, 1515915625511859200), (16601, 1515915625511858688), (16602, 1515915625511867648), (16603, 1515915625511868416), (16604, 1515915625511865600), (16605, 1515915625511870976), (16606, 1515915625511872000), (16607, 1515915625511872512), (16608, 1515915625511873792), (16609, 1515915625511094016), (16610, 1515915625512332544), (16611, 1515915625481090304), (16612, 1515915625511806720), (16613, 1515915625511756800), (16614, 1515915625511879680), (16615, 1515915625511880448), (16616, 1515915625511880960), (16617, 1515915625511881728), (16618, 1515915625512923392), (16619, 1515915625511883520), (16620, 1515915625511848704), (16621, 1515915625456530688), (16622, 1515915625498322176), (16623, 1515915625511886592), (16624, 1515915625511886848), (16625, 1515915625511888640), (16626, 1515915625511790336), (16627, 1515915625511890432), (16628, 1515915625472973312), (16629, 1515915625498286336), (16630, 1515915625511893760), (16631, 1515915625497936128), (16632, 1515915625457742848), (16633, 1515915625473917440), (16634, 1515915625511809280), (16635, 1515915625511901952), (16636, 1515915625511903232), (16637, 1515915625511904256), (16638, 1515915625479315712), (16639, 1515915625454664448), (16640, 1515915625511913984), (16641, 1515915625481792768), (16642, 1515915625511953920), (16643, 1515915625511921408), (16644, 1515915625447052288), (16645, 1515915625511917824), (16646, 1515915625511755776), (16647, 1515915625511902976), (16648, 1515915625480228096), (16649, 1515915625511890688), (16650, 1515915625511920128), (16651, 1515915625511944192), (16652, 1515915625511932672), (16653, 1515915625511862784), (16654, 1515915625492393472), (16655, 1515915625511917568), (16656, 1515915625511933440), (16657, 1515915625459938560), (16658, 1515915625467530240), (16659, 1515915625475284992), (16660, 1515915625511936512), (16661, 1515915625492268288), (16662, 1515915625513725696), (16663, 1515915625473771776), (16664, 1515915625446946048), (16665, 1515915625511953664), (16666, 1515915625511947520), (16667, 1515915625511990016), (16668, 1515915625511957760), (16669, 1515915625511790080), (16670, 1515915625511958784), (16671, 1515915625511959296), (16672, 1515915625511960320), (16673, 1515915625511963392), (16674, 1515915625505937152), (16675, 1515915625458501888), (16676, 1515915625511799296), (16677, 1515915625511965184), (16678, 1515915625512875520), (16679, 1515915625472013056), (16680, 1515915625511956992), (16681, 1515915625511966208), (16682, 1515915625511972608), (16683, 1515915625446417920), (16684, 1515915625511749888), (16685, 1515915625511974912), (16686, 1515915625505095936), (16687, 1515915625507048960), (16688, 1515915625511847168), (16689, 1515915625511977728), (16690, 1515915625447034368), (16691, 1515915625511979264), (16692, 1515915625511979776), (16693, 1515915625482382848), (16694, 1515915625511977216), (16695, 1515915625511986688), (16696, 1515915625511987968), (16697, 1515915625512084224), (16698, 1515915625511991040), (16699, 1515915625511991552), (16700, 1515915625494685440), (16701, 1515915625511980288), (16702, 1515915625461296640), (16703, 1515915625512023040), (16704, 1515915625511994112), (16705, 1515915625511969792), (16706, 1515915625511994368), (16707, 1515915625511995904), (16708, 1515915625511985152), (16709, 1515915625511997440), (16710, 1515915625512397312), (16711, 1515915625512000512), (16712, 1515915625511992576), (16713, 1515915625511674880), (16714, 1515915625512001024), (16715, 1515915625511995648), (16716, 1515915625511757312), (16717, 1515915625511809024), (16718, 1515915625512002816), (16719, 1515915625512003072), (16720, 1515915625512003584), (16721, 1515915625512004608), (16722, 1515915625511995392), (16723, 1515915625443586048), (16724, 1515915625512000768), (16725, 1515915625512006400), (16726, 1515915625441455616), (16727, 1515915625512010752), (16728, 1515915625512008448), (16729, 1515915625474867712), (16730, 1515915625498968832), (16731, 1515915625512015360), (16732, 1515915625512015872), (16733, 1515915625512016128), (16734, 1515915625512017152), (16735, 1515915625512004864), (16736, 1515915625512052992), (16737, 1515915625511856128), (16738, 1515915625512025088), (16739, 1515915625512055296), (16740, 1515915625512055040), (16741, 1515915625512054784), (16742, 1515915625512026112), (16743, 1515915625512026624), (16744, 1515915625511694336), (16745, 1515915625511996160), (16746, 1515915625460884736), (16747, 1515915625511996928), (16748, 1515915625512020736), (16749, 1515915625511987456), (16750, 1515915625512028928), (16751, 1515915625512027904), (16752, 1515915625512029696), (16753, 1515915625512032512), (16754, 1515915625512883200), (16755, 1515915625512032000), (16756, 1515915625511996416), (16757, 1515915625511996672), (16758, 1515915625512875776), (16759, 1515915625512032768), (16760, 1515915625511892736), (16761, 1515915625512035328), (16762, 1515915625442570752), (16763, 1515915625512017920), (16764, 1515915625512028672), (16765, 1515915625511785984), (16766, 1515915625512041984), (16767, 1515915625512043520), (16768, 1515915625512044288), (16769, 1515915625512046080), (16770, 1515915625512047616), (16771, 1515915625512047360), (16772, 1515915625512036608), (16773, 1515915625452312320), (16774, 1515915625512050944), (16775, 1515915625476514304), (16776, 1515915625512052736), (16777, 1515915625512052224), (16778, 1515915625507271680), (16779, 1515915625512056576), (16780, 1515915625512056832), (16781, 1515915625512086016), (16782, 1515915625512085248), (16783, 1515915625512085504), (16784, 1515915625512084992), (16785, 1515915625512086272), (16786, 1515915625512085760), (16787, 1515915625512027136), (16788, 1515915625512058368), (16789, 1515915625442239744), (16790, 1515915625512058624), (16791, 1515915625483649536), (16792, 1515915625512816896), (16793, 1515915625512059392), (16794, 1515915625512059904), (16795, 1515915625512060928), (16796, 1515915625513719808), (16797, 1515915625512061696), (16798, 1515915625512061952), (16799, 1515915625512072192), (16800, 1515915625512057600), (16801, 1515915625512064000), (16802, 1515915625512063488), (16803, 1515915625512065280), (16804, 1515915625512066816), (16805, 1515915625512064512), (16806, 1515915625512063232), (16807, 1515915625512067584), (16808, 1515915625512067840), (16809, 1515915625512053760), (16810, 1515915625512069120), (16811, 1515915625512069376), (16812, 1515915625512069632), (16813, 1515915625512070144), (16814, 1515915625512087808), (16815, 1515915625512075520), (16816, 1515915625512076032), (16817, 1515915625512079872), (16818, 1515915625512083200), (16819, 1515915625514859264), (16820, 1515915625512087040), (16821, 1515915625512088064), (16822, 1515915625509253120), (16823, 1515915625512118784), (16824, 1515915625512118528), (16825, 1515915625512118272), (16826, 1515915625512118016), (16827, 1515915625512117760), (16828, 1515915625512117504), (16829, 1515915625512090112), (16830, 1515915625512119040), (16831, 1515915625512082944), (16832, 1515915625512090880), (16833, 1515915625512091392), (16834, 1515915625512092416), (16835, 1515915625512082688), (16836, 1515915625512092672), (16837, 1515915625512093696), (16838, 1515915625512095744), (16839, 1515915625512080128), (16840, 1515915625468979968), (16841, 1515915625512096256), (16842, 1515915625512097280), (16843, 1515915625512097536), (16844, 1515915625512096512), (16845, 1515915625512098048), (16846, 1515915625512099840), (16847, 1515915625512098304), (16848, 1515915625512101632), (16849, 1515915625512102144), (16850, 1515915625512102656), (16851, 1515915625512103936), (16852, 1515915625512078848), (16853, 1515915625512239104), (16854, 1515915625512108544), (16855, 1515915625512112384), (16856, 1515915625512113920), (16857, 1515915625512115456), (16858, 1515915625514716672), (16859, 1515915625514801664), (16860, 1515915625512154368), (16861, 1515915625512155136), (16862, 1515915625512154624), (16863, 1515915625512155392), (16864, 1515915625512154112), (16865, 1515915625512154880), (16866, 1515915625512153600), (16867, 1515915625511995136), (16868, 1515915625510649856), (16869, 1515915625512124416), (16870, 1515915625511986944), (16871, 1515915625512125184), (16872, 1515915625512126976), (16873, 1515915625512128512), (16874, 1515915625512129280), (16875, 1515915625512128768), (16876, 1515915625512131584), (16877, 1515915625512131840), (16878, 1515915625512132352), (16879, 1515915625512134912), (16880, 1515915625512134144), (16881, 1515915625512135680), (16882, 1515915625512136448), (16883, 1515915625512136704), (16884, 1515915625512137472), (16885, 1515915625512139008), (16886, 1515915625512105984), (16887, 1515915625511431424), (16888, 1515915625479134720), (16889, 1515915625512139264), (16890, 1515915625512142592), (16891, 1515915625512114944), (16892, 1515915625512195840), (16893, 1515915625512147200), (16894, 1515915625512147456), (16895, 1515915625505163520), (16896, 1515915625512156416), (16897, 1515915625512156672), (16898, 1515915625512201984), (16899, 1515915625512201728), (16900, 1515915625512202240), (16901, 1515915625512202496), (16902, 1515915625512159744), (16903, 1515915625512201216), (16904, 1515915625512161792), (16905, 1515915625473000704), (16906, 1515915625476198400), (16907, 1515915625512166400), (16908, 1515915625514803968), (16909, 1515915625512186880), (16910, 1515915625512189184), (16911, 1515915625512189696), (16912, 1515915625512191488), (16913, 1515915625512170496), (16914, 1515915625512185344), (16915, 1515915625512196352), (16916, 1515915625446395648), (16917, 1515915625512198656), (16918, 1515915625512200448), (16919, 1515915625444183040), (16920, 1515915625512165888), (16921, 1515915625512238848), (16922, 1515915625512238592), (16923, 1515915625512167936), (16924, 1515915625512238336), (16925, 1515915625513382912), (16926, 1515915625512206080), (16927, 1515915625512217600), (16928, 1515915625512219392), (16929, 1515915625512220672), (16930, 1515915625512220928), (16931, 1515915625511816960), (16932, 1515915625473742592), (16933, 1515915625512164608), (16934, 1515915625449748480), (16935, 1515915625512227840), (16936, 1515915625512229632), (16937, 1515915625512229376), (16938, 1515915625512230144), (16939, 1515915625512231168), (16940, 1515915625512222720), (16941, 1515915625512234752), (16942, 1515915625512257280), (16943, 1515915625512283904), (16944, 1515915625512146176), (16945, 1515915625512284416), (16946, 1515915625512284160), (16947, 1515915625512935936), (16948, 1515915625512158976), (16949, 1515915625512711936), (16950, 1515915625511712256), (16951, 1515915625512246784), (16952, 1515915625512250112), (16953, 1515915625512228352), (16954, 1515915625511725824), (16955, 1515915625512252416), (16956, 1515915625512199168), (16957, 1515915625512256000), (16958, 1515915625512251392), (16959, 1515915625448655104), (16960, 1515915625512257792), (16961, 1515915625512074752), (16962, 1515915625512269312), (16963, 1515915625512271872), (16964, 1515915625512271616), (16965, 1515915625512272640), (16966, 1515915625512273664), (16967, 1515915625512262912), (16968, 1515915625512278784), (16969, 1515915625512282880), (16970, 1515915625512287488), (16971, 1515915625512333568), (16972, 1515915625512333056), (16973, 1515915625512333312), (16974, 1515915625512289280), (16975, 1515915625512333824), (16976, 1515915625512243712), (16977, 1515915625514156288), (16978, 1515915625512300288), (16979, 1515915625512291584), (16980, 1515915625512303360), (16981, 1515915625512307200), (16982, 1515915625512307456), (16983, 1515915625512307712), (16984, 1515915625512308992), (16985, 1515915625512312320), (16986, 1515915625512312064), (16987, 1515915625512311808), (16988, 1515915625512318976), (16989, 1515915625512319744), (16990, 1515915625512326144), (16991, 1515915625512326656), (16992, 1515915625512326912), (16993, 1515915625511916544), (16994, 1515915625455223040), (16995, 1515915625512377344), (16996, 1515915625512378112), (16997, 1515915625512377600), (16998, 1515915625512377856), (16999, 1515915625512378624), (17000, 1515915625512337664), (17001, 1515915625512378880), (17002, 1515915625512378368), (17003, 1515915625512377088), (17004, 1515915625512376832), (17005, 1515915625512337408), (17006, 1515915625512293632), (17007, 1515915625513443584), (17008, 1515915625512344832), (17009, 1515915625512344576), (17010, 1515915625512347136), (17011, 1515915625512343808), (17012, 1515915625512345088), (17013, 1515915625486551040), (17014, 1515915625512348416), (17015, 1515915625511627776), (17016, 1515915625512351744), (17017, 1515915625512352512), (17018, 1515915625511291392), (17019, 1515915625512353792), (17020, 1515915625446908416), (17021, 1515915625441031168), (17022, 1515915625512355584), (17023, 1515915625512358144), (17024, 1515915625512336896), (17025, 1515915625512358400), (17026, 1515915625512359936), (17027, 1515915625512359424), (17028, 1515915625512361216), (17029, 1515915625512363008), (17030, 1515915625512362752), (17031, 1515915625512365824), (17032, 1515915625512366592), (17033, 1515915625512795648), (17034, 1515915625512369408), (17035, 1515915625512375552), (17036, 1515915625512638208), (17037, 1515915625512422912), (17038, 1515915625512423680), (17039, 1515915625512423424), (17040, 1515915625512422400), (17041, 1515915625512423168), (17042, 1515915625512422144), (17043, 1515915625512422656), (17044, 1515915625512385792), (17045, 1515915625471560448), (17046, 1515915625512387072), (17047, 1515915625512381952), (17048, 1515915625499544576), (17049, 1515915625512373760), (17050, 1515915625512392704), (17051, 1515915625458759680), (17052, 1515915625512398080), (17053, 1515915625512399104), (17054, 1515915625512395264), (17055, 1515915625512400640), (17056, 1515915625512401920), (17057, 1515915625512402176), (17058, 1515915625512397824), (17059, 1515915625471425024), (17060, 1515915625513469952), (17061, 1515915625512409344), (17062, 1515915625512413184), (17063, 1515915625512415744), (17064, 1515915625446061312), (17065, 1515915625512418304), (17066, 1515915625512584704), (17067, 1515915625512817408), (17068, 1515915625512208896), (17069, 1515915625512430848), (17070, 1515915625512430080), (17071, 1515915625512431616), (17072, 1515915625512427776), (17073, 1515915625512435968), (17074, 1515915625512437248), (17075, 1515915625512142080), (17076, 1515915625512438528), (17077, 1515915625512439040), (17078, 1515915625512438272), (17079, 1515915625512439808), (17080, 1515915625512442368), (17081, 1515915625512441600), (17082, 1515915625512290560), (17083, 1515915625512446464), (17084, 1515915625512450048), (17085, 1515915625512450560), (17086, 1515915625512400128), (17087, 1515915625512454400), (17088, 1515915625512459776), (17089, 1515915625512463104), (17090, 1515915625485646336), (17091, 1515915625512464640), (17092, 1515915625512217088), (17093, 1515915625512466688), (17094, 1515915625512525824), (17095, 1515915625512526080), (17096, 1515915625512476928), (17097, 1515915625512477952), (17098, 1515915625512470016), (17099, 1515915625512480256), (17100, 1515915625512479744), (17101, 1515915625512484608), (17102, 1515915625512483840), (17103, 1515915625512486912), (17104, 1515915625512486656), (17105, 1515915625512481280), (17106, 1515915625512492032), (17107, 1515915625512450304), (17108, 1515915625512486144), (17109, 1515915625512493824), (17110, 1515915625512484352), (17111, 1515915625512389632), (17112, 1515915625512498944), (17113, 1515915625512499968), (17114, 1515915625512503296), (17115, 1515915625492243200), (17116, 1515915625512504832), (17117, 1515915625512511488), (17118, 1515915625512511744), (17119, 1515915625512512256), (17120, 1515915625512517632), (17121, 1515915625512518144), (17122, 1515915625512517376), (17123, 1515915625512521728), (17124, 1515915625512519168), (17125, 1515915625512584960), (17126, 1515915625512585216), (17127, 1515915625512536576), (17128, 1515915625512512768), (17129, 1515915625511345152), (17130, 1515915625493222912), (17131, 1515915625512547328), (17132, 1515915625512549120), (17133, 1515915625511705088), (17134, 1515915625512550912), (17135, 1515915625512551680), (17136, 1515915625512551936), (17137, 1515915625512553728), (17138, 1515915625512555520), (17139, 1515915625512484096), (17140, 1515915625512121856), (17141, 1515915625512560640), (17142, 1515915625512563968), (17143, 1515915625512563456), (17144, 1515915625512572928), (17145, 1515915625512579584), (17146, 1515915625448934656), (17147, 1515915625513507072), (17148, 1515915625512586496), (17149, 1515915625512581888), (17150, 1515915625512638464), (17151, 1515915625512638720), (17152, 1515915625512591104), (17153, 1515915625512593408), (17154, 1515915625512288256), (17155, 1515915625512597760), (17156, 1515915625512598784), (17157, 1515915625512602624), (17158, 1515915625512606208), (17159, 1515915625512598528), (17160, 1515915625456166656), (17161, 1515915625512611328), (17162, 1515915625512611840), (17163, 1515915625512616448), (17164, 1515915625494709504), (17165, 1515915625512631040), (17166, 1515915625512632320), (17167, 1515915625512632064), (17168, 1515915625512519680), (17169, 1515915625512636672), (17170, 1515915625512636928), (17171, 1515915625512637184), (17172, 1515915625512712704), (17173, 1515915625512641792), (17174, 1515915625512712192), (17175, 1515915625512472576), (17176, 1515915625512644096), (17177, 1515915625512712448), (17178, 1515915625512647680), (17179, 1515915625512644352), (17180, 1515915625512649984), (17181, 1515915625514169856), (17182, 1515915625509659904), (17183, 1515915625512338432), (17184, 1515915625479326720), (17185, 1515915625512654336), (17186, 1515915625512654080), (17187, 1515915625512658176), (17188, 1515915625512681472), (17189, 1515915625482369792), (17190, 1515915625512680704), (17191, 1515915625512682240), (17192, 1515915625512684800), (17193, 1515915625512685824), (17194, 1515915625512688640), (17195, 1515915625512691712), (17196, 1515915625512692224), (17197, 1515915625512693760), (17198, 1515915625512695040), (17199, 1515915625512698368), (17200, 1515915625512590848), (17201, 1515915625512699648), (17202, 1515915625512701952), (17203, 1515915625512707072), (17204, 1515915625514760192), (17205, 1515915625512710144), (17206, 1515915625513331968), (17207, 1515915625512711168), (17208, 1515915625512734464), (17209, 1515915625512762112), (17210, 1515915625441280768), (17211, 1515915625512763904), (17212, 1515915625512763648), (17213, 1515915625512715776), (17214, 1515915625512762624), (17215, 1515915625512763392), (17216, 1515915625512764160), (17217, 1515915625512762880), (17218, 1515915625512763136), (17219, 1515915625512764416), (17220, 1515915625512717824), (17221, 1515915625512721152), (17222, 1515915625512724736), (17223, 1515915625512724992), (17224, 1515915625512725248), (17225, 1515915625512728064), (17226, 1515915625512728832), (17227, 1515915625512721408), (17228, 1515915625512732416), (17229, 1515915625449195264), (17230, 1515915625512733696), (17231, 1515915625512724224), (17232, 1515915625512734720), (17233, 1515915625446790144), (17234, 1515915625512736768), (17235, 1515915625512737280), (17236, 1515915625512737536), (17237, 1515915625512735488), (17238, 1515915625512741376), (17239, 1515915625512740864), (17240, 1515915625512742656), (17241, 1515915625512743424), (17242, 1515915625512717312), (17243, 1515915625512744192), (17244, 1515915625512744448), (17245, 1515915625513727488), (17246, 1515915625512751360), (17247, 1515915625512751616), (17248, 1515915625512753920), (17249, 1515915625512755968), (17250, 1515915625513638400), (17251, 1515915625512711424), (17252, 1515915625512765952), (17253, 1515915625512817152), (17254, 1515915625512817664), (17255, 1515915625512818432), (17256, 1515915625512817920), (17257, 1515915625512260352), (17258, 1515915625512818176), (17259, 1515915625453484288), (17260, 1515915625512753408), (17261, 1515915625508333568), (17262, 1515915625512816640), (17263, 1515915625512776960), (17264, 1515915625512780544), (17265, 1515915625512783872), (17266, 1515915625512786432), (17267, 1515915625512786944), (17268, 1515915625512788224), (17269, 1515915625512787456), (17270, 1515915625512693248), (17271, 1515915625512793856), (17272, 1515915625512795904), (17273, 1515915625512799488), (17274, 1515915625512802304), (17275, 1515915625451977216), (17276, 1515915625512806656), (17277, 1515915625512876288), (17278, 1515915625512876032), (17279, 1515915625512829696), (17280, 1515915625512830720), (17281, 1515915625512834816), (17282, 1515915625512838912), (17283, 1515915625512684288), (17284, 1515915625512790016), (17285, 1515915625512846336), (17286, 1515915625514553600), (17287, 1515915625512849408), (17288, 1515915625512850688), (17289, 1515915625486306048), (17290, 1515915625512856064), (17291, 1515915625512856320), (17292, 1515915625512854272), (17293, 1515915625512864512), (17294, 1515915625512866816), (17295, 1515915625512870912), (17296, 1515915625512880128), (17297, 1515915625512872960), (17298, 1515915625512873216), (17299, 1515915625512877312), (17300, 1515915625512869888), (17301, 1515915625512923648), (17302, 1515915625513728000), (17303, 1515915625512885760), (17304, 1515915625512881664), (17305, 1515915625468611328), (17306, 1515915625512892416), (17307, 1515915625512888064), (17308, 1515915625512895232), (17309, 1515915625512896256), (17310, 1515915625514101504), (17311, 1515915625512883712), (17312, 1515915625512897280), (17313, 1515915625512903936), (17314, 1515915625512905472), (17315, 1515915625514325760), (17316, 1515915625512903680), (17317, 1515915625512909568), (17318, 1515915625459984128), (17319, 1515915625512204032), (17320, 1515915625512826624), (17321, 1515915625512930304), (17322, 1515915625512988928), (17323, 1515915625482498560), (17324, 1515915625512948224), (17325, 1515915625512947200), (17326, 1515915625512948992), (17327, 1515915625512949248), (17328, 1515915625512944640), (17329, 1515915625474656768), (17330, 1515915625512958208), (17331, 1515915625511924224), (17332, 1515915625440051456), (17333, 1515915625512966400), (17334, 1515915625512967168), (17335, 1515915625512966656), (17336, 1515915625512974080), (17337, 1515915625512978432), (17338, 1515915625512982784), (17339, 1515915625498319616), (17340, 1515915625512985856), (17341, 1515915625512986368), (17342, 1515915625513060096), (17343, 1515915625513058048), (17344, 1515915625513059072), (17345, 1515915625513059328), (17346, 1515915625513057280), (17347, 1515915625513059584), (17348, 1515915625513057536), (17349, 1515915625513058816), (17350, 1515915625513057024), (17351, 1515915625513059840), (17352, 1515915625513058560), (17353, 1515915625513056512), (17354, 1515915625513060352), (17355, 1515915625513057792), (17356, 1515915625513058304), (17357, 1515915625465745920), (17358, 1515915625513060608), (17359, 1515915625513006592), (17360, 1515915625513050368), (17361, 1515915625513022976), (17362, 1515915625512983552), (17363, 1515915625513033728), (17364, 1515915625513033472), (17365, 1515915625512941056), (17366, 1515915625513039872), (17367, 1515915625512692736), (17368, 1515915625513048576), (17369, 1515915625513445120), (17370, 1515915625514154240), (17371, 1515915625511933696), (17372, 1515915625513072128), (17373, 1515915625512592384), (17374, 1515915625513085184), (17375, 1515915625513046016), (17376, 1515915625512892672), (17377, 1515915625512780800), (17378, 1515915625485259264), (17379, 1515915625513098496), (17380, 1515915625513577216), (17381, 1515915625513099520), (17382, 1515915625496483584), (17383, 1515915625513089280), (17384, 1515915625513101824), (17385, 1515915625513109504), (17386, 1515915625513116672), (17387, 1515915625513116928), (17388, 1515915625513123072), (17389, 1515915625513750784), (17390, 1515915625513136640), (17391, 1515915625513695232), (17392, 1515915625513149952), (17393, 1515915625513144576), (17394, 1515915625513149696), (17395, 1515915625513150464), (17396, 1515915625513151744), (17397, 1515915625512826112), (17398, 1515915625513158912), (17399, 1515915625513162752), (17400, 1515915625513164800), (17401, 1515915625513164544), (17402, 1515915625513173760), (17403, 1515915625513174272), (17404, 1515915625514534912), (17405, 1515915625513285376), (17406, 1515915625513285632), (17407, 1515915625513284608), (17408, 1515915625513284864), (17409, 1515915625513285120), (17410, 1515915625513195264), (17411, 1515915625466552320), (17412, 1515915625513196032), (17413, 1515915625513203456), (17414, 1515915625513007616), (17415, 1515915625513205504), (17416, 1515915625514170112), (17417, 1515915625513210880), (17418, 1515915625513217280), (17419, 1515915625513238272), (17420, 1515915625513240576), (17421, 1515915625512697856), (17422, 1515915625472172544), (17423, 1515915625514234368), (17424, 1515915625514165248), (17425, 1515915625511961600), (17426, 1515915625513332224), (17427, 1515915625513332480), (17428, 1515915625513260288), (17429, 1515915625514365696), (17430, 1515915625513262080), (17431, 1515915625513263360), (17432, 1515915625513266688), (17433, 1515915625513268224), (17434, 1515915625513269760), (17435, 1515915625513262848), (17436, 1515915625514309120), (17437, 1515915625513281792), (17438, 1515915625513294848), (17439, 1515915625513307392), (17440, 1515915625513310464), (17441, 1515915625513310976), (17442, 1515915625513311488), (17443, 1515915625513316608), (17444, 1515915625513318912), (17445, 1515915625513321984), (17446, 1515915625513281024), (17447, 1515915625513326848), (17448, 1515915625513329408), (17449, 1515915625514714112), (17450, 1515915625513334016), (17451, 1515915625513337344), (17452, 1515915625513339136), (17453, 1515915625462136064), (17454, 1515915625513343232), (17455, 1515915625513341440), (17456, 1515915625513346304), (17457, 1515915625513352448), (17458, 1515915625513352704), (17459, 1515915625513356288), (17460, 1515915625497909504), (17461, 1515915625513358336), (17462, 1515915625482463232), (17463, 1515915625513445888), (17464, 1515915625513446912), (17465, 1515915625513445632), (17466, 1515915625513444096), (17467, 1515915625513443840), (17468, 1515915625513446144), (17469, 1515915625513444864), (17470, 1515915625513444608), (17471, 1515915625513444352), (17472, 1515915625513445376), (17473, 1515915625513446400), (17474, 1515915625513446656), (17475, 1515915625513391616), (17476, 1515915625513447168), (17477, 1515915625513397760), (17478, 1515915625514599424), (17479, 1515915625513424896), (17480, 1515915625514169088), (17481, 1515915625513451776), (17482, 1515915625513451008), (17483, 1515915625513750528), (17484, 1515915625514656512), (17485, 1515915625470592256), (17486, 1515915625513483520), (17487, 1515915625513484288), (17488, 1515915625513577728), (17489, 1515915625513577984), (17490, 1515915625513578240), (17491, 1515915625513236480), (17492, 1515915625512889344), (17493, 1515915625444966912), (17494, 1515915625497924864), (17495, 1515915625514157312), (17496, 1515915625511739136), (17497, 1515915625513583360), (17498, 1515915625513638144), (17499, 1515915625513598976), (17500, 1515915625513621504), (17501, 1515915625513696256), (17502, 1515915625513695488), (17503, 1515915625513696000), (17504, 1515915625513695744), (17505, 1515915625512532480), (17506, 1515915625511722752), (17507, 1515915625513531904), (17508, 1515915625514164480), (17509, 1515915625513751040), (17510, 1515915625514155008), (17511, 1515915625513701376), (17512, 1515915625514153728), (17513, 1515915625514234112), (17514, 1515915625513698560), (17515, 1515915625513729280), (17516, 1515915625513742080), (17517, 1515915625514157056), (17518, 1515915625514156032), (17519, 1515915625514155776), (17520, 1515915625514158592), (17521, 1515915625514155264), (17522, 1515915625514157568), (17523, 1515915625514155520), (17524, 1515915625514158848), (17525, 1515915625514161408), (17526, 1515915625514162432), (17527, 1515915625514159616), (17528, 1515915625514161664), (17529, 1515915625514158336), (17530, 1515915625514156544), (17531, 1515915625514159104), (17532, 1515915625514157824), (17533, 1515915625514160128), (17534, 1515915625514159872), (17535, 1515915625514158080), (17536, 1515915625514162176), (17537, 1515915625514160384), (17538, 1515915625514159360), (17539, 1515915625514156800), (17540, 1515915625514160896), (17541, 1515915625514161152), (17542, 1515915625514161920), (17543, 1515915625449006592), (17544, 1515915625513788928), (17545, 1515915625513774336), (17546, 1515915625447631616), (17547, 1515915625514153984), (17548, 1515915625472941568), (17549, 1515915625513798912), (17550, 1515915625513797888), (17551, 1515915625513800960), (17552, 1515915625513801728), (17553, 1515915625514477824), (17554, 1515915625472846848), (17555, 1515915625513578752), (17556, 1515915625513809408), (17557, 1515915625513531136), (17558, 1515915625513846272), (17559, 1515915625512895744), (17560, 1515915625463129344), (17561, 1515915625471067136), (17562, 1515915625482882048), (17563, 1515915625513831680), (17564, 1515915625513803008), (17565, 1515915625514165504), (17566, 1515915625514162944), (17567, 1515915625514163456), (17568, 1515915625514162688), (17569, 1515915625514164992), (17570, 1515915625514166016), (17571, 1515915625514163968), (17572, 1515915625514165760), (17573, 1515915625514164736), (17574, 1515915625514163712), (17575, 1515915625514164224), (17576, 1515915625514163200), (17577, 1515915625513155328), (17578, 1515915625513809920), (17579, 1515915625513440256), (17580, 1515915625513812736), (17581, 1515915625513999616), (17582, 1515915625513842688), (17583, 1515915625514039552), (17584, 1515915625514007552), (17585, 1515915625514045952), (17586, 1515915625514051840), (17587, 1515915625514056704), (17588, 1515915625513883392), (17589, 1515915625514321920), (17590, 1515915625514235136), (17591, 1515915625513470208), (17592, 1515915625514097920), (17593, 1515915625514137856), (17594, 1515915625514138880), (17595, 1515915625514144256), (17596, 1515915625514594816), (17597, 1515915625513983232), (17598, 1515915625514309376), (17599, 1515915625514185728), (17600, 1515915625513044992), (17601, 1515915625514178816), (17602, 1515915625514599936), (17603, 1515915625514244096), (17604, 1515915625514255104), (17605, 1515915625514149888), (17606, 1515915625514288896), (17607, 1515915625514292992), (17608, 1515915625514301696), (17609, 1515915625514365952), (17610, 1515915625514333952), (17611, 1515915625514217984), (17612, 1515915625514334208), (17613, 1515915625514103552), (17614, 1515915625514344448), (17615, 1515915625475095808), (17616, 1515915625514361856), (17617, 1515915625513600000), (17618, 1515915625514572032), (17619, 1515915625514572288), (17620, 1515915625514367744), (17621, 1515915625514595072), (17622, 1515915625513856768), (17623, 1515915625514536448), (17624, 1515915625514572544), (17625, 1515915625514596608), (17626, 1515915625514421504), (17627, 1515915625514598912), (17628, 1515915625514598656), (17629, 1515915625514598144), (17630, 1515915625514596864), (17631, 1515915625514597376), (17632, 1515915625514597120), (17633, 1515915625514597888), (17634, 1515915625514596096), (17635, 1515915625514597632), (17636, 1515915625514595840), (17637, 1515915625514596352), (17638, 1515915625514598400), (17639, 1515915625514536192), (17640, 1515915625514536704), (17641, 1515915625514428160), (17642, 1515915625514535936), (17643, 1515915625514535424), (17644, 1515915625514535168), (17645, 1515915625514535680), (17646, 1515915625514439936), (17647, 1515915625514440704), (17648, 1515915625514594048), (17649, 1515915625514593792), (17650, 1515915625513631232), (17651, 1515915625514445056), (17652, 1515915625514452480), (17653, 1515915625514121216), (17654, 1515915625473594112), (17655, 1515915625485373440), (17656, 1515915625513405696), (17657, 1515915625514488832), (17658, 1515915625449932032), (17659, 1515915625472523776), (17660, 1515915625484375296), (17661, 1515915625514543872), (17662, 1515915625514552064), (17663, 1515915625514570752), (17664, 1515915625514719488), (17665, 1515915625514719744), (17666, 1515915625514716416), (17667, 1515915625514718464), (17668, 1515915625514717440), (17669, 1515915625514718720), (17670, 1515915625514718208), (17671, 1515915625514720000), (17672, 1515915625514716928), (17673, 1515915625514718976), (17674, 1515915625514717952), (17675, 1515915625514719232), (17676, 1515915625514717184), (17677, 1515915625514022656), (17678, 1515915625514720256), (17679, 1515915625512766464), (17680, 1515915625514677504), (17681, 1515915625513407488), (17682, 1515915625514290688), (17683, 1515915625514802432), (17684, 1515915625514802688), (17685, 1515915625514801408), (17686, 1515915625514803456), (17687, 1515915625514801920), (17688, 1515915625514803712), (17689, 1515915625514803200), (17690, 1515915625514802944), (17691, 1515915625514800384), (17692, 1515915625514802176), (17693, 1515915625514800896), (17694, 1515915625514800128), (17695, 1515915625514800640), (17696, 1515915625514801152), (17697, 1515915625514799360), (17698, 1515915625450587648), (17699, 1515915625514628352), (17700, 1515915625514804736), (17701, 1515915625514814208), (17702, 1515915625451180288), (17703, 1515915625514857728)])"
            ]
          },
          "metadata": {
            "tags": []
          },
          "execution_count": 33
        }
      ]
    },
    {
      "cell_type": "code",
      "metadata": {
        "colab": {
          "base_uri": "https://localhost:8080/",
          "height": 66,
          "referenced_widgets": [
            "37d65b11ff3543cfb8270adc76a79bd9",
            "e9206df3327f406b8faa29f2f738a234",
            "ba556a079a344d109f555c8f581a87e5",
            "1b191c904c544c09a9f33d88f5a42f2a",
            "9ef4dc82a8f842aeb0033482fd564397",
            "489fe0920cd94085af38c94ece8a6b83",
            "84366ee68b0b4b9296395ab6a47a3154",
            "81366a7ee6814b5db90086c38350fa68"
          ]
        },
        "id": "vQVne15oMS38",
        "outputId": "4af80c2f-fe61-4c28-bd3b-3f6697b9ffa6"
      },
      "source": [
        "top_k = 10\n",
        "\n",
        "tmp_predictions = []\n",
        "\n",
        "for (n, personId) in tqdm(userss.items()):\n",
        "    if personId in interactions.index:\n",
        "      prediction = np.asarray([itemss[i] for i in fin_pred[n]])\n",
        "      \n",
        "      tmp_predictions.append(\n",
        "          list(prediction[~np.in1d(\n",
        "              prediction,\n",
        "              interactions.loc[personId, 'true_train'])])[:top_k])\n",
        "\n",
        "    \n",
        "interactions['prediction_content'] = tmp_predictions"
      ],
      "execution_count": 39,
      "outputs": [
        {
          "output_type": "display_data",
          "data": {
            "application/vnd.jupyter.widget-view+json": {
              "model_id": "37d65b11ff3543cfb8270adc76a79bd9",
              "version_minor": 0,
              "version_major": 2
            },
            "text/plain": [
              "HBox(children=(FloatProgress(value=0.0, max=17704.0), HTML(value='')))"
            ]
          },
          "metadata": {
            "tags": []
          }
        },
        {
          "output_type": "stream",
          "text": [
            "\n"
          ],
          "name": "stdout"
        }
      ]
    },
    {
      "cell_type": "code",
      "metadata": {
        "colab": {
          "base_uri": "https://localhost:8080/"
        },
        "id": "kHlCBCaXMZT_",
        "outputId": "762d6e26-19dd-4bd5-e229-0a4aecb15501"
      },
      "source": [
        "calc_precision('prediction_content')"
      ],
      "execution_count": 44,
      "outputs": [
        {
          "output_type": "execute_result",
          "data": {
            "text/plain": [
              "3.4387646666087006e-05"
            ]
          },
          "metadata": {
            "tags": []
          },
          "execution_count": 44
        }
      ]
    },
    {
      "cell_type": "code",
      "metadata": {
        "colab": {
          "base_uri": "https://localhost:8080/"
        },
        "id": "G9J9GzmjnOxr",
        "outputId": "febc4bf0-f3e9-4e71-a3d6-f4f07ffc95d9"
      },
      "source": [
        "proceeds('prediction_content') #выигрыш в денежном вырадении"
      ],
      "execution_count": 47,
      "outputs": [
        {
          "output_type": "execute_result",
          "data": {
            "text/plain": [
              "183.94533333333334"
            ]
          },
          "metadata": {
            "tags": []
          },
          "execution_count": 47
        }
      ]
    },
    {
      "cell_type": "code",
      "metadata": {
        "colab": {
          "base_uri": "https://localhost:8080/"
        },
        "id": "lEF44XN8nOxv",
        "outputId": "5e892a46-08d1-496a-9a51-1b877be78c62"
      },
      "source": [
        "proceeds('prediction_content')/proceeds('true_test')*100 # выигрыш в процентном выражении относительно выручки теста"
      ],
      "execution_count": 48,
      "outputs": [
        {
          "output_type": "execute_result",
          "data": {
            "text/plain": [
              "0.0029231223074224024"
            ]
          },
          "metadata": {
            "tags": []
          },
          "execution_count": 48
        }
      ]
    },
    {
      "cell_type": "markdown",
      "metadata": {
        "id": "wkS5xLVpphlm"
      },
      "source": [
        "# Модели на 50 предсказаний"
      ]
    },
    {
      "cell_type": "markdown",
      "metadata": {
        "id": "pmUQJBLypgCx"
      },
      "source": [
        "## Base model (модель выдающая самые популярные товары)"
      ]
    },
    {
      "cell_type": "code",
      "metadata": {
        "id": "op4I3RBHpgDC"
      },
      "source": [
        "# сортируем по популярности\n",
        "popular_content = (\n",
        "    interactions_train_df\n",
        "    .groupby('product_id')\n",
        "    .user_id.count().reset_index()\n",
        "    .product_id.values\n",
        ")"
      ],
      "execution_count": 17,
      "outputs": []
    },
    {
      "cell_type": "code",
      "metadata": {
        "id": "2dL7UkCDpgDD"
      },
      "source": [
        "top_k = 50\n",
        "\n",
        "interactions['prediction_popular'] = (\n",
        "    interactions.true_train\n",
        "    .apply(\n",
        "        lambda x:\n",
        "        popular_content[~np.in1d(popular_content, x)][:top_k]\n",
        "    )\n",
        ")"
      ],
      "execution_count": 18,
      "outputs": []
    },
    {
      "cell_type": "code",
      "metadata": {
        "id": "G9n_fnaOpgDD"
      },
      "source": [
        "# подсчет precision@50\n",
        "def calc_precision(column):\n",
        "    return (\n",
        "        interactions\n",
        "        .apply(\n",
        "            lambda row:\n",
        "            len(set(row['true_test']).intersection(\n",
        "                set(row[column]))) /\n",
        "            min(len(row['true_test']) + 0.001, 50.0),\n",
        "            axis=1)).mean()"
      ],
      "execution_count": 81,
      "outputs": []
    },
    {
      "cell_type": "code",
      "metadata": {
        "colab": {
          "base_uri": "https://localhost:8080/"
        },
        "id": "eAv0-nnupgDE",
        "outputId": "b17548b4-8802-4881-9401-bb696282df36"
      },
      "source": [
        "calc_precision('prediction_popular')"
      ],
      "execution_count": 20,
      "outputs": [
        {
          "output_type": "execute_result",
          "data": {
            "text/plain": [
              "0.00664422910858329"
            ]
          },
          "metadata": {
            "tags": []
          },
          "execution_count": 20
        }
      ]
    },
    {
      "cell_type": "code",
      "metadata": {
        "id": "chrvbXBJpgDF"
      },
      "source": [
        "# финансовый плюс@50\n",
        "price_dict = pd.DataFrame({'price':interactions_full_df.groupby('product_id').mean()['price']}, \n",
        "                          index=interactions_full_df.groupby('product_id').mean().index).to_dict()\n",
        "\n",
        "def proceeds(column):\n",
        "    res = []\n",
        "    for i in interactions.apply(lambda row:\n",
        "            set(row['true_test']).intersection(set(row[column])), axis=1):\n",
        "        res.extend(i)\n",
        "    return sum([price_dict['price'][i] for i in res])"
      ],
      "execution_count": 82,
      "outputs": []
    },
    {
      "cell_type": "code",
      "metadata": {
        "colab": {
          "base_uri": "https://localhost:8080/"
        },
        "id": "T7xJRe9KpgDF",
        "outputId": "819c2b59-c578-4565-83fc-e1ad5b355302"
      },
      "source": [
        "proceeds('prediction_popular') #выигрыш в денежном вырадении"
      ],
      "execution_count": 22,
      "outputs": [
        {
          "output_type": "execute_result",
          "data": {
            "text/plain": [
              "251192.68625825358"
            ]
          },
          "metadata": {
            "tags": []
          },
          "execution_count": 22
        }
      ]
    },
    {
      "cell_type": "code",
      "metadata": {
        "colab": {
          "base_uri": "https://localhost:8080/"
        },
        "id": "5DsgACA6pgDF",
        "outputId": "ea2cb44e-6bbb-4b46-9d68-8a7927b0ab82"
      },
      "source": [
        "proceeds('prediction_popular')/proceeds('true_test')*100 # выигрыш в процентном выражении относительно выручки теста"
      ],
      "execution_count": 23,
      "outputs": [
        {
          "output_type": "execute_result",
          "data": {
            "text/plain": [
              "3.99176718080838"
            ]
          },
          "metadata": {
            "tags": []
          },
          "execution_count": 23
        }
      ]
    },
    {
      "cell_type": "markdown",
      "metadata": {
        "id": "v84u7LMYpgDI"
      },
      "source": [
        "## Memory-based collaborative filtering"
      ]
    },
    {
      "cell_type": "code",
      "metadata": {
        "id": "QYOz-2jTpgDI"
      },
      "source": [
        "interactions_train_df['eventStrength']=np.ones(interactions_train_df.shape[0])"
      ],
      "execution_count": 24,
      "outputs": []
    },
    {
      "cell_type": "code",
      "metadata": {
        "id": "U2ydB5OWpgDI"
      },
      "source": [
        "ratings = pd.pivot_table(\n",
        "    interactions_train_df,\n",
        "    values='eventStrength',\n",
        "    index='user_id',\n",
        "    columns='product_id').fillna(0)"
      ],
      "execution_count": 25,
      "outputs": []
    },
    {
      "cell_type": "code",
      "metadata": {
        "id": "_3aRGKampgDJ"
      },
      "source": [
        "ratings_m = ratings.values"
      ],
      "execution_count": 26,
      "outputs": []
    },
    {
      "cell_type": "code",
      "metadata": {
        "id": "9AKNXMltpgDJ"
      },
      "source": [
        "# матрица корреляций\n",
        "similarity_users = np.corrcoef(ratings_m)"
      ],
      "execution_count": 27,
      "outputs": []
    },
    {
      "cell_type": "code",
      "metadata": {
        "colab": {
          "base_uri": "https://localhost:8080/",
          "height": 66,
          "referenced_widgets": [
            "4fd338bd4eb44ab9a2c07d7b25206fc1",
            "29b26918a8fb472fb4313f4d0046bc4f",
            "e0ad2b5e20124eb293f3642e5c255bfb",
            "43c06292d4814dcab7173af285e7d0e0",
            "5ecee4deee584484937d075528adf3f8",
            "4da6d6c489204a78a44d040b0cb4823c",
            "9bbdd021791d4e3186947f1a13dd4758",
            "f1f2364b06154950b654a355577014b0"
          ]
        },
        "id": "uBuPjALspgDJ",
        "outputId": "ffda85b0-4774-4334-ba79-5fff74dba37d"
      },
      "source": [
        "prediction_user_based = []\n",
        "for i in tqdm(range(len(similarity_users))):\n",
        "    users_sim = similarity_users[i] > 0\n",
        "    if len(users_sim) == 0:\n",
        "        prediction_user_based.append([])\n",
        "    else:\n",
        "        tmp_recommend = np.argsort(ratings_m[users_sim].sum(axis=0))[::-1]\n",
        "        tmp_recommend = ratings.columns[tmp_recommend]\n",
        "        recommend = np.array(tmp_recommend)[~np.in1d(tmp_recommend, interactions.iloc[i])][:50]\n",
        "        prediction_user_based.append(list(recommend))\n",
        "interactions['prediction_user_based'] = prediction_user_based"
      ],
      "execution_count": 28,
      "outputs": [
        {
          "output_type": "display_data",
          "data": {
            "application/vnd.jupyter.widget-view+json": {
              "model_id": "4fd338bd4eb44ab9a2c07d7b25206fc1",
              "version_minor": 0,
              "version_major": 2
            },
            "text/plain": [
              "HBox(children=(FloatProgress(value=0.0, max=17238.0), HTML(value='')))"
            ]
          },
          "metadata": {
            "tags": []
          }
        },
        {
          "output_type": "stream",
          "text": [
            "\n"
          ],
          "name": "stdout"
        }
      ]
    },
    {
      "cell_type": "code",
      "metadata": {
        "colab": {
          "base_uri": "https://localhost:8080/"
        },
        "id": "-xZ1529FpgDK",
        "outputId": "35c458b4-c2e9-4d5d-d417-76d53ac3d093"
      },
      "source": [
        "calc_precision('prediction_user_based')"
      ],
      "execution_count": 29,
      "outputs": [
        {
          "output_type": "execute_result",
          "data": {
            "text/plain": [
              "0.013309346379243307"
            ]
          },
          "metadata": {
            "tags": []
          },
          "execution_count": 29
        }
      ]
    },
    {
      "cell_type": "code",
      "metadata": {
        "colab": {
          "base_uri": "https://localhost:8080/"
        },
        "id": "0rTh3hm0pgDK",
        "outputId": "f8701e76-2781-4bcd-8460-e232159a9ebc"
      },
      "source": [
        "proceeds('prediction_user_based') #выигрыш в денежном вырадении"
      ],
      "execution_count": 30,
      "outputs": [
        {
          "output_type": "execute_result",
          "data": {
            "text/plain": [
              "311622.83492096135"
            ]
          },
          "metadata": {
            "tags": []
          },
          "execution_count": 30
        }
      ]
    },
    {
      "cell_type": "code",
      "metadata": {
        "colab": {
          "base_uri": "https://localhost:8080/"
        },
        "id": "xpKFzWYPpgDK",
        "outputId": "9d506423-25df-4314-883d-577e5e57eabc"
      },
      "source": [
        "proceeds('prediction_user_based')/proceeds('true_test')*100 # выигрыш в процентном выражении относительно выручки теста"
      ],
      "execution_count": 31,
      "outputs": [
        {
          "output_type": "execute_result",
          "data": {
            "text/plain": [
              "4.952078118823369"
            ]
          },
          "metadata": {
            "tags": []
          },
          "execution_count": 31
        }
      ]
    },
    {
      "cell_type": "markdown",
      "metadata": {
        "id": "W1Cvx5ZRpgDK"
      },
      "source": [
        "## Модель разложения со скрытыми переменными"
      ]
    },
    {
      "cell_type": "code",
      "metadata": {
        "colab": {
          "base_uri": "https://localhost:8080/"
        },
        "id": "mIKzmhSipgDL",
        "outputId": "20a2bef0-2041-4b5f-da98-0cf9d843a81e"
      },
      "source": [
        "U, sigma, V = svd(ratings)\n",
        "print(ratings.shape, U.shape, sigma.shape, V.shape)"
      ],
      "execution_count": 32,
      "outputs": [
        {
          "output_type": "stream",
          "text": [
            "(17238, 17171) (17238, 17238) (17171,) (17171, 17171)\n"
          ],
          "name": "stdout"
        }
      ]
    },
    {
      "cell_type": "code",
      "metadata": {
        "id": "YnXLZz4ipgDL"
      },
      "source": [
        "# K наиболее важных компонент\n",
        "K = 400\n",
        "sigma[K:] = 0\n",
        "Sigma = np.zeros((17238, 17171))\n",
        "Sigma[:17171, :17171] = np.diag(sigma)"
      ],
      "execution_count": 33,
      "outputs": []
    },
    {
      "cell_type": "code",
      "metadata": {
        "colab": {
          "base_uri": "https://localhost:8080/"
        },
        "id": "IPeOVoXypgDL",
        "outputId": "9d5c3b11-4b6f-46e8-9af6-8be4755c8aa1"
      },
      "source": [
        "new_ratings = U.dot(Sigma).dot(V)\n",
        "print(sum(sum((new_ratings - ratings.values) ** 2)))\n",
        "print(sum(sum((ratings.values.mean() - ratings.values) ** 2)))"
      ],
      "execution_count": 34,
      "outputs": [
        {
          "output_type": "stream",
          "text": [
            "128591.15027110193\n",
            "250829.08301499774\n"
          ],
          "name": "stdout"
        }
      ]
    },
    {
      "cell_type": "code",
      "metadata": {
        "colab": {
          "base_uri": "https://localhost:8080/",
          "height": 66,
          "referenced_widgets": [
            "bcfed3fe1d7d4385afc50faefc1556c3",
            "f1cfb46348bf4b5380c773ad97c09122",
            "99fe5a2096974d41ab6eef17a69601f9",
            "6978c69d9634486696374759f1e0e14c",
            "5bc6b135774d4a02bea15130deecded7",
            "206084eb1d7942478fd52bc950623d0d",
            "dc2979a7009c486eb7681fb6aa98a00d",
            "2f1ac21548d0485aa255d84aadf57357"
          ]
        },
        "id": "aVO-nZtOpgDL",
        "outputId": "73d0f5e6-cc21-412c-c711-89dc03110308"
      },
      "source": [
        "top_k = 50\n",
        "\n",
        "new_ratings = pd.DataFrame(new_ratings, index=ratings.index, columns=ratings.columns)\n",
        "\n",
        "predictions = []\n",
        "for user_id in tqdm(interactions.index):\n",
        "    prediction = (\n",
        "        new_ratings\n",
        "        .loc[user_id]\n",
        "        .sort_values(ascending=False)\n",
        "        .index.values\n",
        "    )\n",
        "    \n",
        "    predictions.append(\n",
        "        list(prediction[~np.in1d(\n",
        "            prediction,\n",
        "            interactions.loc[user_id, 'true_train'])])[:top_k])\n",
        "interactions['prediction_svd'] = predictions"
      ],
      "execution_count": 35,
      "outputs": [
        {
          "output_type": "display_data",
          "data": {
            "application/vnd.jupyter.widget-view+json": {
              "model_id": "bcfed3fe1d7d4385afc50faefc1556c3",
              "version_minor": 0,
              "version_major": 2
            },
            "text/plain": [
              "HBox(children=(FloatProgress(value=0.0, max=17238.0), HTML(value='')))"
            ]
          },
          "metadata": {
            "tags": []
          }
        },
        {
          "output_type": "stream",
          "text": [
            "\n"
          ],
          "name": "stdout"
        }
      ]
    },
    {
      "cell_type": "code",
      "metadata": {
        "colab": {
          "base_uri": "https://localhost:8080/"
        },
        "id": "4vqT_mWNpgDM",
        "outputId": "7a2780a1-648c-4040-bbb8-8a0d7593932b"
      },
      "source": [
        "calc_precision('prediction_svd')"
      ],
      "execution_count": 36,
      "outputs": [
        {
          "output_type": "execute_result",
          "data": {
            "text/plain": [
              "0.00895510917378739"
            ]
          },
          "metadata": {
            "tags": []
          },
          "execution_count": 36
        }
      ]
    },
    {
      "cell_type": "code",
      "metadata": {
        "colab": {
          "base_uri": "https://localhost:8080/"
        },
        "id": "wEB6RgljpgDM",
        "outputId": "1d9fd0f3-c5f5-4b41-e9b3-3caa45102b07"
      },
      "source": [
        "proceeds('prediction_svd') #выигрыш в денежном вырадении"
      ],
      "execution_count": 37,
      "outputs": [
        {
          "output_type": "execute_result",
          "data": {
            "text/plain": [
              "105037.58617962904"
            ]
          },
          "metadata": {
            "tags": []
          },
          "execution_count": 37
        }
      ]
    },
    {
      "cell_type": "code",
      "metadata": {
        "colab": {
          "base_uri": "https://localhost:8080/"
        },
        "id": "clHVmuRapgDM",
        "outputId": "fdcb93bf-2cf8-4bd3-917f-bb58c038e01d"
      },
      "source": [
        "proceeds('prediction_svd')/proceeds('true_test')*100 # выигрыш в процентном выражении относительно выручки теста"
      ],
      "execution_count": 38,
      "outputs": [
        {
          "output_type": "execute_result",
          "data": {
            "text/plain": [
              "1.669179129013747"
            ]
          },
          "metadata": {
            "tags": []
          },
          "execution_count": 38
        }
      ]
    },
    {
      "cell_type": "markdown",
      "metadata": {
        "id": "EK5yqmhq4A8M"
      },
      "source": [
        "## FM"
      ]
    },
    {
      "cell_type": "code",
      "metadata": {
        "colab": {
          "base_uri": "https://localhost:8080/",
          "height": 66,
          "referenced_widgets": [
            "28279388983f428fa69264057f4d2959",
            "749671cafad84a8ebec3e7aeb9a53561",
            "38c66dfb3b774a04ae63c9641132f627",
            "c3dbce6e1b7345709b4795ee80f544ee",
            "5ea396590ac344018b9eb2ae2c8c0a6d",
            "3f83f4107aca4d169029af182c8b7a4c",
            "dffa1cd7ade34fd7bb22fa078c2ba756",
            "cbfcca3d856d4e988de24075a6d61271"
          ]
        },
        "id": "FICbFsgn4EoC",
        "outputId": "fe3b4f12-0dae-4d53-b001-97b44c14c182"
      },
      "source": [
        "products = interactions_full_df.product_id.unique()\n",
        "predictionsss = []\n",
        "for user in tqdm(interactions.index):\n",
        "    X_test_dict = []\n",
        "    for item in products:\n",
        "        X_test_dict += [{'user': str(user), 'item': str(item)}]\n",
        "    X_test = v.transform(X_test_dict)\n",
        "    pred = fm.predict(X_test)\n",
        "    test = pd.DataFrame({'product_id':products, 'prediction':pred})\n",
        "    predictionsss.append(test.sort_values('prediction', ascending=False)['product_id'][:50])\n",
        "    \n",
        "interactions['prediction_fm'] = predictionsss"
      ],
      "execution_count": 80,
      "outputs": [
        {
          "output_type": "display_data",
          "data": {
            "application/vnd.jupyter.widget-view+json": {
              "model_id": "28279388983f428fa69264057f4d2959",
              "version_minor": 0,
              "version_major": 2
            },
            "text/plain": [
              "HBox(children=(FloatProgress(value=0.0, max=17238.0), HTML(value='')))"
            ]
          },
          "metadata": {
            "tags": []
          }
        },
        {
          "output_type": "stream",
          "text": [
            "\n"
          ],
          "name": "stdout"
        }
      ]
    },
    {
      "cell_type": "code",
      "metadata": {
        "colab": {
          "base_uri": "https://localhost:8080/"
        },
        "id": "9TpmWyVb4EoE",
        "outputId": "f1821c99-468d-431c-a764-b519c1995777"
      },
      "source": [
        "calc_precision('prediction_fm')"
      ],
      "execution_count": 83,
      "outputs": [
        {
          "output_type": "execute_result",
          "data": {
            "text/plain": [
              "0.0005532867581376957"
            ]
          },
          "metadata": {
            "tags": []
          },
          "execution_count": 83
        }
      ]
    },
    {
      "cell_type": "code",
      "metadata": {
        "colab": {
          "base_uri": "https://localhost:8080/"
        },
        "id": "fymtMH9J4EoE",
        "outputId": "1c8f0162-769e-4ec9-cb2d-04f55a7bd495"
      },
      "source": [
        "proceeds('prediction_fm') #выигрыш в денежном вырадении"
      ],
      "execution_count": 84,
      "outputs": [
        {
          "output_type": "execute_result",
          "data": {
            "text/plain": [
              "4942.543994700953"
            ]
          },
          "metadata": {
            "tags": []
          },
          "execution_count": 84
        }
      ]
    },
    {
      "cell_type": "code",
      "metadata": {
        "colab": {
          "base_uri": "https://localhost:8080/"
        },
        "id": "W3Uxi-dH4EoE",
        "outputId": "1deda497-cafa-41dd-e60c-f5d30bd9d69e"
      },
      "source": [
        "proceeds('prediction_fm')/proceeds('true_test')*100 # выигрыш в процентном выражении относительно выручки теста"
      ],
      "execution_count": 85,
      "outputs": [
        {
          "output_type": "execute_result",
          "data": {
            "text/plain": [
              "0.07854322990703934"
            ]
          },
          "metadata": {
            "tags": []
          },
          "execution_count": 85
        }
      ]
    },
    {
      "cell_type": "markdown",
      "metadata": {
        "id": "YSeEb-Spn6QY"
      },
      "source": [
        "## Light FM"
      ]
    },
    {
      "cell_type": "code",
      "metadata": {
        "id": "ylDaFykEn4Gq"
      },
      "source": [
        "fin_pred = pred.reshape((len_users,len_items)).argsort()[::-1][:,:50]"
      ],
      "execution_count": 49,
      "outputs": []
    },
    {
      "cell_type": "code",
      "metadata": {
        "colab": {
          "base_uri": "https://localhost:8080/",
          "height": 66,
          "referenced_widgets": [
            "59fe69d2a30841469fb65ac62f245ddd",
            "88b65587b62d4f94b01793dd939aa94b",
            "52b1e75b39f74bbfb6b6ad15f6dc06aa",
            "be9fdb2a1912473a86d445b67b7ec8bc",
            "e62b43e9de014d17bae5d7c38237f7f8",
            "de17dc35a36a4710974f30a0ff092690",
            "bb6a0dca0bf849c58a35fac9d4abef8a",
            "ca5394e8e14b453295ae643ea2c484da"
          ]
        },
        "id": "GrkIQh24n4Gs",
        "outputId": "0428f4a2-c823-496b-df0a-cdf060f2a92d"
      },
      "source": [
        "top_k = 50\n",
        "\n",
        "tmp_predictions = []\n",
        "\n",
        "for (n, personId) in tqdm(userss.items()):\n",
        "    if personId in interactions.index:\n",
        "      prediction = np.asarray([itemss[i] for i in fin_pred[n]])\n",
        "      \n",
        "      tmp_predictions.append(\n",
        "          list(prediction[~np.in1d(\n",
        "              prediction,\n",
        "              interactions.loc[personId, 'true_train'])])[:top_k])\n",
        "\n",
        "    \n",
        "interactions['prediction_content'] = tmp_predictions"
      ],
      "execution_count": 51,
      "outputs": [
        {
          "output_type": "display_data",
          "data": {
            "application/vnd.jupyter.widget-view+json": {
              "model_id": "59fe69d2a30841469fb65ac62f245ddd",
              "version_minor": 0,
              "version_major": 2
            },
            "text/plain": [
              "HBox(children=(FloatProgress(value=0.0, max=17704.0), HTML(value='')))"
            ]
          },
          "metadata": {
            "tags": []
          }
        },
        {
          "output_type": "stream",
          "text": [
            "\n"
          ],
          "name": "stdout"
        }
      ]
    },
    {
      "cell_type": "code",
      "metadata": {
        "colab": {
          "base_uri": "https://localhost:8080/"
        },
        "id": "a0IwemI_n4Gt",
        "outputId": "b69c347f-5b62-4ca6-d2f3-76c153fc19da"
      },
      "source": [
        "calc_precision('prediction_content')"
      ],
      "execution_count": 52,
      "outputs": [
        {
          "output_type": "execute_result",
          "data": {
            "text/plain": [
              "0.0005451221333909937"
            ]
          },
          "metadata": {
            "tags": []
          },
          "execution_count": 52
        }
      ]
    },
    {
      "cell_type": "code",
      "metadata": {
        "colab": {
          "base_uri": "https://localhost:8080/"
        },
        "id": "7lVm1Sqgn4Gt",
        "outputId": "6107bd03-12f1-405e-fc8b-41eb260b3303"
      },
      "source": [
        "proceeds('prediction_content') #выигрыш в денежном вырадении"
      ],
      "execution_count": 53,
      "outputs": [
        {
          "output_type": "execute_result",
          "data": {
            "text/plain": [
              "7901.519660256409"
            ]
          },
          "metadata": {
            "tags": []
          },
          "execution_count": 53
        }
      ]
    },
    {
      "cell_type": "code",
      "metadata": {
        "colab": {
          "base_uri": "https://localhost:8080/"
        },
        "id": "NVGaSqK7n4Gt",
        "outputId": "a6812250-63a5-4196-da31-1f8724430bdb"
      },
      "source": [
        "proceeds('prediction_content')/proceeds('true_test')*100 # выигрыш в процентном выражении относительно выручки теста"
      ],
      "execution_count": 54,
      "outputs": [
        {
          "output_type": "execute_result",
          "data": {
            "text/plain": [
              "0.12556506850639787"
            ]
          },
          "metadata": {
            "tags": []
          },
          "execution_count": 54
        }
      ]
    },
    {
      "cell_type": "markdown",
      "metadata": {
        "id": "fdzRNutr8Jjz"
      },
      "source": [
        "# Модели на 100 предсказаний"
      ]
    },
    {
      "cell_type": "markdown",
      "metadata": {
        "id": "sWWFDlQg8Jj6"
      },
      "source": [
        "## Base model (модель выдающая самые популярные товары)"
      ]
    },
    {
      "cell_type": "code",
      "metadata": {
        "id": "AQsnBwR68Jj7"
      },
      "source": [
        "# сортируем по популярности\n",
        "popular_content = (\n",
        "    interactions_train_df\n",
        "    .groupby('product_id')\n",
        "    .user_id.count().reset_index()\n",
        "    .product_id.values\n",
        ")"
      ],
      "execution_count": 15,
      "outputs": []
    },
    {
      "cell_type": "code",
      "metadata": {
        "id": "gTHsW_9Q8Jj8"
      },
      "source": [
        "top_k = 100\n",
        "\n",
        "interactions['prediction_popular'] = (\n",
        "    interactions.true_train\n",
        "    .apply(\n",
        "        lambda x:\n",
        "        popular_content[~np.in1d(popular_content, x)][:top_k]\n",
        "    )\n",
        ")"
      ],
      "execution_count": 16,
      "outputs": []
    },
    {
      "cell_type": "code",
      "metadata": {
        "id": "DIo2xuC_8Jj9"
      },
      "source": [
        "# подсчет precision@100\n",
        "def calc_precision(column):\n",
        "    return (\n",
        "        interactions\n",
        "        .apply(\n",
        "            lambda row:\n",
        "            len(set(row['true_test']).intersection(\n",
        "                set(row[column]))) /\n",
        "            min(len(row['true_test']) + 0.001, 100.0),\n",
        "            axis=1)).mean()"
      ],
      "execution_count": 86,
      "outputs": []
    },
    {
      "cell_type": "code",
      "metadata": {
        "colab": {
          "base_uri": "https://localhost:8080/"
        },
        "id": "5zqbOL608Jj-",
        "outputId": "f3b7e601-a775-4698-de4c-ba34d3de4dfd"
      },
      "source": [
        "calc_precision('prediction_popular')"
      ],
      "execution_count": 18,
      "outputs": [
        {
          "output_type": "execute_result",
          "data": {
            "text/plain": [
              "0.012376897860019581"
            ]
          },
          "metadata": {
            "tags": []
          },
          "execution_count": 18
        }
      ]
    },
    {
      "cell_type": "code",
      "metadata": {
        "id": "ujfmzz-M8Jj_"
      },
      "source": [
        "# финансовый плюс@50\n",
        "price_dict = pd.DataFrame({'price':interactions_full_df.groupby('product_id').mean()['price']}, \n",
        "                          index=interactions_full_df.groupby('product_id').mean().index).to_dict()\n",
        "\n",
        "def proceeds(column):\n",
        "    res = []\n",
        "    for i in interactions.apply(lambda row:\n",
        "            set(row['true_test']).intersection(set(row[column])), axis=1):\n",
        "        res.extend(i)\n",
        "    return sum([price_dict['price'][i] for i in res])"
      ],
      "execution_count": 87,
      "outputs": []
    },
    {
      "cell_type": "code",
      "metadata": {
        "colab": {
          "base_uri": "https://localhost:8080/"
        },
        "id": "w3tO43PV8JkA",
        "outputId": "9a249409-9e28-4069-e74a-16e66a023365"
      },
      "source": [
        "proceeds('prediction_popular') #выигрыш в денежном вырадении"
      ],
      "execution_count": 20,
      "outputs": [
        {
          "output_type": "execute_result",
          "data": {
            "text/plain": [
              "438791.21562375437"
            ]
          },
          "metadata": {
            "tags": []
          },
          "execution_count": 20
        }
      ]
    },
    {
      "cell_type": "code",
      "metadata": {
        "colab": {
          "base_uri": "https://localhost:8080/"
        },
        "id": "iXbnG9-18JkA",
        "outputId": "1dedc9db-f345-45b8-ec12-b8b28e48a8a7"
      },
      "source": [
        "proceeds('prediction_popular')/proceeds('true_test')*100 # выигрыш в процентном выражении относительно выручки теста"
      ],
      "execution_count": 21,
      "outputs": [
        {
          "output_type": "execute_result",
          "data": {
            "text/plain": [
              "6.972943360114906"
            ]
          },
          "metadata": {
            "tags": []
          },
          "execution_count": 21
        }
      ]
    },
    {
      "cell_type": "markdown",
      "metadata": {
        "id": "WxvfAWYg8JkB"
      },
      "source": [
        "## Memory-based collaborative filtering"
      ]
    },
    {
      "cell_type": "code",
      "metadata": {
        "id": "X27KofaR8JkB"
      },
      "source": [
        "interactions_train_df['eventStrength']=np.ones(interactions_train_df.shape[0])"
      ],
      "execution_count": 22,
      "outputs": []
    },
    {
      "cell_type": "code",
      "metadata": {
        "id": "WGCLFULO8JkC"
      },
      "source": [
        "ratings = pd.pivot_table(\n",
        "    interactions_train_df,\n",
        "    values='eventStrength',\n",
        "    index='user_id',\n",
        "    columns='product_id').fillna(0)"
      ],
      "execution_count": 23,
      "outputs": []
    },
    {
      "cell_type": "code",
      "metadata": {
        "id": "MxuL-v828JkE"
      },
      "source": [
        "ratings_m = ratings.values"
      ],
      "execution_count": 24,
      "outputs": []
    },
    {
      "cell_type": "code",
      "metadata": {
        "id": "m7HVFu4-8JkE"
      },
      "source": [
        "# матрица корреляций\n",
        "similarity_users = np.corrcoef(ratings_m)"
      ],
      "execution_count": 25,
      "outputs": []
    },
    {
      "cell_type": "code",
      "metadata": {
        "colab": {
          "base_uri": "https://localhost:8080/",
          "height": 66,
          "referenced_widgets": [
            "67a12875fee84701a125e201b46ec23e",
            "2867f056b2a34ee69067a581b20ce2c6",
            "d9ea9e1c5c75438987cd6d14c024298e",
            "2f7a9e152a1d4e08a4ce67e6233325b9",
            "0ed9310cc1a04719b1fd9c5f0b73165d",
            "9d67498f48ab4a33878f01e91e034d24",
            "9700e5229bd34c8490d64f33b45f1380",
            "7d5ea7b9702d47c8892e1f9a504b5c1a"
          ]
        },
        "id": "YZ2OmPPh8JkF",
        "outputId": "2ebd4536-2da7-404d-991d-633edf0837fd"
      },
      "source": [
        "prediction_user_based = []\n",
        "for i in tqdm(range(len(similarity_users))):\n",
        "    users_sim = similarity_users[i] > 0\n",
        "    if len(users_sim) == 0:\n",
        "        prediction_user_based.append([])\n",
        "    else:\n",
        "        tmp_recommend = np.argsort(ratings_m[users_sim].sum(axis=0))[::-1]\n",
        "        tmp_recommend = ratings.columns[tmp_recommend]\n",
        "        recommend = np.array(tmp_recommend)[~np.in1d(tmp_recommend, interactions.iloc[i])][:100]\n",
        "        prediction_user_based.append(list(recommend))\n",
        "interactions['prediction_user_based'] = prediction_user_based"
      ],
      "execution_count": 26,
      "outputs": [
        {
          "output_type": "display_data",
          "data": {
            "application/vnd.jupyter.widget-view+json": {
              "model_id": "67a12875fee84701a125e201b46ec23e",
              "version_minor": 0,
              "version_major": 2
            },
            "text/plain": [
              "HBox(children=(FloatProgress(value=0.0, max=17238.0), HTML(value='')))"
            ]
          },
          "metadata": {
            "tags": []
          }
        },
        {
          "output_type": "stream",
          "text": [
            "\n"
          ],
          "name": "stdout"
        }
      ]
    },
    {
      "cell_type": "code",
      "metadata": {
        "colab": {
          "base_uri": "https://localhost:8080/"
        },
        "id": "ij_imo0d8JkF",
        "outputId": "333639dd-e3df-41a0-a318-b8b3b6975c8d"
      },
      "source": [
        "calc_precision('prediction_user_based')"
      ],
      "execution_count": 27,
      "outputs": [
        {
          "output_type": "execute_result",
          "data": {
            "text/plain": [
              "0.02075173199921388"
            ]
          },
          "metadata": {
            "tags": []
          },
          "execution_count": 27
        }
      ]
    },
    {
      "cell_type": "code",
      "metadata": {
        "colab": {
          "base_uri": "https://localhost:8080/"
        },
        "id": "0WF7DZrn8JkG",
        "outputId": "5b2f349e-453c-4c21-fa21-1ab6b03de71f"
      },
      "source": [
        "proceeds('prediction_user_based') #выигрыш в денежном вырадении"
      ],
      "execution_count": 28,
      "outputs": [
        {
          "output_type": "execute_result",
          "data": {
            "text/plain": [
              "488517.82455295936"
            ]
          },
          "metadata": {
            "tags": []
          },
          "execution_count": 28
        }
      ]
    },
    {
      "cell_type": "code",
      "metadata": {
        "colab": {
          "base_uri": "https://localhost:8080/"
        },
        "id": "A8cEbtDb8JkG",
        "outputId": "6be40131-4a91-4752-81f5-dc6e84bc35ae"
      },
      "source": [
        "proceeds('prediction_user_based')/proceeds('true_test')*100 # выигрыш в процентном выражении относительно выручки теста"
      ],
      "execution_count": 29,
      "outputs": [
        {
          "output_type": "execute_result",
          "data": {
            "text/plain": [
              "7.763161612458515"
            ]
          },
          "metadata": {
            "tags": []
          },
          "execution_count": 29
        }
      ]
    },
    {
      "cell_type": "markdown",
      "metadata": {
        "id": "bG9jZJDo8JkG"
      },
      "source": [
        "## Модель разложения со скрытыми переменными"
      ]
    },
    {
      "cell_type": "code",
      "metadata": {
        "colab": {
          "base_uri": "https://localhost:8080/"
        },
        "id": "KEEOdOXQ8JkH",
        "outputId": "242d6bb1-da68-45e2-ef48-e86b095e866b"
      },
      "source": [
        "U, sigma, V = svd(ratings)\n",
        "print(ratings.shape, U.shape, sigma.shape, V.shape)"
      ],
      "execution_count": 30,
      "outputs": [
        {
          "output_type": "stream",
          "text": [
            "(17238, 17171) (17238, 17238) (17171,) (17171, 17171)\n"
          ],
          "name": "stdout"
        }
      ]
    },
    {
      "cell_type": "code",
      "metadata": {
        "id": "vzxdShlX8JkH"
      },
      "source": [
        "# K наиболее важных компонент\n",
        "K = 400\n",
        "sigma[K:] = 0\n",
        "Sigma = np.zeros((17238, 17171))\n",
        "Sigma[:17171, :17171] = np.diag(sigma)"
      ],
      "execution_count": 31,
      "outputs": []
    },
    {
      "cell_type": "code",
      "metadata": {
        "colab": {
          "base_uri": "https://localhost:8080/"
        },
        "id": "1aAQEer68JkH",
        "outputId": "befc3ac1-8019-4691-925f-f42e8f84b910"
      },
      "source": [
        "new_ratings = U.dot(Sigma).dot(V)\n",
        "print(sum(sum((new_ratings - ratings.values) ** 2)))\n",
        "print(sum(sum((ratings.values.mean() - ratings.values) ** 2)))"
      ],
      "execution_count": 32,
      "outputs": [
        {
          "output_type": "stream",
          "text": [
            "128591.15027110193\n",
            "250829.08301499774\n"
          ],
          "name": "stdout"
        }
      ]
    },
    {
      "cell_type": "code",
      "metadata": {
        "colab": {
          "base_uri": "https://localhost:8080/",
          "height": 66,
          "referenced_widgets": [
            "01a149f1d4684da8be71aa2d4260c22a",
            "db0174ca50f6471e9b9aaddcc1398021",
            "edc7b75de33548828da69111180a21b9",
            "7f1a6d9ff19547b1a4ef2ce34a19290c",
            "d441f58cdd804e899544233b029330e3",
            "e0e7e4b32a564703b4a5754430c69b44",
            "a124ba572e294725905c22ad7e2b2285",
            "91a9c9c45c2c42a8be98b51aced6f63c"
          ]
        },
        "id": "uzm6skgZ8JkI",
        "outputId": "211a1ff8-cb98-4b15-cf5c-f11325af35ec"
      },
      "source": [
        "top_k = 100\n",
        "\n",
        "new_ratings = pd.DataFrame(new_ratings, index=ratings.index, columns=ratings.columns)\n",
        "\n",
        "predictions = []\n",
        "for user_id in tqdm(interactions.index):\n",
        "    prediction = (\n",
        "        new_ratings\n",
        "        .loc[user_id]\n",
        "        .sort_values(ascending=False)\n",
        "        .index.values\n",
        "    )\n",
        "    \n",
        "    predictions.append(\n",
        "        list(prediction[~np.in1d(\n",
        "            prediction,\n",
        "            interactions.loc[user_id, 'true_train'])])[:top_k])\n",
        "interactions['prediction_svd'] = predictions"
      ],
      "execution_count": 33,
      "outputs": [
        {
          "output_type": "display_data",
          "data": {
            "application/vnd.jupyter.widget-view+json": {
              "model_id": "01a149f1d4684da8be71aa2d4260c22a",
              "version_minor": 0,
              "version_major": 2
            },
            "text/plain": [
              "HBox(children=(FloatProgress(value=0.0, max=17238.0), HTML(value='')))"
            ]
          },
          "metadata": {
            "tags": []
          }
        },
        {
          "output_type": "stream",
          "text": [
            "\n"
          ],
          "name": "stdout"
        }
      ]
    },
    {
      "cell_type": "code",
      "metadata": {
        "colab": {
          "base_uri": "https://localhost:8080/"
        },
        "id": "4a3Sefay8JkI",
        "outputId": "e5a5f4f8-5024-4dea-ffde-da6ae65ece70"
      },
      "source": [
        "calc_precision('prediction_svd')"
      ],
      "execution_count": 34,
      "outputs": [
        {
          "output_type": "execute_result",
          "data": {
            "text/plain": [
              "0.01368590581891613"
            ]
          },
          "metadata": {
            "tags": []
          },
          "execution_count": 34
        }
      ]
    },
    {
      "cell_type": "code",
      "metadata": {
        "colab": {
          "base_uri": "https://localhost:8080/"
        },
        "id": "4S_yGvlv8JkI",
        "outputId": "d6a54ca3-e9e9-4cf9-f881-62ce4e71fba9"
      },
      "source": [
        "proceeds('prediction_svd') #выигрыш в денежном вырадении"
      ],
      "execution_count": 35,
      "outputs": [
        {
          "output_type": "execute_result",
          "data": {
            "text/plain": [
              "193032.38747064144"
            ]
          },
          "metadata": {
            "tags": []
          },
          "execution_count": 35
        }
      ]
    },
    {
      "cell_type": "code",
      "metadata": {
        "colab": {
          "base_uri": "https://localhost:8080/"
        },
        "id": "E9V7ihm18JkJ",
        "outputId": "8f714dbc-0e16-4d5b-e26f-0303c81e934c"
      },
      "source": [
        "proceeds('prediction_svd')/proceeds('true_test')*100 # выигрыш в процентном выражении относительно выручки теста"
      ],
      "execution_count": 36,
      "outputs": [
        {
          "output_type": "execute_result",
          "data": {
            "text/plain": [
              "3.067527007319765"
            ]
          },
          "metadata": {
            "tags": []
          },
          "execution_count": 36
        }
      ]
    },
    {
      "cell_type": "markdown",
      "metadata": {
        "id": "9XVe3UDZAfkx"
      },
      "source": [
        "## FM"
      ]
    },
    {
      "cell_type": "code",
      "metadata": {
        "colab": {
          "base_uri": "https://localhost:8080/",
          "height": 66,
          "referenced_widgets": [
            "3bc99aa100174b29826735e8753a9b9b",
            "d9bb3d4f74344d3baf16d257f61789dd",
            "81439b7f0901487eae926c9db0ff3f0b",
            "180016c9ab324b1c918f09f68fa746b4",
            "1cfbc3c9ef044fcaa51833ac7450d2bc",
            "cce77942666743f7bcf079005c0b9e25",
            "aeb16d030b7c43178af37db473391d96",
            "a1cd50e549b74afaa8406745ad685b25"
          ]
        },
        "id": "qkxcPfsBAeIS",
        "outputId": "db9f6e4d-bf52-4dfc-c243-71bd2ad5bad5"
      },
      "source": [
        "products = interactions_full_df.product_id.unique()\n",
        "predictionsss = []\n",
        "for user in tqdm(interactions.index):\n",
        "    X_test_dict = []\n",
        "    for item in products:\n",
        "        X_test_dict += [{'user': str(user), 'item': str(item)}]\n",
        "    X_test = v.transform(X_test_dict)\n",
        "    pred = fm.predict(X_test)\n",
        "    test = pd.DataFrame({'product_id':products, 'prediction':pred})\n",
        "    predictionsss.append(test.sort_values('prediction', ascending=False)['product_id'][:100])\n",
        "    \n",
        "interactions['prediction_fm'] = predictionsss"
      ],
      "execution_count": 88,
      "outputs": [
        {
          "output_type": "display_data",
          "data": {
            "application/vnd.jupyter.widget-view+json": {
              "model_id": "3bc99aa100174b29826735e8753a9b9b",
              "version_minor": 0,
              "version_major": 2
            },
            "text/plain": [
              "HBox(children=(FloatProgress(value=0.0, max=17238.0), HTML(value='')))"
            ]
          },
          "metadata": {
            "tags": []
          }
        },
        {
          "output_type": "stream",
          "text": [
            "\n"
          ],
          "name": "stdout"
        }
      ]
    },
    {
      "cell_type": "code",
      "metadata": {
        "colab": {
          "base_uri": "https://localhost:8080/"
        },
        "id": "mjBSgcDIAeIT",
        "outputId": "b0cf1b0b-23ae-490a-f50e-a3118e16f0d7"
      },
      "source": [
        "calc_precision('prediction_fm')"
      ],
      "execution_count": 89,
      "outputs": [
        {
          "output_type": "execute_result",
          "data": {
            "text/plain": [
              "0.001148866568598332"
            ]
          },
          "metadata": {
            "tags": []
          },
          "execution_count": 89
        }
      ]
    },
    {
      "cell_type": "code",
      "metadata": {
        "colab": {
          "base_uri": "https://localhost:8080/"
        },
        "id": "UG431v2uAeIT",
        "outputId": "9b85bbcb-983d-485c-bce5-a510b7c38c89"
      },
      "source": [
        "proceeds('prediction_fm') #выигрыш в денежном вырадении"
      ],
      "execution_count": 90,
      "outputs": [
        {
          "output_type": "execute_result",
          "data": {
            "text/plain": [
              "16867.062547922236"
            ]
          },
          "metadata": {
            "tags": []
          },
          "execution_count": 90
        }
      ]
    },
    {
      "cell_type": "code",
      "metadata": {
        "colab": {
          "base_uri": "https://localhost:8080/"
        },
        "id": "QlG14UOjAeIT",
        "outputId": "a386b01e-6232-4e15-e066-f3359083b5d4"
      },
      "source": [
        "proceeds('prediction_fm')/proceeds('true_test')*100 # выигрыш в процентном выражении относительно выручки теста"
      ],
      "execution_count": 91,
      "outputs": [
        {
          "output_type": "execute_result",
          "data": {
            "text/plain": [
              "0.2680388020780835"
            ]
          },
          "metadata": {
            "tags": []
          },
          "execution_count": 91
        }
      ]
    },
    {
      "cell_type": "markdown",
      "metadata": {
        "id": "pxB6WCTNoZnV"
      },
      "source": [
        "## Light FM"
      ]
    },
    {
      "cell_type": "code",
      "metadata": {
        "id": "0ZgJQeLXoZnW"
      },
      "source": [
        "fin_pred = pred.reshape((len_users,len_items)).argsort()[::-1][:,:100]"
      ],
      "execution_count": 55,
      "outputs": []
    },
    {
      "cell_type": "code",
      "metadata": {
        "colab": {
          "base_uri": "https://localhost:8080/",
          "height": 66,
          "referenced_widgets": [
            "bbc343fd9b314239a750199b2c3b18bc",
            "670ca9783e0140daba595d998db33d6d",
            "58717f14afb64cd8bcbc5ef2bbfc9799",
            "ab85b27ebd0a4b8088cc5b97ceb7d33d",
            "bbe0950ca5ed462797133d1607bec72a",
            "74b3ac23e14b40d492eda000aa7c5bb8",
            "b7679e4b4265420889aa8b2509332721",
            "b511ae7b3e044170a4aafddc37e560fa"
          ]
        },
        "id": "W7SJxz_5oZnW",
        "outputId": "348d8932-1cbc-43b2-83e6-c0230f5a1a33"
      },
      "source": [
        "top_k = 100\n",
        "\n",
        "tmp_predictions = []\n",
        "\n",
        "for (n, personId) in tqdm(userss.items()):\n",
        "    if personId in interactions.index:\n",
        "      prediction = np.asarray([itemss[i] for i in fin_pred[n]])\n",
        "      \n",
        "      tmp_predictions.append(\n",
        "          list(prediction[~np.in1d(\n",
        "              prediction,\n",
        "              interactions.loc[personId, 'true_train'])])[:top_k])\n",
        "\n",
        "    \n",
        "interactions['prediction_content'] = tmp_predictions"
      ],
      "execution_count": 56,
      "outputs": [
        {
          "output_type": "display_data",
          "data": {
            "application/vnd.jupyter.widget-view+json": {
              "model_id": "bbc343fd9b314239a750199b2c3b18bc",
              "version_minor": 0,
              "version_major": 2
            },
            "text/plain": [
              "HBox(children=(FloatProgress(value=0.0, max=17704.0), HTML(value='')))"
            ]
          },
          "metadata": {
            "tags": []
          }
        },
        {
          "output_type": "stream",
          "text": [
            "\n"
          ],
          "name": "stdout"
        }
      ]
    },
    {
      "cell_type": "code",
      "metadata": {
        "colab": {
          "base_uri": "https://localhost:8080/"
        },
        "id": "shiHe_3ToZnX",
        "outputId": "3bccb4b1-58c1-47f3-f3ae-a8f720e32a40"
      },
      "source": [
        "calc_precision('prediction_content')"
      ],
      "execution_count": 57,
      "outputs": [
        {
          "output_type": "execute_result",
          "data": {
            "text/plain": [
              "0.0010883984537172085"
            ]
          },
          "metadata": {
            "tags": []
          },
          "execution_count": 57
        }
      ]
    },
    {
      "cell_type": "code",
      "metadata": {
        "colab": {
          "base_uri": "https://localhost:8080/"
        },
        "id": "wsQiPPbtoZnY",
        "outputId": "41a26a37-24ee-4123-9283-d7af5fd96512"
      },
      "source": [
        "proceeds('prediction_content') #выигрыш в денежном вырадении"
      ],
      "execution_count": 58,
      "outputs": [
        {
          "output_type": "execute_result",
          "data": {
            "text/plain": [
              "28146.00963696448"
            ]
          },
          "metadata": {
            "tags": []
          },
          "execution_count": 58
        }
      ]
    },
    {
      "cell_type": "code",
      "metadata": {
        "colab": {
          "base_uri": "https://localhost:8080/"
        },
        "id": "R-6XG5J5oZnY",
        "outputId": "325c0d28-56d5-45db-8400-555cf1255083"
      },
      "source": [
        "proceeds('prediction_content')/proceeds('true_test')*100 # выигрыш в процентном выражении относительно выручки теста"
      ],
      "execution_count": 59,
      "outputs": [
        {
          "output_type": "execute_result",
          "data": {
            "text/plain": [
              "0.44727543310731877"
            ]
          },
          "metadata": {
            "tags": []
          },
          "execution_count": 59
        }
      ]
    },
    {
      "cell_type": "markdown",
      "metadata": {
        "id": "bxgmkS61C1y8"
      },
      "source": [
        "# Модели на 25 предсказаний"
      ]
    },
    {
      "cell_type": "markdown",
      "metadata": {
        "id": "TMGh2pjjC1zA"
      },
      "source": [
        "## Base model (модель выдающая самые популярные товары)"
      ]
    },
    {
      "cell_type": "code",
      "metadata": {
        "id": "fdsj4ctUC1zA"
      },
      "source": [
        "# сортируем по популярности\n",
        "popular_content = (\n",
        "    interactions_train_df\n",
        "    .groupby('product_id')\n",
        "    .user_id.count().reset_index()\n",
        "    .product_id.values\n",
        ")"
      ],
      "execution_count": 15,
      "outputs": []
    },
    {
      "cell_type": "code",
      "metadata": {
        "id": "FQ-lxMdQC1zB"
      },
      "source": [
        "top_k = 25\n",
        "\n",
        "interactions['prediction_popular'] = (\n",
        "    interactions.true_train\n",
        "    .apply(\n",
        "        lambda x:\n",
        "        popular_content[~np.in1d(popular_content, x)][:top_k]\n",
        "    )\n",
        ")"
      ],
      "execution_count": 16,
      "outputs": []
    },
    {
      "cell_type": "code",
      "metadata": {
        "id": "xFPOdwxQC1zB"
      },
      "source": [
        "# подсчет precision@100\n",
        "def calc_precision(column):\n",
        "    return (\n",
        "        interactions\n",
        "        .apply(\n",
        "            lambda row:\n",
        "            len(set(row['true_test']).intersection(\n",
        "                set(row[column]))) /\n",
        "            min(len(row['true_test']) + 0.001, 25.0),\n",
        "            axis=1)).mean()"
      ],
      "execution_count": 92,
      "outputs": []
    },
    {
      "cell_type": "code",
      "metadata": {
        "colab": {
          "base_uri": "https://localhost:8080/"
        },
        "id": "r1bdmquPC1zC",
        "outputId": "c711ddb8-a4c8-40ea-eaa9-751a3778ba60"
      },
      "source": [
        "calc_precision('prediction_popular')"
      ],
      "execution_count": 18,
      "outputs": [
        {
          "output_type": "execute_result",
          "data": {
            "text/plain": [
              "0.0024559706355812803"
            ]
          },
          "metadata": {
            "tags": []
          },
          "execution_count": 18
        }
      ]
    },
    {
      "cell_type": "code",
      "metadata": {
        "id": "B1ujgf7nC1zC"
      },
      "source": [
        "# финансовый плюс@50\n",
        "price_dict = pd.DataFrame({'price':interactions_full_df.groupby('product_id').mean()['price']}, \n",
        "                          index=interactions_full_df.groupby('product_id').mean().index).to_dict()\n",
        "\n",
        "def proceeds(column):\n",
        "    res = []\n",
        "    for i in interactions.apply(lambda row:\n",
        "            set(row['true_test']).intersection(set(row[column])), axis=1):\n",
        "        res.extend(i)\n",
        "    return sum([price_dict['price'][i] for i in res])"
      ],
      "execution_count": 93,
      "outputs": []
    },
    {
      "cell_type": "code",
      "metadata": {
        "colab": {
          "base_uri": "https://localhost:8080/"
        },
        "id": "psA9FeKFC1zD",
        "outputId": "3bbae850-5258-4f64-8ac6-0e85b3c14b23"
      },
      "source": [
        "proceeds('prediction_popular') #выигрыш в денежном вырадении"
      ],
      "execution_count": 20,
      "outputs": [
        {
          "output_type": "execute_result",
          "data": {
            "text/plain": [
              "77918.2274051107"
            ]
          },
          "metadata": {
            "tags": []
          },
          "execution_count": 20
        }
      ]
    },
    {
      "cell_type": "code",
      "metadata": {
        "colab": {
          "base_uri": "https://localhost:8080/"
        },
        "id": "Lv8sbMlqC1zD",
        "outputId": "b39ca57e-fff1-4b57-dee3-7175e4dc47c5"
      },
      "source": [
        "proceeds('prediction_popular')/proceeds('true_test')*100 # выигрыш в процентном выражении относительно выручки теста"
      ],
      "execution_count": 21,
      "outputs": [
        {
          "output_type": "execute_result",
          "data": {
            "text/plain": [
              "1.2382184671679122"
            ]
          },
          "metadata": {
            "tags": []
          },
          "execution_count": 21
        }
      ]
    },
    {
      "cell_type": "markdown",
      "metadata": {
        "id": "dJCDyOu5C1zD"
      },
      "source": [
        "## Memory-based collaborative filtering"
      ]
    },
    {
      "cell_type": "code",
      "metadata": {
        "id": "nUiDshHfC1zE"
      },
      "source": [
        "interactions_train_df['eventStrength']=np.ones(interactions_train_df.shape[0])"
      ],
      "execution_count": 27,
      "outputs": []
    },
    {
      "cell_type": "code",
      "metadata": {
        "id": "tv4g-tQxC1zE"
      },
      "source": [
        "ratings = pd.pivot_table(\n",
        "    interactions_train_df,\n",
        "    values='eventStrength',\n",
        "    index='user_id',\n",
        "    columns='product_id').fillna(0)"
      ],
      "execution_count": 28,
      "outputs": []
    },
    {
      "cell_type": "code",
      "metadata": {
        "id": "gPWmJKIvC1zE"
      },
      "source": [
        "ratings_m = ratings.values"
      ],
      "execution_count": 29,
      "outputs": []
    },
    {
      "cell_type": "code",
      "metadata": {
        "id": "lA9lYpFLC1zE"
      },
      "source": [
        "# матрица корреляций\n",
        "similarity_users = np.corrcoef(ratings_m)"
      ],
      "execution_count": 47,
      "outputs": []
    },
    {
      "cell_type": "code",
      "metadata": {
        "colab": {
          "base_uri": "https://localhost:8080/",
          "height": 66,
          "referenced_widgets": [
            "39efdacb55424a8baf98cbb326d7fbb8",
            "e4d50e53290b4cc986843e5357832ced",
            "bf76cca304db4a1e91ae4de197af70b3",
            "7d4bfa1708994a64a914667929158d88",
            "cdd502b62bb94230acf381745d64b8e9",
            "74aed06317d0473eb7d33808e5ad1f2a",
            "830e23b79d2f415087cb0c647496e7c3",
            "97d5264961404c98ae7922c6cbafa044"
          ]
        },
        "id": "AXyyPwNzC1zF",
        "outputId": "e93c1d28-58ce-4ba9-9a88-e84125b1e934"
      },
      "source": [
        "prediction_user_based = []\n",
        "for i in tqdm(range(len(similarity_users))):\n",
        "    users_sim = similarity_users[i] > 0\n",
        "    if len(users_sim) == 0:\n",
        "        prediction_user_based.append([])\n",
        "    else:\n",
        "        tmp_recommend = np.argsort(ratings_m[users_sim].sum(axis=0))[::-1]\n",
        "        tmp_recommend = ratings.columns[tmp_recommend]\n",
        "        recommend = np.array(tmp_recommend)[~np.in1d(tmp_recommend, interactions.iloc[i])][:25]\n",
        "        prediction_user_based.append(list(recommend))\n",
        "interactions['prediction_user_based'] = prediction_user_based"
      ],
      "execution_count": 48,
      "outputs": [
        {
          "output_type": "display_data",
          "data": {
            "application/vnd.jupyter.widget-view+json": {
              "model_id": "39efdacb55424a8baf98cbb326d7fbb8",
              "version_minor": 0,
              "version_major": 2
            },
            "text/plain": [
              "HBox(children=(FloatProgress(value=0.0, max=17238.0), HTML(value='')))"
            ]
          },
          "metadata": {
            "tags": []
          }
        },
        {
          "output_type": "stream",
          "text": [
            "\n"
          ],
          "name": "stdout"
        }
      ]
    },
    {
      "cell_type": "code",
      "metadata": {
        "colab": {
          "base_uri": "https://localhost:8080/"
        },
        "id": "gZKF4bBEC1zF",
        "outputId": "8987c85e-195f-4512-f7d7-32a3d575bbd7"
      },
      "source": [
        "calc_precision('prediction_user_based')"
      ],
      "execution_count": 49,
      "outputs": [
        {
          "output_type": "execute_result",
          "data": {
            "text/plain": [
              "0.007665108387843075"
            ]
          },
          "metadata": {
            "tags": []
          },
          "execution_count": 49
        }
      ]
    },
    {
      "cell_type": "code",
      "metadata": {
        "colab": {
          "base_uri": "https://localhost:8080/"
        },
        "id": "Sat-1wnpC1zH",
        "outputId": "f9253647-8f93-45f5-bd1c-9781269c877b"
      },
      "source": [
        "proceeds('prediction_user_based') #выигрыш в денежном вырадении"
      ],
      "execution_count": 50,
      "outputs": [
        {
          "output_type": "execute_result",
          "data": {
            "text/plain": [
              "187477.24884838736"
            ]
          },
          "metadata": {
            "tags": []
          },
          "execution_count": 50
        }
      ]
    },
    {
      "cell_type": "code",
      "metadata": {
        "colab": {
          "base_uri": "https://localhost:8080/"
        },
        "id": "s9ilhbiPC1zH",
        "outputId": "5620786a-a118-49f1-f2a1-859d4c83ee3d"
      },
      "source": [
        "proceeds('prediction_user_based')/proceeds('true_test')*100 # выигрыш в процентном выражении относительно выручки теста"
      ],
      "execution_count": 51,
      "outputs": [
        {
          "output_type": "execute_result",
          "data": {
            "text/plain": [
              "2.979248879610439"
            ]
          },
          "metadata": {
            "tags": []
          },
          "execution_count": 51
        }
      ]
    },
    {
      "cell_type": "markdown",
      "metadata": {
        "id": "qUyNHLHAC1zH"
      },
      "source": [
        "## Модель разложения со скрытыми переменными"
      ]
    },
    {
      "cell_type": "code",
      "metadata": {
        "colab": {
          "base_uri": "https://localhost:8080/"
        },
        "id": "O6TCFbWhC1zH",
        "outputId": "838e7f1d-1bbc-4eca-f74a-16cae72be63b"
      },
      "source": [
        "U, sigma, V = svd(ratings)\n",
        "print(ratings.shape, U.shape, sigma.shape, V.shape)"
      ],
      "execution_count": 30,
      "outputs": [
        {
          "output_type": "stream",
          "text": [
            "(17238, 17171) (17238, 17238) (17171,) (17171, 17171)\n"
          ],
          "name": "stdout"
        }
      ]
    },
    {
      "cell_type": "code",
      "metadata": {
        "id": "-iwu_PolC1zI"
      },
      "source": [
        "# K наиболее важных компонент\n",
        "K = 400\n",
        "sigma[K:] = 0\n",
        "Sigma = np.zeros((17238, 17171))\n",
        "Sigma[:17171, :17171] = np.diag(sigma)"
      ],
      "execution_count": 31,
      "outputs": []
    },
    {
      "cell_type": "code",
      "metadata": {
        "colab": {
          "base_uri": "https://localhost:8080/"
        },
        "id": "1AL0kCnQC1zI",
        "outputId": "377c1548-ceca-4363-add9-9b047225642f"
      },
      "source": [
        "new_ratings = U.dot(Sigma).dot(V)\n",
        "print(sum(sum((new_ratings - ratings.values) ** 2)))\n",
        "print(sum(sum((ratings.values.mean() - ratings.values) ** 2)))"
      ],
      "execution_count": 32,
      "outputs": [
        {
          "output_type": "stream",
          "text": [
            "128591.15027110193\n",
            "250829.08301499774\n"
          ],
          "name": "stdout"
        }
      ]
    },
    {
      "cell_type": "code",
      "metadata": {
        "colab": {
          "base_uri": "https://localhost:8080/",
          "height": 66,
          "referenced_widgets": [
            "f91aad0b96734cfd8e97528a7c35d949",
            "616a1a0fbf964801bc32404cb1b4d48d",
            "b17d90ec36ef4732ae7850f79201dfb8",
            "e9848bcf9ed64274adb7800baf2cb4d3",
            "75ae0cc0947e47fa9283ebf18ad0508d",
            "05a24973f5984ba188ef3e9f4cc39eb4",
            "938dd21d3cc347c1bc3fd90aec66aa11",
            "e1ccd2d34f77409eb31507261335b9b9"
          ]
        },
        "id": "Q5xS40W6C1zI",
        "outputId": "86496cb3-570c-46cc-a877-afbb6e911803"
      },
      "source": [
        "top_k = 25\n",
        "\n",
        "new_ratings = pd.DataFrame(new_ratings, index=ratings.index, columns=ratings.columns)\n",
        "\n",
        "predictions = []\n",
        "for user_id in tqdm(interactions.index):\n",
        "    prediction = (\n",
        "        new_ratings\n",
        "        .loc[user_id]\n",
        "        .sort_values(ascending=False)\n",
        "        .index.values\n",
        "    )\n",
        "    \n",
        "    predictions.append(\n",
        "        list(prediction[~np.in1d(\n",
        "            prediction,\n",
        "            interactions.loc[user_id, 'true_train'])])[:top_k])\n",
        "interactions['prediction_svd'] = predictions"
      ],
      "execution_count": 33,
      "outputs": [
        {
          "output_type": "display_data",
          "data": {
            "application/vnd.jupyter.widget-view+json": {
              "model_id": "f91aad0b96734cfd8e97528a7c35d949",
              "version_minor": 0,
              "version_major": 2
            },
            "text/plain": [
              "HBox(children=(FloatProgress(value=0.0, max=17238.0), HTML(value='')))"
            ]
          },
          "metadata": {
            "tags": []
          }
        },
        {
          "output_type": "stream",
          "text": [
            "\n"
          ],
          "name": "stdout"
        }
      ]
    },
    {
      "cell_type": "code",
      "metadata": {
        "colab": {
          "base_uri": "https://localhost:8080/"
        },
        "id": "QVk_AKvhC1zI",
        "outputId": "4a0a5443-0e1c-4649-eaa5-8cbcd3fed1db"
      },
      "source": [
        "calc_precision('prediction_svd')"
      ],
      "execution_count": 34,
      "outputs": [
        {
          "output_type": "execute_result",
          "data": {
            "text/plain": [
              "0.0060969330331789645"
            ]
          },
          "metadata": {
            "tags": []
          },
          "execution_count": 34
        }
      ]
    },
    {
      "cell_type": "code",
      "metadata": {
        "colab": {
          "base_uri": "https://localhost:8080/"
        },
        "id": "dl2cbnEPC1zI",
        "outputId": "68199530-631a-4a30-fd23-d6ecc9b91580"
      },
      "source": [
        "proceeds('prediction_svd') #выигрыш в денежном вырадении"
      ],
      "execution_count": 35,
      "outputs": [
        {
          "output_type": "execute_result",
          "data": {
            "text/plain": [
              "63971.8797937698"
            ]
          },
          "metadata": {
            "tags": []
          },
          "execution_count": 35
        }
      ]
    },
    {
      "cell_type": "code",
      "metadata": {
        "colab": {
          "base_uri": "https://localhost:8080/"
        },
        "id": "AxDoUhg2C1zJ",
        "outputId": "335b0f39-2541-46ae-d696-9daf379fdfdf"
      },
      "source": [
        "proceeds('prediction_svd')/proceeds('true_test')*100 # выигрыш в процентном выражении относительно выручки теста"
      ],
      "execution_count": 36,
      "outputs": [
        {
          "output_type": "execute_result",
          "data": {
            "text/plain": [
              "1.016593492665826"
            ]
          },
          "metadata": {
            "tags": []
          },
          "execution_count": 36
        }
      ]
    },
    {
      "cell_type": "markdown",
      "metadata": {
        "id": "UG_h9Kt8Ap7Q"
      },
      "source": [
        "## FM"
      ]
    },
    {
      "cell_type": "code",
      "metadata": {
        "colab": {
          "base_uri": "https://localhost:8080/",
          "height": 66,
          "referenced_widgets": [
            "732e0e9102c549e198aa8d2a1b6a6115",
            "1b8b48b4bfbc404987039b1182727363",
            "a0bf7e10a87a41889e67bb23ec93f8fb",
            "34a65f36fb044532a7f4ab35e2081250",
            "de3a16289ec8405d8ba46033845e33d4",
            "6205ed3eefa94cc0bdfe42e7b9fb9f34",
            "2d05a394056a4d8589e459b0a0f9b94c",
            "5ab1b847b89b46879666504ae2c660a5"
          ]
        },
        "id": "yYT93HVXAp7R",
        "outputId": "0d68c260-2db8-4a9e-f6ea-31c49d6972e5"
      },
      "source": [
        "products = interactions_full_df.product_id.unique()\n",
        "predictionsss = []\n",
        "for user in tqdm(interactions.index):\n",
        "    X_test_dict = []\n",
        "    for item in products:\n",
        "        X_test_dict += [{'user': str(user), 'item': str(item)}]\n",
        "    X_test = v.transform(X_test_dict)\n",
        "    pred = fm.predict(X_test)\n",
        "    test = pd.DataFrame({'product_id':products, 'prediction':pred})\n",
        "    predictionsss.append(test.sort_values('prediction', ascending=False)['product_id'][:25])\n",
        "    \n",
        "interactions['prediction_fm'] = predictionsss"
      ],
      "execution_count": 94,
      "outputs": [
        {
          "output_type": "display_data",
          "data": {
            "application/vnd.jupyter.widget-view+json": {
              "model_id": "732e0e9102c549e198aa8d2a1b6a6115",
              "version_minor": 0,
              "version_major": 2
            },
            "text/plain": [
              "HBox(children=(FloatProgress(value=0.0, max=17238.0), HTML(value='')))"
            ]
          },
          "metadata": {
            "tags": []
          }
        },
        {
          "output_type": "stream",
          "text": [
            "\n"
          ],
          "name": "stdout"
        }
      ]
    },
    {
      "cell_type": "code",
      "metadata": {
        "colab": {
          "base_uri": "https://localhost:8080/"
        },
        "id": "XBEsLmGeAp7S",
        "outputId": "1dcbfd04-92f0-4568-9574-518de512ad9e"
      },
      "source": [
        "calc_precision('prediction_fm')"
      ],
      "execution_count": 95,
      "outputs": [
        {
          "output_type": "execute_result",
          "data": {
            "text/plain": [
              "0.00028061267831054555"
            ]
          },
          "metadata": {
            "tags": []
          },
          "execution_count": 95
        }
      ]
    },
    {
      "cell_type": "code",
      "metadata": {
        "colab": {
          "base_uri": "https://localhost:8080/"
        },
        "id": "v_ZGsLJMAp7T",
        "outputId": "0c1984c4-178f-4f90-c1b5-d7e0475dd59f"
      },
      "source": [
        "proceeds('prediction_fm') #выигрыш в денежном вырадении"
      ],
      "execution_count": 96,
      "outputs": [
        {
          "output_type": "execute_result",
          "data": {
            "text/plain": [
              "3727.3492327961876"
            ]
          },
          "metadata": {
            "tags": []
          },
          "execution_count": 96
        }
      ]
    },
    {
      "cell_type": "code",
      "metadata": {
        "colab": {
          "base_uri": "https://localhost:8080/"
        },
        "id": "GBHmZ03MAp7T",
        "outputId": "09c5d843-ff7b-47f2-e3de-def94b2d42c0"
      },
      "source": [
        "proceeds('prediction_fm')/proceeds('true_test')*100 # выигрыш в процентном выражении относительно выручки теста"
      ],
      "execution_count": 97,
      "outputs": [
        {
          "output_type": "execute_result",
          "data": {
            "text/plain": [
              "0.05923225934846755"
            ]
          },
          "metadata": {
            "tags": []
          },
          "execution_count": 97
        }
      ]
    },
    {
      "cell_type": "markdown",
      "metadata": {
        "id": "m2pZRqg5oosU"
      },
      "source": [
        "## Light FM"
      ]
    },
    {
      "cell_type": "code",
      "metadata": {
        "id": "GqoVGTkSoosU"
      },
      "source": [
        "fin_pred = pred.reshape((len_users,len_items)).argsort()[::-1][:,:25]"
      ],
      "execution_count": 60,
      "outputs": []
    },
    {
      "cell_type": "code",
      "metadata": {
        "colab": {
          "base_uri": "https://localhost:8080/",
          "height": 66,
          "referenced_widgets": [
            "d155f2f97e2d449cb6826aca20fb811c",
            "c78be393282c4008aec3540e6e5e1d32",
            "cfccc3bacabe4eb696a93b7b3b95958e",
            "6a755b2a309d4fcaa7ec757d3b18b48a",
            "c64c7abc89fa4e6c98f31c6127b1a6ae",
            "380f59da9297415f9d99abb2f568a1c0",
            "c80a307d167046188b88f003eca0cf51",
            "e36898e6674d4f95a28b2bf3db242e57"
          ]
        },
        "id": "wUoxkm4KoosU",
        "outputId": "9e191100-ffa8-4fda-88cf-0a52653b8d62"
      },
      "source": [
        "top_k = 25\n",
        "\n",
        "tmp_predictions = []\n",
        "\n",
        "for (n, personId) in tqdm(userss.items()):\n",
        "    if personId in interactions.index:\n",
        "      prediction = np.asarray([itemss[i] for i in fin_pred[n]])\n",
        "      \n",
        "      tmp_predictions.append(\n",
        "          list(prediction[~np.in1d(\n",
        "              prediction,\n",
        "              interactions.loc[personId, 'true_train'])])[:top_k])\n",
        "\n",
        "    \n",
        "interactions['prediction_content'] = tmp_predictions"
      ],
      "execution_count": 61,
      "outputs": [
        {
          "output_type": "display_data",
          "data": {
            "application/vnd.jupyter.widget-view+json": {
              "model_id": "d155f2f97e2d449cb6826aca20fb811c",
              "version_minor": 0,
              "version_major": 2
            },
            "text/plain": [
              "HBox(children=(FloatProgress(value=0.0, max=17704.0), HTML(value='')))"
            ]
          },
          "metadata": {
            "tags": []
          }
        },
        {
          "output_type": "stream",
          "text": [
            "\n"
          ],
          "name": "stdout"
        }
      ]
    },
    {
      "cell_type": "code",
      "metadata": {
        "colab": {
          "base_uri": "https://localhost:8080/"
        },
        "id": "u20S8Xo8oosV",
        "outputId": "8511f7b7-8837-4510-ad11-388d9afc5b6b"
      },
      "source": [
        "calc_precision('prediction_content')"
      ],
      "execution_count": 62,
      "outputs": [
        {
          "output_type": "execute_result",
          "data": {
            "text/plain": [
              "0.00010028533181060694"
            ]
          },
          "metadata": {
            "tags": []
          },
          "execution_count": 62
        }
      ]
    },
    {
      "cell_type": "code",
      "metadata": {
        "colab": {
          "base_uri": "https://localhost:8080/"
        },
        "id": "0FhlloOHoosV",
        "outputId": "824d8c04-37a3-4904-f7ad-999e1ac611d6"
      },
      "source": [
        "proceeds('prediction_content') #выигрыш в денежном вырадении"
      ],
      "execution_count": 63,
      "outputs": [
        {
          "output_type": "execute_result",
          "data": {
            "text/plain": [
              "842.1030256410255"
            ]
          },
          "metadata": {
            "tags": []
          },
          "execution_count": 63
        }
      ]
    },
    {
      "cell_type": "code",
      "metadata": {
        "colab": {
          "base_uri": "https://localhost:8080/"
        },
        "id": "VujmO1d-oosW",
        "outputId": "770264bd-ced8-4c73-82c8-64ed43463f64"
      },
      "source": [
        "proceeds('prediction_content')/proceeds('true_test')*100 # выигрыш в процентном выражении относительно выручки теста"
      ],
      "execution_count": 64,
      "outputs": [
        {
          "output_type": "execute_result",
          "data": {
            "text/plain": [
              "0.01338207441739492"
            ]
          },
          "metadata": {
            "tags": []
          },
          "execution_count": 64
        }
      ]
    },
    {
      "cell_type": "markdown",
      "metadata": {
        "id": "EQmOjrmaw1rS"
      },
      "source": [
        "# Result analisys"
      ]
    },
    {
      "cell_type": "code",
      "metadata": {
        "id": "vB6uEYghv1z2"
      },
      "source": [
        "# prec\n",
        "k = [10, 25, 50, 100]\n",
        "base = [0.0005860024419242492, 0.0024559706355812803, 0.00664422910858329, 0.012376897860019581]\n",
        "Item_based = [0.0036360613333033106, 0.007665108387843075, 0.013309346379243307, 0.02075173199921388]\n",
        "Svd = [0.003869806707793473, 0.0060969330331789645, 0.00895510917378739, 0.01368590581891613]\n",
        "pyfm = [8.801826662361938e-05, 0.00028061267831054555, 0.0005532867581376957, 0.001148866568598332]\n",
        "lightfm = [3.4387646666087006e-05, 0.00010028533181060694, 0.0005451221333909937, 0.0010883984537172085]"
      ],
      "execution_count": null,
      "outputs": []
    },
    {
      "cell_type": "code",
      "metadata": {
        "colab": {
          "base_uri": "https://localhost:8080/",
          "height": 296
        },
        "id": "ZgXL6dHDAQ6A",
        "outputId": "c8eab7a7-5bff-48d4-efbc-6d4587c3f573"
      },
      "source": [
        "plt.plot(k,base,k,Item_based,k,Svd,k,pyfm,k,lightfm)\n",
        "plt.legend(['Base model', 'Item-based', 'Matrix factorization', 'PYFM', 'LightFM'])\n",
        "plt.xlabel('Number of products in recommendations (k)')\n",
        "plt.ylabel('precision@k score')"
      ],
      "execution_count": null,
      "outputs": [
        {
          "output_type": "execute_result",
          "data": {
            "text/plain": [
              "Text(0, 0.5, 'precision@k score')"
            ]
          },
          "metadata": {
            "tags": []
          },
          "execution_count": 13
        },
        {
          "output_type": "display_data",
          "data": {
            "image/png": "[encoded data removed]",
            "text/plain": [
              "<Figure size 432x288 with 1 Axes>"
            ]
          },
          "metadata": {
            "tags": [],
            "needs_background": "light"
          }
        }
      ]
    },
    {
      "cell_type": "code",
      "metadata": {
        "id": "NlIFLw3RAm_0"
      },
      "source": [
        "# proceeds\n",
        "k = [10, 25, 50, 100]\n",
        "base = [13148.054013656954, 77918.2274051107, 251192.68625825358, 438791.21562375437]\n",
        "Item_based = [68480.28497087724, 187477.24884838736, 311622.83492096135, 488517.82455295936]\n",
        "Svd = [33022.86034778828, 63971.8797937698, 105037.58617962904, 193032.38747064144]\n",
        "pyfm = [1123.1032051282052, 3727.3492327961876, 4942.543994700953, 16867.062547922236]\n",
        "lightfm = [183.94533333333334, 842.1030256410255, 7901.519660256409, 28146.00963696448]"
      ],
      "execution_count": null,
      "outputs": []
    },
    {
      "cell_type": "code",
      "metadata": {
        "colab": {
          "base_uri": "https://localhost:8080/",
          "height": 320
        },
        "id": "fnnuLxL7Yb6C",
        "outputId": "caf285c3-7497-4ba3-870a-a9fe98fffb8a"
      },
      "source": [
        "plt.plot(k,np.array(base)/1000,k,np.array(Item_based)/1000,k,np.array(Svd)/1000,k,np.array(pyfm)/1000,k,np.array(lightfm)/1000)\n",
        "plt.legend(['Base model', 'Item-based', 'Matrix factorization', 'PYFM', 'LightFM'])\n",
        "plt.xlabel('Number of products in recommendations (k)')\n",
        "plt.ylabel('Revenue from recommendations in thousands of c.u.')"
      ],
      "execution_count": null,
      "outputs": [
        {
          "output_type": "execute_result",
          "data": {
            "text/plain": [
              "Text(0, 0.5, 'Revenue from recommendations in thousands of c.u.')"
            ]
          },
          "metadata": {
            "tags": []
          },
          "execution_count": 22
        },
        {
          "output_type": "display_data",
          "data": {
            "image/png": "[encoded data removed]",
            "text/plain": [
              "<Figure size 432x288 with 1 Axes>"
            ]
          },
          "metadata": {
            "tags": [],
            "needs_background": "light"
          }
        }
      ]
    },
    {
      "cell_type": "code",
      "metadata": {
        "id": "j9vAd7pPWloE"
      },
      "source": [
        "# proceeds in %\n",
        "k = [10, 25, 50, 100]\n",
        "base = [0.20893908690180757, 1.2382184671679122, 3.99176718080838, 6.972943360114906]\n",
        "Item_based = [1.0882377116589765, 2.979248879610439, 4.952078118823369, 7.763161612458515]\n",
        "Svd = [0.5247747142494218, 1.016593492665826, 1.669179129013747, 3.067527007319765]\n",
        "pyfm = [0.017847520091736613, 0.05923225934846755, 0.07854322990703934, 0.2680388020780835]\n",
        "lightfm = [0.0029231223074224024, 0.01338207441739492, 0.12556506850639787, 0.44727543310731877]"
      ],
      "execution_count": null,
      "outputs": []
    },
    {
      "cell_type": "code",
      "metadata": {
        "colab": {
          "base_uri": "https://localhost:8080/",
          "height": 317
        },
        "id": "yub8mJ2Dss5z",
        "outputId": "bb97c5c4-e7fc-4b50-b5e4-1792b0808aef"
      },
      "source": [
        "plt.plot(k,base,k,Item_based,k,Svd,k,pyfm,k,lightfm)\n",
        "plt.legend(['Base model', 'Item-based', 'Matrix factorization', 'PYFM', 'LightFM'])\n",
        "plt.xlabel('Number of products in recommendations (k)')\n",
        "plt.ylabel('Revenue from recommendations / total revenue (%)')"
      ],
      "execution_count": null,
      "outputs": [
        {
          "output_type": "execute_result",
          "data": {
            "text/plain": [
              "Text(0, 0.5, 'Revenue from recommendations / total revenue (%)')"
            ]
          },
          "metadata": {
            "tags": []
          },
          "execution_count": 27
        },
        {
          "output_type": "display_data",
          "data": {
            "image/png": "[encoded data removed]",
            "text/plain": [
              "<Figure size 432x288 with 1 Axes>"
            ]
          },
          "metadata": {
            "tags": [],
            "needs_background": "light"
          }
        }
      ]
    }
  ]
}
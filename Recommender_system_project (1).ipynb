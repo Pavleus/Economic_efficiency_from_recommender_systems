{
  "nbformat": 4,
  "nbformat_minor": 0,
  "metadata": {
    "colab": {
      "name": "Recommender_system_project.ipynb",
      "provenance": [],
      "collapsed_sections": [],
      "machine_shape": "hm"
    },
    "kernelspec": {
      "name": "python3",
      "display_name": "Python 3"
    },
    "language_info": {
      "name": "python"
    },
    "widgets": {
      "application/vnd.jupyter.widget-state+json": {
        "81b3a178ebca41fb85adef6ebed6e81d": {
          "model_module": "@jupyter-widgets/controls",
          "model_name": "HBoxModel",
          "state": {
            "_view_name": "HBoxView",
            "_dom_classes": [],
            "_model_name": "HBoxModel",
            "_view_module": "@jupyter-widgets/controls",
            "_model_module_version": "1.5.0",
            "_view_count": null,
            "_view_module_version": "1.5.0",
            "box_style": "",
            "layout": "IPY_MODEL_935fe6b3c81844288545eece4440e63b",
            "_model_module": "@jupyter-widgets/controls",
            "children": [
              "IPY_MODEL_014251f8c44442f8bb2bd5012a6001bb",
              "IPY_MODEL_0ff90f0284a24da0b64e3ae7ebf84777"
            ]
          }
        },
        "935fe6b3c81844288545eece4440e63b": {
          "model_module": "@jupyter-widgets/base",
          "model_name": "LayoutModel",
          "state": {
            "_view_name": "LayoutView",
            "grid_template_rows": null,
            "right": null,
            "justify_content": null,
            "_view_module": "@jupyter-widgets/base",
            "overflow": null,
            "_model_module_version": "1.2.0",
            "_view_count": null,
            "flex_flow": null,
            "width": null,
            "min_width": null,
            "border": null,
            "align_items": null,
            "bottom": null,
            "_model_module": "@jupyter-widgets/base",
            "top": null,
            "grid_column": null,
            "overflow_y": null,
            "overflow_x": null,
            "grid_auto_flow": null,
            "grid_area": null,
            "grid_template_columns": null,
            "flex": null,
            "_model_name": "LayoutModel",
            "justify_items": null,
            "grid_row": null,
            "max_height": null,
            "align_content": null,
            "visibility": null,
            "align_self": null,
            "height": null,
            "min_height": null,
            "padding": null,
            "grid_auto_rows": null,
            "grid_gap": null,
            "max_width": null,
            "order": null,
            "_view_module_version": "1.2.0",
            "grid_template_areas": null,
            "object_position": null,
            "object_fit": null,
            "grid_auto_columns": null,
            "margin": null,
            "display": null,
            "left": null
          }
        },
        "014251f8c44442f8bb2bd5012a6001bb": {
          "model_module": "@jupyter-widgets/controls",
          "model_name": "FloatProgressModel",
          "state": {
            "_view_name": "ProgressView",
            "style": "IPY_MODEL_5d82d26db58f4dd8a37c15211788899d",
            "_dom_classes": [],
            "description": "100%",
            "_model_name": "FloatProgressModel",
            "bar_style": "success",
            "max": 17238,
            "_view_module": "@jupyter-widgets/controls",
            "_model_module_version": "1.5.0",
            "value": 17238,
            "_view_count": null,
            "_view_module_version": "1.5.0",
            "orientation": "horizontal",
            "min": 0,
            "description_tooltip": null,
            "_model_module": "@jupyter-widgets/controls",
            "layout": "IPY_MODEL_46598457d0f24f9e8ff4499351b0af06"
          }
        },
        "0ff90f0284a24da0b64e3ae7ebf84777": {
          "model_module": "@jupyter-widgets/controls",
          "model_name": "HTMLModel",
          "state": {
            "_view_name": "HTMLView",
            "style": "IPY_MODEL_85e2eaa0b906498fb19b1de7896fcf3e",
            "_dom_classes": [],
            "description": "",
            "_model_name": "HTMLModel",
            "placeholder": "​",
            "_view_module": "@jupyter-widgets/controls",
            "_model_module_version": "1.5.0",
            "value": " 17238/17238 [1:30:58&lt;00:00,  3.16it/s]",
            "_view_count": null,
            "_view_module_version": "1.5.0",
            "description_tooltip": null,
            "_model_module": "@jupyter-widgets/controls",
            "layout": "IPY_MODEL_667daca46c3b4e8c9697eb64f770e5e8"
          }
        },
        "5d82d26db58f4dd8a37c15211788899d": {
          "model_module": "@jupyter-widgets/controls",
          "model_name": "ProgressStyleModel",
          "state": {
            "_view_name": "StyleView",
            "_model_name": "ProgressStyleModel",
            "description_width": "initial",
            "_view_module": "@jupyter-widgets/base",
            "_model_module_version": "1.5.0",
            "_view_count": null,
            "_view_module_version": "1.2.0",
            "bar_color": null,
            "_model_module": "@jupyter-widgets/controls"
          }
        },
        "46598457d0f24f9e8ff4499351b0af06": {
          "model_module": "@jupyter-widgets/base",
          "model_name": "LayoutModel",
          "state": {
            "_view_name": "LayoutView",
            "grid_template_rows": null,
            "right": null,
            "justify_content": null,
            "_view_module": "@jupyter-widgets/base",
            "overflow": null,
            "_model_module_version": "1.2.0",
            "_view_count": null,
            "flex_flow": null,
            "width": null,
            "min_width": null,
            "border": null,
            "align_items": null,
            "bottom": null,
            "_model_module": "@jupyter-widgets/base",
            "top": null,
            "grid_column": null,
            "overflow_y": null,
            "overflow_x": null,
            "grid_auto_flow": null,
            "grid_area": null,
            "grid_template_columns": null,
            "flex": null,
            "_model_name": "LayoutModel",
            "justify_items": null,
            "grid_row": null,
            "max_height": null,
            "align_content": null,
            "visibility": null,
            "align_self": null,
            "height": null,
            "min_height": null,
            "padding": null,
            "grid_auto_rows": null,
            "grid_gap": null,
            "max_width": null,
            "order": null,
            "_view_module_version": "1.2.0",
            "grid_template_areas": null,
            "object_position": null,
            "object_fit": null,
            "grid_auto_columns": null,
            "margin": null,
            "display": null,
            "left": null
          }
        },
        "85e2eaa0b906498fb19b1de7896fcf3e": {
          "model_module": "@jupyter-widgets/controls",
          "model_name": "DescriptionStyleModel",
          "state": {
            "_view_name": "StyleView",
            "_model_name": "DescriptionStyleModel",
            "description_width": "",
            "_view_module": "@jupyter-widgets/base",
            "_model_module_version": "1.5.0",
            "_view_count": null,
            "_view_module_version": "1.2.0",
            "_model_module": "@jupyter-widgets/controls"
          }
        },
        "667daca46c3b4e8c9697eb64f770e5e8": {
          "model_module": "@jupyter-widgets/base",
          "model_name": "LayoutModel",
          "state": {
            "_view_name": "LayoutView",
            "grid_template_rows": null,
            "right": null,
            "justify_content": null,
            "_view_module": "@jupyter-widgets/base",
            "overflow": null,
            "_model_module_version": "1.2.0",
            "_view_count": null,
            "flex_flow": null,
            "width": null,
            "min_width": null,
            "border": null,
            "align_items": null,
            "bottom": null,
            "_model_module": "@jupyter-widgets/base",
            "top": null,
            "grid_column": null,
            "overflow_y": null,
            "overflow_x": null,
            "grid_auto_flow": null,
            "grid_area": null,
            "grid_template_columns": null,
            "flex": null,
            "_model_name": "LayoutModel",
            "justify_items": null,
            "grid_row": null,
            "max_height": null,
            "align_content": null,
            "visibility": null,
            "align_self": null,
            "height": null,
            "min_height": null,
            "padding": null,
            "grid_auto_rows": null,
            "grid_gap": null,
            "max_width": null,
            "order": null,
            "_view_module_version": "1.2.0",
            "grid_template_areas": null,
            "object_position": null,
            "object_fit": null,
            "grid_auto_columns": null,
            "margin": null,
            "display": null,
            "left": null
          }
        },
        "832547b92e5b4809b44e17f4277e9b24": {
          "model_module": "@jupyter-widgets/controls",
          "model_name": "HBoxModel",
          "state": {
            "_view_name": "HBoxView",
            "_dom_classes": [],
            "_model_name": "HBoxModel",
            "_view_module": "@jupyter-widgets/controls",
            "_model_module_version": "1.5.0",
            "_view_count": null,
            "_view_module_version": "1.5.0",
            "box_style": "",
            "layout": "IPY_MODEL_5c4096b1d9e647e3be9c1c6fe49e3834",
            "_model_module": "@jupyter-widgets/controls",
            "children": [
              "IPY_MODEL_aa762567545d415b892331f21ece1d20",
              "IPY_MODEL_3f24a696cb90431a9c949f81797fbc6b"
            ]
          }
        },
        "5c4096b1d9e647e3be9c1c6fe49e3834": {
          "model_module": "@jupyter-widgets/base",
          "model_name": "LayoutModel",
          "state": {
            "_view_name": "LayoutView",
            "grid_template_rows": null,
            "right": null,
            "justify_content": null,
            "_view_module": "@jupyter-widgets/base",
            "overflow": null,
            "_model_module_version": "1.2.0",
            "_view_count": null,
            "flex_flow": null,
            "width": null,
            "min_width": null,
            "border": null,
            "align_items": null,
            "bottom": null,
            "_model_module": "@jupyter-widgets/base",
            "top": null,
            "grid_column": null,
            "overflow_y": null,
            "overflow_x": null,
            "grid_auto_flow": null,
            "grid_area": null,
            "grid_template_columns": null,
            "flex": null,
            "_model_name": "LayoutModel",
            "justify_items": null,
            "grid_row": null,
            "max_height": null,
            "align_content": null,
            "visibility": null,
            "align_self": null,
            "height": null,
            "min_height": null,
            "padding": null,
            "grid_auto_rows": null,
            "grid_gap": null,
            "max_width": null,
            "order": null,
            "_view_module_version": "1.2.0",
            "grid_template_areas": null,
            "object_position": null,
            "object_fit": null,
            "grid_auto_columns": null,
            "margin": null,
            "display": null,
            "left": null
          }
        },
        "aa762567545d415b892331f21ece1d20": {
          "model_module": "@jupyter-widgets/controls",
          "model_name": "FloatProgressModel",
          "state": {
            "_view_name": "ProgressView",
            "style": "IPY_MODEL_08940ff417d24075a71c9c66d90fa8b8",
            "_dom_classes": [],
            "description": "100%",
            "_model_name": "FloatProgressModel",
            "bar_style": "success",
            "max": 17238,
            "_view_module": "@jupyter-widgets/controls",
            "_model_module_version": "1.5.0",
            "value": 17238,
            "_view_count": null,
            "_view_module_version": "1.5.0",
            "orientation": "horizontal",
            "min": 0,
            "description_tooltip": null,
            "_model_module": "@jupyter-widgets/controls",
            "layout": "IPY_MODEL_6ed0eb22c7ff4a5e8571379ef0b89d31"
          }
        },
        "3f24a696cb90431a9c949f81797fbc6b": {
          "model_module": "@jupyter-widgets/controls",
          "model_name": "HTMLModel",
          "state": {
            "_view_name": "HTMLView",
            "style": "IPY_MODEL_7fff60e76f854e098cbb982bd493c635",
            "_dom_classes": [],
            "description": "",
            "_model_name": "HTMLModel",
            "placeholder": "​",
            "_view_module": "@jupyter-widgets/controls",
            "_model_module_version": "1.5.0",
            "value": " 17238/17238 [09:55&lt;00:00, 28.97it/s]",
            "_view_count": null,
            "_view_module_version": "1.5.0",
            "description_tooltip": null,
            "_model_module": "@jupyter-widgets/controls",
            "layout": "IPY_MODEL_cefb11a6dab34ba8bde99f2d47d3a226"
          }
        },
        "08940ff417d24075a71c9c66d90fa8b8": {
          "model_module": "@jupyter-widgets/controls",
          "model_name": "ProgressStyleModel",
          "state": {
            "_view_name": "StyleView",
            "_model_name": "ProgressStyleModel",
            "description_width": "initial",
            "_view_module": "@jupyter-widgets/base",
            "_model_module_version": "1.5.0",
            "_view_count": null,
            "_view_module_version": "1.2.0",
            "bar_color": null,
            "_model_module": "@jupyter-widgets/controls"
          }
        },
        "6ed0eb22c7ff4a5e8571379ef0b89d31": {
          "model_module": "@jupyter-widgets/base",
          "model_name": "LayoutModel",
          "state": {
            "_view_name": "LayoutView",
            "grid_template_rows": null,
            "right": null,
            "justify_content": null,
            "_view_module": "@jupyter-widgets/base",
            "overflow": null,
            "_model_module_version": "1.2.0",
            "_view_count": null,
            "flex_flow": null,
            "width": null,
            "min_width": null,
            "border": null,
            "align_items": null,
            "bottom": null,
            "_model_module": "@jupyter-widgets/base",
            "top": null,
            "grid_column": null,
            "overflow_y": null,
            "overflow_x": null,
            "grid_auto_flow": null,
            "grid_area": null,
            "grid_template_columns": null,
            "flex": null,
            "_model_name": "LayoutModel",
            "justify_items": null,
            "grid_row": null,
            "max_height": null,
            "align_content": null,
            "visibility": null,
            "align_self": null,
            "height": null,
            "min_height": null,
            "padding": null,
            "grid_auto_rows": null,
            "grid_gap": null,
            "max_width": null,
            "order": null,
            "_view_module_version": "1.2.0",
            "grid_template_areas": null,
            "object_position": null,
            "object_fit": null,
            "grid_auto_columns": null,
            "margin": null,
            "display": null,
            "left": null
          }
        },
        "7fff60e76f854e098cbb982bd493c635": {
          "model_module": "@jupyter-widgets/controls",
          "model_name": "DescriptionStyleModel",
          "state": {
            "_view_name": "StyleView",
            "_model_name": "DescriptionStyleModel",
            "description_width": "",
            "_view_module": "@jupyter-widgets/base",
            "_model_module_version": "1.5.0",
            "_view_count": null,
            "_view_module_version": "1.2.0",
            "_model_module": "@jupyter-widgets/controls"
          }
        },
        "cefb11a6dab34ba8bde99f2d47d3a226": {
          "model_module": "@jupyter-widgets/base",
          "model_name": "LayoutModel",
          "state": {
            "_view_name": "LayoutView",
            "grid_template_rows": null,
            "right": null,
            "justify_content": null,
            "_view_module": "@jupyter-widgets/base",
            "overflow": null,
            "_model_module_version": "1.2.0",
            "_view_count": null,
            "flex_flow": null,
            "width": null,
            "min_width": null,
            "border": null,
            "align_items": null,
            "bottom": null,
            "_model_module": "@jupyter-widgets/base",
            "top": null,
            "grid_column": null,
            "overflow_y": null,
            "overflow_x": null,
            "grid_auto_flow": null,
            "grid_area": null,
            "grid_template_columns": null,
            "flex": null,
            "_model_name": "LayoutModel",
            "justify_items": null,
            "grid_row": null,
            "max_height": null,
            "align_content": null,
            "visibility": null,
            "align_self": null,
            "height": null,
            "min_height": null,
            "padding": null,
            "grid_auto_rows": null,
            "grid_gap": null,
            "max_width": null,
            "order": null,
            "_view_module_version": "1.2.0",
            "grid_template_areas": null,
            "object_position": null,
            "object_fit": null,
            "grid_auto_columns": null,
            "margin": null,
            "display": null,
            "left": null
          }
        },
        "c5aaed8b9118436c9d86e76684784d56": {
          "model_module": "@jupyter-widgets/controls",
          "model_name": "HBoxModel",
          "state": {
            "_view_name": "HBoxView",
            "_dom_classes": [],
            "_model_name": "HBoxModel",
            "_view_module": "@jupyter-widgets/controls",
            "_model_module_version": "1.5.0",
            "_view_count": null,
            "_view_module_version": "1.5.0",
            "box_style": "",
            "layout": "IPY_MODEL_0036672c91084305b2a41f2d9e1391d5",
            "_model_module": "@jupyter-widgets/controls",
            "children": [
              "IPY_MODEL_800f7f920e44444cae8b67430e46d423",
              "IPY_MODEL_b2cd5164087d431f94bbb6bbc7594dd3"
            ]
          }
        },
        "0036672c91084305b2a41f2d9e1391d5": {
          "model_module": "@jupyter-widgets/base",
          "model_name": "LayoutModel",
          "state": {
            "_view_name": "LayoutView",
            "grid_template_rows": null,
            "right": null,
            "justify_content": null,
            "_view_module": "@jupyter-widgets/base",
            "overflow": null,
            "_model_module_version": "1.2.0",
            "_view_count": null,
            "flex_flow": null,
            "width": null,
            "min_width": null,
            "border": null,
            "align_items": null,
            "bottom": null,
            "_model_module": "@jupyter-widgets/base",
            "top": null,
            "grid_column": null,
            "overflow_y": null,
            "overflow_x": null,
            "grid_auto_flow": null,
            "grid_area": null,
            "grid_template_columns": null,
            "flex": null,
            "_model_name": "LayoutModel",
            "justify_items": null,
            "grid_row": null,
            "max_height": null,
            "align_content": null,
            "visibility": null,
            "align_self": null,
            "height": null,
            "min_height": null,
            "padding": null,
            "grid_auto_rows": null,
            "grid_gap": null,
            "max_width": null,
            "order": null,
            "_view_module_version": "1.2.0",
            "grid_template_areas": null,
            "object_position": null,
            "object_fit": null,
            "grid_auto_columns": null,
            "margin": null,
            "display": null,
            "left": null
          }
        },
        "800f7f920e44444cae8b67430e46d423": {
          "model_module": "@jupyter-widgets/controls",
          "model_name": "FloatProgressModel",
          "state": {
            "_view_name": "ProgressView",
            "style": "IPY_MODEL_e426b2334ba84b25b17b76736ec26be1",
            "_dom_classes": [],
            "description": "100%",
            "_model_name": "FloatProgressModel",
            "bar_style": "success",
            "max": 251042,
            "_view_module": "@jupyter-widgets/controls",
            "_model_module_version": "1.5.0",
            "value": 251042,
            "_view_count": null,
            "_view_module_version": "1.5.0",
            "orientation": "horizontal",
            "min": 0,
            "description_tooltip": null,
            "_model_module": "@jupyter-widgets/controls",
            "layout": "IPY_MODEL_e2a03c8479a744e99b71d657325e6e61"
          }
        },
        "b2cd5164087d431f94bbb6bbc7594dd3": {
          "model_module": "@jupyter-widgets/controls",
          "model_name": "HTMLModel",
          "state": {
            "_view_name": "HTMLView",
            "style": "IPY_MODEL_8f0a33e78cc04dc7b71234f6a44d553e",
            "_dom_classes": [],
            "description": "",
            "_model_name": "HTMLModel",
            "placeholder": "​",
            "_view_module": "@jupyter-widgets/controls",
            "_model_module_version": "1.5.0",
            "value": " 251042/251042 [06:06&lt;00:00, 684.13it/s]",
            "_view_count": null,
            "_view_module_version": "1.5.0",
            "description_tooltip": null,
            "_model_module": "@jupyter-widgets/controls",
            "layout": "IPY_MODEL_660271abc7cd4717a91a03a5505fd793"
          }
        },
        "e426b2334ba84b25b17b76736ec26be1": {
          "model_module": "@jupyter-widgets/controls",
          "model_name": "ProgressStyleModel",
          "state": {
            "_view_name": "StyleView",
            "_model_name": "ProgressStyleModel",
            "description_width": "initial",
            "_view_module": "@jupyter-widgets/base",
            "_model_module_version": "1.5.0",
            "_view_count": null,
            "_view_module_version": "1.2.0",
            "bar_color": null,
            "_model_module": "@jupyter-widgets/controls"
          }
        },
        "e2a03c8479a744e99b71d657325e6e61": {
          "model_module": "@jupyter-widgets/base",
          "model_name": "LayoutModel",
          "state": {
            "_view_name": "LayoutView",
            "grid_template_rows": null,
            "right": null,
            "justify_content": null,
            "_view_module": "@jupyter-widgets/base",
            "overflow": null,
            "_model_module_version": "1.2.0",
            "_view_count": null,
            "flex_flow": null,
            "width": null,
            "min_width": null,
            "border": null,
            "align_items": null,
            "bottom": null,
            "_model_module": "@jupyter-widgets/base",
            "top": null,
            "grid_column": null,
            "overflow_y": null,
            "overflow_x": null,
            "grid_auto_flow": null,
            "grid_area": null,
            "grid_template_columns": null,
            "flex": null,
            "_model_name": "LayoutModel",
            "justify_items": null,
            "grid_row": null,
            "max_height": null,
            "align_content": null,
            "visibility": null,
            "align_self": null,
            "height": null,
            "min_height": null,
            "padding": null,
            "grid_auto_rows": null,
            "grid_gap": null,
            "max_width": null,
            "order": null,
            "_view_module_version": "1.2.0",
            "grid_template_areas": null,
            "object_position": null,
            "object_fit": null,
            "grid_auto_columns": null,
            "margin": null,
            "display": null,
            "left": null
          }
        },
        "8f0a33e78cc04dc7b71234f6a44d553e": {
          "model_module": "@jupyter-widgets/controls",
          "model_name": "DescriptionStyleModel",
          "state": {
            "_view_name": "StyleView",
            "_model_name": "DescriptionStyleModel",
            "description_width": "",
            "_view_module": "@jupyter-widgets/base",
            "_model_module_version": "1.5.0",
            "_view_count": null,
            "_view_module_version": "1.2.0",
            "_model_module": "@jupyter-widgets/controls"
          }
        },
        "660271abc7cd4717a91a03a5505fd793": {
          "model_module": "@jupyter-widgets/base",
          "model_name": "LayoutModel",
          "state": {
            "_view_name": "LayoutView",
            "grid_template_rows": null,
            "right": null,
            "justify_content": null,
            "_view_module": "@jupyter-widgets/base",
            "overflow": null,
            "_model_module_version": "1.2.0",
            "_view_count": null,
            "flex_flow": null,
            "width": null,
            "min_width": null,
            "border": null,
            "align_items": null,
            "bottom": null,
            "_model_module": "@jupyter-widgets/base",
            "top": null,
            "grid_column": null,
            "overflow_y": null,
            "overflow_x": null,
            "grid_auto_flow": null,
            "grid_area": null,
            "grid_template_columns": null,
            "flex": null,
            "_model_name": "LayoutModel",
            "justify_items": null,
            "grid_row": null,
            "max_height": null,
            "align_content": null,
            "visibility": null,
            "align_self": null,
            "height": null,
            "min_height": null,
            "padding": null,
            "grid_auto_rows": null,
            "grid_gap": null,
            "max_width": null,
            "order": null,
            "_view_module_version": "1.2.0",
            "grid_template_areas": null,
            "object_position": null,
            "object_fit": null,
            "grid_auto_columns": null,
            "margin": null,
            "display": null,
            "left": null
          }
        },
        "7546f51735bb4251af6fd46edbe3d823": {
          "model_module": "@jupyter-widgets/controls",
          "model_name": "HBoxModel",
          "state": {
            "_view_name": "HBoxView",
            "_dom_classes": [],
            "_model_name": "HBoxModel",
            "_view_module": "@jupyter-widgets/controls",
            "_model_module_version": "1.5.0",
            "_view_count": null,
            "_view_module_version": "1.5.0",
            "box_style": "",
            "layout": "IPY_MODEL_d877ae2fbbd44375932ba158df4ff834",
            "_model_module": "@jupyter-widgets/controls",
            "children": [
              "IPY_MODEL_af9e6f5bd0194842b5f591d53e94db49",
              "IPY_MODEL_cd7658adfde7466fa3f75aafb1330c5c"
            ]
          }
        },
        "d877ae2fbbd44375932ba158df4ff834": {
          "model_module": "@jupyter-widgets/base",
          "model_name": "LayoutModel",
          "state": {
            "_view_name": "LayoutView",
            "grid_template_rows": null,
            "right": null,
            "justify_content": null,
            "_view_module": "@jupyter-widgets/base",
            "overflow": null,
            "_model_module_version": "1.2.0",
            "_view_count": null,
            "flex_flow": null,
            "width": null,
            "min_width": null,
            "border": null,
            "align_items": null,
            "bottom": null,
            "_model_module": "@jupyter-widgets/base",
            "top": null,
            "grid_column": null,
            "overflow_y": null,
            "overflow_x": null,
            "grid_auto_flow": null,
            "grid_area": null,
            "grid_template_columns": null,
            "flex": null,
            "_model_name": "LayoutModel",
            "justify_items": null,
            "grid_row": null,
            "max_height": null,
            "align_content": null,
            "visibility": null,
            "align_self": null,
            "height": null,
            "min_height": null,
            "padding": null,
            "grid_auto_rows": null,
            "grid_gap": null,
            "max_width": null,
            "order": null,
            "_view_module_version": "1.2.0",
            "grid_template_areas": null,
            "object_position": null,
            "object_fit": null,
            "grid_auto_columns": null,
            "margin": null,
            "display": null,
            "left": null
          }
        },
        "af9e6f5bd0194842b5f591d53e94db49": {
          "model_module": "@jupyter-widgets/controls",
          "model_name": "FloatProgressModel",
          "state": {
            "_view_name": "ProgressView",
            "style": "IPY_MODEL_ba8a9d6994834907919950a438f30ecc",
            "_dom_classes": [],
            "description": "100%",
            "_model_name": "FloatProgressModel",
            "bar_style": "success",
            "max": 83683,
            "_view_module": "@jupyter-widgets/controls",
            "_model_module_version": "1.5.0",
            "value": 83683,
            "_view_count": null,
            "_view_module_version": "1.5.0",
            "orientation": "horizontal",
            "min": 0,
            "description_tooltip": null,
            "_model_module": "@jupyter-widgets/controls",
            "layout": "IPY_MODEL_3fcc6ab5e9134e0883990af3585fc603"
          }
        },
        "cd7658adfde7466fa3f75aafb1330c5c": {
          "model_module": "@jupyter-widgets/controls",
          "model_name": "HTMLModel",
          "state": {
            "_view_name": "HTMLView",
            "style": "IPY_MODEL_3a8f685de3274ac0808fe69553285440",
            "_dom_classes": [],
            "description": "",
            "_model_name": "HTMLModel",
            "placeholder": "​",
            "_view_module": "@jupyter-widgets/controls",
            "_model_module_version": "1.5.0",
            "value": " 83683/83683 [01:06&lt;00:00, 1261.00it/s]",
            "_view_count": null,
            "_view_module_version": "1.5.0",
            "description_tooltip": null,
            "_model_module": "@jupyter-widgets/controls",
            "layout": "IPY_MODEL_b3078a34cda443cfa4910455e073ff1b"
          }
        },
        "ba8a9d6994834907919950a438f30ecc": {
          "model_module": "@jupyter-widgets/controls",
          "model_name": "ProgressStyleModel",
          "state": {
            "_view_name": "StyleView",
            "_model_name": "ProgressStyleModel",
            "description_width": "initial",
            "_view_module": "@jupyter-widgets/base",
            "_model_module_version": "1.5.0",
            "_view_count": null,
            "_view_module_version": "1.2.0",
            "bar_color": null,
            "_model_module": "@jupyter-widgets/controls"
          }
        },
        "3fcc6ab5e9134e0883990af3585fc603": {
          "model_module": "@jupyter-widgets/base",
          "model_name": "LayoutModel",
          "state": {
            "_view_name": "LayoutView",
            "grid_template_rows": null,
            "right": null,
            "justify_content": null,
            "_view_module": "@jupyter-widgets/base",
            "overflow": null,
            "_model_module_version": "1.2.0",
            "_view_count": null,
            "flex_flow": null,
            "width": null,
            "min_width": null,
            "border": null,
            "align_items": null,
            "bottom": null,
            "_model_module": "@jupyter-widgets/base",
            "top": null,
            "grid_column": null,
            "overflow_y": null,
            "overflow_x": null,
            "grid_auto_flow": null,
            "grid_area": null,
            "grid_template_columns": null,
            "flex": null,
            "_model_name": "LayoutModel",
            "justify_items": null,
            "grid_row": null,
            "max_height": null,
            "align_content": null,
            "visibility": null,
            "align_self": null,
            "height": null,
            "min_height": null,
            "padding": null,
            "grid_auto_rows": null,
            "grid_gap": null,
            "max_width": null,
            "order": null,
            "_view_module_version": "1.2.0",
            "grid_template_areas": null,
            "object_position": null,
            "object_fit": null,
            "grid_auto_columns": null,
            "margin": null,
            "display": null,
            "left": null
          }
        },
        "3a8f685de3274ac0808fe69553285440": {
          "model_module": "@jupyter-widgets/controls",
          "model_name": "DescriptionStyleModel",
          "state": {
            "_view_name": "StyleView",
            "_model_name": "DescriptionStyleModel",
            "description_width": "",
            "_view_module": "@jupyter-widgets/base",
            "_model_module_version": "1.5.0",
            "_view_count": null,
            "_view_module_version": "1.2.0",
            "_model_module": "@jupyter-widgets/controls"
          }
        },
        "b3078a34cda443cfa4910455e073ff1b": {
          "model_module": "@jupyter-widgets/base",
          "model_name": "LayoutModel",
          "state": {
            "_view_name": "LayoutView",
            "grid_template_rows": null,
            "right": null,
            "justify_content": null,
            "_view_module": "@jupyter-widgets/base",
            "overflow": null,
            "_model_module_version": "1.2.0",
            "_view_count": null,
            "flex_flow": null,
            "width": null,
            "min_width": null,
            "border": null,
            "align_items": null,
            "bottom": null,
            "_model_module": "@jupyter-widgets/base",
            "top": null,
            "grid_column": null,
            "overflow_y": null,
            "overflow_x": null,
            "grid_auto_flow": null,
            "grid_area": null,
            "grid_template_columns": null,
            "flex": null,
            "_model_name": "LayoutModel",
            "justify_items": null,
            "grid_row": null,
            "max_height": null,
            "align_content": null,
            "visibility": null,
            "align_self": null,
            "height": null,
            "min_height": null,
            "padding": null,
            "grid_auto_rows": null,
            "grid_gap": null,
            "max_width": null,
            "order": null,
            "_view_module_version": "1.2.0",
            "grid_template_areas": null,
            "object_position": null,
            "object_fit": null,
            "grid_auto_columns": null,
            "margin": null,
            "display": null,
            "left": null
          }
        },
        "ed64d9e033794f3dabc74c7062c7de9f": {
          "model_module": "@jupyter-widgets/controls",
          "model_name": "HBoxModel",
          "state": {
            "_view_name": "HBoxView",
            "_dom_classes": [],
            "_model_name": "HBoxModel",
            "_view_module": "@jupyter-widgets/controls",
            "_model_module_version": "1.5.0",
            "_view_count": null,
            "_view_module_version": "1.5.0",
            "box_style": "",
            "layout": "IPY_MODEL_8ff4d9d6aa5b48868206e9cead5e77e8",
            "_model_module": "@jupyter-widgets/controls",
            "children": [
              "IPY_MODEL_8b6e3969881447109c1df8449c5abe0b",
              "IPY_MODEL_e1fdd85fabdb4fb8ab5c234544d6d444"
            ]
          }
        },
        "8ff4d9d6aa5b48868206e9cead5e77e8": {
          "model_module": "@jupyter-widgets/base",
          "model_name": "LayoutModel",
          "state": {
            "_view_name": "LayoutView",
            "grid_template_rows": null,
            "right": null,
            "justify_content": null,
            "_view_module": "@jupyter-widgets/base",
            "overflow": null,
            "_model_module_version": "1.2.0",
            "_view_count": null,
            "flex_flow": null,
            "width": null,
            "min_width": null,
            "border": null,
            "align_items": null,
            "bottom": null,
            "_model_module": "@jupyter-widgets/base",
            "top": null,
            "grid_column": null,
            "overflow_y": null,
            "overflow_x": null,
            "grid_auto_flow": null,
            "grid_area": null,
            "grid_template_columns": null,
            "flex": null,
            "_model_name": "LayoutModel",
            "justify_items": null,
            "grid_row": null,
            "max_height": null,
            "align_content": null,
            "visibility": null,
            "align_self": null,
            "height": null,
            "min_height": null,
            "padding": null,
            "grid_auto_rows": null,
            "grid_gap": null,
            "max_width": null,
            "order": null,
            "_view_module_version": "1.2.0",
            "grid_template_areas": null,
            "object_position": null,
            "object_fit": null,
            "grid_auto_columns": null,
            "margin": null,
            "display": null,
            "left": null
          }
        },
        "8b6e3969881447109c1df8449c5abe0b": {
          "model_module": "@jupyter-widgets/controls",
          "model_name": "FloatProgressModel",
          "state": {
            "_view_name": "ProgressView",
            "style": "IPY_MODEL_a8fd08f54d3f480db320909b1f89d6aa",
            "_dom_classes": [],
            "description": "100%",
            "_model_name": "FloatProgressModel",
            "bar_style": "success",
            "max": 17238,
            "_view_module": "@jupyter-widgets/controls",
            "_model_module_version": "1.5.0",
            "value": 17238,
            "_view_count": null,
            "_view_module_version": "1.5.0",
            "orientation": "horizontal",
            "min": 0,
            "description_tooltip": null,
            "_model_module": "@jupyter-widgets/controls",
            "layout": "IPY_MODEL_323580be6f0041ef856c1594e490b98d"
          }
        },
        "e1fdd85fabdb4fb8ab5c234544d6d444": {
          "model_module": "@jupyter-widgets/controls",
          "model_name": "HTMLModel",
          "state": {
            "_view_name": "HTMLView",
            "style": "IPY_MODEL_67adb330128848519b97cc3e222c3130",
            "_dom_classes": [],
            "description": "",
            "_model_name": "HTMLModel",
            "placeholder": "​",
            "_view_module": "@jupyter-widgets/controls",
            "_model_module_version": "1.5.0",
            "value": " 17238/17238 [1:02:16&lt;00:00,  4.61it/s]",
            "_view_count": null,
            "_view_module_version": "1.5.0",
            "description_tooltip": null,
            "_model_module": "@jupyter-widgets/controls",
            "layout": "IPY_MODEL_0faac95aa8f5466480abe9e8cd612048"
          }
        },
        "a8fd08f54d3f480db320909b1f89d6aa": {
          "model_module": "@jupyter-widgets/controls",
          "model_name": "ProgressStyleModel",
          "state": {
            "_view_name": "StyleView",
            "_model_name": "ProgressStyleModel",
            "description_width": "initial",
            "_view_module": "@jupyter-widgets/base",
            "_model_module_version": "1.5.0",
            "_view_count": null,
            "_view_module_version": "1.2.0",
            "bar_color": null,
            "_model_module": "@jupyter-widgets/controls"
          }
        },
        "323580be6f0041ef856c1594e490b98d": {
          "model_module": "@jupyter-widgets/base",
          "model_name": "LayoutModel",
          "state": {
            "_view_name": "LayoutView",
            "grid_template_rows": null,
            "right": null,
            "justify_content": null,
            "_view_module": "@jupyter-widgets/base",
            "overflow": null,
            "_model_module_version": "1.2.0",
            "_view_count": null,
            "flex_flow": null,
            "width": null,
            "min_width": null,
            "border": null,
            "align_items": null,
            "bottom": null,
            "_model_module": "@jupyter-widgets/base",
            "top": null,
            "grid_column": null,
            "overflow_y": null,
            "overflow_x": null,
            "grid_auto_flow": null,
            "grid_area": null,
            "grid_template_columns": null,
            "flex": null,
            "_model_name": "LayoutModel",
            "justify_items": null,
            "grid_row": null,
            "max_height": null,
            "align_content": null,
            "visibility": null,
            "align_self": null,
            "height": null,
            "min_height": null,
            "padding": null,
            "grid_auto_rows": null,
            "grid_gap": null,
            "max_width": null,
            "order": null,
            "_view_module_version": "1.2.0",
            "grid_template_areas": null,
            "object_position": null,
            "object_fit": null,
            "grid_auto_columns": null,
            "margin": null,
            "display": null,
            "left": null
          }
        },
        "67adb330128848519b97cc3e222c3130": {
          "model_module": "@jupyter-widgets/controls",
          "model_name": "DescriptionStyleModel",
          "state": {
            "_view_name": "StyleView",
            "_model_name": "DescriptionStyleModel",
            "description_width": "",
            "_view_module": "@jupyter-widgets/base",
            "_model_module_version": "1.5.0",
            "_view_count": null,
            "_view_module_version": "1.2.0",
            "_model_module": "@jupyter-widgets/controls"
          }
        },
        "0faac95aa8f5466480abe9e8cd612048": {
          "model_module": "@jupyter-widgets/base",
          "model_name": "LayoutModel",
          "state": {
            "_view_name": "LayoutView",
            "grid_template_rows": null,
            "right": null,
            "justify_content": null,
            "_view_module": "@jupyter-widgets/base",
            "overflow": null,
            "_model_module_version": "1.2.0",
            "_view_count": null,
            "flex_flow": null,
            "width": null,
            "min_width": null,
            "border": null,
            "align_items": null,
            "bottom": null,
            "_model_module": "@jupyter-widgets/base",
            "top": null,
            "grid_column": null,
            "overflow_y": null,
            "overflow_x": null,
            "grid_auto_flow": null,
            "grid_area": null,
            "grid_template_columns": null,
            "flex": null,
            "_model_name": "LayoutModel",
            "justify_items": null,
            "grid_row": null,
            "max_height": null,
            "align_content": null,
            "visibility": null,
            "align_self": null,
            "height": null,
            "min_height": null,
            "padding": null,
            "grid_auto_rows": null,
            "grid_gap": null,
            "max_width": null,
            "order": null,
            "_view_module_version": "1.2.0",
            "grid_template_areas": null,
            "object_position": null,
            "object_fit": null,
            "grid_auto_columns": null,
            "margin": null,
            "display": null,
            "left": null
          }
        },
        "37d65b11ff3543cfb8270adc76a79bd9": {
          "model_module": "@jupyter-widgets/controls",
          "model_name": "HBoxModel",
          "state": {
            "_view_name": "HBoxView",
            "_dom_classes": [],
            "_model_name": "HBoxModel",
            "_view_module": "@jupyter-widgets/controls",
            "_model_module_version": "1.5.0",
            "_view_count": null,
            "_view_module_version": "1.5.0",
            "box_style": "",
            "layout": "IPY_MODEL_e9206df3327f406b8faa29f2f738a234",
            "_model_module": "@jupyter-widgets/controls",
            "children": [
              "IPY_MODEL_ba556a079a344d109f555c8f581a87e5",
              "IPY_MODEL_1b191c904c544c09a9f33d88f5a42f2a"
            ]
          }
        },
        "e9206df3327f406b8faa29f2f738a234": {
          "model_module": "@jupyter-widgets/base",
          "model_name": "LayoutModel",
          "state": {
            "_view_name": "LayoutView",
            "grid_template_rows": null,
            "right": null,
            "justify_content": null,
            "_view_module": "@jupyter-widgets/base",
            "overflow": null,
            "_model_module_version": "1.2.0",
            "_view_count": null,
            "flex_flow": null,
            "width": null,
            "min_width": null,
            "border": null,
            "align_items": null,
            "bottom": null,
            "_model_module": "@jupyter-widgets/base",
            "top": null,
            "grid_column": null,
            "overflow_y": null,
            "overflow_x": null,
            "grid_auto_flow": null,
            "grid_area": null,
            "grid_template_columns": null,
            "flex": null,
            "_model_name": "LayoutModel",
            "justify_items": null,
            "grid_row": null,
            "max_height": null,
            "align_content": null,
            "visibility": null,
            "align_self": null,
            "height": null,
            "min_height": null,
            "padding": null,
            "grid_auto_rows": null,
            "grid_gap": null,
            "max_width": null,
            "order": null,
            "_view_module_version": "1.2.0",
            "grid_template_areas": null,
            "object_position": null,
            "object_fit": null,
            "grid_auto_columns": null,
            "margin": null,
            "display": null,
            "left": null
          }
        },
        "ba556a079a344d109f555c8f581a87e5": {
          "model_module": "@jupyter-widgets/controls",
          "model_name": "FloatProgressModel",
          "state": {
            "_view_name": "ProgressView",
            "style": "IPY_MODEL_9ef4dc82a8f842aeb0033482fd564397",
            "_dom_classes": [],
            "description": "100%",
            "_model_name": "FloatProgressModel",
            "bar_style": "success",
            "max": 17704,
            "_view_module": "@jupyter-widgets/controls",
            "_model_module_version": "1.5.0",
            "value": 17704,
            "_view_count": null,
            "_view_module_version": "1.5.0",
            "orientation": "horizontal",
            "min": 0,
            "description_tooltip": null,
            "_model_module": "@jupyter-widgets/controls",
            "layout": "IPY_MODEL_489fe0920cd94085af38c94ece8a6b83"
          }
        },
        "1b191c904c544c09a9f33d88f5a42f2a": {
          "model_module": "@jupyter-widgets/controls",
          "model_name": "HTMLModel",
          "state": {
            "_view_name": "HTMLView",
            "style": "IPY_MODEL_84366ee68b0b4b9296395ab6a47a3154",
            "_dom_classes": [],
            "description": "",
            "_model_name": "HTMLModel",
            "placeholder": "​",
            "_view_module": "@jupyter-widgets/controls",
            "_model_module_version": "1.5.0",
            "value": " 17704/17704 [01:23&lt;00:00, 211.78it/s]",
            "_view_count": null,
            "_view_module_version": "1.5.0",
            "description_tooltip": null,
            "_model_module": "@jupyter-widgets/controls",
            "layout": "IPY_MODEL_81366a7ee6814b5db90086c38350fa68"
          }
        },
        "9ef4dc82a8f842aeb0033482fd564397": {
          "model_module": "@jupyter-widgets/controls",
          "model_name": "ProgressStyleModel",
          "state": {
            "_view_name": "StyleView",
            "_model_name": "ProgressStyleModel",
            "description_width": "initial",
            "_view_module": "@jupyter-widgets/base",
            "_model_module_version": "1.5.0",
            "_view_count": null,
            "_view_module_version": "1.2.0",
            "bar_color": null,
            "_model_module": "@jupyter-widgets/controls"
          }
        },
        "489fe0920cd94085af38c94ece8a6b83": {
          "model_module": "@jupyter-widgets/base",
          "model_name": "LayoutModel",
          "state": {
            "_view_name": "LayoutView",
            "grid_template_rows": null,
            "right": null,
            "justify_content": null,
            "_view_module": "@jupyter-widgets/base",
            "overflow": null,
            "_model_module_version": "1.2.0",
            "_view_count": null,
            "flex_flow": null,
            "width": null,
            "min_width": null,
            "border": null,
            "align_items": null,
            "bottom": null,
            "_model_module": "@jupyter-widgets/base",
            "top": null,
            "grid_column": null,
            "overflow_y": null,
            "overflow_x": null,
            "grid_auto_flow": null,
            "grid_area": null,
            "grid_template_columns": null,
            "flex": null,
            "_model_name": "LayoutModel",
            "justify_items": null,
            "grid_row": null,
            "max_height": null,
            "align_content": null,
            "visibility": null,
            "align_self": null,
            "height": null,
            "min_height": null,
            "padding": null,
            "grid_auto_rows": null,
            "grid_gap": null,
            "max_width": null,
            "order": null,
            "_view_module_version": "1.2.0",
            "grid_template_areas": null,
            "object_position": null,
            "object_fit": null,
            "grid_auto_columns": null,
            "margin": null,
            "display": null,
            "left": null
          }
        },
        "84366ee68b0b4b9296395ab6a47a3154": {
          "model_module": "@jupyter-widgets/controls",
          "model_name": "DescriptionStyleModel",
          "state": {
            "_view_name": "StyleView",
            "_model_name": "DescriptionStyleModel",
            "description_width": "",
            "_view_module": "@jupyter-widgets/base",
            "_model_module_version": "1.5.0",
            "_view_count": null,
            "_view_module_version": "1.2.0",
            "_model_module": "@jupyter-widgets/controls"
          }
        },
        "81366a7ee6814b5db90086c38350fa68": {
          "model_module": "@jupyter-widgets/base",
          "model_name": "LayoutModel",
          "state": {
            "_view_name": "LayoutView",
            "grid_template_rows": null,
            "right": null,
            "justify_content": null,
            "_view_module": "@jupyter-widgets/base",
            "overflow": null,
            "_model_module_version": "1.2.0",
            "_view_count": null,
            "flex_flow": null,
            "width": null,
            "min_width": null,
            "border": null,
            "align_items": null,
            "bottom": null,
            "_model_module": "@jupyter-widgets/base",
            "top": null,
            "grid_column": null,
            "overflow_y": null,
            "overflow_x": null,
            "grid_auto_flow": null,
            "grid_area": null,
            "grid_template_columns": null,
            "flex": null,
            "_model_name": "LayoutModel",
            "justify_items": null,
            "grid_row": null,
            "max_height": null,
            "align_content": null,
            "visibility": null,
            "align_self": null,
            "height": null,
            "min_height": null,
            "padding": null,
            "grid_auto_rows": null,
            "grid_gap": null,
            "max_width": null,
            "order": null,
            "_view_module_version": "1.2.0",
            "grid_template_areas": null,
            "object_position": null,
            "object_fit": null,
            "grid_auto_columns": null,
            "margin": null,
            "display": null,
            "left": null
          }
        },
        "4fd338bd4eb44ab9a2c07d7b25206fc1": {
          "model_module": "@jupyter-widgets/controls",
          "model_name": "HBoxModel",
          "state": {
            "_view_name": "HBoxView",
            "_dom_classes": [],
            "_model_name": "HBoxModel",
            "_view_module": "@jupyter-widgets/controls",
            "_model_module_version": "1.5.0",
            "_view_count": null,
            "_view_module_version": "1.5.0",
            "box_style": "",
            "layout": "IPY_MODEL_29b26918a8fb472fb4313f4d0046bc4f",
            "_model_module": "@jupyter-widgets/controls",
            "children": [
              "IPY_MODEL_e0ad2b5e20124eb293f3642e5c255bfb",
              "IPY_MODEL_43c06292d4814dcab7173af285e7d0e0"
            ]
          }
        },
        "29b26918a8fb472fb4313f4d0046bc4f": {
          "model_module": "@jupyter-widgets/base",
          "model_name": "LayoutModel",
          "state": {
            "_view_name": "LayoutView",
            "grid_template_rows": null,
            "right": null,
            "justify_content": null,
            "_view_module": "@jupyter-widgets/base",
            "overflow": null,
            "_model_module_version": "1.2.0",
            "_view_count": null,
            "flex_flow": null,
            "width": null,
            "min_width": null,
            "border": null,
            "align_items": null,
            "bottom": null,
            "_model_module": "@jupyter-widgets/base",
            "top": null,
            "grid_column": null,
            "overflow_y": null,
            "overflow_x": null,
            "grid_auto_flow": null,
            "grid_area": null,
            "grid_template_columns": null,
            "flex": null,
            "_model_name": "LayoutModel",
            "justify_items": null,
            "grid_row": null,
            "max_height": null,
            "align_content": null,
            "visibility": null,
            "align_self": null,
            "height": null,
            "min_height": null,
            "padding": null,
            "grid_auto_rows": null,
            "grid_gap": null,
            "max_width": null,
            "order": null,
            "_view_module_version": "1.2.0",
            "grid_template_areas": null,
            "object_position": null,
            "object_fit": null,
            "grid_auto_columns": null,
            "margin": null,
            "display": null,
            "left": null
          }
        },
        "e0ad2b5e20124eb293f3642e5c255bfb": {
          "model_module": "@jupyter-widgets/controls",
          "model_name": "FloatProgressModel",
          "state": {
            "_view_name": "ProgressView",
            "style": "IPY_MODEL_5ecee4deee584484937d075528adf3f8",
            "_dom_classes": [],
            "description": "100%",
            "_model_name": "FloatProgressModel",
            "bar_style": "success",
            "max": 17238,
            "_view_module": "@jupyter-widgets/controls",
            "_model_module_version": "1.5.0",
            "value": 17238,
            "_view_count": null,
            "_view_module_version": "1.5.0",
            "orientation": "horizontal",
            "min": 0,
            "description_tooltip": null,
            "_model_module": "@jupyter-widgets/controls",
            "layout": "IPY_MODEL_4da6d6c489204a78a44d040b0cb4823c"
          }
        },
        "43c06292d4814dcab7173af285e7d0e0": {
          "model_module": "@jupyter-widgets/controls",
          "model_name": "HTMLModel",
          "state": {
            "_view_name": "HTMLView",
            "style": "IPY_MODEL_9bbdd021791d4e3186947f1a13dd4758",
            "_dom_classes": [],
            "description": "",
            "_model_name": "HTMLModel",
            "placeholder": "​",
            "_view_module": "@jupyter-widgets/controls",
            "_model_module_version": "1.5.0",
            "value": " 17238/17238 [1:41:56&lt;00:00,  2.82it/s]",
            "_view_count": null,
            "_view_module_version": "1.5.0",
            "description_tooltip": null,
            "_model_module": "@jupyter-widgets/controls",
            "layout": "IPY_MODEL_f1f2364b06154950b654a355577014b0"
          }
        },
        "5ecee4deee584484937d075528adf3f8": {
          "model_module": "@jupyter-widgets/controls",
          "model_name": "ProgressStyleModel",
          "state": {
            "_view_name": "StyleView",
            "_model_name": "ProgressStyleModel",
            "description_width": "initial",
            "_view_module": "@jupyter-widgets/base",
            "_model_module_version": "1.5.0",
            "_view_count": null,
            "_view_module_version": "1.2.0",
            "bar_color": null,
            "_model_module": "@jupyter-widgets/controls"
          }
        },
        "4da6d6c489204a78a44d040b0cb4823c": {
          "model_module": "@jupyter-widgets/base",
          "model_name": "LayoutModel",
          "state": {
            "_view_name": "LayoutView",
            "grid_template_rows": null,
            "right": null,
            "justify_content": null,
            "_view_module": "@jupyter-widgets/base",
            "overflow": null,
            "_model_module_version": "1.2.0",
            "_view_count": null,
            "flex_flow": null,
            "width": null,
            "min_width": null,
            "border": null,
            "align_items": null,
            "bottom": null,
            "_model_module": "@jupyter-widgets/base",
            "top": null,
            "grid_column": null,
            "overflow_y": null,
            "overflow_x": null,
            "grid_auto_flow": null,
            "grid_area": null,
            "grid_template_columns": null,
            "flex": null,
            "_model_name": "LayoutModel",
            "justify_items": null,
            "grid_row": null,
            "max_height": null,
            "align_content": null,
            "visibility": null,
            "align_self": null,
            "height": null,
            "min_height": null,
            "padding": null,
            "grid_auto_rows": null,
            "grid_gap": null,
            "max_width": null,
            "order": null,
            "_view_module_version": "1.2.0",
            "grid_template_areas": null,
            "object_position": null,
            "object_fit": null,
            "grid_auto_columns": null,
            "margin": null,
            "display": null,
            "left": null
          }
        },
        "9bbdd021791d4e3186947f1a13dd4758": {
          "model_module": "@jupyter-widgets/controls",
          "model_name": "DescriptionStyleModel",
          "state": {
            "_view_name": "StyleView",
            "_model_name": "DescriptionStyleModel",
            "description_width": "",
            "_view_module": "@jupyter-widgets/base",
            "_model_module_version": "1.5.0",
            "_view_count": null,
            "_view_module_version": "1.2.0",
            "_model_module": "@jupyter-widgets/controls"
          }
        },
        "f1f2364b06154950b654a355577014b0": {
          "model_module": "@jupyter-widgets/base",
          "model_name": "LayoutModel",
          "state": {
            "_view_name": "LayoutView",
            "grid_template_rows": null,
            "right": null,
            "justify_content": null,
            "_view_module": "@jupyter-widgets/base",
            "overflow": null,
            "_model_module_version": "1.2.0",
            "_view_count": null,
            "flex_flow": null,
            "width": null,
            "min_width": null,
            "border": null,
            "align_items": null,
            "bottom": null,
            "_model_module": "@jupyter-widgets/base",
            "top": null,
            "grid_column": null,
            "overflow_y": null,
            "overflow_x": null,
            "grid_auto_flow": null,
            "grid_area": null,
            "grid_template_columns": null,
            "flex": null,
            "_model_name": "LayoutModel",
            "justify_items": null,
            "grid_row": null,
            "max_height": null,
            "align_content": null,
            "visibility": null,
            "align_self": null,
            "height": null,
            "min_height": null,
            "padding": null,
            "grid_auto_rows": null,
            "grid_gap": null,
            "max_width": null,
            "order": null,
            "_view_module_version": "1.2.0",
            "grid_template_areas": null,
            "object_position": null,
            "object_fit": null,
            "grid_auto_columns": null,
            "margin": null,
            "display": null,
            "left": null
          }
        },
        "bcfed3fe1d7d4385afc50faefc1556c3": {
          "model_module": "@jupyter-widgets/controls",
          "model_name": "HBoxModel",
          "state": {
            "_view_name": "HBoxView",
            "_dom_classes": [],
            "_model_name": "HBoxModel",
            "_view_module": "@jupyter-widgets/controls",
            "_model_module_version": "1.5.0",
            "_view_count": null,
            "_view_module_version": "1.5.0",
            "box_style": "",
            "layout": "IPY_MODEL_f1cfb46348bf4b5380c773ad97c09122",
            "_model_module": "@jupyter-widgets/controls",
            "children": [
              "IPY_MODEL_99fe5a2096974d41ab6eef17a69601f9",
              "IPY_MODEL_6978c69d9634486696374759f1e0e14c"
            ]
          }
        },
        "f1cfb46348bf4b5380c773ad97c09122": {
          "model_module": "@jupyter-widgets/base",
          "model_name": "LayoutModel",
          "state": {
            "_view_name": "LayoutView",
            "grid_template_rows": null,
            "right": null,
            "justify_content": null,
            "_view_module": "@jupyter-widgets/base",
            "overflow": null,
            "_model_module_version": "1.2.0",
            "_view_count": null,
            "flex_flow": null,
            "width": null,
            "min_width": null,
            "border": null,
            "align_items": null,
            "bottom": null,
            "_model_module": "@jupyter-widgets/base",
            "top": null,
            "grid_column": null,
            "overflow_y": null,
            "overflow_x": null,
            "grid_auto_flow": null,
            "grid_area": null,
            "grid_template_columns": null,
            "flex": null,
            "_model_name": "LayoutModel",
            "justify_items": null,
            "grid_row": null,
            "max_height": null,
            "align_content": null,
            "visibility": null,
            "align_self": null,
            "height": null,
            "min_height": null,
            "padding": null,
            "grid_auto_rows": null,
            "grid_gap": null,
            "max_width": null,
            "order": null,
            "_view_module_version": "1.2.0",
            "grid_template_areas": null,
            "object_position": null,
            "object_fit": null,
            "grid_auto_columns": null,
            "margin": null,
            "display": null,
            "left": null
          }
        },
        "99fe5a2096974d41ab6eef17a69601f9": {
          "model_module": "@jupyter-widgets/controls",
          "model_name": "FloatProgressModel",
          "state": {
            "_view_name": "ProgressView",
            "style": "IPY_MODEL_5bc6b135774d4a02bea15130deecded7",
            "_dom_classes": [],
            "description": "100%",
            "_model_name": "FloatProgressModel",
            "bar_style": "success",
            "max": 17238,
            "_view_module": "@jupyter-widgets/controls",
            "_model_module_version": "1.5.0",
            "value": 17238,
            "_view_count": null,
            "_view_module_version": "1.5.0",
            "orientation": "horizontal",
            "min": 0,
            "description_tooltip": null,
            "_model_module": "@jupyter-widgets/controls",
            "layout": "IPY_MODEL_206084eb1d7942478fd52bc950623d0d"
          }
        },
        "6978c69d9634486696374759f1e0e14c": {
          "model_module": "@jupyter-widgets/controls",
          "model_name": "HTMLModel",
          "state": {
            "_view_name": "HTMLView",
            "style": "IPY_MODEL_dc2979a7009c486eb7681fb6aa98a00d",
            "_dom_classes": [],
            "description": "",
            "_model_name": "HTMLModel",
            "placeholder": "​",
            "_view_module": "@jupyter-widgets/controls",
            "_model_module_version": "1.5.0",
            "value": " 17238/17238 [01:09&lt;00:00, 248.47it/s]",
            "_view_count": null,
            "_view_module_version": "1.5.0",
            "description_tooltip": null,
            "_model_module": "@jupyter-widgets/controls",
            "layout": "IPY_MODEL_2f1ac21548d0485aa255d84aadf57357"
          }
        },
        "5bc6b135774d4a02bea15130deecded7": {
          "model_module": "@jupyter-widgets/controls",
          "model_name": "ProgressStyleModel",
          "state": {
            "_view_name": "StyleView",
            "_model_name": "ProgressStyleModel",
            "description_width": "initial",
            "_view_module": "@jupyter-widgets/base",
            "_model_module_version": "1.5.0",
            "_view_count": null,
            "_view_module_version": "1.2.0",
            "bar_color": null,
            "_model_module": "@jupyter-widgets/controls"
          }
        },
        "206084eb1d7942478fd52bc950623d0d": {
          "model_module": "@jupyter-widgets/base",
          "model_name": "LayoutModel",
          "state": {
            "_view_name": "LayoutView",
            "grid_template_rows": null,
            "right": null,
            "justify_content": null,
            "_view_module": "@jupyter-widgets/base",
            "overflow": null,
            "_model_module_version": "1.2.0",
            "_view_count": null,
            "flex_flow": null,
            "width": null,
            "min_width": null,
            "border": null,
            "align_items": null,
            "bottom": null,
            "_model_module": "@jupyter-widgets/base",
            "top": null,
            "grid_column": null,
            "overflow_y": null,
            "overflow_x": null,
            "grid_auto_flow": null,
            "grid_area": null,
            "grid_template_columns": null,
            "flex": null,
            "_model_name": "LayoutModel",
            "justify_items": null,
            "grid_row": null,
            "max_height": null,
            "align_content": null,
            "visibility": null,
            "align_self": null,
            "height": null,
            "min_height": null,
            "padding": null,
            "grid_auto_rows": null,
            "grid_gap": null,
            "max_width": null,
            "order": null,
            "_view_module_version": "1.2.0",
            "grid_template_areas": null,
            "object_position": null,
            "object_fit": null,
            "grid_auto_columns": null,
            "margin": null,
            "display": null,
            "left": null
          }
        },
        "dc2979a7009c486eb7681fb6aa98a00d": {
          "model_module": "@jupyter-widgets/controls",
          "model_name": "DescriptionStyleModel",
          "state": {
            "_view_name": "StyleView",
            "_model_name": "DescriptionStyleModel",
            "description_width": "",
            "_view_module": "@jupyter-widgets/base",
            "_model_module_version": "1.5.0",
            "_view_count": null,
            "_view_module_version": "1.2.0",
            "_model_module": "@jupyter-widgets/controls"
          }
        },
        "2f1ac21548d0485aa255d84aadf57357": {
          "model_module": "@jupyter-widgets/base",
          "model_name": "LayoutModel",
          "state": {
            "_view_name": "LayoutView",
            "grid_template_rows": null,
            "right": null,
            "justify_content": null,
            "_view_module": "@jupyter-widgets/base",
            "overflow": null,
            "_model_module_version": "1.2.0",
            "_view_count": null,
            "flex_flow": null,
            "width": null,
            "min_width": null,
            "border": null,
            "align_items": null,
            "bottom": null,
            "_model_module": "@jupyter-widgets/base",
            "top": null,
            "grid_column": null,
            "overflow_y": null,
            "overflow_x": null,
            "grid_auto_flow": null,
            "grid_area": null,
            "grid_template_columns": null,
            "flex": null,
            "_model_name": "LayoutModel",
            "justify_items": null,
            "grid_row": null,
            "max_height": null,
            "align_content": null,
            "visibility": null,
            "align_self": null,
            "height": null,
            "min_height": null,
            "padding": null,
            "grid_auto_rows": null,
            "grid_gap": null,
            "max_width": null,
            "order": null,
            "_view_module_version": "1.2.0",
            "grid_template_areas": null,
            "object_position": null,
            "object_fit": null,
            "grid_auto_columns": null,
            "margin": null,
            "display": null,
            "left": null
          }
        },
        "28279388983f428fa69264057f4d2959": {
          "model_module": "@jupyter-widgets/controls",
          "model_name": "HBoxModel",
          "state": {
            "_view_name": "HBoxView",
            "_dom_classes": [],
            "_model_name": "HBoxModel",
            "_view_module": "@jupyter-widgets/controls",
            "_model_module_version": "1.5.0",
            "_view_count": null,
            "_view_module_version": "1.5.0",
            "box_style": "",
            "layout": "IPY_MODEL_749671cafad84a8ebec3e7aeb9a53561",
            "_model_module": "@jupyter-widgets/controls",
            "children": [
              "IPY_MODEL_38c66dfb3b774a04ae63c9641132f627",
              "IPY_MODEL_c3dbce6e1b7345709b4795ee80f544ee"
            ]
          }
        },
        "749671cafad84a8ebec3e7aeb9a53561": {
          "model_module": "@jupyter-widgets/base",
          "model_name": "LayoutModel",
          "state": {
            "_view_name": "LayoutView",
            "grid_template_rows": null,
            "right": null,
            "justify_content": null,
            "_view_module": "@jupyter-widgets/base",
            "overflow": null,
            "_model_module_version": "1.2.0",
            "_view_count": null,
            "flex_flow": null,
            "width": null,
            "min_width": null,
            "border": null,
            "align_items": null,
            "bottom": null,
            "_model_module": "@jupyter-widgets/base",
            "top": null,
            "grid_column": null,
            "overflow_y": null,
            "overflow_x": null,
            "grid_auto_flow": null,
            "grid_area": null,
            "grid_template_columns": null,
            "flex": null,
            "_model_name": "LayoutModel",
            "justify_items": null,
            "grid_row": null,
            "max_height": null,
            "align_content": null,
            "visibility": null,
            "align_self": null,
            "height": null,
            "min_height": null,
            "padding": null,
            "grid_auto_rows": null,
            "grid_gap": null,
            "max_width": null,
            "order": null,
            "_view_module_version": "1.2.0",
            "grid_template_areas": null,
            "object_position": null,
            "object_fit": null,
            "grid_auto_columns": null,
            "margin": null,
            "display": null,
            "left": null
          }
        },
        "38c66dfb3b774a04ae63c9641132f627": {
          "model_module": "@jupyter-widgets/controls",
          "model_name": "FloatProgressModel",
          "state": {
            "_view_name": "ProgressView",
            "style": "IPY_MODEL_5ea396590ac344018b9eb2ae2c8c0a6d",
            "_dom_classes": [],
            "description": "100%",
            "_model_name": "FloatProgressModel",
            "bar_style": "success",
            "max": 17238,
            "_view_module": "@jupyter-widgets/controls",
            "_model_module_version": "1.5.0",
            "value": 17238,
            "_view_count": null,
            "_view_module_version": "1.5.0",
            "orientation": "horizontal",
            "min": 0,
            "description_tooltip": null,
            "_model_module": "@jupyter-widgets/controls",
            "layout": "IPY_MODEL_3f83f4107aca4d169029af182c8b7a4c"
          }
        },
        "c3dbce6e1b7345709b4795ee80f544ee": {
          "model_module": "@jupyter-widgets/controls",
          "model_name": "HTMLModel",
          "state": {
            "_view_name": "HTMLView",
            "style": "IPY_MODEL_dffa1cd7ade34fd7bb22fa078c2ba756",
            "_dom_classes": [],
            "description": "",
            "_model_name": "HTMLModel",
            "placeholder": "​",
            "_view_module": "@jupyter-widgets/controls",
            "_model_module_version": "1.5.0",
            "value": " 17238/17238 [49:34&lt;00:00,  5.80it/s]",
            "_view_count": null,
            "_view_module_version": "1.5.0",
            "description_tooltip": null,
            "_model_module": "@jupyter-widgets/controls",
            "layout": "IPY_MODEL_cbfcca3d856d4e988de24075a6d61271"
          }
        },
        "5ea396590ac344018b9eb2ae2c8c0a6d": {
          "model_module": "@jupyter-widgets/controls",
          "model_name": "ProgressStyleModel",
          "state": {
            "_view_name": "StyleView",
            "_model_name": "ProgressStyleModel",
            "description_width": "initial",
            "_view_module": "@jupyter-widgets/base",
            "_model_module_version": "1.5.0",
            "_view_count": null,
            "_view_module_version": "1.2.0",
            "bar_color": null,
            "_model_module": "@jupyter-widgets/controls"
          }
        },
        "3f83f4107aca4d169029af182c8b7a4c": {
          "model_module": "@jupyter-widgets/base",
          "model_name": "LayoutModel",
          "state": {
            "_view_name": "LayoutView",
            "grid_template_rows": null,
            "right": null,
            "justify_content": null,
            "_view_module": "@jupyter-widgets/base",
            "overflow": null,
            "_model_module_version": "1.2.0",
            "_view_count": null,
            "flex_flow": null,
            "width": null,
            "min_width": null,
            "border": null,
            "align_items": null,
            "bottom": null,
            "_model_module": "@jupyter-widgets/base",
            "top": null,
            "grid_column": null,
            "overflow_y": null,
            "overflow_x": null,
            "grid_auto_flow": null,
            "grid_area": null,
            "grid_template_columns": null,
            "flex": null,
            "_model_name": "LayoutModel",
            "justify_items": null,
            "grid_row": null,
            "max_height": null,
            "align_content": null,
            "visibility": null,
            "align_self": null,
            "height": null,
            "min_height": null,
            "padding": null,
            "grid_auto_rows": null,
            "grid_gap": null,
            "max_width": null,
            "order": null,
            "_view_module_version": "1.2.0",
            "grid_template_areas": null,
            "object_position": null,
            "object_fit": null,
            "grid_auto_columns": null,
            "margin": null,
            "display": null,
            "left": null
          }
        },
        "dffa1cd7ade34fd7bb22fa078c2ba756": {
          "model_module": "@jupyter-widgets/controls",
          "model_name": "DescriptionStyleModel",
          "state": {
            "_view_name": "StyleView",
            "_model_name": "DescriptionStyleModel",
            "description_width": "",
            "_view_module": "@jupyter-widgets/base",
            "_model_module_version": "1.5.0",
            "_view_count": null,
            "_view_module_version": "1.2.0",
            "_model_module": "@jupyter-widgets/controls"
          }
        },
        "cbfcca3d856d4e988de24075a6d61271": {
          "model_module": "@jupyter-widgets/base",
          "model_name": "LayoutModel",
          "state": {
            "_view_name": "LayoutView",
            "grid_template_rows": null,
            "right": null,
            "justify_content": null,
            "_view_module": "@jupyter-widgets/base",
            "overflow": null,
            "_model_module_version": "1.2.0",
            "_view_count": null,
            "flex_flow": null,
            "width": null,
            "min_width": null,
            "border": null,
            "align_items": null,
            "bottom": null,
            "_model_module": "@jupyter-widgets/base",
            "top": null,
            "grid_column": null,
            "overflow_y": null,
            "overflow_x": null,
            "grid_auto_flow": null,
            "grid_area": null,
            "grid_template_columns": null,
            "flex": null,
            "_model_name": "LayoutModel",
            "justify_items": null,
            "grid_row": null,
            "max_height": null,
            "align_content": null,
            "visibility": null,
            "align_self": null,
            "height": null,
            "min_height": null,
            "padding": null,
            "grid_auto_rows": null,
            "grid_gap": null,
            "max_width": null,
            "order": null,
            "_view_module_version": "1.2.0",
            "grid_template_areas": null,
            "object_position": null,
            "object_fit": null,
            "grid_auto_columns": null,
            "margin": null,
            "display": null,
            "left": null
          }
        },
        "59fe69d2a30841469fb65ac62f245ddd": {
          "model_module": "@jupyter-widgets/controls",
          "model_name": "HBoxModel",
          "state": {
            "_view_name": "HBoxView",
            "_dom_classes": [],
            "_model_name": "HBoxModel",
            "_view_module": "@jupyter-widgets/controls",
            "_model_module_version": "1.5.0",
            "_view_count": null,
            "_view_module_version": "1.5.0",
            "box_style": "",
            "layout": "IPY_MODEL_88b65587b62d4f94b01793dd939aa94b",
            "_model_module": "@jupyter-widgets/controls",
            "children": [
              "IPY_MODEL_52b1e75b39f74bbfb6b6ad15f6dc06aa",
              "IPY_MODEL_be9fdb2a1912473a86d445b67b7ec8bc"
            ]
          }
        },
        "88b65587b62d4f94b01793dd939aa94b": {
          "model_module": "@jupyter-widgets/base",
          "model_name": "LayoutModel",
          "state": {
            "_view_name": "LayoutView",
            "grid_template_rows": null,
            "right": null,
            "justify_content": null,
            "_view_module": "@jupyter-widgets/base",
            "overflow": null,
            "_model_module_version": "1.2.0",
            "_view_count": null,
            "flex_flow": null,
            "width": null,
            "min_width": null,
            "border": null,
            "align_items": null,
            "bottom": null,
            "_model_module": "@jupyter-widgets/base",
            "top": null,
            "grid_column": null,
            "overflow_y": null,
            "overflow_x": null,
            "grid_auto_flow": null,
            "grid_area": null,
            "grid_template_columns": null,
            "flex": null,
            "_model_name": "LayoutModel",
            "justify_items": null,
            "grid_row": null,
            "max_height": null,
            "align_content": null,
            "visibility": null,
            "align_self": null,
            "height": null,
            "min_height": null,
            "padding": null,
            "grid_auto_rows": null,
            "grid_gap": null,
            "max_width": null,
            "order": null,
            "_view_module_version": "1.2.0",
            "grid_template_areas": null,
            "object_position": null,
            "object_fit": null,
            "grid_auto_columns": null,
            "margin": null,
            "display": null,
            "left": null
          }
        },
        "52b1e75b39f74bbfb6b6ad15f6dc06aa": {
          "model_module": "@jupyter-widgets/controls",
          "model_name": "FloatProgressModel",
          "state": {
            "_view_name": "ProgressView",
            "style": "IPY_MODEL_e62b43e9de014d17bae5d7c38237f7f8",
            "_dom_classes": [],
            "description": "100%",
            "_model_name": "FloatProgressModel",
            "bar_style": "success",
            "max": 17704,
            "_view_module": "@jupyter-widgets/controls",
            "_model_module_version": "1.5.0",
            "value": 17704,
            "_view_count": null,
            "_view_module_version": "1.5.0",
            "orientation": "horizontal",
            "min": 0,
            "description_tooltip": null,
            "_model_module": "@jupyter-widgets/controls",
            "layout": "IPY_MODEL_de17dc35a36a4710974f30a0ff092690"
          }
        },
        "be9fdb2a1912473a86d445b67b7ec8bc": {
          "model_module": "@jupyter-widgets/controls",
          "model_name": "HTMLModel",
          "state": {
            "_view_name": "HTMLView",
            "style": "IPY_MODEL_bb6a0dca0bf849c58a35fac9d4abef8a",
            "_dom_classes": [],
            "description": "",
            "_model_name": "HTMLModel",
            "placeholder": "​",
            "_view_module": "@jupyter-widgets/controls",
            "_model_module_version": "1.5.0",
            "value": " 17704/17704 [01:11&lt;00:00, 248.36it/s]",
            "_view_count": null,
            "_view_module_version": "1.5.0",
            "description_tooltip": null,
            "_model_module": "@jupyter-widgets/controls",
            "layout": "IPY_MODEL_ca5394e8e14b453295ae643ea2c484da"
          }
        },
        "e62b43e9de014d17bae5d7c38237f7f8": {
          "model_module": "@jupyter-widgets/controls",
          "model_name": "ProgressStyleModel",
          "state": {
            "_view_name": "StyleView",
            "_model_name": "ProgressStyleModel",
            "description_width": "initial",
            "_view_module": "@jupyter-widgets/base",
            "_model_module_version": "1.5.0",
            "_view_count": null,
            "_view_module_version": "1.2.0",
            "bar_color": null,
            "_model_module": "@jupyter-widgets/controls"
          }
        },
        "de17dc35a36a4710974f30a0ff092690": {
          "model_module": "@jupyter-widgets/base",
          "model_name": "LayoutModel",
          "state": {
            "_view_name": "LayoutView",
            "grid_template_rows": null,
            "right": null,
            "justify_content": null,
            "_view_module": "@jupyter-widgets/base",
            "overflow": null,
            "_model_module_version": "1.2.0",
            "_view_count": null,
            "flex_flow": null,
            "width": null,
            "min_width": null,
            "border": null,
            "align_items": null,
            "bottom": null,
            "_model_module": "@jupyter-widgets/base",
            "top": null,
            "grid_column": null,
            "overflow_y": null,
            "overflow_x": null,
            "grid_auto_flow": null,
            "grid_area": null,
            "grid_template_columns": null,
            "flex": null,
            "_model_name": "LayoutModel",
            "justify_items": null,
            "grid_row": null,
            "max_height": null,
            "align_content": null,
            "visibility": null,
            "align_self": null,
            "height": null,
            "min_height": null,
            "padding": null,
            "grid_auto_rows": null,
            "grid_gap": null,
            "max_width": null,
            "order": null,
            "_view_module_version": "1.2.0",
            "grid_template_areas": null,
            "object_position": null,
            "object_fit": null,
            "grid_auto_columns": null,
            "margin": null,
            "display": null,
            "left": null
          }
        },
        "bb6a0dca0bf849c58a35fac9d4abef8a": {
          "model_module": "@jupyter-widgets/controls",
          "model_name": "DescriptionStyleModel",
          "state": {
            "_view_name": "StyleView",
            "_model_name": "DescriptionStyleModel",
            "description_width": "",
            "_view_module": "@jupyter-widgets/base",
            "_model_module_version": "1.5.0",
            "_view_count": null,
            "_view_module_version": "1.2.0",
            "_model_module": "@jupyter-widgets/controls"
          }
        },
        "ca5394e8e14b453295ae643ea2c484da": {
          "model_module": "@jupyter-widgets/base",
          "model_name": "LayoutModel",
          "state": {
            "_view_name": "LayoutView",
            "grid_template_rows": null,
            "right": null,
            "justify_content": null,
            "_view_module": "@jupyter-widgets/base",
            "overflow": null,
            "_model_module_version": "1.2.0",
            "_view_count": null,
            "flex_flow": null,
            "width": null,
            "min_width": null,
            "border": null,
            "align_items": null,
            "bottom": null,
            "_model_module": "@jupyter-widgets/base",
            "top": null,
            "grid_column": null,
            "overflow_y": null,
            "overflow_x": null,
            "grid_auto_flow": null,
            "grid_area": null,
            "grid_template_columns": null,
            "flex": null,
            "_model_name": "LayoutModel",
            "justify_items": null,
            "grid_row": null,
            "max_height": null,
            "align_content": null,
            "visibility": null,
            "align_self": null,
            "height": null,
            "min_height": null,
            "padding": null,
            "grid_auto_rows": null,
            "grid_gap": null,
            "max_width": null,
            "order": null,
            "_view_module_version": "1.2.0",
            "grid_template_areas": null,
            "object_position": null,
            "object_fit": null,
            "grid_auto_columns": null,
            "margin": null,
            "display": null,
            "left": null
          }
        },
        "67a12875fee84701a125e201b46ec23e": {
          "model_module": "@jupyter-widgets/controls",
          "model_name": "HBoxModel",
          "state": {
            "_view_name": "HBoxView",
            "_dom_classes": [],
            "_model_name": "HBoxModel",
            "_view_module": "@jupyter-widgets/controls",
            "_model_module_version": "1.5.0",
            "_view_count": null,
            "_view_module_version": "1.5.0",
            "box_style": "",
            "layout": "IPY_MODEL_2867f056b2a34ee69067a581b20ce2c6",
            "_model_module": "@jupyter-widgets/controls",
            "children": [
              "IPY_MODEL_d9ea9e1c5c75438987cd6d14c024298e",
              "IPY_MODEL_2f7a9e152a1d4e08a4ce67e6233325b9"
            ]
          }
        },
        "2867f056b2a34ee69067a581b20ce2c6": {
          "model_module": "@jupyter-widgets/base",
          "model_name": "LayoutModel",
          "state": {
            "_view_name": "LayoutView",
            "grid_template_rows": null,
            "right": null,
            "justify_content": null,
            "_view_module": "@jupyter-widgets/base",
            "overflow": null,
            "_model_module_version": "1.2.0",
            "_view_count": null,
            "flex_flow": null,
            "width": null,
            "min_width": null,
            "border": null,
            "align_items": null,
            "bottom": null,
            "_model_module": "@jupyter-widgets/base",
            "top": null,
            "grid_column": null,
            "overflow_y": null,
            "overflow_x": null,
            "grid_auto_flow": null,
            "grid_area": null,
            "grid_template_columns": null,
            "flex": null,
            "_model_name": "LayoutModel",
            "justify_items": null,
            "grid_row": null,
            "max_height": null,
            "align_content": null,
            "visibility": null,
            "align_self": null,
            "height": null,
            "min_height": null,
            "padding": null,
            "grid_auto_rows": null,
            "grid_gap": null,
            "max_width": null,
            "order": null,
            "_view_module_version": "1.2.0",
            "grid_template_areas": null,
            "object_position": null,
            "object_fit": null,
            "grid_auto_columns": null,
            "margin": null,
            "display": null,
            "left": null
          }
        },
        "d9ea9e1c5c75438987cd6d14c024298e": {
          "model_module": "@jupyter-widgets/controls",
          "model_name": "FloatProgressModel",
          "state": {
            "_view_name": "ProgressView",
            "style": "IPY_MODEL_0ed9310cc1a04719b1fd9c5f0b73165d",
            "_dom_classes": [],
            "description": "100%",
            "_model_name": "FloatProgressModel",
            "bar_style": "success",
            "max": 17238,
            "_view_module": "@jupyter-widgets/controls",
            "_model_module_version": "1.5.0",
            "value": 17238,
            "_view_count": null,
            "_view_module_version": "1.5.0",
            "orientation": "horizontal",
            "min": 0,
            "description_tooltip": null,
            "_model_module": "@jupyter-widgets/controls",
            "layout": "IPY_MODEL_9d67498f48ab4a33878f01e91e034d24"
          }
        },
        "2f7a9e152a1d4e08a4ce67e6233325b9": {
          "model_module": "@jupyter-widgets/controls",
          "model_name": "HTMLModel",
          "state": {
            "_view_name": "HTMLView",
            "style": "IPY_MODEL_9700e5229bd34c8490d64f33b45f1380",
            "_dom_classes": [],
            "description": "",
            "_model_name": "HTMLModel",
            "placeholder": "​",
            "_view_module": "@jupyter-widgets/controls",
            "_model_module_version": "1.5.0",
            "value": " 17238/17238 [33:08&lt;00:00,  8.67it/s]",
            "_view_count": null,
            "_view_module_version": "1.5.0",
            "description_tooltip": null,
            "_model_module": "@jupyter-widgets/controls",
            "layout": "IPY_MODEL_7d5ea7b9702d47c8892e1f9a504b5c1a"
          }
        },
        "0ed9310cc1a04719b1fd9c5f0b73165d": {
          "model_module": "@jupyter-widgets/controls",
          "model_name": "ProgressStyleModel",
          "state": {
            "_view_name": "StyleView",
            "_model_name": "ProgressStyleModel",
            "description_width": "initial",
            "_view_module": "@jupyter-widgets/base",
            "_model_module_version": "1.5.0",
            "_view_count": null,
            "_view_module_version": "1.2.0",
            "bar_color": null,
            "_model_module": "@jupyter-widgets/controls"
          }
        },
        "9d67498f48ab4a33878f01e91e034d24": {
          "model_module": "@jupyter-widgets/base",
          "model_name": "LayoutModel",
          "state": {
            "_view_name": "LayoutView",
            "grid_template_rows": null,
            "right": null,
            "justify_content": null,
            "_view_module": "@jupyter-widgets/base",
            "overflow": null,
            "_model_module_version": "1.2.0",
            "_view_count": null,
            "flex_flow": null,
            "width": null,
            "min_width": null,
            "border": null,
            "align_items": null,
            "bottom": null,
            "_model_module": "@jupyter-widgets/base",
            "top": null,
            "grid_column": null,
            "overflow_y": null,
            "overflow_x": null,
            "grid_auto_flow": null,
            "grid_area": null,
            "grid_template_columns": null,
            "flex": null,
            "_model_name": "LayoutModel",
            "justify_items": null,
            "grid_row": null,
            "max_height": null,
            "align_content": null,
            "visibility": null,
            "align_self": null,
            "height": null,
            "min_height": null,
            "padding": null,
            "grid_auto_rows": null,
            "grid_gap": null,
            "max_width": null,
            "order": null,
            "_view_module_version": "1.2.0",
            "grid_template_areas": null,
            "object_position": null,
            "object_fit": null,
            "grid_auto_columns": null,
            "margin": null,
            "display": null,
            "left": null
          }
        },
        "9700e5229bd34c8490d64f33b45f1380": {
          "model_module": "@jupyter-widgets/controls",
          "model_name": "DescriptionStyleModel",
          "state": {
            "_view_name": "StyleView",
            "_model_name": "DescriptionStyleModel",
            "description_width": "",
            "_view_module": "@jupyter-widgets/base",
            "_model_module_version": "1.5.0",
            "_view_count": null,
            "_view_module_version": "1.2.0",
            "_model_module": "@jupyter-widgets/controls"
          }
        },
        "7d5ea7b9702d47c8892e1f9a504b5c1a": {
          "model_module": "@jupyter-widgets/base",
          "model_name": "LayoutModel",
          "state": {
            "_view_name": "LayoutView",
            "grid_template_rows": null,
            "right": null,
            "justify_content": null,
            "_view_module": "@jupyter-widgets/base",
            "overflow": null,
            "_model_module_version": "1.2.0",
            "_view_count": null,
            "flex_flow": null,
            "width": null,
            "min_width": null,
            "border": null,
            "align_items": null,
            "bottom": null,
            "_model_module": "@jupyter-widgets/base",
            "top": null,
            "grid_column": null,
            "overflow_y": null,
            "overflow_x": null,
            "grid_auto_flow": null,
            "grid_area": null,
            "grid_template_columns": null,
            "flex": null,
            "_model_name": "LayoutModel",
            "justify_items": null,
            "grid_row": null,
            "max_height": null,
            "align_content": null,
            "visibility": null,
            "align_self": null,
            "height": null,
            "min_height": null,
            "padding": null,
            "grid_auto_rows": null,
            "grid_gap": null,
            "max_width": null,
            "order": null,
            "_view_module_version": "1.2.0",
            "grid_template_areas": null,
            "object_position": null,
            "object_fit": null,
            "grid_auto_columns": null,
            "margin": null,
            "display": null,
            "left": null
          }
        },
        "01a149f1d4684da8be71aa2d4260c22a": {
          "model_module": "@jupyter-widgets/controls",
          "model_name": "HBoxModel",
          "state": {
            "_view_name": "HBoxView",
            "_dom_classes": [],
            "_model_name": "HBoxModel",
            "_view_module": "@jupyter-widgets/controls",
            "_model_module_version": "1.5.0",
            "_view_count": null,
            "_view_module_version": "1.5.0",
            "box_style": "",
            "layout": "IPY_MODEL_db0174ca50f6471e9b9aaddcc1398021",
            "_model_module": "@jupyter-widgets/controls",
            "children": [
              "IPY_MODEL_edc7b75de33548828da69111180a21b9",
              "IPY_MODEL_7f1a6d9ff19547b1a4ef2ce34a19290c"
            ]
          }
        },
        "db0174ca50f6471e9b9aaddcc1398021": {
          "model_module": "@jupyter-widgets/base",
          "model_name": "LayoutModel",
          "state": {
            "_view_name": "LayoutView",
            "grid_template_rows": null,
            "right": null,
            "justify_content": null,
            "_view_module": "@jupyter-widgets/base",
            "overflow": null,
            "_model_module_version": "1.2.0",
            "_view_count": null,
            "flex_flow": null,
            "width": null,
            "min_width": null,
            "border": null,
            "align_items": null,
            "bottom": null,
            "_model_module": "@jupyter-widgets/base",
            "top": null,
            "grid_column": null,
            "overflow_y": null,
            "overflow_x": null,
            "grid_auto_flow": null,
            "grid_area": null,
            "grid_template_columns": null,
            "flex": null,
            "_model_name": "LayoutModel",
            "justify_items": null,
            "grid_row": null,
            "max_height": null,
            "align_content": null,
            "visibility": null,
            "align_self": null,
            "height": null,
            "min_height": null,
            "padding": null,
            "grid_auto_rows": null,
            "grid_gap": null,
            "max_width": null,
            "order": null,
            "_view_module_version": "1.2.0",
            "grid_template_areas": null,
            "object_position": null,
            "object_fit": null,
            "grid_auto_columns": null,
            "margin": null,
            "display": null,
            "left": null
          }
        },
        "edc7b75de33548828da69111180a21b9": {
          "model_module": "@jupyter-widgets/controls",
          "model_name": "FloatProgressModel",
          "state": {
            "_view_name": "ProgressView",
            "style": "IPY_MODEL_d441f58cdd804e899544233b029330e3",
            "_dom_classes": [],
            "description": "100%",
            "_model_name": "FloatProgressModel",
            "bar_style": "success",
            "max": 17238,
            "_view_module": "@jupyter-widgets/controls",
            "_model_module_version": "1.5.0",
            "value": 17238,
            "_view_count": null,
            "_view_module_version": "1.5.0",
            "orientation": "horizontal",
            "min": 0,
            "description_tooltip": null,
            "_model_module": "@jupyter-widgets/controls",
            "layout": "IPY_MODEL_e0e7e4b32a564703b4a5754430c69b44"
          }
        },
        "7f1a6d9ff19547b1a4ef2ce34a19290c": {
          "model_module": "@jupyter-widgets/controls",
          "model_name": "HTMLModel",
          "state": {
            "_view_name": "HTMLView",
            "style": "IPY_MODEL_a124ba572e294725905c22ad7e2b2285",
            "_dom_classes": [],
            "description": "",
            "_model_name": "HTMLModel",
            "placeholder": "​",
            "_view_module": "@jupyter-widgets/controls",
            "_model_module_version": "1.5.0",
            "value": " 17238/17238 [01:16&lt;00:00, 224.44it/s]",
            "_view_count": null,
            "_view_module_version": "1.5.0",
            "description_tooltip": null,
            "_model_module": "@jupyter-widgets/controls",
            "layout": "IPY_MODEL_91a9c9c45c2c42a8be98b51aced6f63c"
          }
        },
        "d441f58cdd804e899544233b029330e3": {
          "model_module": "@jupyter-widgets/controls",
          "model_name": "ProgressStyleModel",
          "state": {
            "_view_name": "StyleView",
            "_model_name": "ProgressStyleModel",
            "description_width": "initial",
            "_view_module": "@jupyter-widgets/base",
            "_model_module_version": "1.5.0",
            "_view_count": null,
            "_view_module_version": "1.2.0",
            "bar_color": null,
            "_model_module": "@jupyter-widgets/controls"
          }
        },
        "e0e7e4b32a564703b4a5754430c69b44": {
          "model_module": "@jupyter-widgets/base",
          "model_name": "LayoutModel",
          "state": {
            "_view_name": "LayoutView",
            "grid_template_rows": null,
            "right": null,
            "justify_content": null,
            "_view_module": "@jupyter-widgets/base",
            "overflow": null,
            "_model_module_version": "1.2.0",
            "_view_count": null,
            "flex_flow": null,
            "width": null,
            "min_width": null,
            "border": null,
            "align_items": null,
            "bottom": null,
            "_model_module": "@jupyter-widgets/base",
            "top": null,
            "grid_column": null,
            "overflow_y": null,
            "overflow_x": null,
            "grid_auto_flow": null,
            "grid_area": null,
            "grid_template_columns": null,
            "flex": null,
            "_model_name": "LayoutModel",
            "justify_items": null,
            "grid_row": null,
            "max_height": null,
            "align_content": null,
            "visibility": null,
            "align_self": null,
            "height": null,
            "min_height": null,
            "padding": null,
            "grid_auto_rows": null,
            "grid_gap": null,
            "max_width": null,
            "order": null,
            "_view_module_version": "1.2.0",
            "grid_template_areas": null,
            "object_position": null,
            "object_fit": null,
            "grid_auto_columns": null,
            "margin": null,
            "display": null,
            "left": null
          }
        },
        "a124ba572e294725905c22ad7e2b2285": {
          "model_module": "@jupyter-widgets/controls",
          "model_name": "DescriptionStyleModel",
          "state": {
            "_view_name": "StyleView",
            "_model_name": "DescriptionStyleModel",
            "description_width": "",
            "_view_module": "@jupyter-widgets/base",
            "_model_module_version": "1.5.0",
            "_view_count": null,
            "_view_module_version": "1.2.0",
            "_model_module": "@jupyter-widgets/controls"
          }
        },
        "91a9c9c45c2c42a8be98b51aced6f63c": {
          "model_module": "@jupyter-widgets/base",
          "model_name": "LayoutModel",
          "state": {
            "_view_name": "LayoutView",
            "grid_template_rows": null,
            "right": null,
            "justify_content": null,
            "_view_module": "@jupyter-widgets/base",
            "overflow": null,
            "_model_module_version": "1.2.0",
            "_view_count": null,
            "flex_flow": null,
            "width": null,
            "min_width": null,
            "border": null,
            "align_items": null,
            "bottom": null,
            "_model_module": "@jupyter-widgets/base",
            "top": null,
            "grid_column": null,
            "overflow_y": null,
            "overflow_x": null,
            "grid_auto_flow": null,
            "grid_area": null,
            "grid_template_columns": null,
            "flex": null,
            "_model_name": "LayoutModel",
            "justify_items": null,
            "grid_row": null,
            "max_height": null,
            "align_content": null,
            "visibility": null,
            "align_self": null,
            "height": null,
            "min_height": null,
            "padding": null,
            "grid_auto_rows": null,
            "grid_gap": null,
            "max_width": null,
            "order": null,
            "_view_module_version": "1.2.0",
            "grid_template_areas": null,
            "object_position": null,
            "object_fit": null,
            "grid_auto_columns": null,
            "margin": null,
            "display": null,
            "left": null
          }
        },
        "3bc99aa100174b29826735e8753a9b9b": {
          "model_module": "@jupyter-widgets/controls",
          "model_name": "HBoxModel",
          "state": {
            "_view_name": "HBoxView",
            "_dom_classes": [],
            "_model_name": "HBoxModel",
            "_view_module": "@jupyter-widgets/controls",
            "_model_module_version": "1.5.0",
            "_view_count": null,
            "_view_module_version": "1.5.0",
            "box_style": "",
            "layout": "IPY_MODEL_d9bb3d4f74344d3baf16d257f61789dd",
            "_model_module": "@jupyter-widgets/controls",
            "children": [
              "IPY_MODEL_81439b7f0901487eae926c9db0ff3f0b",
              "IPY_MODEL_180016c9ab324b1c918f09f68fa746b4"
            ]
          }
        },
        "d9bb3d4f74344d3baf16d257f61789dd": {
          "model_module": "@jupyter-widgets/base",
          "model_name": "LayoutModel",
          "state": {
            "_view_name": "LayoutView",
            "grid_template_rows": null,
            "right": null,
            "justify_content": null,
            "_view_module": "@jupyter-widgets/base",
            "overflow": null,
            "_model_module_version": "1.2.0",
            "_view_count": null,
            "flex_flow": null,
            "width": null,
            "min_width": null,
            "border": null,
            "align_items": null,
            "bottom": null,
            "_model_module": "@jupyter-widgets/base",
            "top": null,
            "grid_column": null,
            "overflow_y": null,
            "overflow_x": null,
            "grid_auto_flow": null,
            "grid_area": null,
            "grid_template_columns": null,
            "flex": null,
            "_model_name": "LayoutModel",
            "justify_items": null,
            "grid_row": null,
            "max_height": null,
            "align_content": null,
            "visibility": null,
            "align_self": null,
            "height": null,
            "min_height": null,
            "padding": null,
            "grid_auto_rows": null,
            "grid_gap": null,
            "max_width": null,
            "order": null,
            "_view_module_version": "1.2.0",
            "grid_template_areas": null,
            "object_position": null,
            "object_fit": null,
            "grid_auto_columns": null,
            "margin": null,
            "display": null,
            "left": null
          }
        },
        "81439b7f0901487eae926c9db0ff3f0b": {
          "model_module": "@jupyter-widgets/controls",
          "model_name": "FloatProgressModel",
          "state": {
            "_view_name": "ProgressView",
            "style": "IPY_MODEL_1cfbc3c9ef044fcaa51833ac7450d2bc",
            "_dom_classes": [],
            "description": "100%",
            "_model_name": "FloatProgressModel",
            "bar_style": "success",
            "max": 17238,
            "_view_module": "@jupyter-widgets/controls",
            "_model_module_version": "1.5.0",
            "value": 17238,
            "_view_count": null,
            "_view_module_version": "1.5.0",
            "orientation": "horizontal",
            "min": 0,
            "description_tooltip": null,
            "_model_module": "@jupyter-widgets/controls",
            "layout": "IPY_MODEL_cce77942666743f7bcf079005c0b9e25"
          }
        },
        "180016c9ab324b1c918f09f68fa746b4": {
          "model_module": "@jupyter-widgets/controls",
          "model_name": "HTMLModel",
          "state": {
            "_view_name": "HTMLView",
            "style": "IPY_MODEL_aeb16d030b7c43178af37db473391d96",
            "_dom_classes": [],
            "description": "",
            "_model_name": "HTMLModel",
            "placeholder": "​",
            "_view_module": "@jupyter-widgets/controls",
            "_model_module_version": "1.5.0",
            "value": " 17238/17238 [49:43&lt;00:00,  5.78it/s]",
            "_view_count": null,
            "_view_module_version": "1.5.0",
            "description_tooltip": null,
            "_model_module": "@jupyter-widgets/controls",
            "layout": "IPY_MODEL_a1cd50e549b74afaa8406745ad685b25"
          }
        },
        "1cfbc3c9ef044fcaa51833ac7450d2bc": {
          "model_module": "@jupyter-widgets/controls",
          "model_name": "ProgressStyleModel",
          "state": {
            "_view_name": "StyleView",
            "_model_name": "ProgressStyleModel",
            "description_width": "initial",
            "_view_module": "@jupyter-widgets/base",
            "_model_module_version": "1.5.0",
            "_view_count": null,
            "_view_module_version": "1.2.0",
            "bar_color": null,
            "_model_module": "@jupyter-widgets/controls"
          }
        },
        "cce77942666743f7bcf079005c0b9e25": {
          "model_module": "@jupyter-widgets/base",
          "model_name": "LayoutModel",
          "state": {
            "_view_name": "LayoutView",
            "grid_template_rows": null,
            "right": null,
            "justify_content": null,
            "_view_module": "@jupyter-widgets/base",
            "overflow": null,
            "_model_module_version": "1.2.0",
            "_view_count": null,
            "flex_flow": null,
            "width": null,
            "min_width": null,
            "border": null,
            "align_items": null,
            "bottom": null,
            "_model_module": "@jupyter-widgets/base",
            "top": null,
            "grid_column": null,
            "overflow_y": null,
            "overflow_x": null,
            "grid_auto_flow": null,
            "grid_area": null,
            "grid_template_columns": null,
            "flex": null,
            "_model_name": "LayoutModel",
            "justify_items": null,
            "grid_row": null,
            "max_height": null,
            "align_content": null,
            "visibility": null,
            "align_self": null,
            "height": null,
            "min_height": null,
            "padding": null,
            "grid_auto_rows": null,
            "grid_gap": null,
            "max_width": null,
            "order": null,
            "_view_module_version": "1.2.0",
            "grid_template_areas": null,
            "object_position": null,
            "object_fit": null,
            "grid_auto_columns": null,
            "margin": null,
            "display": null,
            "left": null
          }
        },
        "aeb16d030b7c43178af37db473391d96": {
          "model_module": "@jupyter-widgets/controls",
          "model_name": "DescriptionStyleModel",
          "state": {
            "_view_name": "StyleView",
            "_model_name": "DescriptionStyleModel",
            "description_width": "",
            "_view_module": "@jupyter-widgets/base",
            "_model_module_version": "1.5.0",
            "_view_count": null,
            "_view_module_version": "1.2.0",
            "_model_module": "@jupyter-widgets/controls"
          }
        },
        "a1cd50e549b74afaa8406745ad685b25": {
          "model_module": "@jupyter-widgets/base",
          "model_name": "LayoutModel",
          "state": {
            "_view_name": "LayoutView",
            "grid_template_rows": null,
            "right": null,
            "justify_content": null,
            "_view_module": "@jupyter-widgets/base",
            "overflow": null,
            "_model_module_version": "1.2.0",
            "_view_count": null,
            "flex_flow": null,
            "width": null,
            "min_width": null,
            "border": null,
            "align_items": null,
            "bottom": null,
            "_model_module": "@jupyter-widgets/base",
            "top": null,
            "grid_column": null,
            "overflow_y": null,
            "overflow_x": null,
            "grid_auto_flow": null,
            "grid_area": null,
            "grid_template_columns": null,
            "flex": null,
            "_model_name": "LayoutModel",
            "justify_items": null,
            "grid_row": null,
            "max_height": null,
            "align_content": null,
            "visibility": null,
            "align_self": null,
            "height": null,
            "min_height": null,
            "padding": null,
            "grid_auto_rows": null,
            "grid_gap": null,
            "max_width": null,
            "order": null,
            "_view_module_version": "1.2.0",
            "grid_template_areas": null,
            "object_position": null,
            "object_fit": null,
            "grid_auto_columns": null,
            "margin": null,
            "display": null,
            "left": null
          }
        },
        "bbc343fd9b314239a750199b2c3b18bc": {
          "model_module": "@jupyter-widgets/controls",
          "model_name": "HBoxModel",
          "state": {
            "_view_name": "HBoxView",
            "_dom_classes": [],
            "_model_name": "HBoxModel",
            "_view_module": "@jupyter-widgets/controls",
            "_model_module_version": "1.5.0",
            "_view_count": null,
            "_view_module_version": "1.5.0",
            "box_style": "",
            "layout": "IPY_MODEL_670ca9783e0140daba595d998db33d6d",
            "_model_module": "@jupyter-widgets/controls",
            "children": [
              "IPY_MODEL_58717f14afb64cd8bcbc5ef2bbfc9799",
              "IPY_MODEL_ab85b27ebd0a4b8088cc5b97ceb7d33d"
            ]
          }
        },
        "670ca9783e0140daba595d998db33d6d": {
          "model_module": "@jupyter-widgets/base",
          "model_name": "LayoutModel",
          "state": {
            "_view_name": "LayoutView",
            "grid_template_rows": null,
            "right": null,
            "justify_content": null,
            "_view_module": "@jupyter-widgets/base",
            "overflow": null,
            "_model_module_version": "1.2.0",
            "_view_count": null,
            "flex_flow": null,
            "width": null,
            "min_width": null,
            "border": null,
            "align_items": null,
            "bottom": null,
            "_model_module": "@jupyter-widgets/base",
            "top": null,
            "grid_column": null,
            "overflow_y": null,
            "overflow_x": null,
            "grid_auto_flow": null,
            "grid_area": null,
            "grid_template_columns": null,
            "flex": null,
            "_model_name": "LayoutModel",
            "justify_items": null,
            "grid_row": null,
            "max_height": null,
            "align_content": null,
            "visibility": null,
            "align_self": null,
            "height": null,
            "min_height": null,
            "padding": null,
            "grid_auto_rows": null,
            "grid_gap": null,
            "max_width": null,
            "order": null,
            "_view_module_version": "1.2.0",
            "grid_template_areas": null,
            "object_position": null,
            "object_fit": null,
            "grid_auto_columns": null,
            "margin": null,
            "display": null,
            "left": null
          }
        },
        "58717f14afb64cd8bcbc5ef2bbfc9799": {
          "model_module": "@jupyter-widgets/controls",
          "model_name": "FloatProgressModel",
          "state": {
            "_view_name": "ProgressView",
            "style": "IPY_MODEL_bbe0950ca5ed462797133d1607bec72a",
            "_dom_classes": [],
            "description": "100%",
            "_model_name": "FloatProgressModel",
            "bar_style": "success",
            "max": 17704,
            "_view_module": "@jupyter-widgets/controls",
            "_model_module_version": "1.5.0",
            "value": 17704,
            "_view_count": null,
            "_view_module_version": "1.5.0",
            "orientation": "horizontal",
            "min": 0,
            "description_tooltip": null,
            "_model_module": "@jupyter-widgets/controls",
            "layout": "IPY_MODEL_74b3ac23e14b40d492eda000aa7c5bb8"
          }
        },
        "ab85b27ebd0a4b8088cc5b97ceb7d33d": {
          "model_module": "@jupyter-widgets/controls",
          "model_name": "HTMLModel",
          "state": {
            "_view_name": "HTMLView",
            "style": "IPY_MODEL_b7679e4b4265420889aa8b2509332721",
            "_dom_classes": [],
            "description": "",
            "_model_name": "HTMLModel",
            "placeholder": "​",
            "_view_module": "@jupyter-widgets/controls",
            "_model_module_version": "1.5.0",
            "value": " 17704/17704 [01:08&lt;00:00, 257.52it/s]",
            "_view_count": null,
            "_view_module_version": "1.5.0",
            "description_tooltip": null,
            "_model_module": "@jupyter-widgets/controls",
            "layout": "IPY_MODEL_b511ae7b3e044170a4aafddc37e560fa"
          }
        },
        "bbe0950ca5ed462797133d1607bec72a": {
          "model_module": "@jupyter-widgets/controls",
          "model_name": "ProgressStyleModel",
          "state": {
            "_view_name": "StyleView",
            "_model_name": "ProgressStyleModel",
            "description_width": "initial",
            "_view_module": "@jupyter-widgets/base",
            "_model_module_version": "1.5.0",
            "_view_count": null,
            "_view_module_version": "1.2.0",
            "bar_color": null,
            "_model_module": "@jupyter-widgets/controls"
          }
        },
        "74b3ac23e14b40d492eda000aa7c5bb8": {
          "model_module": "@jupyter-widgets/base",
          "model_name": "LayoutModel",
          "state": {
            "_view_name": "LayoutView",
            "grid_template_rows": null,
            "right": null,
            "justify_content": null,
            "_view_module": "@jupyter-widgets/base",
            "overflow": null,
            "_model_module_version": "1.2.0",
            "_view_count": null,
            "flex_flow": null,
            "width": null,
            "min_width": null,
            "border": null,
            "align_items": null,
            "bottom": null,
            "_model_module": "@jupyter-widgets/base",
            "top": null,
            "grid_column": null,
            "overflow_y": null,
            "overflow_x": null,
            "grid_auto_flow": null,
            "grid_area": null,
            "grid_template_columns": null,
            "flex": null,
            "_model_name": "LayoutModel",
            "justify_items": null,
            "grid_row": null,
            "max_height": null,
            "align_content": null,
            "visibility": null,
            "align_self": null,
            "height": null,
            "min_height": null,
            "padding": null,
            "grid_auto_rows": null,
            "grid_gap": null,
            "max_width": null,
            "order": null,
            "_view_module_version": "1.2.0",
            "grid_template_areas": null,
            "object_position": null,
            "object_fit": null,
            "grid_auto_columns": null,
            "margin": null,
            "display": null,
            "left": null
          }
        },
        "b7679e4b4265420889aa8b2509332721": {
          "model_module": "@jupyter-widgets/controls",
          "model_name": "DescriptionStyleModel",
          "state": {
            "_view_name": "StyleView",
            "_model_name": "DescriptionStyleModel",
            "description_width": "",
            "_view_module": "@jupyter-widgets/base",
            "_model_module_version": "1.5.0",
            "_view_count": null,
            "_view_module_version": "1.2.0",
            "_model_module": "@jupyter-widgets/controls"
          }
        },
        "b511ae7b3e044170a4aafddc37e560fa": {
          "model_module": "@jupyter-widgets/base",
          "model_name": "LayoutModel",
          "state": {
            "_view_name": "LayoutView",
            "grid_template_rows": null,
            "right": null,
            "justify_content": null,
            "_view_module": "@jupyter-widgets/base",
            "overflow": null,
            "_model_module_version": "1.2.0",
            "_view_count": null,
            "flex_flow": null,
            "width": null,
            "min_width": null,
            "border": null,
            "align_items": null,
            "bottom": null,
            "_model_module": "@jupyter-widgets/base",
            "top": null,
            "grid_column": null,
            "overflow_y": null,
            "overflow_x": null,
            "grid_auto_flow": null,
            "grid_area": null,
            "grid_template_columns": null,
            "flex": null,
            "_model_name": "LayoutModel",
            "justify_items": null,
            "grid_row": null,
            "max_height": null,
            "align_content": null,
            "visibility": null,
            "align_self": null,
            "height": null,
            "min_height": null,
            "padding": null,
            "grid_auto_rows": null,
            "grid_gap": null,
            "max_width": null,
            "order": null,
            "_view_module_version": "1.2.0",
            "grid_template_areas": null,
            "object_position": null,
            "object_fit": null,
            "grid_auto_columns": null,
            "margin": null,
            "display": null,
            "left": null
          }
        },
        "39efdacb55424a8baf98cbb326d7fbb8": {
          "model_module": "@jupyter-widgets/controls",
          "model_name": "HBoxModel",
          "state": {
            "_view_name": "HBoxView",
            "_dom_classes": [],
            "_model_name": "HBoxModel",
            "_view_module": "@jupyter-widgets/controls",
            "_model_module_version": "1.5.0",
            "_view_count": null,
            "_view_module_version": "1.5.0",
            "box_style": "",
            "layout": "IPY_MODEL_e4d50e53290b4cc986843e5357832ced",
            "_model_module": "@jupyter-widgets/controls",
            "children": [
              "IPY_MODEL_bf76cca304db4a1e91ae4de197af70b3",
              "IPY_MODEL_7d4bfa1708994a64a914667929158d88"
            ]
          }
        },
        "e4d50e53290b4cc986843e5357832ced": {
          "model_module": "@jupyter-widgets/base",
          "model_name": "LayoutModel",
          "state": {
            "_view_name": "LayoutView",
            "grid_template_rows": null,
            "right": null,
            "justify_content": null,
            "_view_module": "@jupyter-widgets/base",
            "overflow": null,
            "_model_module_version": "1.2.0",
            "_view_count": null,
            "flex_flow": null,
            "width": null,
            "min_width": null,
            "border": null,
            "align_items": null,
            "bottom": null,
            "_model_module": "@jupyter-widgets/base",
            "top": null,
            "grid_column": null,
            "overflow_y": null,
            "overflow_x": null,
            "grid_auto_flow": null,
            "grid_area": null,
            "grid_template_columns": null,
            "flex": null,
            "_model_name": "LayoutModel",
            "justify_items": null,
            "grid_row": null,
            "max_height": null,
            "align_content": null,
            "visibility": null,
            "align_self": null,
            "height": null,
            "min_height": null,
            "padding": null,
            "grid_auto_rows": null,
            "grid_gap": null,
            "max_width": null,
            "order": null,
            "_view_module_version": "1.2.0",
            "grid_template_areas": null,
            "object_position": null,
            "object_fit": null,
            "grid_auto_columns": null,
            "margin": null,
            "display": null,
            "left": null
          }
        },
        "bf76cca304db4a1e91ae4de197af70b3": {
          "model_module": "@jupyter-widgets/controls",
          "model_name": "FloatProgressModel",
          "state": {
            "_view_name": "ProgressView",
            "style": "IPY_MODEL_cdd502b62bb94230acf381745d64b8e9",
            "_dom_classes": [],
            "description": "100%",
            "_model_name": "FloatProgressModel",
            "bar_style": "success",
            "max": 17238,
            "_view_module": "@jupyter-widgets/controls",
            "_model_module_version": "1.5.0",
            "value": 17238,
            "_view_count": null,
            "_view_module_version": "1.5.0",
            "orientation": "horizontal",
            "min": 0,
            "description_tooltip": null,
            "_model_module": "@jupyter-widgets/controls",
            "layout": "IPY_MODEL_74aed06317d0473eb7d33808e5ad1f2a"
          }
        },
        "7d4bfa1708994a64a914667929158d88": {
          "model_module": "@jupyter-widgets/controls",
          "model_name": "HTMLModel",
          "state": {
            "_view_name": "HTMLView",
            "style": "IPY_MODEL_830e23b79d2f415087cb0c647496e7c3",
            "_dom_classes": [],
            "description": "",
            "_model_name": "HTMLModel",
            "placeholder": "​",
            "_view_module": "@jupyter-widgets/controls",
            "_model_module_version": "1.5.0",
            "value": " 17238/17238 [38:37&lt;00:00,  7.44it/s]",
            "_view_count": null,
            "_view_module_version": "1.5.0",
            "description_tooltip": null,
            "_model_module": "@jupyter-widgets/controls",
            "layout": "IPY_MODEL_97d5264961404c98ae7922c6cbafa044"
          }
        },
        "cdd502b62bb94230acf381745d64b8e9": {
          "model_module": "@jupyter-widgets/controls",
          "model_name": "ProgressStyleModel",
          "state": {
            "_view_name": "StyleView",
            "_model_name": "ProgressStyleModel",
            "description_width": "initial",
            "_view_module": "@jupyter-widgets/base",
            "_model_module_version": "1.5.0",
            "_view_count": null,
            "_view_module_version": "1.2.0",
            "bar_color": null,
            "_model_module": "@jupyter-widgets/controls"
          }
        },
        "74aed06317d0473eb7d33808e5ad1f2a": {
          "model_module": "@jupyter-widgets/base",
          "model_name": "LayoutModel",
          "state": {
            "_view_name": "LayoutView",
            "grid_template_rows": null,
            "right": null,
            "justify_content": null,
            "_view_module": "@jupyter-widgets/base",
            "overflow": null,
            "_model_module_version": "1.2.0",
            "_view_count": null,
            "flex_flow": null,
            "width": null,
            "min_width": null,
            "border": null,
            "align_items": null,
            "bottom": null,
            "_model_module": "@jupyter-widgets/base",
            "top": null,
            "grid_column": null,
            "overflow_y": null,
            "overflow_x": null,
            "grid_auto_flow": null,
            "grid_area": null,
            "grid_template_columns": null,
            "flex": null,
            "_model_name": "LayoutModel",
            "justify_items": null,
            "grid_row": null,
            "max_height": null,
            "align_content": null,
            "visibility": null,
            "align_self": null,
            "height": null,
            "min_height": null,
            "padding": null,
            "grid_auto_rows": null,
            "grid_gap": null,
            "max_width": null,
            "order": null,
            "_view_module_version": "1.2.0",
            "grid_template_areas": null,
            "object_position": null,
            "object_fit": null,
            "grid_auto_columns": null,
            "margin": null,
            "display": null,
            "left": null
          }
        },
        "830e23b79d2f415087cb0c647496e7c3": {
          "model_module": "@jupyter-widgets/controls",
          "model_name": "DescriptionStyleModel",
          "state": {
            "_view_name": "StyleView",
            "_model_name": "DescriptionStyleModel",
            "description_width": "",
            "_view_module": "@jupyter-widgets/base",
            "_model_module_version": "1.5.0",
            "_view_count": null,
            "_view_module_version": "1.2.0",
            "_model_module": "@jupyter-widgets/controls"
          }
        },
        "97d5264961404c98ae7922c6cbafa044": {
          "model_module": "@jupyter-widgets/base",
          "model_name": "LayoutModel",
          "state": {
            "_view_name": "LayoutView",
            "grid_template_rows": null,
            "right": null,
            "justify_content": null,
            "_view_module": "@jupyter-widgets/base",
            "overflow": null,
            "_model_module_version": "1.2.0",
            "_view_count": null,
            "flex_flow": null,
            "width": null,
            "min_width": null,
            "border": null,
            "align_items": null,
            "bottom": null,
            "_model_module": "@jupyter-widgets/base",
            "top": null,
            "grid_column": null,
            "overflow_y": null,
            "overflow_x": null,
            "grid_auto_flow": null,
            "grid_area": null,
            "grid_template_columns": null,
            "flex": null,
            "_model_name": "LayoutModel",
            "justify_items": null,
            "grid_row": null,
            "max_height": null,
            "align_content": null,
            "visibility": null,
            "align_self": null,
            "height": null,
            "min_height": null,
            "padding": null,
            "grid_auto_rows": null,
            "grid_gap": null,
            "max_width": null,
            "order": null,
            "_view_module_version": "1.2.0",
            "grid_template_areas": null,
            "object_position": null,
            "object_fit": null,
            "grid_auto_columns": null,
            "margin": null,
            "display": null,
            "left": null
          }
        },
        "f91aad0b96734cfd8e97528a7c35d949": {
          "model_module": "@jupyter-widgets/controls",
          "model_name": "HBoxModel",
          "state": {
            "_view_name": "HBoxView",
            "_dom_classes": [],
            "_model_name": "HBoxModel",
            "_view_module": "@jupyter-widgets/controls",
            "_model_module_version": "1.5.0",
            "_view_count": null,
            "_view_module_version": "1.5.0",
            "box_style": "",
            "layout": "IPY_MODEL_616a1a0fbf964801bc32404cb1b4d48d",
            "_model_module": "@jupyter-widgets/controls",
            "children": [
              "IPY_MODEL_b17d90ec36ef4732ae7850f79201dfb8",
              "IPY_MODEL_e9848bcf9ed64274adb7800baf2cb4d3"
            ]
          }
        },
        "616a1a0fbf964801bc32404cb1b4d48d": {
          "model_module": "@jupyter-widgets/base",
          "model_name": "LayoutModel",
          "state": {
            "_view_name": "LayoutView",
            "grid_template_rows": null,
            "right": null,
            "justify_content": null,
            "_view_module": "@jupyter-widgets/base",
            "overflow": null,
            "_model_module_version": "1.2.0",
            "_view_count": null,
            "flex_flow": null,
            "width": null,
            "min_width": null,
            "border": null,
            "align_items": null,
            "bottom": null,
            "_model_module": "@jupyter-widgets/base",
            "top": null,
            "grid_column": null,
            "overflow_y": null,
            "overflow_x": null,
            "grid_auto_flow": null,
            "grid_area": null,
            "grid_template_columns": null,
            "flex": null,
            "_model_name": "LayoutModel",
            "justify_items": null,
            "grid_row": null,
            "max_height": null,
            "align_content": null,
            "visibility": null,
            "align_self": null,
            "height": null,
            "min_height": null,
            "padding": null,
            "grid_auto_rows": null,
            "grid_gap": null,
            "max_width": null,
            "order": null,
            "_view_module_version": "1.2.0",
            "grid_template_areas": null,
            "object_position": null,
            "object_fit": null,
            "grid_auto_columns": null,
            "margin": null,
            "display": null,
            "left": null
          }
        },
        "b17d90ec36ef4732ae7850f79201dfb8": {
          "model_module": "@jupyter-widgets/controls",
          "model_name": "FloatProgressModel",
          "state": {
            "_view_name": "ProgressView",
            "style": "IPY_MODEL_75ae0cc0947e47fa9283ebf18ad0508d",
            "_dom_classes": [],
            "description": "100%",
            "_model_name": "FloatProgressModel",
            "bar_style": "success",
            "max": 17238,
            "_view_module": "@jupyter-widgets/controls",
            "_model_module_version": "1.5.0",
            "value": 17238,
            "_view_count": null,
            "_view_module_version": "1.5.0",
            "orientation": "horizontal",
            "min": 0,
            "description_tooltip": null,
            "_model_module": "@jupyter-widgets/controls",
            "layout": "IPY_MODEL_05a24973f5984ba188ef3e9f4cc39eb4"
          }
        },
        "e9848bcf9ed64274adb7800baf2cb4d3": {
          "model_module": "@jupyter-widgets/controls",
          "model_name": "HTMLModel",
          "state": {
            "_view_name": "HTMLView",
            "style": "IPY_MODEL_938dd21d3cc347c1bc3fd90aec66aa11",
            "_dom_classes": [],
            "description": "",
            "_model_name": "HTMLModel",
            "placeholder": "​",
            "_view_module": "@jupyter-widgets/controls",
            "_model_module_version": "1.5.0",
            "value": " 17238/17238 [01:14&lt;00:00, 232.94it/s]",
            "_view_count": null,
            "_view_module_version": "1.5.0",
            "description_tooltip": null,
            "_model_module": "@jupyter-widgets/controls",
            "layout": "IPY_MODEL_e1ccd2d34f77409eb31507261335b9b9"
          }
        },
        "75ae0cc0947e47fa9283ebf18ad0508d": {
          "model_module": "@jupyter-widgets/controls",
          "model_name": "ProgressStyleModel",
          "state": {
            "_view_name": "StyleView",
            "_model_name": "ProgressStyleModel",
            "description_width": "initial",
            "_view_module": "@jupyter-widgets/base",
            "_model_module_version": "1.5.0",
            "_view_count": null,
            "_view_module_version": "1.2.0",
            "bar_color": null,
            "_model_module": "@jupyter-widgets/controls"
          }
        },
        "05a24973f5984ba188ef3e9f4cc39eb4": {
          "model_module": "@jupyter-widgets/base",
          "model_name": "LayoutModel",
          "state": {
            "_view_name": "LayoutView",
            "grid_template_rows": null,
            "right": null,
            "justify_content": null,
            "_view_module": "@jupyter-widgets/base",
            "overflow": null,
            "_model_module_version": "1.2.0",
            "_view_count": null,
            "flex_flow": null,
            "width": null,
            "min_width": null,
            "border": null,
            "align_items": null,
            "bottom": null,
            "_model_module": "@jupyter-widgets/base",
            "top": null,
            "grid_column": null,
            "overflow_y": null,
            "overflow_x": null,
            "grid_auto_flow": null,
            "grid_area": null,
            "grid_template_columns": null,
            "flex": null,
            "_model_name": "LayoutModel",
            "justify_items": null,
            "grid_row": null,
            "max_height": null,
            "align_content": null,
            "visibility": null,
            "align_self": null,
            "height": null,
            "min_height": null,
            "padding": null,
            "grid_auto_rows": null,
            "grid_gap": null,
            "max_width": null,
            "order": null,
            "_view_module_version": "1.2.0",
            "grid_template_areas": null,
            "object_position": null,
            "object_fit": null,
            "grid_auto_columns": null,
            "margin": null,
            "display": null,
            "left": null
          }
        },
        "938dd21d3cc347c1bc3fd90aec66aa11": {
          "model_module": "@jupyter-widgets/controls",
          "model_name": "DescriptionStyleModel",
          "state": {
            "_view_name": "StyleView",
            "_model_name": "DescriptionStyleModel",
            "description_width": "",
            "_view_module": "@jupyter-widgets/base",
            "_model_module_version": "1.5.0",
            "_view_count": null,
            "_view_module_version": "1.2.0",
            "_model_module": "@jupyter-widgets/controls"
          }
        },
        "e1ccd2d34f77409eb31507261335b9b9": {
          "model_module": "@jupyter-widgets/base",
          "model_name": "LayoutModel",
          "state": {
            "_view_name": "LayoutView",
            "grid_template_rows": null,
            "right": null,
            "justify_content": null,
            "_view_module": "@jupyter-widgets/base",
            "overflow": null,
            "_model_module_version": "1.2.0",
            "_view_count": null,
            "flex_flow": null,
            "width": null,
            "min_width": null,
            "border": null,
            "align_items": null,
            "bottom": null,
            "_model_module": "@jupyter-widgets/base",
            "top": null,
            "grid_column": null,
            "overflow_y": null,
            "overflow_x": null,
            "grid_auto_flow": null,
            "grid_area": null,
            "grid_template_columns": null,
            "flex": null,
            "_model_name": "LayoutModel",
            "justify_items": null,
            "grid_row": null,
            "max_height": null,
            "align_content": null,
            "visibility": null,
            "align_self": null,
            "height": null,
            "min_height": null,
            "padding": null,
            "grid_auto_rows": null,
            "grid_gap": null,
            "max_width": null,
            "order": null,
            "_view_module_version": "1.2.0",
            "grid_template_areas": null,
            "object_position": null,
            "object_fit": null,
            "grid_auto_columns": null,
            "margin": null,
            "display": null,
            "left": null
          }
        },
        "732e0e9102c549e198aa8d2a1b6a6115": {
          "model_module": "@jupyter-widgets/controls",
          "model_name": "HBoxModel",
          "state": {
            "_view_name": "HBoxView",
            "_dom_classes": [],
            "_model_name": "HBoxModel",
            "_view_module": "@jupyter-widgets/controls",
            "_model_module_version": "1.5.0",
            "_view_count": null,
            "_view_module_version": "1.5.0",
            "box_style": "",
            "layout": "IPY_MODEL_1b8b48b4bfbc404987039b1182727363",
            "_model_module": "@jupyter-widgets/controls",
            "children": [
              "IPY_MODEL_a0bf7e10a87a41889e67bb23ec93f8fb",
              "IPY_MODEL_34a65f36fb044532a7f4ab35e2081250"
            ]
          }
        },
        "1b8b48b4bfbc404987039b1182727363": {
          "model_module": "@jupyter-widgets/base",
          "model_name": "LayoutModel",
          "state": {
            "_view_name": "LayoutView",
            "grid_template_rows": null,
            "right": null,
            "justify_content": null,
            "_view_module": "@jupyter-widgets/base",
            "overflow": null,
            "_model_module_version": "1.2.0",
            "_view_count": null,
            "flex_flow": null,
            "width": null,
            "min_width": null,
            "border": null,
            "align_items": null,
            "bottom": null,
            "_model_module": "@jupyter-widgets/base",
            "top": null,
            "grid_column": null,
            "overflow_y": null,
            "overflow_x": null,
            "grid_auto_flow": null,
            "grid_area": null,
            "grid_template_columns": null,
            "flex": null,
            "_model_name": "LayoutModel",
            "justify_items": null,
            "grid_row": null,
            "max_height": null,
            "align_content": null,
            "visibility": null,
            "align_self": null,
            "height": null,
            "min_height": null,
            "padding": null,
            "grid_auto_rows": null,
            "grid_gap": null,
            "max_width": null,
            "order": null,
            "_view_module_version": "1.2.0",
            "grid_template_areas": null,
            "object_position": null,
            "object_fit": null,
            "grid_auto_columns": null,
            "margin": null,
            "display": null,
            "left": null
          }
        },
        "a0bf7e10a87a41889e67bb23ec93f8fb": {
          "model_module": "@jupyter-widgets/controls",
          "model_name": "FloatProgressModel",
          "state": {
            "_view_name": "ProgressView",
            "style": "IPY_MODEL_de3a16289ec8405d8ba46033845e33d4",
            "_dom_classes": [],
            "description": "100%",
            "_model_name": "FloatProgressModel",
            "bar_style": "success",
            "max": 17238,
            "_view_module": "@jupyter-widgets/controls",
            "_model_module_version": "1.5.0",
            "value": 17238,
            "_view_count": null,
            "_view_module_version": "1.5.0",
            "orientation": "horizontal",
            "min": 0,
            "description_tooltip": null,
            "_model_module": "@jupyter-widgets/controls",
            "layout": "IPY_MODEL_6205ed3eefa94cc0bdfe42e7b9fb9f34"
          }
        },
        "34a65f36fb044532a7f4ab35e2081250": {
          "model_module": "@jupyter-widgets/controls",
          "model_name": "HTMLModel",
          "state": {
            "_view_name": "HTMLView",
            "style": "IPY_MODEL_2d05a394056a4d8589e459b0a0f9b94c",
            "_dom_classes": [],
            "description": "",
            "_model_name": "HTMLModel",
            "placeholder": "​",
            "_view_module": "@jupyter-widgets/controls",
            "_model_module_version": "1.5.0",
            "value": " 17238/17238 [48:19&lt;00:00,  5.95it/s]",
            "_view_count": null,
            "_view_module_version": "1.5.0",
            "description_tooltip": null,
            "_model_module": "@jupyter-widgets/controls",
            "layout": "IPY_MODEL_5ab1b847b89b46879666504ae2c660a5"
          }
        },
        "de3a16289ec8405d8ba46033845e33d4": {
          "model_module": "@jupyter-widgets/controls",
          "model_name": "ProgressStyleModel",
          "state": {
            "_view_name": "StyleView",
            "_model_name": "ProgressStyleModel",
            "description_width": "initial",
            "_view_module": "@jupyter-widgets/base",
            "_model_module_version": "1.5.0",
            "_view_count": null,
            "_view_module_version": "1.2.0",
            "bar_color": null,
            "_model_module": "@jupyter-widgets/controls"
          }
        },
        "6205ed3eefa94cc0bdfe42e7b9fb9f34": {
          "model_module": "@jupyter-widgets/base",
          "model_name": "LayoutModel",
          "state": {
            "_view_name": "LayoutView",
            "grid_template_rows": null,
            "right": null,
            "justify_content": null,
            "_view_module": "@jupyter-widgets/base",
            "overflow": null,
            "_model_module_version": "1.2.0",
            "_view_count": null,
            "flex_flow": null,
            "width": null,
            "min_width": null,
            "border": null,
            "align_items": null,
            "bottom": null,
            "_model_module": "@jupyter-widgets/base",
            "top": null,
            "grid_column": null,
            "overflow_y": null,
            "overflow_x": null,
            "grid_auto_flow": null,
            "grid_area": null,
            "grid_template_columns": null,
            "flex": null,
            "_model_name": "LayoutModel",
            "justify_items": null,
            "grid_row": null,
            "max_height": null,
            "align_content": null,
            "visibility": null,
            "align_self": null,
            "height": null,
            "min_height": null,
            "padding": null,
            "grid_auto_rows": null,
            "grid_gap": null,
            "max_width": null,
            "order": null,
            "_view_module_version": "1.2.0",
            "grid_template_areas": null,
            "object_position": null,
            "object_fit": null,
            "grid_auto_columns": null,
            "margin": null,
            "display": null,
            "left": null
          }
        },
        "2d05a394056a4d8589e459b0a0f9b94c": {
          "model_module": "@jupyter-widgets/controls",
          "model_name": "DescriptionStyleModel",
          "state": {
            "_view_name": "StyleView",
            "_model_name": "DescriptionStyleModel",
            "description_width": "",
            "_view_module": "@jupyter-widgets/base",
            "_model_module_version": "1.5.0",
            "_view_count": null,
            "_view_module_version": "1.2.0",
            "_model_module": "@jupyter-widgets/controls"
          }
        },
        "5ab1b847b89b46879666504ae2c660a5": {
          "model_module": "@jupyter-widgets/base",
          "model_name": "LayoutModel",
          "state": {
            "_view_name": "LayoutView",
            "grid_template_rows": null,
            "right": null,
            "justify_content": null,
            "_view_module": "@jupyter-widgets/base",
            "overflow": null,
            "_model_module_version": "1.2.0",
            "_view_count": null,
            "flex_flow": null,
            "width": null,
            "min_width": null,
            "border": null,
            "align_items": null,
            "bottom": null,
            "_model_module": "@jupyter-widgets/base",
            "top": null,
            "grid_column": null,
            "overflow_y": null,
            "overflow_x": null,
            "grid_auto_flow": null,
            "grid_area": null,
            "grid_template_columns": null,
            "flex": null,
            "_model_name": "LayoutModel",
            "justify_items": null,
            "grid_row": null,
            "max_height": null,
            "align_content": null,
            "visibility": null,
            "align_self": null,
            "height": null,
            "min_height": null,
            "padding": null,
            "grid_auto_rows": null,
            "grid_gap": null,
            "max_width": null,
            "order": null,
            "_view_module_version": "1.2.0",
            "grid_template_areas": null,
            "object_position": null,
            "object_fit": null,
            "grid_auto_columns": null,
            "margin": null,
            "display": null,
            "left": null
          }
        },
        "d155f2f97e2d449cb6826aca20fb811c": {
          "model_module": "@jupyter-widgets/controls",
          "model_name": "HBoxModel",
          "state": {
            "_view_name": "HBoxView",
            "_dom_classes": [],
            "_model_name": "HBoxModel",
            "_view_module": "@jupyter-widgets/controls",
            "_model_module_version": "1.5.0",
            "_view_count": null,
            "_view_module_version": "1.5.0",
            "box_style": "",
            "layout": "IPY_MODEL_c78be393282c4008aec3540e6e5e1d32",
            "_model_module": "@jupyter-widgets/controls",
            "children": [
              "IPY_MODEL_cfccc3bacabe4eb696a93b7b3b95958e",
              "IPY_MODEL_6a755b2a309d4fcaa7ec757d3b18b48a"
            ]
          }
        },
        "c78be393282c4008aec3540e6e5e1d32": {
          "model_module": "@jupyter-widgets/base",
          "model_name": "LayoutModel",
          "state": {
            "_view_name": "LayoutView",
            "grid_template_rows": null,
            "right": null,
            "justify_content": null,
            "_view_module": "@jupyter-widgets/base",
            "overflow": null,
            "_model_module_version": "1.2.0",
            "_view_count": null,
            "flex_flow": null,
            "width": null,
            "min_width": null,
            "border": null,
            "align_items": null,
            "bottom": null,
            "_model_module": "@jupyter-widgets/base",
            "top": null,
            "grid_column": null,
            "overflow_y": null,
            "overflow_x": null,
            "grid_auto_flow": null,
            "grid_area": null,
            "grid_template_columns": null,
            "flex": null,
            "_model_name": "LayoutModel",
            "justify_items": null,
            "grid_row": null,
            "max_height": null,
            "align_content": null,
            "visibility": null,
            "align_self": null,
            "height": null,
            "min_height": null,
            "padding": null,
            "grid_auto_rows": null,
            "grid_gap": null,
            "max_width": null,
            "order": null,
            "_view_module_version": "1.2.0",
            "grid_template_areas": null,
            "object_position": null,
            "object_fit": null,
            "grid_auto_columns": null,
            "margin": null,
            "display": null,
            "left": null
          }
        },
        "cfccc3bacabe4eb696a93b7b3b95958e": {
          "model_module": "@jupyter-widgets/controls",
          "model_name": "FloatProgressModel",
          "state": {
            "_view_name": "ProgressView",
            "style": "IPY_MODEL_c64c7abc89fa4e6c98f31c6127b1a6ae",
            "_dom_classes": [],
            "description": "100%",
            "_model_name": "FloatProgressModel",
            "bar_style": "success",
            "max": 17704,
            "_view_module": "@jupyter-widgets/controls",
            "_model_module_version": "1.5.0",
            "value": 17704,
            "_view_count": null,
            "_view_module_version": "1.5.0",
            "orientation": "horizontal",
            "min": 0,
            "description_tooltip": null,
            "_model_module": "@jupyter-widgets/controls",
            "layout": "IPY_MODEL_380f59da9297415f9d99abb2f568a1c0"
          }
        },
        "6a755b2a309d4fcaa7ec757d3b18b48a": {
          "model_module": "@jupyter-widgets/controls",
          "model_name": "HTMLModel",
          "state": {
            "_view_name": "HTMLView",
            "style": "IPY_MODEL_c80a307d167046188b88f003eca0cf51",
            "_dom_classes": [],
            "description": "",
            "_model_name": "HTMLModel",
            "placeholder": "​",
            "_view_module": "@jupyter-widgets/controls",
            "_model_module_version": "1.5.0",
            "value": " 17704/17704 [00:02&lt;00:00, 8501.70it/s]",
            "_view_count": null,
            "_view_module_version": "1.5.0",
            "description_tooltip": null,
            "_model_module": "@jupyter-widgets/controls",
            "layout": "IPY_MODEL_e36898e6674d4f95a28b2bf3db242e57"
          }
        },
        "c64c7abc89fa4e6c98f31c6127b1a6ae": {
          "model_module": "@jupyter-widgets/controls",
          "model_name": "ProgressStyleModel",
          "state": {
            "_view_name": "StyleView",
            "_model_name": "ProgressStyleModel",
            "description_width": "initial",
            "_view_module": "@jupyter-widgets/base",
            "_model_module_version": "1.5.0",
            "_view_count": null,
            "_view_module_version": "1.2.0",
            "bar_color": null,
            "_model_module": "@jupyter-widgets/controls"
          }
        },
        "380f59da9297415f9d99abb2f568a1c0": {
          "model_module": "@jupyter-widgets/base",
          "model_name": "LayoutModel",
          "state": {
            "_view_name": "LayoutView",
            "grid_template_rows": null,
            "right": null,
            "justify_content": null,
            "_view_module": "@jupyter-widgets/base",
            "overflow": null,
            "_model_module_version": "1.2.0",
            "_view_count": null,
            "flex_flow": null,
            "width": null,
            "min_width": null,
            "border": null,
            "align_items": null,
            "bottom": null,
            "_model_module": "@jupyter-widgets/base",
            "top": null,
            "grid_column": null,
            "overflow_y": null,
            "overflow_x": null,
            "grid_auto_flow": null,
            "grid_area": null,
            "grid_template_columns": null,
            "flex": null,
            "_model_name": "LayoutModel",
            "justify_items": null,
            "grid_row": null,
            "max_height": null,
            "align_content": null,
            "visibility": null,
            "align_self": null,
            "height": null,
            "min_height": null,
            "padding": null,
            "grid_auto_rows": null,
            "grid_gap": null,
            "max_width": null,
            "order": null,
            "_view_module_version": "1.2.0",
            "grid_template_areas": null,
            "object_position": null,
            "object_fit": null,
            "grid_auto_columns": null,
            "margin": null,
            "display": null,
            "left": null
          }
        },
        "c80a307d167046188b88f003eca0cf51": {
          "model_module": "@jupyter-widgets/controls",
          "model_name": "DescriptionStyleModel",
          "state": {
            "_view_name": "StyleView",
            "_model_name": "DescriptionStyleModel",
            "description_width": "",
            "_view_module": "@jupyter-widgets/base",
            "_model_module_version": "1.5.0",
            "_view_count": null,
            "_view_module_version": "1.2.0",
            "_model_module": "@jupyter-widgets/controls"
          }
        },
        "e36898e6674d4f95a28b2bf3db242e57": {
          "model_module": "@jupyter-widgets/base",
          "model_name": "LayoutModel",
          "state": {
            "_view_name": "LayoutView",
            "grid_template_rows": null,
            "right": null,
            "justify_content": null,
            "_view_module": "@jupyter-widgets/base",
            "overflow": null,
            "_model_module_version": "1.2.0",
            "_view_count": null,
            "flex_flow": null,
            "width": null,
            "min_width": null,
            "border": null,
            "align_items": null,
            "bottom": null,
            "_model_module": "@jupyter-widgets/base",
            "top": null,
            "grid_column": null,
            "overflow_y": null,
            "overflow_x": null,
            "grid_auto_flow": null,
            "grid_area": null,
            "grid_template_columns": null,
            "flex": null,
            "_model_name": "LayoutModel",
            "justify_items": null,
            "grid_row": null,
            "max_height": null,
            "align_content": null,
            "visibility": null,
            "align_self": null,
            "height": null,
            "min_height": null,
            "padding": null,
            "grid_auto_rows": null,
            "grid_gap": null,
            "max_width": null,
            "order": null,
            "_view_module_version": "1.2.0",
            "grid_template_areas": null,
            "object_position": null,
            "object_fit": null,
            "grid_auto_columns": null,
            "margin": null,
            "display": null,
            "left": null
          }
        }
      }
    }
  },
  "cells": [
    {
      "cell_type": "code",
      "metadata": {
        "id": "cnTSLqd-xOfK",
        "colab": {
          "base_uri": "https://localhost:8080/"
        },
        "outputId": "38bf1eb9-7974-43c3-f3e9-fadfaa6a47f6"
      },
      "source": [
        "# download data\n",
        "! wget https://www.dropbox.com/s/seshsi92ui05crb/kz.csv.zip?dl=0 -O kz.csv.zip\n",
        "! unzip kz.csv.zip"
      ],
      "execution_count": 6,
      "outputs": [
        {
          "output_type": "stream",
          "text": [
            "--2021-05-28 11:38:52--  https://www.dropbox.com/s/seshsi92ui05crb/kz.csv.zip?dl=0\n",
            "Resolving www.dropbox.com (www.dropbox.com)... 162.125.65.18, 2620:100:6021:18::a27d:4112\n",
            "Connecting to www.dropbox.com (www.dropbox.com)|162.125.65.18|:443... connected.\n",
            "HTTP request sent, awaiting response... 301 Moved Permanently\n",
            "Location: /s/raw/seshsi92ui05crb/kz.csv.zip [following]\n",
            "--2021-05-28 11:38:52--  https://www.dropbox.com/s/raw/seshsi92ui05crb/kz.csv.zip\n",
            "Reusing existing connection to www.dropbox.com:443.\n",
            "HTTP request sent, awaiting response... 302 Found\n",
            "Location: https://uc9ac9382c99b9540c1eb5840d0d.dl.dropboxusercontent.com/cd/0/inline/BPV6jOPcv0hV6_3EpCIBhtckMtD6n3qgHd2-ODKanpvO4roqQGwBFBML5j8q-ODLwNOOEB1Xa_VIEk13iEisvk0DFKD_ONkRCWTC4J5v2FJPOAetzJuKVyi2maaDrcAfa5Z5rDJe1O_yLZGFVIYLscBo/file# [following]\n",
            "--2021-05-28 11:38:53--  https://uc9ac9382c99b9540c1eb5840d0d.dl.dropboxusercontent.com/cd/0/inline/BPV6jOPcv0hV6_3EpCIBhtckMtD6n3qgHd2-ODKanpvO4roqQGwBFBML5j8q-ODLwNOOEB1Xa_VIEk13iEisvk0DFKD_ONkRCWTC4J5v2FJPOAetzJuKVyi2maaDrcAfa5Z5rDJe1O_yLZGFVIYLscBo/file\n",
            "Resolving uc9ac9382c99b9540c1eb5840d0d.dl.dropboxusercontent.com (uc9ac9382c99b9540c1eb5840d0d.dl.dropboxusercontent.com)... 162.125.65.15, 2620:100:6027:15::a27d:480f\n",
            "Connecting to uc9ac9382c99b9540c1eb5840d0d.dl.dropboxusercontent.com (uc9ac9382c99b9540c1eb5840d0d.dl.dropboxusercontent.com)|162.125.65.15|:443... connected.\n",
            "HTTP request sent, awaiting response... 302 Found\n",
            "Location: /cd/0/inline2/BPWkwyVlF5MbAGl9b3lcfRHVYo4y6wOY8MNMI11rY_DGlCsjyaxPNiHuitigsilnlzJwRv_6a1CTUdY7kh14_K7rsPvAScHTMGMH4F1DqmaC-eETyqHNp91CTLnqDECukgUG23Xv0uWsIpVVw30m9eEjS4KgpUNYG_qOpPoUNfG7W-NxAIWKyHtz09iWujwsL52joVIs5IvIbcXxGOOvUI92LZ1So6ARZ7JD_EQFDLAMpvVoR1ZasuXKuKClOwrF2LGHK-GwCbYJQDmmaFU5iNampxwpDJ1ITGuuH9fz57HUj2fk4xeT8cT02EimpKoQhpfzue5B1YuxiRenzE2BgevldayJi1FmchB1YXwgDOoY9vMFcTMYP1D8Si08-04eg00/file [following]\n",
            "--2021-05-28 11:38:53--  https://uc9ac9382c99b9540c1eb5840d0d.dl.dropboxusercontent.com/cd/0/inline2/BPWkwyVlF5MbAGl9b3lcfRHVYo4y6wOY8MNMI11rY_DGlCsjyaxPNiHuitigsilnlzJwRv_6a1CTUdY7kh14_K7rsPvAScHTMGMH4F1DqmaC-eETyqHNp91CTLnqDECukgUG23Xv0uWsIpVVw30m9eEjS4KgpUNYG_qOpPoUNfG7W-NxAIWKyHtz09iWujwsL52joVIs5IvIbcXxGOOvUI92LZ1So6ARZ7JD_EQFDLAMpvVoR1ZasuXKuKClOwrF2LGHK-GwCbYJQDmmaFU5iNampxwpDJ1ITGuuH9fz57HUj2fk4xeT8cT02EimpKoQhpfzue5B1YuxiRenzE2BgevldayJi1FmchB1YXwgDOoY9vMFcTMYP1D8Si08-04eg00/file\n",
            "Reusing existing connection to uc9ac9382c99b9540c1eb5840d0d.dl.dropboxusercontent.com:443.\n",
            "HTTP request sent, awaiting response... 200 OK\n",
            "Length: 52914925 (50M) [application/zip]\n",
            "Saving to: ‘kz.csv.zip’\n",
            "\n",
            "kz.csv.zip          100%[===================>]  50.46M  23.5MB/s    in 2.1s    \n",
            "\n",
            "2021-05-28 11:38:56 (23.5 MB/s) - ‘kz.csv.zip’ saved [52914925/52914925]\n",
            "\n",
            "Archive:  kz.csv.zip\n",
            "replace kz.csv? [y]es, [n]o, [A]ll, [N]one, [r]ename: "
          ],
          "name": "stdout"
        }
      ]
    },
    {
      "cell_type": "code",
      "metadata": {
        "id": "V33phwFfvxtq"
      },
      "source": [
        "import numpy as np\n",
        "import pandas as pd\n",
        "import sklearn\n",
        "import matplotlib.pyplot as plt\n",
        "import seaborn as sns\n",
        "import math\n",
        "from datetime import datetime, date\n",
        "from sklearn.model_selection import train_test_split\n",
        "from tqdm.notebook import tqdm\n",
        "from scipy.linalg import svd\n",
        "import plotly.express as px\n",
        "import plotly.graph_objs as go\n",
        "\n",
        "%matplotlib inline"
      ],
      "execution_count": 7,
      "outputs": []
    },
    {
      "cell_type": "code",
      "metadata": {
        "id": "-ELN5VyPOCj-"
      },
      "source": [
        "df = pd.read_csv('kz.csv')"
      ],
      "execution_count": 8,
      "outputs": []
    },
    {
      "cell_type": "code",
      "metadata": {
        "colab": {
          "base_uri": "https://localhost:8080/",
          "height": 195
        },
        "id": "B8RD1VPmOOhQ",
        "outputId": "5949f34d-e56b-479a-a5f9-cea2c31dd417"
      },
      "source": [
        "df.head()"
      ],
      "execution_count": 9,
      "outputs": [
        {
          "output_type": "execute_result",
          "data": {
            "text/html": [
              "<div>\n",
              "<style scoped>\n",
              "    .dataframe tbody tr th:only-of-type {\n",
              "        vertical-align: middle;\n",
              "    }\n",
              "\n",
              "    .dataframe tbody tr th {\n",
              "        vertical-align: top;\n",
              "    }\n",
              "\n",
              "    .dataframe thead th {\n",
              "        text-align: right;\n",
              "    }\n",
              "</style>\n",
              "<table border=\"1\" class=\"dataframe\">\n",
              "  <thead>\n",
              "    <tr style=\"text-align: right;\">\n",
              "      <th></th>\n",
              "      <th>event_time</th>\n",
              "      <th>order_id</th>\n",
              "      <th>product_id</th>\n",
              "      <th>category_id</th>\n",
              "      <th>category_code</th>\n",
              "      <th>brand</th>\n",
              "      <th>price</th>\n",
              "      <th>user_id</th>\n",
              "    </tr>\n",
              "  </thead>\n",
              "  <tbody>\n",
              "    <tr>\n",
              "      <th>0</th>\n",
              "      <td>2020-04-24 11:50:39 UTC</td>\n",
              "      <td>2294359932054536986</td>\n",
              "      <td>1515966223509089906</td>\n",
              "      <td>2.268105e+18</td>\n",
              "      <td>electronics.tablet</td>\n",
              "      <td>samsung</td>\n",
              "      <td>162.01</td>\n",
              "      <td>1.515916e+18</td>\n",
              "    </tr>\n",
              "    <tr>\n",
              "      <th>1</th>\n",
              "      <td>2020-04-24 11:50:39 UTC</td>\n",
              "      <td>2294359932054536986</td>\n",
              "      <td>1515966223509089906</td>\n",
              "      <td>2.268105e+18</td>\n",
              "      <td>electronics.tablet</td>\n",
              "      <td>samsung</td>\n",
              "      <td>162.01</td>\n",
              "      <td>1.515916e+18</td>\n",
              "    </tr>\n",
              "    <tr>\n",
              "      <th>2</th>\n",
              "      <td>2020-04-24 14:37:43 UTC</td>\n",
              "      <td>2294444024058086220</td>\n",
              "      <td>2273948319057183658</td>\n",
              "      <td>2.268105e+18</td>\n",
              "      <td>electronics.audio.headphone</td>\n",
              "      <td>huawei</td>\n",
              "      <td>77.52</td>\n",
              "      <td>1.515916e+18</td>\n",
              "    </tr>\n",
              "    <tr>\n",
              "      <th>3</th>\n",
              "      <td>2020-04-24 14:37:43 UTC</td>\n",
              "      <td>2294444024058086220</td>\n",
              "      <td>2273948319057183658</td>\n",
              "      <td>2.268105e+18</td>\n",
              "      <td>electronics.audio.headphone</td>\n",
              "      <td>huawei</td>\n",
              "      <td>77.52</td>\n",
              "      <td>1.515916e+18</td>\n",
              "    </tr>\n",
              "    <tr>\n",
              "      <th>4</th>\n",
              "      <td>2020-04-24 19:16:21 UTC</td>\n",
              "      <td>2294584263154074236</td>\n",
              "      <td>2273948316817424439</td>\n",
              "      <td>2.268105e+18</td>\n",
              "      <td>NaN</td>\n",
              "      <td>karcher</td>\n",
              "      <td>217.57</td>\n",
              "      <td>1.515916e+18</td>\n",
              "    </tr>\n",
              "  </tbody>\n",
              "</table>\n",
              "</div>"
            ],
            "text/plain": [
              "                event_time             order_id  ...   price       user_id\n",
              "0  2020-04-24 11:50:39 UTC  2294359932054536986  ...  162.01  1.515916e+18\n",
              "1  2020-04-24 11:50:39 UTC  2294359932054536986  ...  162.01  1.515916e+18\n",
              "2  2020-04-24 14:37:43 UTC  2294444024058086220  ...   77.52  1.515916e+18\n",
              "3  2020-04-24 14:37:43 UTC  2294444024058086220  ...   77.52  1.515916e+18\n",
              "4  2020-04-24 19:16:21 UTC  2294584263154074236  ...  217.57  1.515916e+18\n",
              "\n",
              "[5 rows x 8 columns]"
            ]
          },
          "metadata": {
            "tags": []
          },
          "execution_count": 9
        }
      ]
    },
    {
      "cell_type": "code",
      "metadata": {
        "colab": {
          "base_uri": "https://localhost:8080/"
        },
        "id": "eJ31P_eO0mKR",
        "outputId": "a5b9cb7e-60c5-4734-b0b5-64f12270cc8c"
      },
      "source": [
        "df.shape"
      ],
      "execution_count": 10,
      "outputs": [
        {
          "output_type": "execute_result",
          "data": {
            "text/plain": [
              "(2633521, 8)"
            ]
          },
          "metadata": {
            "tags": []
          },
          "execution_count": 10
        }
      ]
    },
    {
      "cell_type": "markdown",
      "metadata": {
        "id": "_E1a8NthzGuM"
      },
      "source": [
        "# Data Analisys"
      ]
    },
    {
      "cell_type": "code",
      "metadata": {
        "id": "e0s_th7NqMgH",
        "colab": {
          "base_uri": "https://localhost:8080/",
          "height": 35
        },
        "outputId": "9182acb8-c9b0-4145-81ed-7d0d6f44f5ff"
      },
      "source": [
        "counter = 0\n",
        "for i in range(0, df.shape[0]):\n",
        "  if np.sum(df.iloc[i].isnull().sum()) == 0:\n",
        "    counter+=1"
      ],
      "execution_count": 13,
      "outputs": [
        {
          "output_type": "execute_result",
          "data": {
            "application/vnd.google.colaboratory.intrinsic+json": {
              "type": "string"
            },
            "text/plain": [
              "'counter = 0\\nfor i in range(0, df.shape[0]):\\n  if np.sum(df.iloc[i].isnull().sum()) == 0:\\n    counter+=1'"
            ]
          },
          "metadata": {
            "tags": []
          },
          "execution_count": 13
        }
      ]
    },
    {
      "cell_type": "code",
      "metadata": {
        "id": "2jzZNSHYqirY"
      },
      "source": [
        "counter #количество полных записей"
      ],
      "execution_count": null,
      "outputs": []
    },
    {
      "cell_type": "code",
      "metadata": {
        "id": "F6OKkY4nxDrC"
      },
      "source": [
        "df['category'] = df['category_code'].str.rsplit('.', n=1, expand=True)[1]\n",
        "df.drop(columns=['category_code'], inplace=True)"
      ],
      "execution_count": null,
      "outputs": []
    },
    {
      "cell_type": "code",
      "metadata": {
        "id": "6aAULeS1w02a"
      },
      "source": [
        "pop_cat = df.groupby('category')['price'].agg('count').reset_index().sort_values('price', ascending=False).head(15)\n",
        "pop_cat.rename(columns={\"category\": \"category\", \"price\": \"times_sold\"}, inplace=True)"
      ],
      "execution_count": null,
      "outputs": []
    },
    {
      "cell_type": "code",
      "metadata": {
        "id": "v5C6oUhew0b4"
      },
      "source": [
        "fig = px.bar(\n",
        "    pop_cat, \n",
        "    x='category', \n",
        "    y='times_sold', \n",
        "    width=1200, \n",
        "    height=800\n",
        ")\n",
        "\n",
        "fig.show()"
      ],
      "execution_count": null,
      "outputs": []
    },
    {
      "cell_type": "code",
      "metadata": {
        "id": "ytZpXKJQngJM"
      },
      "source": [
        "value_brands = df.groupby('brand')['price'].sum().reset_index().sort_values('price', ascending=False).head(15)"
      ],
      "execution_count": null,
      "outputs": []
    },
    {
      "cell_type": "code",
      "metadata": {
        "colab": {
          "base_uri": "https://localhost:8080/",
          "height": 817
        },
        "id": "Tpy5BL4Juvay",
        "outputId": "e846e30f-cc32-420a-8d9f-fbd1dd6348ff"
      },
      "source": [
        "fig = px.bar(\n",
        "    value_brands, \n",
        "    x='brand', \n",
        "    y='price', \n",
        "    width=1200, \n",
        "    height=800\n",
        ")\n",
        "\n",
        "fig.show()"
      ],
      "execution_count": null,
      "outputs": [
        {
          "output_type": "display_data",
          "data": {
            "text/html": [
              "<html>\n",
              "<head><meta charset=\"utf-8\" /></head>\n",
              "<body>\n",
              "    <div>\n",
              "            <script src=\"https://cdnjs.cloudflare.com/ajax/libs/mathjax/2.7.5/MathJax.js?config=TeX-AMS-MML_SVG\"></script><script type=\"text/javascript\">if (window.MathJax) {MathJax.Hub.Config({SVG: {font: \"STIX-Web\"}});}</script>\n",
              "                <script type=\"text/javascript\">window.PlotlyConfig = {MathJaxConfig: 'local'};</script>\n",
              "        <script src=\"https://cdn.plot.ly/plotly-latest.min.js\"></script>    \n",
              "            <div id=\"e171ed14-2a66-47b1-b6dd-58ebb31f8ffc\" class=\"plotly-graph-div\" style=\"height:800px; width:1200px;\"></div>\n",
              "            <script type=\"text/javascript\">\n",
              "                \n",
              "                    window.PLOTLYENV=window.PLOTLYENV || {};\n",
              "                    \n",
              "                if (document.getElementById(\"e171ed14-2a66-47b1-b6dd-58ebb31f8ffc\")) {\n",
              "                    Plotly.newPlot(\n",
              "                        'e171ed14-2a66-47b1-b6dd-58ebb31f8ffc',\n",
              "                        [{\"alignmentgroup\": \"True\", \"hoverlabel\": {\"namelength\": 0}, \"hovertemplate\": \"brand=%{x}<br>price=%{y}\", \"legendgroup\": \"\", \"marker\": {\"color\": \"#636efa\"}, \"name\": \"\", \"offsetgroup\": \"\", \"orientation\": \"v\", \"showlegend\": false, \"textposition\": \"auto\", \"type\": \"bar\", \"x\": [\"samsung\", \"apple\", \"lg\", \"bosch\", \"huawei\", \"asus\", \"lenovo\", \"ava\", \"beko\", \"oppo\", \"tefal\", \"hp\", \"sony\", \"electrolux\", \"xiaomi\"], \"xaxis\": \"x\", \"y\": [90052821.66007252, 47914785.999997385, 26156031.139997296, 11077479.770000275, 10773965.410000723, 10635833.790000424, 10528662.779999534, 8542528.849999594, 8483143.25000033, 7322139.240001039, 6454978.190000089, 6030830.360000201, 5943163.269999963, 5017137.170000049, 4440714.4299997445], \"yaxis\": \"y\"}],\n",
              "                        {\"barmode\": \"relative\", \"height\": 800, \"legend\": {\"tracegroupgap\": 0}, \"margin\": {\"t\": 60}, \"template\": {\"data\": {\"bar\": [{\"error_x\": {\"color\": \"#2a3f5f\"}, \"error_y\": {\"color\": \"#2a3f5f\"}, \"marker\": {\"line\": {\"color\": \"#E5ECF6\", \"width\": 0.5}}, \"type\": \"bar\"}], \"barpolar\": [{\"marker\": {\"line\": {\"color\": \"#E5ECF6\", \"width\": 0.5}}, \"type\": \"barpolar\"}], \"carpet\": [{\"aaxis\": {\"endlinecolor\": \"#2a3f5f\", \"gridcolor\": \"white\", \"linecolor\": \"white\", \"minorgridcolor\": \"white\", \"startlinecolor\": \"#2a3f5f\"}, \"baxis\": {\"endlinecolor\": \"#2a3f5f\", \"gridcolor\": \"white\", \"linecolor\": \"white\", \"minorgridcolor\": \"white\", \"startlinecolor\": \"#2a3f5f\"}, \"type\": \"carpet\"}], \"choropleth\": [{\"colorbar\": {\"outlinewidth\": 0, \"ticks\": \"\"}, \"type\": \"choropleth\"}], \"contour\": [{\"colorbar\": {\"outlinewidth\": 0, \"ticks\": \"\"}, \"colorscale\": [[0.0, \"#0d0887\"], [0.1111111111111111, \"#46039f\"], [0.2222222222222222, \"#7201a8\"], [0.3333333333333333, \"#9c179e\"], [0.4444444444444444, \"#bd3786\"], [0.5555555555555556, \"#d8576b\"], [0.6666666666666666, \"#ed7953\"], [0.7777777777777778, \"#fb9f3a\"], [0.8888888888888888, \"#fdca26\"], [1.0, \"#f0f921\"]], \"type\": \"contour\"}], \"contourcarpet\": [{\"colorbar\": {\"outlinewidth\": 0, \"ticks\": \"\"}, \"type\": \"contourcarpet\"}], \"heatmap\": [{\"colorbar\": {\"outlinewidth\": 0, \"ticks\": \"\"}, \"colorscale\": [[0.0, \"#0d0887\"], [0.1111111111111111, \"#46039f\"], [0.2222222222222222, \"#7201a8\"], [0.3333333333333333, \"#9c179e\"], [0.4444444444444444, \"#bd3786\"], [0.5555555555555556, \"#d8576b\"], [0.6666666666666666, \"#ed7953\"], [0.7777777777777778, \"#fb9f3a\"], [0.8888888888888888, \"#fdca26\"], [1.0, \"#f0f921\"]], \"type\": \"heatmap\"}], \"heatmapgl\": [{\"colorbar\": {\"outlinewidth\": 0, \"ticks\": \"\"}, \"colorscale\": [[0.0, \"#0d0887\"], [0.1111111111111111, \"#46039f\"], [0.2222222222222222, \"#7201a8\"], [0.3333333333333333, \"#9c179e\"], [0.4444444444444444, \"#bd3786\"], [0.5555555555555556, \"#d8576b\"], [0.6666666666666666, \"#ed7953\"], [0.7777777777777778, \"#fb9f3a\"], [0.8888888888888888, \"#fdca26\"], [1.0, \"#f0f921\"]], \"type\": \"heatmapgl\"}], \"histogram\": [{\"marker\": {\"colorbar\": {\"outlinewidth\": 0, \"ticks\": \"\"}}, \"type\": \"histogram\"}], \"histogram2d\": [{\"colorbar\": {\"outlinewidth\": 0, \"ticks\": \"\"}, \"colorscale\": [[0.0, \"#0d0887\"], [0.1111111111111111, \"#46039f\"], [0.2222222222222222, \"#7201a8\"], [0.3333333333333333, \"#9c179e\"], [0.4444444444444444, \"#bd3786\"], [0.5555555555555556, \"#d8576b\"], [0.6666666666666666, \"#ed7953\"], [0.7777777777777778, \"#fb9f3a\"], [0.8888888888888888, \"#fdca26\"], [1.0, \"#f0f921\"]], \"type\": \"histogram2d\"}], \"histogram2dcontour\": [{\"colorbar\": {\"outlinewidth\": 0, \"ticks\": \"\"}, \"colorscale\": [[0.0, \"#0d0887\"], [0.1111111111111111, \"#46039f\"], [0.2222222222222222, \"#7201a8\"], [0.3333333333333333, \"#9c179e\"], [0.4444444444444444, \"#bd3786\"], [0.5555555555555556, \"#d8576b\"], [0.6666666666666666, \"#ed7953\"], [0.7777777777777778, \"#fb9f3a\"], [0.8888888888888888, \"#fdca26\"], [1.0, \"#f0f921\"]], \"type\": \"histogram2dcontour\"}], \"mesh3d\": [{\"colorbar\": {\"outlinewidth\": 0, \"ticks\": \"\"}, \"type\": \"mesh3d\"}], \"parcoords\": [{\"line\": {\"colorbar\": {\"outlinewidth\": 0, \"ticks\": \"\"}}, \"type\": \"parcoords\"}], \"pie\": [{\"automargin\": true, \"type\": \"pie\"}], \"scatter\": [{\"marker\": {\"colorbar\": {\"outlinewidth\": 0, \"ticks\": \"\"}}, \"type\": \"scatter\"}], \"scatter3d\": [{\"line\": {\"colorbar\": {\"outlinewidth\": 0, \"ticks\": \"\"}}, \"marker\": {\"colorbar\": {\"outlinewidth\": 0, \"ticks\": \"\"}}, \"type\": \"scatter3d\"}], \"scattercarpet\": [{\"marker\": {\"colorbar\": {\"outlinewidth\": 0, \"ticks\": \"\"}}, \"type\": \"scattercarpet\"}], \"scattergeo\": [{\"marker\": {\"colorbar\": {\"outlinewidth\": 0, \"ticks\": \"\"}}, \"type\": \"scattergeo\"}], \"scattergl\": [{\"marker\": {\"colorbar\": {\"outlinewidth\": 0, \"ticks\": \"\"}}, \"type\": \"scattergl\"}], \"scattermapbox\": [{\"marker\": {\"colorbar\": {\"outlinewidth\": 0, \"ticks\": \"\"}}, \"type\": \"scattermapbox\"}], \"scatterpolar\": [{\"marker\": {\"colorbar\": {\"outlinewidth\": 0, \"ticks\": \"\"}}, \"type\": \"scatterpolar\"}], \"scatterpolargl\": [{\"marker\": {\"colorbar\": {\"outlinewidth\": 0, \"ticks\": \"\"}}, \"type\": \"scatterpolargl\"}], \"scatterternary\": [{\"marker\": {\"colorbar\": {\"outlinewidth\": 0, \"ticks\": \"\"}}, \"type\": \"scatterternary\"}], \"surface\": [{\"colorbar\": {\"outlinewidth\": 0, \"ticks\": \"\"}, \"colorscale\": [[0.0, \"#0d0887\"], [0.1111111111111111, \"#46039f\"], [0.2222222222222222, \"#7201a8\"], [0.3333333333333333, \"#9c179e\"], [0.4444444444444444, \"#bd3786\"], [0.5555555555555556, \"#d8576b\"], [0.6666666666666666, \"#ed7953\"], [0.7777777777777778, \"#fb9f3a\"], [0.8888888888888888, \"#fdca26\"], [1.0, \"#f0f921\"]], \"type\": \"surface\"}], \"table\": [{\"cells\": {\"fill\": {\"color\": \"#EBF0F8\"}, \"line\": {\"color\": \"white\"}}, \"header\": {\"fill\": {\"color\": \"#C8D4E3\"}, \"line\": {\"color\": \"white\"}}, \"type\": \"table\"}]}, \"layout\": {\"annotationdefaults\": {\"arrowcolor\": \"#2a3f5f\", \"arrowhead\": 0, \"arrowwidth\": 1}, \"coloraxis\": {\"colorbar\": {\"outlinewidth\": 0, \"ticks\": \"\"}}, \"colorscale\": {\"diverging\": [[0, \"#8e0152\"], [0.1, \"#c51b7d\"], [0.2, \"#de77ae\"], [0.3, \"#f1b6da\"], [0.4, \"#fde0ef\"], [0.5, \"#f7f7f7\"], [0.6, \"#e6f5d0\"], [0.7, \"#b8e186\"], [0.8, \"#7fbc41\"], [0.9, \"#4d9221\"], [1, \"#276419\"]], \"sequential\": [[0.0, \"#0d0887\"], [0.1111111111111111, \"#46039f\"], [0.2222222222222222, \"#7201a8\"], [0.3333333333333333, \"#9c179e\"], [0.4444444444444444, \"#bd3786\"], [0.5555555555555556, \"#d8576b\"], [0.6666666666666666, \"#ed7953\"], [0.7777777777777778, \"#fb9f3a\"], [0.8888888888888888, \"#fdca26\"], [1.0, \"#f0f921\"]], \"sequentialminus\": [[0.0, \"#0d0887\"], [0.1111111111111111, \"#46039f\"], [0.2222222222222222, \"#7201a8\"], [0.3333333333333333, \"#9c179e\"], [0.4444444444444444, \"#bd3786\"], [0.5555555555555556, \"#d8576b\"], [0.6666666666666666, \"#ed7953\"], [0.7777777777777778, \"#fb9f3a\"], [0.8888888888888888, \"#fdca26\"], [1.0, \"#f0f921\"]]}, \"colorway\": [\"#636efa\", \"#EF553B\", \"#00cc96\", \"#ab63fa\", \"#FFA15A\", \"#19d3f3\", \"#FF6692\", \"#B6E880\", \"#FF97FF\", \"#FECB52\"], \"font\": {\"color\": \"#2a3f5f\"}, \"geo\": {\"bgcolor\": \"white\", \"lakecolor\": \"white\", \"landcolor\": \"#E5ECF6\", \"showlakes\": true, \"showland\": true, \"subunitcolor\": \"white\"}, \"hoverlabel\": {\"align\": \"left\"}, \"hovermode\": \"closest\", \"mapbox\": {\"style\": \"light\"}, \"paper_bgcolor\": \"white\", \"plot_bgcolor\": \"#E5ECF6\", \"polar\": {\"angularaxis\": {\"gridcolor\": \"white\", \"linecolor\": \"white\", \"ticks\": \"\"}, \"bgcolor\": \"#E5ECF6\", \"radialaxis\": {\"gridcolor\": \"white\", \"linecolor\": \"white\", \"ticks\": \"\"}}, \"scene\": {\"xaxis\": {\"backgroundcolor\": \"#E5ECF6\", \"gridcolor\": \"white\", \"gridwidth\": 2, \"linecolor\": \"white\", \"showbackground\": true, \"ticks\": \"\", \"zerolinecolor\": \"white\"}, \"yaxis\": {\"backgroundcolor\": \"#E5ECF6\", \"gridcolor\": \"white\", \"gridwidth\": 2, \"linecolor\": \"white\", \"showbackground\": true, \"ticks\": \"\", \"zerolinecolor\": \"white\"}, \"zaxis\": {\"backgroundcolor\": \"#E5ECF6\", \"gridcolor\": \"white\", \"gridwidth\": 2, \"linecolor\": \"white\", \"showbackground\": true, \"ticks\": \"\", \"zerolinecolor\": \"white\"}}, \"shapedefaults\": {\"line\": {\"color\": \"#2a3f5f\"}}, \"ternary\": {\"aaxis\": {\"gridcolor\": \"white\", \"linecolor\": \"white\", \"ticks\": \"\"}, \"baxis\": {\"gridcolor\": \"white\", \"linecolor\": \"white\", \"ticks\": \"\"}, \"bgcolor\": \"#E5ECF6\", \"caxis\": {\"gridcolor\": \"white\", \"linecolor\": \"white\", \"ticks\": \"\"}}, \"title\": {\"x\": 0.05}, \"xaxis\": {\"automargin\": true, \"gridcolor\": \"white\", \"linecolor\": \"white\", \"ticks\": \"\", \"title\": {\"standoff\": 15}, \"zerolinecolor\": \"white\", \"zerolinewidth\": 2}, \"yaxis\": {\"automargin\": true, \"gridcolor\": \"white\", \"linecolor\": \"white\", \"ticks\": \"\", \"title\": {\"standoff\": 15}, \"zerolinecolor\": \"white\", \"zerolinewidth\": 2}}}, \"width\": 1200, \"xaxis\": {\"anchor\": \"y\", \"domain\": [0.0, 1.0], \"title\": {\"text\": \"brand\"}}, \"yaxis\": {\"anchor\": \"x\", \"domain\": [0.0, 1.0], \"title\": {\"text\": \"price\"}}},\n",
              "                        {\"responsive\": true}\n",
              "                    ).then(function(){\n",
              "                            \n",
              "var gd = document.getElementById('e171ed14-2a66-47b1-b6dd-58ebb31f8ffc');\n",
              "var x = new MutationObserver(function (mutations, observer) {{\n",
              "        var display = window.getComputedStyle(gd).display;\n",
              "        if (!display || display === 'none') {{\n",
              "            console.log([gd, 'removed!']);\n",
              "            Plotly.purge(gd);\n",
              "            observer.disconnect();\n",
              "        }}\n",
              "}});\n",
              "\n",
              "// Listen for the removal of the full notebook cells\n",
              "var notebookContainer = gd.closest('#notebook-container');\n",
              "if (notebookContainer) {{\n",
              "    x.observe(notebookContainer, {childList: true});\n",
              "}}\n",
              "\n",
              "// Listen for the clearing of the current output cell\n",
              "var outputEl = gd.closest('.output');\n",
              "if (outputEl) {{\n",
              "    x.observe(outputEl, {childList: true});\n",
              "}}\n",
              "\n",
              "                        })\n",
              "                };\n",
              "                \n",
              "            </script>\n",
              "        </div>\n",
              "</body>\n",
              "</html>"
            ]
          },
          "metadata": {
            "tags": []
          }
        }
      ]
    },
    {
      "cell_type": "code",
      "metadata": {
        "id": "IpgPAHsHuzlo"
      },
      "source": [
        "popular_brand = df.groupby('brand')['price'].agg('count').reset_index().sort_values('price', ascending=False).head(15)\n",
        "popular_brand.rename(columns={\"brand\": \"brand\", \"price\": \"times_sold\"}, inplace=True)"
      ],
      "execution_count": null,
      "outputs": []
    },
    {
      "cell_type": "code",
      "metadata": {
        "colab": {
          "base_uri": "https://localhost:8080/",
          "height": 817
        },
        "id": "l_Um1doqvmwz",
        "outputId": "e0dcb8c5-b996-4ba4-e5f0-ef9f055df1ae"
      },
      "source": [
        "fig = px.bar(\n",
        "    popular_brand, \n",
        "    x='brand', \n",
        "    y='times_sold', \n",
        "    width=1200, \n",
        "    height=800\n",
        ")\n",
        "\n",
        "fig.show()"
      ],
      "execution_count": null,
      "outputs": [
        {
          "output_type": "display_data",
          "data": {
            "text/html": [
              "<html>\n",
              "<head><meta charset=\"utf-8\" /></head>\n",
              "<body>\n",
              "    <div>\n",
              "            <script src=\"https://cdnjs.cloudflare.com/ajax/libs/mathjax/2.7.5/MathJax.js?config=TeX-AMS-MML_SVG\"></script><script type=\"text/javascript\">if (window.MathJax) {MathJax.Hub.Config({SVG: {font: \"STIX-Web\"}});}</script>\n",
              "                <script type=\"text/javascript\">window.PlotlyConfig = {MathJaxConfig: 'local'};</script>\n",
              "        <script src=\"https://cdn.plot.ly/plotly-latest.min.js\"></script>    \n",
              "            <div id=\"3a41f234-6bb8-48ff-a97e-c120edba4833\" class=\"plotly-graph-div\" style=\"height:800px; width:1200px;\"></div>\n",
              "            <script type=\"text/javascript\">\n",
              "                \n",
              "                    window.PLOTLYENV=window.PLOTLYENV || {};\n",
              "                    \n",
              "                if (document.getElementById(\"3a41f234-6bb8-48ff-a97e-c120edba4833\")) {\n",
              "                    Plotly.newPlot(\n",
              "                        '3a41f234-6bb8-48ff-a97e-c120edba4833',\n",
              "                        [{\"alignmentgroup\": \"True\", \"hoverlabel\": {\"namelength\": 0}, \"hovertemplate\": \"brand=%{x}<br>times_sold=%{y}\", \"legendgroup\": \"\", \"marker\": {\"color\": \"#636efa\"}, \"name\": \"\", \"offsetgroup\": \"\", \"orientation\": \"v\", \"showlegend\": false, \"textposition\": \"auto\", \"type\": \"bar\", \"x\": [\"samsung\", \"ava\", \"tefal\", \"apple\", \"huawei\", \"lg\", \"philips\", \"neo\", \"polaris\", \"oppo\", \"bosch\", \"vitek\", \"xiaomi\", \"beko\", \"sony\"], \"xaxis\": \"x\", \"y\": [358928, 118161, 78653, 74709, 57438, 55685, 52327, 42638, 40663, 36445, 33893, 33423, 33207, 32146, 27163], \"yaxis\": \"y\"}],\n",
              "                        {\"barmode\": \"relative\", \"height\": 800, \"legend\": {\"tracegroupgap\": 0}, \"margin\": {\"t\": 60}, \"template\": {\"data\": {\"bar\": [{\"error_x\": {\"color\": \"#2a3f5f\"}, \"error_y\": {\"color\": \"#2a3f5f\"}, \"marker\": {\"line\": {\"color\": \"#E5ECF6\", \"width\": 0.5}}, \"type\": \"bar\"}], \"barpolar\": [{\"marker\": {\"line\": {\"color\": \"#E5ECF6\", \"width\": 0.5}}, \"type\": \"barpolar\"}], \"carpet\": [{\"aaxis\": {\"endlinecolor\": \"#2a3f5f\", \"gridcolor\": \"white\", \"linecolor\": \"white\", \"minorgridcolor\": \"white\", \"startlinecolor\": \"#2a3f5f\"}, \"baxis\": {\"endlinecolor\": \"#2a3f5f\", \"gridcolor\": \"white\", \"linecolor\": \"white\", \"minorgridcolor\": \"white\", \"startlinecolor\": \"#2a3f5f\"}, \"type\": \"carpet\"}], \"choropleth\": [{\"colorbar\": {\"outlinewidth\": 0, \"ticks\": \"\"}, \"type\": \"choropleth\"}], \"contour\": [{\"colorbar\": {\"outlinewidth\": 0, \"ticks\": \"\"}, \"colorscale\": [[0.0, \"#0d0887\"], [0.1111111111111111, \"#46039f\"], [0.2222222222222222, \"#7201a8\"], [0.3333333333333333, \"#9c179e\"], [0.4444444444444444, \"#bd3786\"], [0.5555555555555556, \"#d8576b\"], [0.6666666666666666, \"#ed7953\"], [0.7777777777777778, \"#fb9f3a\"], [0.8888888888888888, \"#fdca26\"], [1.0, \"#f0f921\"]], \"type\": \"contour\"}], \"contourcarpet\": [{\"colorbar\": {\"outlinewidth\": 0, \"ticks\": \"\"}, \"type\": \"contourcarpet\"}], \"heatmap\": [{\"colorbar\": {\"outlinewidth\": 0, \"ticks\": \"\"}, \"colorscale\": [[0.0, \"#0d0887\"], [0.1111111111111111, \"#46039f\"], [0.2222222222222222, \"#7201a8\"], [0.3333333333333333, \"#9c179e\"], [0.4444444444444444, \"#bd3786\"], [0.5555555555555556, \"#d8576b\"], [0.6666666666666666, \"#ed7953\"], [0.7777777777777778, \"#fb9f3a\"], [0.8888888888888888, \"#fdca26\"], [1.0, \"#f0f921\"]], \"type\": \"heatmap\"}], \"heatmapgl\": [{\"colorbar\": {\"outlinewidth\": 0, \"ticks\": \"\"}, \"colorscale\": [[0.0, \"#0d0887\"], [0.1111111111111111, \"#46039f\"], [0.2222222222222222, \"#7201a8\"], [0.3333333333333333, \"#9c179e\"], [0.4444444444444444, \"#bd3786\"], [0.5555555555555556, \"#d8576b\"], [0.6666666666666666, \"#ed7953\"], [0.7777777777777778, \"#fb9f3a\"], [0.8888888888888888, \"#fdca26\"], [1.0, \"#f0f921\"]], \"type\": \"heatmapgl\"}], \"histogram\": [{\"marker\": {\"colorbar\": {\"outlinewidth\": 0, \"ticks\": \"\"}}, \"type\": \"histogram\"}], \"histogram2d\": [{\"colorbar\": {\"outlinewidth\": 0, \"ticks\": \"\"}, \"colorscale\": [[0.0, \"#0d0887\"], [0.1111111111111111, \"#46039f\"], [0.2222222222222222, \"#7201a8\"], [0.3333333333333333, \"#9c179e\"], [0.4444444444444444, \"#bd3786\"], [0.5555555555555556, \"#d8576b\"], [0.6666666666666666, \"#ed7953\"], [0.7777777777777778, \"#fb9f3a\"], [0.8888888888888888, \"#fdca26\"], [1.0, \"#f0f921\"]], \"type\": \"histogram2d\"}], \"histogram2dcontour\": [{\"colorbar\": {\"outlinewidth\": 0, \"ticks\": \"\"}, \"colorscale\": [[0.0, \"#0d0887\"], [0.1111111111111111, \"#46039f\"], [0.2222222222222222, \"#7201a8\"], [0.3333333333333333, \"#9c179e\"], [0.4444444444444444, \"#bd3786\"], [0.5555555555555556, \"#d8576b\"], [0.6666666666666666, \"#ed7953\"], [0.7777777777777778, \"#fb9f3a\"], [0.8888888888888888, \"#fdca26\"], [1.0, \"#f0f921\"]], \"type\": \"histogram2dcontour\"}], \"mesh3d\": [{\"colorbar\": {\"outlinewidth\": 0, \"ticks\": \"\"}, \"type\": \"mesh3d\"}], \"parcoords\": [{\"line\": {\"colorbar\": {\"outlinewidth\": 0, \"ticks\": \"\"}}, \"type\": \"parcoords\"}], \"pie\": [{\"automargin\": true, \"type\": \"pie\"}], \"scatter\": [{\"marker\": {\"colorbar\": {\"outlinewidth\": 0, \"ticks\": \"\"}}, \"type\": \"scatter\"}], \"scatter3d\": [{\"line\": {\"colorbar\": {\"outlinewidth\": 0, \"ticks\": \"\"}}, \"marker\": {\"colorbar\": {\"outlinewidth\": 0, \"ticks\": \"\"}}, \"type\": \"scatter3d\"}], \"scattercarpet\": [{\"marker\": {\"colorbar\": {\"outlinewidth\": 0, \"ticks\": \"\"}}, \"type\": \"scattercarpet\"}], \"scattergeo\": [{\"marker\": {\"colorbar\": {\"outlinewidth\": 0, \"ticks\": \"\"}}, \"type\": \"scattergeo\"}], \"scattergl\": [{\"marker\": {\"colorbar\": {\"outlinewidth\": 0, \"ticks\": \"\"}}, \"type\": \"scattergl\"}], \"scattermapbox\": [{\"marker\": {\"colorbar\": {\"outlinewidth\": 0, \"ticks\": \"\"}}, \"type\": \"scattermapbox\"}], \"scatterpolar\": [{\"marker\": {\"colorbar\": {\"outlinewidth\": 0, \"ticks\": \"\"}}, \"type\": \"scatterpolar\"}], \"scatterpolargl\": [{\"marker\": {\"colorbar\": {\"outlinewidth\": 0, \"ticks\": \"\"}}, \"type\": \"scatterpolargl\"}], \"scatterternary\": [{\"marker\": {\"colorbar\": {\"outlinewidth\": 0, \"ticks\": \"\"}}, \"type\": \"scatterternary\"}], \"surface\": [{\"colorbar\": {\"outlinewidth\": 0, \"ticks\": \"\"}, \"colorscale\": [[0.0, \"#0d0887\"], [0.1111111111111111, \"#46039f\"], [0.2222222222222222, \"#7201a8\"], [0.3333333333333333, \"#9c179e\"], [0.4444444444444444, \"#bd3786\"], [0.5555555555555556, \"#d8576b\"], [0.6666666666666666, \"#ed7953\"], [0.7777777777777778, \"#fb9f3a\"], [0.8888888888888888, \"#fdca26\"], [1.0, \"#f0f921\"]], \"type\": \"surface\"}], \"table\": [{\"cells\": {\"fill\": {\"color\": \"#EBF0F8\"}, \"line\": {\"color\": \"white\"}}, \"header\": {\"fill\": {\"color\": \"#C8D4E3\"}, \"line\": {\"color\": \"white\"}}, \"type\": \"table\"}]}, \"layout\": {\"annotationdefaults\": {\"arrowcolor\": \"#2a3f5f\", \"arrowhead\": 0, \"arrowwidth\": 1}, \"coloraxis\": {\"colorbar\": {\"outlinewidth\": 0, \"ticks\": \"\"}}, \"colorscale\": {\"diverging\": [[0, \"#8e0152\"], [0.1, \"#c51b7d\"], [0.2, \"#de77ae\"], [0.3, \"#f1b6da\"], [0.4, \"#fde0ef\"], [0.5, \"#f7f7f7\"], [0.6, \"#e6f5d0\"], [0.7, \"#b8e186\"], [0.8, \"#7fbc41\"], [0.9, \"#4d9221\"], [1, \"#276419\"]], \"sequential\": [[0.0, \"#0d0887\"], [0.1111111111111111, \"#46039f\"], [0.2222222222222222, \"#7201a8\"], [0.3333333333333333, \"#9c179e\"], [0.4444444444444444, \"#bd3786\"], [0.5555555555555556, \"#d8576b\"], [0.6666666666666666, \"#ed7953\"], [0.7777777777777778, \"#fb9f3a\"], [0.8888888888888888, \"#fdca26\"], [1.0, \"#f0f921\"]], \"sequentialminus\": [[0.0, \"#0d0887\"], [0.1111111111111111, \"#46039f\"], [0.2222222222222222, \"#7201a8\"], [0.3333333333333333, \"#9c179e\"], [0.4444444444444444, \"#bd3786\"], [0.5555555555555556, \"#d8576b\"], [0.6666666666666666, \"#ed7953\"], [0.7777777777777778, \"#fb9f3a\"], [0.8888888888888888, \"#fdca26\"], [1.0, \"#f0f921\"]]}, \"colorway\": [\"#636efa\", \"#EF553B\", \"#00cc96\", \"#ab63fa\", \"#FFA15A\", \"#19d3f3\", \"#FF6692\", \"#B6E880\", \"#FF97FF\", \"#FECB52\"], \"font\": {\"color\": \"#2a3f5f\"}, \"geo\": {\"bgcolor\": \"white\", \"lakecolor\": \"white\", \"landcolor\": \"#E5ECF6\", \"showlakes\": true, \"showland\": true, \"subunitcolor\": \"white\"}, \"hoverlabel\": {\"align\": \"left\"}, \"hovermode\": \"closest\", \"mapbox\": {\"style\": \"light\"}, \"paper_bgcolor\": \"white\", \"plot_bgcolor\": \"#E5ECF6\", \"polar\": {\"angularaxis\": {\"gridcolor\": \"white\", \"linecolor\": \"white\", \"ticks\": \"\"}, \"bgcolor\": \"#E5ECF6\", \"radialaxis\": {\"gridcolor\": \"white\", \"linecolor\": \"white\", \"ticks\": \"\"}}, \"scene\": {\"xaxis\": {\"backgroundcolor\": \"#E5ECF6\", \"gridcolor\": \"white\", \"gridwidth\": 2, \"linecolor\": \"white\", \"showbackground\": true, \"ticks\": \"\", \"zerolinecolor\": \"white\"}, \"yaxis\": {\"backgroundcolor\": \"#E5ECF6\", \"gridcolor\": \"white\", \"gridwidth\": 2, \"linecolor\": \"white\", \"showbackground\": true, \"ticks\": \"\", \"zerolinecolor\": \"white\"}, \"zaxis\": {\"backgroundcolor\": \"#E5ECF6\", \"gridcolor\": \"white\", \"gridwidth\": 2, \"linecolor\": \"white\", \"showbackground\": true, \"ticks\": \"\", \"zerolinecolor\": \"white\"}}, \"shapedefaults\": {\"line\": {\"color\": \"#2a3f5f\"}}, \"ternary\": {\"aaxis\": {\"gridcolor\": \"white\", \"linecolor\": \"white\", \"ticks\": \"\"}, \"baxis\": {\"gridcolor\": \"white\", \"linecolor\": \"white\", \"ticks\": \"\"}, \"bgcolor\": \"#E5ECF6\", \"caxis\": {\"gridcolor\": \"white\", \"linecolor\": \"white\", \"ticks\": \"\"}}, \"title\": {\"x\": 0.05}, \"xaxis\": {\"automargin\": true, \"gridcolor\": \"white\", \"linecolor\": \"white\", \"ticks\": \"\", \"title\": {\"standoff\": 15}, \"zerolinecolor\": \"white\", \"zerolinewidth\": 2}, \"yaxis\": {\"automargin\": true, \"gridcolor\": \"white\", \"linecolor\": \"white\", \"ticks\": \"\", \"title\": {\"standoff\": 15}, \"zerolinecolor\": \"white\", \"zerolinewidth\": 2}}}, \"width\": 1200, \"xaxis\": {\"anchor\": \"y\", \"domain\": [0.0, 1.0], \"title\": {\"text\": \"brand\"}}, \"yaxis\": {\"anchor\": \"x\", \"domain\": [0.0, 1.0], \"title\": {\"text\": \"times_sold\"}}},\n",
              "                        {\"responsive\": true}\n",
              "                    ).then(function(){\n",
              "                            \n",
              "var gd = document.getElementById('3a41f234-6bb8-48ff-a97e-c120edba4833');\n",
              "var x = new MutationObserver(function (mutations, observer) {{\n",
              "        var display = window.getComputedStyle(gd).display;\n",
              "        if (!display || display === 'none') {{\n",
              "            console.log([gd, 'removed!']);\n",
              "            Plotly.purge(gd);\n",
              "            observer.disconnect();\n",
              "        }}\n",
              "}});\n",
              "\n",
              "// Listen for the removal of the full notebook cells\n",
              "var notebookContainer = gd.closest('#notebook-container');\n",
              "if (notebookContainer) {{\n",
              "    x.observe(notebookContainer, {childList: true});\n",
              "}}\n",
              "\n",
              "// Listen for the clearing of the current output cell\n",
              "var outputEl = gd.closest('.output');\n",
              "if (outputEl) {{\n",
              "    x.observe(outputEl, {childList: true});\n",
              "}}\n",
              "\n",
              "                        })\n",
              "                };\n",
              "                \n",
              "            </script>\n",
              "        </div>\n",
              "</body>\n",
              "</html>"
            ]
          },
          "metadata": {
            "tags": []
          }
        }
      ]
    },
    {
      "cell_type": "markdown",
      "metadata": {
        "id": "et870oblAZPX"
      },
      "source": [
        "# Preprocessing"
      ]
    },
    {
      "cell_type": "code",
      "metadata": {
        "colab": {
          "base_uri": "https://localhost:8080/"
        },
        "id": "dGSI34oCgzXv",
        "outputId": "d43af2a2-fc5f-4d97-c8e0-23a57a98642d"
      },
      "source": [
        "# oставляем только тех пользователей, которые произамодействовали более чем с пятью статьями.\n",
        "users_interactions_count_df = (\n",
        "    df\n",
        "    .groupby(['user_id', 'product_id'])\n",
        "    .first()\n",
        "    .reset_index()\n",
        "    .groupby('user_id').size())\n",
        "print('# users:', len(users_interactions_count_df))\n",
        "\n",
        "users_with_enough_interactions_df = \\\n",
        "    users_interactions_count_df[users_interactions_count_df >= 5].reset_index()[['user_id']]\n",
        "print('# users with at least 5 interactions:',len(users_with_enough_interactions_df))"
      ],
      "execution_count": 14,
      "outputs": [
        {
          "output_type": "stream",
          "text": [
            "# users: 98262\n",
            "# users with at least 5 interactions: 17704\n"
          ],
          "name": "stdout"
        }
      ]
    },
    {
      "cell_type": "code",
      "metadata": {
        "id": "8Yle4Bndhgk6"
      },
      "source": [
        "# oставляем только те взаимодействия, которые относятся к отфильтрованным пользователям.\n",
        "interactions_from_selected_users_df = df.loc[np.in1d(df.user_id,\n",
        "            users_with_enough_interactions_df)]"
      ],
      "execution_count": 15,
      "outputs": []
    },
    {
      "cell_type": "code",
      "metadata": {
        "colab": {
          "base_uri": "https://localhost:8080/",
          "height": 402
        },
        "id": "UolSjQ_cVl1Z",
        "outputId": "75512dfa-02e2-4188-b868-1c529ae03797"
      },
      "source": [
        "interactions_from_selected_users_df"
      ],
      "execution_count": 16,
      "outputs": [
        {
          "output_type": "execute_result",
          "data": {
            "text/html": [
              "<div>\n",
              "<style scoped>\n",
              "    .dataframe tbody tr th:only-of-type {\n",
              "        vertical-align: middle;\n",
              "    }\n",
              "\n",
              "    .dataframe tbody tr th {\n",
              "        vertical-align: top;\n",
              "    }\n",
              "\n",
              "    .dataframe thead th {\n",
              "        text-align: right;\n",
              "    }\n",
              "</style>\n",
              "<table border=\"1\" class=\"dataframe\">\n",
              "  <thead>\n",
              "    <tr style=\"text-align: right;\">\n",
              "      <th></th>\n",
              "      <th>event_time</th>\n",
              "      <th>order_id</th>\n",
              "      <th>product_id</th>\n",
              "      <th>category_id</th>\n",
              "      <th>category_code</th>\n",
              "      <th>brand</th>\n",
              "      <th>price</th>\n",
              "      <th>user_id</th>\n",
              "    </tr>\n",
              "  </thead>\n",
              "  <tbody>\n",
              "    <tr>\n",
              "      <th>4</th>\n",
              "      <td>2020-04-24 19:16:21 UTC</td>\n",
              "      <td>2294584263154074236</td>\n",
              "      <td>2273948316817424439</td>\n",
              "      <td>2.268105e+18</td>\n",
              "      <td>NaN</td>\n",
              "      <td>karcher</td>\n",
              "      <td>217.57</td>\n",
              "      <td>1.515916e+18</td>\n",
              "    </tr>\n",
              "    <tr>\n",
              "      <th>5</th>\n",
              "      <td>2020-04-26 08:45:57 UTC</td>\n",
              "      <td>2295716521449619559</td>\n",
              "      <td>1515966223509261697</td>\n",
              "      <td>2.268105e+18</td>\n",
              "      <td>furniture.kitchen.table</td>\n",
              "      <td>maestro</td>\n",
              "      <td>39.33</td>\n",
              "      <td>1.515916e+18</td>\n",
              "    </tr>\n",
              "    <tr>\n",
              "      <th>6</th>\n",
              "      <td>2020-04-26 09:33:47 UTC</td>\n",
              "      <td>2295740594749702229</td>\n",
              "      <td>1515966223509104892</td>\n",
              "      <td>2.268105e+18</td>\n",
              "      <td>electronics.smartphone</td>\n",
              "      <td>apple</td>\n",
              "      <td>1387.01</td>\n",
              "      <td>1.515916e+18</td>\n",
              "    </tr>\n",
              "    <tr>\n",
              "      <th>7</th>\n",
              "      <td>2020-04-26 09:33:47 UTC</td>\n",
              "      <td>2295740594749702229</td>\n",
              "      <td>1515966223509104892</td>\n",
              "      <td>2.268105e+18</td>\n",
              "      <td>electronics.smartphone</td>\n",
              "      <td>apple</td>\n",
              "      <td>1387.01</td>\n",
              "      <td>1.515916e+18</td>\n",
              "    </tr>\n",
              "    <tr>\n",
              "      <th>8</th>\n",
              "      <td>2020-04-26 09:33:47 UTC</td>\n",
              "      <td>2295740594749702229</td>\n",
              "      <td>1515966223509104892</td>\n",
              "      <td>2.268105e+18</td>\n",
              "      <td>electronics.smartphone</td>\n",
              "      <td>apple</td>\n",
              "      <td>1387.01</td>\n",
              "      <td>1.515916e+18</td>\n",
              "    </tr>\n",
              "    <tr>\n",
              "      <th>...</th>\n",
              "      <td>...</td>\n",
              "      <td>...</td>\n",
              "      <td>...</td>\n",
              "      <td>...</td>\n",
              "      <td>...</td>\n",
              "      <td>...</td>\n",
              "      <td>...</td>\n",
              "      <td>...</td>\n",
              "    </tr>\n",
              "    <tr>\n",
              "      <th>2633504</th>\n",
              "      <td>2020-11-21 09:59:55 UTC</td>\n",
              "      <td>2388440981134693931</td>\n",
              "      <td>2388434452473986696</td>\n",
              "      <td>2.268105e+18</td>\n",
              "      <td>appliances.environment.air_heater</td>\n",
              "      <td>ava</td>\n",
              "      <td>43.96</td>\n",
              "      <td>1.515916e+18</td>\n",
              "    </tr>\n",
              "    <tr>\n",
              "      <th>2633508</th>\n",
              "      <td>2020-11-21 10:02:06 UTC</td>\n",
              "      <td>2388440981134693935</td>\n",
              "      <td>2273948303068496095</td>\n",
              "      <td>2.268105e+18</td>\n",
              "      <td>electronics.smartphone</td>\n",
              "      <td>huawei</td>\n",
              "      <td>185.16</td>\n",
              "      <td>1.515916e+18</td>\n",
              "    </tr>\n",
              "    <tr>\n",
              "      <th>2633512</th>\n",
              "      <td>2020-11-21 10:06:01 UTC</td>\n",
              "      <td>2388440981134693939</td>\n",
              "      <td>1515966223509090132</td>\n",
              "      <td>2.268105e+18</td>\n",
              "      <td>computers.peripherals.printer</td>\n",
              "      <td>canon</td>\n",
              "      <td>299.98</td>\n",
              "      <td>1.515916e+18</td>\n",
              "    </tr>\n",
              "    <tr>\n",
              "      <th>2633514</th>\n",
              "      <td>2020-11-21 10:08:54 UTC</td>\n",
              "      <td>2388440981134693941</td>\n",
              "      <td>1515966223519279912</td>\n",
              "      <td>2.374499e+18</td>\n",
              "      <td>electronics.video.tv</td>\n",
              "      <td>samsung</td>\n",
              "      <td>1736.09</td>\n",
              "      <td>1.515916e+18</td>\n",
              "    </tr>\n",
              "    <tr>\n",
              "      <th>2633515</th>\n",
              "      <td>2020-11-21 10:08:54 UTC</td>\n",
              "      <td>2388440981134693941</td>\n",
              "      <td>1515966223509088622</td>\n",
              "      <td>2.374499e+18</td>\n",
              "      <td>electronics.video.tv</td>\n",
              "      <td>lg</td>\n",
              "      <td>370.35</td>\n",
              "      <td>1.515916e+18</td>\n",
              "    </tr>\n",
              "  </tbody>\n",
              "</table>\n",
              "<p>392999 rows × 8 columns</p>\n",
              "</div>"
            ],
            "text/plain": [
              "                      event_time             order_id  ...    price       user_id\n",
              "4        2020-04-24 19:16:21 UTC  2294584263154074236  ...   217.57  1.515916e+18\n",
              "5        2020-04-26 08:45:57 UTC  2295716521449619559  ...    39.33  1.515916e+18\n",
              "6        2020-04-26 09:33:47 UTC  2295740594749702229  ...  1387.01  1.515916e+18\n",
              "7        2020-04-26 09:33:47 UTC  2295740594749702229  ...  1387.01  1.515916e+18\n",
              "8        2020-04-26 09:33:47 UTC  2295740594749702229  ...  1387.01  1.515916e+18\n",
              "...                          ...                  ...  ...      ...           ...\n",
              "2633504  2020-11-21 09:59:55 UTC  2388440981134693931  ...    43.96  1.515916e+18\n",
              "2633508  2020-11-21 10:02:06 UTC  2388440981134693935  ...   185.16  1.515916e+18\n",
              "2633512  2020-11-21 10:06:01 UTC  2388440981134693939  ...   299.98  1.515916e+18\n",
              "2633514  2020-11-21 10:08:54 UTC  2388440981134693941  ...  1736.09  1.515916e+18\n",
              "2633515  2020-11-21 10:08:54 UTC  2388440981134693941  ...   370.35  1.515916e+18\n",
              "\n",
              "[392999 rows x 8 columns]"
            ]
          },
          "metadata": {
            "tags": []
          },
          "execution_count": 16
        }
      ]
    },
    {
      "cell_type": "code",
      "metadata": {
        "colab": {
          "base_uri": "https://localhost:8080/",
          "height": 195
        },
        "id": "K-SJSOQv1aSz",
        "outputId": "d5bed0d6-ee99-4397-ec7f-e89290968739"
      },
      "source": [
        "# oбъединяем все взаимодействия пользователя по каждому товару в одно\n",
        "def smooth_user_preference(x):\n",
        "    return math.log(1+x, 2)\n",
        "    \n",
        "interactions_full_df = (\n",
        "    interactions_from_selected_users_df\n",
        "    .groupby(['user_id', 'product_id']).sum()\n",
        "    .reset_index().set_index(['user_id', 'product_id'])\n",
        ")\n",
        "interactions_full_df['last_timestep'] = (\n",
        "    interactions_from_selected_users_df\n",
        "    .groupby(['user_id', 'product_id'])['event_time'].last()\n",
        ")\n",
        "        \n",
        "interactions_full_df = interactions_full_df.reset_index()\n",
        "interactions_full_df.head(5)"
      ],
      "execution_count": 17,
      "outputs": [
        {
          "output_type": "execute_result",
          "data": {
            "text/html": [
              "<div>\n",
              "<style scoped>\n",
              "    .dataframe tbody tr th:only-of-type {\n",
              "        vertical-align: middle;\n",
              "    }\n",
              "\n",
              "    .dataframe tbody tr th {\n",
              "        vertical-align: top;\n",
              "    }\n",
              "\n",
              "    .dataframe thead th {\n",
              "        text-align: right;\n",
              "    }\n",
              "</style>\n",
              "<table border=\"1\" class=\"dataframe\">\n",
              "  <thead>\n",
              "    <tr style=\"text-align: right;\">\n",
              "      <th></th>\n",
              "      <th>user_id</th>\n",
              "      <th>product_id</th>\n",
              "      <th>order_id</th>\n",
              "      <th>category_id</th>\n",
              "      <th>price</th>\n",
              "      <th>last_timestep</th>\n",
              "    </tr>\n",
              "  </thead>\n",
              "  <tbody>\n",
              "    <tr>\n",
              "      <th>0</th>\n",
              "      <td>1.515916e+18</td>\n",
              "      <td>1515966223509104210</td>\n",
              "      <td>2.388441e+18</td>\n",
              "      <td>2.374499e+18</td>\n",
              "      <td>115.72</td>\n",
              "      <td>2020-10-23 03:51:26 UTC</td>\n",
              "    </tr>\n",
              "    <tr>\n",
              "      <th>1</th>\n",
              "      <td>1.515916e+18</td>\n",
              "      <td>1515966223509122863</td>\n",
              "      <td>2.388441e+18</td>\n",
              "      <td>2.268105e+18</td>\n",
              "      <td>1504.61</td>\n",
              "      <td>2020-11-16 15:49:50 UTC</td>\n",
              "    </tr>\n",
              "    <tr>\n",
              "      <th>2</th>\n",
              "      <td>1.515916e+18</td>\n",
              "      <td>1515966223522710798</td>\n",
              "      <td>2.388441e+18</td>\n",
              "      <td>2.268105e+18</td>\n",
              "      <td>138.87</td>\n",
              "      <td>2020-11-16 15:49:50 UTC</td>\n",
              "    </tr>\n",
              "    <tr>\n",
              "      <th>3</th>\n",
              "      <td>1.515916e+18</td>\n",
              "      <td>2273948310777627555</td>\n",
              "      <td>2.388441e+18</td>\n",
              "      <td>2.268105e+18</td>\n",
              "      <td>335.63</td>\n",
              "      <td>2020-11-16 15:49:50 UTC</td>\n",
              "    </tr>\n",
              "    <tr>\n",
              "      <th>4</th>\n",
              "      <td>1.515916e+18</td>\n",
              "      <td>2309018185069757002</td>\n",
              "      <td>2.388441e+18</td>\n",
              "      <td>2.268105e+18</td>\n",
              "      <td>40.81</td>\n",
              "      <td>2020-10-21 12:23:18 UTC</td>\n",
              "    </tr>\n",
              "  </tbody>\n",
              "</table>\n",
              "</div>"
            ],
            "text/plain": [
              "        user_id           product_id  ...    price            last_timestep\n",
              "0  1.515916e+18  1515966223509104210  ...   115.72  2020-10-23 03:51:26 UTC\n",
              "1  1.515916e+18  1515966223509122863  ...  1504.61  2020-11-16 15:49:50 UTC\n",
              "2  1.515916e+18  1515966223522710798  ...   138.87  2020-11-16 15:49:50 UTC\n",
              "3  1.515916e+18  2273948310777627555  ...   335.63  2020-11-16 15:49:50 UTC\n",
              "4  1.515916e+18  2309018185069757002  ...    40.81  2020-10-21 12:23:18 UTC\n",
              "\n",
              "[5 rows x 6 columns]"
            ]
          },
          "metadata": {
            "tags": []
          },
          "execution_count": 17
        }
      ]
    },
    {
      "cell_type": "code",
      "metadata": {
        "colab": {
          "base_uri": "https://localhost:8080/"
        },
        "id": "ZRAuuryd37Zt",
        "outputId": "47daab87-00aa-4587-fdc3-a41161b41c2f"
      },
      "source": [
        "interactions_full_df.shape"
      ],
      "execution_count": 18,
      "outputs": [
        {
          "output_type": "execute_result",
          "data": {
            "text/plain": [
              "(334725, 6)"
            ]
          },
          "metadata": {
            "tags": []
          },
          "execution_count": 18
        }
      ]
    },
    {
      "cell_type": "code",
      "metadata": {
        "id": "T2zAOda59XJ1"
      },
      "source": [
        "# перевел в формат datetime и отсортировал\n",
        "interactions_full_df['last_timestep'] = interactions_full_df['last_timestep'].apply(lambda x:datetime.timestamp(datetime.strptime(x, '%Y-%m-%d %H:%M:%S %Z')))\n",
        "interactions_full_df = interactions_full_df.sort_values('last_timestep').reset_index(drop=True)"
      ],
      "execution_count": 19,
      "outputs": []
    },
    {
      "cell_type": "code",
      "metadata": {
        "colab": {
          "base_uri": "https://localhost:8080/",
          "height": 402
        },
        "id": "wuVJqbKbCE2g",
        "outputId": "40389003-02c7-4f43-ce0d-faf23af80367"
      },
      "source": [
        "interactions_full_df"
      ],
      "execution_count": 20,
      "outputs": [
        {
          "output_type": "execute_result",
          "data": {
            "text/html": [
              "<div>\n",
              "<style scoped>\n",
              "    .dataframe tbody tr th:only-of-type {\n",
              "        vertical-align: middle;\n",
              "    }\n",
              "\n",
              "    .dataframe tbody tr th {\n",
              "        vertical-align: top;\n",
              "    }\n",
              "\n",
              "    .dataframe thead th {\n",
              "        text-align: right;\n",
              "    }\n",
              "</style>\n",
              "<table border=\"1\" class=\"dataframe\">\n",
              "  <thead>\n",
              "    <tr style=\"text-align: right;\">\n",
              "      <th></th>\n",
              "      <th>user_id</th>\n",
              "      <th>product_id</th>\n",
              "      <th>order_id</th>\n",
              "      <th>category_id</th>\n",
              "      <th>price</th>\n",
              "      <th>last_timestep</th>\n",
              "    </tr>\n",
              "  </thead>\n",
              "  <tbody>\n",
              "    <tr>\n",
              "      <th>0</th>\n",
              "      <td>1.515916e+18</td>\n",
              "      <td>1515966223509090236</td>\n",
              "      <td>2.340103e+18</td>\n",
              "      <td>2.268105e+18</td>\n",
              "      <td>18.50</td>\n",
              "      <td>2.020000e+03</td>\n",
              "    </tr>\n",
              "    <tr>\n",
              "      <th>1</th>\n",
              "      <td>1.515916e+18</td>\n",
              "      <td>2273948186349404174</td>\n",
              "      <td>2.348533e+18</td>\n",
              "      <td>2.268105e+18</td>\n",
              "      <td>30.07</td>\n",
              "      <td>2.020000e+03</td>\n",
              "    </tr>\n",
              "    <tr>\n",
              "      <th>2</th>\n",
              "      <td>1.515916e+18</td>\n",
              "      <td>2273948180989083750</td>\n",
              "      <td>2.348533e+18</td>\n",
              "      <td>2.268105e+18</td>\n",
              "      <td>7.38</td>\n",
              "      <td>2.020000e+03</td>\n",
              "    </tr>\n",
              "    <tr>\n",
              "      <th>3</th>\n",
              "      <td>1.515916e+18</td>\n",
              "      <td>1515966223510673543</td>\n",
              "      <td>2.348533e+18</td>\n",
              "      <td>2.268105e+18</td>\n",
              "      <td>43.96</td>\n",
              "      <td>2.020000e+03</td>\n",
              "    </tr>\n",
              "    <tr>\n",
              "      <th>4</th>\n",
              "      <td>1.515916e+18</td>\n",
              "      <td>1515966223510225741</td>\n",
              "      <td>2.348533e+18</td>\n",
              "      <td>2.268105e+18</td>\n",
              "      <td>4.61</td>\n",
              "      <td>2.020000e+03</td>\n",
              "    </tr>\n",
              "    <tr>\n",
              "      <th>...</th>\n",
              "      <td>...</td>\n",
              "      <td>...</td>\n",
              "      <td>...</td>\n",
              "      <td>...</td>\n",
              "      <td>...</td>\n",
              "      <td>...</td>\n",
              "    </tr>\n",
              "    <tr>\n",
              "      <th>334720</th>\n",
              "      <td>1.515916e+18</td>\n",
              "      <td>2388434452473986696</td>\n",
              "      <td>2.388441e+18</td>\n",
              "      <td>2.268105e+18</td>\n",
              "      <td>43.96</td>\n",
              "      <td>1.605953e+09</td>\n",
              "    </tr>\n",
              "    <tr>\n",
              "      <th>334721</th>\n",
              "      <td>1.515916e+18</td>\n",
              "      <td>2273948303068496095</td>\n",
              "      <td>4.776882e+18</td>\n",
              "      <td>4.536211e+18</td>\n",
              "      <td>370.32</td>\n",
              "      <td>1.605953e+09</td>\n",
              "    </tr>\n",
              "    <tr>\n",
              "      <th>334722</th>\n",
              "      <td>1.515916e+18</td>\n",
              "      <td>1515966223509090132</td>\n",
              "      <td>2.388441e+18</td>\n",
              "      <td>2.268105e+18</td>\n",
              "      <td>299.98</td>\n",
              "      <td>1.605953e+09</td>\n",
              "    </tr>\n",
              "    <tr>\n",
              "      <th>334723</th>\n",
              "      <td>1.515916e+18</td>\n",
              "      <td>1515966223519279912</td>\n",
              "      <td>2.388441e+18</td>\n",
              "      <td>2.374499e+18</td>\n",
              "      <td>1736.09</td>\n",
              "      <td>1.605953e+09</td>\n",
              "    </tr>\n",
              "    <tr>\n",
              "      <th>334724</th>\n",
              "      <td>1.515916e+18</td>\n",
              "      <td>1515966223509088622</td>\n",
              "      <td>2.388441e+18</td>\n",
              "      <td>2.374499e+18</td>\n",
              "      <td>370.35</td>\n",
              "      <td>1.605953e+09</td>\n",
              "    </tr>\n",
              "  </tbody>\n",
              "</table>\n",
              "<p>334725 rows × 6 columns</p>\n",
              "</div>"
            ],
            "text/plain": [
              "             user_id           product_id  ...    price  last_timestep\n",
              "0       1.515916e+18  1515966223509090236  ...    18.50   2.020000e+03\n",
              "1       1.515916e+18  2273948186349404174  ...    30.07   2.020000e+03\n",
              "2       1.515916e+18  2273948180989083750  ...     7.38   2.020000e+03\n",
              "3       1.515916e+18  1515966223510673543  ...    43.96   2.020000e+03\n",
              "4       1.515916e+18  1515966223510225741  ...     4.61   2.020000e+03\n",
              "...              ...                  ...  ...      ...            ...\n",
              "334720  1.515916e+18  2388434452473986696  ...    43.96   1.605953e+09\n",
              "334721  1.515916e+18  2273948303068496095  ...   370.32   1.605953e+09\n",
              "334722  1.515916e+18  1515966223509090132  ...   299.98   1.605953e+09\n",
              "334723  1.515916e+18  1515966223519279912  ...  1736.09   1.605953e+09\n",
              "334724  1.515916e+18  1515966223509088622  ...   370.35   1.605953e+09\n",
              "\n",
              "[334725 rows x 6 columns]"
            ]
          },
          "metadata": {
            "tags": []
          },
          "execution_count": 20
        }
      ]
    },
    {
      "cell_type": "code",
      "metadata": {
        "colab": {
          "base_uri": "https://localhost:8080/",
          "height": 435
        },
        "id": "IqqfXANP4T1j",
        "outputId": "4a1852ec-ec57-473d-dfca-65abf997f6a8"
      },
      "source": [
        "# pазобьём выборку на обучение и контроль по времени в соотношении 75/25\n",
        "split_ts = int(interactions_full_df.iloc[int(interactions_full_df.shape[0]*0.75)]['last_timestep'])\n",
        "interactions_train_df = interactions_full_df.loc[interactions_full_df.last_timestep < split_ts].copy()\n",
        "interactions_test_df = interactions_full_df.loc[interactions_full_df.last_timestep >= split_ts].copy()\n",
        "\n",
        "print('# interactions on Train set: %d' % len(interactions_train_df))\n",
        "print('# interactions on Test set: %d' % len(interactions_test_df))\n",
        "\n",
        "interactions_train_df"
      ],
      "execution_count": 21,
      "outputs": [
        {
          "output_type": "stream",
          "text": [
            "# interactions on Train set: 251042\n",
            "# interactions on Test set: 83683\n"
          ],
          "name": "stdout"
        },
        {
          "output_type": "execute_result",
          "data": {
            "text/html": [
              "<div>\n",
              "<style scoped>\n",
              "    .dataframe tbody tr th:only-of-type {\n",
              "        vertical-align: middle;\n",
              "    }\n",
              "\n",
              "    .dataframe tbody tr th {\n",
              "        vertical-align: top;\n",
              "    }\n",
              "\n",
              "    .dataframe thead th {\n",
              "        text-align: right;\n",
              "    }\n",
              "</style>\n",
              "<table border=\"1\" class=\"dataframe\">\n",
              "  <thead>\n",
              "    <tr style=\"text-align: right;\">\n",
              "      <th></th>\n",
              "      <th>user_id</th>\n",
              "      <th>product_id</th>\n",
              "      <th>order_id</th>\n",
              "      <th>category_id</th>\n",
              "      <th>price</th>\n",
              "      <th>last_timestep</th>\n",
              "    </tr>\n",
              "  </thead>\n",
              "  <tbody>\n",
              "    <tr>\n",
              "      <th>0</th>\n",
              "      <td>1.515916e+18</td>\n",
              "      <td>1515966223509090236</td>\n",
              "      <td>2.340103e+18</td>\n",
              "      <td>2.268105e+18</td>\n",
              "      <td>18.50</td>\n",
              "      <td>2.020000e+03</td>\n",
              "    </tr>\n",
              "    <tr>\n",
              "      <th>1</th>\n",
              "      <td>1.515916e+18</td>\n",
              "      <td>2273948186349404174</td>\n",
              "      <td>2.348533e+18</td>\n",
              "      <td>2.268105e+18</td>\n",
              "      <td>30.07</td>\n",
              "      <td>2.020000e+03</td>\n",
              "    </tr>\n",
              "    <tr>\n",
              "      <th>2</th>\n",
              "      <td>1.515916e+18</td>\n",
              "      <td>2273948180989083750</td>\n",
              "      <td>2.348533e+18</td>\n",
              "      <td>2.268105e+18</td>\n",
              "      <td>7.38</td>\n",
              "      <td>2.020000e+03</td>\n",
              "    </tr>\n",
              "    <tr>\n",
              "      <th>3</th>\n",
              "      <td>1.515916e+18</td>\n",
              "      <td>1515966223510673543</td>\n",
              "      <td>2.348533e+18</td>\n",
              "      <td>2.268105e+18</td>\n",
              "      <td>43.96</td>\n",
              "      <td>2.020000e+03</td>\n",
              "    </tr>\n",
              "    <tr>\n",
              "      <th>4</th>\n",
              "      <td>1.515916e+18</td>\n",
              "      <td>1515966223510225741</td>\n",
              "      <td>2.348533e+18</td>\n",
              "      <td>2.268105e+18</td>\n",
              "      <td>4.61</td>\n",
              "      <td>2.020000e+03</td>\n",
              "    </tr>\n",
              "    <tr>\n",
              "      <th>...</th>\n",
              "      <td>...</td>\n",
              "      <td>...</td>\n",
              "      <td>...</td>\n",
              "      <td>...</td>\n",
              "      <td>...</td>\n",
              "      <td>...</td>\n",
              "    </tr>\n",
              "    <tr>\n",
              "      <th>251037</th>\n",
              "      <td>1.515916e+18</td>\n",
              "      <td>2273948219627012463</td>\n",
              "      <td>2.388441e+18</td>\n",
              "      <td>2.268105e+18</td>\n",
              "      <td>42.80</td>\n",
              "      <td>1.602936e+09</td>\n",
              "    </tr>\n",
              "    <tr>\n",
              "      <th>251038</th>\n",
              "      <td>1.515916e+18</td>\n",
              "      <td>2273948226161738588</td>\n",
              "      <td>7.165323e+18</td>\n",
              "      <td>6.804316e+18</td>\n",
              "      <td>4.11</td>\n",
              "      <td>1.602936e+09</td>\n",
              "    </tr>\n",
              "    <tr>\n",
              "      <th>251039</th>\n",
              "      <td>1.515916e+18</td>\n",
              "      <td>1515966223509353956</td>\n",
              "      <td>2.388441e+18</td>\n",
              "      <td>2.268105e+18</td>\n",
              "      <td>6.69</td>\n",
              "      <td>1.602936e+09</td>\n",
              "    </tr>\n",
              "    <tr>\n",
              "      <th>251040</th>\n",
              "      <td>1.515916e+18</td>\n",
              "      <td>1515966223509257795</td>\n",
              "      <td>2.388441e+18</td>\n",
              "      <td>2.268105e+18</td>\n",
              "      <td>462.94</td>\n",
              "      <td>1.602936e+09</td>\n",
              "    </tr>\n",
              "    <tr>\n",
              "      <th>251041</th>\n",
              "      <td>1.515916e+18</td>\n",
              "      <td>1515966223509105290</td>\n",
              "      <td>2.388441e+18</td>\n",
              "      <td>2.268105e+18</td>\n",
              "      <td>67.11</td>\n",
              "      <td>1.602936e+09</td>\n",
              "    </tr>\n",
              "  </tbody>\n",
              "</table>\n",
              "<p>251042 rows × 6 columns</p>\n",
              "</div>"
            ],
            "text/plain": [
              "             user_id           product_id  ...   price  last_timestep\n",
              "0       1.515916e+18  1515966223509090236  ...   18.50   2.020000e+03\n",
              "1       1.515916e+18  2273948186349404174  ...   30.07   2.020000e+03\n",
              "2       1.515916e+18  2273948180989083750  ...    7.38   2.020000e+03\n",
              "3       1.515916e+18  1515966223510673543  ...   43.96   2.020000e+03\n",
              "4       1.515916e+18  1515966223510225741  ...    4.61   2.020000e+03\n",
              "...              ...                  ...  ...     ...            ...\n",
              "251037  1.515916e+18  2273948219627012463  ...   42.80   1.602936e+09\n",
              "251038  1.515916e+18  2273948226161738588  ...    4.11   1.602936e+09\n",
              "251039  1.515916e+18  1515966223509353956  ...    6.69   1.602936e+09\n",
              "251040  1.515916e+18  1515966223509257795  ...  462.94   1.602936e+09\n",
              "251041  1.515916e+18  1515966223509105290  ...   67.11   1.602936e+09\n",
              "\n",
              "[251042 rows x 6 columns]"
            ]
          },
          "metadata": {
            "tags": []
          },
          "execution_count": 21
        }
      ]
    },
    {
      "cell_type": "code",
      "metadata": {
        "colab": {
          "base_uri": "https://localhost:8080/"
        },
        "id": "wHWAI4mQxpAS",
        "outputId": "c4895c4b-37c5-46ce-f028-a0d45321bc5b"
      },
      "source": [
        "interactions_full_df.iloc[251041]"
      ],
      "execution_count": 22,
      "outputs": [
        {
          "output_type": "execute_result",
          "data": {
            "text/plain": [
              "user_id          1.515916e+18\n",
              "product_id       1.515966e+18\n",
              "order_id         2.388441e+18\n",
              "category_id      2.268105e+18\n",
              "price            6.711000e+01\n",
              "last_timestep    1.602936e+09\n",
              "Name: 251041, dtype: float64"
            ]
          },
          "metadata": {
            "tags": []
          },
          "execution_count": 22
        }
      ]
    },
    {
      "cell_type": "code",
      "metadata": {
        "colab": {
          "base_uri": "https://localhost:8080/",
          "height": 106
        },
        "id": "MYrJIitZAwgX",
        "outputId": "29c4f87f-32a1-49c5-f710-4072e7b93778"
      },
      "source": [
        "interactions = (\n",
        "    interactions_train_df\n",
        "    .groupby('user_id')['product_id'].agg(lambda x: list(x))\n",
        "    .reset_index()\n",
        "    .rename(columns={'product_id': 'true_train'})\n",
        "    .set_index('user_id')\n",
        ")\n",
        "\n",
        "interactions['true_test'] = (\n",
        "    interactions_test_df\n",
        "    .groupby('user_id')['product_id'].agg(lambda x: list(x))\n",
        ")\n",
        "\n",
        "# заполнение пропусков пустыми списками\n",
        "interactions.loc[pd.isnull(interactions.true_test), 'true_test'] = [\n",
        "    list() for x in range(len(interactions.loc[pd.isnull(interactions.true_test), 'true_test']))]\n",
        "\n",
        "interactions.head(1)"
      ],
      "execution_count": 13,
      "outputs": [
        {
          "output_type": "execute_result",
          "data": {
            "text/html": [
              "<div>\n",
              "<style scoped>\n",
              "    .dataframe tbody tr th:only-of-type {\n",
              "        vertical-align: middle;\n",
              "    }\n",
              "\n",
              "    .dataframe tbody tr th {\n",
              "        vertical-align: top;\n",
              "    }\n",
              "\n",
              "    .dataframe thead th {\n",
              "        text-align: right;\n",
              "    }\n",
              "</style>\n",
              "<table border=\"1\" class=\"dataframe\">\n",
              "  <thead>\n",
              "    <tr style=\"text-align: right;\">\n",
              "      <th></th>\n",
              "      <th>true_train</th>\n",
              "      <th>true_test</th>\n",
              "    </tr>\n",
              "    <tr>\n",
              "      <th>user_id</th>\n",
              "      <th></th>\n",
              "      <th></th>\n",
              "    </tr>\n",
              "  </thead>\n",
              "  <tbody>\n",
              "    <tr>\n",
              "      <th>1.515916e+18</th>\n",
              "      <td>[1515966223509352229, 1515966223509089059, 151...</td>\n",
              "      <td>[1515966223509104974, 2309018188450366314, 227...</td>\n",
              "    </tr>\n",
              "  </tbody>\n",
              "</table>\n",
              "</div>"
            ],
            "text/plain": [
              "                                                     true_train                                          true_test\n",
              "user_id                                                                                                           \n",
              "1.515916e+18  [1515966223509352229, 1515966223509089059, 151...  [1515966223509104974, 2309018188450366314, 227..."
            ]
          },
          "metadata": {
            "tags": []
          },
          "execution_count": 13
        }
      ]
    },
    {
      "cell_type": "code",
      "metadata": {
        "colab": {
          "base_uri": "https://localhost:8080/"
        },
        "id": "ygnPXYhIzlPj",
        "outputId": "33d70326-3e0d-4d62-ad6e-82b72be14594"
      },
      "source": [
        "interactions_full_df.groupby('product_id').count().sort_values('order_id').iloc[-1]"
      ],
      "execution_count": 14,
      "outputs": [
        {
          "output_type": "execute_result",
          "data": {
            "text/plain": [
              "user_id          943\n",
              "order_id         943\n",
              "category_id      943\n",
              "price            943\n",
              "last_timestep    943\n",
              "Name: 1515966223509088613, dtype: int64"
            ]
          },
          "metadata": {
            "tags": []
          },
          "execution_count": 14
        }
      ]
    },
    {
      "cell_type": "code",
      "metadata": {
        "colab": {
          "base_uri": "https://localhost:8080/",
          "height": 402
        },
        "id": "2LBAfZ9r0ZJs",
        "outputId": "35cd5ae5-b8c2-4722-c365-24b60bcaab7d"
      },
      "source": [
        "df[df.product_id==1515966223509088613] #наиболее популярный товар"
      ],
      "execution_count": 15,
      "outputs": [
        {
          "output_type": "execute_result",
          "data": {
            "text/html": [
              "<div>\n",
              "<style scoped>\n",
              "    .dataframe tbody tr th:only-of-type {\n",
              "        vertical-align: middle;\n",
              "    }\n",
              "\n",
              "    .dataframe tbody tr th {\n",
              "        vertical-align: top;\n",
              "    }\n",
              "\n",
              "    .dataframe thead th {\n",
              "        text-align: right;\n",
              "    }\n",
              "</style>\n",
              "<table border=\"1\" class=\"dataframe\">\n",
              "  <thead>\n",
              "    <tr style=\"text-align: right;\">\n",
              "      <th></th>\n",
              "      <th>event_time</th>\n",
              "      <th>order_id</th>\n",
              "      <th>product_id</th>\n",
              "      <th>category_id</th>\n",
              "      <th>category_code</th>\n",
              "      <th>brand</th>\n",
              "      <th>price</th>\n",
              "      <th>user_id</th>\n",
              "    </tr>\n",
              "  </thead>\n",
              "  <tbody>\n",
              "    <tr>\n",
              "      <th>34</th>\n",
              "      <td>2020-04-29 10:46:21 UTC</td>\n",
              "      <td>2297951447913857849</td>\n",
              "      <td>1515966223509088613</td>\n",
              "      <td>2.268105e+18</td>\n",
              "      <td>electronics.audio.headphone</td>\n",
              "      <td>apple</td>\n",
              "      <td>203.68</td>\n",
              "      <td>1.515916e+18</td>\n",
              "    </tr>\n",
              "    <tr>\n",
              "      <th>49</th>\n",
              "      <td>2020-04-29 12:25:34 UTC</td>\n",
              "      <td>2298001389550305634</td>\n",
              "      <td>1515966223509088613</td>\n",
              "      <td>2.268105e+18</td>\n",
              "      <td>electronics.audio.headphone</td>\n",
              "      <td>apple</td>\n",
              "      <td>203.68</td>\n",
              "      <td>1.515916e+18</td>\n",
              "    </tr>\n",
              "    <tr>\n",
              "      <th>409</th>\n",
              "      <td>2020-04-30 05:48:22 UTC</td>\n",
              "      <td>2298526250039247566</td>\n",
              "      <td>1515966223509088613</td>\n",
              "      <td>2.268105e+18</td>\n",
              "      <td>electronics.audio.headphone</td>\n",
              "      <td>apple</td>\n",
              "      <td>203.68</td>\n",
              "      <td>1.515916e+18</td>\n",
              "    </tr>\n",
              "    <tr>\n",
              "      <th>440</th>\n",
              "      <td>2020-04-30 06:32:26 UTC</td>\n",
              "      <td>2298548426389848086</td>\n",
              "      <td>1515966223509088613</td>\n",
              "      <td>2.268105e+18</td>\n",
              "      <td>electronics.audio.headphone</td>\n",
              "      <td>apple</td>\n",
              "      <td>203.68</td>\n",
              "      <td>1.515916e+18</td>\n",
              "    </tr>\n",
              "    <tr>\n",
              "      <th>496</th>\n",
              "      <td>2020-04-30 07:58:52 UTC</td>\n",
              "      <td>2298591932353347813</td>\n",
              "      <td>1515966223509088613</td>\n",
              "      <td>2.268105e+18</td>\n",
              "      <td>electronics.audio.headphone</td>\n",
              "      <td>apple</td>\n",
              "      <td>203.68</td>\n",
              "      <td>1.515916e+18</td>\n",
              "    </tr>\n",
              "    <tr>\n",
              "      <th>...</th>\n",
              "      <td>...</td>\n",
              "      <td>...</td>\n",
              "      <td>...</td>\n",
              "      <td>...</td>\n",
              "      <td>...</td>\n",
              "      <td>...</td>\n",
              "      <td>...</td>\n",
              "      <td>...</td>\n",
              "    </tr>\n",
              "    <tr>\n",
              "      <th>2630782</th>\n",
              "      <td>2020-11-19 10:03:31 UTC</td>\n",
              "      <td>2388440981134692171</td>\n",
              "      <td>1515966223509088613</td>\n",
              "      <td>2.268105e+18</td>\n",
              "      <td>electronics.audio.headphone</td>\n",
              "      <td>apple</td>\n",
              "      <td>203.68</td>\n",
              "      <td>1.515916e+18</td>\n",
              "    </tr>\n",
              "    <tr>\n",
              "      <th>2630987</th>\n",
              "      <td>2020-11-19 11:58:01 UTC</td>\n",
              "      <td>2388440981134692268</td>\n",
              "      <td>1515966223509088613</td>\n",
              "      <td>2.268105e+18</td>\n",
              "      <td>electronics.audio.headphone</td>\n",
              "      <td>apple</td>\n",
              "      <td>203.68</td>\n",
              "      <td>1.515916e+18</td>\n",
              "    </tr>\n",
              "    <tr>\n",
              "      <th>2632086</th>\n",
              "      <td>2020-11-19 07:10:36 UTC</td>\n",
              "      <td>2388440981134692867</td>\n",
              "      <td>1515966223509088613</td>\n",
              "      <td>2.268105e+18</td>\n",
              "      <td>electronics.audio.headphone</td>\n",
              "      <td>apple</td>\n",
              "      <td>203.68</td>\n",
              "      <td>1.515916e+18</td>\n",
              "    </tr>\n",
              "    <tr>\n",
              "      <th>2633366</th>\n",
              "      <td>2020-11-21 06:53:56 UTC</td>\n",
              "      <td>2388440981134693814</td>\n",
              "      <td>1515966223509088613</td>\n",
              "      <td>2.268105e+18</td>\n",
              "      <td>electronics.audio.headphone</td>\n",
              "      <td>apple</td>\n",
              "      <td>203.68</td>\n",
              "      <td>1.515916e+18</td>\n",
              "    </tr>\n",
              "    <tr>\n",
              "      <th>2633463</th>\n",
              "      <td>2020-11-21 08:57:19 UTC</td>\n",
              "      <td>2388440981134693898</td>\n",
              "      <td>1515966223509088613</td>\n",
              "      <td>2.268105e+18</td>\n",
              "      <td>electronics.audio.headphone</td>\n",
              "      <td>apple</td>\n",
              "      <td>203.68</td>\n",
              "      <td>1.515916e+18</td>\n",
              "    </tr>\n",
              "  </tbody>\n",
              "</table>\n",
              "<p>5880 rows × 8 columns</p>\n",
              "</div>"
            ],
            "text/plain": [
              "                      event_time             order_id  ...   price       user_id\n",
              "34       2020-04-29 10:46:21 UTC  2297951447913857849  ...  203.68  1.515916e+18\n",
              "49       2020-04-29 12:25:34 UTC  2298001389550305634  ...  203.68  1.515916e+18\n",
              "409      2020-04-30 05:48:22 UTC  2298526250039247566  ...  203.68  1.515916e+18\n",
              "440      2020-04-30 06:32:26 UTC  2298548426389848086  ...  203.68  1.515916e+18\n",
              "496      2020-04-30 07:58:52 UTC  2298591932353347813  ...  203.68  1.515916e+18\n",
              "...                          ...                  ...  ...     ...           ...\n",
              "2630782  2020-11-19 10:03:31 UTC  2388440981134692171  ...  203.68  1.515916e+18\n",
              "2630987  2020-11-19 11:58:01 UTC  2388440981134692268  ...  203.68  1.515916e+18\n",
              "2632086  2020-11-19 07:10:36 UTC  2388440981134692867  ...  203.68  1.515916e+18\n",
              "2633366  2020-11-21 06:53:56 UTC  2388440981134693814  ...  203.68  1.515916e+18\n",
              "2633463  2020-11-21 08:57:19 UTC  2388440981134693898  ...  203.68  1.515916e+18\n",
              "\n",
              "[5880 rows x 8 columns]"
            ]
          },
          "metadata": {
            "tags": []
          },
          "execution_count": 15
        }
      ]
    },
    {
      "cell_type": "markdown",
      "metadata": {
        "id": "A7YptaBKAc_U"
      },
      "source": [
        "# Main part"
      ]
    },
    {
      "cell_type": "markdown",
      "metadata": {
        "id": "Rw-vnATWixqz"
      },
      "source": [
        "## Base model (модель выдающая самые популярные товары)"
      ]
    },
    {
      "cell_type": "code",
      "metadata": {
        "id": "frH_2axcixU8"
      },
      "source": [
        "# сортируем по популярности\n",
        "popular_content = (\n",
        "    interactions_train_df\n",
        "    .groupby('product_id')\n",
        "    .user_id.count().reset_index()\n",
        "    .product_id.values\n",
        ")"
      ],
      "execution_count": 16,
      "outputs": []
    },
    {
      "cell_type": "code",
      "metadata": {
        "colab": {
          "base_uri": "https://localhost:8080/"
        },
        "id": "JYFtEcLil0ZP",
        "outputId": "159e70b6-c691-4836-fd21-d77f8bd7c338"
      },
      "source": [
        "popular_content"
      ],
      "execution_count": 17,
      "outputs": [
        {
          "output_type": "execute_result",
          "data": {
            "text/plain": [
              "array([1515966223509088493, 1515966223509088496, 1515966223509088497, ...,\n",
              "       2388434452475855948, 2388434452475855949, 2388434452475855950])"
            ]
          },
          "metadata": {
            "tags": []
          },
          "execution_count": 17
        }
      ]
    },
    {
      "cell_type": "code",
      "metadata": {
        "colab": {
          "base_uri": "https://localhost:8080/"
        },
        "id": "1Mq9mifFmDpA",
        "outputId": "2f332023-bf7e-4a86-f054-c4d136f9599a"
      },
      "source": [
        "print(df.loc[df.product_id == popular_content[0]][['category_code','brand']]) #самый популярный товар"
      ],
      "execution_count": 25,
      "outputs": [
        {
          "output_type": "stream",
          "text": [
            "                  category_code  brand\n",
            "1062     electronics.smartphone  apple\n",
            "5171     electronics.smartphone  apple\n",
            "5411     electronics.smartphone  apple\n",
            "5642     electronics.smartphone  apple\n",
            "5897     electronics.smartphone  apple\n",
            "...                         ...    ...\n",
            "2623072  electronics.smartphone  apple\n",
            "2623327  electronics.smartphone  apple\n",
            "2632629  electronics.smartphone  apple\n",
            "2632637  electronics.smartphone  apple\n",
            "2632876  electronics.smartphone  apple\n",
            "\n",
            "[1440 rows x 2 columns]\n"
          ],
          "name": "stdout"
        }
      ]
    },
    {
      "cell_type": "code",
      "metadata": {
        "id": "EC6DqktNmzQT"
      },
      "source": [
        "top_k = 10\n",
        "\n",
        "interactions['prediction_popular'] = (\n",
        "    interactions.true_train\n",
        "    .apply(\n",
        "        lambda x:\n",
        "        popular_content[~np.in1d(popular_content, x)][:top_k]\n",
        "    )\n",
        ")"
      ],
      "execution_count": 26,
      "outputs": []
    },
    {
      "cell_type": "code",
      "metadata": {
        "id": "pA2fG_08nD_g"
      },
      "source": [
        "# подсчет precision@10\n",
        "def calc_precision(column):\n",
        "    return (\n",
        "        interactions\n",
        "        .apply(\n",
        "            lambda row:\n",
        "            len(set(row['true_test']).intersection(\n",
        "                set(row[column]))) /\n",
        "            min(len(row['true_test']) + 0.001, 10.0),\n",
        "            axis=1)).mean()"
      ],
      "execution_count": 42,
      "outputs": []
    },
    {
      "cell_type": "code",
      "metadata": {
        "colab": {
          "base_uri": "https://localhost:8080/"
        },
        "id": "RXTMXwfNnOYS",
        "outputId": "d4fa89d4-ac8f-4c09-deff-f46bff7de1e0"
      },
      "source": [
        "calc_precision('prediction_popular')"
      ],
      "execution_count": 28,
      "outputs": [
        {
          "output_type": "execute_result",
          "data": {
            "text/plain": [
              "0.0005860024419242492"
            ]
          },
          "metadata": {
            "tags": []
          },
          "execution_count": 28
        }
      ]
    },
    {
      "cell_type": "code",
      "metadata": {
        "id": "af3zSaLunlnR"
      },
      "source": [
        "# финансовый плюс@10\n",
        "price_dict = pd.DataFrame({'price':interactions_full_df.groupby('product_id').mean()['price']}, \n",
        "                          index=interactions_full_df.groupby('product_id').mean().index).to_dict()\n",
        "\n",
        "def proceeds(column):\n",
        "    res = []\n",
        "    for i in interactions.apply(lambda row:\n",
        "            set(row['true_test']).intersection(set(row[column])), axis=1):\n",
        "        res.extend(i)\n",
        "    return sum([price_dict['price'][i] for i in res])"
      ],
      "execution_count": 43,
      "outputs": []
    },
    {
      "cell_type": "code",
      "metadata": {
        "colab": {
          "base_uri": "https://localhost:8080/"
        },
        "id": "krlajm2JC0BO",
        "outputId": "2bcfb6c5-7ca9-418e-811c-6eef438bbd48"
      },
      "source": [
        "proceeds('prediction_popular') #выигрыш в денежном вырадении"
      ],
      "execution_count": 117,
      "outputs": [
        {
          "output_type": "execute_result",
          "data": {
            "text/plain": [
              "13148.054013656954"
            ]
          },
          "metadata": {
            "tags": []
          },
          "execution_count": 117
        }
      ]
    },
    {
      "cell_type": "code",
      "metadata": {
        "colab": {
          "base_uri": "https://localhost:8080/"
        },
        "id": "hiMG9nzyz5c7",
        "outputId": "11951054-274f-4e02-dc9c-18a2911a231c"
      },
      "source": [
        "proceeds('prediction_popular')/proceeds('true_test')*100 # выигрыш в процентном выражении относительно выручки теста"
      ],
      "execution_count": 118,
      "outputs": [
        {
          "output_type": "execute_result",
          "data": {
            "text/plain": [
              "0.20893908690180757"
            ]
          },
          "metadata": {
            "tags": []
          },
          "execution_count": 118
        }
      ]
    },
    {
      "cell_type": "markdown",
      "metadata": {
        "id": "Nkygnmx4DbiC"
      },
      "source": [
        "## Memory-based collaborative filtering"
      ]
    },
    {
      "cell_type": "code",
      "metadata": {
        "id": "IekeVEl-LWMu"
      },
      "source": [
        "interactions_train_df['eventStrength']=np.ones(interactions_train_df.shape[0])"
      ],
      "execution_count": 16,
      "outputs": []
    },
    {
      "cell_type": "code",
      "metadata": {
        "id": "TBaN-W9ZDJ9A"
      },
      "source": [
        "ratings = pd.pivot_table(\n",
        "    interactions_train_df,\n",
        "    values='eventStrength',\n",
        "    index='user_id',\n",
        "    columns='product_id').fillna(0)"
      ],
      "execution_count": 17,
      "outputs": []
    },
    {
      "cell_type": "code",
      "metadata": {
        "id": "Eti4WSm_DxmG"
      },
      "source": [
        "ratings_m = ratings.values"
      ],
      "execution_count": 18,
      "outputs": []
    },
    {
      "cell_type": "code",
      "metadata": {
        "id": "RK6LyvNPO1iG"
      },
      "source": [
        "# матрица корреляций\n",
        "similarity_users = np.corrcoef(ratings_m)"
      ],
      "execution_count": 25,
      "outputs": []
    },
    {
      "cell_type": "code",
      "metadata": {
        "colab": {
          "base_uri": "https://localhost:8080/",
          "height": 66,
          "referenced_widgets": [
            "81b3a178ebca41fb85adef6ebed6e81d",
            "935fe6b3c81844288545eece4440e63b",
            "014251f8c44442f8bb2bd5012a6001bb",
            "0ff90f0284a24da0b64e3ae7ebf84777",
            "5d82d26db58f4dd8a37c15211788899d",
            "46598457d0f24f9e8ff4499351b0af06",
            "85e2eaa0b906498fb19b1de7896fcf3e",
            "667daca46c3b4e8c9697eb64f770e5e8"
          ]
        },
        "id": "LtqNP-_kPj32",
        "outputId": "518ce7a3-c44b-4774-ed6e-e9253b22d4dc"
      },
      "source": [
        "prediction_user_based = []\n",
        "for i in tqdm(range(len(similarity_users))):\n",
        "    users_sim = similarity_users[i] > 0\n",
        "    if len(users_sim) == 0:\n",
        "        prediction_user_based.append([])\n",
        "    else:\n",
        "        tmp_recommend = np.argsort(ratings_m[users_sim].sum(axis=0))[::-1]\n",
        "        tmp_recommend = ratings.columns[tmp_recommend]\n",
        "        recommend = np.array(tmp_recommend)[~np.in1d(tmp_recommend, interactions.iloc[i])][:10]\n",
        "        prediction_user_based.append(list(recommend))\n",
        "interactions['prediction_user_based'] = prediction_user_based"
      ],
      "execution_count": 27,
      "outputs": [
        {
          "output_type": "display_data",
          "data": {
            "application/vnd.jupyter.widget-view+json": {
              "model_id": "81b3a178ebca41fb85adef6ebed6e81d",
              "version_minor": 0,
              "version_major": 2
            },
            "text/plain": [
              "HBox(children=(FloatProgress(value=0.0, max=17238.0), HTML(value='')))"
            ]
          },
          "metadata": {
            "tags": []
          }
        },
        {
          "output_type": "stream",
          "text": [
            "\n"
          ],
          "name": "stdout"
        }
      ]
    },
    {
      "cell_type": "code",
      "metadata": {
        "colab": {
          "base_uri": "https://localhost:8080/"
        },
        "id": "9dFv6dn6dlmR",
        "outputId": "3bffc52c-31ff-4c23-c042-f620960fea17"
      },
      "source": [
        "calc_precision('prediction_user_based')"
      ],
      "execution_count": 28,
      "outputs": [
        {
          "output_type": "execute_result",
          "data": {
            "text/plain": [
              "0.0036360613333033106"
            ]
          },
          "metadata": {
            "tags": []
          },
          "execution_count": 28
        }
      ]
    },
    {
      "cell_type": "code",
      "metadata": {
        "colab": {
          "base_uri": "https://localhost:8080/"
        },
        "id": "CHR59ieJdlmS",
        "outputId": "77830f2f-4756-447d-e837-c28aa170fb71"
      },
      "source": [
        "proceeds('prediction_user_based') #выигрыш в денежном вырадении"
      ],
      "execution_count": 29,
      "outputs": [
        {
          "output_type": "execute_result",
          "data": {
            "text/plain": [
              "68480.28497087724"
            ]
          },
          "metadata": {
            "tags": []
          },
          "execution_count": 29
        }
      ]
    },
    {
      "cell_type": "code",
      "metadata": {
        "colab": {
          "base_uri": "https://localhost:8080/"
        },
        "id": "X3E2fnNBdlmS",
        "outputId": "4a89dfaa-50f7-4cf8-8e69-03eee355b677"
      },
      "source": [
        "proceeds('prediction_user_based')/proceeds('true_test')*100 # выигрыш в процентном выражении относительно выручки теста"
      ],
      "execution_count": 30,
      "outputs": [
        {
          "output_type": "execute_result",
          "data": {
            "text/plain": [
              "1.0882377116589765"
            ]
          },
          "metadata": {
            "tags": []
          },
          "execution_count": 30
        }
      ]
    },
    {
      "cell_type": "markdown",
      "metadata": {
        "id": "Po580-_zYRRP"
      },
      "source": [
        "## Модель разложения со скрытыми переменными"
      ]
    },
    {
      "cell_type": "code",
      "metadata": {
        "colab": {
          "base_uri": "https://localhost:8080/"
        },
        "id": "5UqTyF2gYYuu",
        "outputId": "cfd21375-e904-4d17-aa8d-616939cf29eb"
      },
      "source": [
        "U, sigma, V = svd(ratings)\n",
        "print(ratings.shape, U.shape, sigma.shape, V.shape)"
      ],
      "execution_count": 19,
      "outputs": [
        {
          "output_type": "stream",
          "text": [
            "(17238, 17171) (17238, 17238) (17171,) (17171, 17171)\n"
          ],
          "name": "stdout"
        }
      ]
    },
    {
      "cell_type": "code",
      "metadata": {
        "id": "yd-Fped0YYfZ"
      },
      "source": [
        "# K наиболее важных компонент\n",
        "K = 400\n",
        "sigma[K:] = 0\n",
        "Sigma = np.zeros((17238, 17171))\n",
        "Sigma[:17171, :17171] = np.diag(sigma)"
      ],
      "execution_count": 27,
      "outputs": []
    },
    {
      "cell_type": "code",
      "metadata": {
        "colab": {
          "base_uri": "https://localhost:8080/"
        },
        "id": "1_47mS73YYcX",
        "outputId": "4da4f62d-5da5-4393-bcef-fd5865a45eee"
      },
      "source": [
        "new_ratings = U.dot(Sigma).dot(V)\n",
        "print(sum(sum((new_ratings - ratings.values) ** 2)))\n",
        "print(sum(sum((ratings.values.mean() - ratings.values) ** 2)))"
      ],
      "execution_count": 28,
      "outputs": [
        {
          "output_type": "stream",
          "text": [
            "128591.15027110193\n",
            "250829.08301499774\n"
          ],
          "name": "stdout"
        }
      ]
    },
    {
      "cell_type": "code",
      "metadata": {
        "colab": {
          "base_uri": "https://localhost:8080/",
          "height": 66,
          "referenced_widgets": [
            "832547b92e5b4809b44e17f4277e9b24",
            "5c4096b1d9e647e3be9c1c6fe49e3834",
            "aa762567545d415b892331f21ece1d20",
            "3f24a696cb90431a9c949f81797fbc6b",
            "08940ff417d24075a71c9c66d90fa8b8",
            "6ed0eb22c7ff4a5e8571379ef0b89d31",
            "7fff60e76f854e098cbb982bd493c635",
            "cefb11a6dab34ba8bde99f2d47d3a226"
          ]
        },
        "id": "FVe8j8bMYYYw",
        "outputId": "d4f56329-59de-4ba4-c8b7-baa6df73567e"
      },
      "source": [
        "top_k = 10\n",
        "\n",
        "new_ratings = pd.DataFrame(new_ratings, index=ratings.index, columns=ratings.columns)\n",
        "\n",
        "predictions = []\n",
        "for user_id in tqdm(interactions.index):\n",
        "    prediction = (\n",
        "        new_ratings\n",
        "        .loc[user_id]\n",
        "        .sort_values(ascending=False)\n",
        "        .index.values\n",
        "    )\n",
        "    \n",
        "    predictions.append(\n",
        "        list(prediction[~np.in1d(\n",
        "            prediction,\n",
        "            interactions.loc[user_id, 'true_train'])])[:top_k])\n",
        "interactions['prediction_svd'] = predictions"
      ],
      "execution_count": 31,
      "outputs": [
        {
          "output_type": "display_data",
          "data": {
            "application/vnd.jupyter.widget-view+json": {
              "model_id": "832547b92e5b4809b44e17f4277e9b24",
              "version_minor": 0,
              "version_major": 2
            },
            "text/plain": [
              "HBox(children=(FloatProgress(value=0.0, max=17238.0), HTML(value='')))"
            ]
          },
          "metadata": {
            "tags": []
          }
        },
        {
          "output_type": "stream",
          "text": [
            "\n"
          ],
          "name": "stdout"
        }
      ]
    },
    {
      "cell_type": "code",
      "metadata": {
        "colab": {
          "base_uri": "https://localhost:8080/"
        },
        "id": "y0-Gme-vaH4W",
        "outputId": "eceb5304-9895-4619-db74-4cb79009ae9c"
      },
      "source": [
        "calc_precision('prediction_svd')"
      ],
      "execution_count": 35,
      "outputs": [
        {
          "output_type": "execute_result",
          "data": {
            "text/plain": [
              "0.003869806707793473"
            ]
          },
          "metadata": {
            "tags": []
          },
          "execution_count": 35
        }
      ]
    },
    {
      "cell_type": "code",
      "metadata": {
        "colab": {
          "base_uri": "https://localhost:8080/"
        },
        "id": "zvlk7JawaH4X",
        "outputId": "a3ae0084-e2bf-4ee6-f150-3284cab1756e"
      },
      "source": [
        "proceeds('prediction_svd') #выигрыш в денежном вырадении"
      ],
      "execution_count": 36,
      "outputs": [
        {
          "output_type": "execute_result",
          "data": {
            "text/plain": [
              "33022.86034778828"
            ]
          },
          "metadata": {
            "tags": []
          },
          "execution_count": 36
        }
      ]
    },
    {
      "cell_type": "code",
      "metadata": {
        "colab": {
          "base_uri": "https://localhost:8080/"
        },
        "id": "LoYdetnTaH4Y",
        "outputId": "2343a217-cbf1-463a-f79a-41519b95975a"
      },
      "source": [
        "proceeds('prediction_svd')/proceeds('true_test')*100 # выигрыш в процентном выражении относительно выручки теста"
      ],
      "execution_count": 37,
      "outputs": [
        {
          "output_type": "execute_result",
          "data": {
            "text/plain": [
              "0.5247747142494218"
            ]
          },
          "metadata": {
            "tags": []
          },
          "execution_count": 37
        }
      ]
    },
    {
      "cell_type": "markdown",
      "metadata": {
        "id": "tNu30zuuDvHf"
      },
      "source": [
        "## Factorization Machines"
      ]
    },
    {
      "cell_type": "code",
      "metadata": {
        "colab": {
          "base_uri": "https://localhost:8080/"
        },
        "id": "hMSXdVUNyIJ0",
        "outputId": "65d80bc1-c75c-4d52-ada5-7ca772fb9466"
      },
      "source": [
        "!pip install git+https://github.com/coreylynch/pyFM"
      ],
      "execution_count": 65,
      "outputs": [
        {
          "output_type": "stream",
          "text": [
            "Collecting git+https://github.com/coreylynch/pyFM\n",
            "  Cloning https://github.com/coreylynch/pyFM to /tmp/pip-req-build-fdn9947u\n",
            "  Running command git clone -q https://github.com/coreylynch/pyFM /tmp/pip-req-build-fdn9947u\n",
            "Requirement already satisfied (use --upgrade to upgrade): pyfm==0.0.0 from git+https://github.com/coreylynch/pyFM in /usr/local/lib/python3.7/dist-packages\n",
            "Building wheels for collected packages: pyfm\n",
            "  Building wheel for pyfm (setup.py) ... \u001b[?25l\u001b[?25hdone\n",
            "  Created wheel for pyfm: filename=pyfm-0.0.0-cp37-cp37m-linux_x86_64.whl size=216597 sha256=4b82f70482107614cc83d72db4f740bfb8d8e8f402332b7409fa8abf1fa8a33a\n",
            "  Stored in directory: /tmp/pip-ephem-wheel-cache-c8q0ikjr/wheels/3b/d9/ef/1b148c527d39344632833679e79b3db1798a40b0f64f917b13\n",
            "Successfully built pyfm\n"
          ],
          "name": "stdout"
        }
      ]
    },
    {
      "cell_type": "code",
      "metadata": {
        "id": "rl97HDCJy2Pe"
      },
      "source": [
        "from pyfm import pylibfm\n",
        "from sklearn.feature_extraction import DictVectorizer"
      ],
      "execution_count": 66,
      "outputs": []
    },
    {
      "cell_type": "code",
      "metadata": {
        "colab": {
          "base_uri": "https://localhost:8080/",
          "height": 66,
          "referenced_widgets": [
            "c5aaed8b9118436c9d86e76684784d56",
            "0036672c91084305b2a41f2d9e1391d5",
            "800f7f920e44444cae8b67430e46d423",
            "b2cd5164087d431f94bbb6bbc7594dd3",
            "e426b2334ba84b25b17b76736ec26be1",
            "e2a03c8479a744e99b71d657325e6e61",
            "8f0a33e78cc04dc7b71234f6a44d553e",
            "660271abc7cd4717a91a03a5505fd793"
          ]
        },
        "id": "XuClaRrYy4_g",
        "outputId": "4438db97-279d-4332-d2f7-518c0579f88d"
      },
      "source": [
        "train_dataset_fm = []\n",
        "\n",
        "for i in tqdm(range(0, interactions_train_df.shape[0])):\n",
        "    user = interactions_train_df.iloc[i]['user_id'].astype(int)\n",
        "    item = interactions_train_df.iloc[i]['product_id'].astype(int)\n",
        "    train_dataset_fm += [{'user': str(user), 'item': str(item)}]\n",
        "y_train = np.ones(interactions_train_df.shape[0])"
      ],
      "execution_count": 67,
      "outputs": [
        {
          "output_type": "display_data",
          "data": {
            "application/vnd.jupyter.widget-view+json": {
              "model_id": "c5aaed8b9118436c9d86e76684784d56",
              "version_minor": 0,
              "version_major": 2
            },
            "text/plain": [
              "HBox(children=(FloatProgress(value=0.0, max=251042.0), HTML(value='')))"
            ]
          },
          "metadata": {
            "tags": []
          }
        },
        {
          "output_type": "stream",
          "text": [
            "\n"
          ],
          "name": "stdout"
        }
      ]
    },
    {
      "cell_type": "code",
      "metadata": {
        "colab": {
          "base_uri": "https://localhost:8080/"
        },
        "id": "_ix_CM3vzx-1",
        "outputId": "8676ecc4-efbb-4ff3-c70b-a49fc97055d5"
      },
      "source": [
        "train_dataset_fm[:5]"
      ],
      "execution_count": 68,
      "outputs": [
        {
          "output_type": "execute_result",
          "data": {
            "text/plain": [
              "[{'item': '1515966223509090304', 'user': '1515915625479406080'},\n",
              " {'item': '2273948186349404160', 'user': '1515915625484433920'},\n",
              " {'item': '2273948180989083648', 'user': '1515915625484433920'},\n",
              " {'item': '1515966223510673664', 'user': '1515915625484433920'},\n",
              " {'item': '1515966223510225664', 'user': '1515915625484433920'}]"
            ]
          },
          "metadata": {
            "tags": []
          },
          "execution_count": 68
        }
      ]
    },
    {
      "cell_type": "code",
      "metadata": {
        "id": "NPhWxau_1vaz"
      },
      "source": [
        "v = DictVectorizer()\n",
        "X_train = v.fit_transform(train_dataset_fm)\n",
        "y_train = np.array(y_train)"
      ],
      "execution_count": 69,
      "outputs": []
    },
    {
      "cell_type": "code",
      "metadata": {
        "colab": {
          "base_uri": "https://localhost:8080/"
        },
        "id": "C68oCh9s101K",
        "outputId": "6a22cbaa-cbcd-492e-a3de-61e837f372e4"
      },
      "source": [
        "%%time\n",
        "fm = pylibfm.FM(num_factors=32, num_iter=20, verbose=True, task=\"classification\", \n",
        "                initial_learning_rate=0.01, learning_rate_schedule=\"optimal\")\n",
        "fm.fit(X_train, y_train)"
      ],
      "execution_count": 70,
      "outputs": [
        {
          "output_type": "stream",
          "text": [
            "Creating validation dataset of 0.01 of training for adaptive regularization\n",
            "-- Epoch 1\n",
            "Training log loss: 0.00330\n",
            "-- Epoch 2\n",
            "Training log loss: 0.00028\n",
            "-- Epoch 3\n",
            "Training log loss: 0.00016\n",
            "-- Epoch 4\n",
            "Training log loss: 0.00012\n",
            "-- Epoch 5\n",
            "Training log loss: 0.00009\n",
            "-- Epoch 6\n",
            "Training log loss: 0.00007\n",
            "-- Epoch 7\n",
            "Training log loss: 0.00006\n",
            "-- Epoch 8\n",
            "Training log loss: 0.00005\n",
            "-- Epoch 9\n",
            "Training log loss: 0.00005\n",
            "-- Epoch 10\n",
            "Training log loss: 0.00004\n",
            "-- Epoch 11\n",
            "Training log loss: 0.00004\n",
            "-- Epoch 12\n",
            "Training log loss: 0.00003\n",
            "-- Epoch 13\n",
            "Training log loss: 0.00003\n",
            "-- Epoch 14\n",
            "Training log loss: 0.00003\n",
            "-- Epoch 15\n",
            "Training log loss: 0.00003\n",
            "-- Epoch 16\n",
            "Training log loss: 0.00003\n",
            "-- Epoch 17\n",
            "Training log loss: 0.00002\n",
            "-- Epoch 18\n",
            "Training log loss: 0.00002\n",
            "-- Epoch 19\n",
            "Training log loss: 0.00002\n",
            "-- Epoch 20\n",
            "Training log loss: 0.00002\n",
            "CPU times: user 3min 44s, sys: 1.45 s, total: 3min 45s\n",
            "Wall time: 3min 43s\n"
          ],
          "name": "stdout"
        }
      ]
    },
    {
      "cell_type": "code",
      "metadata": {
        "colab": {
          "base_uri": "https://localhost:8080/",
          "height": 66,
          "referenced_widgets": [
            "7546f51735bb4251af6fd46edbe3d823",
            "d877ae2fbbd44375932ba158df4ff834",
            "af9e6f5bd0194842b5f591d53e94db49",
            "cd7658adfde7466fa3f75aafb1330c5c",
            "ba8a9d6994834907919950a438f30ecc",
            "3fcc6ab5e9134e0883990af3585fc603",
            "3a8f685de3274ac0808fe69553285440",
            "b3078a34cda443cfa4910455e073ff1b"
          ]
        },
        "id": "gYYMy_SO-ssg",
        "outputId": "7efb33ff-dace-422f-96f8-631905d81210"
      },
      "source": [
        "test_dataset_fm = []\n",
        "\n",
        "for i in tqdm(range(0, interactions_test_df.shape[0])):\n",
        "    user = interactions_test_df.iloc[i]['user_id'].astype(int)\n",
        "    item = interactions_test_df.iloc[i]['product_id'].astype(int)\n",
        "    test_dataset_fm += [{'user': str(user), 'item': str(item)}]\n",
        "y_test = np.ones(interactions_test_df.shape[0])"
      ],
      "execution_count": 71,
      "outputs": [
        {
          "output_type": "display_data",
          "data": {
            "application/vnd.jupyter.widget-view+json": {
              "model_id": "7546f51735bb4251af6fd46edbe3d823",
              "version_minor": 0,
              "version_major": 2
            },
            "text/plain": [
              "HBox(children=(FloatProgress(value=0.0, max=83683.0), HTML(value='')))"
            ]
          },
          "metadata": {
            "tags": []
          }
        },
        {
          "output_type": "stream",
          "text": [
            "\n"
          ],
          "name": "stdout"
        }
      ]
    },
    {
      "cell_type": "code",
      "metadata": {
        "id": "cPduWVjr-ssh"
      },
      "source": [
        "X_test = v.transform(test_dataset_fm)\n",
        "y_test = np.array(y_test)"
      ],
      "execution_count": 72,
      "outputs": []
    },
    {
      "cell_type": "code",
      "metadata": {
        "colab": {
          "base_uri": "https://localhost:8080/",
          "height": 66,
          "referenced_widgets": [
            "ed64d9e033794f3dabc74c7062c7de9f",
            "8ff4d9d6aa5b48868206e9cead5e77e8",
            "8b6e3969881447109c1df8449c5abe0b",
            "e1fdd85fabdb4fb8ab5c234544d6d444",
            "a8fd08f54d3f480db320909b1f89d6aa",
            "323580be6f0041ef856c1594e490b98d",
            "67adb330128848519b97cc3e222c3130",
            "0faac95aa8f5466480abe9e8cd612048"
          ]
        },
        "id": "3_bxLDLR_8iJ",
        "outputId": "e8f476af-9999-4ac6-a134-c6088237e32b"
      },
      "source": [
        "products = interactions_full_df.product_id.unique()\n",
        "predictionsss = []\n",
        "for user in tqdm(interactions.index):\n",
        "    X_test_dict = []\n",
        "    for item in products:\n",
        "        X_test_dict += [{'user': str(user), 'item': str(item)}]\n",
        "    X_test = v.transform(X_test_dict)\n",
        "    pred = fm.predict(X_test)\n",
        "    test = pd.DataFrame({'product_id':products, 'prediction':pred})\n",
        "    predictionsss.append(test.sort_values('prediction', ascending=False)['product_id'][:10])\n",
        "    \n",
        "interactions['prediction_fm'] = predictionsss"
      ],
      "execution_count": 74,
      "outputs": [
        {
          "output_type": "display_data",
          "data": {
            "application/vnd.jupyter.widget-view+json": {
              "model_id": "ed64d9e033794f3dabc74c7062c7de9f",
              "version_minor": 0,
              "version_major": 2
            },
            "text/plain": [
              "HBox(children=(FloatProgress(value=0.0, max=17238.0), HTML(value='')))"
            ]
          },
          "metadata": {
            "tags": []
          }
        },
        {
          "output_type": "stream",
          "text": [
            "\n"
          ],
          "name": "stdout"
        }
      ]
    },
    {
      "cell_type": "code",
      "metadata": {
        "colab": {
          "base_uri": "https://localhost:8080/"
        },
        "id": "dQ34ruhzD6pN",
        "outputId": "58a6db33-c7be-4db9-97cd-359832767f7d"
      },
      "source": [
        "calc_precision('prediction_fm')"
      ],
      "execution_count": 75,
      "outputs": [
        {
          "output_type": "execute_result",
          "data": {
            "text/plain": [
              "8.801826662361938e-05"
            ]
          },
          "metadata": {
            "tags": []
          },
          "execution_count": 75
        }
      ]
    },
    {
      "cell_type": "code",
      "metadata": {
        "colab": {
          "base_uri": "https://localhost:8080/"
        },
        "id": "qYTwfwwMD6pg",
        "outputId": "ae113216-659a-4d8e-98d3-8820afcd3ab8"
      },
      "source": [
        "proceeds('prediction_fm') #выигрыш в денежном вырадении"
      ],
      "execution_count": 76,
      "outputs": [
        {
          "output_type": "execute_result",
          "data": {
            "text/plain": [
              "1123.1032051282052"
            ]
          },
          "metadata": {
            "tags": []
          },
          "execution_count": 76
        }
      ]
    },
    {
      "cell_type": "code",
      "metadata": {
        "colab": {
          "base_uri": "https://localhost:8080/"
        },
        "id": "SVb3FcLdD6pg",
        "outputId": "686f3b8b-4548-4b38-9cfa-c08c77f3bf32"
      },
      "source": [
        "proceeds('prediction_fm')/proceeds('true_test')*100 # выигрыш в процентном выражении относительно выручки теста"
      ],
      "execution_count": 77,
      "outputs": [
        {
          "output_type": "execute_result",
          "data": {
            "text/plain": [
              "0.017847520091736613"
            ]
          },
          "metadata": {
            "tags": []
          },
          "execution_count": 77
        }
      ]
    },
    {
      "cell_type": "markdown",
      "metadata": {
        "id": "BY84LZTxw2Cj"
      },
      "source": [
        "## Другая модель FM"
      ]
    },
    {
      "cell_type": "code",
      "metadata": {
        "colab": {
          "base_uri": "https://localhost:8080/"
        },
        "id": "bV44uYhGANiA",
        "outputId": "1e1e9294-0e59-422a-d186-2ff5f4b25395"
      },
      "source": [
        "!pip install lightfm\n",
        "from lightfm import LightFM\n",
        "from lightfm.evaluation import precision_at_k\n",
        "from lightfm.data import Dataset"
      ],
      "execution_count": 16,
      "outputs": [
        {
          "output_type": "stream",
          "text": [
            "Requirement already satisfied: lightfm in /usr/local/lib/python3.7/dist-packages (1.16)\n",
            "Requirement already satisfied: requests in /usr/local/lib/python3.7/dist-packages (from lightfm) (2.23.0)\n",
            "Requirement already satisfied: scipy>=0.17.0 in /usr/local/lib/python3.7/dist-packages (from lightfm) (1.4.1)\n",
            "Requirement already satisfied: numpy in /usr/local/lib/python3.7/dist-packages (from lightfm) (1.19.5)\n",
            "Requirement already satisfied: scikit-learn in /usr/local/lib/python3.7/dist-packages (from lightfm) (0.22.2.post1)\n",
            "Requirement already satisfied: chardet<4,>=3.0.2 in /usr/local/lib/python3.7/dist-packages (from requests->lightfm) (3.0.4)\n",
            "Requirement already satisfied: idna<3,>=2.5 in /usr/local/lib/python3.7/dist-packages (from requests->lightfm) (2.10)\n",
            "Requirement already satisfied: certifi>=2017.4.17 in /usr/local/lib/python3.7/dist-packages (from requests->lightfm) (2020.12.5)\n",
            "Requirement already satisfied: urllib3!=1.25.0,!=1.25.1,<1.26,>=1.21.1 in /usr/local/lib/python3.7/dist-packages (from requests->lightfm) (1.24.3)\n",
            "Requirement already satisfied: joblib>=0.11 in /usr/local/lib/python3.7/dist-packages (from scikit-learn->lightfm) (1.0.1)\n"
          ],
          "name": "stdout"
        }
      ]
    },
    {
      "cell_type": "code",
      "metadata": {
        "id": "x9CLpaP1AomB"
      },
      "source": [
        "data = Dataset()\n",
        "data.fit(interactions_full_df.user_id.astype(int).unique(), interactions_full_df.product_id.astype(int).unique())\n",
        "interactions_train_matrix, data_train = data.build_interactions([tuple(i) for i in interactions_train_df[['user_id', 'product_id']].astype(int).values])\n",
        "interactions_test_matrix, data_test = data.build_interactions([tuple(i) for i in interactions_test_df[['user_id', 'product_id']].astype(int).values])"
      ],
      "execution_count": 17,
      "outputs": []
    },
    {
      "cell_type": "code",
      "metadata": {
        "id": "G7gggPWuLYpR"
      },
      "source": [
        "len_users = len(interactions_full_df.user_id.unique())\n",
        "len_items = len(interactions_full_df.product_id.unique())\n",
        "users_test = (np.ones((len_items,len_users))*np.arange(0,len_users)).T.reshape(len_items*len_users)\n",
        "items_test = (np.ones((len_items,len_users)).T*np.arange(0,len_items)).reshape(len_items*len_users)"
      ],
      "execution_count": 18,
      "outputs": []
    },
    {
      "cell_type": "code",
      "metadata": {
        "colab": {
          "base_uri": "https://localhost:8080/"
        },
        "id": "fE-wbJRBZoki",
        "outputId": "9e401d80-f976-45d1-887d-293029cf6d18"
      },
      "source": [
        "users_test"
      ],
      "execution_count": 19,
      "outputs": [
        {
          "output_type": "execute_result",
          "data": {
            "text/plain": [
              "array([    0.,     0.,     0., ..., 17703., 17703., 17703.])"
            ]
          },
          "metadata": {
            "tags": []
          },
          "execution_count": 19
        }
      ]
    },
    {
      "cell_type": "code",
      "metadata": {
        "id": "sdlXonj2B6jk"
      },
      "source": [
        "lfm = LightFM(loss='warp')\n",
        "lfm.fit(interactions_train_matrix, sample_weight = data_train)\n",
        "pred = lfm.predict(users_test, items_test)"
      ],
      "execution_count": 20,
      "outputs": []
    },
    {
      "cell_type": "code",
      "metadata": {
        "id": "SG373z5bWfgp"
      },
      "source": [
        "userss = {v: k for k, v in data.mapping()[0].items()}\n",
        "itemss = {v: k for k, v in data.mapping()[2].items()}"
      ],
      "execution_count": 21,
      "outputs": []
    },
    {
      "cell_type": "code",
      "metadata": {
        "id": "l8RXeul9jjCO"
      },
      "source": [
        "fin_pred = pred.reshape((len_users,len_items)).argsort()[::-1][:,:10]"
      ],
      "execution_count": 22,
      "outputs": []
    },
    {
      "cell_type": "code",
      "metadata": {
        "colab": {
          "base_uri": "https://localhost:8080/"
        },
        "id": "OUSDVTXikuxw",
        "outputId": "c9e9e55c-86f5-4a83-8899-2fe312e80e13"
      },
      "source": [
        "fin_pred.shape"
      ],
      "execution_count": 24,
      "outputs": [
        {
          "output_type": "execute_result",
          "data": {
            "text/plain": [
              "(17704, 10)"
            ]
          },
          "metadata": {
            "tags": []
          },
          "execution_count": 24
        }
      ]
    },
    {
      "cell_type": "code",
      "metadata": {
        "colab": {
          "base_uri": "https://localhost:8080/"
        },
        "id": "1yGy9pdzmH4Z",
        "outputId": "ec33240b-9026-46f3-8dc1-224a9f08200e"
      },
      "source": [
        "fin_pred[4]"
      ],
      "execution_count": 34,
      "outputs": [
        {
          "output_type": "execute_result",
          "data": {
            "text/plain": [
              "array([18525,  4428, 17393, 11540, 17336, 18648, 18816,  9176, 18001,\n",
              "       18232])"
            ]
          },
          "metadata": {
            "tags": []
          },
          "execution_count": 34
        }
      ]
    },
    {
      "cell_type": "code",
      "metadata": {
        "colab": {
          "base_uri": "https://localhost:8080/"
        },
        "id": "xDoth9ULlbVp",
        "outputId": "8c79e8b9-f907-46d8-9cf6-b680edbb5260"
      },
      "source": [
        "len(userss.values())"
      ],
      "execution_count": 29,
      "outputs": [
        {
          "output_type": "execute_result",
          "data": {
            "text/plain": [
              "17704"
            ]
          },
          "metadata": {
            "tags": []
          },
          "execution_count": 29
        }
      ]
    },
    {
      "cell_type": "code",
      "metadata": {
        "colab": {
          "base_uri": "https://localhost:8080/",
          "height": 66,
          "referenced_widgets": [
            "37d65b11ff3543cfb8270adc76a79bd9",
            "e9206df3327f406b8faa29f2f738a234",
            "ba556a079a344d109f555c8f581a87e5",
            "1b191c904c544c09a9f33d88f5a42f2a",
            "9ef4dc82a8f842aeb0033482fd564397",
            "489fe0920cd94085af38c94ece8a6b83",
            "84366ee68b0b4b9296395ab6a47a3154",
            "81366a7ee6814b5db90086c38350fa68"
          ]
        },
        "id": "vQVne15oMS38",
        "outputId": "4af80c2f-fe61-4c28-bd3b-3f6697b9ffa6"
      },
      "source": [
        "top_k = 10\n",
        "\n",
        "tmp_predictions = []\n",
        "\n",
        "for (n, personId) in tqdm(userss.items()):\n",
        "    if personId in interactions.index:\n",
        "      prediction = np.asarray([itemss[i] for i in fin_pred[n]])\n",
        "      \n",
        "      tmp_predictions.append(\n",
        "          list(prediction[~np.in1d(\n",
        "              prediction,\n",
        "              interactions.loc[personId, 'true_train'])])[:top_k])\n",
        "\n",
        "    \n",
        "interactions['prediction_content'] = tmp_predictions"
      ],
      "execution_count": 39,
      "outputs": [
        {
          "output_type": "display_data",
          "data": {
            "application/vnd.jupyter.widget-view+json": {
              "model_id": "37d65b11ff3543cfb8270adc76a79bd9",
              "version_minor": 0,
              "version_major": 2
            },
            "text/plain": [
              "HBox(children=(FloatProgress(value=0.0, max=17704.0), HTML(value='')))"
            ]
          },
          "metadata": {
            "tags": []
          }
        },
        {
          "output_type": "stream",
          "text": [
            "\n"
          ],
          "name": "stdout"
        }
      ]
    },
    {
      "cell_type": "code",
      "metadata": {
        "colab": {
          "base_uri": "https://localhost:8080/"
        },
        "id": "kHlCBCaXMZT_",
        "outputId": "762d6e26-19dd-4bd5-e229-0a4aecb15501"
      },
      "source": [
        "calc_precision('prediction_content')"
      ],
      "execution_count": 44,
      "outputs": [
        {
          "output_type": "execute_result",
          "data": {
            "text/plain": [
              "3.4387646666087006e-05"
            ]
          },
          "metadata": {
            "tags": []
          },
          "execution_count": 44
        }
      ]
    },
    {
      "cell_type": "code",
      "metadata": {
        "colab": {
          "base_uri": "https://localhost:8080/"
        },
        "id": "G9J9GzmjnOxr",
        "outputId": "febc4bf0-f3e9-4e71-a3d6-f4f07ffc95d9"
      },
      "source": [
        "proceeds('prediction_content') #выигрыш в денежном вырадении"
      ],
      "execution_count": 47,
      "outputs": [
        {
          "output_type": "execute_result",
          "data": {
            "text/plain": [
              "183.94533333333334"
            ]
          },
          "metadata": {
            "tags": []
          },
          "execution_count": 47
        }
      ]
    },
    {
      "cell_type": "code",
      "metadata": {
        "colab": {
          "base_uri": "https://localhost:8080/"
        },
        "id": "lEF44XN8nOxv",
        "outputId": "5e892a46-08d1-496a-9a51-1b877be78c62"
      },
      "source": [
        "proceeds('prediction_content')/proceeds('true_test')*100 # выигрыш в процентном выражении относительно выручки теста"
      ],
      "execution_count": 48,
      "outputs": [
        {
          "output_type": "execute_result",
          "data": {
            "text/plain": [
              "0.0029231223074224024"
            ]
          },
          "metadata": {
            "tags": []
          },
          "execution_count": 48
        }
      ]
    },
    {
      "cell_type": "markdown",
      "metadata": {
        "id": "wkS5xLVpphlm"
      },
      "source": [
        "# Модели на 50 предсказаний"
      ]
    },
    {
      "cell_type": "markdown",
      "metadata": {
        "id": "pmUQJBLypgCx"
      },
      "source": [
        "## Base model (модель выдающая самые популярные товары)"
      ]
    },
    {
      "cell_type": "code",
      "metadata": {
        "id": "op4I3RBHpgDC"
      },
      "source": [
        "# сортируем по популярности\n",
        "popular_content = (\n",
        "    interactions_train_df\n",
        "    .groupby('product_id')\n",
        "    .user_id.count().reset_index()\n",
        "    .product_id.values\n",
        ")"
      ],
      "execution_count": 17,
      "outputs": []
    },
    {
      "cell_type": "code",
      "metadata": {
        "id": "2dL7UkCDpgDD"
      },
      "source": [
        "top_k = 50\n",
        "\n",
        "interactions['prediction_popular'] = (\n",
        "    interactions.true_train\n",
        "    .apply(\n",
        "        lambda x:\n",
        "        popular_content[~np.in1d(popular_content, x)][:top_k]\n",
        "    )\n",
        ")"
      ],
      "execution_count": 18,
      "outputs": []
    },
    {
      "cell_type": "code",
      "metadata": {
        "id": "G9n_fnaOpgDD"
      },
      "source": [
        "# подсчет precision@50\n",
        "def calc_precision(column):\n",
        "    return (\n",
        "        interactions\n",
        "        .apply(\n",
        "            lambda row:\n",
        "            len(set(row['true_test']).intersection(\n",
        "                set(row[column]))) /\n",
        "            min(len(row['true_test']) + 0.001, 50.0),\n",
        "            axis=1)).mean()"
      ],
      "execution_count": 81,
      "outputs": []
    },
    {
      "cell_type": "code",
      "metadata": {
        "colab": {
          "base_uri": "https://localhost:8080/"
        },
        "id": "eAv0-nnupgDE",
        "outputId": "b17548b4-8802-4881-9401-bb696282df36"
      },
      "source": [
        "calc_precision('prediction_popular')"
      ],
      "execution_count": 20,
      "outputs": [
        {
          "output_type": "execute_result",
          "data": {
            "text/plain": [
              "0.00664422910858329"
            ]
          },
          "metadata": {
            "tags": []
          },
          "execution_count": 20
        }
      ]
    },
    {
      "cell_type": "code",
      "metadata": {
        "id": "chrvbXBJpgDF"
      },
      "source": [
        "# финансовый плюс@50\n",
        "price_dict = pd.DataFrame({'price':interactions_full_df.groupby('product_id').mean()['price']}, \n",
        "                          index=interactions_full_df.groupby('product_id').mean().index).to_dict()\n",
        "\n",
        "def proceeds(column):\n",
        "    res = []\n",
        "    for i in interactions.apply(lambda row:\n",
        "            set(row['true_test']).intersection(set(row[column])), axis=1):\n",
        "        res.extend(i)\n",
        "    return sum([price_dict['price'][i] for i in res])"
      ],
      "execution_count": 82,
      "outputs": []
    },
    {
      "cell_type": "code",
      "metadata": {
        "colab": {
          "base_uri": "https://localhost:8080/"
        },
        "id": "T7xJRe9KpgDF",
        "outputId": "819c2b59-c578-4565-83fc-e1ad5b355302"
      },
      "source": [
        "proceeds('prediction_popular') #выигрыш в денежном вырадении"
      ],
      "execution_count": 22,
      "outputs": [
        {
          "output_type": "execute_result",
          "data": {
            "text/plain": [
              "251192.68625825358"
            ]
          },
          "metadata": {
            "tags": []
          },
          "execution_count": 22
        }
      ]
    },
    {
      "cell_type": "code",
      "metadata": {
        "colab": {
          "base_uri": "https://localhost:8080/"
        },
        "id": "5DsgACA6pgDF",
        "outputId": "ea2cb44e-6bbb-4b46-9d68-8a7927b0ab82"
      },
      "source": [
        "proceeds('prediction_popular')/proceeds('true_test')*100 # выигрыш в процентном выражении относительно выручки теста"
      ],
      "execution_count": 23,
      "outputs": [
        {
          "output_type": "execute_result",
          "data": {
            "text/plain": [
              "3.99176718080838"
            ]
          },
          "metadata": {
            "tags": []
          },
          "execution_count": 23
        }
      ]
    },
    {
      "cell_type": "markdown",
      "metadata": {
        "id": "v84u7LMYpgDI"
      },
      "source": [
        "## Memory-based collaborative filtering"
      ]
    },
    {
      "cell_type": "code",
      "metadata": {
        "id": "QYOz-2jTpgDI"
      },
      "source": [
        "interactions_train_df['eventStrength']=np.ones(interactions_train_df.shape[0])"
      ],
      "execution_count": 24,
      "outputs": []
    },
    {
      "cell_type": "code",
      "metadata": {
        "id": "U2ydB5OWpgDI"
      },
      "source": [
        "ratings = pd.pivot_table(\n",
        "    interactions_train_df,\n",
        "    values='eventStrength',\n",
        "    index='user_id',\n",
        "    columns='product_id').fillna(0)"
      ],
      "execution_count": 25,
      "outputs": []
    },
    {
      "cell_type": "code",
      "metadata": {
        "id": "_3aRGKampgDJ"
      },
      "source": [
        "ratings_m = ratings.values"
      ],
      "execution_count": 26,
      "outputs": []
    },
    {
      "cell_type": "code",
      "metadata": {
        "id": "9AKNXMltpgDJ"
      },
      "source": [
        "# матрица корреляций\n",
        "similarity_users = np.corrcoef(ratings_m)"
      ],
      "execution_count": 27,
      "outputs": []
    },
    {
      "cell_type": "code",
      "metadata": {
        "colab": {
          "base_uri": "https://localhost:8080/",
          "height": 66,
          "referenced_widgets": [
            "4fd338bd4eb44ab9a2c07d7b25206fc1",
            "29b26918a8fb472fb4313f4d0046bc4f",
            "e0ad2b5e20124eb293f3642e5c255bfb",
            "43c06292d4814dcab7173af285e7d0e0",
            "5ecee4deee584484937d075528adf3f8",
            "4da6d6c489204a78a44d040b0cb4823c",
            "9bbdd021791d4e3186947f1a13dd4758",
            "f1f2364b06154950b654a355577014b0"
          ]
        },
        "id": "uBuPjALspgDJ",
        "outputId": "ffda85b0-4774-4334-ba79-5fff74dba37d"
      },
      "source": [
        "prediction_user_based = []\n",
        "for i in tqdm(range(len(similarity_users))):\n",
        "    users_sim = similarity_users[i] > 0\n",
        "    if len(users_sim) == 0:\n",
        "        prediction_user_based.append([])\n",
        "    else:\n",
        "        tmp_recommend = np.argsort(ratings_m[users_sim].sum(axis=0))[::-1]\n",
        "        tmp_recommend = ratings.columns[tmp_recommend]\n",
        "        recommend = np.array(tmp_recommend)[~np.in1d(tmp_recommend, interactions.iloc[i])][:50]\n",
        "        prediction_user_based.append(list(recommend))\n",
        "interactions['prediction_user_based'] = prediction_user_based"
      ],
      "execution_count": 28,
      "outputs": [
        {
          "output_type": "display_data",
          "data": {
            "application/vnd.jupyter.widget-view+json": {
              "model_id": "4fd338bd4eb44ab9a2c07d7b25206fc1",
              "version_minor": 0,
              "version_major": 2
            },
            "text/plain": [
              "HBox(children=(FloatProgress(value=0.0, max=17238.0), HTML(value='')))"
            ]
          },
          "metadata": {
            "tags": []
          }
        },
        {
          "output_type": "stream",
          "text": [
            "\n"
          ],
          "name": "stdout"
        }
      ]
    },
    {
      "cell_type": "code",
      "metadata": {
        "colab": {
          "base_uri": "https://localhost:8080/"
        },
        "id": "-xZ1529FpgDK",
        "outputId": "35c458b4-c2e9-4d5d-d417-76d53ac3d093"
      },
      "source": [
        "calc_precision('prediction_user_based')"
      ],
      "execution_count": 29,
      "outputs": [
        {
          "output_type": "execute_result",
          "data": {
            "text/plain": [
              "0.013309346379243307"
            ]
          },
          "metadata": {
            "tags": []
          },
          "execution_count": 29
        }
      ]
    },
    {
      "cell_type": "code",
      "metadata": {
        "colab": {
          "base_uri": "https://localhost:8080/"
        },
        "id": "0rTh3hm0pgDK",
        "outputId": "f8701e76-2781-4bcd-8460-e232159a9ebc"
      },
      "source": [
        "proceeds('prediction_user_based') #выигрыш в денежном вырадении"
      ],
      "execution_count": 30,
      "outputs": [
        {
          "output_type": "execute_result",
          "data": {
            "text/plain": [
              "311622.83492096135"
            ]
          },
          "metadata": {
            "tags": []
          },
          "execution_count": 30
        }
      ]
    },
    {
      "cell_type": "code",
      "metadata": {
        "colab": {
          "base_uri": "https://localhost:8080/"
        },
        "id": "xpKFzWYPpgDK",
        "outputId": "9d506423-25df-4314-883d-577e5e57eabc"
      },
      "source": [
        "proceeds('prediction_user_based')/proceeds('true_test')*100 # выигрыш в процентном выражении относительно выручки теста"
      ],
      "execution_count": 31,
      "outputs": [
        {
          "output_type": "execute_result",
          "data": {
            "text/plain": [
              "4.952078118823369"
            ]
          },
          "metadata": {
            "tags": []
          },
          "execution_count": 31
        }
      ]
    },
    {
      "cell_type": "markdown",
      "metadata": {
        "id": "W1Cvx5ZRpgDK"
      },
      "source": [
        "## Модель разложения со скрытыми переменными"
      ]
    },
    {
      "cell_type": "code",
      "metadata": {
        "colab": {
          "base_uri": "https://localhost:8080/"
        },
        "id": "mIKzmhSipgDL",
        "outputId": "20a2bef0-2041-4b5f-da98-0cf9d843a81e"
      },
      "source": [
        "U, sigma, V = svd(ratings)\n",
        "print(ratings.shape, U.shape, sigma.shape, V.shape)"
      ],
      "execution_count": 32,
      "outputs": [
        {
          "output_type": "stream",
          "text": [
            "(17238, 17171) (17238, 17238) (17171,) (17171, 17171)\n"
          ],
          "name": "stdout"
        }
      ]
    },
    {
      "cell_type": "code",
      "metadata": {
        "id": "YnXLZz4ipgDL"
      },
      "source": [
        "# K наиболее важных компонент\n",
        "K = 400\n",
        "sigma[K:] = 0\n",
        "Sigma = np.zeros((17238, 17171))\n",
        "Sigma[:17171, :17171] = np.diag(sigma)"
      ],
      "execution_count": 33,
      "outputs": []
    },
    {
      "cell_type": "code",
      "metadata": {
        "colab": {
          "base_uri": "https://localhost:8080/"
        },
        "id": "IPeOVoXypgDL",
        "outputId": "9d5c3b11-4b6f-46e8-9af6-8be4755c8aa1"
      },
      "source": [
        "new_ratings = U.dot(Sigma).dot(V)\n",
        "print(sum(sum((new_ratings - ratings.values) ** 2)))\n",
        "print(sum(sum((ratings.values.mean() - ratings.values) ** 2)))"
      ],
      "execution_count": 34,
      "outputs": [
        {
          "output_type": "stream",
          "text": [
            "128591.15027110193\n",
            "250829.08301499774\n"
          ],
          "name": "stdout"
        }
      ]
    },
    {
      "cell_type": "code",
      "metadata": {
        "colab": {
          "base_uri": "https://localhost:8080/",
          "height": 66,
          "referenced_widgets": [
            "bcfed3fe1d7d4385afc50faefc1556c3",
            "f1cfb46348bf4b5380c773ad97c09122",
            "99fe5a2096974d41ab6eef17a69601f9",
            "6978c69d9634486696374759f1e0e14c",
            "5bc6b135774d4a02bea15130deecded7",
            "206084eb1d7942478fd52bc950623d0d",
            "dc2979a7009c486eb7681fb6aa98a00d",
            "2f1ac21548d0485aa255d84aadf57357"
          ]
        },
        "id": "aVO-nZtOpgDL",
        "outputId": "73d0f5e6-cc21-412c-c711-89dc03110308"
      },
      "source": [
        "top_k = 50\n",
        "\n",
        "new_ratings = pd.DataFrame(new_ratings, index=ratings.index, columns=ratings.columns)\n",
        "\n",
        "predictions = []\n",
        "for user_id in tqdm(interactions.index):\n",
        "    prediction = (\n",
        "        new_ratings\n",
        "        .loc[user_id]\n",
        "        .sort_values(ascending=False)\n",
        "        .index.values\n",
        "    )\n",
        "    \n",
        "    predictions.append(\n",
        "        list(prediction[~np.in1d(\n",
        "            prediction,\n",
        "            interactions.loc[user_id, 'true_train'])])[:top_k])\n",
        "interactions['prediction_svd'] = predictions"
      ],
      "execution_count": 35,
      "outputs": [
        {
          "output_type": "display_data",
          "data": {
            "application/vnd.jupyter.widget-view+json": {
              "model_id": "bcfed3fe1d7d4385afc50faefc1556c3",
              "version_minor": 0,
              "version_major": 2
            },
            "text/plain": [
              "HBox(children=(FloatProgress(value=0.0, max=17238.0), HTML(value='')))"
            ]
          },
          "metadata": {
            "tags": []
          }
        },
        {
          "output_type": "stream",
          "text": [
            "\n"
          ],
          "name": "stdout"
        }
      ]
    },
    {
      "cell_type": "code",
      "metadata": {
        "colab": {
          "base_uri": "https://localhost:8080/"
        },
        "id": "4vqT_mWNpgDM",
        "outputId": "7a2780a1-648c-4040-bbb8-8a0d7593932b"
      },
      "source": [
        "calc_precision('prediction_svd')"
      ],
      "execution_count": 36,
      "outputs": [
        {
          "output_type": "execute_result",
          "data": {
            "text/plain": [
              "0.00895510917378739"
            ]
          },
          "metadata": {
            "tags": []
          },
          "execution_count": 36
        }
      ]
    },
    {
      "cell_type": "code",
      "metadata": {
        "colab": {
          "base_uri": "https://localhost:8080/"
        },
        "id": "wEB6RgljpgDM",
        "outputId": "1d9fd0f3-c5f5-4b41-e9b3-3caa45102b07"
      },
      "source": [
        "proceeds('prediction_svd') #выигрыш в денежном вырадении"
      ],
      "execution_count": 37,
      "outputs": [
        {
          "output_type": "execute_result",
          "data": {
            "text/plain": [
              "105037.58617962904"
            ]
          },
          "metadata": {
            "tags": []
          },
          "execution_count": 37
        }
      ]
    },
    {
      "cell_type": "code",
      "metadata": {
        "colab": {
          "base_uri": "https://localhost:8080/"
        },
        "id": "clHVmuRapgDM",
        "outputId": "fdcb93bf-2cf8-4bd3-917f-bb58c038e01d"
      },
      "source": [
        "proceeds('prediction_svd')/proceeds('true_test')*100 # выигрыш в процентном выражении относительно выручки теста"
      ],
      "execution_count": 38,
      "outputs": [
        {
          "output_type": "execute_result",
          "data": {
            "text/plain": [
              "1.669179129013747"
            ]
          },
          "metadata": {
            "tags": []
          },
          "execution_count": 38
        }
      ]
    },
    {
      "cell_type": "markdown",
      "metadata": {
        "id": "EK5yqmhq4A8M"
      },
      "source": [
        "## FM"
      ]
    },
    {
      "cell_type": "code",
      "metadata": {
        "colab": {
          "base_uri": "https://localhost:8080/",
          "height": 66,
          "referenced_widgets": [
            "28279388983f428fa69264057f4d2959",
            "749671cafad84a8ebec3e7aeb9a53561",
            "38c66dfb3b774a04ae63c9641132f627",
            "c3dbce6e1b7345709b4795ee80f544ee",
            "5ea396590ac344018b9eb2ae2c8c0a6d",
            "3f83f4107aca4d169029af182c8b7a4c",
            "dffa1cd7ade34fd7bb22fa078c2ba756",
            "cbfcca3d856d4e988de24075a6d61271"
          ]
        },
        "id": "FICbFsgn4EoC",
        "outputId": "fe3b4f12-0dae-4d53-b001-97b44c14c182"
      },
      "source": [
        "products = interactions_full_df.product_id.unique()\n",
        "predictionsss = []\n",
        "for user in tqdm(interactions.index):\n",
        "    X_test_dict = []\n",
        "    for item in products:\n",
        "        X_test_dict += [{'user': str(user), 'item': str(item)}]\n",
        "    X_test = v.transform(X_test_dict)\n",
        "    pred = fm.predict(X_test)\n",
        "    test = pd.DataFrame({'product_id':products, 'prediction':pred})\n",
        "    predictionsss.append(test.sort_values('prediction', ascending=False)['product_id'][:50])\n",
        "    \n",
        "interactions['prediction_fm'] = predictionsss"
      ],
      "execution_count": 80,
      "outputs": [
        {
          "output_type": "display_data",
          "data": {
            "application/vnd.jupyter.widget-view+json": {
              "model_id": "28279388983f428fa69264057f4d2959",
              "version_minor": 0,
              "version_major": 2
            },
            "text/plain": [
              "HBox(children=(FloatProgress(value=0.0, max=17238.0), HTML(value='')))"
            ]
          },
          "metadata": {
            "tags": []
          }
        },
        {
          "output_type": "stream",
          "text": [
            "\n"
          ],
          "name": "stdout"
        }
      ]
    },
    {
      "cell_type": "code",
      "metadata": {
        "colab": {
          "base_uri": "https://localhost:8080/"
        },
        "id": "9TpmWyVb4EoE",
        "outputId": "f1821c99-468d-431c-a764-b519c1995777"
      },
      "source": [
        "calc_precision('prediction_fm')"
      ],
      "execution_count": 83,
      "outputs": [
        {
          "output_type": "execute_result",
          "data": {
            "text/plain": [
              "0.0005532867581376957"
            ]
          },
          "metadata": {
            "tags": []
          },
          "execution_count": 83
        }
      ]
    },
    {
      "cell_type": "code",
      "metadata": {
        "colab": {
          "base_uri": "https://localhost:8080/"
        },
        "id": "fymtMH9J4EoE",
        "outputId": "1c8f0162-769e-4ec9-cb2d-04f55a7bd495"
      },
      "source": [
        "proceeds('prediction_fm') #выигрыш в денежном вырадении"
      ],
      "execution_count": 84,
      "outputs": [
        {
          "output_type": "execute_result",
          "data": {
            "text/plain": [
              "4942.543994700953"
            ]
          },
          "metadata": {
            "tags": []
          },
          "execution_count": 84
        }
      ]
    },
    {
      "cell_type": "code",
      "metadata": {
        "colab": {
          "base_uri": "https://localhost:8080/"
        },
        "id": "W3Uxi-dH4EoE",
        "outputId": "1deda497-cafa-41dd-e60c-f5d30bd9d69e"
      },
      "source": [
        "proceeds('prediction_fm')/proceeds('true_test')*100 # выигрыш в процентном выражении относительно выручки теста"
      ],
      "execution_count": 85,
      "outputs": [
        {
          "output_type": "execute_result",
          "data": {
            "text/plain": [
              "0.07854322990703934"
            ]
          },
          "metadata": {
            "tags": []
          },
          "execution_count": 85
        }
      ]
    },
    {
      "cell_type": "markdown",
      "metadata": {
        "id": "YSeEb-Spn6QY"
      },
      "source": [
        "## Light FM"
      ]
    },
    {
      "cell_type": "code",
      "metadata": {
        "id": "ylDaFykEn4Gq"
      },
      "source": [
        "fin_pred = pred.reshape((len_users,len_items)).argsort()[::-1][:,:50]"
      ],
      "execution_count": 49,
      "outputs": []
    },
    {
      "cell_type": "code",
      "metadata": {
        "colab": {
          "base_uri": "https://localhost:8080/",
          "height": 66,
          "referenced_widgets": [
            "59fe69d2a30841469fb65ac62f245ddd",
            "88b65587b62d4f94b01793dd939aa94b",
            "52b1e75b39f74bbfb6b6ad15f6dc06aa",
            "be9fdb2a1912473a86d445b67b7ec8bc",
            "e62b43e9de014d17bae5d7c38237f7f8",
            "de17dc35a36a4710974f30a0ff092690",
            "bb6a0dca0bf849c58a35fac9d4abef8a",
            "ca5394e8e14b453295ae643ea2c484da"
          ]
        },
        "id": "GrkIQh24n4Gs",
        "outputId": "0428f4a2-c823-496b-df0a-cdf060f2a92d"
      },
      "source": [
        "top_k = 50\n",
        "\n",
        "tmp_predictions = []\n",
        "\n",
        "for (n, personId) in tqdm(userss.items()):\n",
        "    if personId in interactions.index:\n",
        "      prediction = np.asarray([itemss[i] for i in fin_pred[n]])\n",
        "      \n",
        "      tmp_predictions.append(\n",
        "          list(prediction[~np.in1d(\n",
        "              prediction,\n",
        "              interactions.loc[personId, 'true_train'])])[:top_k])\n",
        "\n",
        "    \n",
        "interactions['prediction_content'] = tmp_predictions"
      ],
      "execution_count": 51,
      "outputs": [
        {
          "output_type": "display_data",
          "data": {
            "application/vnd.jupyter.widget-view+json": {
              "model_id": "59fe69d2a30841469fb65ac62f245ddd",
              "version_minor": 0,
              "version_major": 2
            },
            "text/plain": [
              "HBox(children=(FloatProgress(value=0.0, max=17704.0), HTML(value='')))"
            ]
          },
          "metadata": {
            "tags": []
          }
        },
        {
          "output_type": "stream",
          "text": [
            "\n"
          ],
          "name": "stdout"
        }
      ]
    },
    {
      "cell_type": "code",
      "metadata": {
        "colab": {
          "base_uri": "https://localhost:8080/"
        },
        "id": "a0IwemI_n4Gt",
        "outputId": "b69c347f-5b62-4ca6-d2f3-76c153fc19da"
      },
      "source": [
        "calc_precision('prediction_content')"
      ],
      "execution_count": 52,
      "outputs": [
        {
          "output_type": "execute_result",
          "data": {
            "text/plain": [
              "0.0005451221333909937"
            ]
          },
          "metadata": {
            "tags": []
          },
          "execution_count": 52
        }
      ]
    },
    {
      "cell_type": "code",
      "metadata": {
        "colab": {
          "base_uri": "https://localhost:8080/"
        },
        "id": "7lVm1Sqgn4Gt",
        "outputId": "6107bd03-12f1-405e-fc8b-41eb260b3303"
      },
      "source": [
        "proceeds('prediction_content') #выигрыш в денежном вырадении"
      ],
      "execution_count": 53,
      "outputs": [
        {
          "output_type": "execute_result",
          "data": {
            "text/plain": [
              "7901.519660256409"
            ]
          },
          "metadata": {
            "tags": []
          },
          "execution_count": 53
        }
      ]
    },
    {
      "cell_type": "code",
      "metadata": {
        "colab": {
          "base_uri": "https://localhost:8080/"
        },
        "id": "NVGaSqK7n4Gt",
        "outputId": "a6812250-63a5-4196-da31-1f8724430bdb"
      },
      "source": [
        "proceeds('prediction_content')/proceeds('true_test')*100 # выигрыш в процентном выражении относительно выручки теста"
      ],
      "execution_count": 54,
      "outputs": [
        {
          "output_type": "execute_result",
          "data": {
            "text/plain": [
              "0.12556506850639787"
            ]
          },
          "metadata": {
            "tags": []
          },
          "execution_count": 54
        }
      ]
    },
    {
      "cell_type": "markdown",
      "metadata": {
        "id": "fdzRNutr8Jjz"
      },
      "source": [
        "# Модели на 100 предсказаний"
      ]
    },
    {
      "cell_type": "markdown",
      "metadata": {
        "id": "sWWFDlQg8Jj6"
      },
      "source": [
        "## Base model (модель выдающая самые популярные товары)"
      ]
    },
    {
      "cell_type": "code",
      "metadata": {
        "id": "AQsnBwR68Jj7"
      },
      "source": [
        "# сортируем по популярности\n",
        "popular_content = (\n",
        "    interactions_train_df\n",
        "    .groupby('product_id')\n",
        "    .user_id.count().reset_index()\n",
        "    .product_id.values\n",
        ")"
      ],
      "execution_count": 15,
      "outputs": []
    },
    {
      "cell_type": "code",
      "metadata": {
        "id": "gTHsW_9Q8Jj8"
      },
      "source": [
        "top_k = 100\n",
        "\n",
        "interactions['prediction_popular'] = (\n",
        "    interactions.true_train\n",
        "    .apply(\n",
        "        lambda x:\n",
        "        popular_content[~np.in1d(popular_content, x)][:top_k]\n",
        "    )\n",
        ")"
      ],
      "execution_count": 16,
      "outputs": []
    },
    {
      "cell_type": "code",
      "metadata": {
        "id": "DIo2xuC_8Jj9"
      },
      "source": [
        "# подсчет precision@100\n",
        "def calc_precision(column):\n",
        "    return (\n",
        "        interactions\n",
        "        .apply(\n",
        "            lambda row:\n",
        "            len(set(row['true_test']).intersection(\n",
        "                set(row[column]))) /\n",
        "            min(len(row['true_test']) + 0.001, 100.0),\n",
        "            axis=1)).mean()"
      ],
      "execution_count": 86,
      "outputs": []
    },
    {
      "cell_type": "code",
      "metadata": {
        "colab": {
          "base_uri": "https://localhost:8080/"
        },
        "id": "5zqbOL608Jj-",
        "outputId": "f3b7e601-a775-4698-de4c-ba34d3de4dfd"
      },
      "source": [
        "calc_precision('prediction_popular')"
      ],
      "execution_count": 18,
      "outputs": [
        {
          "output_type": "execute_result",
          "data": {
            "text/plain": [
              "0.012376897860019581"
            ]
          },
          "metadata": {
            "tags": []
          },
          "execution_count": 18
        }
      ]
    },
    {
      "cell_type": "code",
      "metadata": {
        "id": "ujfmzz-M8Jj_"
      },
      "source": [
        "# финансовый плюс@50\n",
        "price_dict = pd.DataFrame({'price':interactions_full_df.groupby('product_id').mean()['price']}, \n",
        "                          index=interactions_full_df.groupby('product_id').mean().index).to_dict()\n",
        "\n",
        "def proceeds(column):\n",
        "    res = []\n",
        "    for i in interactions.apply(lambda row:\n",
        "            set(row['true_test']).intersection(set(row[column])), axis=1):\n",
        "        res.extend(i)\n",
        "    return sum([price_dict['price'][i] for i in res])"
      ],
      "execution_count": 87,
      "outputs": []
    },
    {
      "cell_type": "code",
      "metadata": {
        "colab": {
          "base_uri": "https://localhost:8080/"
        },
        "id": "w3tO43PV8JkA",
        "outputId": "9a249409-9e28-4069-e74a-16e66a023365"
      },
      "source": [
        "proceeds('prediction_popular') #выигрыш в денежном вырадении"
      ],
      "execution_count": 20,
      "outputs": [
        {
          "output_type": "execute_result",
          "data": {
            "text/plain": [
              "438791.21562375437"
            ]
          },
          "metadata": {
            "tags": []
          },
          "execution_count": 20
        }
      ]
    },
    {
      "cell_type": "code",
      "metadata": {
        "colab": {
          "base_uri": "https://localhost:8080/"
        },
        "id": "iXbnG9-18JkA",
        "outputId": "1dedc9db-f345-45b8-ec12-b8b28e48a8a7"
      },
      "source": [
        "proceeds('prediction_popular')/proceeds('true_test')*100 # выигрыш в процентном выражении относительно выручки теста"
      ],
      "execution_count": 21,
      "outputs": [
        {
          "output_type": "execute_result",
          "data": {
            "text/plain": [
              "6.972943360114906"
            ]
          },
          "metadata": {
            "tags": []
          },
          "execution_count": 21
        }
      ]
    },
    {
      "cell_type": "markdown",
      "metadata": {
        "id": "WxvfAWYg8JkB"
      },
      "source": [
        "## Memory-based collaborative filtering"
      ]
    },
    {
      "cell_type": "code",
      "metadata": {
        "id": "X27KofaR8JkB"
      },
      "source": [
        "interactions_train_df['eventStrength']=np.ones(interactions_train_df.shape[0])"
      ],
      "execution_count": 22,
      "outputs": []
    },
    {
      "cell_type": "code",
      "metadata": {
        "id": "WGCLFULO8JkC"
      },
      "source": [
        "ratings = pd.pivot_table(\n",
        "    interactions_train_df,\n",
        "    values='eventStrength',\n",
        "    index='user_id',\n",
        "    columns='product_id').fillna(0)"
      ],
      "execution_count": 23,
      "outputs": []
    },
    {
      "cell_type": "code",
      "metadata": {
        "id": "MxuL-v828JkE"
      },
      "source": [
        "ratings_m = ratings.values"
      ],
      "execution_count": 24,
      "outputs": []
    },
    {
      "cell_type": "code",
      "metadata": {
        "id": "m7HVFu4-8JkE"
      },
      "source": [
        "# матрица корреляций\n",
        "similarity_users = np.corrcoef(ratings_m)"
      ],
      "execution_count": 25,
      "outputs": []
    },
    {
      "cell_type": "code",
      "metadata": {
        "colab": {
          "base_uri": "https://localhost:8080/",
          "height": 66,
          "referenced_widgets": [
            "67a12875fee84701a125e201b46ec23e",
            "2867f056b2a34ee69067a581b20ce2c6",
            "d9ea9e1c5c75438987cd6d14c024298e",
            "2f7a9e152a1d4e08a4ce67e6233325b9",
            "0ed9310cc1a04719b1fd9c5f0b73165d",
            "9d67498f48ab4a33878f01e91e034d24",
            "9700e5229bd34c8490d64f33b45f1380",
            "7d5ea7b9702d47c8892e1f9a504b5c1a"
          ]
        },
        "id": "YZ2OmPPh8JkF",
        "outputId": "2ebd4536-2da7-404d-991d-633edf0837fd"
      },
      "source": [
        "prediction_user_based = []\n",
        "for i in tqdm(range(len(similarity_users))):\n",
        "    users_sim = similarity_users[i] > 0\n",
        "    if len(users_sim) == 0:\n",
        "        prediction_user_based.append([])\n",
        "    else:\n",
        "        tmp_recommend = np.argsort(ratings_m[users_sim].sum(axis=0))[::-1]\n",
        "        tmp_recommend = ratings.columns[tmp_recommend]\n",
        "        recommend = np.array(tmp_recommend)[~np.in1d(tmp_recommend, interactions.iloc[i])][:100]\n",
        "        prediction_user_based.append(list(recommend))\n",
        "interactions['prediction_user_based'] = prediction_user_based"
      ],
      "execution_count": 26,
      "outputs": [
        {
          "output_type": "display_data",
          "data": {
            "application/vnd.jupyter.widget-view+json": {
              "model_id": "67a12875fee84701a125e201b46ec23e",
              "version_minor": 0,
              "version_major": 2
            },
            "text/plain": [
              "HBox(children=(FloatProgress(value=0.0, max=17238.0), HTML(value='')))"
            ]
          },
          "metadata": {
            "tags": []
          }
        },
        {
          "output_type": "stream",
          "text": [
            "\n"
          ],
          "name": "stdout"
        }
      ]
    },
    {
      "cell_type": "code",
      "metadata": {
        "colab": {
          "base_uri": "https://localhost:8080/"
        },
        "id": "ij_imo0d8JkF",
        "outputId": "333639dd-e3df-41a0-a318-b8b3b6975c8d"
      },
      "source": [
        "calc_precision('prediction_user_based')"
      ],
      "execution_count": 27,
      "outputs": [
        {
          "output_type": "execute_result",
          "data": {
            "text/plain": [
              "0.02075173199921388"
            ]
          },
          "metadata": {
            "tags": []
          },
          "execution_count": 27
        }
      ]
    },
    {
      "cell_type": "code",
      "metadata": {
        "colab": {
          "base_uri": "https://localhost:8080/"
        },
        "id": "0WF7DZrn8JkG",
        "outputId": "5b2f349e-453c-4c21-fa21-1ab6b03de71f"
      },
      "source": [
        "proceeds('prediction_user_based') #выигрыш в денежном вырадении"
      ],
      "execution_count": 28,
      "outputs": [
        {
          "output_type": "execute_result",
          "data": {
            "text/plain": [
              "488517.82455295936"
            ]
          },
          "metadata": {
            "tags": []
          },
          "execution_count": 28
        }
      ]
    },
    {
      "cell_type": "code",
      "metadata": {
        "colab": {
          "base_uri": "https://localhost:8080/"
        },
        "id": "A8cEbtDb8JkG",
        "outputId": "6be40131-4a91-4752-81f5-dc6e84bc35ae"
      },
      "source": [
        "proceeds('prediction_user_based')/proceeds('true_test')*100 # выигрыш в процентном выражении относительно выручки теста"
      ],
      "execution_count": 29,
      "outputs": [
        {
          "output_type": "execute_result",
          "data": {
            "text/plain": [
              "7.763161612458515"
            ]
          },
          "metadata": {
            "tags": []
          },
          "execution_count": 29
        }
      ]
    },
    {
      "cell_type": "markdown",
      "metadata": {
        "id": "bG9jZJDo8JkG"
      },
      "source": [
        "## Модель разложения со скрытыми переменными"
      ]
    },
    {
      "cell_type": "code",
      "metadata": {
        "colab": {
          "base_uri": "https://localhost:8080/"
        },
        "id": "KEEOdOXQ8JkH",
        "outputId": "242d6bb1-da68-45e2-ef48-e86b095e866b"
      },
      "source": [
        "U, sigma, V = svd(ratings)\n",
        "print(ratings.shape, U.shape, sigma.shape, V.shape)"
      ],
      "execution_count": 30,
      "outputs": [
        {
          "output_type": "stream",
          "text": [
            "(17238, 17171) (17238, 17238) (17171,) (17171, 17171)\n"
          ],
          "name": "stdout"
        }
      ]
    },
    {
      "cell_type": "code",
      "metadata": {
        "id": "vzxdShlX8JkH"
      },
      "source": [
        "# K наиболее важных компонент\n",
        "K = 400\n",
        "sigma[K:] = 0\n",
        "Sigma = np.zeros((17238, 17171))\n",
        "Sigma[:17171, :17171] = np.diag(sigma)"
      ],
      "execution_count": 31,
      "outputs": []
    },
    {
      "cell_type": "code",
      "metadata": {
        "colab": {
          "base_uri": "https://localhost:8080/"
        },
        "id": "1aAQEer68JkH",
        "outputId": "befc3ac1-8019-4691-925f-f42e8f84b910"
      },
      "source": [
        "new_ratings = U.dot(Sigma).dot(V)\n",
        "print(sum(sum((new_ratings - ratings.values) ** 2)))\n",
        "print(sum(sum((ratings.values.mean() - ratings.values) ** 2)))"
      ],
      "execution_count": 32,
      "outputs": [
        {
          "output_type": "stream",
          "text": [
            "128591.15027110193\n",
            "250829.08301499774\n"
          ],
          "name": "stdout"
        }
      ]
    },
    {
      "cell_type": "code",
      "metadata": {
        "colab": {
          "base_uri": "https://localhost:8080/",
          "height": 66,
          "referenced_widgets": [
            "01a149f1d4684da8be71aa2d4260c22a",
            "db0174ca50f6471e9b9aaddcc1398021",
            "edc7b75de33548828da69111180a21b9",
            "7f1a6d9ff19547b1a4ef2ce34a19290c",
            "d441f58cdd804e899544233b029330e3",
            "e0e7e4b32a564703b4a5754430c69b44",
            "a124ba572e294725905c22ad7e2b2285",
            "91a9c9c45c2c42a8be98b51aced6f63c"
          ]
        },
        "id": "uzm6skgZ8JkI",
        "outputId": "211a1ff8-cb98-4b15-cf5c-f11325af35ec"
      },
      "source": [
        "top_k = 100\n",
        "\n",
        "new_ratings = pd.DataFrame(new_ratings, index=ratings.index, columns=ratings.columns)\n",
        "\n",
        "predictions = []\n",
        "for user_id in tqdm(interactions.index):\n",
        "    prediction = (\n",
        "        new_ratings\n",
        "        .loc[user_id]\n",
        "        .sort_values(ascending=False)\n",
        "        .index.values\n",
        "    )\n",
        "    \n",
        "    predictions.append(\n",
        "        list(prediction[~np.in1d(\n",
        "            prediction,\n",
        "            interactions.loc[user_id, 'true_train'])])[:top_k])\n",
        "interactions['prediction_svd'] = predictions"
      ],
      "execution_count": 33,
      "outputs": [
        {
          "output_type": "display_data",
          "data": {
            "application/vnd.jupyter.widget-view+json": {
              "model_id": "01a149f1d4684da8be71aa2d4260c22a",
              "version_minor": 0,
              "version_major": 2
            },
            "text/plain": [
              "HBox(children=(FloatProgress(value=0.0, max=17238.0), HTML(value='')))"
            ]
          },
          "metadata": {
            "tags": []
          }
        },
        {
          "output_type": "stream",
          "text": [
            "\n"
          ],
          "name": "stdout"
        }
      ]
    },
    {
      "cell_type": "code",
      "metadata": {
        "colab": {
          "base_uri": "https://localhost:8080/"
        },
        "id": "4a3Sefay8JkI",
        "outputId": "e5a5f4f8-5024-4dea-ffde-da6ae65ece70"
      },
      "source": [
        "calc_precision('prediction_svd')"
      ],
      "execution_count": 34,
      "outputs": [
        {
          "output_type": "execute_result",
          "data": {
            "text/plain": [
              "0.01368590581891613"
            ]
          },
          "metadata": {
            "tags": []
          },
          "execution_count": 34
        }
      ]
    },
    {
      "cell_type": "code",
      "metadata": {
        "colab": {
          "base_uri": "https://localhost:8080/"
        },
        "id": "4S_yGvlv8JkI",
        "outputId": "d6a54ca3-e9e9-4cf9-f881-62ce4e71fba9"
      },
      "source": [
        "proceeds('prediction_svd') #выигрыш в денежном вырадении"
      ],
      "execution_count": 35,
      "outputs": [
        {
          "output_type": "execute_result",
          "data": {
            "text/plain": [
              "193032.38747064144"
            ]
          },
          "metadata": {
            "tags": []
          },
          "execution_count": 35
        }
      ]
    },
    {
      "cell_type": "code",
      "metadata": {
        "colab": {
          "base_uri": "https://localhost:8080/"
        },
        "id": "E9V7ihm18JkJ",
        "outputId": "8f714dbc-0e16-4d5b-e26f-0303c81e934c"
      },
      "source": [
        "proceeds('prediction_svd')/proceeds('true_test')*100 # выигрыш в процентном выражении относительно выручки теста"
      ],
      "execution_count": 36,
      "outputs": [
        {
          "output_type": "execute_result",
          "data": {
            "text/plain": [
              "3.067527007319765"
            ]
          },
          "metadata": {
            "tags": []
          },
          "execution_count": 36
        }
      ]
    },
    {
      "cell_type": "markdown",
      "metadata": {
        "id": "9XVe3UDZAfkx"
      },
      "source": [
        "## FM"
      ]
    },
    {
      "cell_type": "code",
      "metadata": {
        "colab": {
          "base_uri": "https://localhost:8080/",
          "height": 66,
          "referenced_widgets": [
            "3bc99aa100174b29826735e8753a9b9b",
            "d9bb3d4f74344d3baf16d257f61789dd",
            "81439b7f0901487eae926c9db0ff3f0b",
            "180016c9ab324b1c918f09f68fa746b4",
            "1cfbc3c9ef044fcaa51833ac7450d2bc",
            "cce77942666743f7bcf079005c0b9e25",
            "aeb16d030b7c43178af37db473391d96",
            "a1cd50e549b74afaa8406745ad685b25"
          ]
        },
        "id": "qkxcPfsBAeIS",
        "outputId": "db9f6e4d-bf52-4dfc-c243-71bd2ad5bad5"
      },
      "source": [
        "products = interactions_full_df.product_id.unique()\n",
        "predictionsss = []\n",
        "for user in tqdm(interactions.index):\n",
        "    X_test_dict = []\n",
        "    for item in products:\n",
        "        X_test_dict += [{'user': str(user), 'item': str(item)}]\n",
        "    X_test = v.transform(X_test_dict)\n",
        "    pred = fm.predict(X_test)\n",
        "    test = pd.DataFrame({'product_id':products, 'prediction':pred})\n",
        "    predictionsss.append(test.sort_values('prediction', ascending=False)['product_id'][:100])\n",
        "    \n",
        "interactions['prediction_fm'] = predictionsss"
      ],
      "execution_count": 88,
      "outputs": [
        {
          "output_type": "display_data",
          "data": {
            "application/vnd.jupyter.widget-view+json": {
              "model_id": "3bc99aa100174b29826735e8753a9b9b",
              "version_minor": 0,
              "version_major": 2
            },
            "text/plain": [
              "HBox(children=(FloatProgress(value=0.0, max=17238.0), HTML(value='')))"
            ]
          },
          "metadata": {
            "tags": []
          }
        },
        {
          "output_type": "stream",
          "text": [
            "\n"
          ],
          "name": "stdout"
        }
      ]
    },
    {
      "cell_type": "code",
      "metadata": {
        "colab": {
          "base_uri": "https://localhost:8080/"
        },
        "id": "mjBSgcDIAeIT",
        "outputId": "b0cf1b0b-23ae-490a-f50e-a3118e16f0d7"
      },
      "source": [
        "calc_precision('prediction_fm')"
      ],
      "execution_count": 89,
      "outputs": [
        {
          "output_type": "execute_result",
          "data": {
            "text/plain": [
              "0.001148866568598332"
            ]
          },
          "metadata": {
            "tags": []
          },
          "execution_count": 89
        }
      ]
    },
    {
      "cell_type": "code",
      "metadata": {
        "colab": {
          "base_uri": "https://localhost:8080/"
        },
        "id": "UG431v2uAeIT",
        "outputId": "9b85bbcb-983d-485c-bce5-a510b7c38c89"
      },
      "source": [
        "proceeds('prediction_fm') #выигрыш в денежном вырадении"
      ],
      "execution_count": 90,
      "outputs": [
        {
          "output_type": "execute_result",
          "data": {
            "text/plain": [
              "16867.062547922236"
            ]
          },
          "metadata": {
            "tags": []
          },
          "execution_count": 90
        }
      ]
    },
    {
      "cell_type": "code",
      "metadata": {
        "colab": {
          "base_uri": "https://localhost:8080/"
        },
        "id": "QlG14UOjAeIT",
        "outputId": "a386b01e-6232-4e15-e066-f3359083b5d4"
      },
      "source": [
        "proceeds('prediction_fm')/proceeds('true_test')*100 # выигрыш в процентном выражении относительно выручки теста"
      ],
      "execution_count": 91,
      "outputs": [
        {
          "output_type": "execute_result",
          "data": {
            "text/plain": [
              "0.2680388020780835"
            ]
          },
          "metadata": {
            "tags": []
          },
          "execution_count": 91
        }
      ]
    },
    {
      "cell_type": "markdown",
      "metadata": {
        "id": "pxB6WCTNoZnV"
      },
      "source": [
        "## Light FM"
      ]
    },
    {
      "cell_type": "code",
      "metadata": {
        "id": "0ZgJQeLXoZnW"
      },
      "source": [
        "fin_pred = pred.reshape((len_users,len_items)).argsort()[::-1][:,:100]"
      ],
      "execution_count": 55,
      "outputs": []
    },
    {
      "cell_type": "code",
      "metadata": {
        "colab": {
          "base_uri": "https://localhost:8080/",
          "height": 66,
          "referenced_widgets": [
            "bbc343fd9b314239a750199b2c3b18bc",
            "670ca9783e0140daba595d998db33d6d",
            "58717f14afb64cd8bcbc5ef2bbfc9799",
            "ab85b27ebd0a4b8088cc5b97ceb7d33d",
            "bbe0950ca5ed462797133d1607bec72a",
            "74b3ac23e14b40d492eda000aa7c5bb8",
            "b7679e4b4265420889aa8b2509332721",
            "b511ae7b3e044170a4aafddc37e560fa"
          ]
        },
        "id": "W7SJxz_5oZnW",
        "outputId": "348d8932-1cbc-43b2-83e6-c0230f5a1a33"
      },
      "source": [
        "top_k = 100\n",
        "\n",
        "tmp_predictions = []\n",
        "\n",
        "for (n, personId) in tqdm(userss.items()):\n",
        "    if personId in interactions.index:\n",
        "      prediction = np.asarray([itemss[i] for i in fin_pred[n]])\n",
        "      \n",
        "      tmp_predictions.append(\n",
        "          list(prediction[~np.in1d(\n",
        "              prediction,\n",
        "              interactions.loc[personId, 'true_train'])])[:top_k])\n",
        "\n",
        "    \n",
        "interactions['prediction_content'] = tmp_predictions"
      ],
      "execution_count": 56,
      "outputs": [
        {
          "output_type": "display_data",
          "data": {
            "application/vnd.jupyter.widget-view+json": {
              "model_id": "bbc343fd9b314239a750199b2c3b18bc",
              "version_minor": 0,
              "version_major": 2
            },
            "text/plain": [
              "HBox(children=(FloatProgress(value=0.0, max=17704.0), HTML(value='')))"
            ]
          },
          "metadata": {
            "tags": []
          }
        },
        {
          "output_type": "stream",
          "text": [
            "\n"
          ],
          "name": "stdout"
        }
      ]
    },
    {
      "cell_type": "code",
      "metadata": {
        "colab": {
          "base_uri": "https://localhost:8080/"
        },
        "id": "shiHe_3ToZnX",
        "outputId": "3bccb4b1-58c1-47f3-f3ae-a8f720e32a40"
      },
      "source": [
        "calc_precision('prediction_content')"
      ],
      "execution_count": 57,
      "outputs": [
        {
          "output_type": "execute_result",
          "data": {
            "text/plain": [
              "0.0010883984537172085"
            ]
          },
          "metadata": {
            "tags": []
          },
          "execution_count": 57
        }
      ]
    },
    {
      "cell_type": "code",
      "metadata": {
        "colab": {
          "base_uri": "https://localhost:8080/"
        },
        "id": "wsQiPPbtoZnY",
        "outputId": "41a26a37-24ee-4123-9283-d7af5fd96512"
      },
      "source": [
        "proceeds('prediction_content') #выигрыш в денежном вырадении"
      ],
      "execution_count": 58,
      "outputs": [
        {
          "output_type": "execute_result",
          "data": {
            "text/plain": [
              "28146.00963696448"
            ]
          },
          "metadata": {
            "tags": []
          },
          "execution_count": 58
        }
      ]
    },
    {
      "cell_type": "code",
      "metadata": {
        "colab": {
          "base_uri": "https://localhost:8080/"
        },
        "id": "R-6XG5J5oZnY",
        "outputId": "325c0d28-56d5-45db-8400-555cf1255083"
      },
      "source": [
        "proceeds('prediction_content')/proceeds('true_test')*100 # выигрыш в процентном выражении относительно выручки теста"
      ],
      "execution_count": 59,
      "outputs": [
        {
          "output_type": "execute_result",
          "data": {
            "text/plain": [
              "0.44727543310731877"
            ]
          },
          "metadata": {
            "tags": []
          },
          "execution_count": 59
        }
      ]
    },
    {
      "cell_type": "markdown",
      "metadata": {
        "id": "bxgmkS61C1y8"
      },
      "source": [
        "# Модели на 25 предсказаний"
      ]
    },
    {
      "cell_type": "markdown",
      "metadata": {
        "id": "TMGh2pjjC1zA"
      },
      "source": [
        "## Base model (модель выдающая самые популярные товары)"
      ]
    },
    {
      "cell_type": "code",
      "metadata": {
        "id": "fdsj4ctUC1zA"
      },
      "source": [
        "# сортируем по популярности\n",
        "popular_content = (\n",
        "    interactions_train_df\n",
        "    .groupby('product_id')\n",
        "    .user_id.count().reset_index()\n",
        "    .product_id.values\n",
        ")"
      ],
      "execution_count": 15,
      "outputs": []
    },
    {
      "cell_type": "code",
      "metadata": {
        "id": "FQ-lxMdQC1zB"
      },
      "source": [
        "top_k = 25\n",
        "\n",
        "interactions['prediction_popular'] = (\n",
        "    interactions.true_train\n",
        "    .apply(\n",
        "        lambda x:\n",
        "        popular_content[~np.in1d(popular_content, x)][:top_k]\n",
        "    )\n",
        ")"
      ],
      "execution_count": 16,
      "outputs": []
    },
    {
      "cell_type": "code",
      "metadata": {
        "id": "xFPOdwxQC1zB"
      },
      "source": [
        "# подсчет precision@100\n",
        "def calc_precision(column):\n",
        "    return (\n",
        "        interactions\n",
        "        .apply(\n",
        "            lambda row:\n",
        "            len(set(row['true_test']).intersection(\n",
        "                set(row[column]))) /\n",
        "            min(len(row['true_test']) + 0.001, 25.0),\n",
        "            axis=1)).mean()"
      ],
      "execution_count": 92,
      "outputs": []
    },
    {
      "cell_type": "code",
      "metadata": {
        "colab": {
          "base_uri": "https://localhost:8080/"
        },
        "id": "r1bdmquPC1zC",
        "outputId": "c711ddb8-a4c8-40ea-eaa9-751a3778ba60"
      },
      "source": [
        "calc_precision('prediction_popular')"
      ],
      "execution_count": 18,
      "outputs": [
        {
          "output_type": "execute_result",
          "data": {
            "text/plain": [
              "0.0024559706355812803"
            ]
          },
          "metadata": {
            "tags": []
          },
          "execution_count": 18
        }
      ]
    },
    {
      "cell_type": "code",
      "metadata": {
        "id": "B1ujgf7nC1zC"
      },
      "source": [
        "# финансовый плюс@50\n",
        "price_dict = pd.DataFrame({'price':interactions_full_df.groupby('product_id').mean()['price']}, \n",
        "                          index=interactions_full_df.groupby('product_id').mean().index).to_dict()\n",
        "\n",
        "def proceeds(column):\n",
        "    res = []\n",
        "    for i in interactions.apply(lambda row:\n",
        "            set(row['true_test']).intersection(set(row[column])), axis=1):\n",
        "        res.extend(i)\n",
        "    return sum([price_dict['price'][i] for i in res])"
      ],
      "execution_count": 93,
      "outputs": []
    },
    {
      "cell_type": "code",
      "metadata": {
        "colab": {
          "base_uri": "https://localhost:8080/"
        },
        "id": "psA9FeKFC1zD",
        "outputId": "3bbae850-5258-4f64-8ac6-0e85b3c14b23"
      },
      "source": [
        "proceeds('prediction_popular') #выигрыш в денежном вырадении"
      ],
      "execution_count": 20,
      "outputs": [
        {
          "output_type": "execute_result",
          "data": {
            "text/plain": [
              "77918.2274051107"
            ]
          },
          "metadata": {
            "tags": []
          },
          "execution_count": 20
        }
      ]
    },
    {
      "cell_type": "code",
      "metadata": {
        "colab": {
          "base_uri": "https://localhost:8080/"
        },
        "id": "Lv8sbMlqC1zD",
        "outputId": "b39ca57e-fff1-4b57-dee3-7175e4dc47c5"
      },
      "source": [
        "proceeds('prediction_popular')/proceeds('true_test')*100 # выигрыш в процентном выражении относительно выручки теста"
      ],
      "execution_count": 21,
      "outputs": [
        {
          "output_type": "execute_result",
          "data": {
            "text/plain": [
              "1.2382184671679122"
            ]
          },
          "metadata": {
            "tags": []
          },
          "execution_count": 21
        }
      ]
    },
    {
      "cell_type": "markdown",
      "metadata": {
        "id": "dJCDyOu5C1zD"
      },
      "source": [
        "## Memory-based collaborative filtering"
      ]
    },
    {
      "cell_type": "code",
      "metadata": {
        "id": "nUiDshHfC1zE"
      },
      "source": [
        "interactions_train_df['eventStrength']=np.ones(interactions_train_df.shape[0])"
      ],
      "execution_count": 27,
      "outputs": []
    },
    {
      "cell_type": "code",
      "metadata": {
        "id": "tv4g-tQxC1zE"
      },
      "source": [
        "ratings = pd.pivot_table(\n",
        "    interactions_train_df,\n",
        "    values='eventStrength',\n",
        "    index='user_id',\n",
        "    columns='product_id').fillna(0)"
      ],
      "execution_count": 28,
      "outputs": []
    },
    {
      "cell_type": "code",
      "metadata": {
        "id": "gPWmJKIvC1zE"
      },
      "source": [
        "ratings_m = ratings.values"
      ],
      "execution_count": 29,
      "outputs": []
    },
    {
      "cell_type": "code",
      "metadata": {
        "id": "lA9lYpFLC1zE"
      },
      "source": [
        "# матрица корреляций\n",
        "similarity_users = np.corrcoef(ratings_m)"
      ],
      "execution_count": 47,
      "outputs": []
    },
    {
      "cell_type": "code",
      "metadata": {
        "colab": {
          "base_uri": "https://localhost:8080/",
          "height": 66,
          "referenced_widgets": [
            "39efdacb55424a8baf98cbb326d7fbb8",
            "e4d50e53290b4cc986843e5357832ced",
            "bf76cca304db4a1e91ae4de197af70b3",
            "7d4bfa1708994a64a914667929158d88",
            "cdd502b62bb94230acf381745d64b8e9",
            "74aed06317d0473eb7d33808e5ad1f2a",
            "830e23b79d2f415087cb0c647496e7c3",
            "97d5264961404c98ae7922c6cbafa044"
          ]
        },
        "id": "AXyyPwNzC1zF",
        "outputId": "e93c1d28-58ce-4ba9-9a88-e84125b1e934"
      },
      "source": [
        "prediction_user_based = []\n",
        "for i in tqdm(range(len(similarity_users))):\n",
        "    users_sim = similarity_users[i] > 0\n",
        "    if len(users_sim) == 0:\n",
        "        prediction_user_based.append([])\n",
        "    else:\n",
        "        tmp_recommend = np.argsort(ratings_m[users_sim].sum(axis=0))[::-1]\n",
        "        tmp_recommend = ratings.columns[tmp_recommend]\n",
        "        recommend = np.array(tmp_recommend)[~np.in1d(tmp_recommend, interactions.iloc[i])][:25]\n",
        "        prediction_user_based.append(list(recommend))\n",
        "interactions['prediction_user_based'] = prediction_user_based"
      ],
      "execution_count": 48,
      "outputs": [
        {
          "output_type": "display_data",
          "data": {
            "application/vnd.jupyter.widget-view+json": {
              "model_id": "39efdacb55424a8baf98cbb326d7fbb8",
              "version_minor": 0,
              "version_major": 2
            },
            "text/plain": [
              "HBox(children=(FloatProgress(value=0.0, max=17238.0), HTML(value='')))"
            ]
          },
          "metadata": {
            "tags": []
          }
        },
        {
          "output_type": "stream",
          "text": [
            "\n"
          ],
          "name": "stdout"
        }
      ]
    },
    {
      "cell_type": "code",
      "metadata": {
        "colab": {
          "base_uri": "https://localhost:8080/"
        },
        "id": "gZKF4bBEC1zF",
        "outputId": "8987c85e-195f-4512-f7d7-32a3d575bbd7"
      },
      "source": [
        "calc_precision('prediction_user_based')"
      ],
      "execution_count": 49,
      "outputs": [
        {
          "output_type": "execute_result",
          "data": {
            "text/plain": [
              "0.007665108387843075"
            ]
          },
          "metadata": {
            "tags": []
          },
          "execution_count": 49
        }
      ]
    },
    {
      "cell_type": "code",
      "metadata": {
        "colab": {
          "base_uri": "https://localhost:8080/"
        },
        "id": "Sat-1wnpC1zH",
        "outputId": "f9253647-8f93-45f5-bd1c-9781269c877b"
      },
      "source": [
        "proceeds('prediction_user_based') #выигрыш в денежном вырадении"
      ],
      "execution_count": 50,
      "outputs": [
        {
          "output_type": "execute_result",
          "data": {
            "text/plain": [
              "187477.24884838736"
            ]
          },
          "metadata": {
            "tags": []
          },
          "execution_count": 50
        }
      ]
    },
    {
      "cell_type": "code",
      "metadata": {
        "colab": {
          "base_uri": "https://localhost:8080/"
        },
        "id": "s9ilhbiPC1zH",
        "outputId": "5620786a-a118-49f1-f2a1-859d4c83ee3d"
      },
      "source": [
        "proceeds('prediction_user_based')/proceeds('true_test')*100 # выигрыш в процентном выражении относительно выручки теста"
      ],
      "execution_count": 51,
      "outputs": [
        {
          "output_type": "execute_result",
          "data": {
            "text/plain": [
              "2.979248879610439"
            ]
          },
          "metadata": {
            "tags": []
          },
          "execution_count": 51
        }
      ]
    },
    {
      "cell_type": "markdown",
      "metadata": {
        "id": "qUyNHLHAC1zH"
      },
      "source": [
        "## Модель разложения со скрытыми переменными"
      ]
    },
    {
      "cell_type": "code",
      "metadata": {
        "colab": {
          "base_uri": "https://localhost:8080/"
        },
        "id": "O6TCFbWhC1zH",
        "outputId": "838e7f1d-1bbc-4eca-f74a-16cae72be63b"
      },
      "source": [
        "U, sigma, V = svd(ratings)\n",
        "print(ratings.shape, U.shape, sigma.shape, V.shape)"
      ],
      "execution_count": 30,
      "outputs": [
        {
          "output_type": "stream",
          "text": [
            "(17238, 17171) (17238, 17238) (17171,) (17171, 17171)\n"
          ],
          "name": "stdout"
        }
      ]
    },
    {
      "cell_type": "code",
      "metadata": {
        "id": "-iwu_PolC1zI"
      },
      "source": [
        "# K наиболее важных компонент\n",
        "K = 400\n",
        "sigma[K:] = 0\n",
        "Sigma = np.zeros((17238, 17171))\n",
        "Sigma[:17171, :17171] = np.diag(sigma)"
      ],
      "execution_count": 31,
      "outputs": []
    },
    {
      "cell_type": "code",
      "metadata": {
        "colab": {
          "base_uri": "https://localhost:8080/"
        },
        "id": "1AL0kCnQC1zI",
        "outputId": "377c1548-ceca-4363-add9-9b047225642f"
      },
      "source": [
        "new_ratings = U.dot(Sigma).dot(V)\n",
        "print(sum(sum((new_ratings - ratings.values) ** 2)))\n",
        "print(sum(sum((ratings.values.mean() - ratings.values) ** 2)))"
      ],
      "execution_count": 32,
      "outputs": [
        {
          "output_type": "stream",
          "text": [
            "128591.15027110193\n",
            "250829.08301499774\n"
          ],
          "name": "stdout"
        }
      ]
    },
    {
      "cell_type": "code",
      "metadata": {
        "colab": {
          "base_uri": "https://localhost:8080/",
          "height": 66,
          "referenced_widgets": [
            "f91aad0b96734cfd8e97528a7c35d949",
            "616a1a0fbf964801bc32404cb1b4d48d",
            "b17d90ec36ef4732ae7850f79201dfb8",
            "e9848bcf9ed64274adb7800baf2cb4d3",
            "75ae0cc0947e47fa9283ebf18ad0508d",
            "05a24973f5984ba188ef3e9f4cc39eb4",
            "938dd21d3cc347c1bc3fd90aec66aa11",
            "e1ccd2d34f77409eb31507261335b9b9"
          ]
        },
        "id": "Q5xS40W6C1zI",
        "outputId": "86496cb3-570c-46cc-a877-afbb6e911803"
      },
      "source": [
        "top_k = 25\n",
        "\n",
        "new_ratings = pd.DataFrame(new_ratings, index=ratings.index, columns=ratings.columns)\n",
        "\n",
        "predictions = []\n",
        "for user_id in tqdm(interactions.index):\n",
        "    prediction = (\n",
        "        new_ratings\n",
        "        .loc[user_id]\n",
        "        .sort_values(ascending=False)\n",
        "        .index.values\n",
        "    )\n",
        "    \n",
        "    predictions.append(\n",
        "        list(prediction[~np.in1d(\n",
        "            prediction,\n",
        "            interactions.loc[user_id, 'true_train'])])[:top_k])\n",
        "interactions['prediction_svd'] = predictions"
      ],
      "execution_count": 33,
      "outputs": [
        {
          "output_type": "display_data",
          "data": {
            "application/vnd.jupyter.widget-view+json": {
              "model_id": "f91aad0b96734cfd8e97528a7c35d949",
              "version_minor": 0,
              "version_major": 2
            },
            "text/plain": [
              "HBox(children=(FloatProgress(value=0.0, max=17238.0), HTML(value='')))"
            ]
          },
          "metadata": {
            "tags": []
          }
        },
        {
          "output_type": "stream",
          "text": [
            "\n"
          ],
          "name": "stdout"
        }
      ]
    },
    {
      "cell_type": "code",
      "metadata": {
        "colab": {
          "base_uri": "https://localhost:8080/"
        },
        "id": "QVk_AKvhC1zI",
        "outputId": "4a0a5443-0e1c-4649-eaa5-8cbcd3fed1db"
      },
      "source": [
        "calc_precision('prediction_svd')"
      ],
      "execution_count": 34,
      "outputs": [
        {
          "output_type": "execute_result",
          "data": {
            "text/plain": [
              "0.0060969330331789645"
            ]
          },
          "metadata": {
            "tags": []
          },
          "execution_count": 34
        }
      ]
    },
    {
      "cell_type": "code",
      "metadata": {
        "colab": {
          "base_uri": "https://localhost:8080/"
        },
        "id": "dl2cbnEPC1zI",
        "outputId": "68199530-631a-4a30-fd23-d6ecc9b91580"
      },
      "source": [
        "proceeds('prediction_svd') #выигрыш в денежном вырадении"
      ],
      "execution_count": 35,
      "outputs": [
        {
          "output_type": "execute_result",
          "data": {
            "text/plain": [
              "63971.8797937698"
            ]
          },
          "metadata": {
            "tags": []
          },
          "execution_count": 35
        }
      ]
    },
    {
      "cell_type": "code",
      "metadata": {
        "colab": {
          "base_uri": "https://localhost:8080/"
        },
        "id": "AxDoUhg2C1zJ",
        "outputId": "335b0f39-2541-46ae-d696-9daf379fdfdf"
      },
      "source": [
        "proceeds('prediction_svd')/proceeds('true_test')*100 # выигрыш в процентном выражении относительно выручки теста"
      ],
      "execution_count": 36,
      "outputs": [
        {
          "output_type": "execute_result",
          "data": {
            "text/plain": [
              "1.016593492665826"
            ]
          },
          "metadata": {
            "tags": []
          },
          "execution_count": 36
        }
      ]
    },
    {
      "cell_type": "markdown",
      "metadata": {
        "id": "UG_h9Kt8Ap7Q"
      },
      "source": [
        "## FM"
      ]
    },
    {
      "cell_type": "code",
      "metadata": {
        "colab": {
          "base_uri": "https://localhost:8080/",
          "height": 66,
          "referenced_widgets": [
            "732e0e9102c549e198aa8d2a1b6a6115",
            "1b8b48b4bfbc404987039b1182727363",
            "a0bf7e10a87a41889e67bb23ec93f8fb",
            "34a65f36fb044532a7f4ab35e2081250",
            "de3a16289ec8405d8ba46033845e33d4",
            "6205ed3eefa94cc0bdfe42e7b9fb9f34",
            "2d05a394056a4d8589e459b0a0f9b94c",
            "5ab1b847b89b46879666504ae2c660a5"
          ]
        },
        "id": "yYT93HVXAp7R",
        "outputId": "0d68c260-2db8-4a9e-f6ea-31c49d6972e5"
      },
      "source": [
        "products = interactions_full_df.product_id.unique()\n",
        "predictionsss = []\n",
        "for user in tqdm(interactions.index):\n",
        "    X_test_dict = []\n",
        "    for item in products:\n",
        "        X_test_dict += [{'user': str(user), 'item': str(item)}]\n",
        "    X_test = v.transform(X_test_dict)\n",
        "    pred = fm.predict(X_test)\n",
        "    test = pd.DataFrame({'product_id':products, 'prediction':pred})\n",
        "    predictionsss.append(test.sort_values('prediction', ascending=False)['product_id'][:25])\n",
        "    \n",
        "interactions['prediction_fm'] = predictionsss"
      ],
      "execution_count": 94,
      "outputs": [
        {
          "output_type": "display_data",
          "data": {
            "application/vnd.jupyter.widget-view+json": {
              "model_id": "732e0e9102c549e198aa8d2a1b6a6115",
              "version_minor": 0,
              "version_major": 2
            },
            "text/plain": [
              "HBox(children=(FloatProgress(value=0.0, max=17238.0), HTML(value='')))"
            ]
          },
          "metadata": {
            "tags": []
          }
        },
        {
          "output_type": "stream",
          "text": [
            "\n"
          ],
          "name": "stdout"
        }
      ]
    },
    {
      "cell_type": "code",
      "metadata": {
        "colab": {
          "base_uri": "https://localhost:8080/"
        },
        "id": "XBEsLmGeAp7S",
        "outputId": "1dcbfd04-92f0-4568-9574-518de512ad9e"
      },
      "source": [
        "calc_precision('prediction_fm')"
      ],
      "execution_count": 95,
      "outputs": [
        {
          "output_type": "execute_result",
          "data": {
            "text/plain": [
              "0.00028061267831054555"
            ]
          },
          "metadata": {
            "tags": []
          },
          "execution_count": 95
        }
      ]
    },
    {
      "cell_type": "code",
      "metadata": {
        "colab": {
          "base_uri": "https://localhost:8080/"
        },
        "id": "v_ZGsLJMAp7T",
        "outputId": "0c1984c4-178f-4f90-c1b5-d7e0475dd59f"
      },
      "source": [
        "proceeds('prediction_fm') #выигрыш в денежном вырадении"
      ],
      "execution_count": 96,
      "outputs": [
        {
          "output_type": "execute_result",
          "data": {
            "text/plain": [
              "3727.3492327961876"
            ]
          },
          "metadata": {
            "tags": []
          },
          "execution_count": 96
        }
      ]
    },
    {
      "cell_type": "code",
      "metadata": {
        "colab": {
          "base_uri": "https://localhost:8080/"
        },
        "id": "GBHmZ03MAp7T",
        "outputId": "09c5d843-ff7b-47f2-e3de-def94b2d42c0"
      },
      "source": [
        "proceeds('prediction_fm')/proceeds('true_test')*100 # выигрыш в процентном выражении относительно выручки теста"
      ],
      "execution_count": 97,
      "outputs": [
        {
          "output_type": "execute_result",
          "data": {
            "text/plain": [
              "0.05923225934846755"
            ]
          },
          "metadata": {
            "tags": []
          },
          "execution_count": 97
        }
      ]
    },
    {
      "cell_type": "markdown",
      "metadata": {
        "id": "m2pZRqg5oosU"
      },
      "source": [
        "## Light FM"
      ]
    },
    {
      "cell_type": "code",
      "metadata": {
        "id": "GqoVGTkSoosU"
      },
      "source": [
        "fin_pred = pred.reshape((len_users,len_items)).argsort()[::-1][:,:25]"
      ],
      "execution_count": 60,
      "outputs": []
    },
    {
      "cell_type": "code",
      "metadata": {
        "colab": {
          "base_uri": "https://localhost:8080/",
          "height": 66,
          "referenced_widgets": [
            "d155f2f97e2d449cb6826aca20fb811c",
            "c78be393282c4008aec3540e6e5e1d32",
            "cfccc3bacabe4eb696a93b7b3b95958e",
            "6a755b2a309d4fcaa7ec757d3b18b48a",
            "c64c7abc89fa4e6c98f31c6127b1a6ae",
            "380f59da9297415f9d99abb2f568a1c0",
            "c80a307d167046188b88f003eca0cf51",
            "e36898e6674d4f95a28b2bf3db242e57"
          ]
        },
        "id": "wUoxkm4KoosU",
        "outputId": "9e191100-ffa8-4fda-88cf-0a52653b8d62"
      },
      "source": [
        "top_k = 25\n",
        "\n",
        "tmp_predictions = []\n",
        "\n",
        "for (n, personId) in tqdm(userss.items()):\n",
        "    if personId in interactions.index:\n",
        "      prediction = np.asarray([itemss[i] for i in fin_pred[n]])\n",
        "      \n",
        "      tmp_predictions.append(\n",
        "          list(prediction[~np.in1d(\n",
        "              prediction,\n",
        "              interactions.loc[personId, 'true_train'])])[:top_k])\n",
        "\n",
        "    \n",
        "interactions['prediction_content'] = tmp_predictions"
      ],
      "execution_count": 61,
      "outputs": [
        {
          "output_type": "display_data",
          "data": {
            "application/vnd.jupyter.widget-view+json": {
              "model_id": "d155f2f97e2d449cb6826aca20fb811c",
              "version_minor": 0,
              "version_major": 2
            },
            "text/plain": [
              "HBox(children=(FloatProgress(value=0.0, max=17704.0), HTML(value='')))"
            ]
          },
          "metadata": {
            "tags": []
          }
        },
        {
          "output_type": "stream",
          "text": [
            "\n"
          ],
          "name": "stdout"
        }
      ]
    },
    {
      "cell_type": "code",
      "metadata": {
        "colab": {
          "base_uri": "https://localhost:8080/"
        },
        "id": "u20S8Xo8oosV",
        "outputId": "8511f7b7-8837-4510-ad11-388d9afc5b6b"
      },
      "source": [
        "calc_precision('prediction_content')"
      ],
      "execution_count": 62,
      "outputs": [
        {
          "output_type": "execute_result",
          "data": {
            "text/plain": [
              "0.00010028533181060694"
            ]
          },
          "metadata": {
            "tags": []
          },
          "execution_count": 62
        }
      ]
    },
    {
      "cell_type": "code",
      "metadata": {
        "colab": {
          "base_uri": "https://localhost:8080/"
        },
        "id": "0FhlloOHoosV",
        "outputId": "824d8c04-37a3-4904-f7ad-999e1ac611d6"
      },
      "source": [
        "proceeds('prediction_content') #выигрыш в денежном вырадении"
      ],
      "execution_count": 63,
      "outputs": [
        {
          "output_type": "execute_result",
          "data": {
            "text/plain": [
              "842.1030256410255"
            ]
          },
          "metadata": {
            "tags": []
          },
          "execution_count": 63
        }
      ]
    },
    {
      "cell_type": "code",
      "metadata": {
        "colab": {
          "base_uri": "https://localhost:8080/"
        },
        "id": "VujmO1d-oosW",
        "outputId": "770264bd-ced8-4c73-82c8-64ed43463f64"
      },
      "source": [
        "proceeds('prediction_content')/proceeds('true_test')*100 # выигрыш в процентном выражении относительно выручки теста"
      ],
      "execution_count": 64,
      "outputs": [
        {
          "output_type": "execute_result",
          "data": {
            "text/plain": [
              "0.01338207441739492"
            ]
          },
          "metadata": {
            "tags": []
          },
          "execution_count": 64
        }
      ]
    },
    {
      "cell_type": "markdown",
      "metadata": {
        "id": "EQmOjrmaw1rS"
      },
      "source": [
        "# Result analisys"
      ]
    },
    {
      "cell_type": "code",
      "metadata": {
        "id": "vB6uEYghv1z2"
      },
      "source": [
        "# prec\n",
        "k = [10, 25, 50, 100]\n",
        "base = [0.0005860024419242492, 0.0024559706355812803, 0.00664422910858329, 0.012376897860019581]\n",
        "Item_based = [0.0036360613333033106, 0.007665108387843075, 0.013309346379243307, 0.02075173199921388]\n",
        "Svd = [0.003869806707793473, 0.0060969330331789645, 0.00895510917378739, 0.01368590581891613]\n",
        "pyfm = [8.801826662361938e-05, 0.00028061267831054555, 0.0005532867581376957, 0.001148866568598332]\n",
        "lightfm = [3.4387646666087006e-05, 0.00010028533181060694, 0.0005451221333909937, 0.0010883984537172085]"
      ],
      "execution_count": null,
      "outputs": []
    },
    {
      "cell_type": "code",
      "metadata": {
        "colab": {
          "base_uri": "https://localhost:8080/",
          "height": 296
        },
        "id": "ZgXL6dHDAQ6A",
        "outputId": "c8eab7a7-5bff-48d4-efbc-6d4587c3f573"
      },
      "source": [
        "plt.plot(k,base,k,Item_based,k,Svd,k,pyfm,k,lightfm)\n",
        "plt.legend(['Base model', 'Item-based', 'Matrix factorization', 'PYFM', 'LightFM'])\n",
        "plt.xlabel('Number of products in recommendations (k)')\n",
        "plt.ylabel('precision@k score')"
      ],
      "execution_count": null,
      "outputs": [
        {
          "output_type": "execute_result",
          "data": {
            "text/plain": [
              "Text(0, 0.5, 'precision@k score')"
            ]
          },
          "metadata": {
            "tags": []
          },
          "execution_count": 13
        },
        {
          "output_type": "display_data",
          "data": {
            "image/png": "[encoded data removed]",
            "text/plain": [
              "<Figure size 432x288 with 1 Axes>"
            ]
          },
          "metadata": {
            "tags": [],
            "needs_background": "light"
          }
        }
      ]
    },
    {
      "cell_type": "code",
      "metadata": {
        "id": "NlIFLw3RAm_0"
      },
      "source": [
        "# proceeds\n",
        "k = [10, 25, 50, 100]\n",
        "base = [13148.054013656954, 77918.2274051107, 251192.68625825358, 438791.21562375437]\n",
        "Item_based = [68480.28497087724, 187477.24884838736, 311622.83492096135, 488517.82455295936]\n",
        "Svd = [33022.86034778828, 63971.8797937698, 105037.58617962904, 193032.38747064144]\n",
        "pyfm = [1123.1032051282052, 3727.3492327961876, 4942.543994700953, 16867.062547922236]\n",
        "lightfm = [183.94533333333334, 842.1030256410255, 7901.519660256409, 28146.00963696448]"
      ],
      "execution_count": null,
      "outputs": []
    },
    {
      "cell_type": "code",
      "metadata": {
        "colab": {
          "base_uri": "https://localhost:8080/",
          "height": 320
        },
        "id": "fnnuLxL7Yb6C",
        "outputId": "caf285c3-7497-4ba3-870a-a9fe98fffb8a"
      },
      "source": [
        "plt.plot(k,np.array(base)/1000,k,np.array(Item_based)/1000,k,np.array(Svd)/1000,k,np.array(pyfm)/1000,k,np.array(lightfm)/1000)\n",
        "plt.legend(['Base model', 'Item-based', 'Matrix factorization', 'PYFM', 'LightFM'])\n",
        "plt.xlabel('Number of products in recommendations (k)')\n",
        "plt.ylabel('Revenue from recommendations in thousands of c.u.')"
      ],
      "execution_count": null,
      "outputs": [
        {
          "output_type": "execute_result",
          "data": {
            "text/plain": [
              "Text(0, 0.5, 'Revenue from recommendations in thousands of c.u.')"
            ]
          },
          "metadata": {
            "tags": []
          },
          "execution_count": 22
        },
        {
          "output_type": "display_data",
          "data": {
            "image/png": "[encoded data removed]",
            "text/plain": [
              "<Figure size 432x288 with 1 Axes>"
            ]
          },
          "metadata": {
            "tags": [],
            "needs_background": "light"
          }
        }
      ]
    },
    {
      "cell_type": "code",
      "metadata": {
        "id": "j9vAd7pPWloE"
      },
      "source": [
        "# proceeds in %\n",
        "k = [10, 25, 50, 100]\n",
        "base = [0.20893908690180757, 1.2382184671679122, 3.99176718080838, 6.972943360114906]\n",
        "Item_based = [1.0882377116589765, 2.979248879610439, 4.952078118823369, 7.763161612458515]\n",
        "Svd = [0.5247747142494218, 1.016593492665826, 1.669179129013747, 3.067527007319765]\n",
        "pyfm = [0.017847520091736613, 0.05923225934846755, 0.07854322990703934, 0.2680388020780835]\n",
        "lightfm = [0.0029231223074224024, 0.01338207441739492, 0.12556506850639787, 0.44727543310731877]"
      ],
      "execution_count": null,
      "outputs": []
    },
    {
      "cell_type": "code",
      "metadata": {
        "colab": {
          "base_uri": "https://localhost:8080/",
          "height": 317
        },
        "id": "yub8mJ2Dss5z",
        "outputId": "bb97c5c4-e7fc-4b50-b5e4-1792b0808aef"
      },
      "source": [
        "plt.plot(k,base,k,Item_based,k,Svd,k,pyfm,k,lightfm)\n",
        "plt.legend(['Base model', 'Item-based', 'Matrix factorization', 'PYFM', 'LightFM'])\n",
        "plt.xlabel('Number of products in recommendations (k)')\n",
        "plt.ylabel('Revenue from recommendations / total revenue (%)')"
      ],
      "execution_count": null,
      "outputs": [
        {
          "output_type": "execute_result",
          "data": {
            "text/plain": [
              "Text(0, 0.5, 'Revenue from recommendations / total revenue (%)')"
            ]
          },
          "metadata": {
            "tags": []
          },
          "execution_count": 27
        },
        {
          "output_type": "display_data",
          "data": {
            "image/png": "[encoded data removed]",
            "text/plain": [
              "<Figure size 432x288 with 1 Axes>"
            ]
          },
          "metadata": {
            "tags": [],
            "needs_background": "light"
          }
        }
      ]
    }
  ]
}